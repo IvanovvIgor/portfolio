{
 "cells": [
  {
   "cell_type": "markdown",
   "metadata": {
    "id": "sIfNaMOxgFyK"
   },
   "source": [
    "# Исследование данных о российском кинопрокате\n",
    "\n"
   ]
  },
  {
   "cell_type": "markdown",
   "metadata": {},
   "source": [
    "**Заказчик этого исследования — Министерство культуры Российской Федерации.**\n",
    "\n",
    "**Цель проекта.**\n",
    "\n",
    "* Задача - изучить рынок российского кинопроката и выявить текущие тренды. Уделить внимание фильмам, которые получили государственную поддержку. Ответить на вопрос, насколько такие фильмы интересны зрителю.\n",
    "\n",
    "**Описание данных**\n",
    "\n",
    "* Данные, опубликованы на портале открытых данных Министерства культуры. Набор данных содержит информацию о прокатных удостоверениях, сборах и государственной поддержке фильмов, а также информацию с сайта КиноПоиск.\n",
    "\n",
    "**План работы**\n",
    "\n",
    "* Открыть файлы с данными и объедините их в один датафрейм.\n",
    "* Предобработка данных.\n",
    "* Исследовательский анализ данных.\n",
    "* Исследовательский анализ данных о фильмах получивших поддержку.\n"
   ]
  },
  {
   "cell_type": "markdown",
   "metadata": {
    "id": "3bSlkCsbgFyL"
   },
   "source": [
    "## Откройте файлы с данными и объедините их в один датафрейм. "
   ]
  },
  {
   "cell_type": "markdown",
   "metadata": {},
   "source": [
    "### Импортируем нужные для исследования библиотеки и определяем формат вывода таблиц. "
   ]
  },
  {
   "cell_type": "code",
   "execution_count": 1,
   "metadata": {},
   "outputs": [],
   "source": [
    "import pandas as pd\n",
    "import numpy as np \n",
    "import statistics as stat\n",
    "from matplotlib import pyplot as plt\n",
    "import seaborn as sns\n",
    "from pymystem3 import Mystem\n",
    "import warnings\n",
    "from datetime import timedelta, datetime"
   ]
  },
  {
   "cell_type": "code",
   "execution_count": 2,
   "metadata": {},
   "outputs": [],
   "source": [
    "pd.set_option('display.float_format', '{:.2f}'.format)"
   ]
  },
  {
   "cell_type": "markdown",
   "metadata": {},
   "source": [
    "###  Открываем файлы с данными и объединяем их в один датафрейм. "
   ]
  },
  {
   "cell_type": "code",
   "execution_count": 3,
   "metadata": {
    "id": "dw87FlzMgFyM"
   },
   "outputs": [
    {
     "data": {
      "text/html": [
       "<div>\n",
       "<style scoped>\n",
       "    .dataframe tbody tr th:only-of-type {\n",
       "        vertical-align: middle;\n",
       "    }\n",
       "\n",
       "    .dataframe tbody tr th {\n",
       "        vertical-align: top;\n",
       "    }\n",
       "\n",
       "    .dataframe thead th {\n",
       "        text-align: right;\n",
       "    }\n",
       "</style>\n",
       "<table border=\"1\" class=\"dataframe\">\n",
       "  <thead>\n",
       "    <tr style=\"text-align: right;\">\n",
       "      <th></th>\n",
       "      <th>title</th>\n",
       "      <th>puNumber</th>\n",
       "      <th>show_start_date</th>\n",
       "      <th>type</th>\n",
       "      <th>film_studio</th>\n",
       "      <th>production_country</th>\n",
       "      <th>director</th>\n",
       "      <th>producer</th>\n",
       "      <th>age_restriction</th>\n",
       "      <th>refundable_support</th>\n",
       "      <th>nonrefundable_support</th>\n",
       "      <th>budget</th>\n",
       "      <th>financing_source</th>\n",
       "      <th>ratings</th>\n",
       "      <th>genres</th>\n",
       "    </tr>\n",
       "  </thead>\n",
       "  <tbody>\n",
       "    <tr>\n",
       "      <th>0</th>\n",
       "      <td>Открытый простор</td>\n",
       "      <td>221048915</td>\n",
       "      <td>2015-11-27T12:00:00.000Z</td>\n",
       "      <td>Художественный</td>\n",
       "      <td>Тачстоун Пикчерз, Кобальт Пикчерз, Бикон Пикче...</td>\n",
       "      <td>США</td>\n",
       "      <td>Кевин Костнер</td>\n",
       "      <td>Дэвид Валдес, Кевин Костнер, Джейк Эбертс</td>\n",
       "      <td>«18+» - запрещено для детей</td>\n",
       "      <td>NaN</td>\n",
       "      <td>NaN</td>\n",
       "      <td>NaN</td>\n",
       "      <td>NaN</td>\n",
       "      <td>7.2</td>\n",
       "      <td>боевик,драма,мелодрама</td>\n",
       "    </tr>\n",
       "    <tr>\n",
       "      <th>1</th>\n",
       "      <td>Особо важное задание</td>\n",
       "      <td>111013716</td>\n",
       "      <td>2016-09-13T12:00:00.000Z</td>\n",
       "      <td>Художественный</td>\n",
       "      <td>Киностудия \"Мосфильм\"</td>\n",
       "      <td>СССР</td>\n",
       "      <td>Е.Матвеев</td>\n",
       "      <td>NaN</td>\n",
       "      <td>«6+» - для детей старше 6 лет</td>\n",
       "      <td>NaN</td>\n",
       "      <td>NaN</td>\n",
       "      <td>NaN</td>\n",
       "      <td>NaN</td>\n",
       "      <td>6.6</td>\n",
       "      <td>драма,военный</td>\n",
       "    </tr>\n",
       "    <tr>\n",
       "      <th>2</th>\n",
       "      <td>Особо опасен</td>\n",
       "      <td>221038416</td>\n",
       "      <td>2016-10-10T12:00:00.000Z</td>\n",
       "      <td>Художественный</td>\n",
       "      <td>Юниверсал Пикчерз, Кикстарт Продакшнз, Марк Пл...</td>\n",
       "      <td>США</td>\n",
       "      <td>Тимур Бекмамбетов</td>\n",
       "      <td>Джим Лемли, Джейсон Нетер, Марк Е.Платт, Яйн Смит</td>\n",
       "      <td>«18+» - запрещено для детей</td>\n",
       "      <td>NaN</td>\n",
       "      <td>NaN</td>\n",
       "      <td>NaN</td>\n",
       "      <td>NaN</td>\n",
       "      <td>6.8</td>\n",
       "      <td>фантастика,боевик,триллер</td>\n",
       "    </tr>\n",
       "    <tr>\n",
       "      <th>3</th>\n",
       "      <td>Особо опасен</td>\n",
       "      <td>221026916</td>\n",
       "      <td>2016-06-10T12:00:00.000Z</td>\n",
       "      <td>Художественный</td>\n",
       "      <td>Юниверсал Пикчерз, Кикстарт Продакшнз, Марк Пл...</td>\n",
       "      <td>США</td>\n",
       "      <td>Тимур Бекмамбетов</td>\n",
       "      <td>Джим Лемли, Джейсон Нетер, Марк Е.Платт, Яйн Смит</td>\n",
       "      <td>«18+» - запрещено для детей</td>\n",
       "      <td>NaN</td>\n",
       "      <td>NaN</td>\n",
       "      <td>NaN</td>\n",
       "      <td>NaN</td>\n",
       "      <td>6.8</td>\n",
       "      <td>фантастика,боевик,триллер</td>\n",
       "    </tr>\n",
       "    <tr>\n",
       "      <th>4</th>\n",
       "      <td>Особо опасен</td>\n",
       "      <td>221030815</td>\n",
       "      <td>2015-07-29T12:00:00.000Z</td>\n",
       "      <td>Художественный</td>\n",
       "      <td>Юниверсал Пикчерз, Кикстарт Продакшнз, Марк Пл...</td>\n",
       "      <td>США</td>\n",
       "      <td>Тимур Бекмамбетов</td>\n",
       "      <td>Джим Лемли, Джейсон Нетер, Марк Е.Платт, Яйн Смит</td>\n",
       "      <td>«18+» - запрещено для детей</td>\n",
       "      <td>NaN</td>\n",
       "      <td>NaN</td>\n",
       "      <td>NaN</td>\n",
       "      <td>NaN</td>\n",
       "      <td>6.8</td>\n",
       "      <td>фантастика,боевик,триллер</td>\n",
       "    </tr>\n",
       "  </tbody>\n",
       "</table>\n",
       "</div>"
      ],
      "text/plain": [
       "                  title   puNumber           show_start_date            type  \\\n",
       "0      Открытый простор  221048915  2015-11-27T12:00:00.000Z  Художественный   \n",
       "1  Особо важное задание  111013716  2016-09-13T12:00:00.000Z  Художественный   \n",
       "2          Особо опасен  221038416  2016-10-10T12:00:00.000Z  Художественный   \n",
       "3          Особо опасен  221026916  2016-06-10T12:00:00.000Z  Художественный   \n",
       "4          Особо опасен  221030815  2015-07-29T12:00:00.000Z  Художественный   \n",
       "\n",
       "                                         film_studio production_country  \\\n",
       "0  Тачстоун Пикчерз, Кобальт Пикчерз, Бикон Пикче...                США   \n",
       "1                              Киностудия \"Мосфильм\"               СССР   \n",
       "2  Юниверсал Пикчерз, Кикстарт Продакшнз, Марк Пл...                США   \n",
       "3  Юниверсал Пикчерз, Кикстарт Продакшнз, Марк Пл...                США   \n",
       "4  Юниверсал Пикчерз, Кикстарт Продакшнз, Марк Пл...                США   \n",
       "\n",
       "            director                                           producer  \\\n",
       "0      Кевин Костнер          Дэвид Валдес, Кевин Костнер, Джейк Эбертс   \n",
       "1          Е.Матвеев                                                NaN   \n",
       "2  Тимур Бекмамбетов  Джим Лемли, Джейсон Нетер, Марк Е.Платт, Яйн Смит   \n",
       "3  Тимур Бекмамбетов  Джим Лемли, Джейсон Нетер, Марк Е.Платт, Яйн Смит   \n",
       "4  Тимур Бекмамбетов  Джим Лемли, Джейсон Нетер, Марк Е.Платт, Яйн Смит   \n",
       "\n",
       "                 age_restriction  refundable_support  nonrefundable_support  \\\n",
       "0    «18+» - запрещено для детей                 NaN                    NaN   \n",
       "1  «6+» - для детей старше 6 лет                 NaN                    NaN   \n",
       "2    «18+» - запрещено для детей                 NaN                    NaN   \n",
       "3    «18+» - запрещено для детей                 NaN                    NaN   \n",
       "4    «18+» - запрещено для детей                 NaN                    NaN   \n",
       "\n",
       "   budget financing_source ratings                     genres  \n",
       "0     NaN              NaN     7.2     боевик,драма,мелодрама  \n",
       "1     NaN              NaN     6.6              драма,военный  \n",
       "2     NaN              NaN     6.8  фантастика,боевик,триллер  \n",
       "3     NaN              NaN     6.8  фантастика,боевик,триллер  \n",
       "4     NaN              NaN     6.8  фантастика,боевик,триллер  "
      ]
     },
     "execution_count": 3,
     "metadata": {},
     "output_type": "execute_result"
    }
   ],
   "source": [
    "df_1 = pd.read_csv('C:/Users/MSI/Desktop/projects_for_r/Исследовательский анализ данных/df/mkrf_movies.csv')\n",
    "df_1.head()"
   ]
  },
  {
   "cell_type": "code",
   "execution_count": 4,
   "metadata": {
    "scrolled": true
   },
   "outputs": [
    {
     "data": {
      "text/html": [
       "<div>\n",
       "<style scoped>\n",
       "    .dataframe tbody tr th:only-of-type {\n",
       "        vertical-align: middle;\n",
       "    }\n",
       "\n",
       "    .dataframe tbody tr th {\n",
       "        vertical-align: top;\n",
       "    }\n",
       "\n",
       "    .dataframe thead th {\n",
       "        text-align: right;\n",
       "    }\n",
       "</style>\n",
       "<table border=\"1\" class=\"dataframe\">\n",
       "  <thead>\n",
       "    <tr style=\"text-align: right;\">\n",
       "      <th></th>\n",
       "      <th>puNumber</th>\n",
       "      <th>box_office</th>\n",
       "    </tr>\n",
       "  </thead>\n",
       "  <tbody>\n",
       "    <tr>\n",
       "      <th>0</th>\n",
       "      <td>111000113</td>\n",
       "      <td>2450.00</td>\n",
       "    </tr>\n",
       "    <tr>\n",
       "      <th>1</th>\n",
       "      <td>111000115</td>\n",
       "      <td>61040.00</td>\n",
       "    </tr>\n",
       "    <tr>\n",
       "      <th>2</th>\n",
       "      <td>111000116</td>\n",
       "      <td>153030013.40</td>\n",
       "    </tr>\n",
       "    <tr>\n",
       "      <th>3</th>\n",
       "      <td>111000117</td>\n",
       "      <td>12260956.00</td>\n",
       "    </tr>\n",
       "    <tr>\n",
       "      <th>4</th>\n",
       "      <td>111000118</td>\n",
       "      <td>163684057.79</td>\n",
       "    </tr>\n",
       "  </tbody>\n",
       "</table>\n",
       "</div>"
      ],
      "text/plain": [
       "    puNumber   box_office\n",
       "0  111000113      2450.00\n",
       "1  111000115     61040.00\n",
       "2  111000116 153030013.40\n",
       "3  111000117  12260956.00\n",
       "4  111000118 163684057.79"
      ]
     },
     "execution_count": 4,
     "metadata": {},
     "output_type": "execute_result"
    }
   ],
   "source": [
    "df_2 = pd.read_csv('C:/Users/MSI/Desktop/projects_for_r/Исследовательский анализ данных/df/mkrf_shows.csv')\n",
    "df_2.head()"
   ]
  },
  {
   "cell_type": "code",
   "execution_count": 5,
   "metadata": {},
   "outputs": [
    {
     "name": "stdout",
     "output_type": "stream",
     "text": [
      "<class 'pandas.core.frame.DataFrame'>\n",
      "RangeIndex: 7486 entries, 0 to 7485\n",
      "Data columns (total 15 columns):\n",
      " #   Column                 Non-Null Count  Dtype  \n",
      "---  ------                 --------------  -----  \n",
      " 0   title                  7486 non-null   object \n",
      " 1   puNumber               7486 non-null   object \n",
      " 2   show_start_date        7486 non-null   object \n",
      " 3   type                   7486 non-null   object \n",
      " 4   film_studio            7468 non-null   object \n",
      " 5   production_country     7484 non-null   object \n",
      " 6   director               7477 non-null   object \n",
      " 7   producer               6918 non-null   object \n",
      " 8   age_restriction        7486 non-null   object \n",
      " 9   refundable_support     332 non-null    float64\n",
      " 10  nonrefundable_support  332 non-null    float64\n",
      " 11  budget                 332 non-null    float64\n",
      " 12  financing_source       332 non-null    object \n",
      " 13  ratings                6519 non-null   object \n",
      " 14  genres                 6510 non-null   object \n",
      "dtypes: float64(3), object(12)\n",
      "memory usage: 877.4+ KB\n"
     ]
    }
   ],
   "source": [
    "df_1.info()"
   ]
  },
  {
   "cell_type": "code",
   "execution_count": 6,
   "metadata": {
    "scrolled": false
   },
   "outputs": [
    {
     "name": "stdout",
     "output_type": "stream",
     "text": [
      "<class 'pandas.core.frame.DataFrame'>\n",
      "RangeIndex: 3158 entries, 0 to 3157\n",
      "Data columns (total 2 columns):\n",
      " #   Column      Non-Null Count  Dtype  \n",
      "---  ------      --------------  -----  \n",
      " 0   puNumber    3158 non-null   int64  \n",
      " 1   box_office  3158 non-null   float64\n",
      "dtypes: float64(1), int64(1)\n",
      "memory usage: 49.5 KB\n"
     ]
    }
   ],
   "source": [
    "df_2.info()"
   ]
  },
  {
   "cell_type": "markdown",
   "metadata": {},
   "source": [
    "* Объединяем датафреймы."
   ]
  },
  {
   "cell_type": "code",
   "execution_count": 7,
   "metadata": {},
   "outputs": [],
   "source": [
    "def check_int_convert(ls):\n",
    "    for value in ls:\n",
    "        try:\n",
    "            int(value)\n",
    "        except Exception as e:\n",
    "            print(e)"
   ]
  },
  {
   "cell_type": "code",
   "execution_count": 8,
   "metadata": {},
   "outputs": [
    {
     "name": "stdout",
     "output_type": "stream",
     "text": [
      "invalid literal for int() with base 10: 'нет'\n"
     ]
    }
   ],
   "source": [
    "check_int_convert(list(df_1['puNumber']))"
   ]
  },
  {
   "cell_type": "code",
   "execution_count": 9,
   "metadata": {},
   "outputs": [],
   "source": [
    "df_1['puNumber'] = df_1['puNumber']. where(df_1['puNumber'] != 'нет')\n",
    "df_1['puNumber'] = df_1['puNumber'].fillna(0)\n",
    "df_1['puNumber'] = df_1['puNumber'].astype('int')"
   ]
  },
  {
   "cell_type": "code",
   "execution_count": 10,
   "metadata": {},
   "outputs": [],
   "source": [
    "df = df_1.merge(df_2, on = 'puNumber', how = 'outer')"
   ]
  },
  {
   "cell_type": "code",
   "execution_count": 11,
   "metadata": {},
   "outputs": [
    {
     "name": "stdout",
     "output_type": "stream",
     "text": [
      "<class 'pandas.core.frame.DataFrame'>\n",
      "RangeIndex: 7486 entries, 0 to 7485\n",
      "Data columns (total 16 columns):\n",
      " #   Column                 Non-Null Count  Dtype  \n",
      "---  ------                 --------------  -----  \n",
      " 0   title                  7486 non-null   object \n",
      " 1   puNumber               7486 non-null   int32  \n",
      " 2   show_start_date        7486 non-null   object \n",
      " 3   type                   7486 non-null   object \n",
      " 4   film_studio            7468 non-null   object \n",
      " 5   production_country     7484 non-null   object \n",
      " 6   director               7477 non-null   object \n",
      " 7   producer               6918 non-null   object \n",
      " 8   age_restriction        7486 non-null   object \n",
      " 9   refundable_support     332 non-null    float64\n",
      " 10  nonrefundable_support  332 non-null    float64\n",
      " 11  budget                 332 non-null    float64\n",
      " 12  financing_source       332 non-null    object \n",
      " 13  ratings                6519 non-null   object \n",
      " 14  genres                 6510 non-null   object \n",
      " 15  box_office             3158 non-null   float64\n",
      "dtypes: float64(4), int32(1), object(11)\n",
      "memory usage: 906.6+ KB\n"
     ]
    }
   ],
   "source": [
    "df.info()"
   ]
  },
  {
   "cell_type": "markdown",
   "metadata": {},
   "source": [
    "* По условиям задания необходимо объединить данные таким образом, чтобы все объекты из датасета mkrf_movies обязательно вошли в получившийся датафрейм.\n",
    "\n",
    "* При объеденении датафреймов мы использовали метод merge(). Режим объединения задаётся параметром how (от англ. «как, каким образом»). Мы задали тип слияния outer (от англ. «внешний», здесь значит «объединение данных»). Он объединяет данные из внешней общей области — такие, которые есть хотя бы в одном из датафреймов.\n",
    "\n",
    "* Мы объединяли данные по столбцу df_1['puNumber'] (Номер прокатного удостоверения)\n",
    "\n",
    "* Получившийся в результате объединения датафрейм, содержит 7486 строк (как и датафрейм mkrf_movies), в связи с эти мы можем сделать вывод, что объединение датафреймов прошло корректно. "
   ]
  },
  {
   "cell_type": "markdown",
   "metadata": {
    "id": "KLDGpPG0gFyM"
   },
   "source": [
    "## Предобработка данных"
   ]
  },
  {
   "cell_type": "markdown",
   "metadata": {},
   "source": [
    "### Изучите пропуски в датафрейме"
   ]
  },
  {
   "cell_type": "markdown",
   "metadata": {},
   "source": [
    "- Объясните, почему заполнили пропуски определённым образом или почему не стали этого делать."
   ]
  },
  {
   "cell_type": "code",
   "execution_count": 12,
   "metadata": {
    "scrolled": false
   },
   "outputs": [
    {
     "data": {
      "text/plain": [
       "title                       0\n",
       "puNumber                    0\n",
       "show_start_date             0\n",
       "type                        0\n",
       "film_studio                18\n",
       "production_country          2\n",
       "director                    9\n",
       "producer                  568\n",
       "age_restriction             0\n",
       "refundable_support       7154\n",
       "nonrefundable_support    7154\n",
       "budget                   7154\n",
       "financing_source         7154\n",
       "ratings                   967\n",
       "genres                    976\n",
       "box_office               4328\n",
       "dtype: int64"
      ]
     },
     "execution_count": 12,
     "metadata": {},
     "output_type": "execute_result"
    }
   ],
   "source": [
    "df.isna().sum()"
   ]
  },
  {
   "cell_type": "markdown",
   "metadata": {},
   "source": [
    "**Пропуск означает отсутствие**\n",
    "* refundable_support - замением на 0\n",
    "* nonrefundable_support - заменяем на 0\n",
    "* financing_source - заменяем на 'unknown'"
   ]
  },
  {
   "cell_type": "markdown",
   "metadata": {},
   "source": [
    "\n",
    "* budget - замением на 0\n",
    "* ratings - замением на 0\n",
    "* box_office - замением на 0\n",
    "* producer - можно оставить пропуск\n",
    "* film_studio - можно оставить пропуск              \n",
    "* production_country - можно оставить пропуск\n",
    "* director - можно заменить на 'unknown'\n",
    "* genres - можно заменить на 'unknown'\n"
   ]
  },
  {
   "cell_type": "code",
   "execution_count": 13,
   "metadata": {},
   "outputs": [],
   "source": [
    "df['refundable_support'] = df['refundable_support'].fillna(0)\n",
    "df['nonrefundable_support'] = df['nonrefundable_support'].fillna(0)\n",
    "df['budget'] = df['budget'].fillna(0)\n",
    "df['ratings'] = df['ratings'].fillna(0)\n",
    "df['box_office'] = df['box_office'].fillna(0)\n",
    "\n",
    "df['financing_source'] = df['financing_source'].fillna('unknown')\n",
    "df['director'] = df['director'].fillna('unknown')\n",
    "df['producer'] = df['producer'].fillna('unknown') \n",
    "df['genres'] = df['genres'].fillna('unknown')\n",
    "df['film_studio'] = df['film_studio'].fillna('unknown')\n",
    "df['production_country'] = df['production_country'].fillna('unknown')"
   ]
  },
  {
   "cell_type": "code",
   "execution_count": 14,
   "metadata": {},
   "outputs": [
    {
     "data": {
      "text/plain": [
       "title                    0\n",
       "puNumber                 0\n",
       "show_start_date          0\n",
       "type                     0\n",
       "film_studio              0\n",
       "production_country       0\n",
       "director                 0\n",
       "producer                 0\n",
       "age_restriction          0\n",
       "refundable_support       0\n",
       "nonrefundable_support    0\n",
       "budget                   0\n",
       "financing_source         0\n",
       "ratings                  0\n",
       "genres                   0\n",
       "box_office               0\n",
       "dtype: int64"
      ]
     },
     "execution_count": 14,
     "metadata": {},
     "output_type": "execute_result"
    }
   ],
   "source": [
    "df.isna().sum()"
   ]
  },
  {
   "cell_type": "markdown",
   "metadata": {},
   "source": [
    "* budget, ratings, box_office  - Пропуски в указанных столбцах заменил на 0 для того, чтобы в указанных столбцах был единый тип данных, ноль означает отсутствие информации. \n",
    "\n",
    "* refundable_support, nonrefundable_support - Пропуски в указанных столбцах заменил на 0 для того, чтобы в указанных столбцах был единый тип данных, ноль означает, что поддержка не оказывалась.\n",
    "\n",
    "* financing_source, producer, film_studio, production_country, director, genres  - заменяем на 'unknown' для того, чтобы в указанных столбцах был единый тип данных, 'unknown' означает отсутствие информации. "
   ]
  },
  {
   "cell_type": "markdown",
   "metadata": {
    "id": "ssWwKXsxgFyO"
   },
   "source": [
    "### Проверьте типы данных\n",
    "\n",
    "- Проверьте типы данных в датафрейме и преобразуйте их там, где это необходимо."
   ]
  },
  {
   "cell_type": "code",
   "execution_count": 15,
   "metadata": {
    "id": "kVGSplJOgFyO",
    "scrolled": true
   },
   "outputs": [
    {
     "data": {
      "text/html": [
       "<div>\n",
       "<style scoped>\n",
       "    .dataframe tbody tr th:only-of-type {\n",
       "        vertical-align: middle;\n",
       "    }\n",
       "\n",
       "    .dataframe tbody tr th {\n",
       "        vertical-align: top;\n",
       "    }\n",
       "\n",
       "    .dataframe thead th {\n",
       "        text-align: right;\n",
       "    }\n",
       "</style>\n",
       "<table border=\"1\" class=\"dataframe\">\n",
       "  <thead>\n",
       "    <tr style=\"text-align: right;\">\n",
       "      <th></th>\n",
       "      <th>title</th>\n",
       "      <th>puNumber</th>\n",
       "      <th>show_start_date</th>\n",
       "      <th>type</th>\n",
       "      <th>film_studio</th>\n",
       "      <th>production_country</th>\n",
       "      <th>director</th>\n",
       "      <th>producer</th>\n",
       "      <th>age_restriction</th>\n",
       "      <th>refundable_support</th>\n",
       "      <th>nonrefundable_support</th>\n",
       "      <th>budget</th>\n",
       "      <th>financing_source</th>\n",
       "      <th>ratings</th>\n",
       "      <th>genres</th>\n",
       "      <th>box_office</th>\n",
       "    </tr>\n",
       "  </thead>\n",
       "  <tbody>\n",
       "    <tr>\n",
       "      <th>0</th>\n",
       "      <td>Открытый простор</td>\n",
       "      <td>221048915</td>\n",
       "      <td>2015-11-27T12:00:00.000Z</td>\n",
       "      <td>Художественный</td>\n",
       "      <td>Тачстоун Пикчерз, Кобальт Пикчерз, Бикон Пикче...</td>\n",
       "      <td>США</td>\n",
       "      <td>Кевин Костнер</td>\n",
       "      <td>Дэвид Валдес, Кевин Костнер, Джейк Эбертс</td>\n",
       "      <td>«18+» - запрещено для детей</td>\n",
       "      <td>0.00</td>\n",
       "      <td>0.00</td>\n",
       "      <td>0.00</td>\n",
       "      <td>unknown</td>\n",
       "      <td>7.2</td>\n",
       "      <td>боевик,драма,мелодрама</td>\n",
       "      <td>0.00</td>\n",
       "    </tr>\n",
       "    <tr>\n",
       "      <th>1</th>\n",
       "      <td>Особо важное задание</td>\n",
       "      <td>111013716</td>\n",
       "      <td>2016-09-13T12:00:00.000Z</td>\n",
       "      <td>Художественный</td>\n",
       "      <td>Киностудия \"Мосфильм\"</td>\n",
       "      <td>СССР</td>\n",
       "      <td>Е.Матвеев</td>\n",
       "      <td>unknown</td>\n",
       "      <td>«6+» - для детей старше 6 лет</td>\n",
       "      <td>0.00</td>\n",
       "      <td>0.00</td>\n",
       "      <td>0.00</td>\n",
       "      <td>unknown</td>\n",
       "      <td>6.6</td>\n",
       "      <td>драма,военный</td>\n",
       "      <td>0.00</td>\n",
       "    </tr>\n",
       "    <tr>\n",
       "      <th>2</th>\n",
       "      <td>Особо опасен</td>\n",
       "      <td>221038416</td>\n",
       "      <td>2016-10-10T12:00:00.000Z</td>\n",
       "      <td>Художественный</td>\n",
       "      <td>Юниверсал Пикчерз, Кикстарт Продакшнз, Марк Пл...</td>\n",
       "      <td>США</td>\n",
       "      <td>Тимур Бекмамбетов</td>\n",
       "      <td>Джим Лемли, Джейсон Нетер, Марк Е.Платт, Яйн Смит</td>\n",
       "      <td>«18+» - запрещено для детей</td>\n",
       "      <td>0.00</td>\n",
       "      <td>0.00</td>\n",
       "      <td>0.00</td>\n",
       "      <td>unknown</td>\n",
       "      <td>6.8</td>\n",
       "      <td>фантастика,боевик,триллер</td>\n",
       "      <td>0.00</td>\n",
       "    </tr>\n",
       "    <tr>\n",
       "      <th>3</th>\n",
       "      <td>Особо опасен</td>\n",
       "      <td>221026916</td>\n",
       "      <td>2016-06-10T12:00:00.000Z</td>\n",
       "      <td>Художественный</td>\n",
       "      <td>Юниверсал Пикчерз, Кикстарт Продакшнз, Марк Пл...</td>\n",
       "      <td>США</td>\n",
       "      <td>Тимур Бекмамбетов</td>\n",
       "      <td>Джим Лемли, Джейсон Нетер, Марк Е.Платт, Яйн Смит</td>\n",
       "      <td>«18+» - запрещено для детей</td>\n",
       "      <td>0.00</td>\n",
       "      <td>0.00</td>\n",
       "      <td>0.00</td>\n",
       "      <td>unknown</td>\n",
       "      <td>6.8</td>\n",
       "      <td>фантастика,боевик,триллер</td>\n",
       "      <td>0.00</td>\n",
       "    </tr>\n",
       "    <tr>\n",
       "      <th>4</th>\n",
       "      <td>Особо опасен</td>\n",
       "      <td>221030815</td>\n",
       "      <td>2015-07-29T12:00:00.000Z</td>\n",
       "      <td>Художественный</td>\n",
       "      <td>Юниверсал Пикчерз, Кикстарт Продакшнз, Марк Пл...</td>\n",
       "      <td>США</td>\n",
       "      <td>Тимур Бекмамбетов</td>\n",
       "      <td>Джим Лемли, Джейсон Нетер, Марк Е.Платт, Яйн Смит</td>\n",
       "      <td>«18+» - запрещено для детей</td>\n",
       "      <td>0.00</td>\n",
       "      <td>0.00</td>\n",
       "      <td>0.00</td>\n",
       "      <td>unknown</td>\n",
       "      <td>6.8</td>\n",
       "      <td>фантастика,боевик,триллер</td>\n",
       "      <td>0.00</td>\n",
       "    </tr>\n",
       "    <tr>\n",
       "      <th>5</th>\n",
       "      <td>Остановился поезд</td>\n",
       "      <td>111013816</td>\n",
       "      <td>2016-09-13T12:00:00.000Z</td>\n",
       "      <td>Художественный</td>\n",
       "      <td>Киностудия \"Мосфильм\"</td>\n",
       "      <td>СССР</td>\n",
       "      <td>В.Абдрашитов</td>\n",
       "      <td>unknown</td>\n",
       "      <td>«6+» - для детей старше 6 лет</td>\n",
       "      <td>0.00</td>\n",
       "      <td>0.00</td>\n",
       "      <td>0.00</td>\n",
       "      <td>unknown</td>\n",
       "      <td>7.7</td>\n",
       "      <td>драма</td>\n",
       "      <td>0.00</td>\n",
       "    </tr>\n",
       "    <tr>\n",
       "      <th>6</th>\n",
       "      <td>Любовь и голуби</td>\n",
       "      <td>111007013</td>\n",
       "      <td>2013-10-18T12:00:00.000Z</td>\n",
       "      <td>Художественный</td>\n",
       "      <td>Киностудия \"Мосфильм\"</td>\n",
       "      <td>СССР</td>\n",
       "      <td>В.Меньшов</td>\n",
       "      <td>unknown</td>\n",
       "      <td>«12+» - для детей старше 12 лет</td>\n",
       "      <td>0.00</td>\n",
       "      <td>0.00</td>\n",
       "      <td>0.00</td>\n",
       "      <td>unknown</td>\n",
       "      <td>8.3</td>\n",
       "      <td>мелодрама,комедия</td>\n",
       "      <td>2700.00</td>\n",
       "    </tr>\n",
       "    <tr>\n",
       "      <th>7</th>\n",
       "      <td>Любовь и сигареты</td>\n",
       "      <td>221074614</td>\n",
       "      <td>2014-12-29T12:00:00.000Z</td>\n",
       "      <td>Художественный</td>\n",
       "      <td>Юнайтед Артистс, Грин Стрит Филмз, Айкон Интер...</td>\n",
       "      <td>США</td>\n",
       "      <td>Джон Туртурро</td>\n",
       "      <td>Джон Пенотти, Джон Туртурро</td>\n",
       "      <td>«18+» - запрещено для детей</td>\n",
       "      <td>0.00</td>\n",
       "      <td>0.00</td>\n",
       "      <td>0.00</td>\n",
       "      <td>unknown</td>\n",
       "      <td>6.6</td>\n",
       "      <td>мюзикл,мелодрама,комедия</td>\n",
       "      <td>0.00</td>\n",
       "    </tr>\n",
       "    <tr>\n",
       "      <th>8</th>\n",
       "      <td>Отпетые мошенники.</td>\n",
       "      <td>121011416</td>\n",
       "      <td>2016-05-05T12:00:00.000Z</td>\n",
       "      <td>Художественный</td>\n",
       "      <td>Пульсар Продюксьон, ТФ1 Фильм</td>\n",
       "      <td>Франция</td>\n",
       "      <td>Эрик Беснард</td>\n",
       "      <td>Патрис Леду</td>\n",
       "      <td>«18+» - запрещено для детей</td>\n",
       "      <td>0.00</td>\n",
       "      <td>0.00</td>\n",
       "      <td>0.00</td>\n",
       "      <td>unknown</td>\n",
       "      <td>8.0</td>\n",
       "      <td>комедия,криминал</td>\n",
       "      <td>0.00</td>\n",
       "    </tr>\n",
       "    <tr>\n",
       "      <th>9</th>\n",
       "      <td>Отпуск за свой счет</td>\n",
       "      <td>111019114</td>\n",
       "      <td>2014-12-01T12:00:00.000Z</td>\n",
       "      <td>Художественный</td>\n",
       "      <td>Киностудия \"Мосфильм\", Телевидение ВНР</td>\n",
       "      <td>СССР, Венгрия</td>\n",
       "      <td>В.Титов</td>\n",
       "      <td>unknown</td>\n",
       "      <td>«12+» - для детей старше 12 лет</td>\n",
       "      <td>0.00</td>\n",
       "      <td>0.00</td>\n",
       "      <td>0.00</td>\n",
       "      <td>unknown</td>\n",
       "      <td>7.8</td>\n",
       "      <td>мелодрама,комедия</td>\n",
       "      <td>0.00</td>\n",
       "    </tr>\n",
       "    <tr>\n",
       "      <th>10</th>\n",
       "      <td>Превосходство Борна /По одноименной новелле Ро...</td>\n",
       "      <td>221031416</td>\n",
       "      <td>2016-06-29T12:00:00.000Z</td>\n",
       "      <td>Художественный</td>\n",
       "      <td>Кеннеди/Маршал Компани, Юниверсал Пикчерз, Гип...</td>\n",
       "      <td>США</td>\n",
       "      <td>Пол Грингросс</td>\n",
       "      <td>Патрик Кроули, Фрэнк Маршалл, Пол Сэндберг</td>\n",
       "      <td>«16+» - для детей старше 16 лет</td>\n",
       "      <td>0.00</td>\n",
       "      <td>0.00</td>\n",
       "      <td>0.00</td>\n",
       "      <td>unknown</td>\n",
       "      <td>7.7</td>\n",
       "      <td>боевик,триллер,детектив</td>\n",
       "      <td>0.00</td>\n",
       "    </tr>\n",
       "    <tr>\n",
       "      <th>11</th>\n",
       "      <td>Ответный ход</td>\n",
       "      <td>111019014</td>\n",
       "      <td>2014-12-01T12:00:00.000Z</td>\n",
       "      <td>Художественный</td>\n",
       "      <td>Киностудия \"Мосфильм\"</td>\n",
       "      <td>СССР</td>\n",
       "      <td>М.Туманишвили</td>\n",
       "      <td>unknown</td>\n",
       "      <td>«12+» - для детей старше 12 лет</td>\n",
       "      <td>0.00</td>\n",
       "      <td>0.00</td>\n",
       "      <td>0.00</td>\n",
       "      <td>unknown</td>\n",
       "      <td>7.8</td>\n",
       "      <td>боевик,драма,приключения</td>\n",
       "      <td>0.00</td>\n",
       "    </tr>\n",
       "    <tr>\n",
       "      <th>12</th>\n",
       "      <td>Малышка на миллион /По мотивам рассказов Ф.Х.Т...</td>\n",
       "      <td>221011415</td>\n",
       "      <td>2015-04-03T12:00:00.000Z</td>\n",
       "      <td>Художественный</td>\n",
       "      <td>Уорнер Бразерс, Лейкшор Интертейнмент, Малпасо...</td>\n",
       "      <td>США</td>\n",
       "      <td>Клинт Иствуд</td>\n",
       "      <td>Клинт Иствуд, Том Розенберг, Альберт С.Рудди, ...</td>\n",
       "      <td>«16+» - для детей старше 16 лет</td>\n",
       "      <td>0.00</td>\n",
       "      <td>0.00</td>\n",
       "      <td>0.00</td>\n",
       "      <td>unknown</td>\n",
       "      <td>8.1</td>\n",
       "      <td>драма,спорт</td>\n",
       "      <td>0.00</td>\n",
       "    </tr>\n",
       "    <tr>\n",
       "      <th>13</th>\n",
       "      <td>Преданный садовник</td>\n",
       "      <td>121003106</td>\n",
       "      <td>2013-08-26T12:00:00.000Z</td>\n",
       "      <td>Художественный</td>\n",
       "      <td>Потбойлер Продакшнз, Эпсилон Моушн Пикчерз, Ск...</td>\n",
       "      <td>Германия-Великобритания</td>\n",
       "      <td>Фернанду Мейрелльеш</td>\n",
       "      <td>Саймон Чэннинг Уильямс</td>\n",
       "      <td>«16+» - для детей старше 16 лет</td>\n",
       "      <td>0.00</td>\n",
       "      <td>0.00</td>\n",
       "      <td>0.00</td>\n",
       "      <td>unknown</td>\n",
       "      <td>7.1</td>\n",
       "      <td>триллер,драма,мелодрама</td>\n",
       "      <td>0.00</td>\n",
       "    </tr>\n",
       "    <tr>\n",
       "      <th>14</th>\n",
       "      <td>Отель /По мотивам пьесы Джона Уэбстера/</td>\n",
       "      <td>221008812</td>\n",
       "      <td>2012-01-27T12:00:00.000Z</td>\n",
       "      <td>Художественный</td>\n",
       "      <td>Кэтлей, Отель Продакшнс, Мунстоун Интертейнмен...</td>\n",
       "      <td>Великобритания - Италия</td>\n",
       "      <td>Майк Фиггис</td>\n",
       "      <td>Этчи Стро, Анни Стюарт, Майк Фиггис</td>\n",
       "      <td>«18+» - запрещено для детей</td>\n",
       "      <td>0.00</td>\n",
       "      <td>0.00</td>\n",
       "      <td>0.00</td>\n",
       "      <td>unknown</td>\n",
       "      <td>6.0</td>\n",
       "      <td>комедия,мелодрама</td>\n",
       "      <td>0.00</td>\n",
       "    </tr>\n",
       "    <tr>\n",
       "      <th>15</th>\n",
       "      <td>Председатель</td>\n",
       "      <td>111014916</td>\n",
       "      <td>2016-09-13T12:00:00.000Z</td>\n",
       "      <td>Художественный</td>\n",
       "      <td>Киностудия \"Мосфильм\"</td>\n",
       "      <td>СССР</td>\n",
       "      <td>А.Салтыков</td>\n",
       "      <td>unknown</td>\n",
       "      <td>«12+» - для детей старше 12 лет</td>\n",
       "      <td>0.00</td>\n",
       "      <td>0.00</td>\n",
       "      <td>0.00</td>\n",
       "      <td>unknown</td>\n",
       "      <td>8.3</td>\n",
       "      <td>драма</td>\n",
       "      <td>0.00</td>\n",
       "    </tr>\n",
       "    <tr>\n",
       "      <th>16</th>\n",
       "      <td>Осенний марафон</td>\n",
       "      <td>111007513</td>\n",
       "      <td>2013-10-18T12:00:00.000Z</td>\n",
       "      <td>Художественный</td>\n",
       "      <td>Киностудия \"Мосфильм\"</td>\n",
       "      <td>СССР</td>\n",
       "      <td>Г.Данелия</td>\n",
       "      <td>unknown</td>\n",
       "      <td>«12+» - для детей старше 12 лет</td>\n",
       "      <td>0.00</td>\n",
       "      <td>0.00</td>\n",
       "      <td>0.00</td>\n",
       "      <td>unknown</td>\n",
       "      <td>8.0</td>\n",
       "      <td>драма,мелодрама,комедия</td>\n",
       "      <td>0.00</td>\n",
       "    </tr>\n",
       "    <tr>\n",
       "      <th>17</th>\n",
       "      <td>Осень</td>\n",
       "      <td>111027914</td>\n",
       "      <td>2014-12-24T12:00:00.000Z</td>\n",
       "      <td>Художественный</td>\n",
       "      <td>Киностудия \"Мосфильм\"</td>\n",
       "      <td>СССР</td>\n",
       "      <td>А.Смирнов</td>\n",
       "      <td>unknown</td>\n",
       "      <td>«12+» - для детей старше 12 лет</td>\n",
       "      <td>0.00</td>\n",
       "      <td>0.00</td>\n",
       "      <td>0.00</td>\n",
       "      <td>unknown</td>\n",
       "      <td>7.4</td>\n",
       "      <td>драма,мелодрама</td>\n",
       "      <td>0.00</td>\n",
       "    </tr>\n",
       "    <tr>\n",
       "      <th>18</th>\n",
       "      <td>Неподдающиеся</td>\n",
       "      <td>111003616</td>\n",
       "      <td>2016-02-12T12:00:00.000Z</td>\n",
       "      <td>Художественный</td>\n",
       "      <td>Киностудия \"Мосфильм\"</td>\n",
       "      <td>СССР</td>\n",
       "      <td>Ю.Чулюкин</td>\n",
       "      <td>unknown</td>\n",
       "      <td>«6+» - для детей старше 6 лет</td>\n",
       "      <td>0.00</td>\n",
       "      <td>0.00</td>\n",
       "      <td>0.00</td>\n",
       "      <td>unknown</td>\n",
       "      <td>8.0</td>\n",
       "      <td>мелодрама,комедия</td>\n",
       "      <td>360.00</td>\n",
       "    </tr>\n",
       "    <tr>\n",
       "      <th>19</th>\n",
       "      <td>Неподсуден</td>\n",
       "      <td>111003716</td>\n",
       "      <td>2016-02-12T12:00:00.000Z</td>\n",
       "      <td>Художественный</td>\n",
       "      <td>Киностудия \"Мосфильм\"</td>\n",
       "      <td>СССР</td>\n",
       "      <td>В.Краснопольский, В.Усков</td>\n",
       "      <td>unknown</td>\n",
       "      <td>«6+» - для детей старше 6 лет</td>\n",
       "      <td>0.00</td>\n",
       "      <td>0.00</td>\n",
       "      <td>0.00</td>\n",
       "      <td>unknown</td>\n",
       "      <td>7.7</td>\n",
       "      <td>драма</td>\n",
       "      <td>420.00</td>\n",
       "    </tr>\n",
       "  </tbody>\n",
       "</table>\n",
       "</div>"
      ],
      "text/plain": [
       "                                                title   puNumber  \\\n",
       "0                                    Открытый простор  221048915   \n",
       "1                                Особо важное задание  111013716   \n",
       "2                                        Особо опасен  221038416   \n",
       "3                                        Особо опасен  221026916   \n",
       "4                                        Особо опасен  221030815   \n",
       "5                                   Остановился поезд  111013816   \n",
       "6                                     Любовь и голуби  111007013   \n",
       "7                                   Любовь и сигареты  221074614   \n",
       "8                                  Отпетые мошенники.  121011416   \n",
       "9                                 Отпуск за свой счет  111019114   \n",
       "10  Превосходство Борна /По одноименной новелле Ро...  221031416   \n",
       "11                                       Ответный ход  111019014   \n",
       "12  Малышка на миллион /По мотивам рассказов Ф.Х.Т...  221011415   \n",
       "13                                 Преданный садовник  121003106   \n",
       "14            Отель /По мотивам пьесы Джона Уэбстера/  221008812   \n",
       "15                                       Председатель  111014916   \n",
       "16                                    Осенний марафон  111007513   \n",
       "17                                              Осень  111027914   \n",
       "18                                      Неподдающиеся  111003616   \n",
       "19                                         Неподсуден  111003716   \n",
       "\n",
       "             show_start_date            type  \\\n",
       "0   2015-11-27T12:00:00.000Z  Художественный   \n",
       "1   2016-09-13T12:00:00.000Z  Художественный   \n",
       "2   2016-10-10T12:00:00.000Z  Художественный   \n",
       "3   2016-06-10T12:00:00.000Z  Художественный   \n",
       "4   2015-07-29T12:00:00.000Z  Художественный   \n",
       "5   2016-09-13T12:00:00.000Z  Художественный   \n",
       "6   2013-10-18T12:00:00.000Z  Художественный   \n",
       "7   2014-12-29T12:00:00.000Z  Художественный   \n",
       "8   2016-05-05T12:00:00.000Z  Художественный   \n",
       "9   2014-12-01T12:00:00.000Z  Художественный   \n",
       "10  2016-06-29T12:00:00.000Z  Художественный   \n",
       "11  2014-12-01T12:00:00.000Z  Художественный   \n",
       "12  2015-04-03T12:00:00.000Z  Художественный   \n",
       "13  2013-08-26T12:00:00.000Z  Художественный   \n",
       "14  2012-01-27T12:00:00.000Z  Художественный   \n",
       "15  2016-09-13T12:00:00.000Z  Художественный   \n",
       "16  2013-10-18T12:00:00.000Z  Художественный   \n",
       "17  2014-12-24T12:00:00.000Z  Художественный   \n",
       "18  2016-02-12T12:00:00.000Z  Художественный   \n",
       "19  2016-02-12T12:00:00.000Z  Художественный   \n",
       "\n",
       "                                          film_studio  \\\n",
       "0   Тачстоун Пикчерз, Кобальт Пикчерз, Бикон Пикче...   \n",
       "1                               Киностудия \"Мосфильм\"   \n",
       "2   Юниверсал Пикчерз, Кикстарт Продакшнз, Марк Пл...   \n",
       "3   Юниверсал Пикчерз, Кикстарт Продакшнз, Марк Пл...   \n",
       "4   Юниверсал Пикчерз, Кикстарт Продакшнз, Марк Пл...   \n",
       "5                               Киностудия \"Мосфильм\"   \n",
       "6                               Киностудия \"Мосфильм\"   \n",
       "7   Юнайтед Артистс, Грин Стрит Филмз, Айкон Интер...   \n",
       "8                      Пульсар Продюксьон, ТФ1 Фильм    \n",
       "9              Киностудия \"Мосфильм\", Телевидение ВНР   \n",
       "10  Кеннеди/Маршал Компани, Юниверсал Пикчерз, Гип...   \n",
       "11                              Киностудия \"Мосфильм\"   \n",
       "12  Уорнер Бразерс, Лейкшор Интертейнмент, Малпасо...   \n",
       "13  Потбойлер Продакшнз, Эпсилон Моушн Пикчерз, Ск...   \n",
       "14  Кэтлей, Отель Продакшнс, Мунстоун Интертейнмен...   \n",
       "15                              Киностудия \"Мосфильм\"   \n",
       "16                              Киностудия \"Мосфильм\"   \n",
       "17                              Киностудия \"Мосфильм\"   \n",
       "18                              Киностудия \"Мосфильм\"   \n",
       "19                              Киностудия \"Мосфильм\"   \n",
       "\n",
       "         production_country                   director  \\\n",
       "0                       США              Кевин Костнер   \n",
       "1                      СССР                  Е.Матвеев   \n",
       "2                       США          Тимур Бекмамбетов   \n",
       "3                       США          Тимур Бекмамбетов   \n",
       "4                       США          Тимур Бекмамбетов   \n",
       "5                      СССР               В.Абдрашитов   \n",
       "6                      СССР                  В.Меньшов   \n",
       "7                       США              Джон Туртурро   \n",
       "8                   Франция               Эрик Беснард   \n",
       "9             СССР, Венгрия                    В.Титов   \n",
       "10                      США              Пол Грингросс   \n",
       "11                     СССР              М.Туманишвили   \n",
       "12                      США               Клинт Иствуд   \n",
       "13  Германия-Великобритания        Фернанду Мейрелльеш   \n",
       "14  Великобритания - Италия                Майк Фиггис   \n",
       "15                     СССР                 А.Салтыков   \n",
       "16                     СССР                  Г.Данелия   \n",
       "17                     СССР                  А.Смирнов   \n",
       "18                     СССР                  Ю.Чулюкин   \n",
       "19                     СССР  В.Краснопольский, В.Усков   \n",
       "\n",
       "                                             producer  \\\n",
       "0           Дэвид Валдес, Кевин Костнер, Джейк Эбертс   \n",
       "1                                             unknown   \n",
       "2   Джим Лемли, Джейсон Нетер, Марк Е.Платт, Яйн Смит   \n",
       "3   Джим Лемли, Джейсон Нетер, Марк Е.Платт, Яйн Смит   \n",
       "4   Джим Лемли, Джейсон Нетер, Марк Е.Платт, Яйн Смит   \n",
       "5                                             unknown   \n",
       "6                                             unknown   \n",
       "7                         Джон Пенотти, Джон Туртурро   \n",
       "8                                         Патрис Леду   \n",
       "9                                             unknown   \n",
       "10         Патрик Кроули, Фрэнк Маршалл, Пол Сэндберг   \n",
       "11                                            unknown   \n",
       "12  Клинт Иствуд, Том Розенберг, Альберт С.Рудди, ...   \n",
       "13                             Саймон Чэннинг Уильямс   \n",
       "14                Этчи Стро, Анни Стюарт, Майк Фиггис   \n",
       "15                                            unknown   \n",
       "16                                            unknown   \n",
       "17                                            unknown   \n",
       "18                                            unknown   \n",
       "19                                            unknown   \n",
       "\n",
       "                    age_restriction  refundable_support  \\\n",
       "0       «18+» - запрещено для детей                0.00   \n",
       "1     «6+» - для детей старше 6 лет                0.00   \n",
       "2       «18+» - запрещено для детей                0.00   \n",
       "3       «18+» - запрещено для детей                0.00   \n",
       "4       «18+» - запрещено для детей                0.00   \n",
       "5     «6+» - для детей старше 6 лет                0.00   \n",
       "6   «12+» - для детей старше 12 лет                0.00   \n",
       "7       «18+» - запрещено для детей                0.00   \n",
       "8       «18+» - запрещено для детей                0.00   \n",
       "9   «12+» - для детей старше 12 лет                0.00   \n",
       "10  «16+» - для детей старше 16 лет                0.00   \n",
       "11  «12+» - для детей старше 12 лет                0.00   \n",
       "12  «16+» - для детей старше 16 лет                0.00   \n",
       "13  «16+» - для детей старше 16 лет                0.00   \n",
       "14      «18+» - запрещено для детей                0.00   \n",
       "15  «12+» - для детей старше 12 лет                0.00   \n",
       "16  «12+» - для детей старше 12 лет                0.00   \n",
       "17  «12+» - для детей старше 12 лет                0.00   \n",
       "18    «6+» - для детей старше 6 лет                0.00   \n",
       "19    «6+» - для детей старше 6 лет                0.00   \n",
       "\n",
       "    nonrefundable_support  budget financing_source ratings  \\\n",
       "0                    0.00    0.00          unknown     7.2   \n",
       "1                    0.00    0.00          unknown     6.6   \n",
       "2                    0.00    0.00          unknown     6.8   \n",
       "3                    0.00    0.00          unknown     6.8   \n",
       "4                    0.00    0.00          unknown     6.8   \n",
       "5                    0.00    0.00          unknown     7.7   \n",
       "6                    0.00    0.00          unknown     8.3   \n",
       "7                    0.00    0.00          unknown     6.6   \n",
       "8                    0.00    0.00          unknown     8.0   \n",
       "9                    0.00    0.00          unknown     7.8   \n",
       "10                   0.00    0.00          unknown     7.7   \n",
       "11                   0.00    0.00          unknown     7.8   \n",
       "12                   0.00    0.00          unknown     8.1   \n",
       "13                   0.00    0.00          unknown     7.1   \n",
       "14                   0.00    0.00          unknown     6.0   \n",
       "15                   0.00    0.00          unknown     8.3   \n",
       "16                   0.00    0.00          unknown     8.0   \n",
       "17                   0.00    0.00          unknown     7.4   \n",
       "18                   0.00    0.00          unknown     8.0   \n",
       "19                   0.00    0.00          unknown     7.7   \n",
       "\n",
       "                       genres  box_office  \n",
       "0      боевик,драма,мелодрама        0.00  \n",
       "1               драма,военный        0.00  \n",
       "2   фантастика,боевик,триллер        0.00  \n",
       "3   фантастика,боевик,триллер        0.00  \n",
       "4   фантастика,боевик,триллер        0.00  \n",
       "5                       драма        0.00  \n",
       "6           мелодрама,комедия     2700.00  \n",
       "7    мюзикл,мелодрама,комедия        0.00  \n",
       "8            комедия,криминал        0.00  \n",
       "9           мелодрама,комедия        0.00  \n",
       "10    боевик,триллер,детектив        0.00  \n",
       "11   боевик,драма,приключения        0.00  \n",
       "12                драма,спорт        0.00  \n",
       "13    триллер,драма,мелодрама        0.00  \n",
       "14          комедия,мелодрама        0.00  \n",
       "15                      драма        0.00  \n",
       "16    драма,мелодрама,комедия        0.00  \n",
       "17            драма,мелодрама        0.00  \n",
       "18          мелодрама,комедия      360.00  \n",
       "19                      драма      420.00  "
      ]
     },
     "execution_count": 15,
     "metadata": {},
     "output_type": "execute_result"
    }
   ],
   "source": [
    "df.head(20)"
   ]
  },
  {
   "cell_type": "code",
   "execution_count": 16,
   "metadata": {
    "scrolled": true
   },
   "outputs": [],
   "source": [
    "#df.info()"
   ]
  },
  {
   "cell_type": "markdown",
   "metadata": {},
   "source": [
    "**Меняем тип данных**\n",
    "* show_start_date - из object в datetime64\n",
    "* refundable_support - из float64 в int64\n",
    "* nonrefundable_support - из float64 в int64\n",
    "* budget - из float64 в int64\n",
    "* box_office - из float64 в int64"
   ]
  },
  {
   "cell_type": "code",
   "execution_count": 17,
   "metadata": {},
   "outputs": [],
   "source": [
    "df['show_start_date'] = pd.to_datetime(df['show_start_date'])\n",
    "df['refundable_support'] = df['refundable_support'].astype('int')\n",
    "df['nonrefundable_support'] = df['nonrefundable_support'].astype('int')\n",
    "df['budget'] = df['budget'].astype('int')\n",
    "df['box_office'] = df['box_office'].astype('int')"
   ]
  },
  {
   "cell_type": "markdown",
   "metadata": {},
   "source": []
  },
  {
   "cell_type": "markdown",
   "metadata": {},
   "source": [
    "* Меняем тип данных в столбце 'ratings' на float64, и приводим значение в указанном столбце к единому формату."
   ]
  },
  {
   "cell_type": "code",
   "execution_count": 18,
   "metadata": {},
   "outputs": [
    {
     "data": {
      "text/plain": [
       "array(['7.2', '6.6', '6.8', '7.7', '8.3', '8.0', '7.8', '8.1', '7.1',\n",
       "       '6.0', '7.4', '5.8', '8.7', '6.3', '6.9', '5.0', '4.3', '7.3',\n",
       "       '7.0', '6.4', 0, '8.2', '7.5', '6.7', '7.9', '5.9', '6.2', '5.6',\n",
       "       '6.5', '2.4', '7.6', '6.1', '8.6', '8.5', '8.8', '5.5', '5.1',\n",
       "       '5.7', '5.4', '99%', '4.4', '4.5', '5.3', '4.1', '8.4', '2.6',\n",
       "       '3.8', '4.6', '4.8', '4.0', '3.0', '1.6', '4.2', '5.2', '4.7',\n",
       "       '4.9', '3.9', '2.7', '3.3', '2.9', '28%', '3.7', '1.4', '3.1',\n",
       "       '97%', '3.5', '3.2', '2.8', '1.5', '2.1', '2.5', '9.2', '3.4',\n",
       "       '1.1', '3.6', '83%', '64%', '91%', '94%', '62%', '79%', '90%',\n",
       "       '19%', '88%', '1.0', '89%', '1.3', '1.9', '1.8', '1.2', '1.7',\n",
       "       '9.0', '98%', '8.9', '9.1'], dtype=object)"
      ]
     },
     "execution_count": 18,
     "metadata": {},
     "output_type": "execute_result"
    }
   ],
   "source": [
    "df['ratings'].unique()"
   ]
  },
  {
   "cell_type": "code",
   "execution_count": 19,
   "metadata": {},
   "outputs": [
    {
     "data": {
      "text/plain": [
       "array(['7.2', '6.6', '6.8', '7.7', '8.3', '8.0', '7.8', '8.1', '7.1',\n",
       "       '6.0', '7.4', '5.8', '8.7', '6.3', '6.9', '5.0', '4.3', '7.3',\n",
       "       '7.0', '6.4', 0, '8.2', '7.5', '6.7', '7.9', '5.9', '6.2', '5.6',\n",
       "       '6.5', '2.4', '7.6', '6.1', '8.6', '8.5', '8.8', '5.5', '5.1',\n",
       "       '5.7', '5.4', '99', '4.4', '4.5', '5.3', '4.1', '8.4', '2.6',\n",
       "       '3.8', '4.6', '4.8', '4.0', '3.0', '1.6', '4.2', '5.2', '4.7',\n",
       "       '4.9', '3.9', '2.7', '3.3', '2.9', '28', '3.7', '1.4', '3.1', '97',\n",
       "       '3.5', '3.2', '2.8', '1.5', '2.1', '2.5', '9.2', '3.4', '1.1',\n",
       "       '3.6', '83', '64', '91', '94', '62', '79', '90', '19', '88', '1.0',\n",
       "       '89', '1.3', '1.9', '1.8', '1.2', '1.7', '9.0', '98', '8.9', '9.1'],\n",
       "      dtype=object)"
      ]
     },
     "execution_count": 19,
     "metadata": {},
     "output_type": "execute_result"
    }
   ],
   "source": [
    "df['ratings'] = df['ratings'].str.replace('%', '')\n",
    "df['ratings'] = df['ratings'].fillna(0)\n",
    "df['ratings'].unique()"
   ]
  },
  {
   "cell_type": "code",
   "execution_count": 20,
   "metadata": {},
   "outputs": [],
   "source": [
    "df['ratings'] = df['ratings'].astype('float') "
   ]
  },
  {
   "cell_type": "code",
   "execution_count": 21,
   "metadata": {},
   "outputs": [],
   "source": [
    "def rating_norm(rating):\n",
    "    if rating > 10:\n",
    "        return rating / 10\n",
    "    return rating * 1\n",
    "    \n",
    "df['ratings'] = df['ratings'].apply(rating_norm)"
   ]
  },
  {
   "cell_type": "code",
   "execution_count": 22,
   "metadata": {},
   "outputs": [
    {
     "data": {
      "text/plain": [
       "array([7.2, 6.6, 6.8, 7.7, 8.3, 8. , 7.8, 8.1, 7.1, 6. , 7.4, 5.8, 8.7,\n",
       "       6.3, 6.9, 5. , 4.3, 7.3, 7. , 6.4, 0. , 8.2, 7.5, 6.7, 7.9, 5.9,\n",
       "       6.2, 5.6, 6.5, 2.4, 7.6, 6.1, 8.6, 8.5, 8.8, 5.5, 5.1, 5.7, 5.4,\n",
       "       9.9, 4.4, 4.5, 5.3, 4.1, 8.4, 2.6, 3.8, 4.6, 4.8, 4. , 3. , 1.6,\n",
       "       4.2, 5.2, 4.7, 4.9, 3.9, 2.7, 3.3, 2.9, 2.8, 3.7, 1.4, 3.1, 9.7,\n",
       "       3.5, 3.2, 1.5, 2.1, 2.5, 9.2, 3.4, 1.1, 3.6, 9.1, 9.4, 9. , 1.9,\n",
       "       1. , 8.9, 1.3, 1.8, 1.2, 1.7, 9.8])"
      ]
     },
     "execution_count": 22,
     "metadata": {},
     "output_type": "execute_result"
    }
   ],
   "source": [
    "df['ratings'].unique()"
   ]
  },
  {
   "cell_type": "code",
   "execution_count": 23,
   "metadata": {
    "id": "8MJD_lkngFyP"
   },
   "outputs": [
    {
     "name": "stdout",
     "output_type": "stream",
     "text": [
      "<class 'pandas.core.frame.DataFrame'>\n",
      "RangeIndex: 7486 entries, 0 to 7485\n",
      "Data columns (total 16 columns):\n",
      " #   Column                 Non-Null Count  Dtype              \n",
      "---  ------                 --------------  -----              \n",
      " 0   title                  7486 non-null   object             \n",
      " 1   puNumber               7486 non-null   int32              \n",
      " 2   show_start_date        7486 non-null   datetime64[ns, UTC]\n",
      " 3   type                   7486 non-null   object             \n",
      " 4   film_studio            7486 non-null   object             \n",
      " 5   production_country     7486 non-null   object             \n",
      " 6   director               7486 non-null   object             \n",
      " 7   producer               7486 non-null   object             \n",
      " 8   age_restriction        7486 non-null   object             \n",
      " 9   refundable_support     7486 non-null   int32              \n",
      " 10  nonrefundable_support  7486 non-null   int32              \n",
      " 11  budget                 7486 non-null   int32              \n",
      " 12  financing_source       7486 non-null   object             \n",
      " 13  ratings                7486 non-null   float64            \n",
      " 14  genres                 7486 non-null   object             \n",
      " 15  box_office             7486 non-null   int32              \n",
      "dtypes: datetime64[ns, UTC](1), float64(1), int32(5), object(9)\n",
      "memory usage: 789.7+ KB\n"
     ]
    }
   ],
   "source": [
    "df.info()"
   ]
  },
  {
   "cell_type": "markdown",
   "metadata": {
    "id": "4c6k1t9ygFyQ"
   },
   "source": [
    "### Изучите дубликаты в датафрейме\n",
    "- Проверьте, есть ли в данных дубликаты. Опишите причины, которые могли повлиять на появление дублей."
   ]
  },
  {
   "cell_type": "code",
   "execution_count": 24,
   "metadata": {
    "scrolled": true
   },
   "outputs": [
    {
     "data": {
      "text/html": [
       "<div>\n",
       "<style scoped>\n",
       "    .dataframe tbody tr th:only-of-type {\n",
       "        vertical-align: middle;\n",
       "    }\n",
       "\n",
       "    .dataframe tbody tr th {\n",
       "        vertical-align: top;\n",
       "    }\n",
       "\n",
       "    .dataframe thead th {\n",
       "        text-align: right;\n",
       "    }\n",
       "</style>\n",
       "<table border=\"1\" class=\"dataframe\">\n",
       "  <thead>\n",
       "    <tr style=\"text-align: right;\">\n",
       "      <th></th>\n",
       "      <th>title</th>\n",
       "      <th>puNumber</th>\n",
       "      <th>show_start_date</th>\n",
       "      <th>type</th>\n",
       "      <th>film_studio</th>\n",
       "      <th>production_country</th>\n",
       "      <th>director</th>\n",
       "      <th>producer</th>\n",
       "      <th>age_restriction</th>\n",
       "      <th>refundable_support</th>\n",
       "      <th>nonrefundable_support</th>\n",
       "      <th>budget</th>\n",
       "      <th>financing_source</th>\n",
       "      <th>ratings</th>\n",
       "      <th>genres</th>\n",
       "      <th>box_office</th>\n",
       "    </tr>\n",
       "  </thead>\n",
       "  <tbody>\n",
       "    <tr>\n",
       "      <th>0</th>\n",
       "      <td>Открытый простор</td>\n",
       "      <td>221048915</td>\n",
       "      <td>2015-11-27 12:00:00+00:00</td>\n",
       "      <td>Художественный</td>\n",
       "      <td>Тачстоун Пикчерз, Кобальт Пикчерз, Бикон Пикче...</td>\n",
       "      <td>США</td>\n",
       "      <td>Кевин Костнер</td>\n",
       "      <td>Дэвид Валдес, Кевин Костнер, Джейк Эбертс</td>\n",
       "      <td>«18+» - запрещено для детей</td>\n",
       "      <td>0</td>\n",
       "      <td>0</td>\n",
       "      <td>0</td>\n",
       "      <td>unknown</td>\n",
       "      <td>7.20</td>\n",
       "      <td>боевик,драма,мелодрама</td>\n",
       "      <td>0</td>\n",
       "    </tr>\n",
       "    <tr>\n",
       "      <th>1</th>\n",
       "      <td>Особо важное задание</td>\n",
       "      <td>111013716</td>\n",
       "      <td>2016-09-13 12:00:00+00:00</td>\n",
       "      <td>Художественный</td>\n",
       "      <td>Киностудия \"Мосфильм\"</td>\n",
       "      <td>СССР</td>\n",
       "      <td>Е.Матвеев</td>\n",
       "      <td>unknown</td>\n",
       "      <td>«6+» - для детей старше 6 лет</td>\n",
       "      <td>0</td>\n",
       "      <td>0</td>\n",
       "      <td>0</td>\n",
       "      <td>unknown</td>\n",
       "      <td>6.60</td>\n",
       "      <td>драма,военный</td>\n",
       "      <td>0</td>\n",
       "    </tr>\n",
       "    <tr>\n",
       "      <th>2</th>\n",
       "      <td>Особо опасен</td>\n",
       "      <td>221038416</td>\n",
       "      <td>2016-10-10 12:00:00+00:00</td>\n",
       "      <td>Художественный</td>\n",
       "      <td>Юниверсал Пикчерз, Кикстарт Продакшнз, Марк Пл...</td>\n",
       "      <td>США</td>\n",
       "      <td>Тимур Бекмамбетов</td>\n",
       "      <td>Джим Лемли, Джейсон Нетер, Марк Е.Платт, Яйн Смит</td>\n",
       "      <td>«18+» - запрещено для детей</td>\n",
       "      <td>0</td>\n",
       "      <td>0</td>\n",
       "      <td>0</td>\n",
       "      <td>unknown</td>\n",
       "      <td>6.80</td>\n",
       "      <td>фантастика,боевик,триллер</td>\n",
       "      <td>0</td>\n",
       "    </tr>\n",
       "    <tr>\n",
       "      <th>3</th>\n",
       "      <td>Особо опасен</td>\n",
       "      <td>221026916</td>\n",
       "      <td>2016-06-10 12:00:00+00:00</td>\n",
       "      <td>Художественный</td>\n",
       "      <td>Юниверсал Пикчерз, Кикстарт Продакшнз, Марк Пл...</td>\n",
       "      <td>США</td>\n",
       "      <td>Тимур Бекмамбетов</td>\n",
       "      <td>Джим Лемли, Джейсон Нетер, Марк Е.Платт, Яйн Смит</td>\n",
       "      <td>«18+» - запрещено для детей</td>\n",
       "      <td>0</td>\n",
       "      <td>0</td>\n",
       "      <td>0</td>\n",
       "      <td>unknown</td>\n",
       "      <td>6.80</td>\n",
       "      <td>фантастика,боевик,триллер</td>\n",
       "      <td>0</td>\n",
       "    </tr>\n",
       "    <tr>\n",
       "      <th>4</th>\n",
       "      <td>Особо опасен</td>\n",
       "      <td>221030815</td>\n",
       "      <td>2015-07-29 12:00:00+00:00</td>\n",
       "      <td>Художественный</td>\n",
       "      <td>Юниверсал Пикчерз, Кикстарт Продакшнз, Марк Пл...</td>\n",
       "      <td>США</td>\n",
       "      <td>Тимур Бекмамбетов</td>\n",
       "      <td>Джим Лемли, Джейсон Нетер, Марк Е.Платт, Яйн Смит</td>\n",
       "      <td>«18+» - запрещено для детей</td>\n",
       "      <td>0</td>\n",
       "      <td>0</td>\n",
       "      <td>0</td>\n",
       "      <td>unknown</td>\n",
       "      <td>6.80</td>\n",
       "      <td>фантастика,боевик,триллер</td>\n",
       "      <td>0</td>\n",
       "    </tr>\n",
       "  </tbody>\n",
       "</table>\n",
       "</div>"
      ],
      "text/plain": [
       "                  title   puNumber           show_start_date            type  \\\n",
       "0      Открытый простор  221048915 2015-11-27 12:00:00+00:00  Художественный   \n",
       "1  Особо важное задание  111013716 2016-09-13 12:00:00+00:00  Художественный   \n",
       "2          Особо опасен  221038416 2016-10-10 12:00:00+00:00  Художественный   \n",
       "3          Особо опасен  221026916 2016-06-10 12:00:00+00:00  Художественный   \n",
       "4          Особо опасен  221030815 2015-07-29 12:00:00+00:00  Художественный   \n",
       "\n",
       "                                         film_studio production_country  \\\n",
       "0  Тачстоун Пикчерз, Кобальт Пикчерз, Бикон Пикче...                США   \n",
       "1                              Киностудия \"Мосфильм\"               СССР   \n",
       "2  Юниверсал Пикчерз, Кикстарт Продакшнз, Марк Пл...                США   \n",
       "3  Юниверсал Пикчерз, Кикстарт Продакшнз, Марк Пл...                США   \n",
       "4  Юниверсал Пикчерз, Кикстарт Продакшнз, Марк Пл...                США   \n",
       "\n",
       "            director                                           producer  \\\n",
       "0      Кевин Костнер          Дэвид Валдес, Кевин Костнер, Джейк Эбертс   \n",
       "1          Е.Матвеев                                            unknown   \n",
       "2  Тимур Бекмамбетов  Джим Лемли, Джейсон Нетер, Марк Е.Платт, Яйн Смит   \n",
       "3  Тимур Бекмамбетов  Джим Лемли, Джейсон Нетер, Марк Е.Платт, Яйн Смит   \n",
       "4  Тимур Бекмамбетов  Джим Лемли, Джейсон Нетер, Марк Е.Платт, Яйн Смит   \n",
       "\n",
       "                 age_restriction  refundable_support  nonrefundable_support  \\\n",
       "0    «18+» - запрещено для детей                   0                      0   \n",
       "1  «6+» - для детей старше 6 лет                   0                      0   \n",
       "2    «18+» - запрещено для детей                   0                      0   \n",
       "3    «18+» - запрещено для детей                   0                      0   \n",
       "4    «18+» - запрещено для детей                   0                      0   \n",
       "\n",
       "   budget financing_source  ratings                     genres  box_office  \n",
       "0       0          unknown     7.20     боевик,драма,мелодрама           0  \n",
       "1       0          unknown     6.60              драма,военный           0  \n",
       "2       0          unknown     6.80  фантастика,боевик,триллер           0  \n",
       "3       0          unknown     6.80  фантастика,боевик,триллер           0  \n",
       "4       0          unknown     6.80  фантастика,боевик,триллер           0  "
      ]
     },
     "execution_count": 24,
     "metadata": {},
     "output_type": "execute_result"
    }
   ],
   "source": [
    "df.head()"
   ]
  },
  {
   "cell_type": "markdown",
   "metadata": {},
   "source": [
    "* Проверяем есть ли явные дубликаты."
   ]
  },
  {
   "cell_type": "code",
   "execution_count": 25,
   "metadata": {
    "id": "aKck8RIdgFyQ"
   },
   "outputs": [
    {
     "data": {
      "text/plain": [
       "0"
      ]
     },
     "execution_count": 25,
     "metadata": {},
     "output_type": "execute_result"
    }
   ],
   "source": [
    "df.duplicated().sum()"
   ]
  },
  {
   "cell_type": "code",
   "execution_count": 26,
   "metadata": {},
   "outputs": [
    {
     "data": {
      "text/plain": [
       "714"
      ]
     },
     "execution_count": 26,
     "metadata": {},
     "output_type": "execute_result"
    }
   ],
   "source": [
    "df['title'].duplicated().sum()"
   ]
  },
  {
   "cell_type": "code",
   "execution_count": 27,
   "metadata": {},
   "outputs": [
    {
     "data": {
      "text/plain": [
       "2"
      ]
     },
     "execution_count": 27,
     "metadata": {},
     "output_type": "execute_result"
    }
   ],
   "source": [
    "df['puNumber'].duplicated().sum()"
   ]
  },
  {
   "cell_type": "code",
   "execution_count": 28,
   "metadata": {},
   "outputs": [
    {
     "name": "stdout",
     "output_type": "stream",
     "text": [
      "141\n"
     ]
    }
   ],
   "source": [
    "duplicateRows = df[df['title'].duplicated ()]\n",
    "print(len(duplicateRows.query('box_office != 0')))"
   ]
  },
  {
   "cell_type": "code",
   "execution_count": 29,
   "metadata": {},
   "outputs": [
    {
     "data": {
      "text/html": [
       "<div>\n",
       "<style scoped>\n",
       "    .dataframe tbody tr th:only-of-type {\n",
       "        vertical-align: middle;\n",
       "    }\n",
       "\n",
       "    .dataframe tbody tr th {\n",
       "        vertical-align: top;\n",
       "    }\n",
       "\n",
       "    .dataframe thead th {\n",
       "        text-align: right;\n",
       "    }\n",
       "</style>\n",
       "<table border=\"1\" class=\"dataframe\">\n",
       "  <thead>\n",
       "    <tr style=\"text-align: right;\">\n",
       "      <th></th>\n",
       "      <th>title</th>\n",
       "      <th>puNumber</th>\n",
       "      <th>show_start_date</th>\n",
       "      <th>type</th>\n",
       "      <th>film_studio</th>\n",
       "      <th>production_country</th>\n",
       "      <th>director</th>\n",
       "      <th>producer</th>\n",
       "      <th>age_restriction</th>\n",
       "      <th>refundable_support</th>\n",
       "      <th>nonrefundable_support</th>\n",
       "      <th>budget</th>\n",
       "      <th>financing_source</th>\n",
       "      <th>ratings</th>\n",
       "      <th>genres</th>\n",
       "      <th>box_office</th>\n",
       "    </tr>\n",
       "  </thead>\n",
       "  <tbody>\n",
       "    <tr>\n",
       "      <th>110</th>\n",
       "      <td>Гарри Поттер и орден Феникса /По роману Дж.К.Р...</td>\n",
       "      <td>121026316</td>\n",
       "      <td>2016-09-23 12:00:00+00:00</td>\n",
       "      <td>Художественный</td>\n",
       "      <td>Уорнер Бразерс, Хэйдей Филмз</td>\n",
       "      <td>США - Великобритания</td>\n",
       "      <td>Дэвид Йетс</td>\n",
       "      <td>Дэйвид Баррон, Дэйвид Хейман</td>\n",
       "      <td>«16+» - для детей старше 16 лет</td>\n",
       "      <td>0</td>\n",
       "      <td>0</td>\n",
       "      <td>0</td>\n",
       "      <td>unknown</td>\n",
       "      <td>7.70</td>\n",
       "      <td>фэнтези,приключения,семейный</td>\n",
       "      <td>759526</td>\n",
       "    </tr>\n",
       "    <tr>\n",
       "      <th>113</th>\n",
       "      <td>Гарри Поттер и узник Азкабана /По роману Дж.К....</td>\n",
       "      <td>121026116</td>\n",
       "      <td>2016-09-23 12:00:00+00:00</td>\n",
       "      <td>Художественный</td>\n",
       "      <td>Хэйдей Филмз, 1492 Пикчерз, Уорнер Бразерс</td>\n",
       "      <td>США</td>\n",
       "      <td>Альфонсо Куарон</td>\n",
       "      <td>Майкл Барната</td>\n",
       "      <td>«12+» - для детей старше 12 лет</td>\n",
       "      <td>0</td>\n",
       "      <td>0</td>\n",
       "      <td>0</td>\n",
       "      <td>unknown</td>\n",
       "      <td>8.20</td>\n",
       "      <td>фэнтези,приключения,семейный</td>\n",
       "      <td>1125302</td>\n",
       "    </tr>\n",
       "    <tr>\n",
       "      <th>122</th>\n",
       "      <td>Гарри Поттер и кубок огня /По роману Дж.К.Ролинг/</td>\n",
       "      <td>121026216</td>\n",
       "      <td>2016-09-23 12:00:00+00:00</td>\n",
       "      <td>Художественный</td>\n",
       "      <td>Уорнер Бразерс, Хэйдэй Филмз</td>\n",
       "      <td>США - Великобритания</td>\n",
       "      <td>Майк Ньюэлл</td>\n",
       "      <td>Дэйвид Хейман</td>\n",
       "      <td>«16+» - для детей старше 16 лет</td>\n",
       "      <td>0</td>\n",
       "      <td>0</td>\n",
       "      <td>0</td>\n",
       "      <td>unknown</td>\n",
       "      <td>7.90</td>\n",
       "      <td>фэнтези,приключения,семейный</td>\n",
       "      <td>843310</td>\n",
       "    </tr>\n",
       "    <tr>\n",
       "      <th>446</th>\n",
       "      <td>Белоснежка и охотник</td>\n",
       "      <td>121013012</td>\n",
       "      <td>2012-05-25 12:00:00+00:00</td>\n",
       "      <td>Художественный</td>\n",
       "      <td>Юниверсал Пикчерз, Рот Филмз</td>\n",
       "      <td>США</td>\n",
       "      <td>Руперт Сандерс</td>\n",
       "      <td>Сэм Мерсер, Палак Патель, Джо Рот</td>\n",
       "      <td>«16+» - для детей старше 16 лет</td>\n",
       "      <td>0</td>\n",
       "      <td>0</td>\n",
       "      <td>0</td>\n",
       "      <td>unknown</td>\n",
       "      <td>6.00</td>\n",
       "      <td>фэнтези,боевик,драма</td>\n",
       "      <td>470427</td>\n",
       "    </tr>\n",
       "    <tr>\n",
       "      <th>487</th>\n",
       "      <td>Отважная Лифи</td>\n",
       "      <td>124000512</td>\n",
       "      <td>2012-04-05 12:00:00+00:00</td>\n",
       "      <td>Анимационный</td>\n",
       "      <td>Мьюнг Филмз, Одолтоджи</td>\n",
       "      <td>Южная Корея</td>\n",
       "      <td>Сон-Юн О</td>\n",
       "      <td>Сун-ку Ким, Эун Ли</td>\n",
       "      <td>«0+» - для любой зрительской аудитории</td>\n",
       "      <td>0</td>\n",
       "      <td>0</td>\n",
       "      <td>0</td>\n",
       "      <td>unknown</td>\n",
       "      <td>7.20</td>\n",
       "      <td>мультфильм,приключения,драма</td>\n",
       "      <td>200</td>\n",
       "    </tr>\n",
       "    <tr>\n",
       "      <th>510</th>\n",
       "      <td>Мадагаскар 3</td>\n",
       "      <td>124001112</td>\n",
       "      <td>2012-04-27 12:00:00+00:00</td>\n",
       "      <td>Художественный</td>\n",
       "      <td>ДримУоркс Анимейшн</td>\n",
       "      <td>США</td>\n",
       "      <td>Эрик Дарнелл, Том МакГрат, Конрад Вернон</td>\n",
       "      <td>Мирей Сория, Марк Свифт</td>\n",
       "      <td>«0+» - для любой зрительской аудитории</td>\n",
       "      <td>0</td>\n",
       "      <td>0</td>\n",
       "      <td>0</td>\n",
       "      <td>unknown</td>\n",
       "      <td>7.40</td>\n",
       "      <td>мультфильм,комедия,приключения</td>\n",
       "      <td>3590</td>\n",
       "    </tr>\n",
       "    <tr>\n",
       "      <th>532</th>\n",
       "      <td>Схватка _</td>\n",
       "      <td>121000312</td>\n",
       "      <td>2012-01-11 12:00:00+00:00</td>\n",
       "      <td>Художественный</td>\n",
       "      <td>Лиддел Интертейнмент, Скотт Фри Продакшнз, 198...</td>\n",
       "      <td>США</td>\n",
       "      <td>Джо Карнахан</td>\n",
       "      <td>Джо Карнахан, Ридли Скотт, Тони Скотт</td>\n",
       "      <td>«18+» - запрещено для детей</td>\n",
       "      <td>0</td>\n",
       "      <td>0</td>\n",
       "      <td>0</td>\n",
       "      <td>unknown</td>\n",
       "      <td>8.00</td>\n",
       "      <td>триллер,драма,криминал</td>\n",
       "      <td>210</td>\n",
       "    </tr>\n",
       "    <tr>\n",
       "      <th>783</th>\n",
       "      <td>Неудержимые 2</td>\n",
       "      <td>121018412</td>\n",
       "      <td>2012-08-09 12:00:00+00:00</td>\n",
       "      <td>Художественный</td>\n",
       "      <td>Миллениум Филм, Нью Имидж Филмз, Юниверсал Пик...</td>\n",
       "      <td>США</td>\n",
       "      <td>Саймон Уэст</td>\n",
       "      <td>Кевин Кинг Темплтон, Джон Томпсон, Лес Уэлдон</td>\n",
       "      <td>«18+» - запрещено для детей</td>\n",
       "      <td>0</td>\n",
       "      <td>0</td>\n",
       "      <td>0</td>\n",
       "      <td>unknown</td>\n",
       "      <td>7.00</td>\n",
       "      <td>боевик,триллер,приключения</td>\n",
       "      <td>1385</td>\n",
       "    </tr>\n",
       "    <tr>\n",
       "      <th>801</th>\n",
       "      <td>Любовь на кончиках пальцев</td>\n",
       "      <td>121033312</td>\n",
       "      <td>2012-12-27 12:00:00+00:00</td>\n",
       "      <td>Художественный</td>\n",
       "      <td>Ле Продюксьон дю Трезор, Ля Компань Синематогр...</td>\n",
       "      <td>Франция - Бельгия</td>\n",
       "      <td>Режи Ройнсар</td>\n",
       "      <td>Ален Аттал</td>\n",
       "      <td>«18+» - запрещено для детей</td>\n",
       "      <td>0</td>\n",
       "      <td>0</td>\n",
       "      <td>0</td>\n",
       "      <td>unknown</td>\n",
       "      <td>7.20</td>\n",
       "      <td>мелодрама,комедия</td>\n",
       "      <td>450</td>\n",
       "    </tr>\n",
       "    <tr>\n",
       "      <th>874</th>\n",
       "      <td>Родительский беспредел</td>\n",
       "      <td>121031912</td>\n",
       "      <td>2012-12-21 12:00:00+00:00</td>\n",
       "      <td>Художественный</td>\n",
       "      <td>Чернин Интертейнмент, Уолден Медиа, ХХ век Фокс</td>\n",
       "      <td>США</td>\n",
       "      <td>Энди Фикмен</td>\n",
       "      <td>Билли Кристал, Саманта Спрешер, ПИтер Чернин</td>\n",
       "      <td>«6+» - для детей старше 6 лет</td>\n",
       "      <td>0</td>\n",
       "      <td>0</td>\n",
       "      <td>0</td>\n",
       "      <td>unknown</td>\n",
       "      <td>6.40</td>\n",
       "      <td>комедия,семейный</td>\n",
       "      <td>500</td>\n",
       "    </tr>\n",
       "    <tr>\n",
       "      <th>887</th>\n",
       "      <td>Арктика 3D</td>\n",
       "      <td>126003016</td>\n",
       "      <td>2016-07-01 12:00:00+00:00</td>\n",
       "      <td>Прочие</td>\n",
       "      <td>МакГиливрэй, Фримен Филмз, Аймакс</td>\n",
       "      <td>США</td>\n",
       "      <td>Грэг МакГиливрэй</td>\n",
       "      <td>Грег МакГиливрэй, Шон МакГиливрэй</td>\n",
       "      <td>«0+» - для любой зрительской аудитории</td>\n",
       "      <td>0</td>\n",
       "      <td>0</td>\n",
       "      <td>0</td>\n",
       "      <td>unknown</td>\n",
       "      <td>7.70</td>\n",
       "      <td>документальный,короткометражка</td>\n",
       "      <td>45300</td>\n",
       "    </tr>\n",
       "    <tr>\n",
       "      <th>937</th>\n",
       "      <td>Волшебная страна.</td>\n",
       "      <td>124001113</td>\n",
       "      <td>2013-04-15 12:00:00+00:00</td>\n",
       "      <td>Анимационный</td>\n",
       "      <td>Брейктру Филмз, Эс Эм Бэ Инвестментс</td>\n",
       "      <td>Великобритания - Польша - КНР - Индия - Норвегия</td>\n",
       "      <td>Мартин Клэпп, Дорота Кобеля, Джофф Линдси</td>\n",
       "      <td>Магдалена Баргел, Хью Велчман</td>\n",
       "      <td>«18+» - запрещено для детей</td>\n",
       "      <td>0</td>\n",
       "      <td>0</td>\n",
       "      <td>0</td>\n",
       "      <td>unknown</td>\n",
       "      <td>7.90</td>\n",
       "      <td>драма,семейный,биография</td>\n",
       "      <td>20260</td>\n",
       "    </tr>\n",
       "    <tr>\n",
       "      <th>1034</th>\n",
       "      <td>Монстры на острове</td>\n",
       "      <td>124002515</td>\n",
       "      <td>2015-06-25 12:00:00+00:00</td>\n",
       "      <td>Анимационный</td>\n",
       "      <td>Аби Шуи, Хакайдо Медиа Партнерс, Джи Дрим, Роб...</td>\n",
       "      <td>Япония - Канада</td>\n",
       "      <td>Такаши Ямадзаки</td>\n",
       "      <td>Генки Хавамура</td>\n",
       "      <td>«0+» - для любой зрительской аудитории</td>\n",
       "      <td>0</td>\n",
       "      <td>0</td>\n",
       "      <td>0</td>\n",
       "      <td>unknown</td>\n",
       "      <td>7.10</td>\n",
       "      <td>мультфильм,фэнтези,приключения</td>\n",
       "      <td>120</td>\n",
       "    </tr>\n",
       "    <tr>\n",
       "      <th>1050</th>\n",
       "      <td>Папа - досвидос</td>\n",
       "      <td>221035012</td>\n",
       "      <td>2012-09-24 12:00:00+00:00</td>\n",
       "      <td>Художественный</td>\n",
       "      <td>Коламбиа Пикчерз, Хэппи Медисон Продакшнз</td>\n",
       "      <td>США</td>\n",
       "      <td>Шон Андерс</td>\n",
       "      <td>Джек Джаррапуто, Аллен Коверт, Хезер Перри, Ад...</td>\n",
       "      <td>«16+» - для детей старше 16 лет</td>\n",
       "      <td>0</td>\n",
       "      <td>0</td>\n",
       "      <td>0</td>\n",
       "      <td>unknown</td>\n",
       "      <td>6.10</td>\n",
       "      <td>комедия</td>\n",
       "      <td>200</td>\n",
       "    </tr>\n",
       "    <tr>\n",
       "      <th>1086</th>\n",
       "      <td>Жизнь Пи /По произведению Янна Мартела/</td>\n",
       "      <td>121029812</td>\n",
       "      <td>2012-12-21 12:00:00+00:00</td>\n",
       "      <td>Художественный</td>\n",
       "      <td>Фокс 2000 Пикчерз, Хайшанг Филмз, Ритм энд Хайз</td>\n",
       "      <td>США</td>\n",
       "      <td>Энг Ли</td>\n",
       "      <td>Энг Ли, Джил Неттер, Дэвид Уомарк</td>\n",
       "      <td>«6+» - для детей старше 6 лет</td>\n",
       "      <td>0</td>\n",
       "      <td>0</td>\n",
       "      <td>0</td>\n",
       "      <td>unknown</td>\n",
       "      <td>7.80</td>\n",
       "      <td>фэнтези,драма,приключения</td>\n",
       "      <td>3750</td>\n",
       "    </tr>\n",
       "    <tr>\n",
       "      <th>1097</th>\n",
       "      <td>Шаг вперед 4</td>\n",
       "      <td>121016712</td>\n",
       "      <td>2012-07-25 12:00:00+00:00</td>\n",
       "      <td>Художественный</td>\n",
       "      <td>Офспринг Интертейнмент, Саммит Интертейнмент</td>\n",
       "      <td>США</td>\n",
       "      <td>Скотт Спир</td>\n",
       "      <td>Дженнифер Джибгот, Эрик Фейг, Адам Шенкман</td>\n",
       "      <td>«12+» - для детей старше 12 лет</td>\n",
       "      <td>0</td>\n",
       "      <td>0</td>\n",
       "      <td>0</td>\n",
       "      <td>unknown</td>\n",
       "      <td>7.10</td>\n",
       "      <td>драма,мелодрама,музыка</td>\n",
       "      <td>1200</td>\n",
       "    </tr>\n",
       "    <tr>\n",
       "      <th>1131</th>\n",
       "      <td>Золушка: Полный вперед!</td>\n",
       "      <td>124001612</td>\n",
       "      <td>2012-07-06 12:00:00+00:00</td>\n",
       "      <td>Анимационный</td>\n",
       "      <td>ЮФилм, Эрольд энд Фэмили, МК2 Продакшнз</td>\n",
       "      <td>Франция</td>\n",
       "      <td>Паскаль Эрольд</td>\n",
       "      <td>Паскаль Эрольд</td>\n",
       "      <td>«12+» - для детей старше 12 лет</td>\n",
       "      <td>0</td>\n",
       "      <td>0</td>\n",
       "      <td>0</td>\n",
       "      <td>unknown</td>\n",
       "      <td>4.20</td>\n",
       "      <td>мультфильм,фэнтези,семейный</td>\n",
       "      <td>7355</td>\n",
       "    </tr>\n",
       "    <tr>\n",
       "      <th>1147</th>\n",
       "      <td>Средь бела дня</td>\n",
       "      <td>121020012</td>\n",
       "      <td>2012-08-15 12:00:00+00:00</td>\n",
       "      <td>Художественный</td>\n",
       "      <td>Саммит Интертейнмент, Интрепид Пикчерз, Галави...</td>\n",
       "      <td>США</td>\n",
       "      <td>Мабрук Эль Мекри</td>\n",
       "      <td>Тревор Мэйси, Марк Д.Эванс</td>\n",
       "      <td>«16+» - для детей старше 16 лет</td>\n",
       "      <td>0</td>\n",
       "      <td>0</td>\n",
       "      <td>0</td>\n",
       "      <td>unknown</td>\n",
       "      <td>5.50</td>\n",
       "      <td>боевик,триллер</td>\n",
       "      <td>1045</td>\n",
       "    </tr>\n",
       "    <tr>\n",
       "      <th>1153</th>\n",
       "      <td>Джек - покоритель великанов</td>\n",
       "      <td>121003813</td>\n",
       "      <td>2013-02-21 12:00:00+00:00</td>\n",
       "      <td>Художественный</td>\n",
       "      <td>Нью Лайн Синема, Лежендари Пикчерз, Ориджинал ...</td>\n",
       "      <td>США</td>\n",
       "      <td>Брайан Сингер</td>\n",
       "      <td>Дэйвид Добкин, Нил Мориц</td>\n",
       "      <td>«12+» - для детей старше 12 лет</td>\n",
       "      <td>0</td>\n",
       "      <td>0</td>\n",
       "      <td>0</td>\n",
       "      <td>unknown</td>\n",
       "      <td>6.30</td>\n",
       "      <td>фэнтези,приключения</td>\n",
       "      <td>190</td>\n",
       "    </tr>\n",
       "    <tr>\n",
       "      <th>1209</th>\n",
       "      <td>Аэротачки</td>\n",
       "      <td>224013814</td>\n",
       "      <td>2014-10-07 12:00:00+00:00</td>\n",
       "      <td>Анимационный</td>\n",
       "      <td>Ти Филмз, Ламлайт Анимейшн Студиос</td>\n",
       "      <td>США</td>\n",
       "      <td>Тони Тэнг</td>\n",
       "      <td>Джефф Боулер, Пегги Ли, Чарли Вонг Уинг Фанг</td>\n",
       "      <td>«0+» - для любой зрительской аудитории</td>\n",
       "      <td>0</td>\n",
       "      <td>0</td>\n",
       "      <td>0</td>\n",
       "      <td>unknown</td>\n",
       "      <td>4.10</td>\n",
       "      <td>мультфильм</td>\n",
       "      <td>1230</td>\n",
       "    </tr>\n",
       "    <tr>\n",
       "      <th>1269</th>\n",
       "      <td>Обещание /По произведению Стефана Цвейга/</td>\n",
       "      <td>121009914</td>\n",
       "      <td>2014-05-19 12:00:00+00:00</td>\n",
       "      <td>Художественный</td>\n",
       "      <td>Фиделите Фильм, Уалд Банч, Скоуп Пикчерз, Оран...</td>\n",
       "      <td>Франция - Бельгия</td>\n",
       "      <td>Патрис Леконт</td>\n",
       "      <td>Оливье Дебоск, Кристин де Жекель, Марк Миссонье</td>\n",
       "      <td>«18+» - запрещено для детей</td>\n",
       "      <td>0</td>\n",
       "      <td>0</td>\n",
       "      <td>0</td>\n",
       "      <td>unknown</td>\n",
       "      <td>7.10</td>\n",
       "      <td>боевик,драма,приключения</td>\n",
       "      <td>100</td>\n",
       "    </tr>\n",
       "    <tr>\n",
       "      <th>1343</th>\n",
       "      <td>Спасти Санту</td>\n",
       "      <td>124003513</td>\n",
       "      <td>2013-11-11 12:00:00+00:00</td>\n",
       "      <td>Анимационный</td>\n",
       "      <td>Гэйтвэй Филмз, Прана Анимэйшн Студиос</td>\n",
       "      <td>Великобритания - США - Индия</td>\n",
       "      <td>Леон Джусен, Аарон Силман</td>\n",
       "      <td>Кэролин Беннетт, Тони Ноттаг, Ник Симунэк, Тер...</td>\n",
       "      <td>«6+» - для детей старше 6 лет</td>\n",
       "      <td>0</td>\n",
       "      <td>0</td>\n",
       "      <td>0</td>\n",
       "      <td>unknown</td>\n",
       "      <td>5.10</td>\n",
       "      <td>мультфильм,мюзикл,фэнтези</td>\n",
       "      <td>4715</td>\n",
       "    </tr>\n",
       "    <tr>\n",
       "      <th>1349</th>\n",
       "      <td>Курьер из \"Рая\"</td>\n",
       "      <td>111009313</td>\n",
       "      <td>2013-11-26 12:00:00+00:00</td>\n",
       "      <td>Художественный</td>\n",
       "      <td>ЗАО \"Дирекция Кино\", ООО \"ПРО-СИНЕМА продакшн\"</td>\n",
       "      <td>Россия</td>\n",
       "      <td>М.Хлебородов</td>\n",
       "      <td>А.Максимов, Н.Попов</td>\n",
       "      <td>«12+» - для детей старше 12 лет</td>\n",
       "      <td>0</td>\n",
       "      <td>0</td>\n",
       "      <td>0</td>\n",
       "      <td>unknown</td>\n",
       "      <td>5.70</td>\n",
       "      <td>комедия,приключения</td>\n",
       "      <td>750</td>\n",
       "    </tr>\n",
       "    <tr>\n",
       "      <th>1395</th>\n",
       "      <td>Самолеты</td>\n",
       "      <td>124002413</td>\n",
       "      <td>2013-07-29 12:00:00+00:00</td>\n",
       "      <td>Анимационный</td>\n",
       "      <td>Дисней Тун Студиос, Прана Анимейшн Студиос</td>\n",
       "      <td>США</td>\n",
       "      <td>Клэй Холл</td>\n",
       "      <td>Трейси Балтазор</td>\n",
       "      <td>«0+» - для любой зрительской аудитории</td>\n",
       "      <td>0</td>\n",
       "      <td>0</td>\n",
       "      <td>0</td>\n",
       "      <td>unknown</td>\n",
       "      <td>6.50</td>\n",
       "      <td>мультфильм,комедия,приключения</td>\n",
       "      <td>1950</td>\n",
       "    </tr>\n",
       "    <tr>\n",
       "      <th>1415</th>\n",
       "      <td>Она</td>\n",
       "      <td>121003414</td>\n",
       "      <td>2014-02-20 12:00:00+00:00</td>\n",
       "      <td>Художественный</td>\n",
       "      <td>Аннапурна Пикчерз</td>\n",
       "      <td>США</td>\n",
       "      <td>Спайк Джонс</td>\n",
       "      <td>Меган Эллисон, Спайк Джонс, Винсент Ландэйл</td>\n",
       "      <td>«16+» - для детей старше 16 лет</td>\n",
       "      <td>0</td>\n",
       "      <td>0</td>\n",
       "      <td>0</td>\n",
       "      <td>unknown</td>\n",
       "      <td>7.60</td>\n",
       "      <td>мелодрама,фантастика,драма</td>\n",
       "      <td>13420</td>\n",
       "    </tr>\n",
       "    <tr>\n",
       "      <th>1464</th>\n",
       "      <td>Вулкан страстей</td>\n",
       "      <td>121004414</td>\n",
       "      <td>2014-03-17 12:00:00+00:00</td>\n",
       "      <td>Художественный</td>\n",
       "      <td>Куад Продюксьон, ТФ 1 Фильм Продюксьон, Скоуп ...</td>\n",
       "      <td>Франция</td>\n",
       "      <td>Александр Коффре</td>\n",
       "      <td>Николя Дюваль-Адассовски, Ян Зеноу, Лорен Зэйтун</td>\n",
       "      <td>«16+» - для детей старше 16 лет</td>\n",
       "      <td>0</td>\n",
       "      <td>0</td>\n",
       "      <td>0</td>\n",
       "      <td>unknown</td>\n",
       "      <td>6.20</td>\n",
       "      <td>комедия,приключения</td>\n",
       "      <td>1815</td>\n",
       "    </tr>\n",
       "    <tr>\n",
       "      <th>1494</th>\n",
       "      <td>13-й район: Кирпичные особняки</td>\n",
       "      <td>121008314</td>\n",
       "      <td>2014-04-25 12:00:00+00:00</td>\n",
       "      <td>Художественный</td>\n",
       "      <td>Брик Мэншэнс Продакшнз,Синэ+ Канал+, Д8, Европ...</td>\n",
       "      <td>Франция-Канада</td>\n",
       "      <td>Камиль Деламарр</td>\n",
       "      <td>Люк Бессон, Клод Леже, Джонатан Вэнджер</td>\n",
       "      <td>«16+» - для детей старше 16 лет</td>\n",
       "      <td>0</td>\n",
       "      <td>0</td>\n",
       "      <td>0</td>\n",
       "      <td>unknown</td>\n",
       "      <td>5.50</td>\n",
       "      <td>боевик,криминал</td>\n",
       "      <td>750</td>\n",
       "    </tr>\n",
       "    <tr>\n",
       "      <th>1529</th>\n",
       "      <td>Секретный эксперимент</td>\n",
       "      <td>121001114</td>\n",
       "      <td>2014-01-29 12:00:00+00:00</td>\n",
       "      <td>Художественный</td>\n",
       "      <td>Бефор де Дор Пикчерз, Фаворит Фильм, Санчэйсер...</td>\n",
       "      <td>Германия - США</td>\n",
       "      <td>Блэр Эриксон</td>\n",
       "      <td>Кристиан Арнольд-Бютел, Нил Додсон, Бен Сэмюэл...</td>\n",
       "      <td>«18+» - запрещено для детей</td>\n",
       "      <td>0</td>\n",
       "      <td>0</td>\n",
       "      <td>0</td>\n",
       "      <td>unknown</td>\n",
       "      <td>4.90</td>\n",
       "      <td>ужасы,фантастика,триллер</td>\n",
       "      <td>400</td>\n",
       "    </tr>\n",
       "    <tr>\n",
       "      <th>1540</th>\n",
       "      <td>Долгое падение.</td>\n",
       "      <td>121009214</td>\n",
       "      <td>2014-05-07 12:00:00+00:00</td>\n",
       "      <td>Художественный</td>\n",
       "      <td>Вилдгаз Филмз, Би-Би-Си, Дэ Эс ЭМ Продуцион, Ф...</td>\n",
       "      <td>Великобритания - Германия</td>\n",
       "      <td>Паскаль Шомель</td>\n",
       "      <td>Финола Двайер, Кристоф Дэниэл, Аманда Пози</td>\n",
       "      <td>«18+» - запрещено для детей</td>\n",
       "      <td>0</td>\n",
       "      <td>0</td>\n",
       "      <td>0</td>\n",
       "      <td>unknown</td>\n",
       "      <td>6.60</td>\n",
       "      <td>драма,комедия</td>\n",
       "      <td>1950</td>\n",
       "    </tr>\n",
       "    <tr>\n",
       "      <th>1598</th>\n",
       "      <td>Годзилла.</td>\n",
       "      <td>121008714</td>\n",
       "      <td>2014-04-25 12:00:00+00:00</td>\n",
       "      <td>Художественный</td>\n",
       "      <td>Уорнер Бразерс, Леджендари Пикчерз, Дисрапшн И...</td>\n",
       "      <td>США - Япония</td>\n",
       "      <td>Гарет Эдвардс</td>\n",
       "      <td>Джон Джашни, Томас Талл</td>\n",
       "      <td>«16+» - для детей старше 16 лет</td>\n",
       "      <td>0</td>\n",
       "      <td>0</td>\n",
       "      <td>0</td>\n",
       "      <td>unknown</td>\n",
       "      <td>6.10</td>\n",
       "      <td>фантастика,боевик,триллер</td>\n",
       "      <td>4060</td>\n",
       "    </tr>\n",
       "    <tr>\n",
       "      <th>1603</th>\n",
       "      <td>Лесной патруль</td>\n",
       "      <td>224014814</td>\n",
       "      <td>2014-11-17 12:00:00+00:00</td>\n",
       "      <td>Анимационный</td>\n",
       "      <td>Неофилм</td>\n",
       "      <td>Норвегия</td>\n",
       "      <td>Расмус А.Сивертсен</td>\n",
       "      <td>Ааге Ааберге, Ливе Бонневье</td>\n",
       "      <td>«0+» - для любой зрительской аудитории</td>\n",
       "      <td>0</td>\n",
       "      <td>0</td>\n",
       "      <td>0</td>\n",
       "      <td>unknown</td>\n",
       "      <td>5.60</td>\n",
       "      <td>мультфильм,приключения,семейный</td>\n",
       "      <td>1530</td>\n",
       "    </tr>\n",
       "    <tr>\n",
       "      <th>1662</th>\n",
       "      <td>Лимб</td>\n",
       "      <td>121023513</td>\n",
       "      <td>2013-09-09 12:00:00+00:00</td>\n",
       "      <td>Художественный</td>\n",
       "      <td>Уалд Банч, Куперхарт Интертейнмент, Гувернеман...</td>\n",
       "      <td>Канада - Франция</td>\n",
       "      <td>Винченцо Натали</td>\n",
       "      <td>Марк Ду Понтавиче</td>\n",
       "      <td>«16+» - для детей старше 16 лет</td>\n",
       "      <td>0</td>\n",
       "      <td>0</td>\n",
       "      <td>0</td>\n",
       "      <td>unknown</td>\n",
       "      <td>6.00</td>\n",
       "      <td>ужасы,фэнтези,триллер</td>\n",
       "      <td>2820</td>\n",
       "    </tr>\n",
       "    <tr>\n",
       "      <th>1756</th>\n",
       "      <td>Астрал. Глава 2</td>\n",
       "      <td>221039113</td>\n",
       "      <td>2013-10-25 12:00:00+00:00</td>\n",
       "      <td>Художественный</td>\n",
       "      <td>Блумхаус Продакшнз, Интертейнмент Ван, ФилмДис...</td>\n",
       "      <td>США</td>\n",
       "      <td>Джеймс Ван</td>\n",
       "      <td>Джейсон Блум, Орен Пели</td>\n",
       "      <td>«16+» - для детей старше 16 лет</td>\n",
       "      <td>0</td>\n",
       "      <td>0</td>\n",
       "      <td>0</td>\n",
       "      <td>unknown</td>\n",
       "      <td>6.50</td>\n",
       "      <td>ужасы,триллер</td>\n",
       "      <td>340</td>\n",
       "    </tr>\n",
       "    <tr>\n",
       "      <th>1767</th>\n",
       "      <td>Пиноккио /По мотивам сказки Карло Коллоди \"При...</td>\n",
       "      <td>124002513</td>\n",
       "      <td>2013-07-29 12:00:00+00:00</td>\n",
       "      <td>Анимационный</td>\n",
       "      <td>2Дэ3Дэ Анимейшн, Комета Фильм, Ирис Продакшнз,...</td>\n",
       "      <td>Франция - Италия - Бельгия - Люксембург</td>\n",
       "      <td>Энцо Д'Алло</td>\n",
       "      <td>Эрик Гозенс, Николас Стейл</td>\n",
       "      <td>«0+» - для любой зрительской аудитории</td>\n",
       "      <td>0</td>\n",
       "      <td>0</td>\n",
       "      <td>0</td>\n",
       "      <td>unknown</td>\n",
       "      <td>6.40</td>\n",
       "      <td>фэнтези,драма,приключения</td>\n",
       "      <td>150</td>\n",
       "    </tr>\n",
       "    <tr>\n",
       "      <th>1812</th>\n",
       "      <td>Этим утром в Нью-Йорке</td>\n",
       "      <td>121009614</td>\n",
       "      <td>2014-05-21 12:00:00+00:00</td>\n",
       "      <td>Художественный</td>\n",
       "      <td>Лэндскейп Интертейнмент, Форс Мажор, Проминент...</td>\n",
       "      <td>США</td>\n",
       "      <td>Фил Олден Робинсон</td>\n",
       "      <td>Боб Купер, Тайлер Митчелл, Дэниэл Дж. Уолкер</td>\n",
       "      <td>«12+» - для детей старше 12 лет</td>\n",
       "      <td>0</td>\n",
       "      <td>0</td>\n",
       "      <td>0</td>\n",
       "      <td>unknown</td>\n",
       "      <td>6.20</td>\n",
       "      <td>драма,комедия</td>\n",
       "      <td>360</td>\n",
       "    </tr>\n",
       "    <tr>\n",
       "      <th>1890</th>\n",
       "      <td>Машина времени в джакузи 2</td>\n",
       "      <td>121005015</td>\n",
       "      <td>2015-03-18 12:00:00+00:00</td>\n",
       "      <td>Художественный</td>\n",
       "      <td>Парамаунт Пикчерз, Метро Голдвин Майер</td>\n",
       "      <td>США</td>\n",
       "      <td>Стив Пинк</td>\n",
       "      <td>Эндрю Панай</td>\n",
       "      <td>«18+» - запрещено для детей</td>\n",
       "      <td>0</td>\n",
       "      <td>0</td>\n",
       "      <td>0</td>\n",
       "      <td>unknown</td>\n",
       "      <td>4.50</td>\n",
       "      <td>фантастика,комедия,детектив</td>\n",
       "      <td>16149552</td>\n",
       "    </tr>\n",
       "    <tr>\n",
       "      <th>2047</th>\n",
       "      <td>Феи: Легенда о чудовище</td>\n",
       "      <td>124003314</td>\n",
       "      <td>2014-12-17 12:00:00+00:00</td>\n",
       "      <td>Анимационный</td>\n",
       "      <td>Дисней Тун Студиос, Прана Студиос</td>\n",
       "      <td>США</td>\n",
       "      <td>Стив Лотер</td>\n",
       "      <td>Макул Вигерт</td>\n",
       "      <td>«0+» - для любой зрительской аудитории</td>\n",
       "      <td>0</td>\n",
       "      <td>0</td>\n",
       "      <td>0</td>\n",
       "      <td>unknown</td>\n",
       "      <td>7.50</td>\n",
       "      <td>мультфильм,фэнтези,приключения</td>\n",
       "      <td>16429913</td>\n",
       "    </tr>\n",
       "    <tr>\n",
       "      <th>2086</th>\n",
       "      <td>Исчезнувшая /По произведению Гиллиан Флинн/</td>\n",
       "      <td>121021014</td>\n",
       "      <td>2014-09-19 12:00:00+00:00</td>\n",
       "      <td>Художественный</td>\n",
       "      <td>Нью Ридженси Пикчерз, Пасифик Стандарт, Риджен...</td>\n",
       "      <td>США - Великобритания</td>\n",
       "      <td>Дэвид Финчер</td>\n",
       "      <td>Джошуа Донен, Арнон Милчэн, Сиан Чаффин</td>\n",
       "      <td>«18+» - запрещено для детей</td>\n",
       "      <td>0</td>\n",
       "      <td>0</td>\n",
       "      <td>0</td>\n",
       "      <td>unknown</td>\n",
       "      <td>7.90</td>\n",
       "      <td>триллер,драма,детектив</td>\n",
       "      <td>822023</td>\n",
       "    </tr>\n",
       "    <tr>\n",
       "      <th>2090</th>\n",
       "      <td>Общак</td>\n",
       "      <td>121021114</td>\n",
       "      <td>2014-09-19 12:00:00+00:00</td>\n",
       "      <td>Художественный</td>\n",
       "      <td>Фокс Сёрчлайт Пикчерз, Чемин Интертейнмент</td>\n",
       "      <td>США</td>\n",
       "      <td>Михаэль Р.Роскам</td>\n",
       "      <td>Дилан Кларк, Майкл Ларокка, Питер Чернин</td>\n",
       "      <td>«18+» - запрещено для детей</td>\n",
       "      <td>0</td>\n",
       "      <td>0</td>\n",
       "      <td>0</td>\n",
       "      <td>unknown</td>\n",
       "      <td>6.70</td>\n",
       "      <td>триллер,драма,криминал</td>\n",
       "      <td>500</td>\n",
       "    </tr>\n",
       "    <tr>\n",
       "      <th>2105</th>\n",
       "      <td>Форсаж 7</td>\n",
       "      <td>121001215</td>\n",
       "      <td>2015-01-27 12:00:00+00:00</td>\n",
       "      <td>Художественный</td>\n",
       "      <td>Юниверсал Пикчерз, Релятивити Медиа, Дентсу, Ф...</td>\n",
       "      <td>США</td>\n",
       "      <td>Джеймс Ван</td>\n",
       "      <td>Вин Дизель, Майкл Фоттрел</td>\n",
       "      <td>«16+» - для детей старше 16 лет</td>\n",
       "      <td>0</td>\n",
       "      <td>0</td>\n",
       "      <td>0</td>\n",
       "      <td>unknown</td>\n",
       "      <td>7.00</td>\n",
       "      <td>боевик,триллер,приключения</td>\n",
       "      <td>1486131019</td>\n",
       "    </tr>\n",
       "  </tbody>\n",
       "</table>\n",
       "</div>"
      ],
      "text/plain": [
       "                                                  title   puNumber  \\\n",
       "110   Гарри Поттер и орден Феникса /По роману Дж.К.Р...  121026316   \n",
       "113   Гарри Поттер и узник Азкабана /По роману Дж.К....  121026116   \n",
       "122   Гарри Поттер и кубок огня /По роману Дж.К.Ролинг/  121026216   \n",
       "446                                Белоснежка и охотник  121013012   \n",
       "487                                       Отважная Лифи  124000512   \n",
       "510                                        Мадагаскар 3  124001112   \n",
       "532                                           Схватка _  121000312   \n",
       "783                                       Неудержимые 2  121018412   \n",
       "801                          Любовь на кончиках пальцев  121033312   \n",
       "874                              Родительский беспредел  121031912   \n",
       "887                                          Арктика 3D  126003016   \n",
       "937                                   Волшебная страна.  124001113   \n",
       "1034                                 Монстры на острове  124002515   \n",
       "1050                                    Папа - досвидос  221035012   \n",
       "1086            Жизнь Пи /По произведению Янна Мартела/  121029812   \n",
       "1097                                       Шаг вперед 4  121016712   \n",
       "1131                            Золушка: Полный вперед!  124001612   \n",
       "1147                                     Средь бела дня  121020012   \n",
       "1153                        Джек - покоритель великанов  121003813   \n",
       "1209                                          Аэротачки  224013814   \n",
       "1269          Обещание /По произведению Стефана Цвейга/  121009914   \n",
       "1343                                       Спасти Санту  124003513   \n",
       "1349                                    Курьер из \"Рая\"  111009313   \n",
       "1395                                           Самолеты  124002413   \n",
       "1415                                                Она  121003414   \n",
       "1464                                    Вулкан страстей  121004414   \n",
       "1494                     13-й район: Кирпичные особняки  121008314   \n",
       "1529                              Секретный эксперимент  121001114   \n",
       "1540                                    Долгое падение.  121009214   \n",
       "1598                                          Годзилла.  121008714   \n",
       "1603                                     Лесной патруль  224014814   \n",
       "1662                                               Лимб  121023513   \n",
       "1756                                    Астрал. Глава 2  221039113   \n",
       "1767  Пиноккио /По мотивам сказки Карло Коллоди \"При...  124002513   \n",
       "1812                             Этим утром в Нью-Йорке  121009614   \n",
       "1890                         Машина времени в джакузи 2  121005015   \n",
       "2047                            Феи: Легенда о чудовище  124003314   \n",
       "2086        Исчезнувшая /По произведению Гиллиан Флинн/  121021014   \n",
       "2090                                              Общак  121021114   \n",
       "2105                                           Форсаж 7  121001215   \n",
       "\n",
       "               show_start_date            type  \\\n",
       "110  2016-09-23 12:00:00+00:00  Художественный   \n",
       "113  2016-09-23 12:00:00+00:00  Художественный   \n",
       "122  2016-09-23 12:00:00+00:00  Художественный   \n",
       "446  2012-05-25 12:00:00+00:00  Художественный   \n",
       "487  2012-04-05 12:00:00+00:00    Анимационный   \n",
       "510  2012-04-27 12:00:00+00:00  Художественный   \n",
       "532  2012-01-11 12:00:00+00:00  Художественный   \n",
       "783  2012-08-09 12:00:00+00:00  Художественный   \n",
       "801  2012-12-27 12:00:00+00:00  Художественный   \n",
       "874  2012-12-21 12:00:00+00:00  Художественный   \n",
       "887  2016-07-01 12:00:00+00:00          Прочие   \n",
       "937  2013-04-15 12:00:00+00:00    Анимационный   \n",
       "1034 2015-06-25 12:00:00+00:00    Анимационный   \n",
       "1050 2012-09-24 12:00:00+00:00  Художественный   \n",
       "1086 2012-12-21 12:00:00+00:00  Художественный   \n",
       "1097 2012-07-25 12:00:00+00:00  Художественный   \n",
       "1131 2012-07-06 12:00:00+00:00    Анимационный   \n",
       "1147 2012-08-15 12:00:00+00:00  Художественный   \n",
       "1153 2013-02-21 12:00:00+00:00  Художественный   \n",
       "1209 2014-10-07 12:00:00+00:00    Анимационный   \n",
       "1269 2014-05-19 12:00:00+00:00  Художественный   \n",
       "1343 2013-11-11 12:00:00+00:00    Анимационный   \n",
       "1349 2013-11-26 12:00:00+00:00  Художественный   \n",
       "1395 2013-07-29 12:00:00+00:00    Анимационный   \n",
       "1415 2014-02-20 12:00:00+00:00  Художественный   \n",
       "1464 2014-03-17 12:00:00+00:00  Художественный   \n",
       "1494 2014-04-25 12:00:00+00:00  Художественный   \n",
       "1529 2014-01-29 12:00:00+00:00  Художественный   \n",
       "1540 2014-05-07 12:00:00+00:00  Художественный   \n",
       "1598 2014-04-25 12:00:00+00:00  Художественный   \n",
       "1603 2014-11-17 12:00:00+00:00    Анимационный   \n",
       "1662 2013-09-09 12:00:00+00:00  Художественный   \n",
       "1756 2013-10-25 12:00:00+00:00  Художественный   \n",
       "1767 2013-07-29 12:00:00+00:00    Анимационный   \n",
       "1812 2014-05-21 12:00:00+00:00  Художественный   \n",
       "1890 2015-03-18 12:00:00+00:00  Художественный   \n",
       "2047 2014-12-17 12:00:00+00:00    Анимационный   \n",
       "2086 2014-09-19 12:00:00+00:00  Художественный   \n",
       "2090 2014-09-19 12:00:00+00:00  Художественный   \n",
       "2105 2015-01-27 12:00:00+00:00  Художественный   \n",
       "\n",
       "                                            film_studio  \\\n",
       "110                        Уорнер Бразерс, Хэйдей Филмз   \n",
       "113          Хэйдей Филмз, 1492 Пикчерз, Уорнер Бразерс   \n",
       "122                        Уорнер Бразерс, Хэйдэй Филмз   \n",
       "446                        Юниверсал Пикчерз, Рот Филмз   \n",
       "487                              Мьюнг Филмз, Одолтоджи   \n",
       "510                                  ДримУоркс Анимейшн   \n",
       "532   Лиддел Интертейнмент, Скотт Фри Продакшнз, 198...   \n",
       "783   Миллениум Филм, Нью Имидж Филмз, Юниверсал Пик...   \n",
       "801   Ле Продюксьон дю Трезор, Ля Компань Синематогр...   \n",
       "874     Чернин Интертейнмент, Уолден Медиа, ХХ век Фокс   \n",
       "887                   МакГиливрэй, Фримен Филмз, Аймакс   \n",
       "937                Брейктру Филмз, Эс Эм Бэ Инвестментс   \n",
       "1034  Аби Шуи, Хакайдо Медиа Партнерс, Джи Дрим, Роб...   \n",
       "1050          Коламбиа Пикчерз, Хэппи Медисон Продакшнз   \n",
       "1086    Фокс 2000 Пикчерз, Хайшанг Филмз, Ритм энд Хайз   \n",
       "1097       Офспринг Интертейнмент, Саммит Интертейнмент   \n",
       "1131            ЮФилм, Эрольд энд Фэмили, МК2 Продакшнз   \n",
       "1147  Саммит Интертейнмент, Интрепид Пикчерз, Галави...   \n",
       "1153  Нью Лайн Синема, Лежендари Пикчерз, Ориджинал ...   \n",
       "1209                 Ти Филмз, Ламлайт Анимейшн Студиос   \n",
       "1269  Фиделите Фильм, Уалд Банч, Скоуп Пикчерз, Оран...   \n",
       "1343              Гэйтвэй Филмз, Прана Анимэйшн Студиос   \n",
       "1349     ЗАО \"Дирекция Кино\", ООО \"ПРО-СИНЕМА продакшн\"   \n",
       "1395         Дисней Тун Студиос, Прана Анимейшн Студиос   \n",
       "1415                                  Аннапурна Пикчерз   \n",
       "1464  Куад Продюксьон, ТФ 1 Фильм Продюксьон, Скоуп ...   \n",
       "1494  Брик Мэншэнс Продакшнз,Синэ+ Канал+, Д8, Европ...   \n",
       "1529  Бефор де Дор Пикчерз, Фаворит Фильм, Санчэйсер...   \n",
       "1540  Вилдгаз Филмз, Би-Би-Си, Дэ Эс ЭМ Продуцион, Ф...   \n",
       "1598  Уорнер Бразерс, Леджендари Пикчерз, Дисрапшн И...   \n",
       "1603                                            Неофилм   \n",
       "1662  Уалд Банч, Куперхарт Интертейнмент, Гувернеман...   \n",
       "1756  Блумхаус Продакшнз, Интертейнмент Ван, ФилмДис...   \n",
       "1767  2Дэ3Дэ Анимейшн, Комета Фильм, Ирис Продакшнз,...   \n",
       "1812  Лэндскейп Интертейнмент, Форс Мажор, Проминент...   \n",
       "1890             Парамаунт Пикчерз, Метро Голдвин Майер   \n",
       "2047                  Дисней Тун Студиос, Прана Студиос   \n",
       "2086  Нью Ридженси Пикчерз, Пасифик Стандарт, Риджен...   \n",
       "2090         Фокс Сёрчлайт Пикчерз, Чемин Интертейнмент   \n",
       "2105  Юниверсал Пикчерз, Релятивити Медиа, Дентсу, Ф...   \n",
       "\n",
       "                                    production_country  \\\n",
       "110                               США - Великобритания   \n",
       "113                                                США   \n",
       "122                               США - Великобритания   \n",
       "446                                                США   \n",
       "487                                        Южная Корея   \n",
       "510                                                США   \n",
       "532                                                США   \n",
       "783                                                США   \n",
       "801                                  Франция - Бельгия   \n",
       "874                                                США   \n",
       "887                                                США   \n",
       "937   Великобритания - Польша - КНР - Индия - Норвегия   \n",
       "1034                                   Япония - Канада   \n",
       "1050                                               США   \n",
       "1086                                               США   \n",
       "1097                                               США   \n",
       "1131                                           Франция   \n",
       "1147                                               США   \n",
       "1153                                               США   \n",
       "1209                                               США   \n",
       "1269                                 Франция - Бельгия   \n",
       "1343                      Великобритания - США - Индия   \n",
       "1349                                            Россия   \n",
       "1395                                               США   \n",
       "1415                                               США   \n",
       "1464                                           Франция   \n",
       "1494                                    Франция-Канада   \n",
       "1529                                    Германия - США   \n",
       "1540                         Великобритания - Германия   \n",
       "1598                                      США - Япония   \n",
       "1603                                          Норвегия   \n",
       "1662                                  Канада - Франция   \n",
       "1756                                               США   \n",
       "1767           Франция - Италия - Бельгия - Люксембург   \n",
       "1812                                               США   \n",
       "1890                                               США   \n",
       "2047                                               США   \n",
       "2086                              США - Великобритания   \n",
       "2090                                               США   \n",
       "2105                                               США   \n",
       "\n",
       "                                       director  \\\n",
       "110                                  Дэвид Йетс   \n",
       "113                             Альфонсо Куарон   \n",
       "122                                 Майк Ньюэлл   \n",
       "446                              Руперт Сандерс   \n",
       "487                                    Сон-Юн О   \n",
       "510    Эрик Дарнелл, Том МакГрат, Конрад Вернон   \n",
       "532                                Джо Карнахан   \n",
       "783                                 Саймон Уэст   \n",
       "801                                Режи Ройнсар   \n",
       "874                                 Энди Фикмен   \n",
       "887                            Грэг МакГиливрэй   \n",
       "937   Мартин Клэпп, Дорота Кобеля, Джофф Линдси   \n",
       "1034                            Такаши Ямадзаки   \n",
       "1050                                 Шон Андерс   \n",
       "1086                                     Энг Ли   \n",
       "1097                                 Скотт Спир   \n",
       "1131                             Паскаль Эрольд   \n",
       "1147                           Мабрук Эль Мекри   \n",
       "1153                              Брайан Сингер   \n",
       "1209                                  Тони Тэнг   \n",
       "1269                              Патрис Леконт   \n",
       "1343                  Леон Джусен, Аарон Силман   \n",
       "1349                               М.Хлебородов   \n",
       "1395                                  Клэй Холл   \n",
       "1415                                Спайк Джонс   \n",
       "1464                           Александр Коффре   \n",
       "1494                            Камиль Деламарр   \n",
       "1529                               Блэр Эриксон   \n",
       "1540                             Паскаль Шомель   \n",
       "1598                              Гарет Эдвардс   \n",
       "1603                         Расмус А.Сивертсен   \n",
       "1662                            Винченцо Натали   \n",
       "1756                                 Джеймс Ван   \n",
       "1767                                Энцо Д'Алло   \n",
       "1812                         Фил Олден Робинсон   \n",
       "1890                                  Стив Пинк   \n",
       "2047                                 Стив Лотер   \n",
       "2086                               Дэвид Финчер   \n",
       "2090                           Михаэль Р.Роскам   \n",
       "2105                                 Джеймс Ван   \n",
       "\n",
       "                                               producer  \\\n",
       "110                        Дэйвид Баррон, Дэйвид Хейман   \n",
       "113                                       Майкл Барната   \n",
       "122                                       Дэйвид Хейман   \n",
       "446                   Сэм Мерсер, Палак Патель, Джо Рот   \n",
       "487                                  Сун-ку Ким, Эун Ли   \n",
       "510                             Мирей Сория, Марк Свифт   \n",
       "532              Джо Карнахан, Ридли Скотт, Тони Скотт    \n",
       "783       Кевин Кинг Темплтон, Джон Томпсон, Лес Уэлдон   \n",
       "801                                          Ален Аттал   \n",
       "874        Билли Кристал, Саманта Спрешер, ПИтер Чернин   \n",
       "887                   Грег МакГиливрэй, Шон МакГиливрэй   \n",
       "937                       Магдалена Баргел, Хью Велчман   \n",
       "1034                                     Генки Хавамура   \n",
       "1050  Джек Джаррапуто, Аллен Коверт, Хезер Перри, Ад...   \n",
       "1086                  Энг Ли, Джил Неттер, Дэвид Уомарк   \n",
       "1097         Дженнифер Джибгот, Эрик Фейг, Адам Шенкман   \n",
       "1131                                     Паскаль Эрольд   \n",
       "1147                         Тревор Мэйси, Марк Д.Эванс   \n",
       "1153                           Дэйвид Добкин, Нил Мориц   \n",
       "1209       Джефф Боулер, Пегги Ли, Чарли Вонг Уинг Фанг   \n",
       "1269    Оливье Дебоск, Кристин де Жекель, Марк Миссонье   \n",
       "1343  Кэролин Беннетт, Тони Ноттаг, Ник Симунэк, Тер...   \n",
       "1349                                А.Максимов, Н.Попов   \n",
       "1395                                    Трейси Балтазор   \n",
       "1415        Меган Эллисон, Спайк Джонс, Винсент Ландэйл   \n",
       "1464   Николя Дюваль-Адассовски, Ян Зеноу, Лорен Зэйтун   \n",
       "1494            Люк Бессон, Клод Леже, Джонатан Вэнджер   \n",
       "1529  Кристиан Арнольд-Бютел, Нил Додсон, Бен Сэмюэл...   \n",
       "1540         Финола Двайер, Кристоф Дэниэл, Аманда Пози   \n",
       "1598                            Джон Джашни, Томас Талл   \n",
       "1603                        Ааге Ааберге, Ливе Бонневье   \n",
       "1662                                  Марк Ду Понтавиче   \n",
       "1756                            Джейсон Блум, Орен Пели   \n",
       "1767                         Эрик Гозенс, Николас Стейл   \n",
       "1812       Боб Купер, Тайлер Митчелл, Дэниэл Дж. Уолкер   \n",
       "1890                                        Эндрю Панай   \n",
       "2047                                       Макул Вигерт   \n",
       "2086            Джошуа Донен, Арнон Милчэн, Сиан Чаффин   \n",
       "2090           Дилан Кларк, Майкл Ларокка, Питер Чернин   \n",
       "2105                         Вин Дизель, Майкл Фоттрел    \n",
       "\n",
       "                             age_restriction  refundable_support  \\\n",
       "110          «16+» - для детей старше 16 лет                   0   \n",
       "113          «12+» - для детей старше 12 лет                   0   \n",
       "122          «16+» - для детей старше 16 лет                   0   \n",
       "446          «16+» - для детей старше 16 лет                   0   \n",
       "487   «0+» - для любой зрительской аудитории                   0   \n",
       "510   «0+» - для любой зрительской аудитории                   0   \n",
       "532              «18+» - запрещено для детей                   0   \n",
       "783              «18+» - запрещено для детей                   0   \n",
       "801              «18+» - запрещено для детей                   0   \n",
       "874            «6+» - для детей старше 6 лет                   0   \n",
       "887   «0+» - для любой зрительской аудитории                   0   \n",
       "937              «18+» - запрещено для детей                   0   \n",
       "1034  «0+» - для любой зрительской аудитории                   0   \n",
       "1050         «16+» - для детей старше 16 лет                   0   \n",
       "1086           «6+» - для детей старше 6 лет                   0   \n",
       "1097         «12+» - для детей старше 12 лет                   0   \n",
       "1131         «12+» - для детей старше 12 лет                   0   \n",
       "1147         «16+» - для детей старше 16 лет                   0   \n",
       "1153         «12+» - для детей старше 12 лет                   0   \n",
       "1209  «0+» - для любой зрительской аудитории                   0   \n",
       "1269             «18+» - запрещено для детей                   0   \n",
       "1343           «6+» - для детей старше 6 лет                   0   \n",
       "1349         «12+» - для детей старше 12 лет                   0   \n",
       "1395  «0+» - для любой зрительской аудитории                   0   \n",
       "1415         «16+» - для детей старше 16 лет                   0   \n",
       "1464         «16+» - для детей старше 16 лет                   0   \n",
       "1494         «16+» - для детей старше 16 лет                   0   \n",
       "1529             «18+» - запрещено для детей                   0   \n",
       "1540             «18+» - запрещено для детей                   0   \n",
       "1598         «16+» - для детей старше 16 лет                   0   \n",
       "1603  «0+» - для любой зрительской аудитории                   0   \n",
       "1662         «16+» - для детей старше 16 лет                   0   \n",
       "1756         «16+» - для детей старше 16 лет                   0   \n",
       "1767  «0+» - для любой зрительской аудитории                   0   \n",
       "1812         «12+» - для детей старше 12 лет                   0   \n",
       "1890             «18+» - запрещено для детей                   0   \n",
       "2047  «0+» - для любой зрительской аудитории                   0   \n",
       "2086             «18+» - запрещено для детей                   0   \n",
       "2090             «18+» - запрещено для детей                   0   \n",
       "2105         «16+» - для детей старше 16 лет                   0   \n",
       "\n",
       "      nonrefundable_support  budget financing_source  ratings  \\\n",
       "110                       0       0          unknown     7.70   \n",
       "113                       0       0          unknown     8.20   \n",
       "122                       0       0          unknown     7.90   \n",
       "446                       0       0          unknown     6.00   \n",
       "487                       0       0          unknown     7.20   \n",
       "510                       0       0          unknown     7.40   \n",
       "532                       0       0          unknown     8.00   \n",
       "783                       0       0          unknown     7.00   \n",
       "801                       0       0          unknown     7.20   \n",
       "874                       0       0          unknown     6.40   \n",
       "887                       0       0          unknown     7.70   \n",
       "937                       0       0          unknown     7.90   \n",
       "1034                      0       0          unknown     7.10   \n",
       "1050                      0       0          unknown     6.10   \n",
       "1086                      0       0          unknown     7.80   \n",
       "1097                      0       0          unknown     7.10   \n",
       "1131                      0       0          unknown     4.20   \n",
       "1147                      0       0          unknown     5.50   \n",
       "1153                      0       0          unknown     6.30   \n",
       "1209                      0       0          unknown     4.10   \n",
       "1269                      0       0          unknown     7.10   \n",
       "1343                      0       0          unknown     5.10   \n",
       "1349                      0       0          unknown     5.70   \n",
       "1395                      0       0          unknown     6.50   \n",
       "1415                      0       0          unknown     7.60   \n",
       "1464                      0       0          unknown     6.20   \n",
       "1494                      0       0          unknown     5.50   \n",
       "1529                      0       0          unknown     4.90   \n",
       "1540                      0       0          unknown     6.60   \n",
       "1598                      0       0          unknown     6.10   \n",
       "1603                      0       0          unknown     5.60   \n",
       "1662                      0       0          unknown     6.00   \n",
       "1756                      0       0          unknown     6.50   \n",
       "1767                      0       0          unknown     6.40   \n",
       "1812                      0       0          unknown     6.20   \n",
       "1890                      0       0          unknown     4.50   \n",
       "2047                      0       0          unknown     7.50   \n",
       "2086                      0       0          unknown     7.90   \n",
       "2090                      0       0          unknown     6.70   \n",
       "2105                      0       0          unknown     7.00   \n",
       "\n",
       "                               genres  box_office  \n",
       "110      фэнтези,приключения,семейный      759526  \n",
       "113      фэнтези,приключения,семейный     1125302  \n",
       "122      фэнтези,приключения,семейный      843310  \n",
       "446              фэнтези,боевик,драма      470427  \n",
       "487      мультфильм,приключения,драма         200  \n",
       "510    мультфильм,комедия,приключения        3590  \n",
       "532            триллер,драма,криминал         210  \n",
       "783        боевик,триллер,приключения        1385  \n",
       "801                 мелодрама,комедия         450  \n",
       "874                  комедия,семейный         500  \n",
       "887    документальный,короткометражка       45300  \n",
       "937          драма,семейный,биография       20260  \n",
       "1034   мультфильм,фэнтези,приключения         120  \n",
       "1050                          комедия         200  \n",
       "1086        фэнтези,драма,приключения        3750  \n",
       "1097           драма,мелодрама,музыка        1200  \n",
       "1131      мультфильм,фэнтези,семейный        7355  \n",
       "1147                   боевик,триллер        1045  \n",
       "1153              фэнтези,приключения         190  \n",
       "1209                       мультфильм        1230  \n",
       "1269         боевик,драма,приключения         100  \n",
       "1343        мультфильм,мюзикл,фэнтези        4715  \n",
       "1349              комедия,приключения         750  \n",
       "1395   мультфильм,комедия,приключения        1950  \n",
       "1415       мелодрама,фантастика,драма       13420  \n",
       "1464              комедия,приключения        1815  \n",
       "1494                  боевик,криминал         750  \n",
       "1529         ужасы,фантастика,триллер         400  \n",
       "1540                    драма,комедия        1950  \n",
       "1598        фантастика,боевик,триллер        4060  \n",
       "1603  мультфильм,приключения,семейный        1530  \n",
       "1662            ужасы,фэнтези,триллер        2820  \n",
       "1756                    ужасы,триллер         340  \n",
       "1767        фэнтези,драма,приключения         150  \n",
       "1812                    драма,комедия         360  \n",
       "1890      фантастика,комедия,детектив    16149552  \n",
       "2047   мультфильм,фэнтези,приключения    16429913  \n",
       "2086           триллер,драма,детектив      822023  \n",
       "2090           триллер,драма,криминал         500  \n",
       "2105       боевик,триллер,приключения  1486131019  "
      ]
     },
     "execution_count": 29,
     "metadata": {},
     "output_type": "execute_result"
    }
   ],
   "source": [
    "duplicateRows_boxoffice = duplicateRows.query('box_office != 0')\n",
    "duplicateRows_boxoffice.head(40)"
   ]
  },
  {
   "cell_type": "code",
   "execution_count": 30,
   "metadata": {},
   "outputs": [
    {
     "data": {
      "text/plain": [
       "13336528810"
      ]
     },
     "execution_count": 30,
     "metadata": {},
     "output_type": "execute_result"
    }
   ],
   "source": [
    "duplicateRows_boxoffice['box_office'].sum()"
   ]
  },
  {
   "cell_type": "code",
   "execution_count": 31,
   "metadata": {},
   "outputs": [
    {
     "data": {
      "text/plain": [
       "222228164592"
      ]
     },
     "execution_count": 31,
     "metadata": {},
     "output_type": "execute_result"
    }
   ],
   "source": [
    "df['box_office'].sum()"
   ]
  },
  {
   "cell_type": "code",
   "execution_count": 32,
   "metadata": {},
   "outputs": [],
   "source": [
    "df = df.drop_duplicates(subset = ['puNumber'])"
   ]
  },
  {
   "cell_type": "code",
   "execution_count": 33,
   "metadata": {},
   "outputs": [
    {
     "name": "stdout",
     "output_type": "stream",
     "text": [
      "<class 'pandas.core.frame.DataFrame'>\n",
      "Index: 7484 entries, 0 to 7485\n",
      "Data columns (total 16 columns):\n",
      " #   Column                 Non-Null Count  Dtype              \n",
      "---  ------                 --------------  -----              \n",
      " 0   title                  7484 non-null   object             \n",
      " 1   puNumber               7484 non-null   int32              \n",
      " 2   show_start_date        7484 non-null   datetime64[ns, UTC]\n",
      " 3   type                   7484 non-null   object             \n",
      " 4   film_studio            7484 non-null   object             \n",
      " 5   production_country     7484 non-null   object             \n",
      " 6   director               7484 non-null   object             \n",
      " 7   producer               7484 non-null   object             \n",
      " 8   age_restriction        7484 non-null   object             \n",
      " 9   refundable_support     7484 non-null   int32              \n",
      " 10  nonrefundable_support  7484 non-null   int32              \n",
      " 11  budget                 7484 non-null   int32              \n",
      " 12  financing_source       7484 non-null   object             \n",
      " 13  ratings                7484 non-null   float64            \n",
      " 14  genres                 7484 non-null   object             \n",
      " 15  box_office             7484 non-null   int32              \n",
      "dtypes: datetime64[ns, UTC](1), float64(1), int32(5), object(9)\n",
      "memory usage: 847.8+ KB\n"
     ]
    }
   ],
   "source": [
    "df.info()"
   ]
  },
  {
   "cell_type": "markdown",
   "metadata": {},
   "source": [
    "* В столбце 'title' есть дубликаты. Дубликаты появились из за того, что один и тот же фильм прокатывался в кинотеатрах не по одному разу.\n",
    "\n",
    "* В столбце 'puNumber' были удалены 2 дубликата. "
   ]
  },
  {
   "cell_type": "markdown",
   "metadata": {
    "id": "52fOPrEBgFyQ"
   },
   "source": [
    "### Изучите категориальные значения\n",
    "\n",
    "- Посмотрите, какая общая проблема встречается почти во всех категориальных столбцах;\n",
    "- Исправьте проблемные значения в поле `type`.\n",
    "\n",
    "<div id=\"accordion\">\n",
    "    <div class=\"card\">\n",
    "        <div class=\"card-header\" id=\"headingThree\">\n",
    "            <button class=\"btn btn-link collapsed\" data-toggle=\"collapse\" data-target=\"#collapseHint_1\" aria-expanded=\"false\" aria-controls=\"collapseHint_1\">Подсказка</button>\n",
    "        </div>\n",
    "        <div id=\"collapseHint_1\" class=\"collapse\" aria-labelledby=\"headingThree\" data-parent=\"#accordion\">\n",
    "            <div class=\"card-body\">\n",
    "В поле <code>type</code> есть несколько значений, у которых появился пробел в начале строки. Самый простой способ их «починить» -- использовать метод <a href=\"https://pandas.pydata.org/docs/reference/api/pandas.Series.str.strip.html#pandas.Series.str.strip\">.str.strip</a>. Этот метод удаляет все пробелы, которые встречаются в начале и в конце строки. Применяют его таким образом:<br>\n",
    "<code>df['type'].str.strip()</code>\n",
    "            </div>\n",
    "        </div>\n",
    "    </div>\n",
    "</div>"
   ]
  },
  {
   "cell_type": "code",
   "execution_count": 34,
   "metadata": {
    "scrolled": false
   },
   "outputs": [
    {
     "data": {
      "text/html": [
       "<div>\n",
       "<style scoped>\n",
       "    .dataframe tbody tr th:only-of-type {\n",
       "        vertical-align: middle;\n",
       "    }\n",
       "\n",
       "    .dataframe tbody tr th {\n",
       "        vertical-align: top;\n",
       "    }\n",
       "\n",
       "    .dataframe thead th {\n",
       "        text-align: right;\n",
       "    }\n",
       "</style>\n",
       "<table border=\"1\" class=\"dataframe\">\n",
       "  <thead>\n",
       "    <tr style=\"text-align: right;\">\n",
       "      <th></th>\n",
       "      <th>title</th>\n",
       "      <th>puNumber</th>\n",
       "      <th>show_start_date</th>\n",
       "      <th>type</th>\n",
       "      <th>film_studio</th>\n",
       "      <th>production_country</th>\n",
       "      <th>director</th>\n",
       "      <th>producer</th>\n",
       "      <th>age_restriction</th>\n",
       "      <th>refundable_support</th>\n",
       "      <th>nonrefundable_support</th>\n",
       "      <th>budget</th>\n",
       "      <th>financing_source</th>\n",
       "      <th>ratings</th>\n",
       "      <th>genres</th>\n",
       "      <th>box_office</th>\n",
       "    </tr>\n",
       "  </thead>\n",
       "  <tbody>\n",
       "    <tr>\n",
       "      <th>0</th>\n",
       "      <td>Открытый простор</td>\n",
       "      <td>221048915</td>\n",
       "      <td>2015-11-27 12:00:00+00:00</td>\n",
       "      <td>Художественный</td>\n",
       "      <td>Тачстоун Пикчерз, Кобальт Пикчерз, Бикон Пикче...</td>\n",
       "      <td>США</td>\n",
       "      <td>Кевин Костнер</td>\n",
       "      <td>Дэвид Валдес, Кевин Костнер, Джейк Эбертс</td>\n",
       "      <td>«18+» - запрещено для детей</td>\n",
       "      <td>0</td>\n",
       "      <td>0</td>\n",
       "      <td>0</td>\n",
       "      <td>unknown</td>\n",
       "      <td>7.20</td>\n",
       "      <td>боевик,драма,мелодрама</td>\n",
       "      <td>0</td>\n",
       "    </tr>\n",
       "    <tr>\n",
       "      <th>1</th>\n",
       "      <td>Особо важное задание</td>\n",
       "      <td>111013716</td>\n",
       "      <td>2016-09-13 12:00:00+00:00</td>\n",
       "      <td>Художественный</td>\n",
       "      <td>Киностудия \"Мосфильм\"</td>\n",
       "      <td>СССР</td>\n",
       "      <td>Е.Матвеев</td>\n",
       "      <td>unknown</td>\n",
       "      <td>«6+» - для детей старше 6 лет</td>\n",
       "      <td>0</td>\n",
       "      <td>0</td>\n",
       "      <td>0</td>\n",
       "      <td>unknown</td>\n",
       "      <td>6.60</td>\n",
       "      <td>драма,военный</td>\n",
       "      <td>0</td>\n",
       "    </tr>\n",
       "    <tr>\n",
       "      <th>2</th>\n",
       "      <td>Особо опасен</td>\n",
       "      <td>221038416</td>\n",
       "      <td>2016-10-10 12:00:00+00:00</td>\n",
       "      <td>Художественный</td>\n",
       "      <td>Юниверсал Пикчерз, Кикстарт Продакшнз, Марк Пл...</td>\n",
       "      <td>США</td>\n",
       "      <td>Тимур Бекмамбетов</td>\n",
       "      <td>Джим Лемли, Джейсон Нетер, Марк Е.Платт, Яйн Смит</td>\n",
       "      <td>«18+» - запрещено для детей</td>\n",
       "      <td>0</td>\n",
       "      <td>0</td>\n",
       "      <td>0</td>\n",
       "      <td>unknown</td>\n",
       "      <td>6.80</td>\n",
       "      <td>фантастика,боевик,триллер</td>\n",
       "      <td>0</td>\n",
       "    </tr>\n",
       "    <tr>\n",
       "      <th>3</th>\n",
       "      <td>Особо опасен</td>\n",
       "      <td>221026916</td>\n",
       "      <td>2016-06-10 12:00:00+00:00</td>\n",
       "      <td>Художественный</td>\n",
       "      <td>Юниверсал Пикчерз, Кикстарт Продакшнз, Марк Пл...</td>\n",
       "      <td>США</td>\n",
       "      <td>Тимур Бекмамбетов</td>\n",
       "      <td>Джим Лемли, Джейсон Нетер, Марк Е.Платт, Яйн Смит</td>\n",
       "      <td>«18+» - запрещено для детей</td>\n",
       "      <td>0</td>\n",
       "      <td>0</td>\n",
       "      <td>0</td>\n",
       "      <td>unknown</td>\n",
       "      <td>6.80</td>\n",
       "      <td>фантастика,боевик,триллер</td>\n",
       "      <td>0</td>\n",
       "    </tr>\n",
       "    <tr>\n",
       "      <th>4</th>\n",
       "      <td>Особо опасен</td>\n",
       "      <td>221030815</td>\n",
       "      <td>2015-07-29 12:00:00+00:00</td>\n",
       "      <td>Художественный</td>\n",
       "      <td>Юниверсал Пикчерз, Кикстарт Продакшнз, Марк Пл...</td>\n",
       "      <td>США</td>\n",
       "      <td>Тимур Бекмамбетов</td>\n",
       "      <td>Джим Лемли, Джейсон Нетер, Марк Е.Платт, Яйн Смит</td>\n",
       "      <td>«18+» - запрещено для детей</td>\n",
       "      <td>0</td>\n",
       "      <td>0</td>\n",
       "      <td>0</td>\n",
       "      <td>unknown</td>\n",
       "      <td>6.80</td>\n",
       "      <td>фантастика,боевик,триллер</td>\n",
       "      <td>0</td>\n",
       "    </tr>\n",
       "  </tbody>\n",
       "</table>\n",
       "</div>"
      ],
      "text/plain": [
       "                  title   puNumber           show_start_date            type  \\\n",
       "0      Открытый простор  221048915 2015-11-27 12:00:00+00:00  Художественный   \n",
       "1  Особо важное задание  111013716 2016-09-13 12:00:00+00:00  Художественный   \n",
       "2          Особо опасен  221038416 2016-10-10 12:00:00+00:00  Художественный   \n",
       "3          Особо опасен  221026916 2016-06-10 12:00:00+00:00  Художественный   \n",
       "4          Особо опасен  221030815 2015-07-29 12:00:00+00:00  Художественный   \n",
       "\n",
       "                                         film_studio production_country  \\\n",
       "0  Тачстоун Пикчерз, Кобальт Пикчерз, Бикон Пикче...                США   \n",
       "1                              Киностудия \"Мосфильм\"               СССР   \n",
       "2  Юниверсал Пикчерз, Кикстарт Продакшнз, Марк Пл...                США   \n",
       "3  Юниверсал Пикчерз, Кикстарт Продакшнз, Марк Пл...                США   \n",
       "4  Юниверсал Пикчерз, Кикстарт Продакшнз, Марк Пл...                США   \n",
       "\n",
       "            director                                           producer  \\\n",
       "0      Кевин Костнер          Дэвид Валдес, Кевин Костнер, Джейк Эбертс   \n",
       "1          Е.Матвеев                                            unknown   \n",
       "2  Тимур Бекмамбетов  Джим Лемли, Джейсон Нетер, Марк Е.Платт, Яйн Смит   \n",
       "3  Тимур Бекмамбетов  Джим Лемли, Джейсон Нетер, Марк Е.Платт, Яйн Смит   \n",
       "4  Тимур Бекмамбетов  Джим Лемли, Джейсон Нетер, Марк Е.Платт, Яйн Смит   \n",
       "\n",
       "                 age_restriction  refundable_support  nonrefundable_support  \\\n",
       "0    «18+» - запрещено для детей                   0                      0   \n",
       "1  «6+» - для детей старше 6 лет                   0                      0   \n",
       "2    «18+» - запрещено для детей                   0                      0   \n",
       "3    «18+» - запрещено для детей                   0                      0   \n",
       "4    «18+» - запрещено для детей                   0                      0   \n",
       "\n",
       "   budget financing_source  ratings                     genres  box_office  \n",
       "0       0          unknown     7.20     боевик,драма,мелодрама           0  \n",
       "1       0          unknown     6.60              драма,военный           0  \n",
       "2       0          unknown     6.80  фантастика,боевик,триллер           0  \n",
       "3       0          unknown     6.80  фантастика,боевик,триллер           0  \n",
       "4       0          unknown     6.80  фантастика,боевик,триллер           0  "
      ]
     },
     "execution_count": 34,
     "metadata": {},
     "output_type": "execute_result"
    }
   ],
   "source": [
    "df.head()"
   ]
  },
  {
   "cell_type": "code",
   "execution_count": 35,
   "metadata": {},
   "outputs": [
    {
     "data": {
      "text/plain": [
       "array(['Дэвид Валдес, Кевин Костнер, Джейк Эбертс', 'unknown',\n",
       "       'Джим Лемли, Джейсон Нетер, Марк Е.Платт, Яйн Смит', ...,\n",
       "       'Поппи Бегум, Ник Пойнц',\n",
       "       'Джефф Боулер, Дэниэл Гродник, Луильо Руис, Брэт Саксон, Кирк Шоу',\n",
       "       'Дженнифер Додж'], dtype=object)"
      ]
     },
     "execution_count": 35,
     "metadata": {},
     "output_type": "execute_result"
    }
   ],
   "source": [
    "df['producer'].str.strip()\n",
    "df['producer'].unique()"
   ]
  },
  {
   "cell_type": "code",
   "execution_count": 36,
   "metadata": {},
   "outputs": [
    {
     "data": {
      "text/plain": [
       "array(['unknown', 'Министерство культуры', 'Фонд кино',\n",
       "       'Министерство культуры, Фонд кино'], dtype=object)"
      ]
     },
     "execution_count": 36,
     "metadata": {},
     "output_type": "execute_result"
    }
   ],
   "source": [
    "df['financing_source'].str.strip()\n",
    "df['financing_source'].unique()"
   ]
  },
  {
   "cell_type": "code",
   "execution_count": 37,
   "metadata": {},
   "outputs": [
    {
     "data": {
      "text/plain": [
       "array(['Тачстоун Пикчерз, Кобальт Пикчерз, Бикон Пикчерз, Тиг Продакшнз',\n",
       "       'Киностудия \"Мосфильм\"',\n",
       "       'Юниверсал Пикчерз, Кикстарт Продакшнз, Марк Платт Продакшнз, Рилейтивити Медиа, Спайгласс Интертейнмент, Стилкин Филмз, Топ Кау Продакшнз',\n",
       "       ...,\n",
       "       'Дэниел Гродник Продакшнз, Вандерфилм Медиа Корпорэйшн, Импринт Интертейнмент, Вор Хорс Интертейнмент, Пимиента ',\n",
       "       'Никелодеон Анимейшн Студиос, Спин Мастер',\n",
       "       'Анимаккорд Лтд., ООО Студия \"АНИМАККОРД\"'], dtype=object)"
      ]
     },
     "execution_count": 37,
     "metadata": {},
     "output_type": "execute_result"
    }
   ],
   "source": [
    "df['film_studio'].str.strip()\n",
    "df['film_studio'].unique()"
   ]
  },
  {
   "cell_type": "code",
   "execution_count": 38,
   "metadata": {},
   "outputs": [
    {
     "data": {
      "text/plain": [
       "array(['США', 'СССР', 'Франция', 'СССР, Венгрия',\n",
       "       'Германия-Великобритания', 'Великобритания - Италия',\n",
       "       'Чехословакия', 'США - Франция - Турция', 'Новая Зеландия',\n",
       "       'Канада - Франция - Испания', 'США-Германия',\n",
       "       'США - Великобритания', 'Великобритания', 'США - Германия',\n",
       "       'Франция - Мексика - США', 'Россия, Казахстан, США',\n",
       "       'СССР, Швеция', 'СССР, Франция, Англия, Куба, ГДР', 'Германия',\n",
       "       'Великобритания-США-Германия-КНР',\n",
       "       'СССР, ЧССР, Западный Берлин, ПНР', 'СССР, Италия', 'Гонконг, КНР',\n",
       "       'США - Франция', 'США - Япония - Франция - Великобритания',\n",
       "       'Гонконг - Сингапур - Таиланд - Великобритания', 'США-Канада',\n",
       "       'Франция - Италия - Великобритания - США', 'Франция - США',\n",
       "       'Ирландия-Великобритания-Германия', 'Чехия', 'США-Австралия',\n",
       "       'СССР, Финляндия', 'США-Франция-Великобритания-Австрия',\n",
       "       'США - Бельгия', 'США - Ирландия - Великобритания',\n",
       "       'Великобритания - США',\n",
       "       'Люксембург - Нидерланды - Испания - Великобритания - США - Италия',\n",
       "       'Великобритания - Франция - США', 'Новая Зеландия - США',\n",
       "       'США - Великобритания - Чехия',\n",
       "       'Канада - Франция - Великобритания', 'Ирландия',\n",
       "       'Великобритания - Германия - США',\n",
       "       'США - Франция - Великобритания', 'Япония', 'СССР, Польша',\n",
       "       'Франция - Испания', 'Канада-Франция', 'Германия - Италия - США',\n",
       "       'Аргентина - Бразилия', 'Дания - Швейцария - Бельгия - Франция',\n",
       "       'США - Испания', 'Германия - США',\n",
       "       'Франция - Австрия - Германия - Италия - США', 'Австрия',\n",
       "       'США - Канада - Германия', 'США - Канада',\n",
       "       'СССР - Швейцария - Франция', 'Россия - Казахстан', 'Гонконг',\n",
       "       'Италия', 'США - ОАЭ', 'Россия',\n",
       "       'США - Франция - Испания - Великобритания',\n",
       "       'Великобритания - Франция', 'США-Италия-Испания-Аргентина',\n",
       "       'Франция-Великобритания', 'КНР - Гонконг',\n",
       "       'Франция - Италия - Швейцария', 'США - Новая Зеландия',\n",
       "       'Франция - Бельгия', 'КНР', 'Германия - Великобритания - Австрия',\n",
       "       'Великобритания - Израиль - Франция - Япония - США', 'Швеция',\n",
       "       'Испания', 'Дания', 'Франция - Бельгия - Люксембург',\n",
       "       'США - Индия - ОАЭ',\n",
       "       'Германия-Канада-Великобритания-Швейцария-Франция',\n",
       "       'Мексика - Чили', 'Аргентина', 'Бразилия', 'Чили', 'Австралия',\n",
       "       'Португалия - Франция', 'США - ЮАР', 'Исландия-Ирландия-Германия',\n",
       "       'США-Индонезия', 'Южная Корея', 'Мексика - Испания - Дания - США',\n",
       "       'Великобритания-США', 'Франция - Италия', 'США-Франция',\n",
       "       'США - Венгрия - Великобритания', 'Бельгия-Франция-Италия',\n",
       "       'Чехия - Германия', 'Германия - Франция', 'США-Нидерланды',\n",
       "       'Украина', 'Великобритания - Германия', 'Франция-Бельгия',\n",
       "       'США-Франция-Испания', 'Италия - Франция', 'Канада',\n",
       "       'Швеция-Франция-Дания', 'Германия-Франция-Польша',\n",
       "       'Франция-Великобритания - Германия',\n",
       "       'США - Бразилия - Франция - Австралия - Великобритания - Германия',\n",
       "       'Германия-Австрия', 'Германия-Италия- Шри-Ланка',\n",
       "       'Великобритания - Испания',\n",
       "       'США - Великобритания - Канада - Швеция',\n",
       "       'Босния и Герцеговина - Франция - Великобритания - Германия - Словения - Бельгия - Сербия',\n",
       "       'Великобритания - Франция - Италия - США', 'США-ОАЭ',\n",
       "       'Испания - Франция', 'США-Великобритания', 'США-ЮАР',\n",
       "       'Великобритания-Австралия - США',\n",
       "       'Норвегия - Швеция - Дания - Германия', 'Норвегия', 'Швейцария',\n",
       "       'Греция - Германия - Франция', 'Норвения', 'Южная Корея - США',\n",
       "       'Чили - Франция - США', 'Австрия - Германия - Франция',\n",
       "       'Швеция - Дания', 'Великобритания - Франция - Бельгия - Италия',\n",
       "       'Франция - Германия', 'Грузия - Франция - Люксембург',\n",
       "       'США - Франция - Великобритания - Бразилия ', 'США - КНР',\n",
       "       'Мексика - Франция', 'США - Германия - Гонконг - Сингапур',\n",
       "       'Финляндия - Австрия - Россия', 'Испания - Куба',\n",
       "       'Великобритания - ЮАР', 'Великобритания - Ирландия', 'Израиль',\n",
       "       'Бразилия - Германия - Порртугалия - Франция ',\n",
       "       'Франция - Канада - Бельгия', 'Франция-Испания',\n",
       "       'Испания - Канада - Япония', 'Иран', 'Швеция-Куба',\n",
       "       'США-Великобритания-Ирландия', 'Гонконг - КНР', 'Нидерланды',\n",
       "       'Испания - Канада', 'Япония-Великобритания',\n",
       "       'Великобритания - Норвегия - Дания - Германия',\n",
       "       'Финляндия - Франция - Германия',\n",
       "       'Мексика - Франция - Нидерланды - Германия', 'США - Индия',\n",
       "       'США-Великобритания-Индия', 'США-Канада-Бельгия',\n",
       "       'Республика Узбекистан', 'Италия ', 'Турция',\n",
       "       'Сербия - Словения - Хорватия - Черногория - Македония',\n",
       "       'Киргизия', 'Германия - Нидерланды - Беларусь - Россия - Латвия',\n",
       "       'Индия', 'Нидерланды - Россия - Германия',\n",
       "       'Великобритания - Нидерланды - Франция - Хорватия',\n",
       "       'Канада - Южная Корея',\n",
       "       'Великобритания - Польша - КНР - Индия - Норвегия',\n",
       "       'Япония - Франция - США - Южная Корея - Турция',\n",
       "       'Мексика - Аргентина - Великобритания', 'Израиль - Франция',\n",
       "       'Польша - Португалия - Франция - Великобритания',\n",
       "       'Австралия - США', 'США - Великобритания ',\n",
       "       'Франция - Люксембург - Бельгия', 'Армения',\n",
       "       'Бельгия - Люксембург - Франция - Швейцария',\n",
       "       'США - Великобритания - Канада', 'Норвегия - Швеция',\n",
       "       'Канада - Франция', 'КНР - Гонконг - США',\n",
       "       'США - Сингапур - Малайзия - Индонезия', 'Германия - Россия',\n",
       "       'Япония - Канада', 'Финляндия - Дания - Германия - Ирландия',\n",
       "       'Франция - Люксембург - Германия - Бельгия - Швейцария - Великобритания ',\n",
       "       'Канада - США', 'США-Италия-Испания', 'США-Испания',\n",
       "       'США - Швейцария - Франция', 'Испания - США - Колумбия',\n",
       "       'Канада-ЮАР', 'Франция - Россия',\n",
       "       'Германия - Финляндия - Австралия', 'Дания - Швеция', 'Бельгия',\n",
       "       'Германия - Франция - Австрия', 'Франция-Индия', 'ЮАР',\n",
       "       'Франция-Перу', 'Франция - Канада', 'Республика Беларусь',\n",
       "       'Великобритания - Австрия - Франция - США',\n",
       "       'Австрия-Германия-Франция', 'США-Россия', 'Германия-США',\n",
       "       'США - Южная Корея', 'Канада - КНР',\n",
       "       'Дания - Швеция - Италия - Франция - Германия',\n",
       "       'Франция-Италия-Испания-Венгрия', 'Франция - Германия - Бельгия',\n",
       "       'Франция-Великобритания-Чехия', 'Румыния - Франция - Бельгия',\n",
       "       'Болгария - Франция - Изриль',\n",
       "       'Израиль - Германия - Польша - Бельгия - Франция - Люксембург',\n",
       "       'Россия, Германия, Франция, Бельгия', 'Индонезия',\n",
       "       'Франция - Португалия', 'Великобритания - Пуэрто-Рико',\n",
       "       'СССР, ФРГ, Западный Берлин', 'Россия, Республика Беларусь',\n",
       "       'США, Великобритания', 'Франция - Австрия', 'Бельгия-Нидерланды',\n",
       "       'Великобритания - США - Индия', 'США - Великобритания - Австралия',\n",
       "       'Канада - Франция - США - ОАЭ - Великобритания',\n",
       "       'США - Австралия - Франция',\n",
       "       'Дания-Франция-Бельгия-Германия-Великобритания',\n",
       "       'Испания - Аргентина', 'Исландия - Финляндия',\n",
       "       'Россия-Польша-Голландия-Словакия', 'Дания - Германия - Швеция',\n",
       "       'Южная Корея - США - Канада', 'Таиланд', 'США-Мальта',\n",
       "       'США -Германия',\n",
       "       'Великобритания - Германия - Франция - Кипр - США', 'Мексика',\n",
       "       'США - Великобритания - Ирландия', 'США - Украина',\n",
       "       'США - Финляндия - Испания - Великобритания - Франция',\n",
       "       'Австралия-Великобритания',\n",
       "       'США - Канада - Афганистан - Бельгия - Франция',\n",
       "       'США - Великобритания - Германия - Новая Зеландия - Бельгия - Франция',\n",
       "       'Франция-Канада',\n",
       "       'Ирландия - Финляндия - Бельгия - Великобритания - США - Швейцария',\n",
       "       'Малайзия - США', 'Германия - Италия',\n",
       "       'США - Франция - Бельгия - Италия', 'Франция - Ирландия - Швеция',\n",
       "       'Азербайджан-Россия', 'Великобритания - Италия - Швейцария',\n",
       "       'США - Германия - Великобритания',\n",
       "       'Германия - Бельгия - США -Франция', 'США-Китай', 'Чили - Испания',\n",
       "       'Франция - Швейцария', 'Канада - Испания',\n",
       "       'США - Румыния - Великобритания', 'США - Япония',\n",
       "       'США - Россия - Франция', 'Франция-США', 'Парагвай',\n",
       "       'Германия - Канада', 'США - Канада - Великобритания',\n",
       "       'Финляндия - Канада', 'Уругвай-Мексика-Германия ', 'США - Чили',\n",
       "       'Германия - Аргентина - Нидерланды - Чили',\n",
       "       'США - Канада - Индонезия', 'Армения - Казахстан', 'Финляндия',\n",
       "       'Испания - Италия - Франция',\n",
       "       'Бельгия - Испания - Канада - Нидерланды',\n",
       "       'Великобритания - Франция - Швеция - Бельгия',\n",
       "       'Мексика - Эквадор - Канада - США - Франция - Малайзия - Италия - Аргентина - Германия - Индия  ',\n",
       "       'Франция - Бенльгия', 'Индия - Великобритания',\n",
       "       'Япония - Великобритания - Франция',\n",
       "       'Испания - Уругвай - Аргентина',\n",
       "       'Франция - Италия - Бельгия - Люксембург',\n",
       "       'Франция - Украина - Грузия - Армения',\n",
       "       'Сербия - Германия - Венгрия', 'Франция-Польша', 'Франция ',\n",
       "       'Румыния-США', 'Россия-Азербайджан',\n",
       "       'США - Нидерланды - Бельгия - Венгрия - Греция - Канада',\n",
       "       'Германия - Франция - Люксембург', 'США - Россия',\n",
       "       'Великобритания - США - Франция', 'США - Австралия - Дания',\n",
       "       'Бельгия-Франция', 'США-Мексика',\n",
       "       'Норвегия - Азербайджан - Россия - Колумбия - Великобритания - Венгрия - Румыния - Франция - Грузия',\n",
       "       'СЩА', 'Бразилия - Испания', 'Россия, Франция, Латвия',\n",
       "       'Нидерланды - США - Германия - Канада - Франция - Ирландия - Великобритания',\n",
       "       'Уругвай - Колумбия', 'США - Испания - Болгария',\n",
       "       'Армения - Германия', 'США - Великобритания- Франция - Швеция',\n",
       "       'США - Мексика', 'Австралия-Турция-США', 'Швеция - Германия',\n",
       "       'Польша - Италия - Россия', 'Франция - Бразилия',\n",
       "       'США - Канада - КНР', 'СССР, Венгрия, ЧССР, ГДР',\n",
       "       'Бельгия - Германия - Люксембург', 'СССР  ', 'СССР ', ' СССР ',\n",
       "       'США - Австралия', 'Бразилия - США',\n",
       "       'США - Великобритания - Канада - КНР', 'Франция - Чили',\n",
       "       'Франция - США - Великобритания - Колумбия - Бельгия - Россия',\n",
       "       'Дания - Великобритания - ЮАР', 'СССР   ',\n",
       "       'Россия-США-Канада-Люксембург', 'Россия - Республика Кипр',\n",
       "       'Германия - США - Швеция - Франция',\n",
       "       'Великобритания-Германия-Канада-ЮАР', ' СССР   ', 'СССР     ',\n",
       "       'Ирландия, Канада',\n",
       "       'Япония - Великобритания - Швейцария - Ирландия - Дания - Франция - Польша - Австралия - Канада  ',\n",
       "       'Великобритания, Канада', 'Бельгия - США',\n",
       "       'Великобритания - США - Россия', 'Россия-Украина',\n",
       "       'Германия - США - Великобритания - Израиль', 'Канада - Германия',\n",
       "       'США- Ю.Корея', 'Индия - Мексика',\n",
       "       'Великобритания - Франция - Республика Кипр - Швейцария - США - Сербия',\n",
       "       'Испания - Аргентина - Индия - США',\n",
       "       'Норвегия - Исландия - США - Великобритания ',\n",
       "       'Турция - Германя - Франция', 'Германия - Великобритания',\n",
       "       'Австралия - Германия', 'Мексика - Испания',\n",
       "       'Великобритания - США - Германия - Бельгия',\n",
       "       'США - Чехия - Франция', 'Россия - Италия', 'Франция-Россия',\n",
       "       'Норвегия - Дания - Швеция', 'Франция - Швейцария - Германия',\n",
       "       'Грузия - Украина', 'Россия - Эстония - Финляндия - Беларусь',\n",
       "       'США - Франция - ЮАР', 'Великобритания - США - Швейцария',\n",
       "       'Канада-США', 'Мексика - Нидерланды - Германия - Франция',\n",
       "       'США - Испания - Франция', 'США - Великобритания - КНР',\n",
       "       'США-Франция-Канада',\n",
       "       'Япония, Великобритания, Австрия, Германия, Ю.Корея',\n",
       "       'Великобритания - Ирландия - США', 'Бельгия - Италия - Франция ',\n",
       "       'Швейцария-Германия-ЮАР', 'Великобритания - США - Германия',\n",
       "       'Германия - Исландия', 'Испания - США', 'СССР    ', 'Хорватия',\n",
       "       'Финляндия - Исландия - Швеция',\n",
       "       'Канада - США - Германия - Франция',\n",
       "       'США - Великобритания - Испания', 'Ирландия-Великобритания',\n",
       "       'Аргентина - Испания', 'Австрия - Германия', ' СССР',\n",
       "       'Германия - Швейцария - Франция - Южная Корея - США',\n",
       "       'Украина - Нидерланды', 'Венгрия - Германия - Швеция',\n",
       "       'Германия - Франция -  Польша - Турция - Канада - Италия - Россия ',\n",
       "       'СССР, Афганистан', 'СССР, Монголия', 'Россия-Кипр',\n",
       "       'Россия, Грузия, Испания',\n",
       "       'Великобритания - Нидерланды - Германия - Франция - Бельгия - Австрия ',\n",
       "       'Испания - Великобритания - Франция',\n",
       "       'Дания - Норвегия - Великобритания',\n",
       "       'Бельгия - Франция - Люксембург',\n",
       "       'Италия - Франция - Швейцария - Великобритания',\n",
       "       'Франция - Бельгия - Великобритания - Испания - Германия - США',\n",
       "       'Швейцария - Израиль - Франция - Великобритания',\n",
       "       'Великобритания - США - Канада - Нидерланды - Франция',\n",
       "       'Россия, Италия', 'СССР, Албания',\n",
       "       'Россия, Украина, Республика Беларусь, Литва',\n",
       "       'Финляндия - Великобритания - Германия', 'Россия, Украина, Польша',\n",
       "       'Франция - Италия - Бельгия - КНР',\n",
       "       'Германия - Бельгия - Люксембург - Ирландия', 'КНР - Сингапур',\n",
       "       'Франция - Бельгия - Великобритания - США - Нидерланды - Канада',\n",
       "       'США - Россия - Польша - Германия - Пуэрто Рико',\n",
       "       'Франция - Бельгия - Канада', 'США ', 'Мексика - США',\n",
       "       'США - Гонконг - КНР ', 'Греция - Россия',\n",
       "       'Ирландия - Дания - Бельгия - Люксембург - Франция',\n",
       "       'Эстония - Россия',\n",
       "       'Великобритания - Исландия - Испания - Швейцария - США',\n",
       "       'Австралия - Великобритания - Бельгия - Индия',\n",
       "       'Швеция - Германия - Франция - Норвегия',\n",
       "       'Нидерланды - Бельгия - Германия - Ирландия',\n",
       "       'Нидерланды - Великобритания - Бельгия',\n",
       "       'США - Колумбия - Испания', 'Франция-Испания-Бельгия-Панама',\n",
       "       'США-Великобритания-Чехия-Румыния',\n",
       "       'Аргентина - Уругвай - Россия - Германия - Франция - Нидерланды',\n",
       "       'Швеция - Франция - Норвегия - Дания',\n",
       "       'Италия-Франция-Великобритания', 'Великобритания, Франция',\n",
       "       'Австралия, США', 'Венесуэла',\n",
       "       'Великобритания - США - Австралия - Ирландия - Германия - Куба - Канада',\n",
       "       'Южная Корея - КНР',\n",
       "       'Аргентина - Мексика - Бразилия - Франция - США', 'Швеция - США',\n",
       "       'Франция - Германия - Турция - Катар', 'Франция-Китай',\n",
       "       'Россия, Германия, Великобритания',\n",
       "       'Великобритания - Италия - Испания', 'Италия - Россия',\n",
       "       'Япония - КНР - Южная Корея', 'Россия, Германия',\n",
       "       'Россия-Ирландия', 'Македония - Франция - Великобритания',\n",
       "       'Франция - Бразилия - Италия', 'Россия-США', 'Армения-Россия',\n",
       "       'Россия, Румыния', 'Франция -  Бельгия', 'Грузия-Франция',\n",
       "       'ЮАР - США', 'Великобритания-США-Франция',\n",
       "       'Великобритания - США - Германия - Канада - Австралия',\n",
       "       'США-Ирландия', 'Россия, Республика Кипр',\n",
       "       'Германия - Люксембург - Франция', 'Россия-Франция',\n",
       "       'США - Нидерланды - Финляндия - Великобритания - Италия',\n",
       "       'Республика Кипр', 'Венгрия', 'Франция - США - Норвегия - Дания',\n",
       "       'Германия - Австрия - Ирландия', 'США - Финляндия',\n",
       "       'Италия-Великобритания', 'Россия, Испания',\n",
       "       'США - Великобритания - Болгария', 'Великобритания - Люксембург',\n",
       "       'Индия - США', 'США - Канада - Россия - Франция - Чили - Ирландия',\n",
       "       'Грузия-Россия',\n",
       "       'Дания - Австрия - Ирландия - Финляндия - Норвегия - Швеция - Нидерланды',\n",
       "       'США-КНР', 'Грузия', 'Австралия - Ирландия',\n",
       "       'Великобритания - Канада', 'Италия - Аргентина - Словения ',\n",
       "       'Испания - Франция - Нидерланды - Германия - Бельгия - Великобритания - Канада',\n",
       "       'Франция - Чехия - Бельгия',\n",
       "       'Великобритания - Франция - Германия - США',\n",
       "       'Ирландия - Великобритания - Франция - США - Германия - Нидерланды',\n",
       "       'США - Канада - Япония - КНР', 'Италия-Франция',\n",
       "       'США - Великобритания - Исландия', 'Великобритания-Франция',\n",
       "       'Франция - Германия - Нидерланды', 'Иран ',\n",
       "       'Франция - Германия - Швеция - США - Чехия - Словакия - Великобритания - Нидерланды',\n",
       "       'Франция - Канада - Н.Зеландия - США - Нидерланды - Германия - Швеция - Россия',\n",
       "       'Турция - США',\n",
       "       'Великобритания - США - Канада - Бельгия - Нидерланды - Австрия - Германия',\n",
       "       'Израиль - Франция - Германия - Палестина - США - Австрия - Великобритания',\n",
       "       'Аргентина - Франция - Испания', 'СССР, Россия',\n",
       "       'Великобритания - Франция - Италия - Индия - Дания - КНР - Бангладеш - Камбоджа - Гаити - Уганда',\n",
       "       'Италия - Франция - Швейцария',\n",
       "       'Ирландия - Великобритания - Канада', 'Перу', 'США - Норвегия',\n",
       "       'Испания-Канада', 'Китай-Гонконг', 'США - Германия - КНР',\n",
       "       'Великобритания - Новая Зеландия',\n",
       "       'Франция - Дания - Швеция - КНР',\n",
       "       'США - Великобритания - Германия - Бельгия - Дания',\n",
       "       'США - Франция - Канада - Германия - Австралия - Индия', 'unknown',\n",
       "       'СССР, Румыния, Франция', 'СССР, ГДР', 'Австралия-Ирландия',\n",
       "       'США - Китай', 'Великобритания - Франция - Австрия - Швеция',\n",
       "       'Россия, Таджикистан', 'Нидерланды - Бельгия - Болгария',\n",
       "       'Великобритания - Канада - США', 'Франция - Бельгия - Испания',\n",
       "       'Китай-Гонконг-США', 'Франция - Великобритания', 'США - Вьетнам',\n",
       "       'США - Германия - Франция', 'Германия - Франция - Бельгия',\n",
       "       'США - Италия',\n",
       "       'Германия - Дания - Испания - Швеция - Канада - Эстония - Франция',\n",
       "       'Княжество Андорра - Украина', 'Германия - Люксембург - Бельгия',\n",
       "       'Великобритания - Россия - Украина - США',\n",
       "       'Германия - Бельгия - Люксембург - Норвегия',\n",
       "       'США - Австралия - Новая Зеландия - Великобритания',\n",
       "       'США - Франция - Канада - Великобритания', 'Испания-Колумбия',\n",
       "       'Великобритания - Чехия - Франция', 'Россия, Украина', 'Исландия',\n",
       "       'Великобритания - Франция - Венгрия',\n",
       "       'Россия, Франция, Германия, Бельгия', 'Франция - Македония',\n",
       "       'Нидерланды - Франция - Германия - Бельгия - Швеция - Великобритания',\n",
       "       'Испания - США - Великобритания - Канада', 'Германия - Австрия',\n",
       "       'Республика Казахстан',\n",
       "       'Франция - Испания - Дания - Венгрия - Швейцария', 'Франция-КНР',\n",
       "       'США - Пуэрто-Рико - Франция ', 'Мексика - Тайвань - США',\n",
       "       'Великобритания - Испания - Непал - Индия - Венгрия - Гонконг - Германия - Дания - Бахрейн',\n",
       "       'Великобритания - Аргентина - США - Франция - Россия - Испания',\n",
       "       'КНР - США', 'Италия - США', 'Финляндия - Швеция - Германия',\n",
       "       'Канада- Испания', 'Франция - Бельгия - Чехия',\n",
       "       'Франция-Бельгия-Канада', 'Франция - Германия - США',\n",
       "       'США - Дания', 'Индия - КНР', 'Чехия-Великобритания-США',\n",
       "       'США-ФРГ-Россия', 'Ирландия-Нидерланды-Франция-США-Великобритания',\n",
       "       'Россия, Грузия, Хорватия, Испания',\n",
       "       'Финляндия - Швеция - Норвегия', 'Сербия - Великобритания - США',\n",
       "       'США - Великобритания - Франция - Гонконг', 'Швейцария - Франция',\n",
       "       'Швейцария - Великобритания', 'ОАЭ - США',\n",
       "       'США - Франция - Германия - Канада - Австралия ',\n",
       "       'Германия - Австралия', 'Иран, Франция',\n",
       "       'США - Великобритания - Новая Зеландия', 'США-Колумбия',\n",
       "       'США-Франция-Ирландия', 'Великобритания - Франция - Бельгия',\n",
       "       'США - Великобритания - Япония', 'США - Франция - Германия',\n",
       "       'Польша - Ирландия', 'Ирландия - Великобритания - Франция - США',\n",
       "       'США - Бельгия - Великобритания', 'СССР, ВНР',\n",
       "       'Испания - Франция - США - Великобритания - Бельгия',\n",
       "       'Франция - Дания - США', 'США - Гонконг', 'Бразилия - К;анада',\n",
       "       'Франция-Германия', 'США - Колумбия',\n",
       "       'США - Ирландия - Великобритания - Франция',\n",
       "       'Великобритания - США - Канада', 'Польша - Франция',\n",
       "       'Канада - США - Нидерланды - Великобритания - Аргентина',\n",
       "       'Великобритания - Дания', 'Франция - Бельгия - Япония',\n",
       "       'Россия,  Испания', 'Франция -Бельгия',\n",
       "       'США - Канада - Германия - Франция', 'США-Канада-Франция',\n",
       "       'Россия - Германия', 'Россия-Италия', 'Китай - Гонконг',\n",
       "       'Германия-Австрия-Франция-Италия', 'США-Япония',\n",
       "       'США - Германия - Канада', 'Испания-Мексика',\n",
       "       'США - Япония - Канада - Великобритания - Германия - Франция',\n",
       "       'США -Великобритания - Австралия', 'Россия-Украина-Германия',\n",
       "       'Израиль - Франция - Великобритания - Германия', 'Корея',\n",
       "       'Россия - Болгария', 'США-Индия',\n",
       "       'Германия-Канада-Франция-Бельгия', 'Германия-Кения',\n",
       "       'Франция - Монако', 'Франция-Испания-Швейцария',\n",
       "       'Австрия-Франция-Германия', 'Румыния',\n",
       "       'США-Великобритания-Франция', 'Канада-Великобритания',\n",
       "       'Канада-Бразилия-Япония', 'Германия - Дания - Норвегия',\n",
       "       'Дания - Германия', 'СССР - Италия',\n",
       "       'СССР - ГДР - Польша - Италия',\n",
       "       'США - Испания - Франция - Великобритания', 'Китай',\n",
       "       'Мексика-Аргентина',\n",
       "       'Германия - Великобритания - Италия - Испания',\n",
       "       'Франция-Германия-Великобритания', 'Россия - Германия - Швейцария',\n",
       "       'Франция-Австралия', 'Голландия', 'Швейцария-Франция',\n",
       "       'Россия-Белоруссия', 'Франция - Испания - Тайвань',\n",
       "       'США-Южная Корея-Новая Зеландия', 'Великобритания-Венгрия',\n",
       "       'Россия-Германия', 'Великобритания-Франция-Германия',\n",
       "       'Франция-Германия-Италия', 'Швеция-Финляндия-Франция-Норвегия',\n",
       "       'Франция-Италия', 'Германия-Израиль',\n",
       "       'Швеция - Германия - Дания - Норвегия', 'США-Бельгия',\n",
       "       'Франция-Гонконг-Ирландия', 'Эстония', 'Литва-Россия-Украина',\n",
       "       'Германия - Италия - Франция',\n",
       "       'Великобритания - Австрия - Германия', 'Бельгия - Франция',\n",
       "       'Россия-Казахстан', 'Испания - Мальта',\n",
       "       'Франция-Россия-Румыния-Италия-Бельгия', 'Россия - Польша',\n",
       "       'Испания - Мексика', 'США-Аргентина', 'Великобритания ',\n",
       "       'Израиль-США-Франция', 'США - Новая Зеландия - Япония',\n",
       "       'Франция - Чехия - Великобритания', 'Россия-Польша',\n",
       "       'Германия-Франция-Великобритания', 'США-Германия-Канада',\n",
       "       'США-Гонконг-Китай', 'США - Великобритания - Германия',\n",
       "       'США-Канада-Австралия', 'Япония-США-Франция',\n",
       "       'Франция-Испания-Германия', 'США - Хорватия - Босния-Герцеговина',\n",
       "       'Великобритания - Чехия - Франция - Италия',\n",
       "       'США - Германия - Нидерланды', 'Германия - Франция - Канада',\n",
       "       'Франция-Грузия-Германия-Россия-Украина-Бельгия',\n",
       "       'Великобритания - Франция - Италия', 'Россия - США',\n",
       "       'Франция - Италия - Иран', 'Россия - Азербайджан', 'Греция',\n",
       "       'Дания - США', 'США-Великобритания-Новая Зеландия',\n",
       "       'США-Германия-Австралия', 'США-Канада-Италия',\n",
       "       'США - Япония - Германия', 'Австралия-США',\n",
       "       'Франция - Великобритания - Багамские острова - США',\n",
       "       'Швейцария - Люксембург', 'Швейцария - Австрия',\n",
       "       'Германия - Швейцария', 'Дания-Швеция-Франция-Германия', 'Польша',\n",
       "       'Швейцария-Австрия', 'Бразилия - Канада - США',\n",
       "       'Нидерланды - Россия', 'Португалия', 'Франция-Аргентина',\n",
       "       'Швеция-Франция', 'Франция-Украина', 'Германия-Украина-Нидерланды',\n",
       "       'Италия-Швейцария', 'США-Германия-Великобритания',\n",
       "       'Латвия - Россия', 'Германия-Франция-Великобритания-США',\n",
       "       'Канада - Италия', 'США - Объединенные Арабские Эмираты',\n",
       "       'США-Венгрия', 'Малайзия', 'Россия - Германия - Украина',\n",
       "       'США - Австралия - Мексика', 'Литва - Венгрия', 'Германия - Китай',\n",
       "       'Казахстан', 'Республика Корея',\n",
       "       'США - Германия - Франция - Великобритания - Канада ',\n",
       "       'Бельгия - Германия - Люксембург - Франция', 'Франция - Греция',\n",
       "       'Италия - Канада', 'США - Великобритания - Франция',\n",
       "       'США-Италия-Греция', 'Германия - США - Великобритания - Ирландия',\n",
       "       'Великобритания - Франция - Германия',\n",
       "       'Германия - Нидерланды - ЮАР',\n",
       "       'США-Япония-Германия-Великобритания-Нидерланды',\n",
       "       'США-Япония-Германия-Великобритания',\n",
       "       'Германия - Франция - Польша',\n",
       "       'Таиланд-Великобритания-Франция-Германия-Испания-Нидерланды',\n",
       "       'Германия-Италия-Швейцария',\n",
       "       'Дания - Швеция - Великобритания - Франция - Германия - Нидерланды - Норвегия - Финляндия',\n",
       "       'Франция - Великобритания - Нидерланды - Люксембург',\n",
       "       'Нидерланды-Великобритания-Франция-Италия-Япония',\n",
       "       'Финляндия-Дания-Германия-Ирландия', 'Испания-Аргентина',\n",
       "       'Великобритания - Нидерланды - Франция - США', 'Канада - Мексика',\n",
       "       'США, Франция', 'Канада-Южная Корея-США',\n",
       "       'Великобритания - Франция - Бельгия - США', 'КНР - Канада - США',\n",
       "       'Италия - Франция - Германия',\n",
       "       'Швеция - Германия - Франция - Дания', 'Франция - США - Бельгия',\n",
       "       'Украина - Германия - Латвия - Эстония', 'Австрия - Люксембург',\n",
       "       'Великобритания - КНР', 'Монголия', 'Франция - Дания',\n",
       "       'Швеция - Дания - Финляндия',\n",
       "       'Сингапур - Великобритания - Индонезия - Канада - США',\n",
       "       'США - Германия - Япония', 'Таиланд - США', 'Франция - Нидерланды',\n",
       "       'Великобритания - Румыния', 'США - Мальта',\n",
       "       'Великобритания - Германия - Нидерланды - Дания',\n",
       "       'Франция - Германия - Литва - Нидерланды - Россия',\n",
       "       'США - ЮАР - Гонконг', 'Австралия - Колумбия',\n",
       "       'Великобритания - Польша', 'США - Великобритания - Швеция',\n",
       "       'Франция - Швеция - Дания - Норвегия', 'Болгария - США',\n",
       "       'СССР, ФРГ', 'Бельгия - Нидерланды - Франция',\n",
       "       'Финляндия - Германия', 'Болгария',\n",
       "       'Грузия - Россия - Украина - Хорватия - Германия',\n",
       "       'Франция - Люксембург', 'Франция - Германия - Австрия',\n",
       "       'Норвегия - США', 'Германия-Швеция', 'Франция - Германия - Италия',\n",
       "       'Франция-Германия-Австрия', 'КНР-США',\n",
       "       'Великобритания - Ирландия - США ',\n",
       "       'Дания - Латвия - Россия - США', 'Финляндия - Польша',\n",
       "       'Германия - Бельгия', 'Германия - США - Франция - Испания',\n",
       "       'Бельгия-Германия-Канада-Франция-США-Великобритания',\n",
       "       'Нидерланды - Бельгия - Люксембург', 'Канада-Германия',\n",
       "       'Люксембург - Бельгия - Франция', 'США-Великобритания-Австралия',\n",
       "       'Великобритания, Новая Зеландия', 'Бельгия, Великобритания, США',\n",
       "       'Великобритания, Австралия', 'Исландия, Бельгия',\n",
       "       'Испания - Швейцария - Великобритания - Германия - Новая Зеландия - Нидерланды - Канада',\n",
       "       'Франция, Бельгия', 'Великобритания, США', 'Киргизия-Россия',\n",
       "       'Германия, США', 'Великобритания, США, Испания',\n",
       "       'Италия - Швейцария - Германия', 'Россия, Армения',\n",
       "       'Франция, Германия', 'Китай, Канада, США', 'Германия, Австралия',\n",
       "       'КНР, США', 'США, Великобритания, Люксембург',\n",
       "       'Испания, Ирландия, Бельгия, Франция',\n",
       "       'Великобритания - Гонконг - Венгрия - США - Ирландия',\n",
       "       'США - Пуэрто Рико', 'Аргентина - Испания - Уругвай',\n",
       "       'Израиль - Германия - Франция - Швейцария',\n",
       "       'Великобритания - Мексика - США', 'Испания - Болгария - США',\n",
       "       'Россия-Словакия-Чехия',\n",
       "       'Швейцария - КНР - США - Россия - Республика Корея - Великобритания',\n",
       "       'Россия, Нидерланды, Финляндия',\n",
       "       'Испания - Бельгия - Франция - Португалия - Великобритания',\n",
       "       'Бразилия - Португалия - Франция', 'Швеция - Норвегия',\n",
       "       'Франция - Польша - Бельгия', 'CША', 'Китай, США',\n",
       "       'Италия, Франция, Германия', 'Германия - Австрия - Франция',\n",
       "       'Чехия - Словакия - Хорватия', 'Россия, Польша, Финляндия',\n",
       "       'Россия, Латвия, Чешская Республика',\n",
       "       'Франция - Великобритания - Камбоджа - США - КНР',\n",
       "       'Чехия - Испания - США', 'Германия - Люксембург - Дания',\n",
       "       'Великобритания - Испания - Германия', 'Дания - Исландия',\n",
       "       'Германия, Франция, Великобритания',\n",
       "       'Великобритания - Испания - Италия - Латвия - Франция - Эстония',\n",
       "       'Дания, Швеция, Великобритания, Франция, Германия, Норвегия, Финляндия, Нидерланды, Италия',\n",
       "       'Польша - Франция - Великобритания',\n",
       "       'Дания, Норвегия, Венгрия, Чехия',\n",
       "       'Дания - Франция - Германия - Швеция',\n",
       "       'Великобритания, Швеция, США',\n",
       "       'Канада, Франция, Италия, Швейцария, США', 'США, Индия',\n",
       "       'США - Великобритания - Германия - - Швеция - Канада',\n",
       "       'Италия, Франция', 'Республика Беларусь, Германия, США, Россия',\n",
       "       'Италия-Швейцария-Франция-Германия ',\n",
       "       'Россия - Франция - Великобритания - Латвия', 'Россия-Беларусь',\n",
       "       'Франция - Испания - Румыния - США - Бельгия', 'Италия-США',\n",
       "       'Россия, Австрия', 'Ирландия - Великобритания - США',\n",
       "       'Швейцария, Великобритания, Франция, США, Ирландия',\n",
       "       'Мексика, Франция, Германия, Дания, Швеция', 'Нидерланды, Бельгия',\n",
       "       'Швеция, Норвегия, Финляндия, Франция', 'Испания, Франция, Италия',\n",
       "       'Испания-Франция-Греция-Индия-США-Россия-Великобритания',\n",
       "       'Великобритания - Япония - США',\n",
       "       'Дания, Канада, Норвегия, Австралия, США', 'Аргентина, Испания',\n",
       "       'Россия, Германия, Казахстан, Польша, Китай',\n",
       "       'Португалия, Франция, Польша, США', 'США - Канада - Аргентина',\n",
       "       'Ливан-США', 'Япония - США', 'США, Гонконг ',\n",
       "       'Франция - Россия - Швейцария - Румыния - Венгрия',\n",
       "       'Аргентина-Испания', 'Россия, Сербия', 'США - Болгария - Мексика',\n",
       "       'США - Великобритания - Швейцария - Франция',\n",
       "       'Таиланд - КНР - США',\n",
       "       'Великобритания, Нидерланды, Польша, Швейцария, Франция',\n",
       "       'Ирландия - США',\n",
       "       'Германия - Франция - Великобритания - Польша - США',\n",
       "       'Великобритания-Франция-Италия', 'США - Австралия - Индия',\n",
       "       'Франция - КНР', 'Великобритания - Израиль',\n",
       "       'Великобритания - Норвегия - Кения - Хорватия',\n",
       "       'США - Бразилия - Великобритания - Канада', 'Германия, Бельгия',\n",
       "       'Австралия, Канада', 'США, Великобритания, Франция',\n",
       "       'Кения, Германия', 'Нидерланды, Бельгия, Люксембург', 'Колумбия',\n",
       "       'Латвия - Франция', 'Ирландия, Великобритания',\n",
       "       'Франция - Израиль - Германия', 'Швеция, Франция, Великобритания',\n",
       "       'Бельгия - Люксембург', 'Германия - Бельгия - Великобритания',\n",
       "       'Испания, Франция, Великобритания, Дания, Бельгия, Германия',\n",
       "       'Румыния, ЮАР, Иран, Франция, Канада, Великобритания',\n",
       "       'Германия, Франция', 'США, Япония',\n",
       "       'США, Великобритания, Ирландия, Люксембург', 'Республика Армения',\n",
       "       'США, Франция, Япония', 'Япония, США', 'Канада, США',\n",
       "       'Республика Кипр - Россия',\n",
       "       'Дания - Франция - Италия - Бельгия - Нидерланды',\n",
       "       'Россия - Грузия', 'Италия, Германия', 'Норвегия, Швеция, Дания',\n",
       "       'Республика Кипр, Россия', 'КНР, Индия, Гонконг, США',\n",
       "       'Израиль, Украина', 'США, Россия', 'США - КНР - Индия - Ю.Корея',\n",
       "       'США - Швеция', 'Франция, Канада', 'Россия-Китай',\n",
       "       'Канада, Великобритания', 'США, Германия',\n",
       "       'Канада, США, Каймановы острова',\n",
       "       'Бразилия, Уругвай, Дания, Норвегия, Чили, Швеция',\n",
       "       'Пуэрто-Рико, Великобритания, США',\n",
       "       'Уругвай - Аргентина - Испания',\n",
       "       'США - Великобритания - Италия - Израиль - Сербия - Индия',\n",
       "       'США - Канада - Франция - Индия', 'Великобритания - Россия - КНР',\n",
       "       'Франция, Новая Зеландия', 'Франция, Люксембург, Бельгия',\n",
       "       'Канада, США, Норвегия', 'Италия, Испания',\n",
       "       'Испания - Германия - Нидерланды', 'Бразилия - США - КНР ',\n",
       "       'Великобритания, Германия, Дания, США', '2019',\n",
       "       'Италия - Фрация - Бразилия - Германия',\n",
       "       'Норвегия - Швеция - Россия', 'Великобритания, Япония, США',\n",
       "       'Сша, Канада', 'Бельгия, Канада',\n",
       "       'Великобритания - Австралия - США', 'США, Канада', 'КНР - США ',\n",
       "       'Франция - Финляндия', 'Колумбия - США',\n",
       "       'Великобритания, Франция, Бельгия', 'Норвегия - Нидерланды',\n",
       "       'Великобритания, Канада, США', 'Япония, Великобритания',\n",
       "       'Италия - Бельгия - Франция', 'Россия, Бельгия, Финляндия',\n",
       "       'США, Украина', 'Франция, Норвегия',\n",
       "       'Великобритания, Южная Корея, Канада, США, Индия, Китай, Япония',\n",
       "       'Канада - Норвегия', 'Республика Кипр-Россия', 'Германия, Россия',\n",
       "       'Польша - Франция - Испания - Бразилия - Швеция',\n",
       "       'Австрия, Великобритания, Германия', 'Франция - Сенегал - Бельгия',\n",
       "       'Франция, Бельгия, Люксембург', 'Финляндия, Латвия', 'Пакистан',\n",
       "       'Германия, Франция, США', 'Германия - Великобритания - США',\n",
       "       'КНР - Франция', 'Дания, Норвегия, Швеция, Исландия',\n",
       "       'Республика Кипр, США, Россия', 'Новая Зеландия - КНР',\n",
       "       'Дания - Канада - Швеция - Франция - Германия - Великобритания - США'],\n",
       "      dtype=object)"
      ]
     },
     "execution_count": 38,
     "metadata": {},
     "output_type": "execute_result"
    }
   ],
   "source": [
    "df['production_country'].str.strip()\n",
    "df['production_country'].unique()"
   ]
  },
  {
   "cell_type": "code",
   "execution_count": 39,
   "metadata": {},
   "outputs": [
    {
     "data": {
      "text/plain": [
       "array(['«18+» - запрещено для детей', '«6+» - для детей старше 6 лет',\n",
       "       '«12+» - для детей старше 12 лет',\n",
       "       '«16+» - для детей старше 16 лет',\n",
       "       '«0+» - для любой зрительской аудитории'], dtype=object)"
      ]
     },
     "execution_count": 39,
     "metadata": {},
     "output_type": "execute_result"
    }
   ],
   "source": [
    "df['age_restriction'].unique()"
   ]
  },
  {
   "cell_type": "code",
   "execution_count": 40,
   "metadata": {
    "id": "PnXKIVdFgFyR",
    "scrolled": true
   },
   "outputs": [
    {
     "data": {
      "text/plain": [
       "array(['боевик,драма,мелодрама', 'драма,военный',\n",
       "       'фантастика,боевик,триллер', 'драма', 'мелодрама,комедия',\n",
       "       'мюзикл,мелодрама,комедия', 'комедия,криминал',\n",
       "       'боевик,триллер,детектив', 'боевик,драма,приключения',\n",
       "       'драма,спорт', 'триллер,драма,мелодрама', 'комедия,мелодрама',\n",
       "       'драма,мелодрама,комедия', 'драма,мелодрама', 'драма,история',\n",
       "       'драма,мелодрама,семейный', 'комедия,мелодрама,криминал',\n",
       "       'комедия', 'боевик,драма,криминал', 'драма,комедия',\n",
       "       'ужасы,фантастика,комедия', 'мультфильм,короткометражка,мелодрама',\n",
       "       'драма,криминал', 'мультфильм,фантастика,фэнтези',\n",
       "       'триллер,драма,криминал', 'драма,мелодрама,биография',\n",
       "       'драма,комедия,военный', 'фантастика,драма,детектив',\n",
       "       'мюзикл,семейный', 'unknown', 'военный,приключения,драма',\n",
       "       'документальный,драма', 'драма,биография,история',\n",
       "       'боевик,триллер,драма', 'фэнтези,боевик',\n",
       "       'боевик,комедия,криминал', 'мюзикл,комедия,детский',\n",
       "       'комедия,мелодрама,драма', 'мультфильм,фэнтези,комедия',\n",
       "       'комедия,история', 'мелодрама', 'драма,биография,музыка',\n",
       "       'фэнтези,драма,мелодрама', 'триллер,военный',\n",
       "       'драма,мелодрама,военный', 'мюзикл,драма,мелодрама',\n",
       "       'мюзикл,комедия', 'мультфильм,приключения,семейный',\n",
       "       'ужасы,триллер', 'боевик,драма,военный', 'драма,боевик',\n",
       "       'мультфильм,драма,комедия', 'триллер,криминал',\n",
       "       'военный,биография,драма', 'комедия,семейный', 'военный',\n",
       "       'драма,семейный,биография', 'фэнтези,приключения,семейный',\n",
       "       'драма,криминал,биография', 'ужасы,триллер,детектив',\n",
       "       'боевик,история,драма', 'ужасы,триллер,драма',\n",
       "       'драма,криминал,спорт', 'документальный,короткометражка',\n",
       "       'триллер,драма', 'криминал,детектив,приключения',\n",
       "       'драма,комедия,криминал', 'драма,комедия,вестерн',\n",
       "       'драма,мелодрама,детектив', 'мелодрама,биография',\n",
       "       'фэнтези,мелодрама,драма', 'драма,мелодрама,история',\n",
       "       'комедия,приключения,история', 'приключения', 'драма,семейный',\n",
       "       'криминал,детектив', 'мультфильм,короткометражка,ужасы',\n",
       "       'фантастика,триллер,драма', 'фэнтези,мелодрама,комедия',\n",
       "       'драма,биография', 'комедия,криминал,история',\n",
       "       'триллер,драма,детектив', 'фантастика,комедия,приключения',\n",
       "       'фэнтези,семейный', 'ужасы,фантастика,боевик',\n",
       "       'мелодрама,криминал', 'комедия,приключения,мелодрама',\n",
       "       'боевик,триллер,приключения', 'боевик,приключения',\n",
       "       'боевик,триллер,криминал', 'документальный,военный,история',\n",
       "       'драма,музыка', 'боевик,драма', 'приключения,боевик',\n",
       "       'драма,военный,биография', 'триллер,драма,приключения',\n",
       "       'аниме,мультфильм,фэнтези', 'триллер,детектив,драма',\n",
       "       'боевик,триллер,мелодрама', 'боевик,история',\n",
       "       'приключения,история', 'драма,комедия,приключения',\n",
       "       'фэнтези,комедия,приключения', 'драма,вестерн',\n",
       "       'документальный,музыка', 'мелодрама,драма',\n",
       "       'триллер,криминал,детектив', 'ужасы', 'боевик,комедия,приключения',\n",
       "       'мультфильм,фэнтези,боевик', 'боевик,фэнтези,драма',\n",
       "       'фэнтези,драма', 'фэнтези,боевик,комедия',\n",
       "       'приключения,детский,комедия', 'документальный',\n",
       "       'боевик,триллер,комедия', 'мелодрама,комедия,криминал',\n",
       "       'драма,детектив', 'мюзикл,ужасы,триллер', 'детектив,триллер,ужасы',\n",
       "       'ужасы,фэнтези', 'ужасы,фэнтези,триллер', 'мультфильм,драма',\n",
       "       'ужасы,боевик,фантастика', 'боевик', 'фантастика,боевик',\n",
       "       'мелодрама,комедия,приключения', 'триллер,детектив',\n",
       "       'мюзикл,мелодрама,фэнтези', 'криминал', 'триллер,комедия,криминал',\n",
       "       'боевик,приключения,триллер', 'триллер,драма,военный',\n",
       "       'комедия,семейный,музыка', 'комедия,фантастика,мелодрама',\n",
       "       'фантастика,триллер,криминал', 'комедия,драма', 'боевик,военный',\n",
       "       'ужасы,фантастика,триллер', 'фантастика,драма,мелодрама',\n",
       "       'фэнтези,драма,детектив', 'боевик,триллер', 'боевик,драма,история',\n",
       "       'мультфильм,мюзикл,фэнтези', 'для взрослых,драма,мелодрама',\n",
       "       'мультфильм,боевик,детектив', 'фантастика,мелодрама,боевик',\n",
       "       'ужасы,фантастика,детектив', 'фантастика,боевик,приключения',\n",
       "       'мелодрама,комедия,спорт', 'комедия,боевик,приключения',\n",
       "       'документальный,приключения', 'мультфильм,короткометражка,детский',\n",
       "       'комедия,приключения', 'ужасы,драма', 'ужасы,фэнтези,боевик',\n",
       "       'мультфильм,фэнтези,детский', 'мюзикл,боевик,драма',\n",
       "       'семейный,комедия,драма', 'концерт,музыка', 'фэнтези,боевик,драма',\n",
       "       'драма,комедия,музыка', 'фантастика,фэнтези,боевик',\n",
       "       'фэнтези,комедия,семейный', 'фэнтези,драма,комедия',\n",
       "       'мультфильм,мюзикл,драма', 'триллер', 'боевик,криминал,триллер',\n",
       "       'мультфильм,приключения,драма', 'мелодрама,музыка',\n",
       "       'документальный,музыка,концерт', 'мультфильм,семейный',\n",
       "       'мультфильм,комедия,приключения', 'мультфильм,комедия,семейный',\n",
       "       'фантастика,драма', 'фэнтези,боевик,приключения',\n",
       "       'мультфильм,приключения', 'драма,военный,история', 'история',\n",
       "       'драма,приключения,военный',\n",
       "       'документальный,короткометражка,семейный',\n",
       "       'мелодрама,история,триллер', 'ужасы,детектив',\n",
       "       'мюзикл,комедия,приключения', 'драма,спорт,биография',\n",
       "       'фантастика,боевик,комедия', 'фантастика,приключения,детектив',\n",
       "       'короткометражка,драма,военный', 'драма,мультфильм',\n",
       "       'приключения,семейный', 'детектив', 'триллер,приключения',\n",
       "       'аниме,мультфильм,боевик', 'драма,комедия,биография',\n",
       "       'драма,комедия,спорт', 'боевик,мелодрама,комедия',\n",
       "       'семейный,комедия', 'фэнтези,боевик,триллер',\n",
       "       'документальный,фэнтези,семейный', 'фантастика,фэнтези,драма',\n",
       "       'ужасы,комедия,фэнтези', 'документальный,биография,музыка',\n",
       "       'фантастика,боевик,фэнтези', 'ужасы,боевик,триллер',\n",
       "       'комедия,криминал,семейный', 'приключения,драма',\n",
       "       'криминал,драма,триллер', 'драма,детектив,криминал',\n",
       "       'фэнтези,приключения,комедия', 'комедия,спорт',\n",
       "       'мюзикл,фэнтези,мелодрама', 'мультфильм,фэнтези,приключения',\n",
       "       'фантастика,фэнтези,приключения', 'фэнтези',\n",
       "       'фэнтези,приключения,боевик', 'фантастика,боевик,драма',\n",
       "       'криминал,драма', 'криминал,триллер,драма',\n",
       "       'драма,мелодрама,приключения', 'детский,комедия',\n",
       "       'фантастика,драма,боевик', 'мультфильм,семейный,фэнтези',\n",
       "       'концерт,музыка,документальный', 'ужасы,комедия,приключения',\n",
       "       'драма,мелодрама,криминал', 'ужасы,фантастика,фэнтези',\n",
       "       'боевик,комедия', 'мультфильм,фантастика,комедия', 'триллер,ужасы',\n",
       "       'мультфильм,мюзикл,комедия', 'мелодрама,фэнтези,триллер',\n",
       "       'детский,приключения,комедия', 'комедия,детектив',\n",
       "       'аниме,мультфильм,мелодрама', 'документальный,драма,семейный',\n",
       "       'документальный,биография,история', 'военный,боевик,драма',\n",
       "       'ужасы,комедия', 'комедия,приключения,семейный',\n",
       "       'приключения,биография,история', 'детский,приключения,семейный',\n",
       "       'спорт,драма,биография', 'аниме,мультфильм,ужасы',\n",
       "       'фантастика,боевик,криминал', 'мюзикл,драма',\n",
       "       'драма,криминал,детектив', 'аниме,мультфильм,драма',\n",
       "       'драма,триллер,приключения', 'триллер,криминал,драма',\n",
       "       'фэнтези,комедия,драма', 'мультфильм,комедия',\n",
       "       'драма,комедия,история', 'комедия,биография,история',\n",
       "       'мультфильм,фантастика,приключения', 'аниме,мультфильм,фантастика',\n",
       "       'мультфильм,фэнтези,семейный', 'мультфильм,боевик,комедия',\n",
       "       'комедия,криминал,спорт', 'документальный,мюзикл',\n",
       "       'мелодрама,комедия,музыка', 'биография',\n",
       "       'триллер,криминал,комедия', 'фантастика,драма,комедия',\n",
       "       'комедия,драма,мелодрама', 'фантастика,приключения,боевик',\n",
       "       'мультфильм,фэнтези,драма', 'триллер,комедия',\n",
       "       'драма,приключения,биография', 'фантастика,комедия',\n",
       "       'мелодрама,драма,комедия', 'боевик,криминал',\n",
       "       'драма,криминал,боевик', 'мультфильм,мюзикл,детский',\n",
       "       'драма,фэнтези', 'документальный,семейный',\n",
       "       'фэнтези,драма,приключения', 'ужасы,комедия,фантастика',\n",
       "       'драма,мелодрама,музыка', 'фэнтези,драма,семейный',\n",
       "       'триллер,мелодрама,драма', 'вестерн,боевик,драма',\n",
       "       'мультфильм,короткометражка,комедия', 'триллер,драма,история',\n",
       "       'ужасы,фантастика', 'ужасы,мелодрама,комедия',\n",
       "       'фэнтези,приключения', 'фантастика,триллер',\n",
       "       'ужасы,боевик,фэнтези', 'мультфильм,комедия,детский',\n",
       "       'триллер,драма,биография', 'мультфильм,ужасы,фэнтези',\n",
       "       'мультфильм,ужасы,фантастика', 'ужасы,боевик,комедия',\n",
       "       'драма,биография,спорт', 'мультфильм', 'мелодрама,комедия,драма',\n",
       "       'приключения,фантастика,семейный', 'комедия,криминал,детектив',\n",
       "       'ужасы,триллер,комедия', 'криминал,комедия,триллер',\n",
       "       'семейный,приключения,комедия', 'мультфильм,драма,приключения',\n",
       "       'ужасы,драма,детектив', 'драма,приключения,фэнтези',\n",
       "       'фантастика,мультфильм,драма', 'драма,триллер,детектив',\n",
       "       'драма,история,музыка', 'детский', 'триллер,боевик,криминал',\n",
       "       'драма,фантастика', 'комедия,драма,семейный',\n",
       "       'боевик,драма,комедия', 'комедия,ужасы',\n",
       "       'драма,фантастика,триллер', 'фантастика,драма,триллер',\n",
       "       'история,спорт,драма', 'документальный,биография',\n",
       "       'биография,история', 'спорт,драма', 'боевик,фэнтези',\n",
       "       'мультфильм,фэнтези', 'документальный,комедия,история',\n",
       "       'криминал,комедия,боевик', 'фэнтези,приключения,драма',\n",
       "       'музыка,концерт', 'триллер,драма,боевик',\n",
       "       'комедия,криминал,боевик', 'комедия,фантастика,боевик',\n",
       "       'вестерн,приключения,боевик', 'аниме,мультфильм,комедия',\n",
       "       'детектив,криминал,триллер', 'мультфильм,комедия,криминал',\n",
       "       'комедия,приключения,детектив', 'мелодрама,фантастика,драма',\n",
       "       'драма,комедия,семейный', 'приключения,фантастика',\n",
       "       'триллер,детектив,ужасы', 'комедия,приключения,фэнтези',\n",
       "       'фэнтези,триллер,драма', 'мелодрама,приключения,боевик',\n",
       "       'детектив,триллер,криминал', 'фэнтези,семейный,мелодрама',\n",
       "       'военный,драма', 'документальный,приключения,семейный',\n",
       "       'криминал,комедия,драма', 'комедия,фантастика',\n",
       "       'история,биография,драма', 'мелодрама,драма,музыка',\n",
       "       'боевик,мелодрама', 'комедия,криминал,триллер',\n",
       "       'детектив,триллер,боевик', 'комедия,боевик,криминал',\n",
       "       'комедия,вестерн', 'детский,мелодрама,семейный',\n",
       "       'короткометражка,мультфильм', 'комедия,фэнтези',\n",
       "       'фантастика,драма,ужасы', 'триллер,драма,ужасы',\n",
       "       'драма,фэнтези,история', 'комедия,драма,короткометражка',\n",
       "       'фэнтези,триллер,приключения', 'семейный',\n",
       "       'комедия,криминал,драма', 'комедия,фэнтези,ужасы',\n",
       "       'короткометражка,комедия,криминал', 'фантастика',\n",
       "       'триллер,ужасы,драма', 'мелодрама,драма,фэнтези',\n",
       "       'фантастика,приключения,драма', 'боевик,детектив',\n",
       "       'военный,драма,боевик', 'комедия,мелодрама,фэнтези',\n",
       "       'вестерн,криминал,триллер', 'драма,история,триллер',\n",
       "       'мультфильм,фантастика,боевик', 'детектив,драма,криминал',\n",
       "       'приключения,история,драма', 'мультфильм,семейный,детский',\n",
       "       'биография,драма,история', 'триллер,криминал,боевик',\n",
       "       'история,мелодрама', 'приключения,детский',\n",
       "       'музыка,приключения,концерт', 'военный,драма,комедия',\n",
       "       'фэнтези,боевик,военный', 'фантастика,детектив,боевик',\n",
       "       'мультфильм,фэнтези,история', 'биография,мелодрама,драма',\n",
       "       'документальный,биография,спорт', 'фантастика,комедия,детектив',\n",
       "       'музыка,концерт,документальный', 'триллер,боевик,приключения',\n",
       "       'триллер,драма,комедия', 'детектив,криминал',\n",
       "       'мультфильм,приключения,фэнтези', 'мелодрама,приключения',\n",
       "       'комедия,музыка', 'мелодрама,комедия,ужасы',\n",
       "       'драма,криминал,приключения', 'приключения,детектив,мелодрама',\n",
       "       'драма,криминал,фантастика', 'фэнтези,драма,биография',\n",
       "       'детектив,фантастика,криминал', 'триллер,драма,фантастика',\n",
       "       'ужасы,комедия,боевик', 'мелодрама,история', 'триллер,боевик',\n",
       "       'фильм-нуар,триллер,детектив', 'комедия,криминал,приключения',\n",
       "       'ужасы,триллер,мелодрама', 'военный,драма,история',\n",
       "       'драма,спорт,история', 'документальный,драма,история',\n",
       "       'триллер,мелодрама,детектив', 'детский,семейный',\n",
       "       'мюзикл,семейный,драма', 'биография,военный,драма',\n",
       "       'мультфильм,детский', 'боевик,криминал,драма',\n",
       "       'детектив,фэнтези,триллер', 'драма,боевик,приключения',\n",
       "       'драма,мелодрама,фэнтези', 'детектив,история,драма',\n",
       "       'фэнтези,боевик,ужасы', 'ужасы,фэнтези,мелодрама',\n",
       "       'ужасы,приключения', 'боевик,фантастика',\n",
       "       'ужасы,мелодрама,детектив', 'фантастика,триллер,приключения',\n",
       "       'боевик,приключения,история', 'приключения,боевик,триллер',\n",
       "       'детектив,ужасы,криминал', 'семейный,фэнтези', 'мюзикл,мелодрама',\n",
       "       'драма,военный,приключения', 'фантастика,драма,приключения',\n",
       "       'приключения,семейный,драма', 'история,драма,боевик',\n",
       "       'мультфильм,приключения,комедия', 'криминал,драма,комедия',\n",
       "       'ужасы,комедия,драма', 'комедия,семейный,приключения',\n",
       "       'мюзикл,фэнтези,драма', 'драма,вестерн,боевик',\n",
       "       'фантастика,триллер,детектив', 'драма,история,детектив',\n",
       "       'короткометражка,биография', 'мультфильм,приключения,фантастика',\n",
       "       'комедия,триллер', 'мультфильм,приключения,детектив',\n",
       "       'драма,триллер', 'ужасы,триллер,криминал',\n",
       "       'документальный,криминал,военный', 'ужасы,фэнтези,драма',\n",
       "       'фэнтези,комедия', 'ужасы,фэнтези,комедия', 'комедия,музыка,драма',\n",
       "       'мультфильм,приключения,военный', 'мюзикл,фэнтези,комедия',\n",
       "       'боевик,фантастика,приключения', 'триллер,ужасы,криминал',\n",
       "       'ужасы,фантастика,драма', 'фантастика,приключения,семейный',\n",
       "       'короткометражка,музыка', 'мелодрама,детектив,комедия',\n",
       "       'документальный,триллер,биография', 'боевик,фантастика,триллер',\n",
       "       'спорт,драма,комедия', 'фэнтези,мелодрама,приключения',\n",
       "       'триллер,детектив,криминал', 'короткометражка,мелодрама',\n",
       "       'мультфильм,семейный,спорт', 'комедия,фэнтези,мелодрама',\n",
       "       'драма,спорт,комедия', 'история,драма,мелодрама',\n",
       "       'драма,боевик,криминал', 'драма,комедия,триллер',\n",
       "       'аниме,мультфильм', 'документальный,ужасы',\n",
       "       'мультфильм,короткометражка', 'драма,история,военный',\n",
       "       'мультфильм,короткометражка,фэнтези', 'комедия,военный,музыка',\n",
       "       'биография,история,драма', 'ужасы,драма,мелодрама',\n",
       "       'драма,комедия,детектив', 'комедия,семейный,фантастика',\n",
       "       'мультфильм,семейный,комедия', 'история,детектив',\n",
       "       'приключения,мелодрама,детектив', 'мюзикл,комедия,мелодрама',\n",
       "       'драма,фантастика,ужасы', 'мультфильм,ужасы,комедия',\n",
       "       'для взрослых,драма,комедия', 'ужасы,комедия,музыка',\n",
       "       'комедия,история,драма', 'семейный,детектив,детский',\n",
       "       'короткометражка,драма', 'документальный,новости,драма',\n",
       "       'триллер,мелодрама', 'ужасы,драма,вестерн',\n",
       "       'мюзикл,фэнтези,семейный', 'вестерн,драма,триллер',\n",
       "       'приключения,вестерн,боевик', 'семейный,комедия,музыка',\n",
       "       'боевик,драма,вестерн', 'ужасы,драма,триллер',\n",
       "       'фантастика,мелодрама', 'комедия,криминал,биография',\n",
       "       'семейный,мультфильм,комедия', 'комедия,драма,криминал',\n",
       "       'фантастика,боевик,военный', 'приключения,биография,драма',\n",
       "       'приключения,триллер,биография', 'криминал,боевик,триллер',\n",
       "       'боевик,вестерн,приключения', 'история,драма',\n",
       "       'фантастика,фэнтези,комедия', 'мультфильм,детский,комедия',\n",
       "       'мелодрама,комедия,триллер', 'документальный,боевик,приключения',\n",
       "       'драма,приключения', 'мелодрама,военный,драма', 'триллер,фэнтези',\n",
       "       'драма,триллер,биография', 'фэнтези,боевик,семейный',\n",
       "       'фантастика,триллер,комедия', 'документальный,фэнтези',\n",
       "       'комедия,мультфильм,фантастика', 'криминал,биография,комедия',\n",
       "       'биография,спорт,драма', 'приключения,военный',\n",
       "       'мультфильм,семейный,драма', 'документальный,фэнтези,драма',\n",
       "       'комедия,боевик,фантастика', 'семейный,приключения,военный',\n",
       "       'триллер,ужасы,детектив', 'короткометражка',\n",
       "       'мелодрама,триллер,история', 'документальный,история',\n",
       "       'мультфильм,приключения,детский', 'драма,комедия,мультфильм',\n",
       "       'военный,детектив', 'семейный,приключения,документальный',\n",
       "       'детский,фэнтези', 'документальный,комедия', 'комедия,биография',\n",
       "       'криминал,комедия', 'спорт,мелодрама,криминал',\n",
       "       'фантастика,комедия,боевик', 'боевик,приключения,детектив',\n",
       "       'детектив,триллер,драма', 'документальный,фантастика',\n",
       "       'мелодрама,комедия,семейный', 'мультфильм,мелодрама,комедия',\n",
       "       'драма,спорт,семейный', 'фантастика,мелодрама,фэнтези',\n",
       "       'мюзикл,комедия,музыка', 'фантастика,триллер,мелодрама',\n",
       "       'приключения,комедия,фэнтези', 'фэнтези,боевик,детектив',\n",
       "       'фэнтези,боевик,мелодрама', 'комедия,военный',\n",
       "       'драма,спорт,боевик', 'мультфильм,боевик,триллер',\n",
       "       'мелодрама,семейный', 'фантастика,боевик,детектив',\n",
       "       'драма,приключения,история', 'документальный,драма,музыка',\n",
       "       'фантастика,триллер,боевик', 'фэнтези,боевик,вестерн',\n",
       "       'драма,комедия,мелодрама', 'ужасы,фэнтези,приключения',\n",
       "       'триллер,фэнтези,драма', 'мультфильм,мюзикл,мелодрама',\n",
       "       'ужасы,триллер,фантастика', 'триллер,мелодрама,комедия',\n",
       "       'ужасы,комедия,семейный', 'комедия,приключения,музыка',\n",
       "       'документальный,комедия,криминал', 'мелодрама,детектив',\n",
       "       'детский,приключения,фантастика', 'короткометражка,боевик,драма',\n",
       "       'боевик,комедия,семейный', 'фантастика,боевик,мелодрама',\n",
       "       'фэнтези,триллер,мелодрама', 'драма,детектив,история',\n",
       "       'боевик,криминал,детектив', 'мультфильм,фэнтези,мелодрама',\n",
       "       'мелодрама,драма,боевик', 'драма,вестерн,приключения',\n",
       "       'драма,приключения,мелодрама', 'фэнтези,боевик,криминал',\n",
       "       'фантастика,комедия,семейный', 'детский,фэнтези,приключения',\n",
       "       'ужасы,боевик', 'фантастика,мелодрама,комедия',\n",
       "       'семейный,спорт,боевик', 'триллер,биография,драма',\n",
       "       'ужасы,драма,комедия', 'мультфильм,фэнтези,триллер', 'мюзикл',\n",
       "       'боевик,спорт,драма', 'комедия,приключения,вестерн',\n",
       "       'документальный,ужасы,боевик', 'фантастика,боевик,семейный',\n",
       "       'военный,история', 'ужасы,боевик,криминал', 'детектив,триллер',\n",
       "       'драма,семейный,комедия', 'драма,детектив,приключения',\n",
       "       'драма,криминал,история', 'приключения,триллер',\n",
       "       'боевик,драма,биография', 'драма,приключения,триллер',\n",
       "       'комедия,фэнтези,приключения', 'фантастика,боевик,ужасы',\n",
       "       'драма,комедия,фантастика', 'детектив,криминал,драма',\n",
       "       'боевик,триллер,фэнтези', 'приключения,детектив,семейный',\n",
       "       'ужасы,комедия,криминал', 'мультфильм,биография,драма',\n",
       "       'история,боевик,фэнтези', 'детектив,криминал,боевик',\n",
       "       'приключения,фэнтези', 'комедия,приключения,спорт',\n",
       "       'драма,биография,мюзикл', 'комедия,семейный,фэнтези',\n",
       "       'детектив,драма,триллер', 'боевик,приключения,семейный',\n",
       "       'биография,спорт,комедия', 'фантастика,приключения,военный',\n",
       "       'документальный,драма,биография', 'детектив,приключения,драма',\n",
       "       'аниме,мультфильм,приключения', 'семейный,приключения',\n",
       "       'ужасы,фэнтези,детектив', 'семейный,документальный',\n",
       "       'драма,приключения,семейный', 'приключения,история,военный',\n",
       "       'фэнтези,мелодрама', 'фэнтези,триллер,детектив',\n",
       "       'документальный,спорт,биография', 'комедия,триллер,драма',\n",
       "       'драма,ужасы', 'биография,музыка,драма', 'фэнтези,ужасы',\n",
       "       'детектив,мелодрама,фэнтези', 'боевик,военный,история',\n",
       "       'биография,драма,криминал', 'триллер,мелодрама,криминал',\n",
       "       'семейный,мелодрама', 'биография,драма', 'военный,история,драма',\n",
       "       'фантастика,детектив,фэнтези', 'детектив,приключения,триллер',\n",
       "       'фантастика,приключения', 'мультфильм,короткометражка,мюзикл',\n",
       "       'мультфильм,детский,семейный', 'документальный,драма,комедия',\n",
       "       'комедия,приключения,криминал', 'документальный,семейный,музыка',\n",
       "       'мелодрама,музыка,драма', 'детектив,фантастика,триллер',\n",
       "       'драма,мелодрама,триллер', 'биография,драма,военный',\n",
       "       'приключения,фантастика,драма', 'детектив,фильм-нуар,комедия',\n",
       "       'документальный,спорт', 'триллер,фантастика,драма',\n",
       "       'биография,документальный', 'ужасы,фантастика,мелодрама',\n",
       "       'детектив,комедия', 'история,биография,военный',\n",
       "       'криминал,мелодрама', 'драма,криминал,вестерн',\n",
       "       'мелодрама,семейный,приключения', 'триллер,ужасы,мелодрама',\n",
       "       'фэнтези,драма,фильм-нуар', 'детектив,мелодрама',\n",
       "       'комедия,драма,биография', 'драма,военный,боевик',\n",
       "       'драма,комедия,ужасы', 'фантастика,драма,криминал',\n",
       "       'документальный,музыка,биография', 'мультфильм,боевик,приключения',\n",
       "       'короткометражка,фантастика', 'мультфильм,мелодрама,драма',\n",
       "       'боевик,военный,драма', 'фэнтези,семейный,приключения',\n",
       "       'детский,мультфильм,приключения', 'семейный,фэнтези,комедия',\n",
       "       'фэнтези,ужасы,триллер', 'ужасы,триллер,приключения',\n",
       "       'драма,боевик,история', 'фэнтези,комедия,детектив',\n",
       "       'история,приключения', 'аниме,мультфильм,короткометражка',\n",
       "       'драма,военный,триллер', 'биография,криминал,триллер',\n",
       "       'фантастика,фэнтези,детектив', 'вестерн,биография,драма',\n",
       "       'биография,музыка,мюзикл', 'драма,история,биография',\n",
       "       'приключения,драма,фантастика', 'комедия,фэнтези,криминал',\n",
       "       'биография,спорт,история', 'драма,криминал,семейный',\n",
       "       'детектив,боевик,история', 'ужасы,комедия,детектив',\n",
       "       'триллер,приключения,драма', 'фэнтези,комедия,криминал',\n",
       "       'триллер,криминал,приключения', 'комедия,детектив,приключения',\n",
       "       'фэнтези,драма,ужасы', 'ужасы,драма,военный', 'реальное ТВ',\n",
       "       'аниме,мультфильм,детектив', 'приключения,фэнтези,семейный',\n",
       "       'драма,биография,комедия', 'триллер,комедия,ужасы',\n",
       "       'музыка,мелодрама,фэнтези', 'мультфильм,история',\n",
       "       'мультфильм,комедия,фантастика', 'биография,криминал,драма',\n",
       "       'комедия,мелодрама,фантастика', 'криминал,боевик,комедия',\n",
       "       'история,криминал', 'детектив,комедия,драма',\n",
       "       'триллер,фантастика,боевик', 'криминал,боевик',\n",
       "       'комедия,драма,военный', 'драма,триллер,криминал',\n",
       "       'мультфильм,мелодрама,приключения', 'фантастика,фэнтези,триллер',\n",
       "       'короткометражка,драма,триллер', 'военный,боевик,история',\n",
       "       'боевик,драма,триллер', 'документальный,военный,драма',\n",
       "       'драма,криминал,фильм-нуар', 'мультфильм,детский,приключения',\n",
       "       'мелодрама,история,драма'], dtype=object)"
      ]
     },
     "execution_count": 40,
     "metadata": {},
     "output_type": "execute_result"
    }
   ],
   "source": [
    "df['genres'].unique()"
   ]
  },
  {
   "cell_type": "code",
   "execution_count": 41,
   "metadata": {
    "scrolled": true
   },
   "outputs": [
    {
     "data": {
      "text/plain": [
       "array(['Кевин Костнер', 'Е.Матвеев', 'Тимур Бекмамбетов', ...,\n",
       "       'Ник Пауэлл', 'А.Беляев', 'И.Трусов'], dtype=object)"
      ]
     },
     "execution_count": 41,
     "metadata": {},
     "output_type": "execute_result"
    }
   ],
   "source": [
    "df['director'].str.strip()\n",
    "df['director'].unique()"
   ]
  },
  {
   "cell_type": "code",
   "execution_count": 42,
   "metadata": {
    "scrolled": true
   },
   "outputs": [
    {
     "data": {
      "text/plain": [
       "array(['Художественный', 'Анимационный', 'Прочие', 'Документальный',\n",
       "       'Научно-популярный', ' Художественный', ' Анимационный',\n",
       "       'Музыкально-развлекательный'], dtype=object)"
      ]
     },
     "execution_count": 42,
     "metadata": {},
     "output_type": "execute_result"
    }
   ],
   "source": [
    "df['type'].unique()"
   ]
  },
  {
   "cell_type": "markdown",
   "metadata": {},
   "source": [
    "* Удаляем неявные дубликаты в столбце 'type'"
   ]
  },
  {
   "cell_type": "code",
   "execution_count": 43,
   "metadata": {},
   "outputs": [],
   "source": [
    "df['type'] = df['type'].str.replace(' ', '')"
   ]
  },
  {
   "cell_type": "code",
   "execution_count": 44,
   "metadata": {},
   "outputs": [
    {
     "data": {
      "text/plain": [
       "type\n",
       "Художественный                5907\n",
       "Анимационный                   829\n",
       "Прочие                         406\n",
       "Документальный                 288\n",
       "Научно-популярный               53\n",
       "Музыкально-развлекательный       1\n",
       "Name: count, dtype: int64"
      ]
     },
     "execution_count": 44,
     "metadata": {},
     "output_type": "execute_result"
    }
   ],
   "source": [
    "df['type'].value_counts()"
   ]
  },
  {
   "cell_type": "markdown",
   "metadata": {},
   "source": [
    "* В столбцах с категориальными значениями, некоторые строки содержат несколько значений. Например в столбце 'genres' значение в строке может выглядеть так - 'драма,мелодрама,комедия' "
   ]
  },
  {
   "cell_type": "markdown",
   "metadata": {
    "id": "XFSN5lrEgFyR"
   },
   "source": [
    "### Проверьте количественные значения\n",
    "\n",
    "- Проверьте, обнаружились ли в таких столбцах подозрительные данные. Как с такими данными лучше поступить?\n",
    "\n",
    "<div id=\"accordion\">\n",
    "    <div class=\"card\">\n",
    "        <div class=\"card-header\" id=\"headingThree\">\n",
    "            <button class=\"btn btn-link collapsed\" data-toggle=\"collapse\" data-target=\"#collapseHint_budget\" aria-expanded=\"false\" aria-controls=\"collapseHint_budget\">Подсказка</button>\n",
    "        </div>\n",
    "        <div id=\"collapseHint_budget\" class=\"collapse\" aria-labelledby=\"headingThree\" data-parent=\"#accordion\">\n",
    "            <div class=\"card-body\">\n",
    "Обратите внимание на описание столбца <code>budget</code>. Как этот столбец соотносится с двумя другими: <code>refundable_support</code> и <code>nonrefundable_support</code>?\n",
    "            </div>\n",
    "        </div>\n",
    "    </div>\n",
    "</div>"
   ]
  },
  {
   "cell_type": "code",
   "execution_count": 45,
   "metadata": {
    "scrolled": true
   },
   "outputs": [
    {
     "name": "stdout",
     "output_type": "stream",
     "text": [
      "<class 'pandas.core.frame.DataFrame'>\n",
      "Index: 7484 entries, 0 to 7485\n",
      "Data columns (total 16 columns):\n",
      " #   Column                 Non-Null Count  Dtype              \n",
      "---  ------                 --------------  -----              \n",
      " 0   title                  7484 non-null   object             \n",
      " 1   puNumber               7484 non-null   int32              \n",
      " 2   show_start_date        7484 non-null   datetime64[ns, UTC]\n",
      " 3   type                   7484 non-null   object             \n",
      " 4   film_studio            7484 non-null   object             \n",
      " 5   production_country     7484 non-null   object             \n",
      " 6   director               7484 non-null   object             \n",
      " 7   producer               7484 non-null   object             \n",
      " 8   age_restriction        7484 non-null   object             \n",
      " 9   refundable_support     7484 non-null   int32              \n",
      " 10  nonrefundable_support  7484 non-null   int32              \n",
      " 11  budget                 7484 non-null   int32              \n",
      " 12  financing_source       7484 non-null   object             \n",
      " 13  ratings                7484 non-null   float64            \n",
      " 14  genres                 7484 non-null   object             \n",
      " 15  box_office             7484 non-null   int32              \n",
      "dtypes: datetime64[ns, UTC](1), float64(1), int32(5), object(9)\n",
      "memory usage: 847.8+ KB\n"
     ]
    }
   ],
   "source": [
    "df.info()"
   ]
  },
  {
   "cell_type": "code",
   "execution_count": 46,
   "metadata": {
    "id": "YbzClBxagFyS"
   },
   "outputs": [
    {
     "data": {
      "text/plain": [
       "count          111.00000\n",
       "mean      35486486.48649\n",
       "std       31972875.36499\n",
       "min        3500000.00000\n",
       "25%       15000000.00000\n",
       "50%       25000000.00000\n",
       "75%       50000000.00000\n",
       "max      180000000.00000\n",
       "Name: refundable_support, dtype: object"
      ]
     },
     "execution_count": 46,
     "metadata": {},
     "output_type": "execute_result"
    }
   ],
   "source": [
    "df_dont_nool = df[df['refundable_support'] != 0]\n",
    "df_dont_nool['refundable_support'].describe().apply(\"{0:.5f}\".format)"
   ]
  },
  {
   "cell_type": "code",
   "execution_count": 47,
   "metadata": {},
   "outputs": [
    {
     "data": {
      "text/plain": [
       "count          323.00000\n",
       "mean      50345784.24768\n",
       "std       60243206.31438\n",
       "min        3000000.00000\n",
       "25%       25000000.00000\n",
       "50%       30000000.00000\n",
       "75%       45000000.00000\n",
       "max      400000000.00000\n",
       "Name: nonrefundable_support, dtype: object"
      ]
     },
     "execution_count": 47,
     "metadata": {},
     "output_type": "execute_result"
    }
   ],
   "source": [
    "df_dont_nool = df[df['nonrefundable_support'] != 0]\n",
    "df_dont_nool['nonrefundable_support'].describe().apply(\"{0:.5f}\".format)"
   ]
  },
  {
   "cell_type": "code",
   "execution_count": 48,
   "metadata": {},
   "outputs": [
    {
     "data": {
      "text/plain": [
       "count            315.00000\n",
       "mean       119960977.73968\n",
       "std        194769873.22874\n",
       "min      -2147483648.00000\n",
       "25%         45846250.50000\n",
       "50%         71517631.00000\n",
       "75%        150000000.00000\n",
       "max       1032905957.00000\n",
       "Name: budget, dtype: object"
      ]
     },
     "execution_count": 48,
     "metadata": {},
     "output_type": "execute_result"
    }
   ],
   "source": [
    "df_dont_nool = df[df['budget'] != 0]\n",
    "df_dont_nool['budget'].describe().apply(\"{0:.5f}\".format)"
   ]
  },
  {
   "cell_type": "code",
   "execution_count": 49,
   "metadata": {},
   "outputs": [
    {
     "data": {
      "text/plain": [
       "1"
      ]
     },
     "execution_count": 49,
     "metadata": {},
     "output_type": "execute_result"
    }
   ],
   "source": [
    "warnings.filterwarnings(\"ignore\")\n",
    "df_budget = df[((df['budget'] != 0) & (df['nonrefundable_support'] != 0)) & (df['refundable_support'] != 0)]\n",
    "df_budget['obsh'] = df_budget['nonrefundable_support'] + df_budget['refundable_support']\n",
    "#df_budget = df_budget[(df_budget['budget'] < df_budget['obsh'])]\n",
    "len(df_budget.query('budget < obsh'))"
   ]
  },
  {
   "cell_type": "code",
   "execution_count": 50,
   "metadata": {},
   "outputs": [
    {
     "data": {
      "text/plain": [
       "18"
      ]
     },
     "execution_count": 50,
     "metadata": {},
     "output_type": "execute_result"
    }
   ],
   "source": [
    "df_budget = df[((df['budget'] == 0) & (df['nonrefundable_support'] != 0)) | (df['refundable_support'] != 0)]\n",
    "df_budget['obsh'] = df_budget['nonrefundable_support'] + df_budget['refundable_support']\n",
    "len(df_budget.query('budget < obsh'))"
   ]
  },
  {
   "cell_type": "code",
   "execution_count": 51,
   "metadata": {},
   "outputs": [
    {
     "data": {
      "text/plain": [
       "count           3134.00000\n",
       "mean        70908795.33886\n",
       "std        236047179.88124\n",
       "min      -2147483648.00000\n",
       "25%            97155.25000\n",
       "50%          2362280.50000\n",
       "75%         24077856.75000\n",
       "max       2118396119.00000\n",
       "Name: box_office, dtype: object"
      ]
     },
     "execution_count": 51,
     "metadata": {},
     "output_type": "execute_result"
    }
   ],
   "source": [
    "df_dont_nool = df[df['box_office'] != 0]\n",
    "df_dont_nool['box_office'].describe().apply(\"{0:.5f}\".format)"
   ]
  },
  {
   "cell_type": "code",
   "execution_count": 52,
   "metadata": {},
   "outputs": [
    {
     "data": {
      "text/html": [
       "<div>\n",
       "<style scoped>\n",
       "    .dataframe tbody tr th:only-of-type {\n",
       "        vertical-align: middle;\n",
       "    }\n",
       "\n",
       "    .dataframe tbody tr th {\n",
       "        vertical-align: top;\n",
       "    }\n",
       "\n",
       "    .dataframe thead tr th {\n",
       "        text-align: left;\n",
       "    }\n",
       "\n",
       "    .dataframe thead tr:last-of-type th {\n",
       "        text-align: right;\n",
       "    }\n",
       "</style>\n",
       "<table border=\"1\" class=\"dataframe\">\n",
       "  <thead>\n",
       "    <tr>\n",
       "      <th></th>\n",
       "      <th>sum</th>\n",
       "    </tr>\n",
       "    <tr>\n",
       "      <th></th>\n",
       "      <th>box_office</th>\n",
       "    </tr>\n",
       "    <tr>\n",
       "      <th>title</th>\n",
       "      <th></th>\n",
       "    </tr>\n",
       "  </thead>\n",
       "  <tbody>\n",
       "    <tr>\n",
       "      <th>Близкий враг</th>\n",
       "      <td>980</td>\n",
       "    </tr>\n",
       "    <tr>\n",
       "      <th>Форсаж 5</th>\n",
       "      <td>975</td>\n",
       "    </tr>\n",
       "    <tr>\n",
       "      <th>Зажигание.</th>\n",
       "      <td>960</td>\n",
       "    </tr>\n",
       "    <tr>\n",
       "      <th>Форт Росс</th>\n",
       "      <td>950</td>\n",
       "    </tr>\n",
       "    <tr>\n",
       "      <th>Малавита</th>\n",
       "      <td>940</td>\n",
       "    </tr>\n",
       "    <tr>\n",
       "      <th>...</th>\n",
       "      <td>...</td>\n",
       "    </tr>\n",
       "    <tr>\n",
       "      <th>Жестокий романс</th>\n",
       "      <td>40</td>\n",
       "    </tr>\n",
       "    <tr>\n",
       "      <th>Холоп</th>\n",
       "      <td>-2147483648</td>\n",
       "    </tr>\n",
       "    <tr>\n",
       "      <th>Мстители: Финал</th>\n",
       "      <td>-2147483648</td>\n",
       "    </tr>\n",
       "    <tr>\n",
       "      <th>Т-34</th>\n",
       "      <td>-2147483648</td>\n",
       "    </tr>\n",
       "    <tr>\n",
       "      <th>Движение вверх</th>\n",
       "      <td>-2147483648</td>\n",
       "    </tr>\n",
       "  </tbody>\n",
       "</table>\n",
       "<p>211 rows × 1 columns</p>\n",
       "</div>"
      ],
      "text/plain": [
       "                        sum\n",
       "                 box_office\n",
       "title                      \n",
       "Близкий враг            980\n",
       "Форсаж 5                975\n",
       "Зажигание.              960\n",
       "Форт Росс               950\n",
       "Малавита                940\n",
       "...                     ...\n",
       "Жестокий романс          40\n",
       "Холоп           -2147483648\n",
       "Мстители: Финал -2147483648\n",
       "Т-34            -2147483648\n",
       "Движение вверх  -2147483648\n",
       "\n",
       "[211 rows x 1 columns]"
      ]
     },
     "execution_count": 52,
     "metadata": {},
     "output_type": "execute_result"
    }
   ],
   "source": [
    "df_dont_nool = df_dont_nool[df_dont_nool['box_office'] < 1000]\n",
    "df_dont_nool.pivot_table(index = ['title'], values = 'box_office', aggfunc = ['sum'])\\\n",
    "    .sort_values(by = ('sum', 'box_office'), ascending = False)"
   ]
  },
  {
   "cell_type": "markdown",
   "metadata": {},
   "source": [
    "* В таблице есть строки в которых есть данные о господдержке и нет данных о бюджете, при этом в описании указано, что данные в столбце 'budget' уже содержат данные о государственной поддержке.\n",
    "\n",
    "* Указанных строк 17, это меньше 0,5%.\n",
    "\n",
    "* Считаю, что при исследовании фильмов, получивших государственную поддержку, эти строки можно удалить."
   ]
  },
  {
   "cell_type": "markdown",
   "metadata": {},
   "source": [
    "* В столбце 'box_office' есть неправдоподобно низкие значения, возможно данные о сборах указаны в тыс. рублей (тыс. доллоров или миллионах рублей)\n",
    "* При этом в описании к проекту указано, что в столбце 'title' содержиться информация о сборах в рублях."
   ]
  },
  {
   "cell_type": "markdown",
   "metadata": {
    "id": "Eu6oWp2CgFyS"
   },
   "source": [
    "### Добавьте новые столбцы\n",
    "\n",
    "\n",
    "\n"
   ]
  },
  {
   "cell_type": "code",
   "execution_count": 53,
   "metadata": {
    "scrolled": true
   },
   "outputs": [
    {
     "data": {
      "text/html": [
       "<div>\n",
       "<style scoped>\n",
       "    .dataframe tbody tr th:only-of-type {\n",
       "        vertical-align: middle;\n",
       "    }\n",
       "\n",
       "    .dataframe tbody tr th {\n",
       "        vertical-align: top;\n",
       "    }\n",
       "\n",
       "    .dataframe thead th {\n",
       "        text-align: right;\n",
       "    }\n",
       "</style>\n",
       "<table border=\"1\" class=\"dataframe\">\n",
       "  <thead>\n",
       "    <tr style=\"text-align: right;\">\n",
       "      <th></th>\n",
       "      <th>title</th>\n",
       "      <th>puNumber</th>\n",
       "      <th>show_start_date</th>\n",
       "      <th>type</th>\n",
       "      <th>film_studio</th>\n",
       "      <th>production_country</th>\n",
       "      <th>director</th>\n",
       "      <th>producer</th>\n",
       "      <th>age_restriction</th>\n",
       "      <th>refundable_support</th>\n",
       "      <th>nonrefundable_support</th>\n",
       "      <th>budget</th>\n",
       "      <th>financing_source</th>\n",
       "      <th>ratings</th>\n",
       "      <th>genres</th>\n",
       "      <th>box_office</th>\n",
       "    </tr>\n",
       "  </thead>\n",
       "  <tbody>\n",
       "    <tr>\n",
       "      <th>0</th>\n",
       "      <td>Открытый простор</td>\n",
       "      <td>221048915</td>\n",
       "      <td>2015-11-27 12:00:00+00:00</td>\n",
       "      <td>Художественный</td>\n",
       "      <td>Тачстоун Пикчерз, Кобальт Пикчерз, Бикон Пикче...</td>\n",
       "      <td>США</td>\n",
       "      <td>Кевин Костнер</td>\n",
       "      <td>Дэвид Валдес, Кевин Костнер, Джейк Эбертс</td>\n",
       "      <td>«18+» - запрещено для детей</td>\n",
       "      <td>0</td>\n",
       "      <td>0</td>\n",
       "      <td>0</td>\n",
       "      <td>unknown</td>\n",
       "      <td>7.20</td>\n",
       "      <td>боевик,драма,мелодрама</td>\n",
       "      <td>0</td>\n",
       "    </tr>\n",
       "    <tr>\n",
       "      <th>1</th>\n",
       "      <td>Особо важное задание</td>\n",
       "      <td>111013716</td>\n",
       "      <td>2016-09-13 12:00:00+00:00</td>\n",
       "      <td>Художественный</td>\n",
       "      <td>Киностудия \"Мосфильм\"</td>\n",
       "      <td>СССР</td>\n",
       "      <td>Е.Матвеев</td>\n",
       "      <td>unknown</td>\n",
       "      <td>«6+» - для детей старше 6 лет</td>\n",
       "      <td>0</td>\n",
       "      <td>0</td>\n",
       "      <td>0</td>\n",
       "      <td>unknown</td>\n",
       "      <td>6.60</td>\n",
       "      <td>драма,военный</td>\n",
       "      <td>0</td>\n",
       "    </tr>\n",
       "    <tr>\n",
       "      <th>2</th>\n",
       "      <td>Особо опасен</td>\n",
       "      <td>221038416</td>\n",
       "      <td>2016-10-10 12:00:00+00:00</td>\n",
       "      <td>Художественный</td>\n",
       "      <td>Юниверсал Пикчерз, Кикстарт Продакшнз, Марк Пл...</td>\n",
       "      <td>США</td>\n",
       "      <td>Тимур Бекмамбетов</td>\n",
       "      <td>Джим Лемли, Джейсон Нетер, Марк Е.Платт, Яйн Смит</td>\n",
       "      <td>«18+» - запрещено для детей</td>\n",
       "      <td>0</td>\n",
       "      <td>0</td>\n",
       "      <td>0</td>\n",
       "      <td>unknown</td>\n",
       "      <td>6.80</td>\n",
       "      <td>фантастика,боевик,триллер</td>\n",
       "      <td>0</td>\n",
       "    </tr>\n",
       "    <tr>\n",
       "      <th>3</th>\n",
       "      <td>Особо опасен</td>\n",
       "      <td>221026916</td>\n",
       "      <td>2016-06-10 12:00:00+00:00</td>\n",
       "      <td>Художественный</td>\n",
       "      <td>Юниверсал Пикчерз, Кикстарт Продакшнз, Марк Пл...</td>\n",
       "      <td>США</td>\n",
       "      <td>Тимур Бекмамбетов</td>\n",
       "      <td>Джим Лемли, Джейсон Нетер, Марк Е.Платт, Яйн Смит</td>\n",
       "      <td>«18+» - запрещено для детей</td>\n",
       "      <td>0</td>\n",
       "      <td>0</td>\n",
       "      <td>0</td>\n",
       "      <td>unknown</td>\n",
       "      <td>6.80</td>\n",
       "      <td>фантастика,боевик,триллер</td>\n",
       "      <td>0</td>\n",
       "    </tr>\n",
       "    <tr>\n",
       "      <th>4</th>\n",
       "      <td>Особо опасен</td>\n",
       "      <td>221030815</td>\n",
       "      <td>2015-07-29 12:00:00+00:00</td>\n",
       "      <td>Художественный</td>\n",
       "      <td>Юниверсал Пикчерз, Кикстарт Продакшнз, Марк Пл...</td>\n",
       "      <td>США</td>\n",
       "      <td>Тимур Бекмамбетов</td>\n",
       "      <td>Джим Лемли, Джейсон Нетер, Марк Е.Платт, Яйн Смит</td>\n",
       "      <td>«18+» - запрещено для детей</td>\n",
       "      <td>0</td>\n",
       "      <td>0</td>\n",
       "      <td>0</td>\n",
       "      <td>unknown</td>\n",
       "      <td>6.80</td>\n",
       "      <td>фантастика,боевик,триллер</td>\n",
       "      <td>0</td>\n",
       "    </tr>\n",
       "  </tbody>\n",
       "</table>\n",
       "</div>"
      ],
      "text/plain": [
       "                  title   puNumber           show_start_date            type  \\\n",
       "0      Открытый простор  221048915 2015-11-27 12:00:00+00:00  Художественный   \n",
       "1  Особо важное задание  111013716 2016-09-13 12:00:00+00:00  Художественный   \n",
       "2          Особо опасен  221038416 2016-10-10 12:00:00+00:00  Художественный   \n",
       "3          Особо опасен  221026916 2016-06-10 12:00:00+00:00  Художественный   \n",
       "4          Особо опасен  221030815 2015-07-29 12:00:00+00:00  Художественный   \n",
       "\n",
       "                                         film_studio production_country  \\\n",
       "0  Тачстоун Пикчерз, Кобальт Пикчерз, Бикон Пикче...                США   \n",
       "1                              Киностудия \"Мосфильм\"               СССР   \n",
       "2  Юниверсал Пикчерз, Кикстарт Продакшнз, Марк Пл...                США   \n",
       "3  Юниверсал Пикчерз, Кикстарт Продакшнз, Марк Пл...                США   \n",
       "4  Юниверсал Пикчерз, Кикстарт Продакшнз, Марк Пл...                США   \n",
       "\n",
       "            director                                           producer  \\\n",
       "0      Кевин Костнер          Дэвид Валдес, Кевин Костнер, Джейк Эбертс   \n",
       "1          Е.Матвеев                                            unknown   \n",
       "2  Тимур Бекмамбетов  Джим Лемли, Джейсон Нетер, Марк Е.Платт, Яйн Смит   \n",
       "3  Тимур Бекмамбетов  Джим Лемли, Джейсон Нетер, Марк Е.Платт, Яйн Смит   \n",
       "4  Тимур Бекмамбетов  Джим Лемли, Джейсон Нетер, Марк Е.Платт, Яйн Смит   \n",
       "\n",
       "                 age_restriction  refundable_support  nonrefundable_support  \\\n",
       "0    «18+» - запрещено для детей                   0                      0   \n",
       "1  «6+» - для детей старше 6 лет                   0                      0   \n",
       "2    «18+» - запрещено для детей                   0                      0   \n",
       "3    «18+» - запрещено для детей                   0                      0   \n",
       "4    «18+» - запрещено для детей                   0                      0   \n",
       "\n",
       "   budget financing_source  ratings                     genres  box_office  \n",
       "0       0          unknown     7.20     боевик,драма,мелодрама           0  \n",
       "1       0          unknown     6.60              драма,военный           0  \n",
       "2       0          unknown     6.80  фантастика,боевик,триллер           0  \n",
       "3       0          unknown     6.80  фантастика,боевик,триллер           0  \n",
       "4       0          unknown     6.80  фантастика,боевик,триллер           0  "
      ]
     },
     "execution_count": 53,
     "metadata": {},
     "output_type": "execute_result"
    }
   ],
   "source": [
    "df.head()"
   ]
  },
  {
   "cell_type": "markdown",
   "metadata": {
    "id": "7GgW-UpAgFyS"
   },
   "source": [
    "- Создайте столбец с информацией о годе проката. Выделите год из даты премьеры фильма."
   ]
  },
  {
   "cell_type": "code",
   "execution_count": 54,
   "metadata": {
    "id": "I-yd1DkWgFyT"
   },
   "outputs": [],
   "source": [
    "df['year']= df['show_start_date'].dt.year"
   ]
  },
  {
   "cell_type": "markdown",
   "metadata": {
    "id": "nFTDLDYOgFyT"
   },
   "source": [
    "- Создайте два столбца: с именем и фамилией главного режиссёра и основным жанром фильма. В столбцы войдут первые значения из списка режиссёров и жанров соответственно.\n",
    "\n",
    "<div id=\"accordion\">\n",
    "    <div class=\"card\">\n",
    "        <div class=\"card-header\" id=\"headingThree\">\n",
    "            <button class=\"btn btn-link collapsed\" data-toggle=\"collapse\" data-target=\"#collapseHint_2\" aria-expanded=\"false\" aria-controls=\"collapseHint_2\">Подсказка</button>\n",
    "        </div>\n",
    "        <div id=\"collapseHint_2\" class=\"collapse\" aria-labelledby=\"headingThree\" data-parent=\"#accordion\">\n",
    "            <div class=\"card-body\">\n",
    "Чтобы создать такие столбцы, лучше всего использовать собственную функцию. Эту функцию можно применить к двум столбцам сразу. \n",
    "            </div>\n",
    "        </div>\n",
    "    </div>\n",
    "</div>"
   ]
  },
  {
   "cell_type": "markdown",
   "metadata": {},
   "source": [
    "def generals_director_and_genres(general):\n",
    "    general = general.split(',')\n",
    "    for i in general:\n",
    "        return i"
   ]
  },
  {
   "cell_type": "code",
   "execution_count": 55,
   "metadata": {},
   "outputs": [],
   "source": [
    "def generals_director_and_genres(general):\n",
    "    general = general.split(',')\n",
    "    return general[0]"
   ]
  },
  {
   "cell_type": "code",
   "execution_count": 56,
   "metadata": {},
   "outputs": [],
   "source": [
    "df['general_director'] = df['director'].apply(generals_director_and_genres)\n",
    "df['general_genre'] = df['genres'].apply(generals_director_and_genres)"
   ]
  },
  {
   "cell_type": "markdown",
   "metadata": {
    "id": "1FsCXHwdgFyU"
   },
   "source": [
    "- Посчитайте, какую долю от общего бюджета фильма составляет государственная поддержка."
   ]
  },
  {
   "cell_type": "code",
   "execution_count": 57,
   "metadata": {
    "id": "LV6qFuZLgFyV"
   },
   "outputs": [],
   "source": [
    "df['procent_support'] = 100 / df['budget'] * (df['nonrefundable_support'] + df['refundable_support'])\n",
    "df['procent_support'] = df['procent_support'].round(1)"
   ]
  },
  {
   "cell_type": "code",
   "execution_count": 58,
   "metadata": {
    "scrolled": true
   },
   "outputs": [
    {
     "data": {
      "text/html": [
       "<div>\n",
       "<style scoped>\n",
       "    .dataframe tbody tr th:only-of-type {\n",
       "        vertical-align: middle;\n",
       "    }\n",
       "\n",
       "    .dataframe tbody tr th {\n",
       "        vertical-align: top;\n",
       "    }\n",
       "\n",
       "    .dataframe thead th {\n",
       "        text-align: right;\n",
       "    }\n",
       "</style>\n",
       "<table border=\"1\" class=\"dataframe\">\n",
       "  <thead>\n",
       "    <tr style=\"text-align: right;\">\n",
       "      <th></th>\n",
       "      <th>title</th>\n",
       "      <th>puNumber</th>\n",
       "      <th>show_start_date</th>\n",
       "      <th>type</th>\n",
       "      <th>film_studio</th>\n",
       "      <th>production_country</th>\n",
       "      <th>director</th>\n",
       "      <th>producer</th>\n",
       "      <th>age_restriction</th>\n",
       "      <th>refundable_support</th>\n",
       "      <th>nonrefundable_support</th>\n",
       "      <th>budget</th>\n",
       "      <th>financing_source</th>\n",
       "      <th>ratings</th>\n",
       "      <th>genres</th>\n",
       "      <th>box_office</th>\n",
       "      <th>year</th>\n",
       "      <th>general_director</th>\n",
       "      <th>general_genre</th>\n",
       "      <th>procent_support</th>\n",
       "    </tr>\n",
       "  </thead>\n",
       "  <tbody>\n",
       "    <tr>\n",
       "      <th>0</th>\n",
       "      <td>Открытый простор</td>\n",
       "      <td>221048915</td>\n",
       "      <td>2015-11-27 12:00:00+00:00</td>\n",
       "      <td>Художественный</td>\n",
       "      <td>Тачстоун Пикчерз, Кобальт Пикчерз, Бикон Пикче...</td>\n",
       "      <td>США</td>\n",
       "      <td>Кевин Костнер</td>\n",
       "      <td>Дэвид Валдес, Кевин Костнер, Джейк Эбертс</td>\n",
       "      <td>«18+» - запрещено для детей</td>\n",
       "      <td>0</td>\n",
       "      <td>0</td>\n",
       "      <td>0</td>\n",
       "      <td>unknown</td>\n",
       "      <td>7.20</td>\n",
       "      <td>боевик,драма,мелодрама</td>\n",
       "      <td>0</td>\n",
       "      <td>2015</td>\n",
       "      <td>Кевин Костнер</td>\n",
       "      <td>боевик</td>\n",
       "      <td>NaN</td>\n",
       "    </tr>\n",
       "    <tr>\n",
       "      <th>1</th>\n",
       "      <td>Особо важное задание</td>\n",
       "      <td>111013716</td>\n",
       "      <td>2016-09-13 12:00:00+00:00</td>\n",
       "      <td>Художественный</td>\n",
       "      <td>Киностудия \"Мосфильм\"</td>\n",
       "      <td>СССР</td>\n",
       "      <td>Е.Матвеев</td>\n",
       "      <td>unknown</td>\n",
       "      <td>«6+» - для детей старше 6 лет</td>\n",
       "      <td>0</td>\n",
       "      <td>0</td>\n",
       "      <td>0</td>\n",
       "      <td>unknown</td>\n",
       "      <td>6.60</td>\n",
       "      <td>драма,военный</td>\n",
       "      <td>0</td>\n",
       "      <td>2016</td>\n",
       "      <td>Е.Матвеев</td>\n",
       "      <td>драма</td>\n",
       "      <td>NaN</td>\n",
       "    </tr>\n",
       "    <tr>\n",
       "      <th>2</th>\n",
       "      <td>Особо опасен</td>\n",
       "      <td>221038416</td>\n",
       "      <td>2016-10-10 12:00:00+00:00</td>\n",
       "      <td>Художественный</td>\n",
       "      <td>Юниверсал Пикчерз, Кикстарт Продакшнз, Марк Пл...</td>\n",
       "      <td>США</td>\n",
       "      <td>Тимур Бекмамбетов</td>\n",
       "      <td>Джим Лемли, Джейсон Нетер, Марк Е.Платт, Яйн Смит</td>\n",
       "      <td>«18+» - запрещено для детей</td>\n",
       "      <td>0</td>\n",
       "      <td>0</td>\n",
       "      <td>0</td>\n",
       "      <td>unknown</td>\n",
       "      <td>6.80</td>\n",
       "      <td>фантастика,боевик,триллер</td>\n",
       "      <td>0</td>\n",
       "      <td>2016</td>\n",
       "      <td>Тимур Бекмамбетов</td>\n",
       "      <td>фантастика</td>\n",
       "      <td>NaN</td>\n",
       "    </tr>\n",
       "    <tr>\n",
       "      <th>3</th>\n",
       "      <td>Особо опасен</td>\n",
       "      <td>221026916</td>\n",
       "      <td>2016-06-10 12:00:00+00:00</td>\n",
       "      <td>Художественный</td>\n",
       "      <td>Юниверсал Пикчерз, Кикстарт Продакшнз, Марк Пл...</td>\n",
       "      <td>США</td>\n",
       "      <td>Тимур Бекмамбетов</td>\n",
       "      <td>Джим Лемли, Джейсон Нетер, Марк Е.Платт, Яйн Смит</td>\n",
       "      <td>«18+» - запрещено для детей</td>\n",
       "      <td>0</td>\n",
       "      <td>0</td>\n",
       "      <td>0</td>\n",
       "      <td>unknown</td>\n",
       "      <td>6.80</td>\n",
       "      <td>фантастика,боевик,триллер</td>\n",
       "      <td>0</td>\n",
       "      <td>2016</td>\n",
       "      <td>Тимур Бекмамбетов</td>\n",
       "      <td>фантастика</td>\n",
       "      <td>NaN</td>\n",
       "    </tr>\n",
       "    <tr>\n",
       "      <th>4</th>\n",
       "      <td>Особо опасен</td>\n",
       "      <td>221030815</td>\n",
       "      <td>2015-07-29 12:00:00+00:00</td>\n",
       "      <td>Художественный</td>\n",
       "      <td>Юниверсал Пикчерз, Кикстарт Продакшнз, Марк Пл...</td>\n",
       "      <td>США</td>\n",
       "      <td>Тимур Бекмамбетов</td>\n",
       "      <td>Джим Лемли, Джейсон Нетер, Марк Е.Платт, Яйн Смит</td>\n",
       "      <td>«18+» - запрещено для детей</td>\n",
       "      <td>0</td>\n",
       "      <td>0</td>\n",
       "      <td>0</td>\n",
       "      <td>unknown</td>\n",
       "      <td>6.80</td>\n",
       "      <td>фантастика,боевик,триллер</td>\n",
       "      <td>0</td>\n",
       "      <td>2015</td>\n",
       "      <td>Тимур Бекмамбетов</td>\n",
       "      <td>фантастика</td>\n",
       "      <td>NaN</td>\n",
       "    </tr>\n",
       "  </tbody>\n",
       "</table>\n",
       "</div>"
      ],
      "text/plain": [
       "                  title   puNumber           show_start_date            type  \\\n",
       "0      Открытый простор  221048915 2015-11-27 12:00:00+00:00  Художественный   \n",
       "1  Особо важное задание  111013716 2016-09-13 12:00:00+00:00  Художественный   \n",
       "2          Особо опасен  221038416 2016-10-10 12:00:00+00:00  Художественный   \n",
       "3          Особо опасен  221026916 2016-06-10 12:00:00+00:00  Художественный   \n",
       "4          Особо опасен  221030815 2015-07-29 12:00:00+00:00  Художественный   \n",
       "\n",
       "                                         film_studio production_country  \\\n",
       "0  Тачстоун Пикчерз, Кобальт Пикчерз, Бикон Пикче...                США   \n",
       "1                              Киностудия \"Мосфильм\"               СССР   \n",
       "2  Юниверсал Пикчерз, Кикстарт Продакшнз, Марк Пл...                США   \n",
       "3  Юниверсал Пикчерз, Кикстарт Продакшнз, Марк Пл...                США   \n",
       "4  Юниверсал Пикчерз, Кикстарт Продакшнз, Марк Пл...                США   \n",
       "\n",
       "            director                                           producer  \\\n",
       "0      Кевин Костнер          Дэвид Валдес, Кевин Костнер, Джейк Эбертс   \n",
       "1          Е.Матвеев                                            unknown   \n",
       "2  Тимур Бекмамбетов  Джим Лемли, Джейсон Нетер, Марк Е.Платт, Яйн Смит   \n",
       "3  Тимур Бекмамбетов  Джим Лемли, Джейсон Нетер, Марк Е.Платт, Яйн Смит   \n",
       "4  Тимур Бекмамбетов  Джим Лемли, Джейсон Нетер, Марк Е.Платт, Яйн Смит   \n",
       "\n",
       "                 age_restriction  refundable_support  nonrefundable_support  \\\n",
       "0    «18+» - запрещено для детей                   0                      0   \n",
       "1  «6+» - для детей старше 6 лет                   0                      0   \n",
       "2    «18+» - запрещено для детей                   0                      0   \n",
       "3    «18+» - запрещено для детей                   0                      0   \n",
       "4    «18+» - запрещено для детей                   0                      0   \n",
       "\n",
       "   budget financing_source  ratings                     genres  box_office  \\\n",
       "0       0          unknown     7.20     боевик,драма,мелодрама           0   \n",
       "1       0          unknown     6.60              драма,военный           0   \n",
       "2       0          unknown     6.80  фантастика,боевик,триллер           0   \n",
       "3       0          unknown     6.80  фантастика,боевик,триллер           0   \n",
       "4       0          unknown     6.80  фантастика,боевик,триллер           0   \n",
       "\n",
       "   year   general_director general_genre  procent_support  \n",
       "0  2015      Кевин Костнер        боевик              NaN  \n",
       "1  2016          Е.Матвеев         драма              NaN  \n",
       "2  2016  Тимур Бекмамбетов    фантастика              NaN  \n",
       "3  2016  Тимур Бекмамбетов    фантастика              NaN  \n",
       "4  2015  Тимур Бекмамбетов    фантастика              NaN  "
      ]
     },
     "execution_count": 58,
     "metadata": {},
     "output_type": "execute_result"
    }
   ],
   "source": [
    "df.head()"
   ]
  },
  {
   "cell_type": "markdown",
   "metadata": {
    "id": "6t4EukPLgFyV"
   },
   "source": [
    "## Исследовательский анализ данных\n"
   ]
  },
  {
   "cell_type": "markdown",
   "metadata": {
    "id": "vAH8WCzugFyV"
   },
   "source": [
    "### Смотрим, сколько фильмов выходило в прокат каждый год."
   ]
  },
  {
   "cell_type": "markdown",
   "metadata": {},
   "source": [
    "* Посмотрите, сколько фильмов выходило в прокат каждый год. Обратите внимание, что данные о прокате в кинотеатрах известны не для всех фильмов. Посчитайте, какую долю составляют фильмы с указанной информацией о прокате в кинотеатрах. Проанализируйте, как эта доля менялась по годам. Сделайте вывод о том, какой период полнее всего представлен в данных."
   ]
  },
  {
   "cell_type": "code",
   "execution_count": 59,
   "metadata": {
    "id": "ABeV47y7gFyW",
    "scrolled": true
   },
   "outputs": [
    {
     "name": "stdout",
     "output_type": "stream",
     "text": [
      "0.5812399786210583\n"
     ]
    }
   ],
   "source": [
    "print(len(df.query('box_office == 0')) / len(df))"
   ]
  },
  {
   "cell_type": "markdown",
   "metadata": {},
   "source": [
    "* Для 58% фильмов не указана информация о прокате в кинотеатрах."
   ]
  },
  {
   "cell_type": "code",
   "execution_count": 60,
   "metadata": {},
   "outputs": [],
   "source": [
    "box_office_dont_nool = df.query('box_office != 0')\n",
    "box_office_nool = df.query('box_office == 0')\n",
    "#box_office_dont_nool.head()"
   ]
  },
  {
   "cell_type": "code",
   "execution_count": 61,
   "metadata": {
    "scrolled": true
   },
   "outputs": [],
   "source": [
    "box_office_proc_1 = box_office_dont_nool.pivot_table(index = ['year'], values = 'box_office', aggfunc = ['count'])\\\n",
    "    .sort_values(by = ('year'), ascending = False)"
   ]
  },
  {
   "cell_type": "code",
   "execution_count": 62,
   "metadata": {},
   "outputs": [],
   "source": [
    "box_office_proc_2 = box_office_nool.pivot_table(index = ['year'], values = 'box_office', aggfunc = ['count'])\\\n",
    "    .sort_values(by = ('year'), ascending = False)"
   ]
  },
  {
   "cell_type": "code",
   "execution_count": 63,
   "metadata": {},
   "outputs": [],
   "source": [
    "box_office_proc_3 = df.pivot_table(index = ['year'], values = 'box_office', aggfunc = ['count'])\\\n",
    "    .sort_values(by = ('year'), ascending = False)"
   ]
  },
  {
   "cell_type": "code",
   "execution_count": 64,
   "metadata": {},
   "outputs": [],
   "source": [
    "box_office_proc_1.rename(columns={'box_office': 'film_b_f'}, inplace=True)\n",
    "box_office_proc_2.rename(columns={'box_office': 'film_d_b_f'}, inplace=True)\n",
    "box_office_proc_3.rename(columns={'box_office': 'film_count'}, inplace=True)"
   ]
  },
  {
   "cell_type": "code",
   "execution_count": 65,
   "metadata": {
    "scrolled": true
   },
   "outputs": [
    {
     "data": {
      "text/html": [
       "<div>\n",
       "<style scoped>\n",
       "    .dataframe tbody tr th:only-of-type {\n",
       "        vertical-align: middle;\n",
       "    }\n",
       "\n",
       "    .dataframe tbody tr th {\n",
       "        vertical-align: top;\n",
       "    }\n",
       "\n",
       "    .dataframe thead tr th {\n",
       "        text-align: left;\n",
       "    }\n",
       "\n",
       "    .dataframe thead tr:last-of-type th {\n",
       "        text-align: right;\n",
       "    }\n",
       "</style>\n",
       "<table border=\"1\" class=\"dataframe\">\n",
       "  <thead>\n",
       "    <tr>\n",
       "      <th></th>\n",
       "      <th colspan=\"3\" halign=\"left\">count</th>\n",
       "      <th>procent</th>\n",
       "    </tr>\n",
       "    <tr>\n",
       "      <th></th>\n",
       "      <th>film_b_f</th>\n",
       "      <th>film_d_b_f</th>\n",
       "      <th>film_count</th>\n",
       "      <th></th>\n",
       "    </tr>\n",
       "    <tr>\n",
       "      <th>year</th>\n",
       "      <th></th>\n",
       "      <th></th>\n",
       "      <th></th>\n",
       "      <th></th>\n",
       "    </tr>\n",
       "  </thead>\n",
       "  <tbody>\n",
       "    <tr>\n",
       "      <th>2017</th>\n",
       "      <td>357</td>\n",
       "      <td>148</td>\n",
       "      <td>505</td>\n",
       "      <td>70.69</td>\n",
       "    </tr>\n",
       "    <tr>\n",
       "      <th>2015</th>\n",
       "      <td>462</td>\n",
       "      <td>243</td>\n",
       "      <td>705</td>\n",
       "      <td>65.53</td>\n",
       "    </tr>\n",
       "    <tr>\n",
       "      <th>2016</th>\n",
       "      <td>525</td>\n",
       "      <td>293</td>\n",
       "      <td>818</td>\n",
       "      <td>64.18</td>\n",
       "    </tr>\n",
       "    <tr>\n",
       "      <th>2019</th>\n",
       "      <td>530</td>\n",
       "      <td>400</td>\n",
       "      <td>930</td>\n",
       "      <td>56.99</td>\n",
       "    </tr>\n",
       "    <tr>\n",
       "      <th>2018</th>\n",
       "      <td>475</td>\n",
       "      <td>416</td>\n",
       "      <td>891</td>\n",
       "      <td>53.31</td>\n",
       "    </tr>\n",
       "    <tr>\n",
       "      <th>2014</th>\n",
       "      <td>273</td>\n",
       "      <td>534</td>\n",
       "      <td>807</td>\n",
       "      <td>33.83</td>\n",
       "    </tr>\n",
       "    <tr>\n",
       "      <th>2013</th>\n",
       "      <td>179</td>\n",
       "      <td>451</td>\n",
       "      <td>630</td>\n",
       "      <td>28.41</td>\n",
       "    </tr>\n",
       "    <tr>\n",
       "      <th>2012</th>\n",
       "      <td>123</td>\n",
       "      <td>470</td>\n",
       "      <td>593</td>\n",
       "      <td>20.74</td>\n",
       "    </tr>\n",
       "    <tr>\n",
       "      <th>2011</th>\n",
       "      <td>109</td>\n",
       "      <td>513</td>\n",
       "      <td>622</td>\n",
       "      <td>17.52</td>\n",
       "    </tr>\n",
       "    <tr>\n",
       "      <th>2010</th>\n",
       "      <td>101</td>\n",
       "      <td>882</td>\n",
       "      <td>983</td>\n",
       "      <td>10.27</td>\n",
       "    </tr>\n",
       "  </tbody>\n",
       "</table>\n",
       "</div>"
      ],
      "text/plain": [
       "        count                       procent\n",
       "     film_b_f film_d_b_f film_count        \n",
       "year                                       \n",
       "2017      357        148        505   70.69\n",
       "2015      462        243        705   65.53\n",
       "2016      525        293        818   64.18\n",
       "2019      530        400        930   56.99\n",
       "2018      475        416        891   53.31\n",
       "2014      273        534        807   33.83\n",
       "2013      179        451        630   28.41\n",
       "2012      123        470        593   20.74\n",
       "2011      109        513        622   17.52\n",
       "2010      101        882        983   10.27"
      ]
     },
     "execution_count": 65,
     "metadata": {},
     "output_type": "execute_result"
    }
   ],
   "source": [
    "box_office_proc_final = box_office_proc_1.merge(box_office_proc_2, on = 'year', how = 'outer')\n",
    "box_office_proc_final = box_office_proc_final.merge(box_office_proc_3, on = 'year', how = 'outer')\n",
    "box_office_proc_final['procent'] = (100 / box_office_proc_final['count', 'film_count']) * box_office_proc_final['count', 'film_b_f']\n",
    "box_office_proc_final.sort_values(by = ('procent'), ascending = False)"
   ]
  },
  {
   "cell_type": "markdown",
   "metadata": {},
   "source": [
    "* Больше всего фильмов вышло в прокат в 2019 году - 930\n",
    "* Меньше всего фильмов вышло в прокат в 2017 году - 505\n",
    "\n",
    "* Для 58% фильмов не указана информация о прокате в кинотеатрах.\n",
    "\n",
    "* C 2010 года по 2017 год количество доля фильмов с информацие о прокате росла - с 10.27% до 70.69%\n",
    "* В 2018 году доля фильмов с информацией о прокате упала - с 71.49% до 53.31%\n",
    "* C 2018 года количество доля фильмов с информацие о прокате снова ростет - в 2019 году 56.99%\n",
    "\n",
    "* Самая большая доля фильмов с информацией о сборах была в 2017 году - 70.69%"
   ]
  },
  {
   "cell_type": "markdown",
   "metadata": {
    "id": "BEOdcIrIgFyW"
   },
   "source": [
    "### Изучаем, как менялась динамика проката по годам. "
   ]
  },
  {
   "cell_type": "code",
   "execution_count": 66,
   "metadata": {
    "id": "tfEhofYvgFyX",
    "scrolled": false
   },
   "outputs": [
    {
     "data": {
      "text/plain": [
       "<Axes: xlabel='year'>"
      ]
     },
     "execution_count": 66,
     "metadata": {},
     "output_type": "execute_result"
    },
    {
     "data": {
      "image/png": "[encoded data removed]",
      "text/plain": [
       "<Figure size 1500x500 with 1 Axes>"
      ]
     },
     "metadata": {},
     "output_type": "display_data"
    }
   ],
   "source": [
    "box_office_dont_nool.groupby('year')['box_office'].sum().plot(figsize=(15,5), style='o-', grid=True)"
   ]
  },
  {
   "cell_type": "markdown",
   "metadata": {
    "id": "G-7qS-N-gFyY"
   },
   "source": [
    "- С помощью сводной таблицы посчитайте среднюю и медианную сумму сборов для каждого года."
   ]
  },
  {
   "cell_type": "code",
   "execution_count": 67,
   "metadata": {
    "id": "jmp-rgg9gFyY",
    "scrolled": true
   },
   "outputs": [
    {
     "data": {
      "text/html": [
       "<div>\n",
       "<style scoped>\n",
       "    .dataframe tbody tr th:only-of-type {\n",
       "        vertical-align: middle;\n",
       "    }\n",
       "\n",
       "    .dataframe tbody tr th {\n",
       "        vertical-align: top;\n",
       "    }\n",
       "\n",
       "    .dataframe thead tr th {\n",
       "        text-align: left;\n",
       "    }\n",
       "\n",
       "    .dataframe thead tr:last-of-type th {\n",
       "        text-align: right;\n",
       "    }\n",
       "</style>\n",
       "<table border=\"1\" class=\"dataframe\">\n",
       "  <thead>\n",
       "    <tr>\n",
       "      <th></th>\n",
       "      <th>sum</th>\n",
       "      <th>mean</th>\n",
       "      <th>median</th>\n",
       "      <th>median/mean</th>\n",
       "    </tr>\n",
       "    <tr>\n",
       "      <th></th>\n",
       "      <th>box_office</th>\n",
       "      <th>box_office</th>\n",
       "      <th>box_office</th>\n",
       "      <th></th>\n",
       "    </tr>\n",
       "    <tr>\n",
       "      <th>year</th>\n",
       "      <th></th>\n",
       "      <th></th>\n",
       "      <th></th>\n",
       "      <th></th>\n",
       "    </tr>\n",
       "  </thead>\n",
       "  <tbody>\n",
       "    <tr>\n",
       "      <th>2016</th>\n",
       "      <td>47866299596</td>\n",
       "      <td>91173903.99</td>\n",
       "      <td>3915041.00</td>\n",
       "      <td>0.04</td>\n",
       "    </tr>\n",
       "    <tr>\n",
       "      <th>2018</th>\n",
       "      <td>45249165297</td>\n",
       "      <td>95261400.63</td>\n",
       "      <td>8751895.00</td>\n",
       "      <td>0.09</td>\n",
       "    </tr>\n",
       "    <tr>\n",
       "      <th>2017</th>\n",
       "      <td>43636537422</td>\n",
       "      <td>122231197.26</td>\n",
       "      <td>9919415.00</td>\n",
       "      <td>0.08</td>\n",
       "    </tr>\n",
       "    <tr>\n",
       "      <th>2015</th>\n",
       "      <td>39497365062</td>\n",
       "      <td>85492132.17</td>\n",
       "      <td>5003449.50</td>\n",
       "      <td>0.06</td>\n",
       "    </tr>\n",
       "    <tr>\n",
       "      <th>2019</th>\n",
       "      <td>38480558830</td>\n",
       "      <td>72604827.98</td>\n",
       "      <td>4547560.00</td>\n",
       "      <td>0.06</td>\n",
       "    </tr>\n",
       "    <tr>\n",
       "      <th>2014</th>\n",
       "      <td>7444951839</td>\n",
       "      <td>27270885.86</td>\n",
       "      <td>20400.00</td>\n",
       "      <td>0.00</td>\n",
       "    </tr>\n",
       "    <tr>\n",
       "      <th>2013</th>\n",
       "      <td>29799704</td>\n",
       "      <td>166478.79</td>\n",
       "      <td>3580.00</td>\n",
       "      <td>0.02</td>\n",
       "    </tr>\n",
       "    <tr>\n",
       "      <th>2011</th>\n",
       "      <td>14102765</td>\n",
       "      <td>129383.17</td>\n",
       "      <td>3000.00</td>\n",
       "      <td>0.02</td>\n",
       "    </tr>\n",
       "    <tr>\n",
       "      <th>2012</th>\n",
       "      <td>6955423</td>\n",
       "      <td>56548.15</td>\n",
       "      <td>6220.00</td>\n",
       "      <td>0.11</td>\n",
       "    </tr>\n",
       "    <tr>\n",
       "      <th>2010</th>\n",
       "      <td>2428654</td>\n",
       "      <td>24046.08</td>\n",
       "      <td>1710.00</td>\n",
       "      <td>0.07</td>\n",
       "    </tr>\n",
       "  </tbody>\n",
       "</table>\n",
       "</div>"
      ],
      "text/plain": [
       "              sum         mean     median median/mean\n",
       "       box_office   box_office box_office            \n",
       "year                                                 \n",
       "2016  47866299596  91173903.99 3915041.00        0.04\n",
       "2018  45249165297  95261400.63 8751895.00        0.09\n",
       "2017  43636537422 122231197.26 9919415.00        0.08\n",
       "2015  39497365062  85492132.17 5003449.50        0.06\n",
       "2019  38480558830  72604827.98 4547560.00        0.06\n",
       "2014   7444951839  27270885.86   20400.00        0.00\n",
       "2013     29799704    166478.79    3580.00        0.02\n",
       "2011     14102765    129383.17    3000.00        0.02\n",
       "2012      6955423     56548.15    6220.00        0.11\n",
       "2010      2428654     24046.08    1710.00        0.07"
      ]
     },
     "execution_count": 67,
     "metadata": {},
     "output_type": "execute_result"
    }
   ],
   "source": [
    "sum_sbor = box_office_dont_nool.pivot_table(index = ['year'], values = 'box_office', aggfunc = ['sum', 'mean', 'median'])\\\n",
    "    .sort_values(by = ('sum', 'box_office'), ascending = False)\n",
    "sum_sbor['median/mean'] = sum_sbor['median', 'box_office'] / sum_sbor['mean', 'box_office']\n",
    "sum_sbor"
   ]
  },
  {
   "cell_type": "code",
   "execution_count": 68,
   "metadata": {
    "scrolled": true
   },
   "outputs": [
    {
     "data": {
      "text/plain": [
       "0.05636727854578488"
      ]
     },
     "execution_count": 68,
     "metadata": {},
     "output_type": "execute_result"
    }
   ],
   "source": [
    "sum_sbor['median/mean'].mean()"
   ]
  },
  {
   "cell_type": "markdown",
   "metadata": {},
   "source": [
    "* В среднем медиана составляет 0.06 от средних сборов фильм\n",
    "* Возможно это связано с тем, что в каждом году были кассовые хиты и это сильно повлияло на среднее"
   ]
  },
  {
   "cell_type": "markdown",
   "metadata": {},
   "source": [
    "* В среднем фильмы больше всего собирали в 2017 году - 136 032 793 руб.\n",
    "* В среднем фильмы меньше всего собирали в 2010 году - 24 046 руб."
   ]
  },
  {
   "cell_type": "markdown",
   "metadata": {},
   "source": [
    "* Самая большая общая сумма проката фильмов была в 2018 году - 49 668 402 949 руб.\n",
    "* Самая маленькая общая сумма проката фильмов была в 2010 году - 2 428 654 руб."
   ]
  },
  {
   "cell_type": "markdown",
   "metadata": {
    "id": "Ok89WFwJgFyZ"
   },
   "source": [
    "### Определяем, влияет ли возрастное ограничение аудитории («6+», «12+», «16+», «18+» и т. д.) на сборы фильма в прокате в период с 2015 по 2019 год."
   ]
  },
  {
   "cell_type": "code",
   "execution_count": 69,
   "metadata": {},
   "outputs": [
    {
     "data": {
      "text/plain": [
       "year\n",
       "2019    530\n",
       "2016    525\n",
       "2018    475\n",
       "2015    462\n",
       "2017    357\n",
       "2014    273\n",
       "2013    179\n",
       "2012    123\n",
       "2011    109\n",
       "2010    101\n",
       "Name: count, dtype: int64"
      ]
     },
     "execution_count": 69,
     "metadata": {},
     "output_type": "execute_result"
    }
   ],
   "source": [
    "box_office_dont_nool['year'].value_counts()"
   ]
  },
  {
   "cell_type": "code",
   "execution_count": 70,
   "metadata": {},
   "outputs": [
    {
     "data": {
      "text/plain": [
       "year\n",
       "2019    530\n",
       "2016    525\n",
       "2018    475\n",
       "2015    462\n",
       "2017    357\n",
       "Name: count, dtype: int64"
      ]
     },
     "execution_count": 70,
     "metadata": {},
     "output_type": "execute_result"
    }
   ],
   "source": [
    "year_2015_2019 = box_office_dont_nool[box_office_dont_nool['year'] > 2014]\n",
    "year_2015_2019['year'].value_counts()"
   ]
  },
  {
   "cell_type": "code",
   "execution_count": 71,
   "metadata": {
    "id": "jsSbEqfjgFya",
    "scrolled": false
   },
   "outputs": [
    {
     "data": {
      "text/html": [
       "<div>\n",
       "<style scoped>\n",
       "    .dataframe tbody tr th:only-of-type {\n",
       "        vertical-align: middle;\n",
       "    }\n",
       "\n",
       "    .dataframe tbody tr th {\n",
       "        vertical-align: top;\n",
       "    }\n",
       "\n",
       "    .dataframe thead tr th {\n",
       "        text-align: left;\n",
       "    }\n",
       "\n",
       "    .dataframe thead tr:last-of-type th {\n",
       "        text-align: right;\n",
       "    }\n",
       "</style>\n",
       "<table border=\"1\" class=\"dataframe\">\n",
       "  <thead>\n",
       "    <tr>\n",
       "      <th></th>\n",
       "      <th>count</th>\n",
       "      <th>sum</th>\n",
       "      <th>mean</th>\n",
       "      <th>median</th>\n",
       "    </tr>\n",
       "    <tr>\n",
       "      <th></th>\n",
       "      <th>box_office</th>\n",
       "      <th>box_office</th>\n",
       "      <th>box_office</th>\n",
       "      <th>box_office</th>\n",
       "    </tr>\n",
       "    <tr>\n",
       "      <th>age_restriction</th>\n",
       "      <th></th>\n",
       "      <th></th>\n",
       "      <th></th>\n",
       "      <th></th>\n",
       "    </tr>\n",
       "  </thead>\n",
       "  <tbody>\n",
       "    <tr>\n",
       "      <th>«6+» - для детей старше 6 лет</th>\n",
       "      <td>317</td>\n",
       "      <td>50871440908</td>\n",
       "      <td>160477731.57</td>\n",
       "      <td>13717189</td>\n",
       "    </tr>\n",
       "    <tr>\n",
       "      <th>«12+» - для детей старше 12 лет</th>\n",
       "      <td>347</td>\n",
       "      <td>50979156540</td>\n",
       "      <td>146913995.79</td>\n",
       "      <td>4902848</td>\n",
       "    </tr>\n",
       "    <tr>\n",
       "      <th>«16+» - для детей старше 16 лет</th>\n",
       "      <td>803</td>\n",
       "      <td>71310636001</td>\n",
       "      <td>88805275.22</td>\n",
       "      <td>5600007</td>\n",
       "    </tr>\n",
       "    <tr>\n",
       "      <th>«18+» - запрещено для детей</th>\n",
       "      <td>792</td>\n",
       "      <td>40759615355</td>\n",
       "      <td>51464160.80</td>\n",
       "      <td>6154439</td>\n",
       "    </tr>\n",
       "    <tr>\n",
       "      <th>«0+» - для любой зрительской аудитории</th>\n",
       "      <td>90</td>\n",
       "      <td>809077403</td>\n",
       "      <td>8989748.92</td>\n",
       "      <td>2949626</td>\n",
       "    </tr>\n",
       "  </tbody>\n",
       "</table>\n",
       "</div>"
      ],
      "text/plain": [
       "                                            count          sum         mean  \\\n",
       "                                       box_office   box_office   box_office   \n",
       "age_restriction                                                               \n",
       "«6+» - для детей старше 6 лет                 317  50871440908 160477731.57   \n",
       "«12+» - для детей старше 12 лет               347  50979156540 146913995.79   \n",
       "«16+» - для детей старше 16 лет               803  71310636001  88805275.22   \n",
       "«18+» - запрещено для детей                   792  40759615355  51464160.80   \n",
       "«0+» - для любой зрительской аудитории         90    809077403   8989748.92   \n",
       "\n",
       "                                           median  \n",
       "                                       box_office  \n",
       "age_restriction                                    \n",
       "«6+» - для детей старше 6 лет            13717189  \n",
       "«12+» - для детей старше 12 лет           4902848  \n",
       "«16+» - для детей старше 16 лет           5600007  \n",
       "«18+» - запрещено для детей               6154439  \n",
       "«0+» - для любой зрительской аудитории    2949626  "
      ]
     },
     "execution_count": 71,
     "metadata": {},
     "output_type": "execute_result"
    }
   ],
   "source": [
    "year_2015_2019.pivot_table(index = ['age_restriction'], values = 'box_office', aggfunc = ['count', 'sum', 'mean', 'median'])\\\n",
    "    .sort_values(by = ('mean', 'box_office'), ascending = False)"
   ]
  },
  {
   "cell_type": "markdown",
   "metadata": {},
   "source": [
    "* Фильмов с рейтингом «0+» значительно меньше чем фильмов любой другой категории (90), такая же ситуация с суммой сборов и сборами указанных фильмов в среднем.\n",
    "* Возрастное ограничение аудитории («6+», «12+», «16+», «18+» и т. д.) влияет на сборы фильма в прокате, чем ниже возрастной рейтинг, тем больше фильм соберет в прокате в среднем.\n",
    "* При этом фильмов с возрастным рейтингом «16+» и «18+» выходит в прокат значительно больше чем фильмов с возрастным рейтингом «6+» и «12+»."
   ]
  },
  {
   "cell_type": "markdown",
   "metadata": {
    "scrolled": true
   },
   "source": [
    "year_2015_2019.pivot_table(index = ['year', 'age_restriction'], values = 'box_office', aggfunc = ['count', 'sum', 'mean', 'median'])\\\n",
    "    .sort_values(by = ('year'), ascending = False)"
   ]
  },
  {
   "cell_type": "code",
   "execution_count": 72,
   "metadata": {
    "scrolled": false
   },
   "outputs": [
    {
     "data": {
      "text/html": [
       "<div>\n",
       "<style scoped>\n",
       "    .dataframe tbody tr th:only-of-type {\n",
       "        vertical-align: middle;\n",
       "    }\n",
       "\n",
       "    .dataframe tbody tr th {\n",
       "        vertical-align: top;\n",
       "    }\n",
       "\n",
       "    .dataframe thead tr th {\n",
       "        text-align: left;\n",
       "    }\n",
       "\n",
       "    .dataframe thead tr:last-of-type th {\n",
       "        text-align: right;\n",
       "    }\n",
       "</style>\n",
       "<table border=\"1\" class=\"dataframe\">\n",
       "  <thead>\n",
       "    <tr>\n",
       "      <th></th>\n",
       "      <th>count</th>\n",
       "      <th>sum</th>\n",
       "      <th>mean</th>\n",
       "      <th>median</th>\n",
       "    </tr>\n",
       "    <tr>\n",
       "      <th></th>\n",
       "      <th>box_office</th>\n",
       "      <th>box_office</th>\n",
       "      <th>box_office</th>\n",
       "      <th>box_office</th>\n",
       "    </tr>\n",
       "    <tr>\n",
       "      <th>age_restriction</th>\n",
       "      <th></th>\n",
       "      <th></th>\n",
       "      <th></th>\n",
       "      <th></th>\n",
       "    </tr>\n",
       "  </thead>\n",
       "  <tbody>\n",
       "    <tr>\n",
       "      <th>«6+» - для детей старше 6 лет</th>\n",
       "      <td>81</td>\n",
       "      <td>12852548618</td>\n",
       "      <td>158673439.73</td>\n",
       "      <td>12875350.00</td>\n",
       "    </tr>\n",
       "    <tr>\n",
       "      <th>«12+» - для детей старше 12 лет</th>\n",
       "      <td>85</td>\n",
       "      <td>7459146405</td>\n",
       "      <td>87754663.59</td>\n",
       "      <td>3402053.00</td>\n",
       "    </tr>\n",
       "    <tr>\n",
       "      <th>«18+» - запрещено для детей</th>\n",
       "      <td>183</td>\n",
       "      <td>10121796238</td>\n",
       "      <td>55310361.96</td>\n",
       "      <td>5603216.00</td>\n",
       "    </tr>\n",
       "    <tr>\n",
       "      <th>«16+» - для детей старше 16 лет</th>\n",
       "      <td>178</td>\n",
       "      <td>8029321503</td>\n",
       "      <td>45108547.77</td>\n",
       "      <td>3173685.50</td>\n",
       "    </tr>\n",
       "    <tr>\n",
       "      <th>«0+» - для любой зрительской аудитории</th>\n",
       "      <td>3</td>\n",
       "      <td>17746066</td>\n",
       "      <td>5915355.33</td>\n",
       "      <td>3885434.00</td>\n",
       "    </tr>\n",
       "  </tbody>\n",
       "</table>\n",
       "</div>"
      ],
      "text/plain": [
       "                                            count          sum         mean  \\\n",
       "                                       box_office   box_office   box_office   \n",
       "age_restriction                                                               \n",
       "«6+» - для детей старше 6 лет                  81  12852548618 158673439.73   \n",
       "«12+» - для детей старше 12 лет                85   7459146405  87754663.59   \n",
       "«18+» - запрещено для детей                   183  10121796238  55310361.96   \n",
       "«16+» - для детей старше 16 лет               178   8029321503  45108547.77   \n",
       "«0+» - для любой зрительской аудитории          3     17746066   5915355.33   \n",
       "\n",
       "                                            median  \n",
       "                                        box_office  \n",
       "age_restriction                                     \n",
       "«6+» - для детей старше 6 лет          12875350.00  \n",
       "«12+» - для детей старше 12 лет         3402053.00  \n",
       "«18+» - запрещено для детей             5603216.00  \n",
       "«16+» - для детей старше 16 лет         3173685.50  \n",
       "«0+» - для любой зрительской аудитории  3885434.00  "
      ]
     },
     "execution_count": 72,
     "metadata": {},
     "output_type": "execute_result"
    }
   ],
   "source": [
    "year_2019 = year_2015_2019[year_2015_2019['year'] == 2019]\n",
    "year_2019_final = year_2019.pivot_table(index = ['age_restriction'], values = 'box_office', aggfunc = ['count', 'sum', 'mean', 'median'])\\\n",
    "    .sort_values(by = ('mean', 'box_office'), ascending = False)\n",
    "year_2019_final"
   ]
  },
  {
   "cell_type": "markdown",
   "metadata": {},
   "source": [
    "**Для фильмов вышедших в прокат в 2019 году закономерности теже**\n",
    "\n",
    "* Фильмов с рейтингом «0+» значительно меньше чем фильмов любой другой категории (3), такая же ситуация с суммой сборов и сборами указанных фильмов в среднем.\n",
    "* Возрастное ограничение аудитории («6+», «12+», «16+», «18+» и т. д.) влияет на сборы фильма в прокате, чем ниже возрастной рейтинг, тем больше фильм соберет в прокате в среднем.\n",
    "* При этом фильмов с возрастным рейтингом «16+» и «18+» выходит в прокат значительно больше чем фильмов с возрастным рейтингом «6+» и «12+»."
   ]
  },
  {
   "cell_type": "code",
   "execution_count": 73,
   "metadata": {
    "scrolled": true
   },
   "outputs": [
    {
     "data": {
      "text/html": [
       "<div>\n",
       "<style scoped>\n",
       "    .dataframe tbody tr th:only-of-type {\n",
       "        vertical-align: middle;\n",
       "    }\n",
       "\n",
       "    .dataframe tbody tr th {\n",
       "        vertical-align: top;\n",
       "    }\n",
       "\n",
       "    .dataframe thead tr th {\n",
       "        text-align: left;\n",
       "    }\n",
       "\n",
       "    .dataframe thead tr:last-of-type th {\n",
       "        text-align: right;\n",
       "    }\n",
       "</style>\n",
       "<table border=\"1\" class=\"dataframe\">\n",
       "  <thead>\n",
       "    <tr>\n",
       "      <th></th>\n",
       "      <th>count</th>\n",
       "      <th>sum</th>\n",
       "      <th>mean</th>\n",
       "      <th>median</th>\n",
       "    </tr>\n",
       "    <tr>\n",
       "      <th></th>\n",
       "      <th>box_office</th>\n",
       "      <th>box_office</th>\n",
       "      <th>box_office</th>\n",
       "      <th>box_office</th>\n",
       "    </tr>\n",
       "    <tr>\n",
       "      <th>age_restriction</th>\n",
       "      <th></th>\n",
       "      <th></th>\n",
       "      <th></th>\n",
       "      <th></th>\n",
       "    </tr>\n",
       "  </thead>\n",
       "  <tbody>\n",
       "    <tr>\n",
       "      <th>«6+» - для детей старше 6 лет</th>\n",
       "      <td>68</td>\n",
       "      <td>10104974592</td>\n",
       "      <td>148602567.53</td>\n",
       "      <td>14688850</td>\n",
       "    </tr>\n",
       "    <tr>\n",
       "      <th>«12+» - для детей старше 12 лет</th>\n",
       "      <td>67</td>\n",
       "      <td>9848053984</td>\n",
       "      <td>146985880.36</td>\n",
       "      <td>8425367</td>\n",
       "    </tr>\n",
       "    <tr>\n",
       "      <th>«16+» - для детей старше 16 лет</th>\n",
       "      <td>156</td>\n",
       "      <td>16503602284</td>\n",
       "      <td>105792322.33</td>\n",
       "      <td>9010638</td>\n",
       "    </tr>\n",
       "    <tr>\n",
       "      <th>«18+» - запрещено для детей</th>\n",
       "      <td>179</td>\n",
       "      <td>8760085436</td>\n",
       "      <td>48939024.78</td>\n",
       "      <td>7179466</td>\n",
       "    </tr>\n",
       "    <tr>\n",
       "      <th>«0+» - для любой зрительской аудитории</th>\n",
       "      <td>5</td>\n",
       "      <td>32449001</td>\n",
       "      <td>6489800.20</td>\n",
       "      <td>3616937</td>\n",
       "    </tr>\n",
       "  </tbody>\n",
       "</table>\n",
       "</div>"
      ],
      "text/plain": [
       "                                            count          sum         mean  \\\n",
       "                                       box_office   box_office   box_office   \n",
       "age_restriction                                                               \n",
       "«6+» - для детей старше 6 лет                  68  10104974592 148602567.53   \n",
       "«12+» - для детей старше 12 лет                67   9848053984 146985880.36   \n",
       "«16+» - для детей старше 16 лет               156  16503602284 105792322.33   \n",
       "«18+» - запрещено для детей                   179   8760085436  48939024.78   \n",
       "«0+» - для любой зрительской аудитории          5     32449001   6489800.20   \n",
       "\n",
       "                                           median  \n",
       "                                       box_office  \n",
       "age_restriction                                    \n",
       "«6+» - для детей старше 6 лет            14688850  \n",
       "«12+» - для детей старше 12 лет           8425367  \n",
       "«16+» - для детей старше 16 лет           9010638  \n",
       "«18+» - запрещено для детей               7179466  \n",
       "«0+» - для любой зрительской аудитории    3616937  "
      ]
     },
     "execution_count": 73,
     "metadata": {},
     "output_type": "execute_result"
    }
   ],
   "source": [
    "year_2018 = year_2015_2019[year_2015_2019['year'] == 2018]\n",
    "year_2018_final = year_2018.pivot_table(index = ['age_restriction'], values = 'box_office', aggfunc = ['count', 'sum', 'mean', 'median'])\\\n",
    "    .sort_values(by = ('mean', 'box_office'), ascending = False)\n",
    "year_2018_final"
   ]
  },
  {
   "cell_type": "markdown",
   "metadata": {},
   "source": [
    "**Для фильмов вышедших в прокат в 2018 году закономерности практически те же**\n",
    "\n",
    "* Фильмов с рейтингом «0+» значительно меньше чем фильмов любой другой категории (5), такая же ситуация с суммой сборов и сборами указанных фильмов в среднем.\n",
    "* В 2018 году фильмы с возрастным рейтингом «12+» в среднем собирали в прокате больше чем фильмы с возрастным рейтингом «16+»\n",
    "* При этом фильмов с возрастным рейтингом «16+» и «18+» выходит в прокат значительно больше чем фильмов с возрастным рейтингом «6+» и «12+»."
   ]
  },
  {
   "cell_type": "code",
   "execution_count": 74,
   "metadata": {},
   "outputs": [
    {
     "data": {
      "text/html": [
       "<div>\n",
       "<style scoped>\n",
       "    .dataframe tbody tr th:only-of-type {\n",
       "        vertical-align: middle;\n",
       "    }\n",
       "\n",
       "    .dataframe tbody tr th {\n",
       "        vertical-align: top;\n",
       "    }\n",
       "\n",
       "    .dataframe thead tr th {\n",
       "        text-align: left;\n",
       "    }\n",
       "\n",
       "    .dataframe thead tr:last-of-type th {\n",
       "        text-align: right;\n",
       "    }\n",
       "</style>\n",
       "<table border=\"1\" class=\"dataframe\">\n",
       "  <thead>\n",
       "    <tr>\n",
       "      <th></th>\n",
       "      <th>count</th>\n",
       "      <th>sum</th>\n",
       "      <th>mean</th>\n",
       "      <th>median</th>\n",
       "    </tr>\n",
       "    <tr>\n",
       "      <th></th>\n",
       "      <th>box_office</th>\n",
       "      <th>box_office</th>\n",
       "      <th>box_office</th>\n",
       "      <th>box_office</th>\n",
       "    </tr>\n",
       "    <tr>\n",
       "      <th>age_restriction</th>\n",
       "      <th></th>\n",
       "      <th></th>\n",
       "      <th></th>\n",
       "      <th></th>\n",
       "    </tr>\n",
       "  </thead>\n",
       "  <tbody>\n",
       "    <tr>\n",
       "      <th>«12+» - для детей старше 12 лет</th>\n",
       "      <td>41</td>\n",
       "      <td>7851427659</td>\n",
       "      <td>191498235.59</td>\n",
       "      <td>9010548</td>\n",
       "    </tr>\n",
       "    <tr>\n",
       "      <th>«6+» - для детей старше 6 лет</th>\n",
       "      <td>45</td>\n",
       "      <td>7158972353</td>\n",
       "      <td>159088274.51</td>\n",
       "      <td>48557861</td>\n",
       "    </tr>\n",
       "    <tr>\n",
       "      <th>«16+» - для детей старше 16 лет</th>\n",
       "      <td>121</td>\n",
       "      <td>18745042899</td>\n",
       "      <td>154917709.91</td>\n",
       "      <td>9702077</td>\n",
       "    </tr>\n",
       "    <tr>\n",
       "      <th>«0+» - для любой зрительской аудитории</th>\n",
       "      <td>3</td>\n",
       "      <td>229598930</td>\n",
       "      <td>76532976.67</td>\n",
       "      <td>22178956</td>\n",
       "    </tr>\n",
       "    <tr>\n",
       "      <th>«18+» - запрещено для детей</th>\n",
       "      <td>147</td>\n",
       "      <td>9651495581</td>\n",
       "      <td>65656432.52</td>\n",
       "      <td>8212677</td>\n",
       "    </tr>\n",
       "  </tbody>\n",
       "</table>\n",
       "</div>"
      ],
      "text/plain": [
       "                                            count          sum         mean  \\\n",
       "                                       box_office   box_office   box_office   \n",
       "age_restriction                                                               \n",
       "«12+» - для детей старше 12 лет                41   7851427659 191498235.59   \n",
       "«6+» - для детей старше 6 лет                  45   7158972353 159088274.51   \n",
       "«16+» - для детей старше 16 лет               121  18745042899 154917709.91   \n",
       "«0+» - для любой зрительской аудитории          3    229598930  76532976.67   \n",
       "«18+» - запрещено для детей                   147   9651495581  65656432.52   \n",
       "\n",
       "                                           median  \n",
       "                                       box_office  \n",
       "age_restriction                                    \n",
       "«12+» - для детей старше 12 лет           9010548  \n",
       "«6+» - для детей старше 6 лет            48557861  \n",
       "«16+» - для детей старше 16 лет           9702077  \n",
       "«0+» - для любой зрительской аудитории   22178956  \n",
       "«18+» - запрещено для детей               8212677  "
      ]
     },
     "execution_count": 74,
     "metadata": {},
     "output_type": "execute_result"
    }
   ],
   "source": [
    "year_2017 = year_2015_2019[year_2015_2019['year'] == 2017]\n",
    "year_2017_final = year_2017.pivot_table(index = ['age_restriction'], values = 'box_office', aggfunc = ['count', 'sum', 'mean', 'median'])\\\n",
    "    .sort_values(by = ('mean', 'box_office'), ascending = False)\n",
    "year_2017_final"
   ]
  },
  {
   "cell_type": "markdown",
   "metadata": {},
   "source": [
    "**Для фильмов вышедших в прокат в 2017**\n",
    "\n",
    "* Фильмов с рейтингом «0+» значительно меньше чем фильмов любой другой категории (3), такаая же ситуация с суммой сборов, при этом фильмы с рейтингом «0+» в среднем собирали больше чем фильмы с рейтингом «18+».\n",
    "* Возрастное ограничение аудитории («6+», «12+», «16+», «18+» и т. д.) влияет на сборы фильма в прокате, чем ниже возрастной рейтинг, тем больше фильм соберет в прокате в среднем.\n",
    "* При этом фильмов с возрастным рейтингом «16+» и «18+» выходит в прокат значительно больше чем фильмов с возрастным рейтингом «6+» и «12+»."
   ]
  },
  {
   "cell_type": "code",
   "execution_count": 75,
   "metadata": {},
   "outputs": [
    {
     "data": {
      "text/html": [
       "<div>\n",
       "<style scoped>\n",
       "    .dataframe tbody tr th:only-of-type {\n",
       "        vertical-align: middle;\n",
       "    }\n",
       "\n",
       "    .dataframe tbody tr th {\n",
       "        vertical-align: top;\n",
       "    }\n",
       "\n",
       "    .dataframe thead tr th {\n",
       "        text-align: left;\n",
       "    }\n",
       "\n",
       "    .dataframe thead tr:last-of-type th {\n",
       "        text-align: right;\n",
       "    }\n",
       "</style>\n",
       "<table border=\"1\" class=\"dataframe\">\n",
       "  <thead>\n",
       "    <tr>\n",
       "      <th></th>\n",
       "      <th>count</th>\n",
       "      <th>sum</th>\n",
       "      <th>mean</th>\n",
       "      <th>median</th>\n",
       "    </tr>\n",
       "    <tr>\n",
       "      <th></th>\n",
       "      <th>box_office</th>\n",
       "      <th>box_office</th>\n",
       "      <th>box_office</th>\n",
       "      <th>box_office</th>\n",
       "    </tr>\n",
       "    <tr>\n",
       "      <th>age_restriction</th>\n",
       "      <th></th>\n",
       "      <th></th>\n",
       "      <th></th>\n",
       "      <th></th>\n",
       "    </tr>\n",
       "  </thead>\n",
       "  <tbody>\n",
       "    <tr>\n",
       "      <th>«6+» - для детей старше 6 лет</th>\n",
       "      <td>70</td>\n",
       "      <td>12053145991</td>\n",
       "      <td>172187799.87</td>\n",
       "      <td>3026256</td>\n",
       "    </tr>\n",
       "    <tr>\n",
       "      <th>«12+» - для детей старше 12 лет</th>\n",
       "      <td>82</td>\n",
       "      <td>12204446503</td>\n",
       "      <td>148834713.45</td>\n",
       "      <td>4690635</td>\n",
       "    </tr>\n",
       "    <tr>\n",
       "      <th>«16+» - для детей старше 16 лет</th>\n",
       "      <td>181</td>\n",
       "      <td>16664548492</td>\n",
       "      <td>92069328.69</td>\n",
       "      <td>5180850</td>\n",
       "    </tr>\n",
       "    <tr>\n",
       "      <th>«18+» - запрещено для детей</th>\n",
       "      <td>151</td>\n",
       "      <td>6793929771</td>\n",
       "      <td>44992912.39</td>\n",
       "      <td>6107001</td>\n",
       "    </tr>\n",
       "    <tr>\n",
       "      <th>«0+» - для любой зрительской аудитории</th>\n",
       "      <td>41</td>\n",
       "      <td>150228839</td>\n",
       "      <td>3664118.02</td>\n",
       "      <td>2571294</td>\n",
       "    </tr>\n",
       "  </tbody>\n",
       "</table>\n",
       "</div>"
      ],
      "text/plain": [
       "                                            count          sum         mean  \\\n",
       "                                       box_office   box_office   box_office   \n",
       "age_restriction                                                               \n",
       "«6+» - для детей старше 6 лет                  70  12053145991 172187799.87   \n",
       "«12+» - для детей старше 12 лет                82  12204446503 148834713.45   \n",
       "«16+» - для детей старше 16 лет               181  16664548492  92069328.69   \n",
       "«18+» - запрещено для детей                   151   6793929771  44992912.39   \n",
       "«0+» - для любой зрительской аудитории         41    150228839   3664118.02   \n",
       "\n",
       "                                           median  \n",
       "                                       box_office  \n",
       "age_restriction                                    \n",
       "«6+» - для детей старше 6 лет             3026256  \n",
       "«12+» - для детей старше 12 лет           4690635  \n",
       "«16+» - для детей старше 16 лет           5180850  \n",
       "«18+» - запрещено для детей               6107001  \n",
       "«0+» - для любой зрительской аудитории    2571294  "
      ]
     },
     "execution_count": 75,
     "metadata": {},
     "output_type": "execute_result"
    }
   ],
   "source": [
    "year_2016 = year_2015_2019[year_2015_2019['year'] == 2016]\n",
    "year_2016_final = year_2016.pivot_table(index = ['age_restriction'], values = 'box_office', aggfunc = ['count', 'sum', 'mean', 'median'])\\\n",
    "    .sort_values(by = ('mean', 'box_office'), ascending = False)\n",
    "year_2016_final"
   ]
  },
  {
   "cell_type": "markdown",
   "metadata": {},
   "source": [
    "**Для фильмов вышедших в прокат в 2016**\n",
    "\n",
    "* Фильмов с рейтингом «0+» значительно меньше чем фильмов любой другой категории (40), такая же ситуация с суммой сборов и сборами указанных фильмов в среднем.\n",
    "* Возрастное ограничение аудитории («6+», «12+», «16+», «18+» и т. д.) влияет на сборы фильма в прокате, чем ниже возрастной рейтинг, тем больше фильм соберет в прокате в среднем.\n",
    "* При этом фильмов с возрастным рейтингом «16+» и «18+» выходит в прокат значительно больше чем фильмов с возрастным рейтингом «6+» и «12+»."
   ]
  },
  {
   "cell_type": "code",
   "execution_count": 76,
   "metadata": {},
   "outputs": [
    {
     "data": {
      "text/html": [
       "<div>\n",
       "<style scoped>\n",
       "    .dataframe tbody tr th:only-of-type {\n",
       "        vertical-align: middle;\n",
       "    }\n",
       "\n",
       "    .dataframe tbody tr th {\n",
       "        vertical-align: top;\n",
       "    }\n",
       "\n",
       "    .dataframe thead tr th {\n",
       "        text-align: left;\n",
       "    }\n",
       "\n",
       "    .dataframe thead tr:last-of-type th {\n",
       "        text-align: right;\n",
       "    }\n",
       "</style>\n",
       "<table border=\"1\" class=\"dataframe\">\n",
       "  <thead>\n",
       "    <tr>\n",
       "      <th></th>\n",
       "      <th>count</th>\n",
       "      <th>sum</th>\n",
       "      <th>mean</th>\n",
       "      <th>median</th>\n",
       "    </tr>\n",
       "    <tr>\n",
       "      <th></th>\n",
       "      <th>box_office</th>\n",
       "      <th>box_office</th>\n",
       "      <th>box_office</th>\n",
       "      <th>box_office</th>\n",
       "    </tr>\n",
       "    <tr>\n",
       "      <th>age_restriction</th>\n",
       "      <th></th>\n",
       "      <th></th>\n",
       "      <th></th>\n",
       "      <th></th>\n",
       "    </tr>\n",
       "  </thead>\n",
       "  <tbody>\n",
       "    <tr>\n",
       "      <th>«12+» - для детей старше 12 лет</th>\n",
       "      <td>72</td>\n",
       "      <td>13616081989</td>\n",
       "      <td>189112249.85</td>\n",
       "      <td>15959668.00</td>\n",
       "    </tr>\n",
       "    <tr>\n",
       "      <th>«6+» - для детей старше 6 лет</th>\n",
       "      <td>53</td>\n",
       "      <td>8701799354</td>\n",
       "      <td>164184893.47</td>\n",
       "      <td>20380982.00</td>\n",
       "    </tr>\n",
       "    <tr>\n",
       "      <th>«16+» - для детей старше 16 лет</th>\n",
       "      <td>167</td>\n",
       "      <td>11368120823</td>\n",
       "      <td>68072579.78</td>\n",
       "      <td>4784781.00</td>\n",
       "    </tr>\n",
       "    <tr>\n",
       "      <th>«18+» - запрещено для детей</th>\n",
       "      <td>132</td>\n",
       "      <td>5432308329</td>\n",
       "      <td>41153850.98</td>\n",
       "      <td>4616614.50</td>\n",
       "    </tr>\n",
       "    <tr>\n",
       "      <th>«0+» - для любой зрительской аудитории</th>\n",
       "      <td>38</td>\n",
       "      <td>379054567</td>\n",
       "      <td>9975120.18</td>\n",
       "      <td>2949808.00</td>\n",
       "    </tr>\n",
       "  </tbody>\n",
       "</table>\n",
       "</div>"
      ],
      "text/plain": [
       "                                            count          sum         mean  \\\n",
       "                                       box_office   box_office   box_office   \n",
       "age_restriction                                                               \n",
       "«12+» - для детей старше 12 лет                72  13616081989 189112249.85   \n",
       "«6+» - для детей старше 6 лет                  53   8701799354 164184893.47   \n",
       "«16+» - для детей старше 16 лет               167  11368120823  68072579.78   \n",
       "«18+» - запрещено для детей                   132   5432308329  41153850.98   \n",
       "«0+» - для любой зрительской аудитории         38    379054567   9975120.18   \n",
       "\n",
       "                                            median  \n",
       "                                        box_office  \n",
       "age_restriction                                     \n",
       "«12+» - для детей старше 12 лет        15959668.00  \n",
       "«6+» - для детей старше 6 лет          20380982.00  \n",
       "«16+» - для детей старше 16 лет         4784781.00  \n",
       "«18+» - запрещено для детей             4616614.50  \n",
       "«0+» - для любой зрительской аудитории  2949808.00  "
      ]
     },
     "execution_count": 76,
     "metadata": {},
     "output_type": "execute_result"
    }
   ],
   "source": [
    "year_2015 = year_2015_2019[year_2015_2019['year'] == 2015]\n",
    "year_2015_final = year_2015.pivot_table(index = ['age_restriction'], values = 'box_office', aggfunc = ['count', 'sum', 'mean', 'median'])\\\n",
    "    .sort_values(by = ('mean', 'box_office'), ascending = False)\n",
    "year_2015_final"
   ]
  },
  {
   "cell_type": "markdown",
   "metadata": {},
   "source": [
    "**Для фильмов вышедших в прокат в 2015**\n",
    "\n",
    "* Фильмов с рейтингом «0+» значительно меньше чем фильмов любой другой категории (35), такая же ситуация с суммой сборов и сборами указанных фильмов в среднем.\n",
    "* Возрастное ограничение аудитории («6+», «12+», «16+», «18+» и т. д.) влияет на сборы фильма в прокате, чем ниже возрастной рейтинг, тем больше фильм соберет в прокате в среднем.\n",
    "* При этом фильмов с возрастным рейтингом «16+» и «18+» выходит в прокат значительно больше чем фильмов с возрастным рейтингом «6+» и «12+»."
   ]
  },
  {
   "cell_type": "markdown",
   "metadata": {},
   "source": [
    "* Картина в зависимости от года не меняется, закономерности теже самые.\n",
    "\n",
    "**Исключения**\n",
    "* 2017 год - Фильмов с рейтингом «0+» в среднем собирали в прокате больше чем фильмы с рейтингом «18+».\n",
    "* 2015, 2016 год - Фильмов с рейтингом «0+» вышло 35 и 40 (практически столько же сколько фильмов с рейтингом «6+» (49, 68)\n"
   ]
  },
  {
   "cell_type": "markdown",
   "metadata": {},
   "source": [
    "### Определяем самые популярные жанры."
   ]
  },
  {
   "cell_type": "code",
   "execution_count": 77,
   "metadata": {
    "scrolled": true
   },
   "outputs": [
    {
     "data": {
      "text/html": [
       "<div>\n",
       "<style scoped>\n",
       "    .dataframe tbody tr th:only-of-type {\n",
       "        vertical-align: middle;\n",
       "    }\n",
       "\n",
       "    .dataframe tbody tr th {\n",
       "        vertical-align: top;\n",
       "    }\n",
       "\n",
       "    .dataframe thead tr th {\n",
       "        text-align: left;\n",
       "    }\n",
       "\n",
       "    .dataframe thead tr:last-of-type th {\n",
       "        text-align: right;\n",
       "    }\n",
       "</style>\n",
       "<table border=\"1\" class=\"dataframe\">\n",
       "  <thead>\n",
       "    <tr>\n",
       "      <th></th>\n",
       "      <th>count</th>\n",
       "      <th>sum</th>\n",
       "      <th>mean</th>\n",
       "    </tr>\n",
       "    <tr>\n",
       "      <th></th>\n",
       "      <th>box_office</th>\n",
       "      <th>box_office</th>\n",
       "      <th>box_office</th>\n",
       "    </tr>\n",
       "    <tr>\n",
       "      <th>general_genre</th>\n",
       "      <th></th>\n",
       "      <th></th>\n",
       "      <th></th>\n",
       "    </tr>\n",
       "  </thead>\n",
       "  <tbody>\n",
       "    <tr>\n",
       "      <th>драма</th>\n",
       "      <td>684</td>\n",
       "      <td>14710631933</td>\n",
       "      <td>21506771.83</td>\n",
       "    </tr>\n",
       "    <tr>\n",
       "      <th>комедия</th>\n",
       "      <td>370</td>\n",
       "      <td>19255390935</td>\n",
       "      <td>52041597.12</td>\n",
       "    </tr>\n",
       "    <tr>\n",
       "      <th>мультфильм</th>\n",
       "      <td>339</td>\n",
       "      <td>36959939244</td>\n",
       "      <td>109026369.45</td>\n",
       "    </tr>\n",
       "    <tr>\n",
       "      <th>ужасы</th>\n",
       "      <td>267</td>\n",
       "      <td>16624149847</td>\n",
       "      <td>62262733.51</td>\n",
       "    </tr>\n",
       "    <tr>\n",
       "      <th>unknown</th>\n",
       "      <td>245</td>\n",
       "      <td>8977870525</td>\n",
       "      <td>36644369.49</td>\n",
       "    </tr>\n",
       "    <tr>\n",
       "      <th>боевик</th>\n",
       "      <td>235</td>\n",
       "      <td>27598666276</td>\n",
       "      <td>117441133.09</td>\n",
       "    </tr>\n",
       "    <tr>\n",
       "      <th>триллер</th>\n",
       "      <td>217</td>\n",
       "      <td>7697874989</td>\n",
       "      <td>35474078.29</td>\n",
       "    </tr>\n",
       "    <tr>\n",
       "      <th>фантастика</th>\n",
       "      <td>175</td>\n",
       "      <td>46262334343</td>\n",
       "      <td>264356196.25</td>\n",
       "    </tr>\n",
       "    <tr>\n",
       "      <th>фэнтези</th>\n",
       "      <td>144</td>\n",
       "      <td>26508737351</td>\n",
       "      <td>184088453.83</td>\n",
       "    </tr>\n",
       "    <tr>\n",
       "      <th>мелодрама</th>\n",
       "      <td>115</td>\n",
       "      <td>2325006752</td>\n",
       "      <td>20217450.02</td>\n",
       "    </tr>\n",
       "    <tr>\n",
       "      <th>документальный</th>\n",
       "      <td>99</td>\n",
       "      <td>232753297</td>\n",
       "      <td>2351043.40</td>\n",
       "    </tr>\n",
       "    <tr>\n",
       "      <th>приключения</th>\n",
       "      <td>35</td>\n",
       "      <td>2305355574</td>\n",
       "      <td>65867302.11</td>\n",
       "    </tr>\n",
       "    <tr>\n",
       "      <th>аниме</th>\n",
       "      <td>32</td>\n",
       "      <td>1404207708</td>\n",
       "      <td>43881490.88</td>\n",
       "    </tr>\n",
       "    <tr>\n",
       "      <th>военный</th>\n",
       "      <td>22</td>\n",
       "      <td>1659976901</td>\n",
       "      <td>75453495.50</td>\n",
       "    </tr>\n",
       "    <tr>\n",
       "      <th>детектив</th>\n",
       "      <td>21</td>\n",
       "      <td>2453839705</td>\n",
       "      <td>116849509.76</td>\n",
       "    </tr>\n",
       "    <tr>\n",
       "      <th>биография</th>\n",
       "      <td>20</td>\n",
       "      <td>1902118753</td>\n",
       "      <td>95105937.65</td>\n",
       "    </tr>\n",
       "    <tr>\n",
       "      <th>детский</th>\n",
       "      <td>20</td>\n",
       "      <td>4338643</td>\n",
       "      <td>216932.15</td>\n",
       "    </tr>\n",
       "    <tr>\n",
       "      <th>мюзикл</th>\n",
       "      <td>19</td>\n",
       "      <td>2118538396</td>\n",
       "      <td>111502020.84</td>\n",
       "    </tr>\n",
       "    <tr>\n",
       "      <th>история</th>\n",
       "      <td>19</td>\n",
       "      <td>2819045446</td>\n",
       "      <td>148370812.95</td>\n",
       "    </tr>\n",
       "    <tr>\n",
       "      <th>криминал</th>\n",
       "      <td>18</td>\n",
       "      <td>464617622</td>\n",
       "      <td>25812090.11</td>\n",
       "    </tr>\n",
       "    <tr>\n",
       "      <th>семейный</th>\n",
       "      <td>18</td>\n",
       "      <td>1261917598</td>\n",
       "      <td>70106533.22</td>\n",
       "    </tr>\n",
       "    <tr>\n",
       "      <th>спорт</th>\n",
       "      <td>6</td>\n",
       "      <td>-1804981077</td>\n",
       "      <td>-300830179.50</td>\n",
       "    </tr>\n",
       "    <tr>\n",
       "      <th>вестерн</th>\n",
       "      <td>5</td>\n",
       "      <td>401760822</td>\n",
       "      <td>80352164.40</td>\n",
       "    </tr>\n",
       "    <tr>\n",
       "      <th>музыка</th>\n",
       "      <td>3</td>\n",
       "      <td>49974590</td>\n",
       "      <td>16658196.67</td>\n",
       "    </tr>\n",
       "    <tr>\n",
       "      <th>концерт</th>\n",
       "      <td>2</td>\n",
       "      <td>527796</td>\n",
       "      <td>263898.00</td>\n",
       "    </tr>\n",
       "    <tr>\n",
       "      <th>для взрослых</th>\n",
       "      <td>1</td>\n",
       "      <td>774210</td>\n",
       "      <td>774210.00</td>\n",
       "    </tr>\n",
       "    <tr>\n",
       "      <th>реальное ТВ</th>\n",
       "      <td>1</td>\n",
       "      <td>32721103</td>\n",
       "      <td>32721103.00</td>\n",
       "    </tr>\n",
       "    <tr>\n",
       "      <th>фильм-нуар</th>\n",
       "      <td>1</td>\n",
       "      <td>1700</td>\n",
       "      <td>1700.00</td>\n",
       "    </tr>\n",
       "    <tr>\n",
       "      <th>короткометражка</th>\n",
       "      <td>1</td>\n",
       "      <td>73610</td>\n",
       "      <td>73610.00</td>\n",
       "    </tr>\n",
       "  </tbody>\n",
       "</table>\n",
       "</div>"
      ],
      "text/plain": [
       "                     count          sum          mean\n",
       "                box_office   box_office    box_office\n",
       "general_genre                                        \n",
       "драма                  684  14710631933   21506771.83\n",
       "комедия                370  19255390935   52041597.12\n",
       "мультфильм             339  36959939244  109026369.45\n",
       "ужасы                  267  16624149847   62262733.51\n",
       "unknown                245   8977870525   36644369.49\n",
       "боевик                 235  27598666276  117441133.09\n",
       "триллер                217   7697874989   35474078.29\n",
       "фантастика             175  46262334343  264356196.25\n",
       "фэнтези                144  26508737351  184088453.83\n",
       "мелодрама              115   2325006752   20217450.02\n",
       "документальный          99    232753297    2351043.40\n",
       "приключения             35   2305355574   65867302.11\n",
       "аниме                   32   1404207708   43881490.88\n",
       "военный                 22   1659976901   75453495.50\n",
       "детектив                21   2453839705  116849509.76\n",
       "биография               20   1902118753   95105937.65\n",
       "детский                 20      4338643     216932.15\n",
       "мюзикл                  19   2118538396  111502020.84\n",
       "история                 19   2819045446  148370812.95\n",
       "криминал                18    464617622   25812090.11\n",
       "семейный                18   1261917598   70106533.22\n",
       "спорт                    6  -1804981077 -300830179.50\n",
       "вестерн                  5    401760822   80352164.40\n",
       "музыка                   3     49974590   16658196.67\n",
       "концерт                  2       527796     263898.00\n",
       "для взрослых             1       774210     774210.00\n",
       "реальное ТВ              1     32721103   32721103.00\n",
       "фильм-нуар               1         1700       1700.00\n",
       "короткометражка          1        73610      73610.00"
      ]
     },
     "execution_count": 77,
     "metadata": {},
     "output_type": "execute_result"
    }
   ],
   "source": [
    "box_office_dont_nool.pivot_table(index = ['general_genre'], values = 'box_office', aggfunc = ['count', 'sum', 'mean'])\\\n",
    "    .sort_values(by = ('count', 'box_office'), ascending = False)"
   ]
  },
  {
   "cell_type": "markdown",
   "metadata": {},
   "source": [
    "* Самый популярные жанры - драма (684 фильма), комедия (370 фильмов), мультфильм (339 фильмов)\n",
    "* Самые непопулярные жанры - для взрослых,\tреальное ТВ,\tфильм-нуар, короткометражка (по 1 фильму)"
   ]
  },
  {
   "cell_type": "markdown",
   "metadata": {
    "id": "l_Kg6Ku4gFya"
   },
   "source": [
    "## Исследование фильмов, которые получили государственную поддержку\n",
    "\n",
    "На этом этапе нет конкретных инструкций и заданий — поищите интересные закономерности в данных. Посмотрите, сколько выделяют средств на поддержку кино. Проверьте, хорошо ли окупаются такие фильмы, какой у них рейтинг."
   ]
  },
  {
   "cell_type": "code",
   "execution_count": 78,
   "metadata": {
    "scrolled": true
   },
   "outputs": [
    {
     "data": {
      "text/html": [
       "<div>\n",
       "<style scoped>\n",
       "    .dataframe tbody tr th:only-of-type {\n",
       "        vertical-align: middle;\n",
       "    }\n",
       "\n",
       "    .dataframe tbody tr th {\n",
       "        vertical-align: top;\n",
       "    }\n",
       "\n",
       "    .dataframe thead th {\n",
       "        text-align: right;\n",
       "    }\n",
       "</style>\n",
       "<table border=\"1\" class=\"dataframe\">\n",
       "  <thead>\n",
       "    <tr style=\"text-align: right;\">\n",
       "      <th></th>\n",
       "      <th>title</th>\n",
       "      <th>puNumber</th>\n",
       "      <th>show_start_date</th>\n",
       "      <th>type</th>\n",
       "      <th>film_studio</th>\n",
       "      <th>production_country</th>\n",
       "      <th>director</th>\n",
       "      <th>producer</th>\n",
       "      <th>age_restriction</th>\n",
       "      <th>refundable_support</th>\n",
       "      <th>nonrefundable_support</th>\n",
       "      <th>budget</th>\n",
       "      <th>financing_source</th>\n",
       "      <th>ratings</th>\n",
       "      <th>genres</th>\n",
       "      <th>box_office</th>\n",
       "      <th>year</th>\n",
       "      <th>general_director</th>\n",
       "      <th>general_genre</th>\n",
       "      <th>procent_support</th>\n",
       "    </tr>\n",
       "  </thead>\n",
       "  <tbody>\n",
       "    <tr>\n",
       "      <th>0</th>\n",
       "      <td>Пока еще жива</td>\n",
       "      <td>111005313</td>\n",
       "      <td>2013-10-11 12:00:00+00:00</td>\n",
       "      <td>Художественный</td>\n",
       "      <td>АНО содействия развитию кинематографии \"Ангел-...</td>\n",
       "      <td>Россия</td>\n",
       "      <td>А.Атанесян</td>\n",
       "      <td>А.Атанесян, М.Бабаханов, Р.Бутко</td>\n",
       "      <td>«16+» - для детей старше 16 лет</td>\n",
       "      <td>0</td>\n",
       "      <td>26500000</td>\n",
       "      <td>79411900</td>\n",
       "      <td>Министерство культуры</td>\n",
       "      <td>8.10</td>\n",
       "      <td>драма,мелодрама</td>\n",
       "      <td>365353</td>\n",
       "      <td>2013</td>\n",
       "      <td>А.Атанесян</td>\n",
       "      <td>драма</td>\n",
       "      <td>33.40</td>\n",
       "    </tr>\n",
       "    <tr>\n",
       "      <th>1</th>\n",
       "      <td>Бесславные придурки</td>\n",
       "      <td>111003314</td>\n",
       "      <td>2014-03-28 12:00:00+00:00</td>\n",
       "      <td>Художественный</td>\n",
       "      <td>ООО \"Компания \"АТК-Студио\"</td>\n",
       "      <td>Россия</td>\n",
       "      <td>А.Якимчук</td>\n",
       "      <td>А.Тютрюмов</td>\n",
       "      <td>«12+» - для детей старше 12 лет</td>\n",
       "      <td>0</td>\n",
       "      <td>26000000</td>\n",
       "      <td>37142857</td>\n",
       "      <td>Министерство культуры</td>\n",
       "      <td>0.00</td>\n",
       "      <td>unknown</td>\n",
       "      <td>28140</td>\n",
       "      <td>2014</td>\n",
       "      <td>А.Якимчук</td>\n",
       "      <td>unknown</td>\n",
       "      <td>70.00</td>\n",
       "    </tr>\n",
       "    <tr>\n",
       "      <th>2</th>\n",
       "      <td>Невидимки</td>\n",
       "      <td>111004213</td>\n",
       "      <td>2013-09-10 12:00:00+00:00</td>\n",
       "      <td>Художественный</td>\n",
       "      <td>ООО \"Компания \"РЕАЛ-ДАКОТА\"</td>\n",
       "      <td>Россия</td>\n",
       "      <td>Р.Давлетьяров, С.Комаров</td>\n",
       "      <td>Р.Давлетьяров, А.Котелевский, А.Олейников</td>\n",
       "      <td>«12+» - для детей старше 12 лет</td>\n",
       "      <td>0</td>\n",
       "      <td>107847945</td>\n",
       "      <td>176023490</td>\n",
       "      <td>Фонд кино</td>\n",
       "      <td>5.30</td>\n",
       "      <td>комедия,фантастика</td>\n",
       "      <td>19957031</td>\n",
       "      <td>2013</td>\n",
       "      <td>Р.Давлетьяров</td>\n",
       "      <td>комедия</td>\n",
       "      <td>61.30</td>\n",
       "    </tr>\n",
       "    <tr>\n",
       "      <th>3</th>\n",
       "      <td>БЕРЦЫ</td>\n",
       "      <td>111004314</td>\n",
       "      <td>2014-05-05 12:00:00+00:00</td>\n",
       "      <td>Художественный</td>\n",
       "      <td>ООО \"Студия \"Пассажир\"</td>\n",
       "      <td>Россия</td>\n",
       "      <td>Е.Миндадзе (псевдоним Катя Шагалова)</td>\n",
       "      <td>Л.Антонова</td>\n",
       "      <td>«16+» - для детей старше 16 лет</td>\n",
       "      <td>0</td>\n",
       "      <td>28000000</td>\n",
       "      <td>40574140</td>\n",
       "      <td>Министерство культуры</td>\n",
       "      <td>4.20</td>\n",
       "      <td>драма</td>\n",
       "      <td>55917</td>\n",
       "      <td>2014</td>\n",
       "      <td>Е.Миндадзе (псевдоним Катя Шагалова)</td>\n",
       "      <td>драма</td>\n",
       "      <td>69.00</td>\n",
       "    </tr>\n",
       "    <tr>\n",
       "      <th>4</th>\n",
       "      <td>Братья Ч</td>\n",
       "      <td>111004414</td>\n",
       "      <td>2014-04-23 12:00:00+00:00</td>\n",
       "      <td>Художественный</td>\n",
       "      <td>ООО \"Студия \"Пассажир\"</td>\n",
       "      <td>Россия</td>\n",
       "      <td>М.Угаров</td>\n",
       "      <td>А.Миндадзе, Л.Антонова</td>\n",
       "      <td>«16+» - для детей старше 16 лет</td>\n",
       "      <td>0</td>\n",
       "      <td>25000000</td>\n",
       "      <td>40015122</td>\n",
       "      <td>Министерство культуры</td>\n",
       "      <td>6.40</td>\n",
       "      <td>драма</td>\n",
       "      <td>232100</td>\n",
       "      <td>2014</td>\n",
       "      <td>М.Угаров</td>\n",
       "      <td>драма</td>\n",
       "      <td>62.50</td>\n",
       "    </tr>\n",
       "  </tbody>\n",
       "</table>\n",
       "</div>"
      ],
      "text/plain": [
       "                 title   puNumber           show_start_date            type  \\\n",
       "0        Пока еще жива  111005313 2013-10-11 12:00:00+00:00  Художественный   \n",
       "1  Бесславные придурки  111003314 2014-03-28 12:00:00+00:00  Художественный   \n",
       "2            Невидимки  111004213 2013-09-10 12:00:00+00:00  Художественный   \n",
       "3                БЕРЦЫ  111004314 2014-05-05 12:00:00+00:00  Художественный   \n",
       "4             Братья Ч  111004414 2014-04-23 12:00:00+00:00  Художественный   \n",
       "\n",
       "                                         film_studio production_country  \\\n",
       "0  АНО содействия развитию кинематографии \"Ангел-...             Россия   \n",
       "1                         ООО \"Компания \"АТК-Студио\"             Россия   \n",
       "2                        ООО \"Компания \"РЕАЛ-ДАКОТА\"             Россия   \n",
       "3                             ООО \"Студия \"Пассажир\"             Россия   \n",
       "4                             ООО \"Студия \"Пассажир\"             Россия   \n",
       "\n",
       "                               director  \\\n",
       "0                            А.Атанесян   \n",
       "1                             А.Якимчук   \n",
       "2              Р.Давлетьяров, С.Комаров   \n",
       "3  Е.Миндадзе (псевдоним Катя Шагалова)   \n",
       "4                              М.Угаров   \n",
       "\n",
       "                                    producer                  age_restriction  \\\n",
       "0           А.Атанесян, М.Бабаханов, Р.Бутко  «16+» - для детей старше 16 лет   \n",
       "1                                 А.Тютрюмов  «12+» - для детей старше 12 лет   \n",
       "2  Р.Давлетьяров, А.Котелевский, А.Олейников  «12+» - для детей старше 12 лет   \n",
       "3                                 Л.Антонова  «16+» - для детей старше 16 лет   \n",
       "4                     А.Миндадзе, Л.Антонова  «16+» - для детей старше 16 лет   \n",
       "\n",
       "   refundable_support  nonrefundable_support     budget  \\\n",
       "0                   0               26500000   79411900   \n",
       "1                   0               26000000   37142857   \n",
       "2                   0              107847945  176023490   \n",
       "3                   0               28000000   40574140   \n",
       "4                   0               25000000   40015122   \n",
       "\n",
       "        financing_source  ratings              genres  box_office  year  \\\n",
       "0  Министерство культуры     8.10     драма,мелодрама      365353  2013   \n",
       "1  Министерство культуры     0.00             unknown       28140  2014   \n",
       "2              Фонд кино     5.30  комедия,фантастика    19957031  2013   \n",
       "3  Министерство культуры     4.20               драма       55917  2014   \n",
       "4  Министерство культуры     6.40               драма      232100  2014   \n",
       "\n",
       "                       general_director general_genre  procent_support  \n",
       "0                            А.Атанесян         драма            33.40  \n",
       "1                             А.Якимчук       unknown            70.00  \n",
       "2                         Р.Давлетьяров       комедия            61.30  \n",
       "3  Е.Миндадзе (псевдоним Катя Шагалова)         драма            69.00  \n",
       "4                              М.Угаров         драма            62.50  "
      ]
     },
     "execution_count": 78,
     "metadata": {},
     "output_type": "execute_result"
    }
   ],
   "source": [
    "film_with_support = df.query('refundable_support != 0 or nonrefundable_support != 0')\n",
    "film_with_support = film_with_support.query('budget != 0') \n",
    "film_with_support.reset_index(drop=True, inplace=True)\n",
    "film_with_support.head()"
   ]
  },
  {
   "cell_type": "markdown",
   "metadata": {},
   "source": [
    "### Cмотрим, сколько выделяют средств на поддержку кино. Проверяем, хорошо ли окупаются такие фильмы и какой у них рейтинг."
   ]
  },
  {
   "cell_type": "code",
   "execution_count": 79,
   "metadata": {},
   "outputs": [
    {
     "data": {
      "text/html": [
       "<div>\n",
       "<style scoped>\n",
       "    .dataframe tbody tr th:only-of-type {\n",
       "        vertical-align: middle;\n",
       "    }\n",
       "\n",
       "    .dataframe tbody tr th {\n",
       "        vertical-align: top;\n",
       "    }\n",
       "\n",
       "    .dataframe thead tr th {\n",
       "        text-align: left;\n",
       "    }\n",
       "\n",
       "    .dataframe thead tr:last-of-type th {\n",
       "        text-align: right;\n",
       "    }\n",
       "</style>\n",
       "<table border=\"1\" class=\"dataframe\">\n",
       "  <thead>\n",
       "    <tr>\n",
       "      <th></th>\n",
       "      <th colspan=\"2\" halign=\"left\">count</th>\n",
       "      <th colspan=\"2\" halign=\"left\">sum</th>\n",
       "    </tr>\n",
       "    <tr>\n",
       "      <th></th>\n",
       "      <th>nonrefundable_support</th>\n",
       "      <th>refundable_support</th>\n",
       "      <th>nonrefundable_support</th>\n",
       "      <th>refundable_support</th>\n",
       "    </tr>\n",
       "    <tr>\n",
       "      <th>year</th>\n",
       "      <th></th>\n",
       "      <th></th>\n",
       "      <th></th>\n",
       "      <th></th>\n",
       "    </tr>\n",
       "  </thead>\n",
       "  <tbody>\n",
       "    <tr>\n",
       "      <th>2019</th>\n",
       "      <td>69</td>\n",
       "      <td>69</td>\n",
       "      <td>3856000000</td>\n",
       "      <td>868000000</td>\n",
       "    </tr>\n",
       "    <tr>\n",
       "      <th>2018</th>\n",
       "      <td>52</td>\n",
       "      <td>52</td>\n",
       "      <td>2506000000</td>\n",
       "      <td>592000000</td>\n",
       "    </tr>\n",
       "    <tr>\n",
       "      <th>2017</th>\n",
       "      <td>39</td>\n",
       "      <td>39</td>\n",
       "      <td>2424624781</td>\n",
       "      <td>674346881</td>\n",
       "    </tr>\n",
       "    <tr>\n",
       "      <th>2016</th>\n",
       "      <td>58</td>\n",
       "      <td>58</td>\n",
       "      <td>3074655482</td>\n",
       "      <td>902500000</td>\n",
       "    </tr>\n",
       "    <tr>\n",
       "      <th>2015</th>\n",
       "      <td>80</td>\n",
       "      <td>80</td>\n",
       "      <td>2680088340</td>\n",
       "      <td>547153119</td>\n",
       "    </tr>\n",
       "    <tr>\n",
       "      <th>2014</th>\n",
       "      <td>15</td>\n",
       "      <td>15</td>\n",
       "      <td>478002299</td>\n",
       "      <td>71000000</td>\n",
       "    </tr>\n",
       "    <tr>\n",
       "      <th>2013</th>\n",
       "      <td>2</td>\n",
       "      <td>2</td>\n",
       "      <td>134347945</td>\n",
       "      <td>0</td>\n",
       "    </tr>\n",
       "  </tbody>\n",
       "</table>\n",
       "</div>"
      ],
      "text/plain": [
       "                     count                                      sum  \\\n",
       "     nonrefundable_support refundable_support nonrefundable_support   \n",
       "year                                                                  \n",
       "2019                    69                 69            3856000000   \n",
       "2018                    52                 52            2506000000   \n",
       "2017                    39                 39            2424624781   \n",
       "2016                    58                 58            3074655482   \n",
       "2015                    80                 80            2680088340   \n",
       "2014                    15                 15             478002299   \n",
       "2013                     2                  2             134347945   \n",
       "\n",
       "                         \n",
       "     refundable_support  \n",
       "year                     \n",
       "2019          868000000  \n",
       "2018          592000000  \n",
       "2017          674346881  \n",
       "2016          902500000  \n",
       "2015          547153119  \n",
       "2014           71000000  \n",
       "2013                  0  "
      ]
     },
     "execution_count": 79,
     "metadata": {},
     "output_type": "execute_result"
    }
   ],
   "source": [
    "sup_df = film_with_support.pivot_table(index = ['year'], values = ['refundable_support', 'nonrefundable_support'], aggfunc = ['count', 'sum'])\\\n",
    "    .sort_values(by = ('year'), ascending = False)\n",
    "sup_df"
   ]
  },
  {
   "cell_type": "code",
   "execution_count": 80,
   "metadata": {},
   "outputs": [
    {
     "data": {
      "text/plain": [
       "18808718847"
      ]
     },
     "execution_count": 80,
     "metadata": {},
     "output_type": "execute_result"
    }
   ],
   "source": [
    "sup_df['sum', 'nonrefundable_support'].sum() + sup_df['sum', 'refundable_support'].sum()"
   ]
  },
  {
   "cell_type": "markdown",
   "metadata": {},
   "source": [
    "* Общая сумма средств направленная на поддержку кино - 18 808 718 847 руб.\n",
    "* Объем средств направляемых на поддержку кино рос с 2013 - 2016, в 2017 произошло резкое падение объема средств направляемых на поддержку кино. С 2017 объем средств направляемых на поддержку кино снова растет. "
   ]
  },
  {
   "cell_type": "code",
   "execution_count": 81,
   "metadata": {
    "scrolled": true
   },
   "outputs": [
    {
     "data": {
      "text/html": [
       "<div>\n",
       "<style scoped>\n",
       "    .dataframe tbody tr th:only-of-type {\n",
       "        vertical-align: middle;\n",
       "    }\n",
       "\n",
       "    .dataframe tbody tr th {\n",
       "        vertical-align: top;\n",
       "    }\n",
       "\n",
       "    .dataframe thead tr th {\n",
       "        text-align: left;\n",
       "    }\n",
       "\n",
       "    .dataframe thead tr:last-of-type th {\n",
       "        text-align: right;\n",
       "    }\n",
       "</style>\n",
       "<table border=\"1\" class=\"dataframe\">\n",
       "  <thead>\n",
       "    <tr>\n",
       "      <th></th>\n",
       "      <th colspan=\"3\" halign=\"left\">mean</th>\n",
       "      <th>s_s\b_o</th>\n",
       "    </tr>\n",
       "    <tr>\n",
       "      <th></th>\n",
       "      <th>box_office</th>\n",
       "      <th>budget</th>\n",
       "      <th>sum_support</th>\n",
       "      <th></th>\n",
       "    </tr>\n",
       "    <tr>\n",
       "      <th>year</th>\n",
       "      <th></th>\n",
       "      <th></th>\n",
       "      <th></th>\n",
       "      <th></th>\n",
       "    </tr>\n",
       "  </thead>\n",
       "  <tbody>\n",
       "    <tr>\n",
       "      <th>2019</th>\n",
       "      <td>44072003.84</td>\n",
       "      <td>117250850.12</td>\n",
       "      <td>68463768.12</td>\n",
       "      <td>2.66</td>\n",
       "    </tr>\n",
       "    <tr>\n",
       "      <th>2018</th>\n",
       "      <td>98046530.90</td>\n",
       "      <td>127917204.50</td>\n",
       "      <td>59576923.08</td>\n",
       "      <td>1.30</td>\n",
       "    </tr>\n",
       "    <tr>\n",
       "      <th>2017</th>\n",
       "      <td>149547321.67</td>\n",
       "      <td>178773655.59</td>\n",
       "      <td>79460811.85</td>\n",
       "      <td>1.20</td>\n",
       "    </tr>\n",
       "    <tr>\n",
       "      <th>2016</th>\n",
       "      <td>85478006.03</td>\n",
       "      <td>124636943.93</td>\n",
       "      <td>68571646.24</td>\n",
       "      <td>1.46</td>\n",
       "    </tr>\n",
       "    <tr>\n",
       "      <th>2015</th>\n",
       "      <td>60196842.52</td>\n",
       "      <td>91370865.09</td>\n",
       "      <td>40340518.24</td>\n",
       "      <td>1.52</td>\n",
       "    </tr>\n",
       "    <tr>\n",
       "      <th>2014</th>\n",
       "      <td>67145876.47</td>\n",
       "      <td>85298985.53</td>\n",
       "      <td>36600153.27</td>\n",
       "      <td>1.27</td>\n",
       "    </tr>\n",
       "    <tr>\n",
       "      <th>2013</th>\n",
       "      <td>10161192.00</td>\n",
       "      <td>127717695.00</td>\n",
       "      <td>67173972.50</td>\n",
       "      <td>12.57</td>\n",
       "    </tr>\n",
       "  </tbody>\n",
       "</table>\n",
       "</div>"
      ],
      "text/plain": [
       "             mean                          s_s\b_o\n",
       "       box_office       budget sum_support       \n",
       "year                                             \n",
       "2019  44072003.84 117250850.12 68463768.12   2.66\n",
       "2018  98046530.90 127917204.50 59576923.08   1.30\n",
       "2017 149547321.67 178773655.59 79460811.85   1.20\n",
       "2016  85478006.03 124636943.93 68571646.24   1.46\n",
       "2015  60196842.52  91370865.09 40340518.24   1.52\n",
       "2014  67145876.47  85298985.53 36600153.27   1.27\n",
       "2013  10161192.00 127717695.00 67173972.50  12.57"
      ]
     },
     "execution_count": 81,
     "metadata": {},
     "output_type": "execute_result"
    }
   ],
   "source": [
    "box_office_df = film_with_support\n",
    "box_office_df['sum_support'] = box_office_df['nonrefundable_support'] + box_office_df['refundable_support'] \n",
    "box_office_df_year = box_office_df.pivot_table(index = ['year'], values = ['sum_support', 'budget', 'box_office'], aggfunc = ['mean'])\\\n",
    "    .sort_values(by = ('year'), ascending = False)\n",
    "box_office_df_year['s_s\\b_o'] = box_office_df_year['mean', 'budget'] / box_office_df_year['mean', 'box_office']\n",
    "box_office_df_year"
   ]
  },
  {
   "cell_type": "markdown",
   "metadata": {},
   "source": [
    "* Тенденция заключается в том, что фильмы которым оказывалась государственная поддержка в среднем не окупаются. Исключение 2017 и 2018 год.\n",
    "* Также необходимо отметить, что в 2017 и в 2018 году, произошло резкое уменьшение объема государственной поддержки (относительно 2016).\n",
    "* Самая высокая окупаемость была в 2017 году (0.65). в 2018 году объем государственной поддержки относительно 2017 года немного увеличился, при этом окупаемость упала (0.70)"
   ]
  },
  {
   "cell_type": "code",
   "execution_count": 82,
   "metadata": {
    "scrolled": true
   },
   "outputs": [
    {
     "data": {
      "text/plain": [
       "5.649652592196686"
      ]
     },
     "execution_count": 82,
     "metadata": {},
     "output_type": "execute_result"
    }
   ],
   "source": [
    "df['ratings'].mean()"
   ]
  },
  {
   "cell_type": "code",
   "execution_count": 83,
   "metadata": {},
   "outputs": [
    {
     "data": {
      "text/plain": [
       "5.749206349206349"
      ]
     },
     "execution_count": 83,
     "metadata": {},
     "output_type": "execute_result"
    }
   ],
   "source": [
    "film_with_support['ratings'].mean()"
   ]
  },
  {
   "cell_type": "code",
   "execution_count": 84,
   "metadata": {},
   "outputs": [
    {
     "data": {
      "text/html": [
       "<div>\n",
       "<style scoped>\n",
       "    .dataframe tbody tr th:only-of-type {\n",
       "        vertical-align: middle;\n",
       "    }\n",
       "\n",
       "    .dataframe tbody tr th {\n",
       "        vertical-align: top;\n",
       "    }\n",
       "\n",
       "    .dataframe thead tr th {\n",
       "        text-align: left;\n",
       "    }\n",
       "\n",
       "    .dataframe thead tr:last-of-type th {\n",
       "        text-align: right;\n",
       "    }\n",
       "</style>\n",
       "<table border=\"1\" class=\"dataframe\">\n",
       "  <thead>\n",
       "    <tr>\n",
       "      <th></th>\n",
       "      <th>mean</th>\n",
       "    </tr>\n",
       "    <tr>\n",
       "      <th></th>\n",
       "      <th>ratings</th>\n",
       "    </tr>\n",
       "    <tr>\n",
       "      <th>year</th>\n",
       "      <th></th>\n",
       "    </tr>\n",
       "  </thead>\n",
       "  <tbody>\n",
       "    <tr>\n",
       "      <th>2019</th>\n",
       "      <td>5.91</td>\n",
       "    </tr>\n",
       "    <tr>\n",
       "      <th>2018</th>\n",
       "      <td>5.81</td>\n",
       "    </tr>\n",
       "    <tr>\n",
       "      <th>2017</th>\n",
       "      <td>5.74</td>\n",
       "    </tr>\n",
       "    <tr>\n",
       "      <th>2016</th>\n",
       "      <td>5.30</td>\n",
       "    </tr>\n",
       "    <tr>\n",
       "      <th>2015</th>\n",
       "      <td>5.91</td>\n",
       "    </tr>\n",
       "    <tr>\n",
       "      <th>2014</th>\n",
       "      <td>5.57</td>\n",
       "    </tr>\n",
       "    <tr>\n",
       "      <th>2013</th>\n",
       "      <td>6.70</td>\n",
       "    </tr>\n",
       "  </tbody>\n",
       "</table>\n",
       "</div>"
      ],
      "text/plain": [
       "        mean\n",
       "     ratings\n",
       "year        \n",
       "2019    5.91\n",
       "2018    5.81\n",
       "2017    5.74\n",
       "2016    5.30\n",
       "2015    5.91\n",
       "2014    5.57\n",
       "2013    6.70"
      ]
     },
     "execution_count": 84,
     "metadata": {},
     "output_type": "execute_result"
    }
   ],
   "source": [
    "film_with_support.pivot_table(index = ['year'], values = ['ratings'], aggfunc = ['mean'])\\\n",
    "    .sort_values(by = ('year'), ascending = False)"
   ]
  },
  {
   "cell_type": "markdown",
   "metadata": {},
   "source": [
    "* Рейтинг фильмов с господдержкой в среднем немного выше рейтинга остальных фильмов (на 0.10).\n",
    "* С 2016 есть тенденция к росту рейтинга фильмов с господдержкой."
   ]
  },
  {
   "cell_type": "markdown",
   "metadata": {},
   "source": [
    "### Строим корелляционную матрицу"
   ]
  },
  {
   "cell_type": "code",
   "execution_count": 85,
   "metadata": {},
   "outputs": [
    {
     "name": "stdout",
     "output_type": "stream",
     "text": [
      "<class 'pandas.core.frame.DataFrame'>\n",
      "RangeIndex: 315 entries, 0 to 314\n",
      "Data columns (total 21 columns):\n",
      " #   Column                 Non-Null Count  Dtype              \n",
      "---  ------                 --------------  -----              \n",
      " 0   title                  315 non-null    object             \n",
      " 1   puNumber               315 non-null    int32              \n",
      " 2   show_start_date        315 non-null    datetime64[ns, UTC]\n",
      " 3   type                   315 non-null    object             \n",
      " 4   film_studio            315 non-null    object             \n",
      " 5   production_country     315 non-null    object             \n",
      " 6   director               315 non-null    object             \n",
      " 7   producer               315 non-null    object             \n",
      " 8   age_restriction        315 non-null    object             \n",
      " 9   refundable_support     315 non-null    int32              \n",
      " 10  nonrefundable_support  315 non-null    int32              \n",
      " 11  budget                 315 non-null    int32              \n",
      " 12  financing_source       315 non-null    object             \n",
      " 13  ratings                315 non-null    float64            \n",
      " 14  genres                 315 non-null    object             \n",
      " 15  box_office             315 non-null    int32              \n",
      " 16  year                   315 non-null    int32              \n",
      " 17  general_director       315 non-null    object             \n",
      " 18  general_genre          315 non-null    object             \n",
      " 19  procent_support        315 non-null    float64            \n",
      " 20  sum_support            315 non-null    int32              \n",
      "dtypes: datetime64[ns, UTC](1), float64(2), int32(7), object(11)\n",
      "memory usage: 43.2+ KB\n"
     ]
    }
   ],
   "source": [
    "film_with_support.info()"
   ]
  },
  {
   "cell_type": "code",
   "execution_count": 86,
   "metadata": {},
   "outputs": [],
   "source": [
    "numeric_columns = ['show_start_date', 'refundable_support', 'nonrefundable_support', 'budget', 'ratings', 'box_office', 'year', 'procent_support', 'sum_support']"
   ]
  },
  {
   "cell_type": "code",
   "execution_count": 87,
   "metadata": {
    "id": "W9QKpjUdgFyb",
    "scrolled": true
   },
   "outputs": [
    {
     "data": {
      "image/png": "[encoded data removed]",
      "text/plain": [
       "<Figure size 2000x1500 with 2 Axes>"
      ]
     },
     "metadata": {},
     "output_type": "display_data"
    }
   ],
   "source": [
    "correlation_fws = film_with_support[numeric_columns].corr()\n",
    "plt.figure(figsize=(20,15))\n",
    "sns.heatmap(correlation_fws, vmax=1, square=True, annot=True, cmap='cubehelix')\n",
    "\n",
    "plt.title('Корреляционная матрица')\n",
    "plt.show()"
   ]
  },
  {
   "cell_type": "markdown",
   "metadata": {},
   "source": [
    "**Корелляция пар в соответствии со шкалой Чеддока**\n",
    "* Слабая корелляция - сборы в рублях \\ рейтинг фильма на КиноПоиске, объём возвратных средств государственной поддержки \\ рейтинг фильма на КиноПоиске, объём невозвратных средств государственной поддержки \\ рейтинг фильма на КиноПоиске \n",
    "* Умеренная корелляция - объём возвратных средств государственной поддержки \\ сборы в рублях, объём невозвратных средств государственной поддержки \\ сборы в рублях, бюджет \\ сборы в рублях \n",
    "* Заметная корелляция - нет \n"
   ]
  },
  {
   "cell_type": "markdown",
   "metadata": {},
   "source": [
    "### Ищем закономерности в зависимости от источника господдержки"
   ]
  },
  {
   "cell_type": "code",
   "execution_count": 88,
   "metadata": {},
   "outputs": [
    {
     "data": {
      "text/html": [
       "<div>\n",
       "<style scoped>\n",
       "    .dataframe tbody tr th:only-of-type {\n",
       "        vertical-align: middle;\n",
       "    }\n",
       "\n",
       "    .dataframe tbody tr th {\n",
       "        vertical-align: top;\n",
       "    }\n",
       "\n",
       "    .dataframe thead tr th {\n",
       "        text-align: left;\n",
       "    }\n",
       "\n",
       "    .dataframe thead tr:last-of-type th {\n",
       "        text-align: right;\n",
       "    }\n",
       "</style>\n",
       "<table border=\"1\" class=\"dataframe\">\n",
       "  <thead>\n",
       "    <tr>\n",
       "      <th></th>\n",
       "      <th>count</th>\n",
       "      <th>mean</th>\n",
       "    </tr>\n",
       "    <tr>\n",
       "      <th></th>\n",
       "      <th>ratings</th>\n",
       "      <th>ratings</th>\n",
       "    </tr>\n",
       "    <tr>\n",
       "      <th>financing_source</th>\n",
       "      <th></th>\n",
       "      <th></th>\n",
       "    </tr>\n",
       "  </thead>\n",
       "  <tbody>\n",
       "    <tr>\n",
       "      <th>Министерство культуры</th>\n",
       "      <td>163</td>\n",
       "      <td>5.75</td>\n",
       "    </tr>\n",
       "    <tr>\n",
       "      <th>Фонд кино</th>\n",
       "      <td>131</td>\n",
       "      <td>5.69</td>\n",
       "    </tr>\n",
       "    <tr>\n",
       "      <th>Министерство культуры, Фонд кино</th>\n",
       "      <td>21</td>\n",
       "      <td>6.12</td>\n",
       "    </tr>\n",
       "  </tbody>\n",
       "</table>\n",
       "</div>"
      ],
      "text/plain": [
       "                                   count    mean\n",
       "                                 ratings ratings\n",
       "financing_source                                \n",
       "Министерство культуры                163    5.75\n",
       "Фонд кино                            131    5.69\n",
       "Министерство культуры, Фонд кино      21    6.12"
      ]
     },
     "execution_count": 88,
     "metadata": {},
     "output_type": "execute_result"
    }
   ],
   "source": [
    "film_with_support.pivot_table(index = ['financing_source'], values = 'ratings', aggfunc = ['count', 'mean'])\\\n",
    "    .sort_values(by = ('count', 'ratings'), ascending = False)"
   ]
  },
  {
   "cell_type": "code",
   "execution_count": 89,
   "metadata": {
    "scrolled": true
   },
   "outputs": [
    {
     "data": {
      "text/html": [
       "<div>\n",
       "<style scoped>\n",
       "    .dataframe tbody tr th:only-of-type {\n",
       "        vertical-align: middle;\n",
       "    }\n",
       "\n",
       "    .dataframe tbody tr th {\n",
       "        vertical-align: top;\n",
       "    }\n",
       "\n",
       "    .dataframe thead tr th {\n",
       "        text-align: left;\n",
       "    }\n",
       "\n",
       "    .dataframe thead tr:last-of-type th {\n",
       "        text-align: right;\n",
       "    }\n",
       "</style>\n",
       "<table border=\"1\" class=\"dataframe\">\n",
       "  <thead>\n",
       "    <tr>\n",
       "      <th></th>\n",
       "      <th>count</th>\n",
       "      <th>mean</th>\n",
       "    </tr>\n",
       "    <tr>\n",
       "      <th></th>\n",
       "      <th>box_office</th>\n",
       "      <th>box_office</th>\n",
       "    </tr>\n",
       "    <tr>\n",
       "      <th>financing_source</th>\n",
       "      <th></th>\n",
       "      <th></th>\n",
       "    </tr>\n",
       "  </thead>\n",
       "  <tbody>\n",
       "    <tr>\n",
       "      <th>Министерство культуры</th>\n",
       "      <td>163</td>\n",
       "      <td>32556167.84</td>\n",
       "    </tr>\n",
       "    <tr>\n",
       "      <th>Фонд кино</th>\n",
       "      <td>131</td>\n",
       "      <td>142526381.27</td>\n",
       "    </tr>\n",
       "    <tr>\n",
       "      <th>Министерство культуры, Фонд кино</th>\n",
       "      <td>21</td>\n",
       "      <td>37862114.10</td>\n",
       "    </tr>\n",
       "  </tbody>\n",
       "</table>\n",
       "</div>"
      ],
      "text/plain": [
       "                                      count         mean\n",
       "                                 box_office   box_office\n",
       "financing_source                                        \n",
       "Министерство культуры                   163  32556167.84\n",
       "Фонд кино                               131 142526381.27\n",
       "Министерство культуры, Фонд кино         21  37862114.10"
      ]
     },
     "execution_count": 89,
     "metadata": {},
     "output_type": "execute_result"
    }
   ],
   "source": [
    "film_with_support.pivot_table(index = ['financing_source'], values = 'box_office', aggfunc = ['count', 'mean'])\\\n",
    "    .sort_values(by = ('count', 'box_office'), ascending = False)"
   ]
  },
  {
   "cell_type": "markdown",
   "metadata": {},
   "source": [
    "* Министерство культуры и Фонд кино оказывают поддержку примерно одинаковому колличеству фильмов.   \n",
    "* При этом фильмы, которым оказывал поддержку Фонд кино, в среднем собирают в кинотеатрах значительно больше денег."
   ]
  },
  {
   "cell_type": "markdown",
   "metadata": {},
   "source": [
    "### Смотрим какая доля в общем прокате фильмов произведенных в РФ"
   ]
  },
  {
   "cell_type": "code",
   "execution_count": 90,
   "metadata": {
    "scrolled": true
   },
   "outputs": [
    {
     "data": {
      "text/plain": [
       "array(['СССР', 'Россия, Казахстан, США',\n",
       "       'СССР, ЧССР, Западный Берлин, ПНР', 'США - Великобритания', 'США',\n",
       "       'США-Канада', 'СССР, Финляндия', 'Великобритания',\n",
       "       'Канада-Франция', 'СССР - Швейцария - Франция', 'Россия',\n",
       "       'Великобритания - Франция', 'Южная Корея', 'Франция', 'Япония',\n",
       "       'Германия', 'Франция-Бельгия', 'США-ЮАР',\n",
       "       'Великобритания-Австралия - США', 'Южная Корея - США',\n",
       "       'Франция - Германия', 'США - Новая Зеландия', 'США - КНР',\n",
       "       'Канада', 'Дания', 'США - Канада', 'Франция - Бельгия',\n",
       "       'Нидерланды', 'Франция - Бельгия - Люксембург',\n",
       "       'Великобритания - Норвегия - Дания - Германия', 'Италия',\n",
       "       'Нидерланды - Россия - Германия', 'КНР', 'Канада - Южная Корея',\n",
       "       'Великобритания - Польша - КНР - Индия - Норвегия',\n",
       "       'Мексика - Аргентина - Великобритания',\n",
       "       'Польша - Португалия - Франция - Великобритания', 'США - Индия',\n",
       "       'Испания', 'Япония - Канада',\n",
       "       'Финляндия - Дания - Германия - Ирландия', 'Канада - США',\n",
       "       'США-Италия-Испания', 'Испания - США - Колумбия', 'Гонконг - КНР',\n",
       "       'ЮАР', 'Франция-Перу', 'Франция - Канада', 'Австралия',\n",
       "       'Германия-США', 'США - Южная Корея', 'Канада - КНР',\n",
       "       'Франция-Италия-Испания-Венгрия', 'Болгария - Франция - Изриль',\n",
       "       'Италия - Франция', 'Канада - Франция',\n",
       "       'Россия, Республика Беларусь', 'США - Франция',\n",
       "       'Великобритания - США - Индия',\n",
       "       'Дания-Франция-Бельгия-Германия-Великобритания',\n",
       "       'Испания - Аргентина', 'Южная Корея - США - Канада',\n",
       "       'США - Германия',\n",
       "       'Великобритания - Германия - Франция - Кипр - США',\n",
       "       'Франция-Канада', 'Малайзия - США', 'Германия - Италия',\n",
       "       'Германия - США', 'Великобритания - Германия',\n",
       "       'Великобритания - Италия - Швейцария', 'США-Франция', 'США-Китай',\n",
       "       'США - Румыния - Великобритания', 'США - Япония', 'Норвегия',\n",
       "       'США - Россия - Франция', 'Франция-США', 'Финляндия - Канада',\n",
       "       'Таиланд', 'Испания - Италия - Франция',\n",
       "       'Великобритания - Франция - Швеция - Бельгия', 'Украина',\n",
       "       'Франция - Бенльгия', 'США-Германия',\n",
       "       'Испания - Уругвай - Аргентина', 'Новая Зеландия',\n",
       "       'Франция - Италия - Бельгия - Люксембург',\n",
       "       'Франция - Украина - Грузия - Армения', 'США - Бельгия',\n",
       "       'Сербия - Германия - Венгрия', 'Франция ', 'Румыния-США',\n",
       "       'Норвегия - Азербайджан - Россия - Колумбия - Великобритания - Венгрия - Румыния - Франция - Грузия',\n",
       "       'Бразилия - Испания', 'Россия, Франция, Латвия',\n",
       "       'Нидерланды - США - Германия - Канада - Франция - Ирландия - Великобритания',\n",
       "       'Великобритания - США', 'Уругвай - Колумбия',\n",
       "       'США - Великобритания- Франция - Швеция', 'США - Мексика',\n",
       "       'Австралия-Турция-США', 'Польша - Италия - Россия',\n",
       "       'Франция - Бразилия', 'США - Канада - КНР', 'Австралия - США',\n",
       "       'СССР ', 'США - Великобритания - Канада - КНР',\n",
       "       'Дания - Великобритания - ЮАР', 'Россия-США-Канада-Люксембург',\n",
       "       'Германия - США - Швеция - Франция',\n",
       "       'Великобритания-Германия-Канада-ЮАР', 'Великобритания, Канада',\n",
       "       'Франция - Италия', 'Бельгия - США',\n",
       "       'Великобритания - США - Россия', 'Россия-Украина',\n",
       "       'Германия - США - Великобритания - Израиль', 'США- Ю.Корея',\n",
       "       'Индия - Мексика', 'Новая Зеландия - США',\n",
       "       'Испания - Аргентина - Индия - США', 'Франция - США',\n",
       "       'Турция - Германя - Франция', 'Австралия - Германия',\n",
       "       'Великобритания - США - Германия - Бельгия', 'Россия - Италия',\n",
       "       'США - Чили', 'Франция - Германия - Бельгия',\n",
       "       'Франция - Швейцария - Германия', 'Грузия - Украина',\n",
       "       'Дания - Швеция', 'США - Великобритания - КНР',\n",
       "       'США-Франция-Канада', 'Бельгия - Италия - Франция ',\n",
       "       'Швейцария-Германия-ЮАР', 'Канада - США - Германия - Франция',\n",
       "       'США - Великобритания - Испания', 'Великобритания-США',\n",
       "       'Аргентина - Испания',\n",
       "       'Германия - Швейцария - Франция - Южная Корея - США',\n",
       "       'Украина - Нидерланды', 'Венгрия - Германия - Швеция',\n",
       "       'Германия - Франция -  Польша - Турция - Канада - Италия - Россия ',\n",
       "       'Россия-Кипр', 'Иран', 'Россия, Грузия, Испания',\n",
       "       'Аргентина - Бразилия', 'Испания - Великобритания - Франция',\n",
       "       'Испания - США', 'Бельгия - Франция - Люксембург',\n",
       "       'Италия - Франция - Швейцария - Великобритания',\n",
       "       'Франция - Бельгия - Великобритания - Испания - Германия - США',\n",
       "       'Швейцария - Израиль - Франция - Великобритания',\n",
       "       'Великобритания - США - Канада - Нидерланды - Франция',\n",
       "       'Россия, Италия', 'Россия, Украина, Республика Беларусь, Литва',\n",
       "       'США - Австралия', 'Финляндия - Великобритания - Германия',\n",
       "       'Россия, Украина, Польша',\n",
       "       'Германия - Бельгия - Люксембург - Ирландия', 'КНР - Сингапур',\n",
       "       'Франция - Бельгия - Великобритания - США - Нидерланды - Канада',\n",
       "       'США - Германия - Великобритания',\n",
       "       'США - Россия - Польша - Германия - Пуэрто Рико',\n",
       "       'Франция - Бельгия - Канада', 'США ', 'Мексика - США',\n",
       "       'США - Гонконг - КНР ', 'Греция - Россия',\n",
       "       'Ирландия - Дания - Бельгия - Люксембург - Франция',\n",
       "       'Эстония - Россия', 'Великобритания - Ирландия',\n",
       "       'Великобритания - Франция - США',\n",
       "       'Великобритания - Исландия - Испания - Швейцария - США',\n",
       "       'Австралия - Великобритания - Бельгия - Индия', 'Армения',\n",
       "       'Швеция - Германия - Франция - Норвегия',\n",
       "       'Нидерланды - Бельгия - Германия - Ирландия', 'США-Россия',\n",
       "       'Нидерланды - Великобритания - Бельгия',\n",
       "       'США - Колумбия - Испания',\n",
       "       'Аргентина - Уругвай - Россия - Германия - Франция - Нидерланды',\n",
       "       'Швеция - Франция - Норвегия - Дания',\n",
       "       'Италия-Франция-Великобритания', 'Великобритания, Франция',\n",
       "       'Австралия, США', 'Венесуэла', 'Южная Корея - КНР',\n",
       "       'Аргентина - Мексика - Бразилия - Франция - США',\n",
       "       'Франция - Германия - Турция - Катар', 'Франция-Китай',\n",
       "       'Россия, Германия, Великобритания',\n",
       "       'Великобритания - Италия - Испания', 'Италия - Россия', 'Мексика',\n",
       "       'Япония - КНР - Южная Корея', 'Россия, Германия',\n",
       "       'Россия-Ирландия', 'Франция - Бразилия - Италия', 'Армения-Россия',\n",
       "       'Франция -  Бельгия', 'Грузия-Франция', 'ЮАР - США',\n",
       "       'США-Великобритания', 'Великобритания-США-Франция',\n",
       "       'Великобритания - США - Германия - Канада - Австралия',\n",
       "       'США-Ирландия', 'Германия - Люксембург - Франция',\n",
       "       'Россия-Франция',\n",
       "       'США - Нидерланды - Финляндия - Великобритания - Италия',\n",
       "       'Венгрия', 'Франция - США - Норвегия - Дания',\n",
       "       'Германия - Австрия - Ирландия', 'США - Финляндия',\n",
       "       'Италия-Великобритания', 'Россия, Испания',\n",
       "       'США - Великобритания - Болгария', 'Великобритания - Люксембург',\n",
       "       'Индия - США', 'США - Канада - Россия - Франция - Чили - Ирландия',\n",
       "       'Дания - Австрия - Ирландия - Финляндия - Норвегия - Швеция - Нидерланды',\n",
       "       'США-КНР', 'Грузия', 'Австралия - Ирландия',\n",
       "       'Великобритания - Канада', 'Италия - Аргентина - Словения ',\n",
       "       'Испания - Франция - Нидерланды - Германия - Бельгия - Великобритания - Канада',\n",
       "       'Франция - Чехия - Бельгия',\n",
       "       'Великобритания - Франция - Германия - США',\n",
       "       'Ирландия - Великобритания - Франция - США - Германия - Нидерланды',\n",
       "       'США - Канада - Япония - КНР', 'Италия-Франция',\n",
       "       'Великобритания-Франция', 'Франция - Германия - Нидерланды',\n",
       "       'Иран ',\n",
       "       'Франция - Германия - Швеция - США - Чехия - Словакия - Великобритания - Нидерланды',\n",
       "       'Франция - Канада - Н.Зеландия - США - Нидерланды - Германия - Швеция - Россия',\n",
       "       'Великобритания - США - Германия', 'Турция - США',\n",
       "       'Канада - Германия',\n",
       "       'Израиль - Франция - Германия - Палестина - США - Австрия - Великобритания',\n",
       "       'Аргентина - Франция - Испания', 'США-Австралия',\n",
       "       'Великобритания - Франция - Италия - Индия - Дания - КНР - Бангладеш - Камбоджа - Гаити - Уганда',\n",
       "       'Италия - Франция - Швейцария',\n",
       "       'Ирландия - Великобритания - Канада', 'Перу', 'Республика Кипр',\n",
       "       'Испания-Канада', 'Китай-Гонконг', 'США - Германия - КНР',\n",
       "       'Испания - Франция', 'Великобритания - Новая Зеландия',\n",
       "       'Франция - Дания - Швеция - КНР',\n",
       "       'США - Великобритания - Германия - Бельгия - Дания',\n",
       "       'США - Франция - Канада - Германия - Австралия - Индия', 'unknown',\n",
       "       'США - Россия', 'Индия - Великобритания', 'СССР, Румыния, Франция',\n",
       "       'Австралия-Ирландия', 'США - Китай',\n",
       "       'Великобритания - Франция - Австрия - Швеция', 'Ирландия',\n",
       "       'Нидерланды - Бельгия - Болгария', 'Великобритания - Канада - США',\n",
       "       'Франция - Бельгия - Испания', 'Австрия', 'Китай-Гонконг-США',\n",
       "       'Франция - Великобритания', 'США - Вьетнам', 'Швеция',\n",
       "       'США - Германия - Франция', 'Германия - Франция - Бельгия',\n",
       "       'США - Италия',\n",
       "       'Германия - Дания - Испания - Швеция - Канада - Эстония - Франция',\n",
       "       'Княжество Андорра - Украина', 'Германия - Люксембург - Бельгия',\n",
       "       'Великобритания - Россия - Украина - США',\n",
       "       'Германия - Бельгия - Люксембург - Норвегия',\n",
       "       'США - Австралия - Новая Зеландия - Великобритания',\n",
       "       'США - Франция - Канада - Великобритания', 'Испания-Колумбия',\n",
       "       'Великобритания - Чехия - Франция', 'Россия, Украина', 'Исландия',\n",
       "       'Великобритания - Франция - Венгрия',\n",
       "       'Россия, Франция, Германия, Бельгия', 'Германия - Канада',\n",
       "       'Германия - Франция', 'США - Великобритания - Канада',\n",
       "       'Франция - Македония',\n",
       "       'Нидерланды - Франция - Германия - Бельгия - Швеция - Великобритания',\n",
       "       'Испания - США - Великобритания - Канада', 'Германия - Австрия',\n",
       "       'Республика Казахстан',\n",
       "       'Франция - Испания - Дания - Венгрия - Швейцария', 'Франция-КНР',\n",
       "       'США - Пуэрто-Рико - Франция ', 'Мексика - Тайвань - США',\n",
       "       'Великобритания - Испания - Непал - Индия - Венгрия - Гонконг - Германия - Дания - Бахрейн',\n",
       "       'Великобритания - Аргентина - США - Франция - Россия - Испания',\n",
       "       'КНР - США', 'Италия - США', 'Финляндия - Швеция - Германия',\n",
       "       'Канада- Испания', 'Франция - Бельгия - Чехия',\n",
       "       'Франция-Бельгия-Канада', 'Франция - Германия - США',\n",
       "       'США - Дания', 'Индия - КНР', 'Чехия-Великобритания-США',\n",
       "       'Ирландия-Нидерланды-Франция-США-Великобритания',\n",
       "       'Финляндия - Швеция - Норвегия', 'Сербия - Великобритания - США',\n",
       "       'США - Великобритания - Франция - Гонконг', 'Швейцария - Франция',\n",
       "       'Швейцария - Великобритания', 'ОАЭ - США',\n",
       "       'США - Великобритания - Австралия',\n",
       "       'США - Франция - Германия - Канада - Австралия ',\n",
       "       'Германия - Австралия', 'Иран, Франция', 'Киргизия',\n",
       "       'США - Великобритания - Новая Зеландия', 'США-Колумбия',\n",
       "       'США-Франция-Ирландия', 'Великобритания - Франция - Бельгия',\n",
       "       'Канада - Испания', 'Индия', 'США - Великобритания - Япония',\n",
       "       'США - Франция - Германия', 'Польша - Ирландия',\n",
       "       'Ирландия - Великобритания - Франция - США',\n",
       "       'США - Бельгия - Великобритания',\n",
       "       'Испания - Франция - США - Великобритания - Бельгия',\n",
       "       'Франция - Дания - США', 'США - Гонконг', 'Бразилия - К;анада',\n",
       "       'Франция-Германия', 'США - Ирландия - Великобритания - Франция',\n",
       "       'Чехия', 'Великобритания - США - Канада', 'Польша - Франция',\n",
       "       'Индонезия', 'Бразилия',\n",
       "       'Канада - США - Нидерланды - Великобритания - Аргентина',\n",
       "       'Франция - Бельгия - Япония', 'Чили - Франция - США',\n",
       "       'Россия,  Испания', 'Франция -Бельгия', 'Гонконг', 'США-Япония',\n",
       "       'Россия-Украина-Германия', 'Франция-Испания-Швейцария',\n",
       "       'Дания - Германия', 'Россия-Белоруссия', 'Великобритания-Венгрия',\n",
       "       'Россия-Германия', 'США-Бельгия', 'США-ОАЭ',\n",
       "       'Германия - Италия - Франция', 'Россия-Казахстан',\n",
       "       'Россия - Польша', 'США-Испания',\n",
       "       'Канада - Франция - Великобритания', 'Россия - Германия',\n",
       "       'Франция-Великобритания', 'Великобритания - Франция - Италия',\n",
       "       'Бельгия', 'Дания-Швеция-Франция-Германия',\n",
       "       'Бразилия - Канада - США', 'Франция-Аргентина', 'США-Индия',\n",
       "       'Великобритания - Израиль - Франция - Япония - США',\n",
       "       'США-Германия-Великобритания',\n",
       "       'Германия-Франция-Великобритания-США', 'Малайзия',\n",
       "       'Германия - Китай', 'Казахстан', 'Франция - Греция',\n",
       "       'Германия - Франция - Польша', 'Испания-Аргентина',\n",
       "       'Великобритания - Нидерланды - Франция - США', 'Бельгия - Франция',\n",
       "       'Аргентина', 'Канада - Мексика', 'США, Франция',\n",
       "       'Канада-Южная Корея-США',\n",
       "       'Великобритания - Франция - Бельгия - США', 'КНР - Канада - США',\n",
       "       'Швеция - Германия - Франция - Дания', 'Франция - США - Бельгия',\n",
       "       'Украина - Германия - Латвия - Эстония', 'Великобритания - КНР',\n",
       "       'Франция - Дания', 'Швеция - Дания - Финляндия',\n",
       "       'Сингапур - Великобритания - Индонезия - Канада - США',\n",
       "       'Таиланд - США', 'Франция - Нидерланды',\n",
       "       'Великобритания - Румыния', 'Германия - Великобритания', 'Корея',\n",
       "       'США - Мальта', 'Великобритания - Германия - Нидерланды - Дания',\n",
       "       'Франция - Германия - Литва - Нидерланды - Россия',\n",
       "       'США - ЮАР - Гонконг', 'Австралия - Колумбия',\n",
       "       'Великобритания - Польша', 'США - Великобритания - Швеция',\n",
       "       'Франция - Канада - Бельгия',\n",
       "       'Франция - Швеция - Дания - Норвегия', 'Болгария - США',\n",
       "       'Бельгия - Нидерланды - Франция', 'Финляндия - Германия',\n",
       "       'Болгария', 'Грузия - Россия - Украина - Хорватия - Германия',\n",
       "       'Франция - Люксембург', 'Франция - Германия - Австрия',\n",
       "       'Норвегия - США', 'Германия-Швеция', 'Франция - Германия - Италия',\n",
       "       'Канада-США', 'КНР-США', 'Великобритания - Ирландия - США ',\n",
       "       'Дания - Латвия - Россия - США', 'Финляндия - Польша',\n",
       "       'Германия - Бельгия', 'Германия - США - Франция - Испания',\n",
       "       'Нидерланды - Бельгия - Люксембург', 'Канада-Германия',\n",
       "       'Люксембург - Бельгия - Франция', 'США-Великобритания-Австралия',\n",
       "       'Бельгия, Великобритания, США', 'Великобритания, Австралия',\n",
       "       'Исландия, Бельгия',\n",
       "       'Испания - Швейцария - Великобритания - Германия - Новая Зеландия - Нидерланды - Канада',\n",
       "       'Франция, Бельгия', 'Великобритания, США', 'Киргизия-Россия',\n",
       "       'Германия, США', 'Великобритания, США, Испания',\n",
       "       'Италия - Швейцария - Германия', 'Россия, Армения',\n",
       "       'Франция, Германия', 'Китай, Канада, США', 'Германия, Австралия',\n",
       "       'КНР, США', 'Польша', 'США, Великобритания, Люксембург',\n",
       "       'Испания, Ирландия, Бельгия, Франция',\n",
       "       'Великобритания - Гонконг - Венгрия - США - Ирландия',\n",
       "       'США - Испания', 'Аргентина - Испания - Уругвай',\n",
       "       'Израиль - Германия - Франция - Швейцария',\n",
       "       'Великобритания - Мексика - США', 'Испания - Болгария - США',\n",
       "       'Россия-Словакия-Чехия', 'Республика Корея',\n",
       "       'Швейцария - КНР - США - Россия - Республика Корея - Великобритания',\n",
       "       'Мексика - Чили',\n",
       "       'Испания - Бельгия - Франция - Португалия - Великобритания',\n",
       "       'Бразилия - Португалия - Франция', 'Швеция - Норвегия',\n",
       "       'Франция - Польша - Бельгия', 'CША', 'Китай', 'Китай, США',\n",
       "       'Германия - Австрия - Франция', 'Чехия - Словакия - Хорватия',\n",
       "       'Россия, Латвия, Чешская Республика',\n",
       "       'США - Великобритания - Франция',\n",
       "       'Франция - Великобритания - Камбоджа - США - КНР',\n",
       "       'Чехия - Испания - США', 'Швеция - Дания',\n",
       "       'Германия - Люксембург - Дания',\n",
       "       'Великобритания - Испания - Германия', 'Дания - Исландия',\n",
       "       'Латвия - Россия', 'Португалия',\n",
       "       'Великобритания - Испания - Италия - Латвия - Франция - Эстония',\n",
       "       'Польша - Франция - Великобритания',\n",
       "       'Дания, Норвегия, Венгрия, Чехия',\n",
       "       'Дания - Франция - Германия - Швеция',\n",
       "       'Великобритания, Швеция, США',\n",
       "       'США - Великобритания - Германия - - Швеция - Канада',\n",
       "       'Италия, Франция', 'Республика Беларусь, Германия, США, Россия',\n",
       "       'Италия-Швейцария-Франция-Германия ',\n",
       "       'Россия - Франция - Великобритания - Латвия',\n",
       "       'Франция - Испания - Румыния - США - Бельгия', 'Италия-США',\n",
       "       'Ирландия - Великобритания - США',\n",
       "       'Швейцария, Великобритания, Франция, США, Ирландия',\n",
       "       'Мексика, Франция, Германия, Дания, Швеция', 'Нидерланды, Бельгия',\n",
       "       'Швеция, Норвегия, Финляндия, Франция', 'Испания, Франция, Италия',\n",
       "       'Испания-Франция-Греция-Индия-США-Россия-Великобритания',\n",
       "       'Дания, Канада, Норвегия, Австралия, США', 'Аргентина, Испания',\n",
       "       'Россия, Германия, Казахстан, Польша, Китай',\n",
       "       'Португалия, Франция, Польша, США', 'США - Канада - Аргентина',\n",
       "       'США - ЮАР', 'Ливан-США', 'США, Великобритания', 'США, Гонконг ',\n",
       "       'Аргентина-Испания', 'КНР - Гонконг', 'Россия, Сербия',\n",
       "       'США - Болгария - Мексика',\n",
       "       'США - Великобритания - Швейцария - Франция',\n",
       "       'Великобритания, Нидерланды, Польша, Швейцария, Франция',\n",
       "       'Ирландия - США',\n",
       "       'Германия - Франция - Великобритания - Польша - США',\n",
       "       'США - Австралия - Индия', 'Франция - КНР', 'Германия, Бельгия',\n",
       "       'США, Великобритания, Франция', 'Ирландия, Великобритания',\n",
       "       'Франция - Израиль - Германия', 'Бельгия - Люксембург',\n",
       "       'Германия - Бельгия - Великобритания',\n",
       "       'Испания, Франция, Великобритания, Дания, Бельгия, Германия',\n",
       "       'Румыния, ЮАР, Иран, Франция, Канада, Великобритания',\n",
       "       'Германия, Франция', 'США, Япония', 'Республика Армения',\n",
       "       'США, Франция, Япония',\n",
       "       'Дания - Франция - Италия - Бельгия - Нидерланды',\n",
       "       'Австрия - Германия', 'Норвегия, Швеция, Дания',\n",
       "       'КНР, Индия, Гонконг, США', 'США, Россия',\n",
       "       'США - КНР - Индия - Ю.Корея', 'Израиль', 'США - Швеция',\n",
       "       'Россия-Китай', 'Канада, Великобритания',\n",
       "       'Канада, США, Каймановы острова',\n",
       "       'Бразилия, Уругвай, Дания, Норвегия, Чили, Швеция',\n",
       "       'Пуэрто-Рико, Великобритания, США',\n",
       "       'Уругвай - Аргентина - Испания',\n",
       "       'США - Великобритания - Италия - Израиль - Сербия - Индия',\n",
       "       'США - Канада - Франция - Индия', 'Великобритания - Россия - КНР',\n",
       "       'Франция, Новая Зеландия', 'Франция, Люксембург, Бельгия',\n",
       "       'Канада, США, Норвегия', 'Италия, Испания',\n",
       "       'Испания - Германия - Нидерланды', 'Бразилия - США - КНР ',\n",
       "       'Великобритания, Германия, Дания, США',\n",
       "       'Италия - Фрация - Бразилия - Германия',\n",
       "       'Норвегия - Швеция - Россия', 'Бельгия, Канада',\n",
       "       'Великобритания - Австралия - США', 'КНР - США ',\n",
       "       'Франция - Финляндия', 'Колумбия - США',\n",
       "       'Великобритания, Франция, Бельгия', 'Великобритания, Канада, США',\n",
       "       'Япония, Великобритания', 'США, Украина',\n",
       "       'Великобритания, Южная Корея, Канада, США, Индия, Китай, Япония',\n",
       "       'Польша - Франция - Испания - Бразилия - Швеция',\n",
       "       'Австрия, Великобритания, Германия', 'Франция - Сенегал - Бельгия',\n",
       "       'Франция, Бельгия, Люксембург', 'Финляндия, Латвия', 'Пакистан',\n",
       "       'Германия, Франция, США', 'Германия - Великобритания - США',\n",
       "       'КНР - Франция', 'Новая Зеландия - КНР',\n",
       "       'Дания - Канада - Швеция - Франция - Германия - Великобритания - США'],\n",
       "      dtype=object)"
      ]
     },
     "execution_count": 90,
     "metadata": {},
     "output_type": "execute_result"
    }
   ],
   "source": [
    "box_office_dont_nool['production_country'].unique()"
   ]
  },
  {
   "cell_type": "code",
   "execution_count": 91,
   "metadata": {},
   "outputs": [],
   "source": [
    "def country_category(row):\n",
    "    if row == 'Россия':\n",
    "        return 'Россия'\n",
    "    else:\n",
    "        return 'Другая страна'"
   ]
  },
  {
   "cell_type": "code",
   "execution_count": 92,
   "metadata": {},
   "outputs": [],
   "source": [
    "def country_group(group):\n",
    "    group = group.split('-')\n",
    "    for i in group:\n",
    "        return i"
   ]
  },
  {
   "cell_type": "code",
   "execution_count": 93,
   "metadata": {
    "scrolled": true
   },
   "outputs": [],
   "source": [
    "film_country_category = box_office_dont_nool\n",
    "film_country_category['country_category'] = film_country_category['production_country'].apply(generals_director_and_genres)\n",
    "#film_country_category['country_category'].unique()"
   ]
  },
  {
   "cell_type": "code",
   "execution_count": 94,
   "metadata": {
    "scrolled": true
   },
   "outputs": [],
   "source": [
    "film_country_category['country_category'] = film_country_category['country_category'].apply(country_group)\n",
    "#film_country_category['country_category'].unique()"
   ]
  },
  {
   "cell_type": "code",
   "execution_count": 95,
   "metadata": {
    "scrolled": true
   },
   "outputs": [],
   "source": [
    "film_country_category['country_category'] = film_country_category['country_category'].apply(generals_director_and_genres)\n",
    "#film_country_category['country_category'].unique()"
   ]
  },
  {
   "cell_type": "code",
   "execution_count": 96,
   "metadata": {},
   "outputs": [],
   "source": [
    "film_country_category['country_category'] = film_country_category['country_category'].str.replace(' ', '')\n",
    "#film_country_category['country_category'].unique()"
   ]
  },
  {
   "cell_type": "code",
   "execution_count": 97,
   "metadata": {},
   "outputs": [],
   "source": [
    "film_country_category['country_category'] = film_country_category['country_category'].apply(country_category)"
   ]
  },
  {
   "cell_type": "code",
   "execution_count": 98,
   "metadata": {},
   "outputs": [
    {
     "data": {
      "text/plain": [
       "country_category\n",
       "Другая страна    2319\n",
       "Россия            815\n",
       "Name: count, dtype: int64"
      ]
     },
     "execution_count": 98,
     "metadata": {},
     "output_type": "execute_result"
    }
   ],
   "source": [
    "film_country_category['country_category'].value_counts()"
   ]
  },
  {
   "cell_type": "code",
   "execution_count": 99,
   "metadata": {
    "scrolled": true
   },
   "outputs": [
    {
     "data": {
      "text/html": [
       "<div>\n",
       "<style scoped>\n",
       "    .dataframe tbody tr th:only-of-type {\n",
       "        vertical-align: middle;\n",
       "    }\n",
       "\n",
       "    .dataframe tbody tr th {\n",
       "        vertical-align: top;\n",
       "    }\n",
       "\n",
       "    .dataframe thead tr th {\n",
       "        text-align: left;\n",
       "    }\n",
       "\n",
       "    .dataframe thead tr:last-of-type th {\n",
       "        text-align: right;\n",
       "    }\n",
       "</style>\n",
       "<table border=\"1\" class=\"dataframe\">\n",
       "  <thead>\n",
       "    <tr>\n",
       "      <th></th>\n",
       "      <th></th>\n",
       "      <th>count</th>\n",
       "      <th>mean</th>\n",
       "    </tr>\n",
       "    <tr>\n",
       "      <th></th>\n",
       "      <th></th>\n",
       "      <th>box_office</th>\n",
       "      <th>box_office</th>\n",
       "    </tr>\n",
       "    <tr>\n",
       "      <th>year</th>\n",
       "      <th>country_category</th>\n",
       "      <th></th>\n",
       "      <th></th>\n",
       "    </tr>\n",
       "  </thead>\n",
       "  <tbody>\n",
       "    <tr>\n",
       "      <th rowspan=\"2\" valign=\"top\">2019</th>\n",
       "      <th>Россия</th>\n",
       "      <td>110</td>\n",
       "      <td>55276116.84</td>\n",
       "    </tr>\n",
       "    <tr>\n",
       "      <th>Другая страна</th>\n",
       "      <td>420</td>\n",
       "      <td>77143299.95</td>\n",
       "    </tr>\n",
       "    <tr>\n",
       "      <th rowspan=\"2\" valign=\"top\">2018</th>\n",
       "      <th>Россия</th>\n",
       "      <td>117</td>\n",
       "      <td>77702385.44</td>\n",
       "    </tr>\n",
       "    <tr>\n",
       "      <th>Другая страна</th>\n",
       "      <td>358</td>\n",
       "      <td>100999961.46</td>\n",
       "    </tr>\n",
       "    <tr>\n",
       "      <th rowspan=\"2\" valign=\"top\">2017</th>\n",
       "      <th>Россия</th>\n",
       "      <td>55</td>\n",
       "      <td>118311051.04</td>\n",
       "    </tr>\n",
       "    <tr>\n",
       "      <th>Другая страна</th>\n",
       "      <td>302</td>\n",
       "      <td>122945131.18</td>\n",
       "    </tr>\n",
       "    <tr>\n",
       "      <th rowspan=\"2\" valign=\"top\">2016</th>\n",
       "      <th>Россия</th>\n",
       "      <td>137</td>\n",
       "      <td>54445917.18</td>\n",
       "    </tr>\n",
       "    <tr>\n",
       "      <th>Другая страна</th>\n",
       "      <td>388</td>\n",
       "      <td>104142291.09</td>\n",
       "    </tr>\n",
       "    <tr>\n",
       "      <th rowspan=\"2\" valign=\"top\">2015</th>\n",
       "      <th>Россия</th>\n",
       "      <td>145</td>\n",
       "      <td>47760113.50</td>\n",
       "    </tr>\n",
       "    <tr>\n",
       "      <th>Другая страна</th>\n",
       "      <td>317</td>\n",
       "      <td>102751257.43</td>\n",
       "    </tr>\n",
       "    <tr>\n",
       "      <th rowspan=\"2\" valign=\"top\">2014</th>\n",
       "      <th>Россия</th>\n",
       "      <td>76</td>\n",
       "      <td>24079634.83</td>\n",
       "    </tr>\n",
       "    <tr>\n",
       "      <th>Другая страна</th>\n",
       "      <td>197</td>\n",
       "      <td>28502028.39</td>\n",
       "    </tr>\n",
       "    <tr>\n",
       "      <th rowspan=\"2\" valign=\"top\">2013</th>\n",
       "      <th>Россия</th>\n",
       "      <td>49</td>\n",
       "      <td>470548.12</td>\n",
       "    </tr>\n",
       "    <tr>\n",
       "      <th>Другая страна</th>\n",
       "      <td>130</td>\n",
       "      <td>51868.05</td>\n",
       "    </tr>\n",
       "    <tr>\n",
       "      <th rowspan=\"2\" valign=\"top\">2012</th>\n",
       "      <th>Россия</th>\n",
       "      <td>36</td>\n",
       "      <td>28907.03</td>\n",
       "    </tr>\n",
       "    <tr>\n",
       "      <th>Другая страна</th>\n",
       "      <td>87</td>\n",
       "      <td>67985.86</td>\n",
       "    </tr>\n",
       "    <tr>\n",
       "      <th rowspan=\"2\" valign=\"top\">2011</th>\n",
       "      <th>Россия</th>\n",
       "      <td>45</td>\n",
       "      <td>9699.67</td>\n",
       "    </tr>\n",
       "    <tr>\n",
       "      <th>Другая страна</th>\n",
       "      <td>64</td>\n",
       "      <td>213535.62</td>\n",
       "    </tr>\n",
       "    <tr>\n",
       "      <th rowspan=\"2\" valign=\"top\">2010</th>\n",
       "      <th>Россия</th>\n",
       "      <td>45</td>\n",
       "      <td>5886.64</td>\n",
       "    </tr>\n",
       "    <tr>\n",
       "      <th>Другая страна</th>\n",
       "      <td>56</td>\n",
       "      <td>38638.48</td>\n",
       "    </tr>\n",
       "  </tbody>\n",
       "</table>\n",
       "</div>"
      ],
      "text/plain": [
       "                           count         mean\n",
       "                      box_office   box_office\n",
       "year country_category                        \n",
       "2019 Россия                  110  55276116.84\n",
       "     Другая страна           420  77143299.95\n",
       "2018 Россия                  117  77702385.44\n",
       "     Другая страна           358 100999961.46\n",
       "2017 Россия                   55 118311051.04\n",
       "     Другая страна           302 122945131.18\n",
       "2016 Россия                  137  54445917.18\n",
       "     Другая страна           388 104142291.09\n",
       "2015 Россия                  145  47760113.50\n",
       "     Другая страна           317 102751257.43\n",
       "2014 Россия                   76  24079634.83\n",
       "     Другая страна           197  28502028.39\n",
       "2013 Россия                   49    470548.12\n",
       "     Другая страна           130     51868.05\n",
       "2012 Россия                   36     28907.03\n",
       "     Другая страна            87     67985.86\n",
       "2011 Россия                   45      9699.67\n",
       "     Другая страна            64    213535.62\n",
       "2010 Россия                   45      5886.64\n",
       "     Другая страна            56     38638.48"
      ]
     },
     "execution_count": 99,
     "metadata": {},
     "output_type": "execute_result"
    }
   ],
   "source": [
    "film_country_category.pivot_table(index = ['year', 'country_category'], values = 'box_office', aggfunc = ['count', 'mean'])\\\n",
    "    .sort_values(by = ('year'), ascending = False)"
   ]
  },
  {
   "cell_type": "markdown",
   "metadata": {
    "id": "V2gYwMcPgFyd"
   },
   "source": [
    "## Общий вывод"
   ]
  },
  {
   "cell_type": "markdown",
   "metadata": {
    "id": "AYRg3dzXgFye"
   },
   "source": [
    "**Текущие тренды российского кинопроката**\n",
    "\n",
    "* С 2010 года есть тенденция к росту количества фильмов выходящих в прокат.\n",
    "* С 2010 года по 2018 год есть тенденция к росту суммы сборов фильмов выходящих в прокат.\n",
    "* Фильмов с рейтингом «0+» значительно меньше чем фильмов любой другой категории (90), такая же ситуация с суммой сборов и сборами указанных фильмов в среднем.\n",
    "* Возрастное ограничение аудитории («6+», «12+», «16+», «18+» и т. д.) влияет на сборы фильма в прокате, чем ниже возрастной рейтинг, тем больше фильм соберет в прокате в среднем.\n",
    "* При этом фильмов с возрастным рейтингом «16+» и «18+» выходит в прокат значительно больше чем фильмов с возрастным рейтингом «6+» и «12+\n",
    "* Самый популярные жанры - драма (684 фильма), комедия (370 фильмов), мультфильм (339 фильмов)\n",
    "* Самые непопулярные жанры - для взрослых, реальное ТВ, фильм-нуар, короткометражка (по 1 фильму)"
   ]
  },
  {
   "cell_type": "markdown",
   "metadata": {},
   "source": [
    "**Фильмы, которые получили государственную поддержку**"
   ]
  },
  {
   "cell_type": "markdown",
   "metadata": {},
   "source": [
    "* Общая сумма средств направленная на поддержку кино - 18 808 718 847 руб.\n",
    "* Объем средств направляемых на поддержку кино рос с 2013 - 2016, в 2017 произошло резкое падение объема средств направляемых на поддержку кино. С 2017 объем средств направляемых на поддержку кино снова растет.\n",
    "* Фильмы которым оказывалась государственная поддержка в среднем не окупаются. Исключение 2017 и 2018 год.\n",
    "* Также необходимо отметить, что в 2017 и в 2018 году, произошло резкое уменьшение объема государственной поддержки (относительно 2016).\n",
    "* Самая высокая окупаемость была в 2017 году (0.65). в 2018 году объем государственной поддержки относительно 2017 года немного увеличился, при этом окупаемость упала (0.70)\n",
    "* Министерство культуры и Фонд кино оказывают поддержку примерно одинаковому колличеству фильмов.\n",
    "* При этом фильмы, которым оказывал поддержку Фонд кино, в среднем собирают в кинотеатрах значительно больше денег.\n",
    "* С 2016 есть тенденция к росту рейтинга фильмов с господдержкой."
   ]
  }
 ],
 "metadata": {
  "ExecuteTimeLog": [
   {
    "duration": 537,
    "start_time": "2021-07-07T10:12:08.634Z"
   },
   {
    "duration": 206,
    "start_time": "2021-07-07T10:12:30.191Z"
   },
   {
    "duration": 227,
    "start_time": "2021-07-07T10:12:33.078Z"
   },
   {
    "duration": 153,
    "start_time": "2021-07-07T10:13:42.146Z"
   },
   {
    "duration": 233,
    "start_time": "2021-07-07T10:30:09.252Z"
   },
   {
    "duration": 19,
    "start_time": "2021-07-07T10:30:15.577Z"
   },
   {
    "duration": 18,
    "start_time": "2021-07-07T10:30:57.348Z"
   },
   {
    "duration": 19,
    "start_time": "2021-07-07T10:31:17.452Z"
   },
   {
    "duration": 21,
    "start_time": "2021-07-07T10:31:32.227Z"
   },
   {
    "duration": 27,
    "start_time": "2021-07-07T10:32:06.588Z"
   },
   {
    "duration": 23,
    "start_time": "2021-07-07T10:32:43.645Z"
   },
   {
    "duration": 24,
    "start_time": "2021-07-07T10:33:06.948Z"
   },
   {
    "duration": 7,
    "start_time": "2021-07-07T10:33:28.558Z"
   },
   {
    "duration": 23,
    "start_time": "2021-07-07T10:33:43.761Z"
   },
   {
    "duration": 28,
    "start_time": "2021-07-07T10:34:13.466Z"
   },
   {
    "duration": 23,
    "start_time": "2021-07-07T10:35:56.187Z"
   },
   {
    "duration": 6,
    "start_time": "2021-07-07T10:36:48.182Z"
   },
   {
    "duration": 14,
    "start_time": "2021-07-07T10:37:49.641Z"
   },
   {
    "duration": 6,
    "start_time": "2021-07-07T10:38:06.694Z"
   },
   {
    "duration": 6,
    "start_time": "2021-07-07T10:38:13.493Z"
   },
   {
    "duration": 19,
    "start_time": "2021-07-07T10:38:44.056Z"
   },
   {
    "duration": 186,
    "start_time": "2021-07-07T10:48:35.618Z"
   },
   {
    "duration": 24,
    "start_time": "2021-07-07T10:48:51.498Z"
   },
   {
    "duration": 20,
    "start_time": "2021-07-07T10:48:59.415Z"
   },
   {
    "duration": 20,
    "start_time": "2021-07-07T10:53:02.195Z"
   },
   {
    "duration": 188,
    "start_time": "2021-07-07T10:54:40.486Z"
   },
   {
    "duration": 115,
    "start_time": "2021-07-07T10:54:52.552Z"
   },
   {
    "duration": 214,
    "start_time": "2021-07-07T10:54:56.354Z"
   },
   {
    "duration": 47,
    "start_time": "2021-07-07T10:54:58.282Z"
   },
   {
    "duration": 217,
    "start_time": "2021-07-07T10:59:16.075Z"
   },
   {
    "duration": 51,
    "start_time": "2021-07-07T10:59:16.243Z"
   },
   {
    "duration": 578,
    "start_time": "2021-07-07T10:59:18.774Z"
   },
   {
    "duration": 161,
    "start_time": "2021-07-07T10:59:21.238Z"
   },
   {
    "duration": 59,
    "start_time": "2021-07-07T10:59:21.453Z"
   },
   {
    "duration": 3,
    "start_time": "2021-07-07T11:02:10.786Z"
   },
   {
    "duration": 13,
    "start_time": "2021-07-07T11:07:07.722Z"
   },
   {
    "duration": 26,
    "start_time": "2021-07-07T11:07:17.958Z"
   },
   {
    "duration": 22,
    "start_time": "2021-07-07T11:08:17.939Z"
   },
   {
    "duration": 212,
    "start_time": "2021-07-07T11:08:19.665Z"
   },
   {
    "duration": 21,
    "start_time": "2021-07-07T11:08:29.945Z"
   },
   {
    "duration": 31,
    "start_time": "2021-07-07T11:08:38.899Z"
   },
   {
    "duration": 23,
    "start_time": "2021-07-07T11:08:54.527Z"
   },
   {
    "duration": 8,
    "start_time": "2021-07-07T11:18:55.974Z"
   },
   {
    "duration": 7,
    "start_time": "2021-07-07T11:19:03.639Z"
   },
   {
    "duration": 7,
    "start_time": "2021-07-07T11:19:06.444Z"
   },
   {
    "duration": 578,
    "start_time": "2021-07-07T12:09:59.576Z"
   },
   {
    "duration": 195,
    "start_time": "2021-07-07T12:10:00.156Z"
   },
   {
    "duration": 115,
    "start_time": "2021-07-07T12:10:00.353Z"
   },
   {
    "duration": 3,
    "start_time": "2021-07-07T12:10:00.470Z"
   },
   {
    "duration": 32,
    "start_time": "2021-07-07T12:10:00.474Z"
   },
   {
    "duration": 23,
    "start_time": "2021-07-07T12:10:00.508Z"
   },
   {
    "duration": 19,
    "start_time": "2021-07-07T12:10:00.533Z"
   },
   {
    "duration": 44,
    "start_time": "2021-07-07T12:10:00.553Z"
   },
   {
    "duration": 7,
    "start_time": "2021-07-07T12:10:00.600Z"
   },
   {
    "duration": 7,
    "start_time": "2021-07-07T12:19:45.761Z"
   },
   {
    "duration": 21,
    "start_time": "2021-07-07T12:21:35.482Z"
   },
   {
    "duration": 21,
    "start_time": "2021-07-07T12:29:23.569Z"
   },
   {
    "duration": 525,
    "start_time": "2021-07-07T12:29:44.542Z"
   },
   {
    "duration": 214,
    "start_time": "2021-07-07T12:29:45.069Z"
   },
   {
    "duration": 92,
    "start_time": "2021-07-07T12:29:45.285Z"
   },
   {
    "duration": 3,
    "start_time": "2021-07-07T12:29:45.379Z"
   },
   {
    "duration": 28,
    "start_time": "2021-07-07T12:29:45.384Z"
   },
   {
    "duration": 23,
    "start_time": "2021-07-07T12:29:45.413Z"
   },
   {
    "duration": 21,
    "start_time": "2021-07-07T12:29:45.437Z"
   },
   {
    "duration": 41,
    "start_time": "2021-07-07T12:29:45.460Z"
   },
   {
    "duration": 7,
    "start_time": "2021-07-07T12:29:45.502Z"
   },
   {
    "duration": 20,
    "start_time": "2021-07-07T12:29:45.511Z"
   },
   {
    "duration": 12,
    "start_time": "2021-07-07T12:34:02.800Z"
   },
   {
    "duration": 7,
    "start_time": "2021-07-07T12:35:10.479Z"
   },
   {
    "duration": 8,
    "start_time": "2021-07-07T12:35:22.440Z"
   },
   {
    "duration": 6,
    "start_time": "2021-07-07T12:35:35.649Z"
   },
   {
    "duration": 6,
    "start_time": "2021-07-07T12:35:43.107Z"
   },
   {
    "duration": 22,
    "start_time": "2021-07-07T12:38:03.029Z"
   },
   {
    "duration": 10,
    "start_time": "2021-07-07T12:38:06.592Z"
   },
   {
    "duration": 563,
    "start_time": "2021-07-07T12:38:46.493Z"
   },
   {
    "duration": 265,
    "start_time": "2021-07-07T12:38:47.058Z"
   },
   {
    "duration": 94,
    "start_time": "2021-07-07T12:38:47.325Z"
   },
   {
    "duration": 3,
    "start_time": "2021-07-07T12:38:47.422Z"
   },
   {
    "duration": 30,
    "start_time": "2021-07-07T12:38:47.427Z"
   },
   {
    "duration": 16,
    "start_time": "2021-07-07T12:38:53.305Z"
   },
   {
    "duration": 10,
    "start_time": "2021-07-07T12:38:53.499Z"
   },
   {
    "duration": 8,
    "start_time": "2021-07-07T12:39:48.161Z"
   },
   {
    "duration": 27,
    "start_time": "2021-07-07T12:41:17.629Z"
   },
   {
    "duration": 17,
    "start_time": "2021-07-07T12:41:17.867Z"
   },
   {
    "duration": 21,
    "start_time": "2021-07-07T12:41:19.310Z"
   },
   {
    "duration": 7,
    "start_time": "2021-07-07T12:41:19.544Z"
   },
   {
    "duration": 20,
    "start_time": "2021-07-07T12:41:20.504Z"
   },
   {
    "duration": 554,
    "start_time": "2021-07-07T12:56:23.696Z"
   },
   {
    "duration": 200,
    "start_time": "2021-07-07T12:56:25.234Z"
   },
   {
    "duration": 119,
    "start_time": "2021-07-07T12:56:25.480Z"
   },
   {
    "duration": 4,
    "start_time": "2021-07-07T12:56:25.762Z"
   },
   {
    "duration": 26,
    "start_time": "2021-07-07T12:56:27.172Z"
   },
   {
    "duration": 12,
    "start_time": "2021-07-07T12:56:29.051Z"
   },
   {
    "duration": 10,
    "start_time": "2021-07-07T12:56:29.291Z"
   },
   {
    "duration": 8,
    "start_time": "2021-07-07T12:56:29.623Z"
   },
   {
    "duration": 28,
    "start_time": "2021-07-07T12:56:32.137Z"
   },
   {
    "duration": 19,
    "start_time": "2021-07-07T12:56:39.785Z"
   },
   {
    "duration": 20,
    "start_time": "2021-07-07T12:56:44.297Z"
   },
   {
    "duration": 7,
    "start_time": "2021-07-07T12:56:45.392Z"
   },
   {
    "duration": 23,
    "start_time": "2021-07-07T12:56:46.615Z"
   },
   {
    "duration": 4,
    "start_time": "2021-07-07T12:57:06.625Z"
   },
   {
    "duration": 32,
    "start_time": "2021-07-07T12:57:36.690Z"
   },
   {
    "duration": 18,
    "start_time": "2021-07-07T12:58:00.149Z"
   },
   {
    "duration": 15,
    "start_time": "2021-07-07T12:59:16.793Z"
   },
   {
    "duration": 7,
    "start_time": "2021-07-07T13:19:22.624Z"
   },
   {
    "duration": 6,
    "start_time": "2021-07-07T14:17:33.527Z"
   },
   {
    "duration": 9,
    "start_time": "2021-07-07T14:17:48.409Z"
   },
   {
    "duration": 8,
    "start_time": "2021-07-07T14:20:13.060Z"
   },
   {
    "duration": 8,
    "start_time": "2021-07-07T14:20:37.957Z"
   },
   {
    "duration": 8,
    "start_time": "2021-07-07T14:20:47.470Z"
   },
   {
    "duration": 9,
    "start_time": "2021-07-07T14:20:54.503Z"
   },
   {
    "duration": 10,
    "start_time": "2021-07-07T14:28:57.763Z"
   },
   {
    "duration": 3,
    "start_time": "2021-07-07T14:30:23.377Z"
   },
   {
    "duration": 3,
    "start_time": "2021-07-07T14:30:36.489Z"
   },
   {
    "duration": 103,
    "start_time": "2021-07-07T14:30:52.351Z"
   },
   {
    "duration": 8,
    "start_time": "2021-07-07T14:30:54.763Z"
   },
   {
    "duration": 8,
    "start_time": "2021-07-07T14:31:29.301Z"
   },
   {
    "duration": 13,
    "start_time": "2021-07-07T14:31:44.516Z"
   },
   {
    "duration": 7,
    "start_time": "2021-07-07T14:33:10.972Z"
   },
   {
    "duration": 11,
    "start_time": "2021-07-07T14:33:27.780Z"
   },
   {
    "duration": 8,
    "start_time": "2021-07-07T14:34:44.588Z"
   },
   {
    "duration": 57,
    "start_time": "2021-07-07T14:35:59.042Z"
   },
   {
    "duration": 3,
    "start_time": "2021-07-07T14:36:28.168Z"
   },
   {
    "duration": 5,
    "start_time": "2021-07-07T14:36:46.254Z"
   },
   {
    "duration": 4,
    "start_time": "2021-07-07T14:36:52.714Z"
   },
   {
    "duration": 3,
    "start_time": "2021-07-07T14:36:56.612Z"
   },
   {
    "duration": 4,
    "start_time": "2021-07-07T14:36:57.049Z"
   },
   {
    "duration": 3,
    "start_time": "2021-07-07T14:39:21.214Z"
   },
   {
    "duration": 7,
    "start_time": "2021-07-07T14:39:52.406Z"
   },
   {
    "duration": 11,
    "start_time": "2021-07-07T14:39:58.576Z"
   },
   {
    "duration": 9,
    "start_time": "2021-07-07T14:40:26.301Z"
   },
   {
    "duration": 10,
    "start_time": "2021-07-07T14:40:31.704Z"
   },
   {
    "duration": 11,
    "start_time": "2021-07-07T14:40:36.249Z"
   },
   {
    "duration": 10,
    "start_time": "2021-07-07T14:40:39.783Z"
   },
   {
    "duration": 9,
    "start_time": "2021-07-07T14:40:48.558Z"
   },
   {
    "duration": 10,
    "start_time": "2021-07-07T14:40:57.143Z"
   },
   {
    "duration": 9,
    "start_time": "2021-07-07T14:41:06.074Z"
   },
   {
    "duration": 4324,
    "start_time": "2021-07-07T14:41:22.004Z"
   },
   {
    "duration": 11,
    "start_time": "2021-07-07T14:41:33.392Z"
   },
   {
    "duration": 9,
    "start_time": "2021-07-07T14:41:39.288Z"
   },
   {
    "duration": 569,
    "start_time": "2021-07-07T14:42:14.387Z"
   },
   {
    "duration": 197,
    "start_time": "2021-07-07T14:42:14.959Z"
   },
   {
    "duration": 84,
    "start_time": "2021-07-07T14:42:16.052Z"
   },
   {
    "duration": 4,
    "start_time": "2021-07-07T14:42:16.900Z"
   },
   {
    "duration": 27,
    "start_time": "2021-07-07T14:42:19.898Z"
   },
   {
    "duration": 12,
    "start_time": "2021-07-07T14:42:21.577Z"
   },
   {
    "duration": 9,
    "start_time": "2021-07-07T14:42:21.813Z"
   },
   {
    "duration": 9,
    "start_time": "2021-07-07T14:42:22.569Z"
   },
   {
    "duration": 29,
    "start_time": "2021-07-07T14:42:25.837Z"
   },
   {
    "duration": 20,
    "start_time": "2021-07-07T14:42:27.003Z"
   },
   {
    "duration": 21,
    "start_time": "2021-07-07T14:42:28.767Z"
   },
   {
    "duration": 7,
    "start_time": "2021-07-07T14:42:29.838Z"
   },
   {
    "duration": 4,
    "start_time": "2021-07-07T14:43:25.493Z"
   },
   {
    "duration": 7,
    "start_time": "2021-07-07T14:43:26.573Z"
   },
   {
    "duration": 10,
    "start_time": "2021-07-07T14:43:31.639Z"
   },
   {
    "duration": 9,
    "start_time": "2021-07-07T14:43:32.046Z"
   },
   {
    "duration": 10,
    "start_time": "2021-07-07T14:43:33.301Z"
   },
   {
    "duration": 12,
    "start_time": "2021-07-07T14:43:33.658Z"
   },
   {
    "duration": 8,
    "start_time": "2021-07-07T14:43:34.552Z"
   },
   {
    "duration": 9,
    "start_time": "2021-07-07T14:43:35.058Z"
   },
   {
    "duration": 12,
    "start_time": "2021-07-07T14:43:35.914Z"
   },
   {
    "duration": 17,
    "start_time": "2021-07-07T14:45:34.368Z"
   },
   {
    "duration": 512,
    "start_time": "2021-07-07T14:51:58.236Z"
   },
   {
    "duration": 223,
    "start_time": "2021-07-07T14:51:58.750Z"
   },
   {
    "duration": 93,
    "start_time": "2021-07-07T14:51:58.977Z"
   },
   {
    "duration": 4,
    "start_time": "2021-07-07T14:51:59.071Z"
   },
   {
    "duration": 37,
    "start_time": "2021-07-07T14:51:59.077Z"
   },
   {
    "duration": 18,
    "start_time": "2021-07-07T14:51:59.116Z"
   },
   {
    "duration": 10,
    "start_time": "2021-07-07T14:51:59.137Z"
   },
   {
    "duration": 8,
    "start_time": "2021-07-07T14:51:59.149Z"
   },
   {
    "duration": 54,
    "start_time": "2021-07-07T14:51:59.158Z"
   },
   {
    "duration": 18,
    "start_time": "2021-07-07T14:51:59.213Z"
   },
   {
    "duration": 22,
    "start_time": "2021-07-07T14:51:59.232Z"
   },
   {
    "duration": 36,
    "start_time": "2021-07-07T14:51:59.255Z"
   },
   {
    "duration": 7,
    "start_time": "2021-07-07T14:51:59.293Z"
   },
   {
    "duration": 10,
    "start_time": "2021-07-07T14:51:59.302Z"
   },
   {
    "duration": 9,
    "start_time": "2021-07-07T14:51:59.313Z"
   },
   {
    "duration": 11,
    "start_time": "2021-07-07T14:51:59.324Z"
   },
   {
    "duration": 8,
    "start_time": "2021-07-07T14:51:59.337Z"
   },
   {
    "duration": 46,
    "start_time": "2021-07-07T14:51:59.347Z"
   },
   {
    "duration": 22,
    "start_time": "2021-07-07T14:51:59.395Z"
   },
   {
    "duration": 24,
    "start_time": "2021-07-07T14:57:32.911Z"
   },
   {
    "duration": 7,
    "start_time": "2021-07-07T14:58:22.070Z"
   },
   {
    "duration": 4,
    "start_time": "2021-07-07T14:59:11.239Z"
   },
   {
    "duration": 25,
    "start_time": "2021-07-07T15:07:22.208Z"
   },
   {
    "duration": 16,
    "start_time": "2021-07-07T15:08:25.560Z"
   },
   {
    "duration": 15,
    "start_time": "2021-07-07T15:08:40.647Z"
   },
   {
    "duration": 14,
    "start_time": "2021-07-07T15:08:46.669Z"
   },
   {
    "duration": 533,
    "start_time": "2021-07-07T15:18:07.440Z"
   },
   {
    "duration": 173,
    "start_time": "2021-07-07T15:18:07.974Z"
   },
   {
    "duration": 84,
    "start_time": "2021-07-07T15:18:08.149Z"
   },
   {
    "duration": 3,
    "start_time": "2021-07-07T15:18:08.235Z"
   },
   {
    "duration": 30,
    "start_time": "2021-07-07T15:18:08.240Z"
   },
   {
    "duration": 22,
    "start_time": "2021-07-07T15:18:08.272Z"
   },
   {
    "duration": 11,
    "start_time": "2021-07-07T15:18:08.295Z"
   },
   {
    "duration": 11,
    "start_time": "2021-07-07T15:18:08.309Z"
   },
   {
    "duration": 40,
    "start_time": "2021-07-07T15:18:08.322Z"
   },
   {
    "duration": 42,
    "start_time": "2021-07-07T15:18:08.364Z"
   },
   {
    "duration": 22,
    "start_time": "2021-07-07T15:18:08.408Z"
   },
   {
    "duration": 5,
    "start_time": "2021-07-07T15:18:08.432Z"
   },
   {
    "duration": 13,
    "start_time": "2021-07-07T15:18:08.439Z"
   },
   {
    "duration": 9,
    "start_time": "2021-07-07T15:18:08.454Z"
   },
   {
    "duration": 32,
    "start_time": "2021-07-07T15:18:08.465Z"
   },
   {
    "duration": 10,
    "start_time": "2021-07-07T15:18:08.501Z"
   },
   {
    "duration": 7,
    "start_time": "2021-07-07T15:18:08.513Z"
   },
   {
    "duration": 11,
    "start_time": "2021-07-07T15:18:08.521Z"
   },
   {
    "duration": 17,
    "start_time": "2021-07-07T15:18:08.534Z"
   },
   {
    "duration": 44,
    "start_time": "2021-07-07T15:18:08.553Z"
   },
   {
    "duration": 22,
    "start_time": "2021-07-07T15:18:08.599Z"
   },
   {
    "duration": 61,
    "start_time": "2021-07-07T15:18:08.622Z"
   },
   {
    "duration": 7,
    "start_time": "2021-07-07T15:18:39.457Z"
   },
   {
    "duration": 5,
    "start_time": "2021-07-07T16:05:17.020Z"
   },
   {
    "duration": 5,
    "start_time": "2021-07-07T16:51:28.794Z"
   },
   {
    "duration": 546,
    "start_time": "2021-07-07T16:52:26.306Z"
   },
   {
    "duration": 203,
    "start_time": "2021-07-07T16:52:27.523Z"
   },
   {
    "duration": 85,
    "start_time": "2021-07-07T16:52:27.736Z"
   },
   {
    "duration": 4,
    "start_time": "2021-07-07T16:52:27.899Z"
   },
   {
    "duration": 25,
    "start_time": "2021-07-07T16:52:28.674Z"
   },
   {
    "duration": 8,
    "start_time": "2021-07-07T16:52:32.956Z"
   },
   {
    "duration": 18,
    "start_time": "2021-07-07T16:52:35.616Z"
   },
   {
    "duration": 6,
    "start_time": "2021-07-07T16:52:36.913Z"
   },
   {
    "duration": 11,
    "start_time": "2021-07-07T16:52:40.258Z"
   },
   {
    "duration": 10,
    "start_time": "2021-07-07T16:52:46.251Z"
   },
   {
    "duration": 8,
    "start_time": "2021-07-07T16:52:47.182Z"
   },
   {
    "duration": 27,
    "start_time": "2021-07-07T16:53:20.391Z"
   },
   {
    "duration": 20,
    "start_time": "2021-07-07T16:53:22.022Z"
   },
   {
    "duration": 23,
    "start_time": "2021-07-07T16:53:23.690Z"
   },
   {
    "duration": 8,
    "start_time": "2021-07-07T16:53:24.261Z"
   },
   {
    "duration": 4,
    "start_time": "2021-07-07T16:53:38.733Z"
   },
   {
    "duration": 7,
    "start_time": "2021-07-07T16:53:40.445Z"
   },
   {
    "duration": 11,
    "start_time": "2021-07-07T16:53:41.348Z"
   },
   {
    "duration": 13,
    "start_time": "2021-07-07T16:53:45.250Z"
   },
   {
    "duration": 12,
    "start_time": "2021-07-07T16:53:45.467Z"
   },
   {
    "duration": 4,
    "start_time": "2021-07-07T16:55:32.704Z"
   },
   {
    "duration": 12,
    "start_time": "2021-07-07T16:55:49.012Z"
   },
   {
    "duration": 18,
    "start_time": "2021-07-07T16:55:49.547Z"
   },
   {
    "duration": 611,
    "start_time": "2021-07-07T16:58:35.156Z"
   },
   {
    "duration": 200,
    "start_time": "2021-07-07T16:58:35.770Z"
   },
   {
    "duration": 86,
    "start_time": "2021-07-07T16:58:35.972Z"
   },
   {
    "duration": 3,
    "start_time": "2021-07-07T16:58:36.060Z"
   },
   {
    "duration": 27,
    "start_time": "2021-07-07T16:58:36.065Z"
   },
   {
    "duration": 8,
    "start_time": "2021-07-07T16:58:36.094Z"
   },
   {
    "duration": 17,
    "start_time": "2021-07-07T16:58:36.103Z"
   },
   {
    "duration": 5,
    "start_time": "2021-07-07T16:58:36.123Z"
   },
   {
    "duration": 11,
    "start_time": "2021-07-07T16:58:36.130Z"
   },
   {
    "duration": 7,
    "start_time": "2021-07-07T16:58:36.143Z"
   },
   {
    "duration": 37,
    "start_time": "2021-07-07T16:58:36.152Z"
   },
   {
    "duration": 27,
    "start_time": "2021-07-07T16:58:36.191Z"
   },
   {
    "duration": 19,
    "start_time": "2021-07-07T16:58:36.219Z"
   },
   {
    "duration": 49,
    "start_time": "2021-07-07T16:58:36.240Z"
   },
   {
    "duration": 6,
    "start_time": "2021-07-07T16:58:36.291Z"
   },
   {
    "duration": 3,
    "start_time": "2021-07-07T16:58:36.299Z"
   },
   {
    "duration": 13,
    "start_time": "2021-07-07T16:58:36.304Z"
   },
   {
    "duration": 10,
    "start_time": "2021-07-07T16:58:36.319Z"
   },
   {
    "duration": 10,
    "start_time": "2021-07-07T16:58:36.331Z"
   },
   {
    "duration": 44,
    "start_time": "2021-07-07T16:58:36.343Z"
   },
   {
    "duration": 4,
    "start_time": "2021-07-07T16:58:36.388Z"
   },
   {
    "duration": 13,
    "start_time": "2021-07-07T16:58:36.394Z"
   },
   {
    "duration": 16,
    "start_time": "2021-07-07T16:58:36.410Z"
   },
   {
    "duration": 8,
    "start_time": "2021-07-07T17:02:31.629Z"
   },
   {
    "duration": 8,
    "start_time": "2021-07-07T17:02:34.308Z"
   },
   {
    "duration": 6,
    "start_time": "2021-07-07T17:05:13.483Z"
   },
   {
    "duration": 17,
    "start_time": "2021-07-07T17:05:20.606Z"
   },
   {
    "duration": 7,
    "start_time": "2021-07-07T17:05:34.638Z"
   },
   {
    "duration": 3,
    "start_time": "2021-07-07T17:06:31.883Z"
   },
   {
    "duration": 570,
    "start_time": "2021-07-07T17:06:37.165Z"
   },
   {
    "duration": 174,
    "start_time": "2021-07-07T17:06:37.737Z"
   },
   {
    "duration": 47,
    "start_time": "2021-07-07T17:06:37.913Z"
   },
   {
    "duration": 3,
    "start_time": "2021-07-07T17:06:37.962Z"
   },
   {
    "duration": 27,
    "start_time": "2021-07-07T17:06:37.967Z"
   },
   {
    "duration": 7,
    "start_time": "2021-07-07T17:06:37.996Z"
   },
   {
    "duration": 16,
    "start_time": "2021-07-07T17:06:38.005Z"
   },
   {
    "duration": 6,
    "start_time": "2021-07-07T17:06:38.024Z"
   },
   {
    "duration": 12,
    "start_time": "2021-07-07T17:06:38.031Z"
   },
   {
    "duration": 41,
    "start_time": "2021-07-07T17:06:38.045Z"
   },
   {
    "duration": 8,
    "start_time": "2021-07-07T17:06:38.088Z"
   },
   {
    "duration": 26,
    "start_time": "2021-07-07T17:06:38.098Z"
   },
   {
    "duration": 17,
    "start_time": "2021-07-07T17:06:38.126Z"
   },
   {
    "duration": 43,
    "start_time": "2021-07-07T17:06:38.144Z"
   },
   {
    "duration": 6,
    "start_time": "2021-07-07T17:06:38.188Z"
   },
   {
    "duration": 5,
    "start_time": "2021-07-07T17:06:38.195Z"
   },
   {
    "duration": 9,
    "start_time": "2021-07-07T17:06:38.201Z"
   },
   {
    "duration": 12,
    "start_time": "2021-07-07T17:06:38.212Z"
   },
   {
    "duration": 11,
    "start_time": "2021-07-07T17:06:38.226Z"
   },
   {
    "duration": 47,
    "start_time": "2021-07-07T17:06:38.239Z"
   },
   {
    "duration": 4,
    "start_time": "2021-07-07T17:06:38.288Z"
   },
   {
    "duration": 13,
    "start_time": "2021-07-07T17:06:38.293Z"
   },
   {
    "duration": 5,
    "start_time": "2021-07-07T17:06:38.309Z"
   },
   {
    "duration": 18,
    "start_time": "2021-07-07T17:06:38.325Z"
   },
   {
    "duration": 20,
    "start_time": "2021-07-07T17:07:02.805Z"
   },
   {
    "duration": 19,
    "start_time": "2021-07-07T17:07:08.527Z"
   },
   {
    "duration": 19,
    "start_time": "2021-07-07T17:07:12.758Z"
   },
   {
    "duration": 22,
    "start_time": "2021-07-07T17:07:17.497Z"
   },
   {
    "duration": 19,
    "start_time": "2021-07-07T17:07:19.645Z"
   },
   {
    "duration": 10,
    "start_time": "2021-07-07T17:07:34.239Z"
   },
   {
    "duration": 17,
    "start_time": "2021-07-07T17:07:54.144Z"
   },
   {
    "duration": 14,
    "start_time": "2021-07-07T17:08:14.357Z"
   },
   {
    "duration": 616,
    "start_time": "2021-07-07T17:08:45.254Z"
   },
   {
    "duration": 178,
    "start_time": "2021-07-07T17:08:45.872Z"
   },
   {
    "duration": 60,
    "start_time": "2021-07-07T17:08:46.054Z"
   },
   {
    "duration": 3,
    "start_time": "2021-07-07T17:08:46.116Z"
   },
   {
    "duration": 26,
    "start_time": "2021-07-07T17:08:46.121Z"
   },
   {
    "duration": 7,
    "start_time": "2021-07-07T17:08:46.149Z"
   },
   {
    "duration": 17,
    "start_time": "2021-07-07T17:08:46.158Z"
   },
   {
    "duration": 14,
    "start_time": "2021-07-07T17:08:46.176Z"
   },
   {
    "duration": 17,
    "start_time": "2021-07-07T17:08:46.193Z"
   },
   {
    "duration": 9,
    "start_time": "2021-07-07T17:08:46.211Z"
   },
   {
    "duration": 21,
    "start_time": "2021-07-07T17:08:46.221Z"
   },
   {
    "duration": 49,
    "start_time": "2021-07-07T17:08:46.244Z"
   },
   {
    "duration": 24,
    "start_time": "2021-07-07T17:08:46.295Z"
   },
   {
    "duration": 22,
    "start_time": "2021-07-07T17:08:46.321Z"
   },
   {
    "duration": 6,
    "start_time": "2021-07-07T17:08:46.345Z"
   },
   {
    "duration": 5,
    "start_time": "2021-07-07T17:08:46.353Z"
   },
   {
    "duration": 13,
    "start_time": "2021-07-07T17:08:46.386Z"
   },
   {
    "duration": 12,
    "start_time": "2021-07-07T17:08:46.402Z"
   },
   {
    "duration": 10,
    "start_time": "2021-07-07T17:08:46.415Z"
   },
   {
    "duration": 7,
    "start_time": "2021-07-07T17:08:46.427Z"
   },
   {
    "duration": 8,
    "start_time": "2021-07-07T17:08:46.435Z"
   },
   {
    "duration": 68,
    "start_time": "2021-07-07T17:08:46.446Z"
   },
   {
    "duration": 13,
    "start_time": "2021-07-07T17:08:46.516Z"
   },
   {
    "duration": 78,
    "start_time": "2021-07-07T17:08:46.530Z"
   },
   {
    "duration": 40,
    "start_time": "2021-07-07T17:09:08.185Z"
   },
   {
    "duration": 16,
    "start_time": "2021-07-07T17:09:19.324Z"
   },
   {
    "duration": 21,
    "start_time": "2021-07-07T17:09:23.290Z"
   },
   {
    "duration": 13,
    "start_time": "2021-07-07T17:09:54.812Z"
   },
   {
    "duration": 13,
    "start_time": "2021-07-07T17:10:02.039Z"
   },
   {
    "duration": 10,
    "start_time": "2021-07-07T17:10:29.632Z"
   },
   {
    "duration": 13,
    "start_time": "2021-07-07T17:10:52.372Z"
   },
   {
    "duration": 13,
    "start_time": "2021-07-07T17:11:17.270Z"
   },
   {
    "duration": 13,
    "start_time": "2021-07-07T17:14:59.284Z"
   },
   {
    "duration": 547,
    "start_time": "2021-07-07T17:18:52.403Z"
   },
   {
    "duration": 163,
    "start_time": "2021-07-07T17:18:52.952Z"
   },
   {
    "duration": 44,
    "start_time": "2021-07-07T17:18:53.117Z"
   },
   {
    "duration": 3,
    "start_time": "2021-07-07T17:18:53.162Z"
   },
   {
    "duration": 26,
    "start_time": "2021-07-07T17:18:53.167Z"
   },
   {
    "duration": 6,
    "start_time": "2021-07-07T17:18:53.195Z"
   },
   {
    "duration": 15,
    "start_time": "2021-07-07T17:18:53.203Z"
   },
   {
    "duration": 5,
    "start_time": "2021-07-07T17:18:53.220Z"
   },
   {
    "duration": 11,
    "start_time": "2021-07-07T17:18:53.228Z"
   },
   {
    "duration": 9,
    "start_time": "2021-07-07T17:18:53.241Z"
   },
   {
    "duration": 41,
    "start_time": "2021-07-07T17:18:53.252Z"
   },
   {
    "duration": 33,
    "start_time": "2021-07-07T17:18:53.295Z"
   },
   {
    "duration": 19,
    "start_time": "2021-07-07T17:18:53.330Z"
   },
   {
    "duration": 49,
    "start_time": "2021-07-07T17:18:53.350Z"
   },
   {
    "duration": 5,
    "start_time": "2021-07-07T17:18:53.401Z"
   },
   {
    "duration": 5,
    "start_time": "2021-07-07T17:18:53.408Z"
   },
   {
    "duration": 11,
    "start_time": "2021-07-07T17:18:53.414Z"
   },
   {
    "duration": 9,
    "start_time": "2021-07-07T17:18:53.427Z"
   },
   {
    "duration": 10,
    "start_time": "2021-07-07T17:18:53.437Z"
   },
   {
    "duration": 39,
    "start_time": "2021-07-07T17:18:53.448Z"
   },
   {
    "duration": 26,
    "start_time": "2021-07-07T17:18:55.799Z"
   },
   {
    "duration": 598,
    "start_time": "2021-07-07T17:20:17.862Z"
   },
   {
    "duration": 161,
    "start_time": "2021-07-07T17:20:18.462Z"
   },
   {
    "duration": 45,
    "start_time": "2021-07-07T17:20:18.626Z"
   },
   {
    "duration": 4,
    "start_time": "2021-07-07T17:20:18.673Z"
   },
   {
    "duration": 38,
    "start_time": "2021-07-07T17:20:26.877Z"
   },
   {
    "duration": 7,
    "start_time": "2021-07-07T17:20:37.405Z"
   },
   {
    "duration": 19,
    "start_time": "2021-07-07T17:20:51.534Z"
   },
   {
    "duration": 5,
    "start_time": "2021-07-07T17:20:57.228Z"
   },
   {
    "duration": 7,
    "start_time": "2021-07-07T17:21:08.235Z"
   },
   {
    "duration": 19,
    "start_time": "2021-07-07T17:21:42.158Z"
   },
   {
    "duration": 14,
    "start_time": "2021-07-07T17:21:50.225Z"
   },
   {
    "duration": 22,
    "start_time": "2021-07-07T17:22:54.104Z"
   },
   {
    "duration": 5,
    "start_time": "2021-07-07T17:22:56.371Z"
   },
   {
    "duration": 14,
    "start_time": "2021-07-07T17:22:58.316Z"
   },
   {
    "duration": 5,
    "start_time": "2021-07-07T17:22:58.493Z"
   },
   {
    "duration": 35,
    "start_time": "2021-07-07T17:22:59.666Z"
   },
   {
    "duration": 6,
    "start_time": "2021-07-07T17:23:02.410Z"
   },
   {
    "duration": 611,
    "start_time": "2021-07-07T17:24:59.664Z"
   },
   {
    "duration": 178,
    "start_time": "2021-07-07T17:25:01.945Z"
   },
   {
    "duration": 47,
    "start_time": "2021-07-07T17:25:02.125Z"
   },
   {
    "duration": 2,
    "start_time": "2021-07-07T17:25:07.903Z"
   },
   {
    "duration": 254,
    "start_time": "2021-07-07T17:25:08.232Z"
   },
   {
    "duration": 182,
    "start_time": "2021-07-07T17:25:08.671Z"
   },
   {
    "duration": 6,
    "start_time": "2021-07-07T17:25:13.104Z"
   },
   {
    "duration": 36,
    "start_time": "2021-07-07T17:25:13.662Z"
   },
   {
    "duration": 7,
    "start_time": "2021-07-07T17:25:14.528Z"
   },
   {
    "duration": 24,
    "start_time": "2021-07-07T17:25:27.982Z"
   },
   {
    "duration": 3,
    "start_time": "2021-07-07T17:25:48.982Z"
   },
   {
    "duration": 165,
    "start_time": "2021-07-07T17:25:48.987Z"
   },
   {
    "duration": 50,
    "start_time": "2021-07-07T17:25:49.154Z"
   },
   {
    "duration": 4,
    "start_time": "2021-07-07T17:25:49.206Z"
   },
   {
    "duration": 26,
    "start_time": "2021-07-07T17:25:49.212Z"
   },
   {
    "duration": 7,
    "start_time": "2021-07-07T17:25:49.240Z"
   },
   {
    "duration": 16,
    "start_time": "2021-07-07T17:25:49.249Z"
   },
   {
    "duration": 22,
    "start_time": "2021-07-07T17:25:49.266Z"
   },
   {
    "duration": 16,
    "start_time": "2021-07-07T17:25:49.291Z"
   },
   {
    "duration": 9,
    "start_time": "2021-07-07T17:25:49.309Z"
   },
   {
    "duration": 7,
    "start_time": "2021-07-07T17:25:49.319Z"
   },
   {
    "duration": 28,
    "start_time": "2021-07-07T17:25:49.328Z"
   },
   {
    "duration": 44,
    "start_time": "2021-07-07T17:25:49.357Z"
   },
   {
    "duration": 22,
    "start_time": "2021-07-07T17:25:49.403Z"
   },
   {
    "duration": 7,
    "start_time": "2021-07-07T17:25:49.427Z"
   },
   {
    "duration": 3,
    "start_time": "2021-07-07T17:25:49.436Z"
   },
   {
    "duration": 44,
    "start_time": "2021-07-07T17:25:49.441Z"
   },
   {
    "duration": 12,
    "start_time": "2021-07-07T17:25:49.488Z"
   },
   {
    "duration": 13,
    "start_time": "2021-07-07T17:25:49.502Z"
   },
   {
    "duration": 10,
    "start_time": "2021-07-07T17:25:49.516Z"
   },
   {
    "duration": 62,
    "start_time": "2021-07-07T17:25:49.527Z"
   },
   {
    "duration": 26,
    "start_time": "2021-07-07T17:26:51.809Z"
   },
   {
    "duration": 26,
    "start_time": "2021-07-07T17:26:55.759Z"
   },
   {
    "duration": 26,
    "start_time": "2021-07-07T17:27:04.501Z"
   },
   {
    "duration": 25,
    "start_time": "2021-07-07T17:28:24.859Z"
   },
   {
    "duration": 21,
    "start_time": "2021-07-07T17:28:55.250Z"
   },
   {
    "duration": 21,
    "start_time": "2021-07-07T17:28:58.885Z"
   },
   {
    "duration": 7,
    "start_time": "2021-07-07T17:45:40.972Z"
   },
   {
    "duration": 13,
    "start_time": "2021-07-07T17:45:42.529Z"
   },
   {
    "duration": 27,
    "start_time": "2021-07-07T17:45:51.026Z"
   },
   {
    "duration": 518,
    "start_time": "2021-07-07T17:46:15.532Z"
   },
   {
    "duration": 235,
    "start_time": "2021-07-07T17:46:16.053Z"
   },
   {
    "duration": 80,
    "start_time": "2021-07-07T17:46:16.292Z"
   },
   {
    "duration": 5,
    "start_time": "2021-07-07T17:46:16.373Z"
   },
   {
    "duration": 26,
    "start_time": "2021-07-07T17:46:16.380Z"
   },
   {
    "duration": 7,
    "start_time": "2021-07-07T17:46:16.408Z"
   },
   {
    "duration": 16,
    "start_time": "2021-07-07T17:46:16.418Z"
   },
   {
    "duration": 5,
    "start_time": "2021-07-07T17:46:16.436Z"
   },
   {
    "duration": 13,
    "start_time": "2021-07-07T17:46:16.442Z"
   },
   {
    "duration": 35,
    "start_time": "2021-07-07T17:46:16.456Z"
   },
   {
    "duration": 8,
    "start_time": "2021-07-07T17:46:16.493Z"
   },
   {
    "duration": 28,
    "start_time": "2021-07-07T17:46:16.502Z"
   },
   {
    "duration": 17,
    "start_time": "2021-07-07T17:46:16.532Z"
   },
   {
    "duration": 44,
    "start_time": "2021-07-07T17:46:16.551Z"
   },
   {
    "duration": 6,
    "start_time": "2021-07-07T17:46:16.597Z"
   },
   {
    "duration": 4,
    "start_time": "2021-07-07T17:46:16.605Z"
   },
   {
    "duration": 9,
    "start_time": "2021-07-07T17:46:16.610Z"
   },
   {
    "duration": 9,
    "start_time": "2021-07-07T17:46:16.621Z"
   },
   {
    "duration": 10,
    "start_time": "2021-07-07T17:46:16.632Z"
   },
   {
    "duration": 43,
    "start_time": "2021-07-07T17:46:16.644Z"
   },
   {
    "duration": 26,
    "start_time": "2021-07-07T17:46:16.689Z"
   },
   {
    "duration": 19,
    "start_time": "2021-07-07T17:46:16.718Z"
   },
   {
    "duration": 8,
    "start_time": "2021-07-07T17:46:16.738Z"
   },
   {
    "duration": 43,
    "start_time": "2021-07-07T17:46:16.747Z"
   },
   {
    "duration": 19,
    "start_time": "2021-07-07T17:46:16.791Z"
   },
   {
    "duration": 9,
    "start_time": "2021-07-07T17:46:16.812Z"
   },
   {
    "duration": 60,
    "start_time": "2021-07-07T17:46:16.822Z"
   },
   {
    "duration": -8,
    "start_time": "2021-07-07T17:46:16.892Z"
   },
   {
    "duration": 12,
    "start_time": "2021-07-07T17:48:47.707Z"
   },
   {
    "duration": 553,
    "start_time": "2021-07-07T18:10:09.350Z"
   },
   {
    "duration": 230,
    "start_time": "2021-07-07T18:10:09.905Z"
   },
   {
    "duration": 97,
    "start_time": "2021-07-07T18:10:10.137Z"
   },
   {
    "duration": 5,
    "start_time": "2021-07-07T18:10:10.236Z"
   },
   {
    "duration": 29,
    "start_time": "2021-07-07T18:10:10.242Z"
   },
   {
    "duration": 7,
    "start_time": "2021-07-07T18:10:10.272Z"
   },
   {
    "duration": 15,
    "start_time": "2021-07-07T18:10:10.281Z"
   },
   {
    "duration": 4,
    "start_time": "2021-07-07T18:10:10.299Z"
   },
   {
    "duration": 14,
    "start_time": "2021-07-07T18:10:10.305Z"
   },
   {
    "duration": 8,
    "start_time": "2021-07-07T18:10:10.321Z"
   },
   {
    "duration": 8,
    "start_time": "2021-07-07T18:10:10.331Z"
   },
   {
    "duration": 56,
    "start_time": "2021-07-07T18:10:10.341Z"
   },
   {
    "duration": 19,
    "start_time": "2021-07-07T18:10:10.399Z"
   },
   {
    "duration": 23,
    "start_time": "2021-07-07T18:10:10.419Z"
   },
   {
    "duration": 6,
    "start_time": "2021-07-07T18:10:10.444Z"
   },
   {
    "duration": 9,
    "start_time": "2021-07-07T18:10:10.451Z"
   },
   {
    "duration": 30,
    "start_time": "2021-07-07T18:10:10.462Z"
   },
   {
    "duration": 9,
    "start_time": "2021-07-07T18:10:10.494Z"
   },
   {
    "duration": 14,
    "start_time": "2021-07-07T18:10:10.505Z"
   },
   {
    "duration": 7,
    "start_time": "2021-07-07T18:10:10.521Z"
   },
   {
    "duration": 26,
    "start_time": "2021-07-07T18:10:10.530Z"
   },
   {
    "duration": 44,
    "start_time": "2021-07-07T18:10:10.558Z"
   },
   {
    "duration": 7,
    "start_time": "2021-07-07T18:10:10.605Z"
   },
   {
    "duration": 11,
    "start_time": "2021-07-07T18:10:10.614Z"
   },
   {
    "duration": 19,
    "start_time": "2021-07-07T18:10:10.626Z"
   },
   {
    "duration": 44,
    "start_time": "2021-07-07T18:10:10.646Z"
   },
   {
    "duration": 516,
    "start_time": "2021-07-07T18:14:00.826Z"
   },
   {
    "duration": 230,
    "start_time": "2021-07-07T18:14:01.344Z"
   },
   {
    "duration": 105,
    "start_time": "2021-07-07T18:14:01.576Z"
   },
   {
    "duration": 5,
    "start_time": "2021-07-07T18:14:01.683Z"
   },
   {
    "duration": 46,
    "start_time": "2021-07-07T18:14:01.690Z"
   },
   {
    "duration": 7,
    "start_time": "2021-07-07T18:14:01.738Z"
   },
   {
    "duration": 20,
    "start_time": "2021-07-07T18:14:01.747Z"
   },
   {
    "duration": 16,
    "start_time": "2021-07-07T18:14:01.769Z"
   },
   {
    "duration": 14,
    "start_time": "2021-07-07T18:14:01.787Z"
   },
   {
    "duration": 15,
    "start_time": "2021-07-07T18:14:01.803Z"
   },
   {
    "duration": 12,
    "start_time": "2021-07-07T18:14:01.820Z"
   },
   {
    "duration": 35,
    "start_time": "2021-07-07T18:14:01.833Z"
   },
   {
    "duration": 31,
    "start_time": "2021-07-07T18:14:01.869Z"
   },
   {
    "duration": 37,
    "start_time": "2021-07-07T18:14:01.902Z"
   },
   {
    "duration": 8,
    "start_time": "2021-07-07T18:14:01.942Z"
   },
   {
    "duration": 16,
    "start_time": "2021-07-07T18:14:01.952Z"
   },
   {
    "duration": 13,
    "start_time": "2021-07-07T18:14:01.970Z"
   },
   {
    "duration": 32,
    "start_time": "2021-07-07T18:14:01.985Z"
   },
   {
    "duration": 11,
    "start_time": "2021-07-07T18:14:02.019Z"
   },
   {
    "duration": 22,
    "start_time": "2021-07-07T18:14:02.031Z"
   },
   {
    "duration": 27,
    "start_time": "2021-07-07T18:14:02.055Z"
   },
   {
    "duration": 18,
    "start_time": "2021-07-07T18:14:02.084Z"
   },
   {
    "duration": 18,
    "start_time": "2021-07-07T18:14:02.106Z"
   },
   {
    "duration": 11,
    "start_time": "2021-07-07T18:14:02.126Z"
   },
   {
    "duration": 21,
    "start_time": "2021-07-07T18:14:02.138Z"
   },
   {
    "duration": 32,
    "start_time": "2021-07-07T18:14:02.161Z"
   },
   {
    "duration": 28,
    "start_time": "2021-07-07T18:14:44.295Z"
   },
   {
    "duration": 6,
    "start_time": "2021-07-07T18:15:05.834Z"
   },
   {
    "duration": 511,
    "start_time": "2021-07-07T18:15:41.541Z"
   },
   {
    "duration": 183,
    "start_time": "2021-07-07T18:15:42.054Z"
   },
   {
    "duration": 50,
    "start_time": "2021-07-07T18:15:42.239Z"
   },
   {
    "duration": 5,
    "start_time": "2021-07-07T18:15:42.291Z"
   },
   {
    "duration": 48,
    "start_time": "2021-07-07T18:15:42.297Z"
   },
   {
    "duration": 8,
    "start_time": "2021-07-07T18:15:42.346Z"
   },
   {
    "duration": 17,
    "start_time": "2021-07-07T18:15:42.356Z"
   },
   {
    "duration": 15,
    "start_time": "2021-07-07T18:15:42.375Z"
   },
   {
    "duration": 12,
    "start_time": "2021-07-07T18:15:42.392Z"
   },
   {
    "duration": 7,
    "start_time": "2021-07-07T18:15:42.406Z"
   },
   {
    "duration": 7,
    "start_time": "2021-07-07T18:15:42.415Z"
   },
   {
    "duration": 29,
    "start_time": "2021-07-07T18:15:42.423Z"
   },
   {
    "duration": 43,
    "start_time": "2021-07-07T18:15:42.453Z"
   },
   {
    "duration": 18,
    "start_time": "2021-07-07T18:15:42.497Z"
   },
   {
    "duration": 6,
    "start_time": "2021-07-07T18:15:42.516Z"
   },
   {
    "duration": 3,
    "start_time": "2021-07-07T18:15:42.523Z"
   },
   {
    "duration": 18,
    "start_time": "2021-07-07T18:15:42.528Z"
   },
   {
    "duration": 10,
    "start_time": "2021-07-07T18:15:42.547Z"
   },
   {
    "duration": 36,
    "start_time": "2021-07-07T18:15:42.559Z"
   },
   {
    "duration": 8,
    "start_time": "2021-07-07T18:15:42.597Z"
   },
   {
    "duration": 28,
    "start_time": "2021-07-07T18:15:42.606Z"
   },
   {
    "duration": 52,
    "start_time": "2021-07-07T18:15:42.635Z"
   },
   {
    "duration": 7,
    "start_time": "2021-07-07T18:15:42.690Z"
   },
   {
    "duration": 10,
    "start_time": "2021-07-07T18:15:42.699Z"
   },
   {
    "duration": 19,
    "start_time": "2021-07-07T18:15:42.711Z"
   },
   {
    "duration": 9,
    "start_time": "2021-07-07T18:15:42.732Z"
   },
   {
    "duration": 5,
    "start_time": "2021-07-07T18:15:42.743Z"
   },
   {
    "duration": 1450,
    "start_time": "2021-07-07T18:15:51.984Z"
   },
   {
    "duration": 161,
    "start_time": "2021-07-07T18:15:53.435Z"
   },
   {
    "duration": 124,
    "start_time": "2021-07-07T18:15:53.598Z"
   },
   {
    "duration": 5,
    "start_time": "2021-07-07T18:15:53.724Z"
   },
   {
    "duration": 34,
    "start_time": "2021-07-07T18:15:53.730Z"
   },
   {
    "duration": 7,
    "start_time": "2021-07-07T18:15:53.765Z"
   },
   {
    "duration": 15,
    "start_time": "2021-07-07T18:15:53.773Z"
   },
   {
    "duration": 5,
    "start_time": "2021-07-07T18:15:53.791Z"
   },
   {
    "duration": 19,
    "start_time": "2021-07-07T18:15:53.798Z"
   },
   {
    "duration": 9,
    "start_time": "2021-07-07T18:15:53.818Z"
   },
   {
    "duration": 19,
    "start_time": "2021-07-07T18:15:53.828Z"
   },
   {
    "duration": 27,
    "start_time": "2021-07-07T18:15:53.848Z"
   },
   {
    "duration": 16,
    "start_time": "2021-07-07T18:15:53.884Z"
   },
   {
    "duration": 29,
    "start_time": "2021-07-07T18:15:53.901Z"
   },
   {
    "duration": 5,
    "start_time": "2021-07-07T18:15:53.932Z"
   },
   {
    "duration": 15,
    "start_time": "2021-07-07T18:15:53.939Z"
   },
   {
    "duration": 13,
    "start_time": "2021-07-07T18:15:53.956Z"
   },
   {
    "duration": 20,
    "start_time": "2021-07-07T18:15:53.971Z"
   },
   {
    "duration": 14,
    "start_time": "2021-07-07T18:15:53.992Z"
   },
   {
    "duration": 9,
    "start_time": "2021-07-07T18:15:54.009Z"
   },
   {
    "duration": 28,
    "start_time": "2021-07-07T18:15:54.020Z"
   },
   {
    "duration": 50,
    "start_time": "2021-07-07T18:15:54.051Z"
   },
   {
    "duration": 8,
    "start_time": "2021-07-07T18:15:54.105Z"
   },
   {
    "duration": 11,
    "start_time": "2021-07-07T18:15:54.115Z"
   },
   {
    "duration": 20,
    "start_time": "2021-07-07T18:15:54.128Z"
   },
   {
    "duration": 13,
    "start_time": "2021-07-07T18:15:54.184Z"
   },
   {
    "duration": 7,
    "start_time": "2021-07-07T18:15:54.199Z"
   },
   {
    "duration": 7,
    "start_time": "2021-07-07T18:17:08.042Z"
   },
   {
    "duration": 8,
    "start_time": "2021-07-07T18:17:21.008Z"
   },
   {
    "duration": 7,
    "start_time": "2021-07-07T18:17:29.003Z"
   },
   {
    "duration": 8,
    "start_time": "2021-07-07T18:17:32.492Z"
   },
   {
    "duration": 9,
    "start_time": "2021-07-07T18:17:41.758Z"
   },
   {
    "duration": 255,
    "start_time": "2021-07-07T18:20:20.897Z"
   },
   {
    "duration": 173,
    "start_time": "2021-07-07T18:20:26.636Z"
   },
   {
    "duration": 7,
    "start_time": "2021-07-07T18:21:47.164Z"
   },
   {
    "duration": 254,
    "start_time": "2021-07-07T18:23:08.703Z"
   },
   {
    "duration": 21,
    "start_time": "2021-07-07T18:23:22.506Z"
   },
   {
    "duration": 315,
    "start_time": "2021-07-07T18:25:54.801Z"
   },
   {
    "duration": 34,
    "start_time": "2021-07-07T18:26:51.817Z"
   },
   {
    "duration": 327,
    "start_time": "2021-07-07T18:26:56.147Z"
   },
   {
    "duration": 342,
    "start_time": "2021-07-07T18:27:15.887Z"
   },
   {
    "duration": 302,
    "start_time": "2021-07-07T18:28:18.569Z"
   },
   {
    "duration": 226,
    "start_time": "2021-07-07T18:29:20.879Z"
   },
   {
    "duration": 207,
    "start_time": "2021-07-07T18:29:58.114Z"
   },
   {
    "duration": 140,
    "start_time": "2021-07-07T18:32:04.372Z"
   },
   {
    "duration": 158,
    "start_time": "2021-07-07T18:32:32.508Z"
   },
   {
    "duration": 145,
    "start_time": "2021-07-07T18:32:41.365Z"
   },
   {
    "duration": 132,
    "start_time": "2021-07-07T18:32:45.199Z"
   },
   {
    "duration": 11,
    "start_time": "2021-07-07T18:35:24.679Z"
   },
   {
    "duration": 268,
    "start_time": "2021-07-07T18:36:16.145Z"
   },
   {
    "duration": 227,
    "start_time": "2021-07-07T18:37:04.918Z"
   },
   {
    "duration": 3,
    "start_time": "2021-07-07T18:37:33.012Z"
   },
   {
    "duration": 671,
    "start_time": "2021-07-07T18:37:38.295Z"
   },
   {
    "duration": 54,
    "start_time": "2021-07-07T18:37:53.406Z"
   },
   {
    "duration": 631,
    "start_time": "2021-07-07T18:37:56.463Z"
   },
   {
    "duration": 19,
    "start_time": "2021-07-07T18:39:40.535Z"
   },
   {
    "duration": 20,
    "start_time": "2021-07-07T18:40:12.236Z"
   },
   {
    "duration": 633,
    "start_time": "2021-07-07T18:42:00.398Z"
   },
   {
    "duration": 218,
    "start_time": "2021-07-07T18:42:01.033Z"
   },
   {
    "duration": 49,
    "start_time": "2021-07-07T18:42:01.253Z"
   },
   {
    "duration": 5,
    "start_time": "2021-07-07T18:42:01.303Z"
   },
   {
    "duration": 27,
    "start_time": "2021-07-07T18:42:01.310Z"
   },
   {
    "duration": 8,
    "start_time": "2021-07-07T18:42:01.339Z"
   },
   {
    "duration": 20,
    "start_time": "2021-07-07T18:42:01.348Z"
   },
   {
    "duration": 6,
    "start_time": "2021-07-07T18:42:01.386Z"
   },
   {
    "duration": 16,
    "start_time": "2021-07-07T18:42:01.394Z"
   },
   {
    "duration": 9,
    "start_time": "2021-07-07T18:42:01.411Z"
   },
   {
    "duration": 11,
    "start_time": "2021-07-07T18:42:01.421Z"
   },
   {
    "duration": 31,
    "start_time": "2021-07-07T18:42:01.434Z"
   },
   {
    "duration": 18,
    "start_time": "2021-07-07T18:42:01.485Z"
   },
   {
    "duration": 23,
    "start_time": "2021-07-07T18:42:01.505Z"
   },
   {
    "duration": 6,
    "start_time": "2021-07-07T18:42:01.530Z"
   },
   {
    "duration": 10,
    "start_time": "2021-07-07T18:42:01.538Z"
   },
   {
    "duration": 13,
    "start_time": "2021-07-07T18:42:01.550Z"
   },
   {
    "duration": 24,
    "start_time": "2021-07-07T18:42:01.564Z"
   },
   {
    "duration": 20,
    "start_time": "2021-07-07T18:42:01.590Z"
   },
   {
    "duration": 8,
    "start_time": "2021-07-07T18:42:01.611Z"
   },
   {
    "duration": 31,
    "start_time": "2021-07-07T18:42:01.620Z"
   },
   {
    "duration": 39,
    "start_time": "2021-07-07T18:42:01.653Z"
   },
   {
    "duration": 8,
    "start_time": "2021-07-07T18:42:01.696Z"
   },
   {
    "duration": 13,
    "start_time": "2021-07-07T18:42:01.705Z"
   },
   {
    "duration": 20,
    "start_time": "2021-07-07T18:42:01.720Z"
   },
   {
    "duration": 12,
    "start_time": "2021-07-07T18:42:01.741Z"
   },
   {
    "duration": 35,
    "start_time": "2021-07-07T18:42:01.755Z"
   },
   {
    "duration": 14,
    "start_time": "2021-07-07T18:42:01.792Z"
   },
   {
    "duration": 188,
    "start_time": "2021-07-07T18:42:01.808Z"
   },
   {
    "duration": 19,
    "start_time": "2021-07-07T18:42:01.998Z"
   },
   {
    "duration": 175,
    "start_time": "2021-07-07T18:42:02.019Z"
   },
   {
    "duration": 134,
    "start_time": "2021-07-07T18:42:02.196Z"
   },
   {
    "duration": 10,
    "start_time": "2021-07-07T18:42:02.331Z"
   },
   {
    "duration": 19,
    "start_time": "2021-07-07T18:42:02.343Z"
   },
   {
    "duration": 628,
    "start_time": "2021-07-07T18:46:30.701Z"
   },
   {
    "duration": 183,
    "start_time": "2021-07-07T18:46:31.331Z"
   },
   {
    "duration": 48,
    "start_time": "2021-07-07T18:46:31.516Z"
   },
   {
    "duration": 5,
    "start_time": "2021-07-07T18:46:31.566Z"
   },
   {
    "duration": 28,
    "start_time": "2021-07-07T18:46:31.572Z"
   },
   {
    "duration": 8,
    "start_time": "2021-07-07T18:46:31.602Z"
   },
   {
    "duration": 19,
    "start_time": "2021-07-07T18:46:31.611Z"
   },
   {
    "duration": 6,
    "start_time": "2021-07-07T18:46:31.633Z"
   },
   {
    "duration": 17,
    "start_time": "2021-07-07T18:46:31.642Z"
   },
   {
    "duration": 10,
    "start_time": "2021-07-07T18:46:31.684Z"
   },
   {
    "duration": 9,
    "start_time": "2021-07-07T18:46:31.695Z"
   },
   {
    "duration": 28,
    "start_time": "2021-07-07T18:46:31.705Z"
   },
   {
    "duration": 18,
    "start_time": "2021-07-07T18:46:31.735Z"
   },
   {
    "duration": 48,
    "start_time": "2021-07-07T18:46:31.755Z"
   },
   {
    "duration": 6,
    "start_time": "2021-07-07T18:46:31.804Z"
   },
   {
    "duration": 4,
    "start_time": "2021-07-07T18:46:31.812Z"
   },
   {
    "duration": 9,
    "start_time": "2021-07-07T18:46:31.817Z"
   },
   {
    "duration": 10,
    "start_time": "2021-07-07T18:46:31.827Z"
   },
   {
    "duration": 12,
    "start_time": "2021-07-07T18:46:31.838Z"
   },
   {
    "duration": 39,
    "start_time": "2021-07-07T18:46:31.851Z"
   },
   {
    "duration": 24,
    "start_time": "2021-07-07T18:46:31.892Z"
   },
   {
    "duration": 15,
    "start_time": "2021-07-07T18:46:31.918Z"
   },
   {
    "duration": 7,
    "start_time": "2021-07-07T18:46:31.936Z"
   },
   {
    "duration": 8,
    "start_time": "2021-07-07T18:46:31.944Z"
   },
   {
    "duration": 19,
    "start_time": "2021-07-07T18:46:31.984Z"
   },
   {
    "duration": 10,
    "start_time": "2021-07-07T18:46:32.004Z"
   },
   {
    "duration": 5,
    "start_time": "2021-07-07T18:46:32.016Z"
   },
   {
    "duration": 9,
    "start_time": "2021-07-07T18:46:32.023Z"
   },
   {
    "duration": 199,
    "start_time": "2021-07-07T18:46:32.033Z"
   },
   {
    "duration": 19,
    "start_time": "2021-07-07T18:46:32.234Z"
   },
   {
    "duration": 159,
    "start_time": "2021-07-07T18:46:32.255Z"
   },
   {
    "duration": 134,
    "start_time": "2021-07-07T18:46:32.416Z"
   },
   {
    "duration": 10,
    "start_time": "2021-07-07T18:46:32.552Z"
   },
   {
    "duration": 34,
    "start_time": "2021-07-07T18:46:32.563Z"
   },
   {
    "duration": 1039,
    "start_time": "2021-07-08T08:41:09.419Z"
   },
   {
    "duration": 333,
    "start_time": "2021-07-08T08:41:10.459Z"
   },
   {
    "duration": 173,
    "start_time": "2021-07-08T08:41:10.794Z"
   },
   {
    "duration": 5,
    "start_time": "2021-07-08T08:41:10.968Z"
   },
   {
    "duration": 25,
    "start_time": "2021-07-08T08:41:10.975Z"
   },
   {
    "duration": 9,
    "start_time": "2021-07-08T08:41:11.002Z"
   },
   {
    "duration": 18,
    "start_time": "2021-07-08T08:41:11.013Z"
   },
   {
    "duration": 6,
    "start_time": "2021-07-08T08:41:11.033Z"
   },
   {
    "duration": 44,
    "start_time": "2021-07-08T08:41:11.042Z"
   },
   {
    "duration": 10,
    "start_time": "2021-07-08T08:41:11.088Z"
   },
   {
    "duration": 9,
    "start_time": "2021-07-08T08:41:11.100Z"
   },
   {
    "duration": 27,
    "start_time": "2021-07-08T08:41:11.111Z"
   },
   {
    "duration": 46,
    "start_time": "2021-07-08T08:41:11.140Z"
   },
   {
    "duration": 17,
    "start_time": "2021-07-08T08:41:11.187Z"
   },
   {
    "duration": 6,
    "start_time": "2021-07-08T08:41:11.206Z"
   },
   {
    "duration": 5,
    "start_time": "2021-07-08T08:41:11.213Z"
   },
   {
    "duration": 10,
    "start_time": "2021-07-08T08:41:11.219Z"
   },
   {
    "duration": 9,
    "start_time": "2021-07-08T08:41:11.230Z"
   },
   {
    "duration": 45,
    "start_time": "2021-07-08T08:41:11.241Z"
   },
   {
    "duration": 7,
    "start_time": "2021-07-08T08:41:11.287Z"
   },
   {
    "duration": 24,
    "start_time": "2021-07-08T08:41:11.296Z"
   },
   {
    "duration": 16,
    "start_time": "2021-07-08T08:41:11.322Z"
   },
   {
    "duration": 7,
    "start_time": "2021-07-08T08:41:11.341Z"
   },
   {
    "duration": 41,
    "start_time": "2021-07-08T08:41:11.349Z"
   },
   {
    "duration": 17,
    "start_time": "2021-07-08T08:41:11.391Z"
   },
   {
    "duration": 9,
    "start_time": "2021-07-08T08:41:11.410Z"
   },
   {
    "duration": 5,
    "start_time": "2021-07-08T08:41:11.421Z"
   },
   {
    "duration": 6,
    "start_time": "2021-07-08T08:41:11.428Z"
   },
   {
    "duration": 198,
    "start_time": "2021-07-08T08:41:11.435Z"
   },
   {
    "duration": 18,
    "start_time": "2021-07-08T08:41:11.635Z"
   },
   {
    "duration": 155,
    "start_time": "2021-07-08T08:41:11.655Z"
   },
   {
    "duration": 138,
    "start_time": "2021-07-08T08:41:11.811Z"
   },
   {
    "duration": 10,
    "start_time": "2021-07-08T08:41:11.950Z"
   },
   {
    "duration": 29,
    "start_time": "2021-07-08T08:41:11.961Z"
   },
   {
    "duration": 171,
    "start_time": "2021-07-08T08:47:44.522Z"
   },
   {
    "duration": 124,
    "start_time": "2021-07-08T08:47:46.872Z"
   },
   {
    "duration": 191,
    "start_time": "2021-07-08T08:47:58.148Z"
   },
   {
    "duration": 191,
    "start_time": "2021-07-08T08:48:07.412Z"
   },
   {
    "duration": 261,
    "start_time": "2021-07-08T08:48:10.385Z"
   },
   {
    "duration": 255,
    "start_time": "2021-07-08T08:48:14.494Z"
   },
   {
    "duration": 219,
    "start_time": "2021-07-08T08:48:22.752Z"
   },
   {
    "duration": 173,
    "start_time": "2021-07-08T08:49:06.395Z"
   },
   {
    "duration": 180,
    "start_time": "2021-07-08T08:49:21.011Z"
   },
   {
    "duration": 6,
    "start_time": "2021-07-08T08:50:31.697Z"
   },
   {
    "duration": 10,
    "start_time": "2021-07-08T08:50:47.394Z"
   },
   {
    "duration": 11,
    "start_time": "2021-07-08T08:53:49.332Z"
   },
   {
    "duration": 171,
    "start_time": "2021-07-08T08:54:28.408Z"
   },
   {
    "duration": 636,
    "start_time": "2021-07-08T09:02:48.385Z"
   },
   {
    "duration": 227,
    "start_time": "2021-07-08T09:02:49.023Z"
   },
   {
    "duration": 104,
    "start_time": "2021-07-08T09:02:49.252Z"
   },
   {
    "duration": 5,
    "start_time": "2021-07-08T09:02:49.358Z"
   },
   {
    "duration": 27,
    "start_time": "2021-07-08T09:02:49.365Z"
   },
   {
    "duration": 8,
    "start_time": "2021-07-08T09:02:49.394Z"
   },
   {
    "duration": 18,
    "start_time": "2021-07-08T09:02:49.404Z"
   },
   {
    "duration": 6,
    "start_time": "2021-07-08T09:02:49.424Z"
   },
   {
    "duration": 11,
    "start_time": "2021-07-08T09:02:49.433Z"
   },
   {
    "duration": 13,
    "start_time": "2021-07-08T09:02:49.485Z"
   },
   {
    "duration": 9,
    "start_time": "2021-07-08T09:02:49.500Z"
   },
   {
    "duration": 38,
    "start_time": "2021-07-08T09:02:49.511Z"
   },
   {
    "duration": 42,
    "start_time": "2021-07-08T09:02:49.551Z"
   },
   {
    "duration": 21,
    "start_time": "2021-07-08T09:02:49.594Z"
   },
   {
    "duration": 6,
    "start_time": "2021-07-08T09:02:49.616Z"
   },
   {
    "duration": 3,
    "start_time": "2021-07-08T09:02:49.623Z"
   },
   {
    "duration": 9,
    "start_time": "2021-07-08T09:02:49.628Z"
   },
   {
    "duration": 52,
    "start_time": "2021-07-08T09:02:49.638Z"
   },
   {
    "duration": 11,
    "start_time": "2021-07-08T09:02:49.692Z"
   },
   {
    "duration": 8,
    "start_time": "2021-07-08T09:02:49.704Z"
   },
   {
    "duration": 27,
    "start_time": "2021-07-08T09:02:49.713Z"
   },
   {
    "duration": 59,
    "start_time": "2021-07-08T09:02:49.741Z"
   },
   {
    "duration": 8,
    "start_time": "2021-07-08T09:02:49.803Z"
   },
   {
    "duration": 14,
    "start_time": "2021-07-08T09:02:49.813Z"
   },
   {
    "duration": 20,
    "start_time": "2021-07-08T09:02:49.829Z"
   },
   {
    "duration": 44,
    "start_time": "2021-07-08T09:02:49.851Z"
   },
   {
    "duration": 14,
    "start_time": "2021-07-08T09:02:49.896Z"
   },
   {
    "duration": 221,
    "start_time": "2021-07-08T09:02:49.912Z"
   },
   {
    "duration": 6,
    "start_time": "2021-07-08T09:02:50.134Z"
   },
   {
    "duration": 206,
    "start_time": "2021-07-08T09:02:50.142Z"
   },
   {
    "duration": 19,
    "start_time": "2021-07-08T09:02:50.350Z"
   },
   {
    "duration": 21,
    "start_time": "2021-07-08T09:02:50.370Z"
   },
   {
    "duration": 20,
    "start_time": "2021-07-08T09:02:50.393Z"
   },
   {
    "duration": 5,
    "start_time": "2021-07-08T09:02:50.414Z"
   },
   {
    "duration": 5,
    "start_time": "2021-07-08T09:03:34.173Z"
   },
   {
    "duration": 6,
    "start_time": "2021-07-08T09:04:49.062Z"
   },
   {
    "duration": 9,
    "start_time": "2021-07-08T09:04:50.118Z"
   },
   {
    "duration": 14,
    "start_time": "2021-07-08T09:04:58.512Z"
   },
   {
    "duration": 9,
    "start_time": "2021-07-08T09:05:10.988Z"
   },
   {
    "duration": 11,
    "start_time": "2021-07-08T09:05:11.743Z"
   },
   {
    "duration": 7,
    "start_time": "2021-07-08T09:05:25.677Z"
   },
   {
    "duration": 13,
    "start_time": "2021-07-08T09:05:47.189Z"
   },
   {
    "duration": 13,
    "start_time": "2021-07-08T09:05:54.755Z"
   },
   {
    "duration": 4,
    "start_time": "2021-07-08T09:06:29.189Z"
   },
   {
    "duration": 244,
    "start_time": "2021-07-08T09:06:29.195Z"
   },
   {
    "duration": 91,
    "start_time": "2021-07-08T09:06:29.441Z"
   },
   {
    "duration": 4,
    "start_time": "2021-07-08T09:06:29.534Z"
   },
   {
    "duration": 28,
    "start_time": "2021-07-08T09:06:29.540Z"
   },
   {
    "duration": 6,
    "start_time": "2021-07-08T09:06:29.570Z"
   },
   {
    "duration": 18,
    "start_time": "2021-07-08T09:06:29.578Z"
   },
   {
    "duration": 5,
    "start_time": "2021-07-08T09:06:29.597Z"
   },
   {
    "duration": 13,
    "start_time": "2021-07-08T09:06:29.605Z"
   },
   {
    "duration": 8,
    "start_time": "2021-07-08T09:06:29.620Z"
   },
   {
    "duration": 7,
    "start_time": "2021-07-08T09:06:29.630Z"
   },
   {
    "duration": 63,
    "start_time": "2021-07-08T09:06:29.639Z"
   },
   {
    "duration": 17,
    "start_time": "2021-07-08T09:06:29.704Z"
   },
   {
    "duration": 20,
    "start_time": "2021-07-08T09:06:29.723Z"
   },
   {
    "duration": 6,
    "start_time": "2021-07-08T09:06:29.745Z"
   },
   {
    "duration": 3,
    "start_time": "2021-07-08T09:06:29.752Z"
   },
   {
    "duration": 7,
    "start_time": "2021-07-08T09:06:29.785Z"
   },
   {
    "duration": 11,
    "start_time": "2021-07-08T09:06:29.794Z"
   },
   {
    "duration": 15,
    "start_time": "2021-07-08T09:06:29.807Z"
   },
   {
    "duration": 8,
    "start_time": "2021-07-08T09:06:29.823Z"
   },
   {
    "duration": 70,
    "start_time": "2021-07-08T09:06:29.832Z"
   },
   {
    "duration": 17,
    "start_time": "2021-07-08T09:06:29.903Z"
   },
   {
    "duration": 9,
    "start_time": "2021-07-08T09:06:29.921Z"
   },
   {
    "duration": 9,
    "start_time": "2021-07-08T09:06:29.932Z"
   },
   {
    "duration": 57,
    "start_time": "2021-07-08T09:06:29.942Z"
   },
   {
    "duration": 11,
    "start_time": "2021-07-08T09:06:30.001Z"
   },
   {
    "duration": 19,
    "start_time": "2021-07-08T09:06:30.016Z"
   },
   {
    "duration": 217,
    "start_time": "2021-07-08T09:06:30.037Z"
   },
   {
    "duration": 6,
    "start_time": "2021-07-08T09:06:30.255Z"
   },
   {
    "duration": 205,
    "start_time": "2021-07-08T09:06:30.263Z"
   },
   {
    "duration": 27,
    "start_time": "2021-07-08T09:06:30.470Z"
   },
   {
    "duration": 11,
    "start_time": "2021-07-08T09:06:30.500Z"
   },
   {
    "duration": 31,
    "start_time": "2021-07-08T09:06:30.513Z"
   },
   {
    "duration": 18,
    "start_time": "2021-07-08T09:06:30.546Z"
   },
   {
    "duration": 11,
    "start_time": "2021-07-08T09:06:30.566Z"
   },
   {
    "duration": 19,
    "start_time": "2021-07-08T09:06:30.579Z"
   },
   {
    "duration": 20,
    "start_time": "2021-07-08T09:06:49.466Z"
   },
   {
    "duration": 9,
    "start_time": "2021-07-08T09:06:51.994Z"
   },
   {
    "duration": 20,
    "start_time": "2021-07-08T09:06:52.273Z"
   },
   {
    "duration": 246,
    "start_time": "2021-07-08T09:10:21.272Z"
   },
   {
    "duration": 84,
    "start_time": "2021-07-08T09:10:21.436Z"
   },
   {
    "duration": 7,
    "start_time": "2021-07-08T09:10:37.608Z"
   },
   {
    "duration": 189,
    "start_time": "2021-07-08T09:10:38.573Z"
   },
   {
    "duration": 185,
    "start_time": "2021-07-08T09:10:53.181Z"
   },
   {
    "duration": 11,
    "start_time": "2021-07-08T09:10:59.549Z"
   },
   {
    "duration": 42,
    "start_time": "2021-07-08T09:10:59.709Z"
   },
   {
    "duration": 12,
    "start_time": "2021-07-08T09:11:02.857Z"
   },
   {
    "duration": 28,
    "start_time": "2021-07-08T09:11:10.062Z"
   },
   {
    "duration": 249,
    "start_time": "2021-07-08T09:11:37.388Z"
   },
   {
    "duration": 232,
    "start_time": "2021-07-08T09:11:49.485Z"
   },
   {
    "duration": 453,
    "start_time": "2021-07-08T09:12:01.546Z"
   },
   {
    "duration": 440,
    "start_time": "2021-07-08T09:12:12.347Z"
   },
   {
    "duration": 213,
    "start_time": "2021-07-08T09:13:32.196Z"
   },
   {
    "duration": 172,
    "start_time": "2021-07-08T09:14:07.400Z"
   },
   {
    "duration": 185,
    "start_time": "2021-07-08T09:14:14.905Z"
   },
   {
    "duration": 209,
    "start_time": "2021-07-08T09:14:40.109Z"
   },
   {
    "duration": 201,
    "start_time": "2021-07-08T09:14:54.506Z"
   },
   {
    "duration": 622,
    "start_time": "2021-07-08T09:18:14.497Z"
   },
   {
    "duration": 220,
    "start_time": "2021-07-08T09:18:15.121Z"
   },
   {
    "duration": 79,
    "start_time": "2021-07-08T09:18:15.343Z"
   },
   {
    "duration": 4,
    "start_time": "2021-07-08T09:18:15.425Z"
   },
   {
    "duration": 24,
    "start_time": "2021-07-08T09:18:15.431Z"
   },
   {
    "duration": 8,
    "start_time": "2021-07-08T09:18:15.457Z"
   },
   {
    "duration": 16,
    "start_time": "2021-07-08T09:18:15.466Z"
   },
   {
    "duration": 5,
    "start_time": "2021-07-08T09:18:15.484Z"
   },
   {
    "duration": 10,
    "start_time": "2021-07-08T09:18:15.493Z"
   },
   {
    "duration": 8,
    "start_time": "2021-07-08T09:18:15.504Z"
   },
   {
    "duration": 7,
    "start_time": "2021-07-08T09:18:15.513Z"
   },
   {
    "duration": 26,
    "start_time": "2021-07-08T09:18:15.522Z"
   },
   {
    "duration": 49,
    "start_time": "2021-07-08T09:18:15.550Z"
   },
   {
    "duration": 21,
    "start_time": "2021-07-08T09:18:15.601Z"
   },
   {
    "duration": 8,
    "start_time": "2021-07-08T09:18:15.624Z"
   },
   {
    "duration": 3,
    "start_time": "2021-07-08T09:18:15.634Z"
   },
   {
    "duration": 8,
    "start_time": "2021-07-08T09:18:15.639Z"
   },
   {
    "duration": 45,
    "start_time": "2021-07-08T09:18:15.649Z"
   },
   {
    "duration": 13,
    "start_time": "2021-07-08T09:18:15.696Z"
   },
   {
    "duration": 10,
    "start_time": "2021-07-08T09:18:15.711Z"
   },
   {
    "duration": 64,
    "start_time": "2021-07-08T09:18:15.722Z"
   },
   {
    "duration": 19,
    "start_time": "2021-07-08T09:18:15.788Z"
   },
   {
    "duration": 9,
    "start_time": "2021-07-08T09:18:15.809Z"
   },
   {
    "duration": 9,
    "start_time": "2021-07-08T09:18:15.820Z"
   },
   {
    "duration": 18,
    "start_time": "2021-07-08T09:18:15.831Z"
   },
   {
    "duration": 43,
    "start_time": "2021-07-08T09:18:15.851Z"
   },
   {
    "duration": 12,
    "start_time": "2021-07-08T09:18:15.897Z"
   },
   {
    "duration": 219,
    "start_time": "2021-07-08T09:18:15.911Z"
   },
   {
    "duration": 8,
    "start_time": "2021-07-08T09:18:16.132Z"
   },
   {
    "duration": 199,
    "start_time": "2021-07-08T09:18:16.141Z"
   },
   {
    "duration": 18,
    "start_time": "2021-07-08T09:18:16.341Z"
   },
   {
    "duration": 24,
    "start_time": "2021-07-08T09:18:16.361Z"
   },
   {
    "duration": 24,
    "start_time": "2021-07-08T09:18:16.387Z"
   },
   {
    "duration": 211,
    "start_time": "2021-07-08T09:18:16.413Z"
   },
   {
    "duration": 18,
    "start_time": "2021-07-08T09:18:16.626Z"
   },
   {
    "duration": 596,
    "start_time": "2021-07-08T10:06:33.623Z"
   },
   {
    "duration": 181,
    "start_time": "2021-07-08T10:06:34.221Z"
   },
   {
    "duration": 176,
    "start_time": "2021-07-08T10:06:34.635Z"
   },
   {
    "duration": 239,
    "start_time": "2021-07-08T10:06:55.572Z"
   },
   {
    "duration": 6,
    "start_time": "2021-07-08T10:06:57.687Z"
   },
   {
    "duration": 4,
    "start_time": "2021-07-08T10:07:03.956Z"
   },
   {
    "duration": 4,
    "start_time": "2021-07-08T10:07:10.376Z"
   },
   {
    "duration": 4,
    "start_time": "2021-07-08T10:17:19.889Z"
   },
   {
    "duration": 3,
    "start_time": "2021-07-08T10:19:19.407Z"
   },
   {
    "duration": 197,
    "start_time": "2021-07-08T10:19:19.412Z"
   },
   {
    "duration": 127,
    "start_time": "2021-07-08T10:19:19.611Z"
   },
   {
    "duration": 4,
    "start_time": "2021-07-08T10:19:19.740Z"
   },
   {
    "duration": 27,
    "start_time": "2021-07-08T10:19:19.746Z"
   },
   {
    "duration": 7,
    "start_time": "2021-07-08T10:19:19.775Z"
   },
   {
    "duration": 30,
    "start_time": "2021-07-08T10:19:19.784Z"
   },
   {
    "duration": 7,
    "start_time": "2021-07-08T10:19:19.817Z"
   },
   {
    "duration": 26,
    "start_time": "2021-07-08T10:19:19.826Z"
   },
   {
    "duration": 18,
    "start_time": "2021-07-08T10:19:19.854Z"
   },
   {
    "duration": 14,
    "start_time": "2021-07-08T10:19:19.874Z"
   },
   {
    "duration": 48,
    "start_time": "2021-07-08T10:19:19.890Z"
   },
   {
    "duration": 17,
    "start_time": "2021-07-08T10:19:19.940Z"
   },
   {
    "duration": 38,
    "start_time": "2021-07-08T10:19:19.959Z"
   },
   {
    "duration": 8,
    "start_time": "2021-07-08T10:19:19.999Z"
   },
   {
    "duration": 15,
    "start_time": "2021-07-08T10:19:20.009Z"
   },
   {
    "duration": 22,
    "start_time": "2021-07-08T10:19:20.026Z"
   },
   {
    "duration": 10,
    "start_time": "2021-07-08T10:19:20.050Z"
   },
   {
    "duration": 10,
    "start_time": "2021-07-08T10:19:20.062Z"
   },
   {
    "duration": 20,
    "start_time": "2021-07-08T10:19:20.073Z"
   },
   {
    "duration": 29,
    "start_time": "2021-07-08T10:19:20.095Z"
   },
   {
    "duration": 17,
    "start_time": "2021-07-08T10:19:20.126Z"
   },
   {
    "duration": 40,
    "start_time": "2021-07-08T10:19:20.146Z"
   },
   {
    "duration": 15,
    "start_time": "2021-07-08T10:19:20.189Z"
   },
   {
    "duration": 19,
    "start_time": "2021-07-08T10:19:20.206Z"
   },
   {
    "duration": 10,
    "start_time": "2021-07-08T10:19:20.226Z"
   },
   {
    "duration": 11,
    "start_time": "2021-07-08T10:19:20.238Z"
   },
   {
    "duration": 297,
    "start_time": "2021-07-08T10:19:20.250Z"
   },
   {
    "duration": 6,
    "start_time": "2021-07-08T10:19:20.549Z"
   },
   {
    "duration": 191,
    "start_time": "2021-07-08T10:19:20.557Z"
   },
   {
    "duration": 19,
    "start_time": "2021-07-08T10:19:20.750Z"
   },
   {
    "duration": 20,
    "start_time": "2021-07-08T10:19:20.771Z"
   },
   {
    "duration": 15,
    "start_time": "2021-07-08T10:19:20.793Z"
   },
   {
    "duration": 222,
    "start_time": "2021-07-08T10:19:20.809Z"
   },
   {
    "duration": 20,
    "start_time": "2021-07-08T10:19:21.033Z"
   },
   {
    "duration": 27,
    "start_time": "2021-07-08T10:45:04.055Z"
   },
   {
    "duration": 8,
    "start_time": "2021-07-08T10:45:08.478Z"
   },
   {
    "duration": 8,
    "start_time": "2021-07-08T10:45:31.982Z"
   },
   {
    "duration": 10,
    "start_time": "2021-07-08T10:46:01.221Z"
   },
   {
    "duration": 17,
    "start_time": "2021-07-08T10:46:40.011Z"
   },
   {
    "duration": 193,
    "start_time": "2021-07-08T10:48:19.471Z"
   },
   {
    "duration": 225,
    "start_time": "2021-07-08T10:49:26.480Z"
   },
   {
    "duration": 204,
    "start_time": "2021-07-08T10:49:59.992Z"
   },
   {
    "duration": 435,
    "start_time": "2021-07-08T10:50:06.779Z"
   },
   {
    "duration": 199,
    "start_time": "2021-07-08T10:50:14.891Z"
   },
   {
    "duration": 204,
    "start_time": "2021-07-08T10:50:18.501Z"
   },
   {
    "duration": 244,
    "start_time": "2021-07-08T10:50:23.359Z"
   },
   {
    "duration": 192,
    "start_time": "2021-07-08T10:50:29.135Z"
   },
   {
    "duration": 218,
    "start_time": "2021-07-08T10:50:33.092Z"
   },
   {
    "duration": 207,
    "start_time": "2021-07-08T10:52:45.381Z"
   },
   {
    "duration": 5,
    "start_time": "2021-07-08T10:53:34.641Z"
   },
   {
    "duration": 196,
    "start_time": "2021-07-08T10:53:41.478Z"
   },
   {
    "duration": 43,
    "start_time": "2021-07-08T10:53:50.335Z"
   },
   {
    "duration": 32,
    "start_time": "2021-07-08T10:53:55.294Z"
   },
   {
    "duration": 55,
    "start_time": "2021-07-08T10:54:09.675Z"
   },
   {
    "duration": 16,
    "start_time": "2021-07-08T10:54:12.260Z"
   },
   {
    "duration": 15,
    "start_time": "2021-07-08T10:54:49.150Z"
   },
   {
    "duration": 20,
    "start_time": "2021-07-08T10:56:07.596Z"
   },
   {
    "duration": 16,
    "start_time": "2021-07-08T10:58:26.276Z"
   },
   {
    "duration": 22,
    "start_time": "2021-07-08T10:59:00.486Z"
   },
   {
    "duration": 18,
    "start_time": "2021-07-08T11:02:09.653Z"
   },
   {
    "duration": 10,
    "start_time": "2021-07-08T11:03:44.331Z"
   },
   {
    "duration": 10,
    "start_time": "2021-07-08T11:03:54.055Z"
   },
   {
    "duration": 12,
    "start_time": "2021-07-08T11:04:41.967Z"
   },
   {
    "duration": 24,
    "start_time": "2021-07-08T11:07:30.732Z"
   },
   {
    "duration": 6,
    "start_time": "2021-07-08T11:07:37.364Z"
   },
   {
    "duration": 16,
    "start_time": "2021-07-08T11:08:01.819Z"
   },
   {
    "duration": 17,
    "start_time": "2021-07-08T11:09:47.488Z"
   },
   {
    "duration": 246,
    "start_time": "2021-07-08T11:10:00.830Z"
   },
   {
    "duration": 18,
    "start_time": "2021-07-08T11:13:55.195Z"
   },
   {
    "duration": 204,
    "start_time": "2021-07-08T11:14:04.951Z"
   },
   {
    "duration": 19,
    "start_time": "2021-07-08T11:15:10.613Z"
   },
   {
    "duration": 680,
    "start_time": "2021-07-08T11:16:25.793Z"
   },
   {
    "duration": 451,
    "start_time": "2021-07-08T11:16:40.313Z"
   },
   {
    "duration": 469,
    "start_time": "2021-07-08T11:17:21.286Z"
   },
   {
    "duration": 20,
    "start_time": "2021-07-08T11:19:12.554Z"
   },
   {
    "duration": 35,
    "start_time": "2021-07-08T11:20:05.484Z"
   },
   {
    "duration": 53,
    "start_time": "2021-07-08T11:21:40.050Z"
   },
   {
    "duration": 13,
    "start_time": "2021-07-08T11:22:26.059Z"
   },
   {
    "duration": 19,
    "start_time": "2021-07-08T11:22:47.419Z"
   },
   {
    "duration": 25,
    "start_time": "2021-07-08T11:23:19.958Z"
   },
   {
    "duration": 29,
    "start_time": "2021-07-08T11:23:25.415Z"
   },
   {
    "duration": 10,
    "start_time": "2021-07-08T11:24:45.138Z"
   },
   {
    "duration": 19,
    "start_time": "2021-07-08T11:24:54.498Z"
   },
   {
    "duration": 12,
    "start_time": "2021-07-08T11:25:32.225Z"
   },
   {
    "duration": 19,
    "start_time": "2021-07-08T11:25:37.092Z"
   },
   {
    "duration": 17,
    "start_time": "2021-07-08T11:25:58.116Z"
   },
   {
    "duration": 15,
    "start_time": "2021-07-08T11:26:02.258Z"
   },
   {
    "duration": 8,
    "start_time": "2021-07-08T11:26:59.682Z"
   },
   {
    "duration": 184,
    "start_time": "2021-07-08T11:27:21.894Z"
   },
   {
    "duration": 8,
    "start_time": "2021-07-08T11:27:23.824Z"
   },
   {
    "duration": 202,
    "start_time": "2021-07-08T11:27:23.962Z"
   },
   {
    "duration": 360,
    "start_time": "2021-07-08T11:28:33.215Z"
   },
   {
    "duration": 231,
    "start_time": "2021-07-08T11:32:05.542Z"
   },
   {
    "duration": 607,
    "start_time": "2021-07-08T11:36:27.854Z"
   },
   {
    "duration": 241,
    "start_time": "2021-07-08T11:36:28.463Z"
   },
   {
    "duration": 67,
    "start_time": "2021-07-08T11:36:28.709Z"
   },
   {
    "duration": 5,
    "start_time": "2021-07-08T11:36:28.778Z"
   },
   {
    "duration": 32,
    "start_time": "2021-07-08T11:36:28.784Z"
   },
   {
    "duration": 11,
    "start_time": "2021-07-08T11:36:28.819Z"
   },
   {
    "duration": 20,
    "start_time": "2021-07-08T11:36:28.834Z"
   },
   {
    "duration": 36,
    "start_time": "2021-07-08T11:36:28.857Z"
   },
   {
    "duration": 16,
    "start_time": "2021-07-08T11:36:28.895Z"
   },
   {
    "duration": 14,
    "start_time": "2021-07-08T11:36:28.913Z"
   },
   {
    "duration": 9,
    "start_time": "2021-07-08T11:36:28.930Z"
   },
   {
    "duration": 55,
    "start_time": "2021-07-08T11:36:28.941Z"
   },
   {
    "duration": 27,
    "start_time": "2021-07-08T11:36:28.999Z"
   },
   {
    "duration": 30,
    "start_time": "2021-07-08T11:36:29.028Z"
   },
   {
    "duration": 31,
    "start_time": "2021-07-08T11:36:29.060Z"
   },
   {
    "duration": 3,
    "start_time": "2021-07-08T11:36:29.093Z"
   },
   {
    "duration": 12,
    "start_time": "2021-07-08T11:36:29.099Z"
   },
   {
    "duration": 11,
    "start_time": "2021-07-08T11:36:29.112Z"
   },
   {
    "duration": 12,
    "start_time": "2021-07-08T11:36:29.125Z"
   },
   {
    "duration": 9,
    "start_time": "2021-07-08T11:36:29.139Z"
   },
   {
    "duration": 31,
    "start_time": "2021-07-08T11:36:29.191Z"
   },
   {
    "duration": 17,
    "start_time": "2021-07-08T11:36:29.226Z"
   },
   {
    "duration": 7,
    "start_time": "2021-07-08T11:36:29.245Z"
   },
   {
    "duration": 10,
    "start_time": "2021-07-08T11:36:29.254Z"
   },
   {
    "duration": 30,
    "start_time": "2021-07-08T11:36:29.292Z"
   },
   {
    "duration": 11,
    "start_time": "2021-07-08T11:36:29.324Z"
   },
   {
    "duration": 11,
    "start_time": "2021-07-08T11:36:29.337Z"
   },
   {
    "duration": 230,
    "start_time": "2021-07-08T11:36:29.349Z"
   },
   {
    "duration": 13,
    "start_time": "2021-07-08T11:36:29.588Z"
   },
   {
    "duration": 205,
    "start_time": "2021-07-08T11:36:29.603Z"
   },
   {
    "duration": 20,
    "start_time": "2021-07-08T11:36:29.810Z"
   },
   {
    "duration": 9,
    "start_time": "2021-07-08T11:36:29.832Z"
   },
   {
    "duration": 16,
    "start_time": "2021-07-08T11:36:29.843Z"
   },
   {
    "duration": 283,
    "start_time": "2021-07-08T11:36:29.861Z"
   },
   {
    "duration": 50,
    "start_time": "2021-07-08T11:36:30.146Z"
   },
   {
    "duration": 14,
    "start_time": "2021-07-08T11:36:30.198Z"
   },
   {
    "duration": 11,
    "start_time": "2021-07-08T11:36:30.214Z"
   },
   {
    "duration": 245,
    "start_time": "2021-07-08T11:36:30.227Z"
   },
   {
    "duration": 439,
    "start_time": "2021-07-08T11:36:30.474Z"
   },
   {
    "duration": 210,
    "start_time": "2021-07-08T11:36:30.915Z"
   },
   {
    "duration": 15,
    "start_time": "2021-07-08T11:36:31.127Z"
   },
   {
    "duration": 17,
    "start_time": "2021-07-08T11:38:20.451Z"
   },
   {
    "duration": 642,
    "start_time": "2021-07-08T11:46:17.881Z"
   },
   {
    "duration": 210,
    "start_time": "2021-07-08T11:46:18.525Z"
   },
   {
    "duration": 104,
    "start_time": "2021-07-08T11:46:18.741Z"
   },
   {
    "duration": 8,
    "start_time": "2021-07-08T11:46:18.847Z"
   },
   {
    "duration": 25,
    "start_time": "2021-07-08T11:46:18.857Z"
   },
   {
    "duration": 14,
    "start_time": "2021-07-08T11:46:18.884Z"
   },
   {
    "duration": 22,
    "start_time": "2021-07-08T11:46:18.900Z"
   },
   {
    "duration": 5,
    "start_time": "2021-07-08T11:46:18.924Z"
   },
   {
    "duration": 13,
    "start_time": "2021-07-08T11:46:18.931Z"
   },
   {
    "duration": 45,
    "start_time": "2021-07-08T11:46:18.946Z"
   },
   {
    "duration": 12,
    "start_time": "2021-07-08T11:46:18.993Z"
   },
   {
    "duration": 38,
    "start_time": "2021-07-08T11:46:19.006Z"
   },
   {
    "duration": 50,
    "start_time": "2021-07-08T11:46:19.046Z"
   },
   {
    "duration": 29,
    "start_time": "2021-07-08T11:46:19.099Z"
   },
   {
    "duration": 7,
    "start_time": "2021-07-08T11:46:19.130Z"
   },
   {
    "duration": 3,
    "start_time": "2021-07-08T11:46:19.139Z"
   },
   {
    "duration": 11,
    "start_time": "2021-07-08T11:46:19.144Z"
   },
   {
    "duration": 40,
    "start_time": "2021-07-08T11:46:19.157Z"
   },
   {
    "duration": 15,
    "start_time": "2021-07-08T11:46:19.199Z"
   },
   {
    "duration": 10,
    "start_time": "2021-07-08T11:46:19.217Z"
   },
   {
    "duration": 68,
    "start_time": "2021-07-08T11:46:19.230Z"
   },
   {
    "duration": 17,
    "start_time": "2021-07-08T11:46:19.301Z"
   },
   {
    "duration": 7,
    "start_time": "2021-07-08T11:46:19.321Z"
   },
   {
    "duration": 11,
    "start_time": "2021-07-08T11:46:19.330Z"
   },
   {
    "duration": 59,
    "start_time": "2021-07-08T11:46:19.343Z"
   },
   {
    "duration": 17,
    "start_time": "2021-07-08T11:46:19.405Z"
   },
   {
    "duration": 16,
    "start_time": "2021-07-08T11:46:19.424Z"
   },
   {
    "duration": 252,
    "start_time": "2021-07-08T11:46:19.443Z"
   },
   {
    "duration": 9,
    "start_time": "2021-07-08T11:46:19.697Z"
   },
   {
    "duration": 224,
    "start_time": "2021-07-08T11:46:19.708Z"
   },
   {
    "duration": 21,
    "start_time": "2021-07-08T11:46:19.934Z"
   },
   {
    "duration": 9,
    "start_time": "2021-07-08T11:46:19.956Z"
   },
   {
    "duration": 32,
    "start_time": "2021-07-08T11:46:19.967Z"
   },
   {
    "duration": 288,
    "start_time": "2021-07-08T11:46:20.004Z"
   },
   {
    "duration": 23,
    "start_time": "2021-07-08T11:46:20.300Z"
   },
   {
    "duration": 11,
    "start_time": "2021-07-08T11:46:20.325Z"
   },
   {
    "duration": 11,
    "start_time": "2021-07-08T11:46:20.339Z"
   },
   {
    "duration": 259,
    "start_time": "2021-07-08T11:46:20.352Z"
   },
   {
    "duration": 438,
    "start_time": "2021-07-08T11:46:20.613Z"
   },
   {
    "duration": 207,
    "start_time": "2021-07-08T11:46:21.054Z"
   },
   {
    "duration": 27,
    "start_time": "2021-07-08T11:46:21.262Z"
   },
   {
    "duration": 19,
    "start_time": "2021-07-08T11:46:21.291Z"
   },
   {
    "duration": 820,
    "start_time": "2021-07-08T11:49:01.655Z"
   },
   {
    "duration": 372,
    "start_time": "2021-07-08T11:49:02.478Z"
   },
   {
    "duration": 98,
    "start_time": "2021-07-08T11:49:02.853Z"
   },
   {
    "duration": 6,
    "start_time": "2021-07-08T11:49:02.953Z"
   },
   {
    "duration": 39,
    "start_time": "2021-07-08T11:49:02.960Z"
   },
   {
    "duration": 9,
    "start_time": "2021-07-08T11:49:03.003Z"
   },
   {
    "duration": 23,
    "start_time": "2021-07-08T11:49:03.014Z"
   },
   {
    "duration": 6,
    "start_time": "2021-07-08T11:49:03.041Z"
   },
   {
    "duration": 20,
    "start_time": "2021-07-08T11:49:03.049Z"
   },
   {
    "duration": 18,
    "start_time": "2021-07-08T11:49:03.084Z"
   },
   {
    "duration": 14,
    "start_time": "2021-07-08T11:49:03.104Z"
   },
   {
    "duration": 39,
    "start_time": "2021-07-08T11:49:03.119Z"
   },
   {
    "duration": 38,
    "start_time": "2021-07-08T11:49:03.160Z"
   },
   {
    "duration": 26,
    "start_time": "2021-07-08T11:49:03.200Z"
   },
   {
    "duration": 7,
    "start_time": "2021-07-08T11:49:03.227Z"
   },
   {
    "duration": 4,
    "start_time": "2021-07-08T11:49:03.236Z"
   },
   {
    "duration": 15,
    "start_time": "2021-07-08T11:49:03.243Z"
   },
   {
    "duration": 21,
    "start_time": "2021-07-08T11:49:03.285Z"
   },
   {
    "duration": 17,
    "start_time": "2021-07-08T11:49:03.309Z"
   },
   {
    "duration": 10,
    "start_time": "2021-07-08T11:49:03.328Z"
   },
   {
    "duration": 65,
    "start_time": "2021-07-08T11:49:03.340Z"
   },
   {
    "duration": 18,
    "start_time": "2021-07-08T11:49:03.407Z"
   },
   {
    "duration": 8,
    "start_time": "2021-07-08T11:49:03.428Z"
   },
   {
    "duration": 15,
    "start_time": "2021-07-08T11:49:03.438Z"
   },
   {
    "duration": 40,
    "start_time": "2021-07-08T11:49:03.455Z"
   },
   {
    "duration": 12,
    "start_time": "2021-07-08T11:49:03.497Z"
   },
   {
    "duration": 29,
    "start_time": "2021-07-08T11:49:03.511Z"
   },
   {
    "duration": 285,
    "start_time": "2021-07-08T11:49:03.542Z"
   },
   {
    "duration": 8,
    "start_time": "2021-07-08T11:49:03.829Z"
   },
   {
    "duration": 227,
    "start_time": "2021-07-08T11:49:03.838Z"
   },
   {
    "duration": 40,
    "start_time": "2021-07-08T11:49:04.066Z"
   },
   {
    "duration": 10,
    "start_time": "2021-07-08T11:49:04.108Z"
   },
   {
    "duration": 26,
    "start_time": "2021-07-08T11:49:04.121Z"
   },
   {
    "duration": 290,
    "start_time": "2021-07-08T11:49:04.149Z"
   },
   {
    "duration": 26,
    "start_time": "2021-07-08T11:49:04.441Z"
   },
   {
    "duration": 31,
    "start_time": "2021-07-08T11:49:04.470Z"
   },
   {
    "duration": 14,
    "start_time": "2021-07-08T11:49:04.503Z"
   },
   {
    "duration": 259,
    "start_time": "2021-07-08T11:49:04.521Z"
   },
   {
    "duration": 480,
    "start_time": "2021-07-08T11:49:04.782Z"
   },
   {
    "duration": 225,
    "start_time": "2021-07-08T11:49:05.264Z"
   },
   {
    "duration": 22,
    "start_time": "2021-07-08T11:49:05.491Z"
   },
   {
    "duration": 24,
    "start_time": "2021-07-08T11:49:05.515Z"
   },
   {
    "duration": 634,
    "start_time": "2021-07-08T11:52:24.960Z"
   },
   {
    "duration": 199,
    "start_time": "2021-07-08T11:52:25.599Z"
   },
   {
    "duration": 106,
    "start_time": "2021-07-08T11:52:25.803Z"
   },
   {
    "duration": 7,
    "start_time": "2021-07-08T11:52:25.911Z"
   },
   {
    "duration": 29,
    "start_time": "2021-07-08T11:52:25.920Z"
   },
   {
    "duration": 7,
    "start_time": "2021-07-08T11:52:25.951Z"
   },
   {
    "duration": 26,
    "start_time": "2021-07-08T11:52:25.961Z"
   },
   {
    "duration": 11,
    "start_time": "2021-07-08T11:52:25.990Z"
   },
   {
    "duration": 29,
    "start_time": "2021-07-08T11:52:26.005Z"
   },
   {
    "duration": 9,
    "start_time": "2021-07-08T11:52:26.036Z"
   },
   {
    "duration": 8,
    "start_time": "2021-07-08T11:52:26.047Z"
   },
   {
    "duration": 63,
    "start_time": "2021-07-08T11:52:26.057Z"
   },
   {
    "duration": 17,
    "start_time": "2021-07-08T11:52:26.122Z"
   },
   {
    "duration": 43,
    "start_time": "2021-07-08T11:52:26.142Z"
   },
   {
    "duration": 17,
    "start_time": "2021-07-08T11:52:26.187Z"
   },
   {
    "duration": 5,
    "start_time": "2021-07-08T11:52:26.206Z"
   },
   {
    "duration": 12,
    "start_time": "2021-07-08T11:52:26.212Z"
   },
   {
    "duration": 11,
    "start_time": "2021-07-08T11:52:26.226Z"
   },
   {
    "duration": 12,
    "start_time": "2021-07-08T11:52:26.238Z"
   },
   {
    "duration": 38,
    "start_time": "2021-07-08T11:52:26.252Z"
   },
   {
    "duration": 40,
    "start_time": "2021-07-08T11:52:26.292Z"
   },
   {
    "duration": 17,
    "start_time": "2021-07-08T11:52:26.336Z"
   },
   {
    "duration": 39,
    "start_time": "2021-07-08T11:52:26.355Z"
   },
   {
    "duration": 11,
    "start_time": "2021-07-08T11:52:26.395Z"
   },
   {
    "duration": 23,
    "start_time": "2021-07-08T11:52:26.408Z"
   },
   {
    "duration": 12,
    "start_time": "2021-07-08T11:52:26.432Z"
   },
   {
    "duration": 41,
    "start_time": "2021-07-08T11:52:26.446Z"
   },
   {
    "duration": 215,
    "start_time": "2021-07-08T11:52:26.493Z"
   },
   {
    "duration": 8,
    "start_time": "2021-07-08T11:52:26.710Z"
   },
   {
    "duration": 228,
    "start_time": "2021-07-08T11:52:26.720Z"
   },
   {
    "duration": 18,
    "start_time": "2021-07-08T11:52:26.950Z"
   },
   {
    "duration": 35,
    "start_time": "2021-07-08T11:52:26.969Z"
   },
   {
    "duration": 23,
    "start_time": "2021-07-08T11:52:27.006Z"
   },
   {
    "duration": 258,
    "start_time": "2021-07-08T11:52:27.030Z"
   },
   {
    "duration": 24,
    "start_time": "2021-07-08T11:52:27.290Z"
   },
   {
    "duration": 12,
    "start_time": "2021-07-08T11:52:27.316Z"
   },
   {
    "duration": 10,
    "start_time": "2021-07-08T11:52:27.329Z"
   },
   {
    "duration": 298,
    "start_time": "2021-07-08T11:52:27.341Z"
   },
   {
    "duration": 436,
    "start_time": "2021-07-08T11:52:27.641Z"
   },
   {
    "duration": 216,
    "start_time": "2021-07-08T11:52:28.079Z"
   },
   {
    "duration": 20,
    "start_time": "2021-07-08T11:52:28.297Z"
   },
   {
    "duration": 17,
    "start_time": "2021-07-08T11:52:28.319Z"
   },
   {
    "duration": 1291,
    "start_time": "2022-11-02T17:57:13.476Z"
   },
   {
    "duration": 352,
    "start_time": "2022-11-02T17:57:36.908Z"
   },
   {
    "duration": 247,
    "start_time": "2022-11-02T17:58:19.151Z"
   },
   {
    "duration": 99,
    "start_time": "2022-11-02T17:58:29.205Z"
   },
   {
    "duration": 81,
    "start_time": "2022-11-02T17:58:37.007Z"
   },
   {
    "duration": 98,
    "start_time": "2022-11-02T17:59:13.191Z"
   },
   {
    "duration": 54,
    "start_time": "2022-11-02T17:59:33.202Z"
   },
   {
    "duration": 109,
    "start_time": "2022-11-02T18:10:02.855Z"
   },
   {
    "duration": 49,
    "start_time": "2022-11-02T18:10:10.705Z"
   },
   {
    "duration": 17,
    "start_time": "2022-11-02T18:12:49.633Z"
   },
   {
    "duration": 11,
    "start_time": "2022-11-02T18:13:11.967Z"
   },
   {
    "duration": 118,
    "start_time": "2022-11-02T18:50:07.942Z"
   },
   {
    "duration": 238,
    "start_time": "2022-11-02T18:54:01.633Z"
   },
   {
    "duration": 177,
    "start_time": "2022-11-02T18:54:35.511Z"
   },
   {
    "duration": 10,
    "start_time": "2022-11-02T18:55:18.270Z"
   },
   {
    "duration": 5,
    "start_time": "2022-11-02T18:56:45.552Z"
   },
   {
    "duration": 208,
    "start_time": "2022-11-02T18:58:39.268Z"
   },
   {
    "duration": 10,
    "start_time": "2022-11-02T19:05:01.651Z"
   },
   {
    "duration": 29,
    "start_time": "2022-11-02T19:07:08.170Z"
   },
   {
    "duration": 58,
    "start_time": "2022-11-02T19:15:46.501Z"
   },
   {
    "duration": 15,
    "start_time": "2022-11-02T19:15:54.619Z"
   },
   {
    "duration": 5,
    "start_time": "2022-11-02T19:17:26.680Z"
   },
   {
    "duration": 199,
    "start_time": "2022-11-02T19:17:34.231Z"
   },
   {
    "duration": 175,
    "start_time": "2022-11-02T19:18:09.083Z"
   },
   {
    "duration": 5,
    "start_time": "2022-11-02T19:18:24.658Z"
   },
   {
    "duration": 275,
    "start_time": "2022-11-02T19:18:31.493Z"
   },
   {
    "duration": 175,
    "start_time": "2022-11-02T19:19:24.218Z"
   },
   {
    "duration": 194,
    "start_time": "2022-11-02T19:19:39.587Z"
   },
   {
    "duration": 4,
    "start_time": "2022-11-02T19:19:43.259Z"
   },
   {
    "duration": 192,
    "start_time": "2022-11-02T19:19:48.172Z"
   },
   {
    "duration": 4,
    "start_time": "2022-11-02T19:20:22.134Z"
   },
   {
    "duration": 5,
    "start_time": "2022-11-02T19:21:10.375Z"
   },
   {
    "duration": 5,
    "start_time": "2022-11-02T19:21:12.481Z"
   },
   {
    "duration": 5,
    "start_time": "2022-11-02T19:22:10.157Z"
   },
   {
    "duration": 4,
    "start_time": "2022-11-02T19:22:11.058Z"
   },
   {
    "duration": 16,
    "start_time": "2022-11-02T19:22:13.109Z"
   },
   {
    "duration": 12,
    "start_time": "2022-11-02T19:22:21.695Z"
   },
   {
    "duration": 12,
    "start_time": "2022-11-02T19:22:39.065Z"
   },
   {
    "duration": 12,
    "start_time": "2022-11-02T19:22:57.370Z"
   },
   {
    "duration": 6,
    "start_time": "2022-11-02T19:23:28.286Z"
   },
   {
    "duration": 3,
    "start_time": "2022-11-02T19:23:48.699Z"
   },
   {
    "duration": 99,
    "start_time": "2022-11-02T19:23:48.704Z"
   },
   {
    "duration": 41,
    "start_time": "2022-11-02T19:23:48.804Z"
   },
   {
    "duration": 13,
    "start_time": "2022-11-02T19:23:48.847Z"
   },
   {
    "duration": 14,
    "start_time": "2022-11-02T19:23:48.862Z"
   },
   {
    "duration": 25,
    "start_time": "2022-11-02T19:23:48.878Z"
   },
   {
    "duration": 16,
    "start_time": "2022-11-02T19:23:48.905Z"
   },
   {
    "duration": 22,
    "start_time": "2022-11-02T19:23:48.923Z"
   },
   {
    "duration": 45,
    "start_time": "2022-11-02T19:23:48.947Z"
   },
   {
    "duration": 3,
    "start_time": "2022-11-02T19:24:15.863Z"
   },
   {
    "duration": 14,
    "start_time": "2022-11-02T19:24:24.423Z"
   },
   {
    "duration": 11,
    "start_time": "2022-11-02T19:24:31.952Z"
   },
   {
    "duration": 4,
    "start_time": "2022-11-02T19:24:39.302Z"
   },
   {
    "duration": 111,
    "start_time": "2022-11-02T19:24:39.308Z"
   },
   {
    "duration": 41,
    "start_time": "2022-11-02T19:24:39.421Z"
   },
   {
    "duration": 15,
    "start_time": "2022-11-02T19:24:39.463Z"
   },
   {
    "duration": 10,
    "start_time": "2022-11-02T19:24:39.481Z"
   },
   {
    "duration": 7,
    "start_time": "2022-11-02T19:24:39.493Z"
   },
   {
    "duration": 10,
    "start_time": "2022-11-02T19:24:39.501Z"
   },
   {
    "duration": 25,
    "start_time": "2022-11-02T19:24:39.513Z"
   },
   {
    "duration": 0,
    "start_time": "2022-11-02T19:24:39.540Z"
   },
   {
    "duration": 12,
    "start_time": "2022-11-02T19:24:59.013Z"
   },
   {
    "duration": 4,
    "start_time": "2022-11-02T19:25:12.063Z"
   },
   {
    "duration": 103,
    "start_time": "2022-11-02T19:25:12.069Z"
   },
   {
    "duration": 41,
    "start_time": "2022-11-02T19:25:12.174Z"
   },
   {
    "duration": 15,
    "start_time": "2022-11-02T19:25:12.217Z"
   },
   {
    "duration": 12,
    "start_time": "2022-11-02T19:25:12.234Z"
   },
   {
    "duration": 3,
    "start_time": "2022-11-02T19:25:12.248Z"
   },
   {
    "duration": 9,
    "start_time": "2022-11-02T19:25:12.253Z"
   },
   {
    "duration": 17,
    "start_time": "2022-11-02T19:25:12.263Z"
   },
   {
    "duration": 27,
    "start_time": "2022-11-02T19:25:12.282Z"
   },
   {
    "duration": 3,
    "start_time": "2022-11-02T19:26:12.672Z"
   },
   {
    "duration": 103,
    "start_time": "2022-11-02T19:26:12.677Z"
   },
   {
    "duration": 41,
    "start_time": "2022-11-02T19:26:12.781Z"
   },
   {
    "duration": 15,
    "start_time": "2022-11-02T19:26:12.823Z"
   },
   {
    "duration": 14,
    "start_time": "2022-11-02T19:26:12.839Z"
   },
   {
    "duration": 8,
    "start_time": "2022-11-02T19:26:12.855Z"
   },
   {
    "duration": 10,
    "start_time": "2022-11-02T19:26:12.865Z"
   },
   {
    "duration": 15,
    "start_time": "2022-11-02T19:26:12.876Z"
   },
   {
    "duration": 14,
    "start_time": "2022-11-02T19:26:25.111Z"
   },
   {
    "duration": 17,
    "start_time": "2022-11-02T19:28:49.888Z"
   },
   {
    "duration": 16,
    "start_time": "2022-11-02T19:28:51.094Z"
   },
   {
    "duration": 21,
    "start_time": "2022-11-02T19:31:13.617Z"
   },
   {
    "duration": 14,
    "start_time": "2022-11-02T19:31:25.691Z"
   },
   {
    "duration": 16,
    "start_time": "2022-11-02T19:31:31.575Z"
   },
   {
    "duration": 93,
    "start_time": "2022-11-02T19:31:41.144Z"
   },
   {
    "duration": 53,
    "start_time": "2022-11-02T19:31:44.386Z"
   },
   {
    "duration": 52,
    "start_time": "2022-11-02T19:31:49.878Z"
   },
   {
    "duration": 22,
    "start_time": "2022-11-02T19:33:25.563Z"
   },
   {
    "duration": 18,
    "start_time": "2022-11-02T19:33:40.021Z"
   },
   {
    "duration": 21,
    "start_time": "2022-11-02T20:07:12.832Z"
   },
   {
    "duration": 12,
    "start_time": "2022-11-02T20:18:54.016Z"
   },
   {
    "duration": 27,
    "start_time": "2022-11-02T20:18:58.046Z"
   },
   {
    "duration": 29,
    "start_time": "2022-11-02T20:20:05.931Z"
   },
   {
    "duration": 19,
    "start_time": "2022-11-02T20:31:27.150Z"
   },
   {
    "duration": 26,
    "start_time": "2022-11-02T20:32:11.819Z"
   },
   {
    "duration": 12,
    "start_time": "2022-11-02T20:36:18.559Z"
   },
   {
    "duration": 1454,
    "start_time": "2022-11-02T20:39:09.453Z"
   },
   {
    "duration": 3,
    "start_time": "2022-11-02T20:39:28.744Z"
   },
   {
    "duration": 113,
    "start_time": "2022-11-02T20:39:28.750Z"
   },
   {
    "duration": 42,
    "start_time": "2022-11-02T20:39:28.865Z"
   },
   {
    "duration": 17,
    "start_time": "2022-11-02T20:39:28.909Z"
   },
   {
    "duration": 9,
    "start_time": "2022-11-02T20:39:28.929Z"
   },
   {
    "duration": 17,
    "start_time": "2022-11-02T20:39:28.940Z"
   },
   {
    "duration": 9,
    "start_time": "2022-11-02T20:39:28.959Z"
   },
   {
    "duration": 11,
    "start_time": "2022-11-02T20:39:28.970Z"
   },
   {
    "duration": 13,
    "start_time": "2022-11-02T20:39:28.983Z"
   },
   {
    "duration": 855,
    "start_time": "2022-11-02T20:39:28.998Z"
   },
   {
    "duration": 0,
    "start_time": "2022-11-02T20:39:29.855Z"
   },
   {
    "duration": 0,
    "start_time": "2022-11-02T20:39:29.856Z"
   },
   {
    "duration": 0,
    "start_time": "2022-11-02T20:39:29.858Z"
   },
   {
    "duration": 0,
    "start_time": "2022-11-02T20:39:29.859Z"
   },
   {
    "duration": 5,
    "start_time": "2022-11-02T20:39:54.111Z"
   },
   {
    "duration": 5,
    "start_time": "2022-11-02T20:41:45.696Z"
   },
   {
    "duration": 13,
    "start_time": "2022-11-02T20:42:47.332Z"
   },
   {
    "duration": 48,
    "start_time": "2022-11-03T06:50:23.955Z"
   },
   {
    "duration": 1320,
    "start_time": "2022-11-03T06:50:27.742Z"
   },
   {
    "duration": 209,
    "start_time": "2022-11-03T06:50:29.064Z"
   },
   {
    "duration": 123,
    "start_time": "2022-11-03T06:50:29.275Z"
   },
   {
    "duration": 16,
    "start_time": "2022-11-03T06:50:29.400Z"
   },
   {
    "duration": 19,
    "start_time": "2022-11-03T06:50:29.419Z"
   },
   {
    "duration": 6,
    "start_time": "2022-11-03T06:50:29.440Z"
   },
   {
    "duration": 13,
    "start_time": "2022-11-03T06:50:29.447Z"
   },
   {
    "duration": 11,
    "start_time": "2022-11-03T06:50:29.461Z"
   },
   {
    "duration": 15,
    "start_time": "2022-11-03T06:50:29.474Z"
   },
   {
    "duration": 22,
    "start_time": "2022-11-03T06:50:29.491Z"
   },
   {
    "duration": 2,
    "start_time": "2022-11-03T06:50:29.515Z"
   },
   {
    "duration": 3,
    "start_time": "2022-11-03T06:50:29.533Z"
   },
   {
    "duration": 10,
    "start_time": "2022-11-03T06:50:29.537Z"
   },
   {
    "duration": 86,
    "start_time": "2022-11-03T06:50:29.549Z"
   },
   {
    "duration": 0,
    "start_time": "2022-11-03T06:50:29.637Z"
   },
   {
    "duration": 7,
    "start_time": "2022-11-03T06:53:31.680Z"
   },
   {
    "duration": 6,
    "start_time": "2022-11-03T06:53:53.850Z"
   },
   {
    "duration": 15,
    "start_time": "2022-11-03T06:54:49.613Z"
   },
   {
    "duration": 13,
    "start_time": "2022-11-03T06:54:58.878Z"
   },
   {
    "duration": 7,
    "start_time": "2022-11-03T07:05:58.724Z"
   },
   {
    "duration": 8,
    "start_time": "2022-11-03T07:06:14.061Z"
   },
   {
    "duration": 4,
    "start_time": "2022-11-03T07:06:54.948Z"
   },
   {
    "duration": 114,
    "start_time": "2022-11-03T07:06:54.954Z"
   },
   {
    "duration": 52,
    "start_time": "2022-11-03T07:06:55.069Z"
   },
   {
    "duration": 20,
    "start_time": "2022-11-03T07:06:55.124Z"
   },
   {
    "duration": 11,
    "start_time": "2022-11-03T07:06:55.146Z"
   },
   {
    "duration": 4,
    "start_time": "2022-11-03T07:06:55.159Z"
   },
   {
    "duration": 13,
    "start_time": "2022-11-03T07:06:55.164Z"
   },
   {
    "duration": 16,
    "start_time": "2022-11-03T07:06:55.178Z"
   },
   {
    "duration": 22,
    "start_time": "2022-11-03T07:06:55.195Z"
   },
   {
    "duration": 11,
    "start_time": "2022-11-03T07:06:55.233Z"
   },
   {
    "duration": 8,
    "start_time": "2022-11-03T07:06:55.246Z"
   },
   {
    "duration": 12,
    "start_time": "2022-11-03T07:06:55.256Z"
   },
   {
    "duration": 7,
    "start_time": "2022-11-03T07:06:55.270Z"
   },
   {
    "duration": 7,
    "start_time": "2022-11-03T07:06:55.278Z"
   },
   {
    "duration": 12,
    "start_time": "2022-11-03T07:06:55.287Z"
   },
   {
    "duration": 9,
    "start_time": "2022-11-03T07:06:55.301Z"
   },
   {
    "duration": 4,
    "start_time": "2022-11-03T07:06:55.333Z"
   },
   {
    "duration": 22,
    "start_time": "2022-11-03T07:06:55.339Z"
   },
   {
    "duration": 10,
    "start_time": "2022-11-03T07:08:23.497Z"
   },
   {
    "duration": 14,
    "start_time": "2022-11-03T07:09:10.847Z"
   },
   {
    "duration": 4,
    "start_time": "2022-11-03T07:09:37.969Z"
   },
   {
    "duration": 100,
    "start_time": "2022-11-03T07:09:37.974Z"
   },
   {
    "duration": 52,
    "start_time": "2022-11-03T07:09:38.075Z"
   },
   {
    "duration": 14,
    "start_time": "2022-11-03T07:09:38.129Z"
   },
   {
    "duration": 18,
    "start_time": "2022-11-03T07:09:38.145Z"
   },
   {
    "duration": 16,
    "start_time": "2022-11-03T07:09:38.165Z"
   },
   {
    "duration": 15,
    "start_time": "2022-11-03T07:09:38.183Z"
   },
   {
    "duration": 15,
    "start_time": "2022-11-03T07:09:38.200Z"
   },
   {
    "duration": 21,
    "start_time": "2022-11-03T07:09:38.217Z"
   },
   {
    "duration": 10,
    "start_time": "2022-11-03T07:09:38.241Z"
   },
   {
    "duration": 7,
    "start_time": "2022-11-03T07:09:38.252Z"
   },
   {
    "duration": 2,
    "start_time": "2022-11-03T07:09:38.261Z"
   },
   {
    "duration": 5,
    "start_time": "2022-11-03T07:09:38.265Z"
   },
   {
    "duration": 10,
    "start_time": "2022-11-03T07:09:38.271Z"
   },
   {
    "duration": 13,
    "start_time": "2022-11-03T07:09:38.283Z"
   },
   {
    "duration": 11,
    "start_time": "2022-11-03T07:09:38.297Z"
   },
   {
    "duration": 5,
    "start_time": "2022-11-03T07:09:38.334Z"
   },
   {
    "duration": 16,
    "start_time": "2022-11-03T07:09:38.341Z"
   },
   {
    "duration": 13,
    "start_time": "2022-11-03T07:09:38.359Z"
   },
   {
    "duration": 11,
    "start_time": "2022-11-03T07:14:21.082Z"
   },
   {
    "duration": 72,
    "start_time": "2022-11-03T07:15:13.342Z"
   },
   {
    "duration": 21,
    "start_time": "2022-11-03T07:15:29.756Z"
   },
   {
    "duration": 27,
    "start_time": "2022-11-03T07:19:00.822Z"
   },
   {
    "duration": 4,
    "start_time": "2022-11-03T07:19:06.007Z"
   },
   {
    "duration": 132,
    "start_time": "2022-11-03T07:19:06.013Z"
   },
   {
    "duration": 45,
    "start_time": "2022-11-03T07:19:06.147Z"
   },
   {
    "duration": 22,
    "start_time": "2022-11-03T07:19:06.196Z"
   },
   {
    "duration": 44,
    "start_time": "2022-11-03T07:19:06.220Z"
   },
   {
    "duration": 35,
    "start_time": "2022-11-03T07:19:06.267Z"
   },
   {
    "duration": 38,
    "start_time": "2022-11-03T07:19:06.304Z"
   },
   {
    "duration": 49,
    "start_time": "2022-11-03T07:19:06.344Z"
   },
   {
    "duration": 71,
    "start_time": "2022-11-03T07:19:06.395Z"
   },
   {
    "duration": 37,
    "start_time": "2022-11-03T07:19:06.468Z"
   },
   {
    "duration": 49,
    "start_time": "2022-11-03T07:19:06.507Z"
   },
   {
    "duration": 20,
    "start_time": "2022-11-03T07:19:06.559Z"
   },
   {
    "duration": 21,
    "start_time": "2022-11-03T07:19:06.581Z"
   },
   {
    "duration": 26,
    "start_time": "2022-11-03T07:19:06.605Z"
   },
   {
    "duration": 28,
    "start_time": "2022-11-03T07:19:06.632Z"
   },
   {
    "duration": 28,
    "start_time": "2022-11-03T07:19:06.662Z"
   },
   {
    "duration": 20,
    "start_time": "2022-11-03T07:19:06.692Z"
   },
   {
    "duration": 34,
    "start_time": "2022-11-03T07:19:06.713Z"
   },
   {
    "duration": 0,
    "start_time": "2022-11-03T07:19:06.749Z"
   },
   {
    "duration": 0,
    "start_time": "2022-11-03T07:19:06.750Z"
   },
   {
    "duration": 22,
    "start_time": "2022-11-03T07:20:03.484Z"
   },
   {
    "duration": 16,
    "start_time": "2022-11-03T07:20:16.778Z"
   },
   {
    "duration": 29,
    "start_time": "2022-11-03T07:20:24.307Z"
   },
   {
    "duration": 9,
    "start_time": "2022-11-03T07:23:53.927Z"
   },
   {
    "duration": 8,
    "start_time": "2022-11-03T07:24:20.179Z"
   },
   {
    "duration": 5,
    "start_time": "2022-11-03T07:26:20.618Z"
   },
   {
    "duration": 870,
    "start_time": "2022-11-03T07:26:40.698Z"
   },
   {
    "duration": 9,
    "start_time": "2022-11-03T07:27:47.504Z"
   },
   {
    "duration": 9166,
    "start_time": "2022-11-03T07:31:40.050Z"
   },
   {
    "duration": 10,
    "start_time": "2022-11-03T07:32:28.493Z"
   },
   {
    "duration": 9,
    "start_time": "2022-11-03T07:34:36.161Z"
   },
   {
    "duration": 62,
    "start_time": "2022-11-03T07:36:02.807Z"
   },
   {
    "duration": 54,
    "start_time": "2022-11-03T07:36:10.124Z"
   },
   {
    "duration": 883,
    "start_time": "2022-11-03T07:36:51.951Z"
   },
   {
    "duration": 11,
    "start_time": "2022-11-03T07:38:58.310Z"
   },
   {
    "duration": 8,
    "start_time": "2022-11-03T07:45:40.439Z"
   },
   {
    "duration": 16,
    "start_time": "2022-11-03T07:45:59.193Z"
   },
   {
    "duration": 4,
    "start_time": "2022-11-03T07:46:30.317Z"
   },
   {
    "duration": 4,
    "start_time": "2022-11-03T07:46:43.560Z"
   },
   {
    "duration": 12,
    "start_time": "2022-11-03T07:59:10.419Z"
   },
   {
    "duration": 10,
    "start_time": "2022-11-03T07:59:27.573Z"
   },
   {
    "duration": 5,
    "start_time": "2022-11-03T07:59:30.899Z"
   },
   {
    "duration": 114,
    "start_time": "2022-11-03T07:59:30.907Z"
   },
   {
    "duration": 40,
    "start_time": "2022-11-03T07:59:31.023Z"
   },
   {
    "duration": 21,
    "start_time": "2022-11-03T07:59:31.065Z"
   },
   {
    "duration": 28,
    "start_time": "2022-11-03T07:59:31.089Z"
   },
   {
    "duration": 6,
    "start_time": "2022-11-03T07:59:31.119Z"
   },
   {
    "duration": 16,
    "start_time": "2022-11-03T07:59:31.127Z"
   },
   {
    "duration": 20,
    "start_time": "2022-11-03T07:59:31.145Z"
   },
   {
    "duration": 24,
    "start_time": "2022-11-03T07:59:31.166Z"
   },
   {
    "duration": 13,
    "start_time": "2022-11-03T07:59:31.192Z"
   },
   {
    "duration": 23,
    "start_time": "2022-11-03T07:59:31.207Z"
   },
   {
    "duration": 33,
    "start_time": "2022-11-03T07:59:31.232Z"
   },
   {
    "duration": 30,
    "start_time": "2022-11-03T07:59:31.268Z"
   },
   {
    "duration": 25,
    "start_time": "2022-11-03T07:59:31.300Z"
   },
   {
    "duration": 12,
    "start_time": "2022-11-03T07:59:31.327Z"
   },
   {
    "duration": 10,
    "start_time": "2022-11-03T07:59:31.341Z"
   },
   {
    "duration": 6,
    "start_time": "2022-11-03T07:59:31.353Z"
   },
   {
    "duration": 9,
    "start_time": "2022-11-03T07:59:31.361Z"
   },
   {
    "duration": 32,
    "start_time": "2022-11-03T07:59:31.372Z"
   },
   {
    "duration": 33,
    "start_time": "2022-11-03T07:59:31.406Z"
   },
   {
    "duration": 10,
    "start_time": "2022-11-03T07:59:31.441Z"
   },
   {
    "duration": 8,
    "start_time": "2022-11-03T08:00:56.689Z"
   },
   {
    "duration": 868,
    "start_time": "2022-11-03T08:07:16.387Z"
   },
   {
    "duration": 9,
    "start_time": "2022-11-03T08:07:46.651Z"
   },
   {
    "duration": 10,
    "start_time": "2022-11-03T08:08:17.782Z"
   },
   {
    "duration": 701,
    "start_time": "2022-11-03T08:12:09.919Z"
   },
   {
    "duration": 294,
    "start_time": "2022-11-03T08:12:26.187Z"
   },
   {
    "duration": 4,
    "start_time": "2022-11-03T08:12:50.154Z"
   },
   {
    "duration": 113,
    "start_time": "2022-11-03T08:12:50.161Z"
   },
   {
    "duration": 41,
    "start_time": "2022-11-03T08:12:50.277Z"
   },
   {
    "duration": 16,
    "start_time": "2022-11-03T08:12:50.321Z"
   },
   {
    "duration": 13,
    "start_time": "2022-11-03T08:12:50.339Z"
   },
   {
    "duration": 3,
    "start_time": "2022-11-03T08:12:50.354Z"
   },
   {
    "duration": 11,
    "start_time": "2022-11-03T08:12:50.358Z"
   },
   {
    "duration": 16,
    "start_time": "2022-11-03T08:12:50.371Z"
   },
   {
    "duration": 15,
    "start_time": "2022-11-03T08:12:50.389Z"
   },
   {
    "duration": 11,
    "start_time": "2022-11-03T08:12:50.434Z"
   },
   {
    "duration": 8,
    "start_time": "2022-11-03T08:12:50.447Z"
   },
   {
    "duration": 32,
    "start_time": "2022-11-03T08:12:50.456Z"
   },
   {
    "duration": 14,
    "start_time": "2022-11-03T08:12:50.490Z"
   },
   {
    "duration": 8,
    "start_time": "2022-11-03T08:12:50.506Z"
   },
   {
    "duration": 27,
    "start_time": "2022-11-03T08:12:50.516Z"
   },
   {
    "duration": 14,
    "start_time": "2022-11-03T08:12:50.545Z"
   },
   {
    "duration": 6,
    "start_time": "2022-11-03T08:12:50.561Z"
   },
   {
    "duration": 8,
    "start_time": "2022-11-03T08:12:50.570Z"
   },
   {
    "duration": 178,
    "start_time": "2022-11-03T08:12:50.580Z"
   },
   {
    "duration": 0,
    "start_time": "2022-11-03T08:12:50.759Z"
   },
   {
    "duration": 0,
    "start_time": "2022-11-03T08:12:50.761Z"
   },
   {
    "duration": 239,
    "start_time": "2022-11-03T08:13:26.847Z"
   },
   {
    "duration": 8,
    "start_time": "2022-11-03T08:13:45.864Z"
   },
   {
    "duration": 16,
    "start_time": "2022-11-03T08:13:45.873Z"
   },
   {
    "duration": 5,
    "start_time": "2022-11-03T08:14:09.393Z"
   },
   {
    "duration": 98,
    "start_time": "2022-11-03T08:14:09.400Z"
   },
   {
    "duration": 41,
    "start_time": "2022-11-03T08:14:09.500Z"
   },
   {
    "duration": 15,
    "start_time": "2022-11-03T08:14:09.542Z"
   },
   {
    "duration": 9,
    "start_time": "2022-11-03T08:14:09.560Z"
   },
   {
    "duration": 9,
    "start_time": "2022-11-03T08:14:09.570Z"
   },
   {
    "duration": 11,
    "start_time": "2022-11-03T08:14:09.580Z"
   },
   {
    "duration": 12,
    "start_time": "2022-11-03T08:14:09.593Z"
   },
   {
    "duration": 37,
    "start_time": "2022-11-03T08:14:09.606Z"
   },
   {
    "duration": 10,
    "start_time": "2022-11-03T08:14:09.645Z"
   },
   {
    "duration": 7,
    "start_time": "2022-11-03T08:14:09.657Z"
   },
   {
    "duration": 18,
    "start_time": "2022-11-03T08:14:09.666Z"
   },
   {
    "duration": 9,
    "start_time": "2022-11-03T08:14:09.686Z"
   },
   {
    "duration": 36,
    "start_time": "2022-11-03T08:14:09.698Z"
   },
   {
    "duration": 11,
    "start_time": "2022-11-03T08:14:09.736Z"
   },
   {
    "duration": 10,
    "start_time": "2022-11-03T08:14:09.749Z"
   },
   {
    "duration": 7,
    "start_time": "2022-11-03T08:14:09.760Z"
   },
   {
    "duration": 14,
    "start_time": "2022-11-03T08:14:09.769Z"
   },
   {
    "duration": 233,
    "start_time": "2022-11-03T08:14:09.785Z"
   },
   {
    "duration": 0,
    "start_time": "2022-11-03T08:14:10.020Z"
   },
   {
    "duration": 0,
    "start_time": "2022-11-03T08:14:10.021Z"
   },
   {
    "duration": 24,
    "start_time": "2022-11-03T08:14:21.033Z"
   },
   {
    "duration": 235,
    "start_time": "2022-11-03T08:15:16.218Z"
   },
   {
    "duration": 5,
    "start_time": "2022-11-03T08:15:24.358Z"
   },
   {
    "duration": 102,
    "start_time": "2022-11-03T08:15:24.365Z"
   },
   {
    "duration": 42,
    "start_time": "2022-11-03T08:15:24.469Z"
   },
   {
    "duration": 15,
    "start_time": "2022-11-03T08:15:24.514Z"
   },
   {
    "duration": 11,
    "start_time": "2022-11-03T08:15:24.532Z"
   },
   {
    "duration": 10,
    "start_time": "2022-11-03T08:15:24.545Z"
   },
   {
    "duration": 13,
    "start_time": "2022-11-03T08:15:24.556Z"
   },
   {
    "duration": 17,
    "start_time": "2022-11-03T08:15:24.571Z"
   },
   {
    "duration": 16,
    "start_time": "2022-11-03T08:15:24.590Z"
   },
   {
    "duration": 31,
    "start_time": "2022-11-03T08:15:24.609Z"
   },
   {
    "duration": 8,
    "start_time": "2022-11-03T08:15:24.641Z"
   },
   {
    "duration": 35,
    "start_time": "2022-11-03T08:15:24.651Z"
   },
   {
    "duration": 25,
    "start_time": "2022-11-03T08:15:24.688Z"
   },
   {
    "duration": 24,
    "start_time": "2022-11-03T08:15:24.715Z"
   },
   {
    "duration": 36,
    "start_time": "2022-11-03T08:15:24.741Z"
   },
   {
    "duration": 52,
    "start_time": "2022-11-03T08:15:24.778Z"
   },
   {
    "duration": 53,
    "start_time": "2022-11-03T08:15:24.832Z"
   },
   {
    "duration": 38,
    "start_time": "2022-11-03T08:15:24.886Z"
   },
   {
    "duration": 56,
    "start_time": "2022-11-03T08:15:24.926Z"
   },
   {
    "duration": 39,
    "start_time": "2022-11-03T08:15:24.984Z"
   },
   {
    "duration": 31,
    "start_time": "2022-11-03T08:15:25.025Z"
   },
   {
    "duration": 34,
    "start_time": "2022-11-03T08:15:25.058Z"
   },
   {
    "duration": 6,
    "start_time": "2022-11-03T08:17:13.415Z"
   },
   {
    "duration": 23,
    "start_time": "2022-11-03T08:17:17.036Z"
   },
   {
    "duration": 3,
    "start_time": "2022-11-03T08:17:31.905Z"
   },
   {
    "duration": 100,
    "start_time": "2022-11-03T08:17:31.910Z"
   },
   {
    "duration": 41,
    "start_time": "2022-11-03T08:17:32.011Z"
   },
   {
    "duration": 15,
    "start_time": "2022-11-03T08:17:32.053Z"
   },
   {
    "duration": 26,
    "start_time": "2022-11-03T08:17:32.070Z"
   },
   {
    "duration": 5,
    "start_time": "2022-11-03T08:17:32.097Z"
   },
   {
    "duration": 11,
    "start_time": "2022-11-03T08:17:32.104Z"
   },
   {
    "duration": 11,
    "start_time": "2022-11-03T08:17:32.116Z"
   },
   {
    "duration": 15,
    "start_time": "2022-11-03T08:17:32.128Z"
   },
   {
    "duration": 22,
    "start_time": "2022-11-03T08:17:32.145Z"
   },
   {
    "duration": 22,
    "start_time": "2022-11-03T08:17:32.169Z"
   },
   {
    "duration": 21,
    "start_time": "2022-11-03T08:17:32.193Z"
   },
   {
    "duration": 6,
    "start_time": "2022-11-03T08:17:32.216Z"
   },
   {
    "duration": 9,
    "start_time": "2022-11-03T08:17:32.225Z"
   },
   {
    "duration": 11,
    "start_time": "2022-11-03T08:17:32.236Z"
   },
   {
    "duration": 10,
    "start_time": "2022-11-03T08:17:32.249Z"
   },
   {
    "duration": 7,
    "start_time": "2022-11-03T08:17:32.261Z"
   },
   {
    "duration": 7,
    "start_time": "2022-11-03T08:17:32.270Z"
   },
   {
    "duration": 29,
    "start_time": "2022-11-03T08:17:32.279Z"
   },
   {
    "duration": 33,
    "start_time": "2022-11-03T08:17:32.310Z"
   },
   {
    "duration": 11,
    "start_time": "2022-11-03T08:17:32.344Z"
   },
   {
    "duration": 8,
    "start_time": "2022-11-03T08:17:32.357Z"
   },
   {
    "duration": 20,
    "start_time": "2022-11-03T08:18:33.675Z"
   },
   {
    "duration": 17,
    "start_time": "2022-11-03T08:19:52.960Z"
   },
   {
    "duration": 6,
    "start_time": "2022-11-03T08:20:07.396Z"
   },
   {
    "duration": 5,
    "start_time": "2022-11-03T08:20:17.753Z"
   },
   {
    "duration": 3,
    "start_time": "2022-11-03T08:20:48.927Z"
   },
   {
    "duration": 116,
    "start_time": "2022-11-03T08:20:48.933Z"
   },
   {
    "duration": 41,
    "start_time": "2022-11-03T08:20:49.051Z"
   },
   {
    "duration": 15,
    "start_time": "2022-11-03T08:20:49.095Z"
   },
   {
    "duration": 10,
    "start_time": "2022-11-03T08:20:49.112Z"
   },
   {
    "duration": 5,
    "start_time": "2022-11-03T08:20:49.124Z"
   },
   {
    "duration": 12,
    "start_time": "2022-11-03T08:20:49.131Z"
   },
   {
    "duration": 14,
    "start_time": "2022-11-03T08:20:49.145Z"
   },
   {
    "duration": 15,
    "start_time": "2022-11-03T08:20:49.161Z"
   },
   {
    "duration": 11,
    "start_time": "2022-11-03T08:20:49.178Z"
   },
   {
    "duration": 9,
    "start_time": "2022-11-03T08:20:49.190Z"
   },
   {
    "duration": 42,
    "start_time": "2022-11-03T08:20:49.200Z"
   },
   {
    "duration": 4,
    "start_time": "2022-11-03T08:20:49.244Z"
   },
   {
    "duration": 6,
    "start_time": "2022-11-03T08:20:49.250Z"
   },
   {
    "duration": 13,
    "start_time": "2022-11-03T08:20:49.258Z"
   },
   {
    "duration": 12,
    "start_time": "2022-11-03T08:20:49.273Z"
   },
   {
    "duration": 9,
    "start_time": "2022-11-03T08:20:49.287Z"
   },
   {
    "duration": 8,
    "start_time": "2022-11-03T08:20:49.297Z"
   },
   {
    "duration": 27,
    "start_time": "2022-11-03T08:20:49.307Z"
   },
   {
    "duration": 11,
    "start_time": "2022-11-03T08:20:49.336Z"
   },
   {
    "duration": 12,
    "start_time": "2022-11-03T08:20:49.349Z"
   },
   {
    "duration": 12,
    "start_time": "2022-11-03T08:20:49.362Z"
   },
   {
    "duration": 6,
    "start_time": "2022-11-03T08:23:20.633Z"
   },
   {
    "duration": 6,
    "start_time": "2022-11-03T08:23:21.610Z"
   },
   {
    "duration": 22,
    "start_time": "2022-11-03T08:24:35.804Z"
   },
   {
    "duration": 15,
    "start_time": "2022-11-03T08:25:05.349Z"
   },
   {
    "duration": 6,
    "start_time": "2022-11-03T08:26:25.894Z"
   },
   {
    "duration": 13,
    "start_time": "2022-11-03T08:26:58.772Z"
   },
   {
    "duration": 11,
    "start_time": "2022-11-03T08:27:05.969Z"
   },
   {
    "duration": 8,
    "start_time": "2022-11-03T08:27:48.775Z"
   },
   {
    "duration": 4,
    "start_time": "2022-11-03T08:30:35.523Z"
   },
   {
    "duration": 9,
    "start_time": "2022-11-03T08:32:23.830Z"
   },
   {
    "duration": 13,
    "start_time": "2022-11-03T08:32:34.462Z"
   },
   {
    "duration": 5,
    "start_time": "2022-11-03T08:32:43.848Z"
   },
   {
    "duration": 5,
    "start_time": "2022-11-03T08:33:15.847Z"
   },
   {
    "duration": 11,
    "start_time": "2022-11-03T08:33:34.784Z"
   },
   {
    "duration": 7,
    "start_time": "2022-11-03T08:33:35.039Z"
   },
   {
    "duration": 25,
    "start_time": "2022-11-03T08:34:22.944Z"
   },
   {
    "duration": 6,
    "start_time": "2022-11-03T08:34:23.888Z"
   },
   {
    "duration": 3,
    "start_time": "2022-11-03T08:37:12.105Z"
   },
   {
    "duration": 19,
    "start_time": "2022-11-03T08:37:12.484Z"
   },
   {
    "duration": 7,
    "start_time": "2022-11-03T08:37:12.840Z"
   },
   {
    "duration": 4,
    "start_time": "2022-11-03T08:37:19.582Z"
   },
   {
    "duration": 110,
    "start_time": "2022-11-03T08:37:19.588Z"
   },
   {
    "duration": 42,
    "start_time": "2022-11-03T08:37:19.699Z"
   },
   {
    "duration": 15,
    "start_time": "2022-11-03T08:37:19.743Z"
   },
   {
    "duration": 14,
    "start_time": "2022-11-03T08:37:19.761Z"
   },
   {
    "duration": 13,
    "start_time": "2022-11-03T08:37:19.778Z"
   },
   {
    "duration": 18,
    "start_time": "2022-11-03T08:37:19.792Z"
   },
   {
    "duration": 31,
    "start_time": "2022-11-03T08:37:19.812Z"
   },
   {
    "duration": 24,
    "start_time": "2022-11-03T08:37:19.846Z"
   },
   {
    "duration": 11,
    "start_time": "2022-11-03T08:37:19.873Z"
   },
   {
    "duration": 8,
    "start_time": "2022-11-03T08:37:19.886Z"
   },
   {
    "duration": 57,
    "start_time": "2022-11-03T08:37:19.895Z"
   },
   {
    "duration": 5,
    "start_time": "2022-11-03T08:37:19.954Z"
   },
   {
    "duration": 7,
    "start_time": "2022-11-03T08:37:19.962Z"
   },
   {
    "duration": 16,
    "start_time": "2022-11-03T08:37:19.970Z"
   },
   {
    "duration": 18,
    "start_time": "2022-11-03T08:37:19.987Z"
   },
   {
    "duration": 28,
    "start_time": "2022-11-03T08:37:20.007Z"
   },
   {
    "duration": 10,
    "start_time": "2022-11-03T08:37:20.037Z"
   },
   {
    "duration": 14,
    "start_time": "2022-11-03T08:37:20.049Z"
   },
   {
    "duration": 20,
    "start_time": "2022-11-03T08:37:20.066Z"
   },
   {
    "duration": 25,
    "start_time": "2022-11-03T08:37:20.089Z"
   },
   {
    "duration": 35,
    "start_time": "2022-11-03T08:37:20.134Z"
   },
   {
    "duration": 6,
    "start_time": "2022-11-03T08:37:20.170Z"
   },
   {
    "duration": 11,
    "start_time": "2022-11-03T08:37:20.178Z"
   },
   {
    "duration": 29,
    "start_time": "2022-11-03T08:37:20.191Z"
   },
   {
    "duration": 16,
    "start_time": "2022-11-03T08:37:20.222Z"
   },
   {
    "duration": 17,
    "start_time": "2022-11-03T08:38:44.831Z"
   },
   {
    "duration": 8,
    "start_time": "2022-11-03T08:38:45.418Z"
   },
   {
    "duration": 5,
    "start_time": "2022-11-03T08:38:49.628Z"
   },
   {
    "duration": 3,
    "start_time": "2022-11-03T08:38:49.845Z"
   },
   {
    "duration": 18,
    "start_time": "2022-11-03T08:38:50.045Z"
   },
   {
    "duration": 7,
    "start_time": "2022-11-03T08:38:50.266Z"
   },
   {
    "duration": 14,
    "start_time": "2022-11-03T08:39:44.814Z"
   },
   {
    "duration": 13,
    "start_time": "2022-11-03T08:40:03.369Z"
   },
   {
    "duration": 17,
    "start_time": "2022-11-03T08:41:37.219Z"
   },
   {
    "duration": 7,
    "start_time": "2022-11-03T08:41:38.036Z"
   },
   {
    "duration": 7,
    "start_time": "2022-11-03T08:43:55.733Z"
   },
   {
    "duration": 7,
    "start_time": "2022-11-03T08:43:56.696Z"
   },
   {
    "duration": 6,
    "start_time": "2022-11-03T08:45:17.712Z"
   },
   {
    "duration": 9,
    "start_time": "2022-11-03T08:45:44.870Z"
   },
   {
    "duration": 7,
    "start_time": "2022-11-03T08:46:28.246Z"
   },
   {
    "duration": 11,
    "start_time": "2022-11-03T08:46:41.939Z"
   },
   {
    "duration": 8,
    "start_time": "2022-11-03T08:47:40.597Z"
   },
   {
    "duration": 10,
    "start_time": "2022-11-03T08:48:00.719Z"
   },
   {
    "duration": 29,
    "start_time": "2022-11-03T08:50:13.382Z"
   },
   {
    "duration": 28,
    "start_time": "2022-11-03T08:50:53.598Z"
   },
   {
    "duration": 14,
    "start_time": "2022-11-03T08:51:39.634Z"
   },
   {
    "duration": 10,
    "start_time": "2022-11-03T08:51:58.501Z"
   },
   {
    "duration": 28,
    "start_time": "2022-11-03T08:53:19.330Z"
   },
   {
    "duration": 56,
    "start_time": "2022-11-03T08:54:02.926Z"
   },
   {
    "duration": 31,
    "start_time": "2022-11-03T08:54:08.816Z"
   },
   {
    "duration": 30,
    "start_time": "2022-11-03T08:54:25.210Z"
   },
   {
    "duration": 27,
    "start_time": "2022-11-03T08:54:47.820Z"
   },
   {
    "duration": 32,
    "start_time": "2022-11-03T08:56:26.567Z"
   },
   {
    "duration": 21,
    "start_time": "2022-11-03T08:57:04.885Z"
   },
   {
    "duration": 16,
    "start_time": "2022-11-03T08:57:26.204Z"
   },
   {
    "duration": 8,
    "start_time": "2022-11-03T08:57:30.310Z"
   },
   {
    "duration": 28,
    "start_time": "2022-11-03T08:57:37.802Z"
   },
   {
    "duration": 4,
    "start_time": "2022-11-03T08:58:51.234Z"
   },
   {
    "duration": 107,
    "start_time": "2022-11-03T08:58:51.240Z"
   },
   {
    "duration": 42,
    "start_time": "2022-11-03T08:58:51.349Z"
   },
   {
    "duration": 21,
    "start_time": "2022-11-03T08:58:51.394Z"
   },
   {
    "duration": 10,
    "start_time": "2022-11-03T08:58:51.417Z"
   },
   {
    "duration": 7,
    "start_time": "2022-11-03T08:58:51.429Z"
   },
   {
    "duration": 12,
    "start_time": "2022-11-03T08:58:51.437Z"
   },
   {
    "duration": 24,
    "start_time": "2022-11-03T08:58:51.450Z"
   },
   {
    "duration": 16,
    "start_time": "2022-11-03T08:58:51.476Z"
   },
   {
    "duration": 11,
    "start_time": "2022-11-03T08:58:51.494Z"
   },
   {
    "duration": 20,
    "start_time": "2022-11-03T08:58:51.507Z"
   },
   {
    "duration": 28,
    "start_time": "2022-11-03T08:58:51.529Z"
   },
   {
    "duration": 6,
    "start_time": "2022-11-03T08:58:51.559Z"
   },
   {
    "duration": 7,
    "start_time": "2022-11-03T08:58:51.567Z"
   },
   {
    "duration": 13,
    "start_time": "2022-11-03T08:58:51.576Z"
   },
   {
    "duration": 12,
    "start_time": "2022-11-03T08:58:51.590Z"
   },
   {
    "duration": 7,
    "start_time": "2022-11-03T08:58:51.603Z"
   },
   {
    "duration": 25,
    "start_time": "2022-11-03T08:58:51.612Z"
   },
   {
    "duration": 8,
    "start_time": "2022-11-03T08:58:51.639Z"
   },
   {
    "duration": 14,
    "start_time": "2022-11-03T08:58:51.649Z"
   },
   {
    "duration": 16,
    "start_time": "2022-11-03T08:58:51.665Z"
   },
   {
    "duration": 21,
    "start_time": "2022-11-03T08:58:51.683Z"
   },
   {
    "duration": 31,
    "start_time": "2022-11-03T08:58:51.706Z"
   },
   {
    "duration": 11,
    "start_time": "2022-11-03T08:58:51.739Z"
   },
   {
    "duration": 12,
    "start_time": "2022-11-03T08:58:51.752Z"
   },
   {
    "duration": 15,
    "start_time": "2022-11-03T08:58:51.765Z"
   },
   {
    "duration": 54,
    "start_time": "2022-11-03T08:58:51.781Z"
   },
   {
    "duration": 9,
    "start_time": "2022-11-03T08:58:51.838Z"
   },
   {
    "duration": 10,
    "start_time": "2022-11-03T08:59:21.117Z"
   },
   {
    "duration": 10,
    "start_time": "2022-11-03T08:59:22.195Z"
   },
   {
    "duration": 10,
    "start_time": "2022-11-03T09:00:52.931Z"
   },
   {
    "duration": 10,
    "start_time": "2022-11-03T09:01:24.243Z"
   },
   {
    "duration": 10,
    "start_time": "2022-11-03T09:02:57.558Z"
   },
   {
    "duration": 10,
    "start_time": "2022-11-03T09:03:23.303Z"
   },
   {
    "duration": 5,
    "start_time": "2022-11-03T09:13:41.215Z"
   },
   {
    "duration": 13,
    "start_time": "2022-11-03T09:13:54.503Z"
   },
   {
    "duration": 25,
    "start_time": "2022-11-03T09:14:02.657Z"
   },
   {
    "duration": 8,
    "start_time": "2022-11-03T09:17:57.221Z"
   },
   {
    "duration": 29,
    "start_time": "2022-11-03T09:18:14.165Z"
   },
   {
    "duration": 9,
    "start_time": "2022-11-03T09:19:35.484Z"
   },
   {
    "duration": 19,
    "start_time": "2022-11-03T09:19:44.604Z"
   },
   {
    "duration": 18,
    "start_time": "2022-11-03T09:22:21.419Z"
   },
   {
    "duration": 31,
    "start_time": "2022-11-03T09:22:28.838Z"
   },
   {
    "duration": 14,
    "start_time": "2022-11-03T09:22:57.202Z"
   },
   {
    "duration": 13,
    "start_time": "2022-11-03T09:23:21.925Z"
   },
   {
    "duration": 20,
    "start_time": "2022-11-03T09:29:45.837Z"
   },
   {
    "duration": 4,
    "start_time": "2022-11-03T09:30:33.428Z"
   },
   {
    "duration": 32,
    "start_time": "2022-11-03T09:30:42.167Z"
   },
   {
    "duration": 31,
    "start_time": "2022-11-03T09:37:18.678Z"
   },
   {
    "duration": 65,
    "start_time": "2022-11-03T09:38:38.156Z"
   },
   {
    "duration": 16,
    "start_time": "2022-11-03T09:39:05.361Z"
   },
   {
    "duration": 2,
    "start_time": "2022-11-03T09:48:07.908Z"
   },
   {
    "duration": 202,
    "start_time": "2022-11-03T09:48:09.014Z"
   },
   {
    "duration": 192,
    "start_time": "2022-11-03T09:48:18.814Z"
   },
   {
    "duration": 4,
    "start_time": "2022-11-03T09:52:29.667Z"
   },
   {
    "duration": 5267,
    "start_time": "2022-11-03T09:52:31.021Z"
   },
   {
    "duration": 28,
    "start_time": "2022-11-03T09:52:37.198Z"
   },
   {
    "duration": 3,
    "start_time": "2022-11-03T09:53:14.550Z"
   },
   {
    "duration": 5284,
    "start_time": "2022-11-03T09:53:15.406Z"
   },
   {
    "duration": 8,
    "start_time": "2022-11-03T09:53:24.890Z"
   },
   {
    "duration": 51,
    "start_time": "2022-11-03T09:53:36.338Z"
   },
   {
    "duration": 3,
    "start_time": "2022-11-03T09:55:17.384Z"
   },
   {
    "duration": 5485,
    "start_time": "2022-11-03T09:55:18.175Z"
   },
   {
    "duration": 36,
    "start_time": "2022-11-03T09:55:23.662Z"
   },
   {
    "duration": 48,
    "start_time": "2022-11-03T09:56:17.174Z"
   },
   {
    "duration": 2,
    "start_time": "2022-11-03T09:56:23.059Z"
   },
   {
    "duration": 5522,
    "start_time": "2022-11-03T09:56:23.063Z"
   },
   {
    "duration": 36,
    "start_time": "2022-11-03T09:56:28.587Z"
   },
   {
    "duration": 6,
    "start_time": "2022-11-03T10:01:21.933Z"
   },
   {
    "duration": 4,
    "start_time": "2022-11-03T10:01:29.266Z"
   },
   {
    "duration": 5,
    "start_time": "2022-11-03T10:03:23.782Z"
   },
   {
    "duration": 3,
    "start_time": "2022-11-03T10:03:45.045Z"
   },
   {
    "duration": 5631,
    "start_time": "2022-11-03T10:03:46.086Z"
   },
   {
    "duration": 52,
    "start_time": "2022-11-03T10:03:52.100Z"
   },
   {
    "duration": 3,
    "start_time": "2022-11-03T10:06:21.425Z"
   },
   {
    "duration": 277,
    "start_time": "2022-11-03T10:06:23.040Z"
   },
   {
    "duration": 51,
    "start_time": "2022-11-03T10:06:23.412Z"
   },
   {
    "duration": 9,
    "start_time": "2022-11-03T10:19:19.263Z"
   },
   {
    "duration": 3,
    "start_time": "2022-11-03T10:20:47.862Z"
   },
   {
    "duration": 812,
    "start_time": "2022-11-03T10:20:49.131Z"
   },
   {
    "duration": 4,
    "start_time": "2022-11-03T10:21:40.223Z"
   },
   {
    "duration": 152,
    "start_time": "2022-11-03T10:21:40.229Z"
   },
   {
    "duration": 43,
    "start_time": "2022-11-03T10:21:40.383Z"
   },
   {
    "duration": 18,
    "start_time": "2022-11-03T10:21:40.428Z"
   },
   {
    "duration": 16,
    "start_time": "2022-11-03T10:21:40.453Z"
   },
   {
    "duration": 5,
    "start_time": "2022-11-03T10:21:40.471Z"
   },
   {
    "duration": 12,
    "start_time": "2022-11-03T10:21:40.477Z"
   },
   {
    "duration": 13,
    "start_time": "2022-11-03T10:21:40.491Z"
   },
   {
    "duration": 33,
    "start_time": "2022-11-03T10:21:40.506Z"
   },
   {
    "duration": 14,
    "start_time": "2022-11-03T10:21:40.542Z"
   },
   {
    "duration": 8,
    "start_time": "2022-11-03T10:21:40.557Z"
   },
   {
    "duration": 24,
    "start_time": "2022-11-03T10:21:40.566Z"
   },
   {
    "duration": 7,
    "start_time": "2022-11-03T10:21:40.591Z"
   },
   {
    "duration": 8,
    "start_time": "2022-11-03T10:21:40.602Z"
   },
   {
    "duration": 11,
    "start_time": "2022-11-03T10:21:40.645Z"
   },
   {
    "duration": 11,
    "start_time": "2022-11-03T10:21:40.658Z"
   },
   {
    "duration": 8,
    "start_time": "2022-11-03T10:21:40.671Z"
   },
   {
    "duration": 11,
    "start_time": "2022-11-03T10:21:40.681Z"
   },
   {
    "duration": 9,
    "start_time": "2022-11-03T10:21:40.693Z"
   },
   {
    "duration": 12,
    "start_time": "2022-11-03T10:21:40.704Z"
   },
   {
    "duration": 34,
    "start_time": "2022-11-03T10:21:40.718Z"
   },
   {
    "duration": 32,
    "start_time": "2022-11-03T10:21:40.754Z"
   },
   {
    "duration": 6,
    "start_time": "2022-11-03T10:21:40.788Z"
   },
   {
    "duration": 17,
    "start_time": "2022-11-03T10:21:40.795Z"
   },
   {
    "duration": 12,
    "start_time": "2022-11-03T10:21:40.813Z"
   },
   {
    "duration": 24,
    "start_time": "2022-11-03T10:21:40.827Z"
   },
   {
    "duration": 20,
    "start_time": "2022-11-03T10:21:40.853Z"
   },
   {
    "duration": 11,
    "start_time": "2022-11-03T10:21:40.875Z"
   },
   {
    "duration": 11,
    "start_time": "2022-11-03T10:21:40.888Z"
   },
   {
    "duration": 42,
    "start_time": "2022-11-03T10:21:40.901Z"
   },
   {
    "duration": 17,
    "start_time": "2022-11-03T10:21:40.944Z"
   },
   {
    "duration": 10,
    "start_time": "2022-11-03T10:21:40.963Z"
   },
   {
    "duration": 14,
    "start_time": "2022-11-03T10:21:40.975Z"
   },
   {
    "duration": 6,
    "start_time": "2022-11-03T10:21:40.990Z"
   },
   {
    "duration": 297,
    "start_time": "2022-11-03T10:21:40.998Z"
   },
   {
    "duration": 0,
    "start_time": "2022-11-03T10:21:41.297Z"
   },
   {
    "duration": 869,
    "start_time": "2022-11-03T10:27:20.654Z"
   },
   {
    "duration": 21,
    "start_time": "2022-11-03T10:28:24.126Z"
   },
   {
    "duration": 9,
    "start_time": "2022-11-03T10:28:52.100Z"
   },
   {
    "duration": 5,
    "start_time": "2022-11-03T10:44:33.397Z"
   },
   {
    "duration": 28,
    "start_time": "2022-11-03T10:44:39.893Z"
   },
   {
    "duration": 4,
    "start_time": "2022-11-03T10:45:08.827Z"
   },
   {
    "duration": 2,
    "start_time": "2022-11-03T10:45:09.613Z"
   },
   {
    "duration": 3,
    "start_time": "2022-11-03T10:45:10.035Z"
   },
   {
    "duration": 4,
    "start_time": "2022-11-03T10:45:16.382Z"
   },
   {
    "duration": 4,
    "start_time": "2022-11-03T10:45:22.805Z"
   },
   {
    "duration": 140,
    "start_time": "2022-11-03T10:45:22.810Z"
   },
   {
    "duration": 41,
    "start_time": "2022-11-03T10:45:22.952Z"
   },
   {
    "duration": 14,
    "start_time": "2022-11-03T10:45:22.995Z"
   },
   {
    "duration": 45,
    "start_time": "2022-11-03T10:45:23.012Z"
   },
   {
    "duration": 30,
    "start_time": "2022-11-03T10:45:23.059Z"
   },
   {
    "duration": 33,
    "start_time": "2022-11-03T10:45:23.091Z"
   },
   {
    "duration": 33,
    "start_time": "2022-11-03T10:45:23.126Z"
   },
   {
    "duration": 24,
    "start_time": "2022-11-03T10:45:23.161Z"
   },
   {
    "duration": 12,
    "start_time": "2022-11-03T10:45:23.187Z"
   },
   {
    "duration": 18,
    "start_time": "2022-11-03T10:45:23.201Z"
   },
   {
    "duration": 36,
    "start_time": "2022-11-03T10:45:23.221Z"
   },
   {
    "duration": 8,
    "start_time": "2022-11-03T10:45:23.259Z"
   },
   {
    "duration": 8,
    "start_time": "2022-11-03T10:45:23.271Z"
   },
   {
    "duration": 18,
    "start_time": "2022-11-03T10:45:23.281Z"
   },
   {
    "duration": 15,
    "start_time": "2022-11-03T10:45:23.301Z"
   },
   {
    "duration": 12,
    "start_time": "2022-11-03T10:45:23.333Z"
   },
   {
    "duration": 11,
    "start_time": "2022-11-03T10:45:23.348Z"
   },
   {
    "duration": 9,
    "start_time": "2022-11-03T10:45:23.360Z"
   },
   {
    "duration": 12,
    "start_time": "2022-11-03T10:45:23.370Z"
   },
   {
    "duration": 19,
    "start_time": "2022-11-03T10:45:23.384Z"
   },
   {
    "duration": 31,
    "start_time": "2022-11-03T10:45:23.405Z"
   },
   {
    "duration": 14,
    "start_time": "2022-11-03T10:45:23.438Z"
   },
   {
    "duration": 7,
    "start_time": "2022-11-03T10:45:23.453Z"
   },
   {
    "duration": 9,
    "start_time": "2022-11-03T10:45:23.462Z"
   },
   {
    "duration": 17,
    "start_time": "2022-11-03T10:45:23.472Z"
   },
   {
    "duration": 10,
    "start_time": "2022-11-03T10:45:23.491Z"
   },
   {
    "duration": 44,
    "start_time": "2022-11-03T10:45:23.503Z"
   },
   {
    "duration": 19,
    "start_time": "2022-11-03T10:45:23.549Z"
   },
   {
    "duration": 79,
    "start_time": "2022-11-03T10:45:23.570Z"
   },
   {
    "duration": 63,
    "start_time": "2022-11-03T10:45:23.651Z"
   },
   {
    "duration": 33,
    "start_time": "2022-11-03T10:45:23.716Z"
   },
   {
    "duration": 12,
    "start_time": "2022-11-03T10:45:23.751Z"
   },
   {
    "duration": 29,
    "start_time": "2022-11-03T10:45:23.765Z"
   },
   {
    "duration": 35,
    "start_time": "2022-11-03T10:45:23.796Z"
   },
   {
    "duration": 33,
    "start_time": "2022-11-03T10:45:23.833Z"
   },
   {
    "duration": 28,
    "start_time": "2022-11-03T10:45:23.868Z"
   },
   {
    "duration": 56,
    "start_time": "2022-11-03T10:45:23.898Z"
   },
   {
    "duration": 39,
    "start_time": "2022-11-03T10:46:58.758Z"
   },
   {
    "duration": 28,
    "start_time": "2022-11-03T10:47:17.409Z"
   },
   {
    "duration": 27,
    "start_time": "2022-11-03T10:47:35.060Z"
   },
   {
    "duration": 37,
    "start_time": "2022-11-03T10:48:10.788Z"
   },
   {
    "duration": 6,
    "start_time": "2022-11-03T11:09:51.292Z"
   },
   {
    "duration": 37,
    "start_time": "2022-11-03T11:09:52.812Z"
   },
   {
    "duration": 31,
    "start_time": "2022-11-03T11:14:59.595Z"
   },
   {
    "duration": 9,
    "start_time": "2022-11-03T11:15:22.822Z"
   },
   {
    "duration": 7,
    "start_time": "2022-11-03T11:16:42.075Z"
   },
   {
    "duration": 22,
    "start_time": "2022-11-03T11:17:14.509Z"
   },
   {
    "duration": 7,
    "start_time": "2022-11-03T11:19:09.083Z"
   },
   {
    "duration": 64,
    "start_time": "2022-11-03T11:20:10.027Z"
   },
   {
    "duration": 30,
    "start_time": "2022-11-03T11:21:03.486Z"
   },
   {
    "duration": 28,
    "start_time": "2022-11-03T11:21:35.553Z"
   },
   {
    "duration": 30,
    "start_time": "2022-11-03T11:21:46.941Z"
   },
   {
    "duration": 36,
    "start_time": "2022-11-03T11:22:42.741Z"
   },
   {
    "duration": 31,
    "start_time": "2022-11-03T11:22:47.462Z"
   },
   {
    "duration": 29,
    "start_time": "2022-11-03T11:23:04.997Z"
   },
   {
    "duration": 29,
    "start_time": "2022-11-03T11:23:26.890Z"
   },
   {
    "duration": 43,
    "start_time": "2022-11-03T11:23:32.079Z"
   },
   {
    "duration": 30,
    "start_time": "2022-11-03T11:23:40.482Z"
   },
   {
    "duration": 4,
    "start_time": "2022-11-03T11:23:53.112Z"
   },
   {
    "duration": 119,
    "start_time": "2022-11-03T11:23:53.118Z"
   },
   {
    "duration": 46,
    "start_time": "2022-11-03T11:23:53.239Z"
   },
   {
    "duration": 14,
    "start_time": "2022-11-03T11:23:53.287Z"
   },
   {
    "duration": 10,
    "start_time": "2022-11-03T11:23:53.303Z"
   },
   {
    "duration": 8,
    "start_time": "2022-11-03T11:23:53.315Z"
   },
   {
    "duration": 35,
    "start_time": "2022-11-03T11:23:53.325Z"
   },
   {
    "duration": 18,
    "start_time": "2022-11-03T11:23:53.362Z"
   },
   {
    "duration": 15,
    "start_time": "2022-11-03T11:23:53.382Z"
   },
   {
    "duration": 11,
    "start_time": "2022-11-03T11:23:53.400Z"
   },
   {
    "duration": 10,
    "start_time": "2022-11-03T11:23:53.414Z"
   },
   {
    "duration": 40,
    "start_time": "2022-11-03T11:23:53.426Z"
   },
   {
    "duration": 2,
    "start_time": "2022-11-03T11:23:53.469Z"
   },
   {
    "duration": 10,
    "start_time": "2022-11-03T11:23:53.473Z"
   },
   {
    "duration": 13,
    "start_time": "2022-11-03T11:23:53.484Z"
   },
   {
    "duration": 10,
    "start_time": "2022-11-03T11:23:53.499Z"
   },
   {
    "duration": 46,
    "start_time": "2022-11-03T11:23:53.511Z"
   },
   {
    "duration": 13,
    "start_time": "2022-11-03T11:23:53.559Z"
   },
   {
    "duration": 15,
    "start_time": "2022-11-03T11:23:53.574Z"
   },
   {
    "duration": 15,
    "start_time": "2022-11-03T11:23:53.591Z"
   },
   {
    "duration": 25,
    "start_time": "2022-11-03T11:23:53.608Z"
   },
   {
    "duration": 55,
    "start_time": "2022-11-03T11:23:53.635Z"
   },
   {
    "duration": 6,
    "start_time": "2022-11-03T11:23:53.692Z"
   },
   {
    "duration": 11,
    "start_time": "2022-11-03T11:23:53.700Z"
   },
   {
    "duration": 10,
    "start_time": "2022-11-03T11:23:53.713Z"
   },
   {
    "duration": 24,
    "start_time": "2022-11-03T11:23:53.725Z"
   },
   {
    "duration": 20,
    "start_time": "2022-11-03T11:23:53.750Z"
   },
   {
    "duration": 10,
    "start_time": "2022-11-03T11:23:53.773Z"
   },
   {
    "duration": 14,
    "start_time": "2022-11-03T11:23:53.785Z"
   },
   {
    "duration": 18,
    "start_time": "2022-11-03T11:23:53.800Z"
   },
   {
    "duration": 35,
    "start_time": "2022-11-03T11:23:53.820Z"
   },
   {
    "duration": 7,
    "start_time": "2022-11-03T11:23:53.857Z"
   },
   {
    "duration": 10,
    "start_time": "2022-11-03T11:23:53.865Z"
   },
   {
    "duration": 5,
    "start_time": "2022-11-03T11:23:53.877Z"
   },
   {
    "duration": 8,
    "start_time": "2022-11-03T11:23:53.884Z"
   },
   {
    "duration": 8,
    "start_time": "2022-11-03T11:23:53.893Z"
   },
   {
    "duration": 15,
    "start_time": "2022-11-03T11:23:53.903Z"
   },
   {
    "duration": 57,
    "start_time": "2022-11-03T11:23:53.920Z"
   },
   {
    "duration": 12,
    "start_time": "2022-11-03T11:23:53.978Z"
   },
   {
    "duration": 9,
    "start_time": "2022-11-03T11:23:53.992Z"
   },
   {
    "duration": 39,
    "start_time": "2022-11-03T11:23:54.004Z"
   },
   {
    "duration": 4,
    "start_time": "2022-11-03T11:26:02.819Z"
   },
   {
    "duration": 7,
    "start_time": "2022-11-03T11:26:06.944Z"
   },
   {
    "duration": 8,
    "start_time": "2022-11-03T11:26:06.954Z"
   },
   {
    "duration": 111,
    "start_time": "2022-11-03T11:26:06.965Z"
   },
   {
    "duration": 43,
    "start_time": "2022-11-03T11:26:07.078Z"
   },
   {
    "duration": 25,
    "start_time": "2022-11-03T11:26:07.124Z"
   },
   {
    "duration": 21,
    "start_time": "2022-11-03T11:26:07.150Z"
   },
   {
    "duration": 13,
    "start_time": "2022-11-03T11:26:07.173Z"
   },
   {
    "duration": 14,
    "start_time": "2022-11-03T11:26:07.189Z"
   },
   {
    "duration": 16,
    "start_time": "2022-11-03T11:26:07.205Z"
   },
   {
    "duration": 21,
    "start_time": "2022-11-03T11:26:07.223Z"
   },
   {
    "duration": 21,
    "start_time": "2022-11-03T11:26:07.247Z"
   },
   {
    "duration": 8,
    "start_time": "2022-11-03T11:26:07.270Z"
   },
   {
    "duration": 25,
    "start_time": "2022-11-03T11:26:07.280Z"
   },
   {
    "duration": 12,
    "start_time": "2022-11-03T11:26:07.308Z"
   },
   {
    "duration": 17,
    "start_time": "2022-11-03T11:26:07.322Z"
   },
   {
    "duration": 31,
    "start_time": "2022-11-03T11:26:07.340Z"
   },
   {
    "duration": 13,
    "start_time": "2022-11-03T11:26:07.373Z"
   },
   {
    "duration": 6,
    "start_time": "2022-11-03T11:26:07.388Z"
   },
   {
    "duration": 11,
    "start_time": "2022-11-03T11:26:07.396Z"
   },
   {
    "duration": 9,
    "start_time": "2022-11-03T11:26:07.409Z"
   },
   {
    "duration": 14,
    "start_time": "2022-11-03T11:26:07.421Z"
   },
   {
    "duration": 33,
    "start_time": "2022-11-03T11:26:07.436Z"
   },
   {
    "duration": 27,
    "start_time": "2022-11-03T11:26:07.471Z"
   },
   {
    "duration": 5,
    "start_time": "2022-11-03T11:26:07.499Z"
   },
   {
    "duration": 10,
    "start_time": "2022-11-03T11:26:07.506Z"
   },
   {
    "duration": 9,
    "start_time": "2022-11-03T11:26:07.517Z"
   },
   {
    "duration": 27,
    "start_time": "2022-11-03T11:26:07.528Z"
   },
   {
    "duration": 24,
    "start_time": "2022-11-03T11:26:07.557Z"
   },
   {
    "duration": 18,
    "start_time": "2022-11-03T11:26:07.583Z"
   },
   {
    "duration": 11,
    "start_time": "2022-11-03T11:26:07.603Z"
   },
   {
    "duration": 25,
    "start_time": "2022-11-03T11:26:07.616Z"
   },
   {
    "duration": 23,
    "start_time": "2022-11-03T11:26:07.642Z"
   },
   {
    "duration": 7,
    "start_time": "2022-11-03T11:26:07.667Z"
   },
   {
    "duration": 8,
    "start_time": "2022-11-03T11:26:07.676Z"
   },
   {
    "duration": 3,
    "start_time": "2022-11-03T11:26:07.686Z"
   },
   {
    "duration": 6,
    "start_time": "2022-11-03T11:26:07.690Z"
   },
   {
    "duration": 6,
    "start_time": "2022-11-03T11:26:07.698Z"
   },
   {
    "duration": 11,
    "start_time": "2022-11-03T11:26:07.706Z"
   },
   {
    "duration": 44,
    "start_time": "2022-11-03T11:26:07.734Z"
   },
   {
    "duration": 11,
    "start_time": "2022-11-03T11:26:07.781Z"
   },
   {
    "duration": 14,
    "start_time": "2022-11-03T11:26:07.796Z"
   },
   {
    "duration": 42,
    "start_time": "2022-11-03T11:26:07.812Z"
   },
   {
    "duration": 56,
    "start_time": "2022-11-03T11:26:39.062Z"
   },
   {
    "duration": 36,
    "start_time": "2022-11-03T11:26:44.771Z"
   },
   {
    "duration": 196,
    "start_time": "2022-11-03T11:28:42.676Z"
   },
   {
    "duration": 197,
    "start_time": "2022-11-03T11:30:16.400Z"
   },
   {
    "duration": 181,
    "start_time": "2022-11-03T11:33:25.821Z"
   },
   {
    "duration": 187,
    "start_time": "2022-11-03T11:34:02.607Z"
   },
   {
    "duration": 186,
    "start_time": "2022-11-03T11:35:02.292Z"
   },
   {
    "duration": 218,
    "start_time": "2022-11-03T11:35:24.799Z"
   },
   {
    "duration": 301,
    "start_time": "2022-11-03T11:35:54.191Z"
   },
   {
    "duration": 4,
    "start_time": "2022-11-03T11:36:36.081Z"
   },
   {
    "duration": 157,
    "start_time": "2022-11-03T11:36:46.860Z"
   },
   {
    "duration": 162,
    "start_time": "2022-11-03T11:37:17.258Z"
   },
   {
    "duration": 25,
    "start_time": "2022-11-03T11:42:16.759Z"
   },
   {
    "duration": 24,
    "start_time": "2022-11-03T11:42:33.941Z"
   },
   {
    "duration": 25,
    "start_time": "2022-11-03T11:42:41.732Z"
   },
   {
    "duration": 35,
    "start_time": "2022-11-03T11:43:48.517Z"
   },
   {
    "duration": 16,
    "start_time": "2022-11-03T11:51:15.515Z"
   },
   {
    "duration": 3,
    "start_time": "2022-11-03T11:53:17.696Z"
   },
   {
    "duration": 17,
    "start_time": "2022-11-03T11:53:34.977Z"
   },
   {
    "duration": 20,
    "start_time": "2022-11-03T11:55:23.035Z"
   },
   {
    "duration": 98,
    "start_time": "2022-11-03T11:55:34.029Z"
   },
   {
    "duration": 4,
    "start_time": "2022-11-03T11:55:48.199Z"
   },
   {
    "duration": 24,
    "start_time": "2022-11-03T11:55:57.960Z"
   },
   {
    "duration": 3,
    "start_time": "2022-11-03T11:56:15.522Z"
   },
   {
    "duration": 4,
    "start_time": "2022-11-03T11:56:26.805Z"
   },
   {
    "duration": 7,
    "start_time": "2022-11-03T11:58:13.746Z"
   },
   {
    "duration": 3,
    "start_time": "2022-11-03T11:58:36.051Z"
   },
   {
    "duration": 5,
    "start_time": "2022-11-03T11:58:36.057Z"
   },
   {
    "duration": 103,
    "start_time": "2022-11-03T11:58:36.064Z"
   },
   {
    "duration": 44,
    "start_time": "2022-11-03T11:58:36.169Z"
   },
   {
    "duration": 24,
    "start_time": "2022-11-03T11:58:36.216Z"
   },
   {
    "duration": 12,
    "start_time": "2022-11-03T11:58:36.243Z"
   },
   {
    "duration": 14,
    "start_time": "2022-11-03T11:58:36.257Z"
   },
   {
    "duration": 15,
    "start_time": "2022-11-03T11:58:36.272Z"
   },
   {
    "duration": 20,
    "start_time": "2022-11-03T11:58:36.289Z"
   },
   {
    "duration": 22,
    "start_time": "2022-11-03T11:58:36.311Z"
   },
   {
    "duration": 21,
    "start_time": "2022-11-03T11:58:36.336Z"
   },
   {
    "duration": 14,
    "start_time": "2022-11-03T11:58:36.360Z"
   },
   {
    "duration": 31,
    "start_time": "2022-11-03T11:58:36.376Z"
   },
   {
    "duration": 12,
    "start_time": "2022-11-03T11:58:36.411Z"
   },
   {
    "duration": 20,
    "start_time": "2022-11-03T11:58:36.425Z"
   },
   {
    "duration": 28,
    "start_time": "2022-11-03T11:58:36.447Z"
   },
   {
    "duration": 37,
    "start_time": "2022-11-03T11:58:36.477Z"
   },
   {
    "duration": 12,
    "start_time": "2022-11-03T11:58:36.516Z"
   },
   {
    "duration": 32,
    "start_time": "2022-11-03T11:58:36.531Z"
   },
   {
    "duration": 6,
    "start_time": "2022-11-03T11:58:36.565Z"
   },
   {
    "duration": 25,
    "start_time": "2022-11-03T11:58:36.573Z"
   },
   {
    "duration": 21,
    "start_time": "2022-11-03T11:58:36.602Z"
   },
   {
    "duration": 41,
    "start_time": "2022-11-03T11:58:36.625Z"
   },
   {
    "duration": 5,
    "start_time": "2022-11-03T11:58:36.668Z"
   },
   {
    "duration": 19,
    "start_time": "2022-11-03T11:58:36.675Z"
   },
   {
    "duration": 10,
    "start_time": "2022-11-03T11:58:36.696Z"
   },
   {
    "duration": 18,
    "start_time": "2022-11-03T11:58:36.708Z"
   },
   {
    "duration": 16,
    "start_time": "2022-11-03T11:58:36.728Z"
   },
   {
    "duration": 17,
    "start_time": "2022-11-03T11:58:36.751Z"
   },
   {
    "duration": 10,
    "start_time": "2022-11-03T11:58:36.770Z"
   },
   {
    "duration": 11,
    "start_time": "2022-11-03T11:58:36.782Z"
   },
   {
    "duration": 15,
    "start_time": "2022-11-03T11:58:36.794Z"
   },
   {
    "duration": 8,
    "start_time": "2022-11-03T11:58:36.811Z"
   },
   {
    "duration": 27,
    "start_time": "2022-11-03T11:58:36.820Z"
   },
   {
    "duration": 3,
    "start_time": "2022-11-03T11:58:36.849Z"
   },
   {
    "duration": 6,
    "start_time": "2022-11-03T11:58:36.853Z"
   },
   {
    "duration": 5,
    "start_time": "2022-11-03T11:58:36.861Z"
   },
   {
    "duration": 7,
    "start_time": "2022-11-03T11:58:36.868Z"
   },
   {
    "duration": 31,
    "start_time": "2022-11-03T11:58:36.876Z"
   },
   {
    "duration": 8,
    "start_time": "2022-11-03T11:58:36.909Z"
   },
   {
    "duration": 13,
    "start_time": "2022-11-03T11:58:36.934Z"
   },
   {
    "duration": 26,
    "start_time": "2022-11-03T11:58:36.950Z"
   },
   {
    "duration": 174,
    "start_time": "2022-11-03T11:58:36.977Z"
   },
   {
    "duration": 30,
    "start_time": "2022-11-03T11:58:37.153Z"
   },
   {
    "duration": 6,
    "start_time": "2022-11-03T11:58:37.185Z"
   },
   {
    "duration": 26,
    "start_time": "2022-11-03T11:58:37.192Z"
   },
   {
    "duration": 0,
    "start_time": "2022-11-03T11:58:37.220Z"
   },
   {
    "duration": 9,
    "start_time": "2022-11-03T11:59:02.117Z"
   },
   {
    "duration": 5,
    "start_time": "2022-11-03T11:59:27.973Z"
   },
   {
    "duration": 29,
    "start_time": "2022-11-03T11:59:30.601Z"
   },
   {
    "duration": 39,
    "start_time": "2022-11-03T12:00:41.146Z"
   },
   {
    "duration": 6,
    "start_time": "2022-11-03T12:01:00.786Z"
   },
   {
    "duration": 8,
    "start_time": "2022-11-03T12:01:12.267Z"
   },
   {
    "duration": 8,
    "start_time": "2022-11-03T12:01:25.386Z"
   },
   {
    "duration": 7,
    "start_time": "2022-11-03T12:01:35.057Z"
   },
   {
    "duration": 30,
    "start_time": "2022-11-03T12:02:13.345Z"
   },
   {
    "duration": 48,
    "start_time": "2022-11-03T12:03:21.078Z"
   },
   {
    "duration": 26,
    "start_time": "2022-11-03T12:03:55.217Z"
   },
   {
    "duration": 18,
    "start_time": "2022-11-03T12:04:10.472Z"
   },
   {
    "duration": 40,
    "start_time": "2022-11-03T12:04:17.330Z"
   },
   {
    "duration": 37,
    "start_time": "2022-11-03T12:04:50.178Z"
   },
   {
    "duration": 40,
    "start_time": "2022-11-03T12:04:57.624Z"
   },
   {
    "duration": 1258,
    "start_time": "2022-11-04T07:35:40.361Z"
   },
   {
    "duration": 3,
    "start_time": "2022-11-04T07:35:41.621Z"
   },
   {
    "duration": 218,
    "start_time": "2022-11-04T07:35:41.625Z"
   },
   {
    "duration": 82,
    "start_time": "2022-11-04T07:35:41.845Z"
   },
   {
    "duration": 18,
    "start_time": "2022-11-04T07:35:41.929Z"
   },
   {
    "duration": 10,
    "start_time": "2022-11-04T07:35:41.949Z"
   },
   {
    "duration": 2,
    "start_time": "2022-11-04T07:35:41.960Z"
   },
   {
    "duration": 8,
    "start_time": "2022-11-04T07:35:41.964Z"
   },
   {
    "duration": 9,
    "start_time": "2022-11-04T07:35:41.974Z"
   },
   {
    "duration": 29,
    "start_time": "2022-11-04T07:35:41.985Z"
   },
   {
    "duration": 10,
    "start_time": "2022-11-04T07:35:42.015Z"
   },
   {
    "duration": 7,
    "start_time": "2022-11-04T07:35:42.027Z"
   },
   {
    "duration": 20,
    "start_time": "2022-11-04T07:35:42.035Z"
   },
   {
    "duration": 5,
    "start_time": "2022-11-04T07:35:42.056Z"
   },
   {
    "duration": 6,
    "start_time": "2022-11-04T07:35:42.062Z"
   },
   {
    "duration": 13,
    "start_time": "2022-11-04T07:35:42.070Z"
   },
   {
    "duration": 30,
    "start_time": "2022-11-04T07:35:42.085Z"
   },
   {
    "duration": 7,
    "start_time": "2022-11-04T07:35:42.117Z"
   },
   {
    "duration": 11,
    "start_time": "2022-11-04T07:35:42.125Z"
   },
   {
    "duration": 7,
    "start_time": "2022-11-04T07:35:42.138Z"
   },
   {
    "duration": 10,
    "start_time": "2022-11-04T07:35:42.147Z"
   },
   {
    "duration": 14,
    "start_time": "2022-11-04T07:35:42.158Z"
   },
   {
    "duration": 45,
    "start_time": "2022-11-04T07:35:42.174Z"
   },
   {
    "duration": 4,
    "start_time": "2022-11-04T07:35:42.221Z"
   },
   {
    "duration": 11,
    "start_time": "2022-11-04T07:35:42.226Z"
   },
   {
    "duration": 7,
    "start_time": "2022-11-04T07:35:42.238Z"
   },
   {
    "duration": 17,
    "start_time": "2022-11-04T07:35:42.247Z"
   },
   {
    "duration": 9,
    "start_time": "2022-11-04T07:35:42.267Z"
   },
   {
    "duration": 10,
    "start_time": "2022-11-04T07:35:42.277Z"
   },
   {
    "duration": 21,
    "start_time": "2022-11-04T07:35:42.289Z"
   },
   {
    "duration": 11,
    "start_time": "2022-11-04T07:35:42.311Z"
   },
   {
    "duration": 13,
    "start_time": "2022-11-04T07:35:42.323Z"
   },
   {
    "duration": 4,
    "start_time": "2022-11-04T07:35:42.337Z"
   },
   {
    "duration": 5,
    "start_time": "2022-11-04T07:35:42.342Z"
   },
   {
    "duration": 4,
    "start_time": "2022-11-04T07:35:42.348Z"
   },
   {
    "duration": 4,
    "start_time": "2022-11-04T07:35:42.353Z"
   },
   {
    "duration": 5,
    "start_time": "2022-11-04T07:35:42.358Z"
   },
   {
    "duration": 5,
    "start_time": "2022-11-04T07:35:42.364Z"
   },
   {
    "duration": 59,
    "start_time": "2022-11-04T07:35:42.370Z"
   },
   {
    "duration": 8,
    "start_time": "2022-11-04T07:35:42.430Z"
   },
   {
    "duration": 6,
    "start_time": "2022-11-04T07:35:42.439Z"
   },
   {
    "duration": 13,
    "start_time": "2022-11-04T07:35:42.447Z"
   },
   {
    "duration": 220,
    "start_time": "2022-11-04T07:35:42.462Z"
   },
   {
    "duration": 42,
    "start_time": "2022-11-04T07:35:42.684Z"
   },
   {
    "duration": 6,
    "start_time": "2022-11-04T07:35:42.727Z"
   },
   {
    "duration": 16,
    "start_time": "2022-11-04T07:35:42.735Z"
   },
   {
    "duration": 34,
    "start_time": "2022-11-04T07:35:42.753Z"
   },
   {
    "duration": 47,
    "start_time": "2022-11-04T07:35:42.789Z"
   },
   {
    "duration": 45,
    "start_time": "2022-11-04T07:41:48.032Z"
   },
   {
    "duration": 44,
    "start_time": "2022-11-04T07:41:52.636Z"
   },
   {
    "duration": 41,
    "start_time": "2022-11-04T07:42:08.403Z"
   },
   {
    "duration": 5,
    "start_time": "2022-11-04T07:44:32.338Z"
   },
   {
    "duration": 45,
    "start_time": "2022-11-04T07:45:00.734Z"
   },
   {
    "duration": 105,
    "start_time": "2022-11-04T07:45:05.828Z"
   },
   {
    "duration": 6,
    "start_time": "2022-11-04T07:45:48.464Z"
   },
   {
    "duration": 115,
    "start_time": "2022-11-04T07:45:57.438Z"
   },
   {
    "duration": 8,
    "start_time": "2022-11-04T07:47:02.170Z"
   },
   {
    "duration": 3,
    "start_time": "2022-11-04T07:47:12.414Z"
   },
   {
    "duration": 8,
    "start_time": "2022-11-04T07:47:12.420Z"
   },
   {
    "duration": 124,
    "start_time": "2022-11-04T07:47:12.430Z"
   },
   {
    "duration": 49,
    "start_time": "2022-11-04T07:47:12.557Z"
   },
   {
    "duration": 22,
    "start_time": "2022-11-04T07:47:12.608Z"
   },
   {
    "duration": 32,
    "start_time": "2022-11-04T07:47:12.632Z"
   },
   {
    "duration": 43,
    "start_time": "2022-11-04T07:47:12.667Z"
   },
   {
    "duration": 41,
    "start_time": "2022-11-04T07:47:12.712Z"
   },
   {
    "duration": 52,
    "start_time": "2022-11-04T07:47:12.756Z"
   },
   {
    "duration": 29,
    "start_time": "2022-11-04T07:47:12.812Z"
   },
   {
    "duration": 31,
    "start_time": "2022-11-04T07:47:12.843Z"
   },
   {
    "duration": 47,
    "start_time": "2022-11-04T07:47:12.876Z"
   },
   {
    "duration": 31,
    "start_time": "2022-11-04T07:47:12.926Z"
   },
   {
    "duration": 18,
    "start_time": "2022-11-04T07:47:12.960Z"
   },
   {
    "duration": 12,
    "start_time": "2022-11-04T07:47:12.980Z"
   },
   {
    "duration": 19,
    "start_time": "2022-11-04T07:47:12.994Z"
   },
   {
    "duration": 19,
    "start_time": "2022-11-04T07:47:13.016Z"
   },
   {
    "duration": 9,
    "start_time": "2022-11-04T07:47:13.041Z"
   },
   {
    "duration": 10,
    "start_time": "2022-11-04T07:47:13.056Z"
   },
   {
    "duration": 11,
    "start_time": "2022-11-04T07:47:13.068Z"
   },
   {
    "duration": 14,
    "start_time": "2022-11-04T07:47:13.081Z"
   },
   {
    "duration": 16,
    "start_time": "2022-11-04T07:47:13.110Z"
   },
   {
    "duration": 23,
    "start_time": "2022-11-04T07:47:13.128Z"
   },
   {
    "duration": 5,
    "start_time": "2022-11-04T07:47:13.152Z"
   },
   {
    "duration": 7,
    "start_time": "2022-11-04T07:47:13.159Z"
   },
   {
    "duration": 43,
    "start_time": "2022-11-04T07:47:13.168Z"
   },
   {
    "duration": 22,
    "start_time": "2022-11-04T07:47:13.212Z"
   },
   {
    "duration": 15,
    "start_time": "2022-11-04T07:47:13.239Z"
   },
   {
    "duration": 13,
    "start_time": "2022-11-04T07:47:13.256Z"
   },
   {
    "duration": 11,
    "start_time": "2022-11-04T07:47:13.271Z"
   },
   {
    "duration": 14,
    "start_time": "2022-11-04T07:47:13.309Z"
   },
   {
    "duration": 27,
    "start_time": "2022-11-04T07:47:13.325Z"
   },
   {
    "duration": 22,
    "start_time": "2022-11-04T07:47:13.353Z"
   },
   {
    "duration": 17,
    "start_time": "2022-11-04T07:47:13.377Z"
   },
   {
    "duration": 43,
    "start_time": "2022-11-04T07:47:13.396Z"
   },
   {
    "duration": 0,
    "start_time": "2022-11-04T07:47:13.441Z"
   },
   {
    "duration": 0,
    "start_time": "2022-11-04T07:47:13.442Z"
   },
   {
    "duration": 0,
    "start_time": "2022-11-04T07:47:13.443Z"
   },
   {
    "duration": 0,
    "start_time": "2022-11-04T07:47:13.444Z"
   },
   {
    "duration": 0,
    "start_time": "2022-11-04T07:47:13.445Z"
   },
   {
    "duration": 0,
    "start_time": "2022-11-04T07:47:13.446Z"
   },
   {
    "duration": 0,
    "start_time": "2022-11-04T07:47:13.447Z"
   },
   {
    "duration": 0,
    "start_time": "2022-11-04T07:47:13.448Z"
   },
   {
    "duration": 0,
    "start_time": "2022-11-04T07:47:13.450Z"
   },
   {
    "duration": 0,
    "start_time": "2022-11-04T07:47:13.451Z"
   },
   {
    "duration": 0,
    "start_time": "2022-11-04T07:47:13.452Z"
   },
   {
    "duration": 0,
    "start_time": "2022-11-04T07:47:13.453Z"
   },
   {
    "duration": 0,
    "start_time": "2022-11-04T07:47:13.455Z"
   },
   {
    "duration": 9,
    "start_time": "2022-11-04T07:47:39.637Z"
   },
   {
    "duration": 3,
    "start_time": "2022-11-04T07:47:43.527Z"
   },
   {
    "duration": 13,
    "start_time": "2022-11-04T07:47:43.533Z"
   },
   {
    "duration": 113,
    "start_time": "2022-11-04T07:47:43.548Z"
   },
   {
    "duration": 39,
    "start_time": "2022-11-04T07:47:43.663Z"
   },
   {
    "duration": 13,
    "start_time": "2022-11-04T07:47:43.704Z"
   },
   {
    "duration": 23,
    "start_time": "2022-11-04T07:47:43.718Z"
   },
   {
    "duration": 25,
    "start_time": "2022-11-04T07:47:43.743Z"
   },
   {
    "duration": 17,
    "start_time": "2022-11-04T07:47:43.770Z"
   },
   {
    "duration": 27,
    "start_time": "2022-11-04T07:47:43.788Z"
   },
   {
    "duration": 38,
    "start_time": "2022-11-04T07:47:43.818Z"
   },
   {
    "duration": 41,
    "start_time": "2022-11-04T07:47:43.857Z"
   },
   {
    "duration": 25,
    "start_time": "2022-11-04T07:47:43.899Z"
   },
   {
    "duration": 35,
    "start_time": "2022-11-04T07:47:43.925Z"
   },
   {
    "duration": 34,
    "start_time": "2022-11-04T07:47:43.962Z"
   },
   {
    "duration": 21,
    "start_time": "2022-11-04T07:47:43.998Z"
   },
   {
    "duration": 35,
    "start_time": "2022-11-04T07:47:44.021Z"
   },
   {
    "duration": 25,
    "start_time": "2022-11-04T07:47:44.057Z"
   },
   {
    "duration": 23,
    "start_time": "2022-11-04T07:47:44.084Z"
   },
   {
    "duration": 26,
    "start_time": "2022-11-04T07:47:44.109Z"
   },
   {
    "duration": 33,
    "start_time": "2022-11-04T07:47:44.137Z"
   },
   {
    "duration": 50,
    "start_time": "2022-11-04T07:47:44.172Z"
   },
   {
    "duration": 27,
    "start_time": "2022-11-04T07:47:44.225Z"
   },
   {
    "duration": 22,
    "start_time": "2022-11-04T07:47:44.254Z"
   },
   {
    "duration": 6,
    "start_time": "2022-11-04T07:47:44.278Z"
   },
   {
    "duration": 6,
    "start_time": "2022-11-04T07:47:44.286Z"
   },
   {
    "duration": 16,
    "start_time": "2022-11-04T07:47:44.294Z"
   },
   {
    "duration": 40,
    "start_time": "2022-11-04T07:47:44.311Z"
   },
   {
    "duration": 25,
    "start_time": "2022-11-04T07:47:44.355Z"
   },
   {
    "duration": 15,
    "start_time": "2022-11-04T07:47:44.382Z"
   },
   {
    "duration": 11,
    "start_time": "2022-11-04T07:47:44.399Z"
   },
   {
    "duration": 37,
    "start_time": "2022-11-04T07:47:44.412Z"
   },
   {
    "duration": 43,
    "start_time": "2022-11-04T07:47:44.450Z"
   },
   {
    "duration": 19,
    "start_time": "2022-11-04T07:47:44.494Z"
   },
   {
    "duration": 41,
    "start_time": "2022-11-04T07:47:44.515Z"
   },
   {
    "duration": 43,
    "start_time": "2022-11-04T07:47:44.557Z"
   },
   {
    "duration": 0,
    "start_time": "2022-11-04T07:47:44.601Z"
   },
   {
    "duration": 0,
    "start_time": "2022-11-04T07:47:44.603Z"
   },
   {
    "duration": 0,
    "start_time": "2022-11-04T07:47:44.604Z"
   },
   {
    "duration": 0,
    "start_time": "2022-11-04T07:47:44.606Z"
   },
   {
    "duration": 0,
    "start_time": "2022-11-04T07:47:44.607Z"
   },
   {
    "duration": 0,
    "start_time": "2022-11-04T07:47:44.608Z"
   },
   {
    "duration": 0,
    "start_time": "2022-11-04T07:47:44.610Z"
   },
   {
    "duration": 0,
    "start_time": "2022-11-04T07:47:44.611Z"
   },
   {
    "duration": 0,
    "start_time": "2022-11-04T07:47:44.612Z"
   },
   {
    "duration": 0,
    "start_time": "2022-11-04T07:47:44.613Z"
   },
   {
    "duration": 0,
    "start_time": "2022-11-04T07:47:44.615Z"
   },
   {
    "duration": 0,
    "start_time": "2022-11-04T07:47:44.616Z"
   },
   {
    "duration": 0,
    "start_time": "2022-11-04T07:47:44.618Z"
   },
   {
    "duration": 5,
    "start_time": "2022-11-04T07:47:56.937Z"
   },
   {
    "duration": 19,
    "start_time": "2022-11-04T07:47:56.943Z"
   },
   {
    "duration": 109,
    "start_time": "2022-11-04T07:47:56.964Z"
   },
   {
    "duration": 40,
    "start_time": "2022-11-04T07:47:57.076Z"
   },
   {
    "duration": 20,
    "start_time": "2022-11-04T07:47:57.118Z"
   },
   {
    "duration": 13,
    "start_time": "2022-11-04T07:47:57.140Z"
   },
   {
    "duration": 6,
    "start_time": "2022-11-04T07:47:57.155Z"
   },
   {
    "duration": 9,
    "start_time": "2022-11-04T07:47:57.163Z"
   },
   {
    "duration": 39,
    "start_time": "2022-11-04T07:47:57.173Z"
   },
   {
    "duration": 15,
    "start_time": "2022-11-04T07:47:57.215Z"
   },
   {
    "duration": 9,
    "start_time": "2022-11-04T07:47:57.232Z"
   },
   {
    "duration": 7,
    "start_time": "2022-11-04T07:47:57.243Z"
   },
   {
    "duration": 21,
    "start_time": "2022-11-04T07:47:57.252Z"
   },
   {
    "duration": 42,
    "start_time": "2022-11-04T07:47:57.274Z"
   },
   {
    "duration": 8,
    "start_time": "2022-11-04T07:47:57.318Z"
   },
   {
    "duration": 11,
    "start_time": "2022-11-04T07:47:57.327Z"
   },
   {
    "duration": 10,
    "start_time": "2022-11-04T07:47:57.339Z"
   },
   {
    "duration": 5,
    "start_time": "2022-11-04T07:47:57.350Z"
   },
   {
    "duration": 8,
    "start_time": "2022-11-04T07:47:57.357Z"
   },
   {
    "duration": 7,
    "start_time": "2022-11-04T07:47:57.367Z"
   },
   {
    "duration": 38,
    "start_time": "2022-11-04T07:47:57.375Z"
   },
   {
    "duration": 14,
    "start_time": "2022-11-04T07:47:57.414Z"
   },
   {
    "duration": 22,
    "start_time": "2022-11-04T07:47:57.430Z"
   },
   {
    "duration": 5,
    "start_time": "2022-11-04T07:47:57.453Z"
   },
   {
    "duration": 11,
    "start_time": "2022-11-04T07:47:57.459Z"
   },
   {
    "duration": 41,
    "start_time": "2022-11-04T07:47:57.471Z"
   },
   {
    "duration": 16,
    "start_time": "2022-11-04T07:47:57.513Z"
   },
   {
    "duration": 15,
    "start_time": "2022-11-04T07:47:57.532Z"
   },
   {
    "duration": 16,
    "start_time": "2022-11-04T07:47:57.548Z"
   },
   {
    "duration": 16,
    "start_time": "2022-11-04T07:47:57.566Z"
   },
   {
    "duration": 35,
    "start_time": "2022-11-04T07:47:57.584Z"
   },
   {
    "duration": 20,
    "start_time": "2022-11-04T07:47:57.621Z"
   },
   {
    "duration": 11,
    "start_time": "2022-11-04T07:47:57.643Z"
   },
   {
    "duration": 7,
    "start_time": "2022-11-04T07:47:57.656Z"
   },
   {
    "duration": 122,
    "start_time": "2022-11-04T07:47:57.666Z"
   },
   {
    "duration": 0,
    "start_time": "2022-11-04T07:47:57.790Z"
   },
   {
    "duration": 0,
    "start_time": "2022-11-04T07:47:57.791Z"
   },
   {
    "duration": 0,
    "start_time": "2022-11-04T07:47:57.792Z"
   },
   {
    "duration": 0,
    "start_time": "2022-11-04T07:47:57.793Z"
   },
   {
    "duration": 0,
    "start_time": "2022-11-04T07:47:57.794Z"
   },
   {
    "duration": 0,
    "start_time": "2022-11-04T07:47:57.795Z"
   },
   {
    "duration": 0,
    "start_time": "2022-11-04T07:47:57.796Z"
   },
   {
    "duration": 0,
    "start_time": "2022-11-04T07:47:57.797Z"
   },
   {
    "duration": 0,
    "start_time": "2022-11-04T07:47:57.798Z"
   },
   {
    "duration": 0,
    "start_time": "2022-11-04T07:47:57.800Z"
   },
   {
    "duration": 0,
    "start_time": "2022-11-04T07:47:57.801Z"
   },
   {
    "duration": 0,
    "start_time": "2022-11-04T07:47:57.801Z"
   },
   {
    "duration": 0,
    "start_time": "2022-11-04T07:47:57.802Z"
   },
   {
    "duration": 10,
    "start_time": "2022-11-04T07:48:10.896Z"
   },
   {
    "duration": 4,
    "start_time": "2022-11-04T07:48:16.606Z"
   },
   {
    "duration": 4,
    "start_time": "2022-11-04T07:48:16.613Z"
   },
   {
    "duration": 140,
    "start_time": "2022-11-04T07:48:16.619Z"
   },
   {
    "duration": 44,
    "start_time": "2022-11-04T07:48:16.761Z"
   },
   {
    "duration": 18,
    "start_time": "2022-11-04T07:48:16.807Z"
   },
   {
    "duration": 22,
    "start_time": "2022-11-04T07:48:16.826Z"
   },
   {
    "duration": 9,
    "start_time": "2022-11-04T07:48:16.850Z"
   },
   {
    "duration": 13,
    "start_time": "2022-11-04T07:48:16.862Z"
   },
   {
    "duration": 20,
    "start_time": "2022-11-04T07:48:16.877Z"
   },
   {
    "duration": 24,
    "start_time": "2022-11-04T07:48:16.899Z"
   },
   {
    "duration": 12,
    "start_time": "2022-11-04T07:48:16.926Z"
   },
   {
    "duration": 11,
    "start_time": "2022-11-04T07:48:16.940Z"
   },
   {
    "duration": 30,
    "start_time": "2022-11-04T07:48:16.953Z"
   },
   {
    "duration": 3,
    "start_time": "2022-11-04T07:48:17.011Z"
   },
   {
    "duration": 10,
    "start_time": "2022-11-04T07:48:17.016Z"
   },
   {
    "duration": 15,
    "start_time": "2022-11-04T07:48:17.028Z"
   },
   {
    "duration": 15,
    "start_time": "2022-11-04T07:48:17.045Z"
   },
   {
    "duration": 9,
    "start_time": "2022-11-04T07:48:17.061Z"
   },
   {
    "duration": 8,
    "start_time": "2022-11-04T07:48:17.072Z"
   },
   {
    "duration": 32,
    "start_time": "2022-11-04T07:48:17.082Z"
   },
   {
    "duration": 14,
    "start_time": "2022-11-04T07:48:17.116Z"
   },
   {
    "duration": 15,
    "start_time": "2022-11-04T07:48:17.132Z"
   },
   {
    "duration": 21,
    "start_time": "2022-11-04T07:48:17.148Z"
   },
   {
    "duration": 41,
    "start_time": "2022-11-04T07:48:17.170Z"
   },
   {
    "duration": 9,
    "start_time": "2022-11-04T07:48:17.213Z"
   },
   {
    "duration": 7,
    "start_time": "2022-11-04T07:48:17.224Z"
   },
   {
    "duration": 15,
    "start_time": "2022-11-04T07:48:17.233Z"
   },
   {
    "duration": 10,
    "start_time": "2022-11-04T07:48:17.250Z"
   },
   {
    "duration": 8,
    "start_time": "2022-11-04T07:48:17.262Z"
   },
   {
    "duration": 46,
    "start_time": "2022-11-04T07:48:17.272Z"
   },
   {
    "duration": 10,
    "start_time": "2022-11-04T07:48:17.320Z"
   },
   {
    "duration": 14,
    "start_time": "2022-11-04T07:48:17.332Z"
   },
   {
    "duration": 6,
    "start_time": "2022-11-04T07:48:17.347Z"
   },
   {
    "duration": 11,
    "start_time": "2022-11-04T07:48:17.354Z"
   },
   {
    "duration": 38,
    "start_time": "2022-11-04T07:48:17.366Z"
   },
   {
    "duration": 0,
    "start_time": "2022-11-04T07:48:17.406Z"
   },
   {
    "duration": 0,
    "start_time": "2022-11-04T07:48:17.409Z"
   },
   {
    "duration": 0,
    "start_time": "2022-11-04T07:48:17.409Z"
   },
   {
    "duration": 0,
    "start_time": "2022-11-04T07:48:17.411Z"
   },
   {
    "duration": 0,
    "start_time": "2022-11-04T07:48:17.412Z"
   },
   {
    "duration": 0,
    "start_time": "2022-11-04T07:48:17.414Z"
   },
   {
    "duration": 0,
    "start_time": "2022-11-04T07:48:17.415Z"
   },
   {
    "duration": 0,
    "start_time": "2022-11-04T07:48:17.416Z"
   },
   {
    "duration": 0,
    "start_time": "2022-11-04T07:48:17.416Z"
   },
   {
    "duration": 0,
    "start_time": "2022-11-04T07:48:17.417Z"
   },
   {
    "duration": 0,
    "start_time": "2022-11-04T07:48:17.418Z"
   },
   {
    "duration": 0,
    "start_time": "2022-11-04T07:48:17.418Z"
   },
   {
    "duration": 0,
    "start_time": "2022-11-04T07:48:17.419Z"
   },
   {
    "duration": 3,
    "start_time": "2022-11-04T07:52:05.897Z"
   },
   {
    "duration": 5,
    "start_time": "2022-11-04T07:52:18.361Z"
   },
   {
    "duration": 3,
    "start_time": "2022-11-04T07:52:29.350Z"
   },
   {
    "duration": 4,
    "start_time": "2022-11-04T07:52:40.729Z"
   },
   {
    "duration": 4,
    "start_time": "2022-11-04T07:52:50.929Z"
   },
   {
    "duration": 3,
    "start_time": "2022-11-04T07:56:30.965Z"
   },
   {
    "duration": 68,
    "start_time": "2022-11-04T07:57:20.176Z"
   },
   {
    "duration": 3,
    "start_time": "2022-11-04T07:57:36.161Z"
   },
   {
    "duration": 182,
    "start_time": "2022-11-04T07:57:42.097Z"
   },
   {
    "duration": 9,
    "start_time": "2022-11-04T07:59:12.720Z"
   },
   {
    "duration": 3,
    "start_time": "2022-11-04T07:59:28.663Z"
   },
   {
    "duration": 7,
    "start_time": "2022-11-04T07:59:29.683Z"
   },
   {
    "duration": 76,
    "start_time": "2022-11-04T07:59:34.765Z"
   },
   {
    "duration": 188,
    "start_time": "2022-11-04T08:00:34.622Z"
   },
   {
    "duration": 8,
    "start_time": "2022-11-04T08:01:44.903Z"
   },
   {
    "duration": 14,
    "start_time": "2022-11-04T08:01:52.702Z"
   },
   {
    "duration": 54,
    "start_time": "2022-11-04T08:01:55.577Z"
   },
   {
    "duration": 12,
    "start_time": "2022-11-04T08:03:57.010Z"
   },
   {
    "duration": 4,
    "start_time": "2022-11-04T08:04:06.566Z"
   },
   {
    "duration": 13,
    "start_time": "2022-11-04T08:04:23.321Z"
   },
   {
    "duration": 54,
    "start_time": "2022-11-04T08:04:24.498Z"
   },
   {
    "duration": 5,
    "start_time": "2022-11-04T08:05:11.265Z"
   },
   {
    "duration": 4,
    "start_time": "2022-11-04T08:06:16.957Z"
   },
   {
    "duration": 49,
    "start_time": "2022-11-04T08:10:18.807Z"
   },
   {
    "duration": 45,
    "start_time": "2022-11-04T08:10:31.704Z"
   },
   {
    "duration": 3,
    "start_time": "2022-11-04T08:12:34.982Z"
   },
   {
    "duration": 12,
    "start_time": "2022-11-04T08:12:39.012Z"
   },
   {
    "duration": 36,
    "start_time": "2022-11-04T08:12:44.131Z"
   },
   {
    "duration": 3,
    "start_time": "2022-11-04T08:13:49.407Z"
   },
   {
    "duration": 10,
    "start_time": "2022-11-04T08:13:50.470Z"
   },
   {
    "duration": 35,
    "start_time": "2022-11-04T08:13:52.423Z"
   },
   {
    "duration": 50,
    "start_time": "2022-11-04T08:15:36.938Z"
   },
   {
    "duration": 953,
    "start_time": "2022-11-04T08:15:45.786Z"
   },
   {
    "duration": 872,
    "start_time": "2022-11-04T08:16:07.677Z"
   },
   {
    "duration": 3,
    "start_time": "2022-11-04T08:17:35.235Z"
   },
   {
    "duration": 9,
    "start_time": "2022-11-04T08:17:36.672Z"
   },
   {
    "duration": 4,
    "start_time": "2022-11-04T08:17:37.224Z"
   },
   {
    "duration": 53,
    "start_time": "2022-11-04T08:17:38.073Z"
   },
   {
    "duration": 42,
    "start_time": "2022-11-04T08:18:26.383Z"
   },
   {
    "duration": 45,
    "start_time": "2022-11-04T08:19:28.458Z"
   },
   {
    "duration": 2,
    "start_time": "2022-11-04T08:19:38.223Z"
   },
   {
    "duration": 11,
    "start_time": "2022-11-04T08:19:39.068Z"
   },
   {
    "duration": 4,
    "start_time": "2022-11-04T08:19:39.400Z"
   },
   {
    "duration": 4,
    "start_time": "2022-11-04T08:19:46.433Z"
   },
   {
    "duration": 10,
    "start_time": "2022-11-04T08:19:46.438Z"
   },
   {
    "duration": 99,
    "start_time": "2022-11-04T08:19:46.450Z"
   },
   {
    "duration": 39,
    "start_time": "2022-11-04T08:19:46.551Z"
   },
   {
    "duration": 12,
    "start_time": "2022-11-04T08:19:46.592Z"
   },
   {
    "duration": 10,
    "start_time": "2022-11-04T08:19:46.606Z"
   },
   {
    "duration": 9,
    "start_time": "2022-11-04T08:19:46.618Z"
   },
   {
    "duration": 9,
    "start_time": "2022-11-04T08:19:46.628Z"
   },
   {
    "duration": 13,
    "start_time": "2022-11-04T08:19:46.639Z"
   },
   {
    "duration": 13,
    "start_time": "2022-11-04T08:19:46.654Z"
   },
   {
    "duration": 9,
    "start_time": "2022-11-04T08:19:46.668Z"
   },
   {
    "duration": 12,
    "start_time": "2022-11-04T08:19:46.678Z"
   },
   {
    "duration": 24,
    "start_time": "2022-11-04T08:19:46.692Z"
   },
   {
    "duration": 4,
    "start_time": "2022-11-04T08:19:46.719Z"
   },
   {
    "duration": 6,
    "start_time": "2022-11-04T08:19:46.725Z"
   },
   {
    "duration": 11,
    "start_time": "2022-11-04T08:19:46.733Z"
   },
   {
    "duration": 9,
    "start_time": "2022-11-04T08:19:46.746Z"
   },
   {
    "duration": 7,
    "start_time": "2022-11-04T08:19:46.756Z"
   },
   {
    "duration": 7,
    "start_time": "2022-11-04T08:19:46.765Z"
   },
   {
    "duration": 6,
    "start_time": "2022-11-04T08:19:46.773Z"
   },
   {
    "duration": 32,
    "start_time": "2022-11-04T08:19:46.781Z"
   },
   {
    "duration": 15,
    "start_time": "2022-11-04T08:19:46.814Z"
   },
   {
    "duration": 23,
    "start_time": "2022-11-04T08:19:46.830Z"
   },
   {
    "duration": 5,
    "start_time": "2022-11-04T08:19:46.855Z"
   },
   {
    "duration": 30,
    "start_time": "2022-11-04T08:19:46.862Z"
   },
   {
    "duration": 42,
    "start_time": "2022-11-04T08:19:46.894Z"
   },
   {
    "duration": 41,
    "start_time": "2022-11-04T08:19:46.937Z"
   },
   {
    "duration": 29,
    "start_time": "2022-11-04T08:19:46.980Z"
   },
   {
    "duration": 34,
    "start_time": "2022-11-04T08:19:47.011Z"
   },
   {
    "duration": 46,
    "start_time": "2022-11-04T08:19:47.046Z"
   },
   {
    "duration": 28,
    "start_time": "2022-11-04T08:19:47.094Z"
   },
   {
    "duration": 35,
    "start_time": "2022-11-04T08:19:47.123Z"
   },
   {
    "duration": 28,
    "start_time": "2022-11-04T08:19:47.159Z"
   },
   {
    "duration": 30,
    "start_time": "2022-11-04T08:19:47.189Z"
   },
   {
    "duration": 842,
    "start_time": "2022-11-04T08:19:47.221Z"
   },
   {
    "duration": 2,
    "start_time": "2022-11-04T08:19:48.065Z"
   },
   {
    "duration": 15,
    "start_time": "2022-11-04T08:19:48.108Z"
   },
   {
    "duration": 23,
    "start_time": "2022-11-04T08:19:48.125Z"
   },
   {
    "duration": 77,
    "start_time": "2022-11-04T08:19:48.149Z"
   },
   {
    "duration": 6,
    "start_time": "2022-11-04T08:19:48.227Z"
   },
   {
    "duration": 53,
    "start_time": "2022-11-04T08:19:48.236Z"
   },
   {
    "duration": 9,
    "start_time": "2022-11-04T08:19:48.291Z"
   },
   {
    "duration": 12,
    "start_time": "2022-11-04T08:19:48.301Z"
   },
   {
    "duration": 35,
    "start_time": "2022-11-04T08:19:48.314Z"
   },
   {
    "duration": 156,
    "start_time": "2022-11-04T08:19:48.350Z"
   },
   {
    "duration": 26,
    "start_time": "2022-11-04T08:19:48.508Z"
   },
   {
    "duration": 7,
    "start_time": "2022-11-04T08:19:48.536Z"
   },
   {
    "duration": 31,
    "start_time": "2022-11-04T08:19:48.544Z"
   },
   {
    "duration": 37,
    "start_time": "2022-11-04T08:19:48.576Z"
   },
   {
    "duration": 33,
    "start_time": "2022-11-04T08:19:48.614Z"
   },
   {
    "duration": 15,
    "start_time": "2022-11-04T08:20:02.713Z"
   },
   {
    "duration": 4,
    "start_time": "2022-11-04T08:20:02.911Z"
   },
   {
    "duration": 5,
    "start_time": "2022-11-04T08:20:15.158Z"
   },
   {
    "duration": 14,
    "start_time": "2022-11-04T08:20:58.148Z"
   },
   {
    "duration": 73,
    "start_time": "2022-11-04T08:23:20.855Z"
   },
   {
    "duration": 6,
    "start_time": "2022-11-04T08:23:23.619Z"
   },
   {
    "duration": 10,
    "start_time": "2022-11-04T08:23:54.866Z"
   },
   {
    "duration": 3,
    "start_time": "2022-11-04T08:24:29.754Z"
   },
   {
    "duration": 7,
    "start_time": "2022-11-04T08:24:30.988Z"
   },
   {
    "duration": 55,
    "start_time": "2022-11-04T08:25:21.234Z"
   },
   {
    "duration": 3,
    "start_time": "2022-11-04T08:25:32.188Z"
   },
   {
    "duration": 8,
    "start_time": "2022-11-04T08:25:33.386Z"
   },
   {
    "duration": 11,
    "start_time": "2022-11-04T08:26:00.537Z"
   },
   {
    "duration": 6,
    "start_time": "2022-11-04T08:26:00.865Z"
   },
   {
    "duration": 36,
    "start_time": "2022-11-04T08:26:06.994Z"
   },
   {
    "duration": 15,
    "start_time": "2022-11-04T08:27:09.291Z"
   },
   {
    "duration": 838,
    "start_time": "2022-11-04T08:27:38.687Z"
   },
   {
    "duration": 4,
    "start_time": "2022-11-04T08:32:01.758Z"
   },
   {
    "duration": 11,
    "start_time": "2022-11-04T08:32:01.764Z"
   },
   {
    "duration": 102,
    "start_time": "2022-11-04T08:32:01.777Z"
   },
   {
    "duration": 40,
    "start_time": "2022-11-04T08:32:01.881Z"
   },
   {
    "duration": 14,
    "start_time": "2022-11-04T08:32:01.923Z"
   },
   {
    "duration": 19,
    "start_time": "2022-11-04T08:32:01.938Z"
   },
   {
    "duration": 7,
    "start_time": "2022-11-04T08:32:01.958Z"
   },
   {
    "duration": 10,
    "start_time": "2022-11-04T08:32:01.966Z"
   },
   {
    "duration": 13,
    "start_time": "2022-11-04T08:32:01.978Z"
   },
   {
    "duration": 22,
    "start_time": "2022-11-04T08:32:01.994Z"
   },
   {
    "duration": 9,
    "start_time": "2022-11-04T08:32:02.018Z"
   },
   {
    "duration": 10,
    "start_time": "2022-11-04T08:32:02.029Z"
   },
   {
    "duration": 23,
    "start_time": "2022-11-04T08:32:02.041Z"
   },
   {
    "duration": 12,
    "start_time": "2022-11-04T08:32:02.065Z"
   },
   {
    "duration": 10,
    "start_time": "2022-11-04T08:32:02.078Z"
   },
   {
    "duration": 26,
    "start_time": "2022-11-04T08:32:02.090Z"
   },
   {
    "duration": 18,
    "start_time": "2022-11-04T08:32:02.117Z"
   },
   {
    "duration": 10,
    "start_time": "2022-11-04T08:32:02.136Z"
   },
   {
    "duration": 10,
    "start_time": "2022-11-04T08:32:02.147Z"
   },
   {
    "duration": 14,
    "start_time": "2022-11-04T08:32:02.158Z"
   },
   {
    "duration": 11,
    "start_time": "2022-11-04T08:32:02.174Z"
   },
   {
    "duration": 19,
    "start_time": "2022-11-04T08:32:02.186Z"
   },
   {
    "duration": 30,
    "start_time": "2022-11-04T08:32:02.206Z"
   },
   {
    "duration": 4,
    "start_time": "2022-11-04T08:32:02.238Z"
   },
   {
    "duration": 13,
    "start_time": "2022-11-04T08:32:02.243Z"
   },
   {
    "duration": 31,
    "start_time": "2022-11-04T08:32:02.257Z"
   },
   {
    "duration": 23,
    "start_time": "2022-11-04T08:32:02.289Z"
   },
   {
    "duration": 11,
    "start_time": "2022-11-04T08:32:02.315Z"
   },
   {
    "duration": 13,
    "start_time": "2022-11-04T08:32:02.327Z"
   },
   {
    "duration": 21,
    "start_time": "2022-11-04T08:32:02.341Z"
   },
   {
    "duration": 10,
    "start_time": "2022-11-04T08:32:02.363Z"
   },
   {
    "duration": 15,
    "start_time": "2022-11-04T08:32:02.374Z"
   },
   {
    "duration": 12,
    "start_time": "2022-11-04T08:32:02.390Z"
   },
   {
    "duration": 7,
    "start_time": "2022-11-04T08:32:02.404Z"
   },
   {
    "duration": 19,
    "start_time": "2022-11-04T08:32:02.412Z"
   },
   {
    "duration": 36,
    "start_time": "2022-11-04T08:32:02.432Z"
   },
   {
    "duration": 10,
    "start_time": "2022-11-04T08:32:02.470Z"
   },
   {
    "duration": 54,
    "start_time": "2022-11-04T08:32:02.482Z"
   },
   {
    "duration": 9,
    "start_time": "2022-11-04T08:32:02.538Z"
   },
   {
    "duration": 8,
    "start_time": "2022-11-04T08:32:02.549Z"
   },
   {
    "duration": 19,
    "start_time": "2022-11-04T08:32:02.560Z"
   },
   {
    "duration": 207,
    "start_time": "2022-11-04T08:32:02.581Z"
   },
   {
    "duration": 31,
    "start_time": "2022-11-04T08:32:02.789Z"
   },
   {
    "duration": 5,
    "start_time": "2022-11-04T08:32:02.822Z"
   },
   {
    "duration": 41,
    "start_time": "2022-11-04T08:32:02.829Z"
   },
   {
    "duration": 31,
    "start_time": "2022-11-04T08:32:02.872Z"
   },
   {
    "duration": 45,
    "start_time": "2022-11-04T08:32:02.904Z"
   },
   {
    "duration": 20,
    "start_time": "2022-11-04T08:32:59.676Z"
   },
   {
    "duration": 19,
    "start_time": "2022-11-04T08:36:26.808Z"
   },
   {
    "duration": 7,
    "start_time": "2022-11-04T08:37:08.546Z"
   },
   {
    "duration": 6,
    "start_time": "2022-11-04T08:37:14.870Z"
   },
   {
    "duration": 17,
    "start_time": "2022-11-04T08:37:32.740Z"
   },
   {
    "duration": 16,
    "start_time": "2022-11-04T08:37:59.385Z"
   },
   {
    "duration": 6,
    "start_time": "2022-11-04T08:38:20.258Z"
   },
   {
    "duration": 17,
    "start_time": "2022-11-04T08:38:21.305Z"
   },
   {
    "duration": 11,
    "start_time": "2022-11-04T08:39:36.911Z"
   },
   {
    "duration": 669,
    "start_time": "2022-11-04T08:39:54.027Z"
   },
   {
    "duration": 25,
    "start_time": "2022-11-04T08:52:33.479Z"
   },
   {
    "duration": 22,
    "start_time": "2022-11-04T08:52:57.179Z"
   },
   {
    "duration": 19,
    "start_time": "2022-11-04T08:53:58.155Z"
   },
   {
    "duration": 18,
    "start_time": "2022-11-04T08:58:04.355Z"
   },
   {
    "duration": 18,
    "start_time": "2022-11-04T08:59:41.380Z"
   },
   {
    "duration": 12,
    "start_time": "2022-11-04T09:03:54.041Z"
   },
   {
    "duration": 21,
    "start_time": "2022-11-04T09:03:59.854Z"
   },
   {
    "duration": 19,
    "start_time": "2022-11-04T09:04:05.758Z"
   },
   {
    "duration": 17,
    "start_time": "2022-11-04T09:04:28.640Z"
   },
   {
    "duration": 21,
    "start_time": "2022-11-04T09:05:32.233Z"
   },
   {
    "duration": 19,
    "start_time": "2022-11-04T09:05:45.022Z"
   },
   {
    "duration": 22,
    "start_time": "2022-11-04T09:08:20.833Z"
   },
   {
    "duration": 18,
    "start_time": "2022-11-04T09:09:06.044Z"
   },
   {
    "duration": 3,
    "start_time": "2022-11-04T09:23:01.993Z"
   },
   {
    "duration": 10,
    "start_time": "2022-11-04T09:23:23.285Z"
   },
   {
    "duration": 7,
    "start_time": "2022-11-04T09:24:49.152Z"
   },
   {
    "duration": 25,
    "start_time": "2022-11-04T09:24:53.661Z"
   },
   {
    "duration": 10,
    "start_time": "2022-11-04T09:26:18.224Z"
   },
   {
    "duration": 19,
    "start_time": "2022-11-04T09:26:18.787Z"
   },
   {
    "duration": 9,
    "start_time": "2022-11-04T09:30:32.299Z"
   },
   {
    "duration": 4,
    "start_time": "2022-11-04T09:31:15.975Z"
   },
   {
    "duration": 9,
    "start_time": "2022-11-04T09:31:27.315Z"
   },
   {
    "duration": 4,
    "start_time": "2022-11-04T09:31:27.585Z"
   },
   {
    "duration": 20,
    "start_time": "2022-11-04T09:31:40.449Z"
   },
   {
    "duration": 4,
    "start_time": "2022-11-04T09:32:30.312Z"
   },
   {
    "duration": 5,
    "start_time": "2022-11-04T09:32:39.340Z"
   },
   {
    "duration": 10,
    "start_time": "2022-11-04T09:38:06.966Z"
   },
   {
    "duration": 8,
    "start_time": "2022-11-04T09:40:03.415Z"
   },
   {
    "duration": 5,
    "start_time": "2022-11-04T09:41:20.481Z"
   },
   {
    "duration": 9,
    "start_time": "2022-11-04T09:41:20.797Z"
   },
   {
    "duration": 11,
    "start_time": "2022-11-04T09:41:21.558Z"
   },
   {
    "duration": 8,
    "start_time": "2022-11-04T09:41:28.681Z"
   },
   {
    "duration": 12,
    "start_time": "2022-11-04T09:41:30.168Z"
   },
   {
    "duration": 11,
    "start_time": "2022-11-04T09:42:28.271Z"
   },
   {
    "duration": 4,
    "start_time": "2022-11-04T09:42:30.238Z"
   },
   {
    "duration": 12,
    "start_time": "2022-11-04T09:42:30.578Z"
   },
   {
    "duration": 4,
    "start_time": "2022-11-04T09:42:33.272Z"
   },
   {
    "duration": 4,
    "start_time": "2022-11-04T09:42:33.764Z"
   },
   {
    "duration": 4,
    "start_time": "2022-11-04T09:42:38.614Z"
   },
   {
    "duration": 50,
    "start_time": "2022-11-04T09:42:38.620Z"
   },
   {
    "duration": 157,
    "start_time": "2022-11-04T09:42:38.672Z"
   },
   {
    "duration": 47,
    "start_time": "2022-11-04T09:42:38.832Z"
   },
   {
    "duration": 25,
    "start_time": "2022-11-04T09:42:38.881Z"
   },
   {
    "duration": 43,
    "start_time": "2022-11-04T09:42:38.909Z"
   },
   {
    "duration": 41,
    "start_time": "2022-11-04T09:42:38.954Z"
   },
   {
    "duration": 43,
    "start_time": "2022-11-04T09:42:38.997Z"
   },
   {
    "duration": 43,
    "start_time": "2022-11-04T09:42:39.042Z"
   },
   {
    "duration": 49,
    "start_time": "2022-11-04T09:42:39.089Z"
   },
   {
    "duration": 32,
    "start_time": "2022-11-04T09:42:39.140Z"
   },
   {
    "duration": 44,
    "start_time": "2022-11-04T09:42:39.174Z"
   },
   {
    "duration": 50,
    "start_time": "2022-11-04T09:42:39.220Z"
   },
   {
    "duration": 41,
    "start_time": "2022-11-04T09:42:39.272Z"
   },
   {
    "duration": 67,
    "start_time": "2022-11-04T09:42:39.315Z"
   },
   {
    "duration": 65,
    "start_time": "2022-11-04T09:42:39.384Z"
   },
   {
    "duration": 42,
    "start_time": "2022-11-04T09:42:39.450Z"
   },
   {
    "duration": 27,
    "start_time": "2022-11-04T09:42:39.494Z"
   },
   {
    "duration": 40,
    "start_time": "2022-11-04T09:42:39.522Z"
   },
   {
    "duration": 46,
    "start_time": "2022-11-04T09:42:39.564Z"
   },
   {
    "duration": 31,
    "start_time": "2022-11-04T09:42:39.612Z"
   },
   {
    "duration": 66,
    "start_time": "2022-11-04T09:42:39.645Z"
   },
   {
    "duration": 52,
    "start_time": "2022-11-04T09:42:39.714Z"
   },
   {
    "duration": 43,
    "start_time": "2022-11-04T09:42:39.768Z"
   },
   {
    "duration": 31,
    "start_time": "2022-11-04T09:42:39.813Z"
   },
   {
    "duration": 44,
    "start_time": "2022-11-04T09:42:39.845Z"
   },
   {
    "duration": 61,
    "start_time": "2022-11-04T09:42:39.890Z"
   },
   {
    "duration": 65,
    "start_time": "2022-11-04T09:42:39.955Z"
   },
   {
    "duration": 59,
    "start_time": "2022-11-04T09:42:40.021Z"
   },
   {
    "duration": 53,
    "start_time": "2022-11-04T09:42:40.082Z"
   },
   {
    "duration": 51,
    "start_time": "2022-11-04T09:42:40.137Z"
   },
   {
    "duration": 59,
    "start_time": "2022-11-04T09:42:40.190Z"
   },
   {
    "duration": 29,
    "start_time": "2022-11-04T09:42:40.250Z"
   },
   {
    "duration": 56,
    "start_time": "2022-11-04T09:42:40.280Z"
   },
   {
    "duration": 36,
    "start_time": "2022-11-04T09:42:40.337Z"
   },
   {
    "duration": 55,
    "start_time": "2022-11-04T09:42:40.374Z"
   },
   {
    "duration": 44,
    "start_time": "2022-11-04T09:42:40.431Z"
   },
   {
    "duration": 16,
    "start_time": "2022-11-04T09:42:40.476Z"
   },
   {
    "duration": 44,
    "start_time": "2022-11-04T09:42:40.493Z"
   },
   {
    "duration": 52,
    "start_time": "2022-11-04T09:42:40.539Z"
   },
   {
    "duration": 173,
    "start_time": "2022-11-04T09:42:40.593Z"
   },
   {
    "duration": 27,
    "start_time": "2022-11-04T09:42:40.768Z"
   },
   {
    "duration": 61,
    "start_time": "2022-11-04T09:42:40.797Z"
   },
   {
    "duration": 36,
    "start_time": "2022-11-04T09:42:40.860Z"
   },
   {
    "duration": 36,
    "start_time": "2022-11-04T09:42:40.898Z"
   },
   {
    "duration": 34,
    "start_time": "2022-11-04T09:42:40.936Z"
   },
   {
    "duration": 16,
    "start_time": "2022-11-04T09:42:40.972Z"
   },
   {
    "duration": 19,
    "start_time": "2022-11-04T09:42:40.990Z"
   },
   {
    "duration": 20,
    "start_time": "2022-11-04T09:42:41.010Z"
   },
   {
    "duration": 1184,
    "start_time": "2022-11-04T09:42:41.031Z"
   },
   {
    "duration": 19,
    "start_time": "2022-11-04T09:42:42.217Z"
   },
   {
    "duration": 80,
    "start_time": "2022-11-04T09:42:42.238Z"
   },
   {
    "duration": 25,
    "start_time": "2022-11-04T09:42:42.320Z"
   },
   {
    "duration": 9,
    "start_time": "2022-11-04T09:43:28.367Z"
   },
   {
    "duration": 16,
    "start_time": "2022-11-04T09:43:30.580Z"
   },
   {
    "duration": 665,
    "start_time": "2022-11-04T09:43:32.893Z"
   },
   {
    "duration": 23,
    "start_time": "2022-11-04T09:44:12.654Z"
   },
   {
    "duration": 28,
    "start_time": "2022-11-04T09:50:02.525Z"
   },
   {
    "duration": 28,
    "start_time": "2022-11-04T09:50:22.577Z"
   },
   {
    "duration": 22,
    "start_time": "2022-11-04T09:50:49.988Z"
   },
   {
    "duration": 94,
    "start_time": "2022-11-04T09:52:09.970Z"
   },
   {
    "duration": 25,
    "start_time": "2022-11-04T09:52:43.792Z"
   },
   {
    "duration": 54,
    "start_time": "2022-11-04T09:54:04.412Z"
   },
   {
    "duration": 4,
    "start_time": "2022-11-04T09:54:12.404Z"
   },
   {
    "duration": 33,
    "start_time": "2022-11-04T09:54:34.468Z"
   },
   {
    "duration": 31,
    "start_time": "2022-11-04T09:54:50.663Z"
   },
   {
    "duration": 24,
    "start_time": "2022-11-04T09:56:45.859Z"
   },
   {
    "duration": 14,
    "start_time": "2022-11-04T10:39:07.212Z"
   },
   {
    "duration": 15,
    "start_time": "2022-11-04T10:40:02.076Z"
   },
   {
    "duration": 14,
    "start_time": "2022-11-04T10:40:44.928Z"
   },
   {
    "duration": 15,
    "start_time": "2022-11-04T10:40:54.922Z"
   },
   {
    "duration": 14,
    "start_time": "2022-11-04T10:41:23.550Z"
   },
   {
    "duration": 48,
    "start_time": "2022-11-04T10:42:08.066Z"
   },
   {
    "duration": 26,
    "start_time": "2022-11-04T10:42:14.447Z"
   },
   {
    "duration": 26,
    "start_time": "2022-11-04T10:42:29.772Z"
   },
   {
    "duration": 24,
    "start_time": "2022-11-04T10:44:14.584Z"
   },
   {
    "duration": 12,
    "start_time": "2022-11-04T11:28:17.585Z"
   },
   {
    "duration": 10,
    "start_time": "2022-11-04T11:28:34.512Z"
   },
   {
    "duration": 4,
    "start_time": "2022-11-04T11:29:39.892Z"
   },
   {
    "duration": 10,
    "start_time": "2022-11-04T11:30:08.919Z"
   },
   {
    "duration": 15,
    "start_time": "2022-11-04T11:30:18.049Z"
   },
   {
    "duration": 4,
    "start_time": "2022-11-04T11:33:01.178Z"
   },
   {
    "duration": 126,
    "start_time": "2022-11-04T11:33:01.184Z"
   },
   {
    "duration": 110,
    "start_time": "2022-11-04T11:33:01.311Z"
   },
   {
    "duration": 40,
    "start_time": "2022-11-04T11:33:01.423Z"
   },
   {
    "duration": 16,
    "start_time": "2022-11-04T11:33:01.465Z"
   },
   {
    "duration": 11,
    "start_time": "2022-11-04T11:33:01.483Z"
   },
   {
    "duration": 5,
    "start_time": "2022-11-04T11:33:01.495Z"
   },
   {
    "duration": 33,
    "start_time": "2022-11-04T11:33:01.502Z"
   },
   {
    "duration": 21,
    "start_time": "2022-11-04T11:33:01.537Z"
   },
   {
    "duration": 32,
    "start_time": "2022-11-04T11:33:01.561Z"
   },
   {
    "duration": 15,
    "start_time": "2022-11-04T11:33:01.594Z"
   },
   {
    "duration": 17,
    "start_time": "2022-11-04T11:33:01.611Z"
   },
   {
    "duration": 23,
    "start_time": "2022-11-04T11:33:01.630Z"
   },
   {
    "duration": 27,
    "start_time": "2022-11-04T11:33:01.655Z"
   },
   {
    "duration": 21,
    "start_time": "2022-11-04T11:33:01.685Z"
   },
   {
    "duration": 12,
    "start_time": "2022-11-04T11:33:01.708Z"
   },
   {
    "duration": 4,
    "start_time": "2022-11-04T11:33:01.722Z"
   },
   {
    "duration": 15,
    "start_time": "2022-11-04T11:33:01.728Z"
   },
   {
    "duration": 14,
    "start_time": "2022-11-04T11:33:01.745Z"
   },
   {
    "duration": 18,
    "start_time": "2022-11-04T11:33:01.761Z"
   },
   {
    "duration": 8,
    "start_time": "2022-11-04T11:33:01.780Z"
   },
   {
    "duration": 16,
    "start_time": "2022-11-04T11:33:01.789Z"
   },
   {
    "duration": 14,
    "start_time": "2022-11-04T11:33:01.806Z"
   },
   {
    "duration": 40,
    "start_time": "2022-11-04T11:33:01.821Z"
   },
   {
    "duration": 5,
    "start_time": "2022-11-04T11:33:01.862Z"
   },
   {
    "duration": 27,
    "start_time": "2022-11-04T11:33:01.869Z"
   },
   {
    "duration": 11,
    "start_time": "2022-11-04T11:33:01.897Z"
   },
   {
    "duration": 14,
    "start_time": "2022-11-04T11:33:01.911Z"
   },
   {
    "duration": 9,
    "start_time": "2022-11-04T11:33:01.927Z"
   },
   {
    "duration": 35,
    "start_time": "2022-11-04T11:33:01.938Z"
   },
   {
    "duration": 54,
    "start_time": "2022-11-04T11:33:01.975Z"
   },
   {
    "duration": 16,
    "start_time": "2022-11-04T11:33:02.031Z"
   },
   {
    "duration": 27,
    "start_time": "2022-11-04T11:33:02.048Z"
   },
   {
    "duration": 3,
    "start_time": "2022-11-04T11:33:02.077Z"
   },
   {
    "duration": 9,
    "start_time": "2022-11-04T11:33:02.082Z"
   },
   {
    "duration": 18,
    "start_time": "2022-11-04T11:33:02.092Z"
   },
   {
    "duration": 8,
    "start_time": "2022-11-04T11:33:02.111Z"
   },
   {
    "duration": 17,
    "start_time": "2022-11-04T11:33:02.121Z"
   },
   {
    "duration": 8,
    "start_time": "2022-11-04T11:33:02.139Z"
   },
   {
    "duration": 9,
    "start_time": "2022-11-04T11:33:02.149Z"
   },
   {
    "duration": 26,
    "start_time": "2022-11-04T11:33:02.159Z"
   },
   {
    "duration": 155,
    "start_time": "2022-11-04T11:33:02.187Z"
   },
   {
    "duration": 26,
    "start_time": "2022-11-04T11:33:02.343Z"
   },
   {
    "duration": 5,
    "start_time": "2022-11-04T11:33:02.370Z"
   },
   {
    "duration": 14,
    "start_time": "2022-11-04T11:33:02.376Z"
   },
   {
    "duration": 38,
    "start_time": "2022-11-04T11:33:02.391Z"
   },
   {
    "duration": 33,
    "start_time": "2022-11-04T11:33:02.430Z"
   },
   {
    "duration": 17,
    "start_time": "2022-11-04T11:33:02.464Z"
   },
   {
    "duration": 33,
    "start_time": "2022-11-04T11:33:02.482Z"
   },
   {
    "duration": 27,
    "start_time": "2022-11-04T11:33:02.517Z"
   },
   {
    "duration": 733,
    "start_time": "2022-11-04T11:33:02.546Z"
   },
   {
    "duration": 28,
    "start_time": "2022-11-04T11:33:03.281Z"
   },
   {
    "duration": 18,
    "start_time": "2022-11-04T11:33:03.310Z"
   },
   {
    "duration": 31,
    "start_time": "2022-11-04T11:33:03.329Z"
   },
   {
    "duration": 14,
    "start_time": "2022-11-04T11:33:03.361Z"
   },
   {
    "duration": 636,
    "start_time": "2022-11-04T11:38:07.353Z"
   },
   {
    "duration": 7,
    "start_time": "2022-11-04T11:38:23.799Z"
   },
   {
    "duration": 7,
    "start_time": "2022-11-04T11:38:33.344Z"
   },
   {
    "duration": 5,
    "start_time": "2022-11-04T11:39:00.430Z"
   },
   {
    "duration": 22,
    "start_time": "2022-11-04T11:44:09.791Z"
   },
   {
    "duration": 9,
    "start_time": "2022-11-04T11:45:26.908Z"
   },
   {
    "duration": 12,
    "start_time": "2022-11-04T11:45:32.727Z"
   },
   {
    "duration": 5,
    "start_time": "2022-11-04T11:45:38.544Z"
   },
   {
    "duration": 17,
    "start_time": "2022-11-04T11:48:55.176Z"
   },
   {
    "duration": 17,
    "start_time": "2022-11-04T11:49:35.898Z"
   },
   {
    "duration": 10,
    "start_time": "2022-11-04T11:54:43.282Z"
   },
   {
    "duration": 11,
    "start_time": "2022-11-04T11:56:10.166Z"
   },
   {
    "duration": 11,
    "start_time": "2022-11-04T11:56:31.953Z"
   },
   {
    "duration": 11,
    "start_time": "2022-11-04T11:56:40.266Z"
   },
   {
    "duration": 41,
    "start_time": "2022-11-04T12:25:45.785Z"
   },
   {
    "duration": 42,
    "start_time": "2022-11-04T12:28:30.641Z"
   },
   {
    "duration": 57,
    "start_time": "2022-11-04T12:28:51.032Z"
   },
   {
    "duration": 32,
    "start_time": "2022-11-04T12:44:11.478Z"
   },
   {
    "duration": 18,
    "start_time": "2022-11-04T13:11:01.893Z"
   },
   {
    "duration": 16,
    "start_time": "2022-11-04T13:11:05.129Z"
   },
   {
    "duration": 37,
    "start_time": "2022-11-04T13:12:42.443Z"
   },
   {
    "duration": 9,
    "start_time": "2022-11-04T13:13:22.936Z"
   },
   {
    "duration": 42,
    "start_time": "2022-11-04T13:13:32.566Z"
   },
   {
    "duration": 28,
    "start_time": "2022-11-04T13:14:21.394Z"
   },
   {
    "duration": 5,
    "start_time": "2022-11-04T13:17:31.249Z"
   },
   {
    "duration": 4,
    "start_time": "2022-11-04T13:18:58.397Z"
   },
   {
    "duration": 4,
    "start_time": "2022-11-04T13:19:22.178Z"
   },
   {
    "duration": 24,
    "start_time": "2022-11-04T13:20:51.245Z"
   },
   {
    "duration": 22,
    "start_time": "2022-11-04T13:21:05.955Z"
   },
   {
    "duration": 29,
    "start_time": "2022-11-04T13:21:35.699Z"
   },
   {
    "duration": 9,
    "start_time": "2022-11-04T13:26:43.188Z"
   },
   {
    "duration": 16,
    "start_time": "2022-11-04T13:26:58.828Z"
   },
   {
    "duration": 6,
    "start_time": "2022-11-04T13:27:02.099Z"
   },
   {
    "duration": 23,
    "start_time": "2022-11-04T13:27:13.079Z"
   },
   {
    "duration": 5,
    "start_time": "2022-11-04T13:27:53.276Z"
   },
   {
    "duration": 4,
    "start_time": "2022-11-04T13:28:19.220Z"
   },
   {
    "duration": 4,
    "start_time": "2022-11-04T13:42:46.041Z"
   },
   {
    "duration": 33,
    "start_time": "2022-11-04T13:42:54.669Z"
   },
   {
    "duration": 25,
    "start_time": "2022-11-04T13:44:43.051Z"
   },
   {
    "duration": 31,
    "start_time": "2022-11-04T13:45:04.395Z"
   },
   {
    "duration": 29,
    "start_time": "2022-11-04T13:45:37.445Z"
   },
   {
    "duration": 18,
    "start_time": "2022-11-04T13:46:47.705Z"
   },
   {
    "duration": 20,
    "start_time": "2022-11-04T13:52:03.057Z"
   },
   {
    "duration": 4,
    "start_time": "2022-11-04T14:05:18.735Z"
   },
   {
    "duration": 18,
    "start_time": "2022-11-04T14:06:32.683Z"
   },
   {
    "duration": 5,
    "start_time": "2022-11-04T14:07:13.036Z"
   },
   {
    "duration": 2003,
    "start_time": "2022-11-04T18:15:15.729Z"
   },
   {
    "duration": 2,
    "start_time": "2022-11-04T18:15:17.734Z"
   },
   {
    "duration": 620,
    "start_time": "2022-11-04T18:15:17.737Z"
   },
   {
    "duration": 82,
    "start_time": "2022-11-04T18:15:18.359Z"
   },
   {
    "duration": 16,
    "start_time": "2022-11-04T18:15:18.443Z"
   },
   {
    "duration": 10,
    "start_time": "2022-11-04T18:15:18.461Z"
   },
   {
    "duration": 6,
    "start_time": "2022-11-04T18:15:18.472Z"
   },
   {
    "duration": 13,
    "start_time": "2022-11-04T18:15:18.479Z"
   },
   {
    "duration": 11,
    "start_time": "2022-11-04T18:15:18.494Z"
   },
   {
    "duration": 23,
    "start_time": "2022-11-04T18:15:18.506Z"
   },
   {
    "duration": 10,
    "start_time": "2022-11-04T18:15:18.530Z"
   },
   {
    "duration": 11,
    "start_time": "2022-11-04T18:15:18.541Z"
   },
   {
    "duration": 8,
    "start_time": "2022-11-04T18:15:18.554Z"
   },
   {
    "duration": 17,
    "start_time": "2022-11-04T18:15:18.565Z"
   },
   {
    "duration": 8,
    "start_time": "2022-11-04T18:15:18.584Z"
   },
   {
    "duration": 35,
    "start_time": "2022-11-04T18:15:18.594Z"
   },
   {
    "duration": 4,
    "start_time": "2022-11-04T18:15:18.631Z"
   },
   {
    "duration": 12,
    "start_time": "2022-11-04T18:15:18.636Z"
   },
   {
    "duration": 7,
    "start_time": "2022-11-04T18:15:18.649Z"
   },
   {
    "duration": 7,
    "start_time": "2022-11-04T18:15:18.657Z"
   },
   {
    "duration": 10,
    "start_time": "2022-11-04T18:15:18.666Z"
   },
   {
    "duration": 51,
    "start_time": "2022-11-04T18:15:18.678Z"
   },
   {
    "duration": 12,
    "start_time": "2022-11-04T18:15:18.731Z"
   },
   {
    "duration": 22,
    "start_time": "2022-11-04T18:15:18.744Z"
   },
   {
    "duration": 4,
    "start_time": "2022-11-04T18:15:18.822Z"
   },
   {
    "duration": 10,
    "start_time": "2022-11-04T18:15:18.827Z"
   },
   {
    "duration": 7,
    "start_time": "2022-11-04T18:15:18.838Z"
   },
   {
    "duration": 8,
    "start_time": "2022-11-04T18:15:18.847Z"
   },
   {
    "duration": 3,
    "start_time": "2022-11-04T18:15:18.857Z"
   },
   {
    "duration": 65,
    "start_time": "2022-11-04T18:15:18.862Z"
   },
   {
    "duration": 10,
    "start_time": "2022-11-04T18:15:18.928Z"
   },
   {
    "duration": 15,
    "start_time": "2022-11-04T18:15:18.939Z"
   },
   {
    "duration": 9,
    "start_time": "2022-11-04T18:15:18.956Z"
   },
   {
    "duration": 66,
    "start_time": "2022-11-04T18:15:18.966Z"
   },
   {
    "duration": 13,
    "start_time": "2022-11-04T18:15:19.034Z"
   },
   {
    "duration": 15,
    "start_time": "2022-11-04T18:15:19.048Z"
   },
   {
    "duration": 58,
    "start_time": "2022-11-04T18:15:19.064Z"
   },
   {
    "duration": 3,
    "start_time": "2022-11-04T18:15:19.123Z"
   },
   {
    "duration": 11,
    "start_time": "2022-11-04T18:15:19.127Z"
   },
   {
    "duration": 4,
    "start_time": "2022-11-04T18:15:19.140Z"
   },
   {
    "duration": 12,
    "start_time": "2022-11-04T18:15:19.147Z"
   },
   {
    "duration": 8,
    "start_time": "2022-11-04T18:15:19.161Z"
   },
   {
    "duration": 53,
    "start_time": "2022-11-04T18:15:19.170Z"
   },
   {
    "duration": 18,
    "start_time": "2022-11-04T18:15:19.225Z"
   },
   {
    "duration": 380,
    "start_time": "2022-11-04T18:15:19.244Z"
   },
   {
    "duration": 15,
    "start_time": "2022-11-04T18:15:19.626Z"
   },
   {
    "duration": 79,
    "start_time": "2022-11-04T18:15:19.643Z"
   },
   {
    "duration": 6,
    "start_time": "2022-11-04T18:15:19.723Z"
   },
   {
    "duration": 11,
    "start_time": "2022-11-04T18:15:19.731Z"
   },
   {
    "duration": 80,
    "start_time": "2022-11-04T18:15:19.743Z"
   },
   {
    "duration": 41,
    "start_time": "2022-11-04T18:15:19.824Z"
   },
   {
    "duration": 24,
    "start_time": "2022-11-04T18:15:19.921Z"
   },
   {
    "duration": 76,
    "start_time": "2022-11-04T18:15:19.946Z"
   },
   {
    "duration": 5,
    "start_time": "2022-11-04T18:15:20.023Z"
   },
   {
    "duration": 28,
    "start_time": "2022-11-04T18:15:20.029Z"
   },
   {
    "duration": 10,
    "start_time": "2022-11-04T18:15:20.058Z"
   },
   {
    "duration": 6,
    "start_time": "2022-11-04T18:15:20.069Z"
   },
   {
    "duration": 15,
    "start_time": "2022-11-04T18:15:20.122Z"
   },
   {
    "duration": 1081,
    "start_time": "2022-11-04T18:15:20.139Z"
   },
   {
    "duration": 30,
    "start_time": "2022-11-04T18:15:21.222Z"
   },
   {
    "duration": 25,
    "start_time": "2022-11-04T18:15:21.253Z"
   },
   {
    "duration": 30,
    "start_time": "2022-11-04T18:21:58.213Z"
   },
   {
    "duration": 5,
    "start_time": "2022-11-04T18:22:41.753Z"
   },
   {
    "duration": 4,
    "start_time": "2022-11-04T18:26:46.628Z"
   },
   {
    "duration": 31,
    "start_time": "2022-11-04T18:26:52.536Z"
   },
   {
    "duration": 28,
    "start_time": "2022-11-04T18:27:17.476Z"
   },
   {
    "duration": 3,
    "start_time": "2022-11-04T18:31:09.389Z"
   },
   {
    "duration": 387,
    "start_time": "2022-11-04T18:31:23.924Z"
   },
   {
    "duration": 28,
    "start_time": "2022-11-04T18:31:24.732Z"
   },
   {
    "duration": 6,
    "start_time": "2022-11-04T18:34:19.745Z"
   },
   {
    "duration": 286,
    "start_time": "2022-11-04T18:34:49.492Z"
   },
   {
    "duration": 3,
    "start_time": "2022-11-04T18:35:41.263Z"
   },
   {
    "duration": 429,
    "start_time": "2022-11-04T18:35:42.059Z"
   },
   {
    "duration": 6,
    "start_time": "2022-11-04T18:38:49.703Z"
   },
   {
    "duration": 29,
    "start_time": "2022-11-04T18:38:52.549Z"
   },
   {
    "duration": 6,
    "start_time": "2022-11-04T18:39:28.575Z"
   },
   {
    "duration": 325,
    "start_time": "2022-11-04T18:40:41.619Z"
   },
   {
    "duration": 3,
    "start_time": "2022-11-04T18:41:23.934Z"
   },
   {
    "duration": 4,
    "start_time": "2022-11-04T18:41:24.329Z"
   },
   {
    "duration": 281,
    "start_time": "2022-11-04T18:41:27.089Z"
   },
   {
    "duration": 3,
    "start_time": "2022-11-04T18:43:13.548Z"
   },
   {
    "duration": 4,
    "start_time": "2022-11-04T18:43:14.689Z"
   },
   {
    "duration": 286,
    "start_time": "2022-11-04T18:43:15.206Z"
   },
   {
    "duration": 3,
    "start_time": "2022-11-04T18:43:30.183Z"
   },
   {
    "duration": 5,
    "start_time": "2022-11-04T18:43:30.932Z"
   },
   {
    "duration": 4,
    "start_time": "2022-11-04T18:43:31.366Z"
   },
   {
    "duration": 35,
    "start_time": "2022-11-04T18:43:40.082Z"
   },
   {
    "duration": 5,
    "start_time": "2022-11-04T18:44:19.451Z"
   },
   {
    "duration": 6,
    "start_time": "2022-11-04T18:46:27.600Z"
   },
   {
    "duration": 8,
    "start_time": "2022-11-04T18:46:43.538Z"
   },
   {
    "duration": 3,
    "start_time": "2022-11-04T18:47:22.376Z"
   },
   {
    "duration": 272,
    "start_time": "2022-11-04T18:47:22.968Z"
   },
   {
    "duration": 3,
    "start_time": "2022-11-04T18:47:38.658Z"
   },
   {
    "duration": 9,
    "start_time": "2022-11-04T18:47:38.937Z"
   },
   {
    "duration": 2,
    "start_time": "2022-11-04T18:48:48.724Z"
   },
   {
    "duration": 346,
    "start_time": "2022-11-04T18:49:32.022Z"
   },
   {
    "duration": 3,
    "start_time": "2022-11-04T18:49:47.445Z"
   },
   {
    "duration": 8,
    "start_time": "2022-11-04T18:49:48.222Z"
   },
   {
    "duration": 11,
    "start_time": "2022-11-04T18:50:17.269Z"
   },
   {
    "duration": 8,
    "start_time": "2022-11-04T18:50:55.825Z"
   },
   {
    "duration": 7,
    "start_time": "2022-11-04T18:51:32.358Z"
   },
   {
    "duration": 8,
    "start_time": "2022-11-04T18:52:37.089Z"
   },
   {
    "duration": 5,
    "start_time": "2022-11-04T18:52:39.480Z"
   },
   {
    "duration": 8,
    "start_time": "2022-11-04T18:52:48.207Z"
   },
   {
    "duration": 4,
    "start_time": "2022-11-04T18:53:08.182Z"
   },
   {
    "duration": 4,
    "start_time": "2022-11-04T18:53:08.825Z"
   },
   {
    "duration": 32,
    "start_time": "2022-11-04T18:53:34.129Z"
   },
   {
    "duration": 3,
    "start_time": "2022-11-04T18:54:12.636Z"
   },
   {
    "duration": 2,
    "start_time": "2022-11-04T18:54:13.167Z"
   },
   {
    "duration": 8,
    "start_time": "2022-11-04T18:54:13.489Z"
   },
   {
    "duration": 5,
    "start_time": "2022-11-04T18:54:14.365Z"
   },
   {
    "duration": 4,
    "start_time": "2022-11-04T18:54:26.325Z"
   },
   {
    "duration": 32,
    "start_time": "2022-11-04T18:54:27.400Z"
   },
   {
    "duration": 3,
    "start_time": "2022-11-04T18:56:22.214Z"
   },
   {
    "duration": 2,
    "start_time": "2022-11-04T18:56:22.594Z"
   },
   {
    "duration": 8,
    "start_time": "2022-11-04T18:56:23.007Z"
   },
   {
    "duration": 4,
    "start_time": "2022-11-04T18:56:23.869Z"
   },
   {
    "duration": 31,
    "start_time": "2022-11-04T18:56:24.485Z"
   },
   {
    "duration": 3,
    "start_time": "2022-11-04T18:58:07.303Z"
   },
   {
    "duration": 31,
    "start_time": "2022-11-04T18:58:07.512Z"
   },
   {
    "duration": 4,
    "start_time": "2022-11-04T18:58:11.234Z"
   },
   {
    "duration": 20,
    "start_time": "2022-11-04T18:58:11.240Z"
   },
   {
    "duration": 109,
    "start_time": "2022-11-04T18:58:11.261Z"
   },
   {
    "duration": 38,
    "start_time": "2022-11-04T18:58:11.371Z"
   },
   {
    "duration": 12,
    "start_time": "2022-11-04T18:58:11.411Z"
   },
   {
    "duration": 35,
    "start_time": "2022-11-04T18:58:11.424Z"
   },
   {
    "duration": 23,
    "start_time": "2022-11-04T18:58:11.461Z"
   },
   {
    "duration": 23,
    "start_time": "2022-11-04T18:58:11.486Z"
   },
   {
    "duration": 29,
    "start_time": "2022-11-04T18:58:11.511Z"
   },
   {
    "duration": 52,
    "start_time": "2022-11-04T18:58:11.542Z"
   },
   {
    "duration": 27,
    "start_time": "2022-11-04T18:58:11.596Z"
   },
   {
    "duration": 44,
    "start_time": "2022-11-04T18:58:11.625Z"
   },
   {
    "duration": 17,
    "start_time": "2022-11-04T18:58:11.670Z"
   },
   {
    "duration": 29,
    "start_time": "2022-11-04T18:58:11.690Z"
   },
   {
    "duration": 11,
    "start_time": "2022-11-04T18:58:11.720Z"
   },
   {
    "duration": 22,
    "start_time": "2022-11-04T18:58:11.732Z"
   },
   {
    "duration": 12,
    "start_time": "2022-11-04T18:58:11.755Z"
   },
   {
    "duration": 20,
    "start_time": "2022-11-04T18:58:11.768Z"
   },
   {
    "duration": 23,
    "start_time": "2022-11-04T18:58:11.789Z"
   },
   {
    "duration": 32,
    "start_time": "2022-11-04T18:58:11.814Z"
   },
   {
    "duration": 24,
    "start_time": "2022-11-04T18:58:11.847Z"
   },
   {
    "duration": 33,
    "start_time": "2022-11-04T18:58:11.872Z"
   },
   {
    "duration": 27,
    "start_time": "2022-11-04T18:58:11.906Z"
   },
   {
    "duration": 41,
    "start_time": "2022-11-04T18:58:11.934Z"
   },
   {
    "duration": 9,
    "start_time": "2022-11-04T18:58:11.977Z"
   },
   {
    "duration": 6,
    "start_time": "2022-11-04T18:58:11.988Z"
   },
   {
    "duration": 16,
    "start_time": "2022-11-04T18:58:11.995Z"
   },
   {
    "duration": 16,
    "start_time": "2022-11-04T18:58:12.013Z"
   },
   {
    "duration": 13,
    "start_time": "2022-11-04T18:58:12.030Z"
   },
   {
    "duration": 35,
    "start_time": "2022-11-04T18:58:12.044Z"
   },
   {
    "duration": 12,
    "start_time": "2022-11-04T18:58:12.080Z"
   },
   {
    "duration": 19,
    "start_time": "2022-11-04T18:58:12.093Z"
   },
   {
    "duration": 10,
    "start_time": "2022-11-04T18:58:12.114Z"
   },
   {
    "duration": 23,
    "start_time": "2022-11-04T18:58:12.125Z"
   },
   {
    "duration": 10,
    "start_time": "2022-11-04T18:58:12.149Z"
   },
   {
    "duration": 25,
    "start_time": "2022-11-04T18:58:12.161Z"
   },
   {
    "duration": 15,
    "start_time": "2022-11-04T18:58:12.188Z"
   },
   {
    "duration": 17,
    "start_time": "2022-11-04T18:58:12.204Z"
   },
   {
    "duration": 33,
    "start_time": "2022-11-04T18:58:12.223Z"
   },
   {
    "duration": 19,
    "start_time": "2022-11-04T18:58:12.257Z"
   },
   {
    "duration": 16,
    "start_time": "2022-11-04T18:58:12.279Z"
   },
   {
    "duration": 9,
    "start_time": "2022-11-04T18:58:12.297Z"
   },
   {
    "duration": 18,
    "start_time": "2022-11-04T18:58:12.308Z"
   },
   {
    "duration": 20,
    "start_time": "2022-11-04T18:58:12.327Z"
   },
   {
    "duration": 144,
    "start_time": "2022-11-04T18:58:12.349Z"
   },
   {
    "duration": 13,
    "start_time": "2022-11-04T18:58:12.494Z"
   },
   {
    "duration": 32,
    "start_time": "2022-11-04T18:58:12.509Z"
   },
   {
    "duration": 5,
    "start_time": "2022-11-04T18:58:12.542Z"
   },
   {
    "duration": 24,
    "start_time": "2022-11-04T18:58:12.549Z"
   },
   {
    "duration": 27,
    "start_time": "2022-11-04T18:58:12.575Z"
   },
   {
    "duration": 40,
    "start_time": "2022-11-04T18:58:12.604Z"
   },
   {
    "duration": 20,
    "start_time": "2022-11-04T18:58:12.646Z"
   },
   {
    "duration": 20,
    "start_time": "2022-11-04T18:58:12.668Z"
   },
   {
    "duration": 5,
    "start_time": "2022-11-04T18:58:12.690Z"
   },
   {
    "duration": 43,
    "start_time": "2022-11-04T18:58:12.696Z"
   },
   {
    "duration": 5,
    "start_time": "2022-11-04T18:58:12.741Z"
   },
   {
    "duration": 10,
    "start_time": "2022-11-04T18:58:12.747Z"
   },
   {
    "duration": 38,
    "start_time": "2022-11-04T18:58:12.758Z"
   },
   {
    "duration": 764,
    "start_time": "2022-11-04T18:58:12.797Z"
   },
   {
    "duration": 18,
    "start_time": "2022-11-04T18:58:13.563Z"
   },
   {
    "duration": 18,
    "start_time": "2022-11-04T18:58:13.583Z"
   },
   {
    "duration": 20,
    "start_time": "2022-11-04T18:58:13.602Z"
   },
   {
    "duration": 3,
    "start_time": "2022-11-04T18:58:13.623Z"
   },
   {
    "duration": 4,
    "start_time": "2022-11-04T18:58:13.627Z"
   },
   {
    "duration": 1049,
    "start_time": "2022-11-04T18:58:13.632Z"
   },
   {
    "duration": 0,
    "start_time": "2022-11-04T18:58:14.683Z"
   },
   {
    "duration": 0,
    "start_time": "2022-11-04T18:58:14.684Z"
   },
   {
    "duration": 12,
    "start_time": "2022-11-04T18:59:12.645Z"
   },
   {
    "duration": 10,
    "start_time": "2022-11-04T18:59:55.684Z"
   },
   {
    "duration": 4,
    "start_time": "2022-11-04T19:00:35.146Z"
   },
   {
    "duration": 8,
    "start_time": "2022-11-04T19:00:35.151Z"
   },
   {
    "duration": 100,
    "start_time": "2022-11-04T19:00:35.160Z"
   },
   {
    "duration": 40,
    "start_time": "2022-11-04T19:00:35.262Z"
   },
   {
    "duration": 12,
    "start_time": "2022-11-04T19:00:35.303Z"
   },
   {
    "duration": 8,
    "start_time": "2022-11-04T19:00:35.316Z"
   },
   {
    "duration": 5,
    "start_time": "2022-11-04T19:00:35.325Z"
   },
   {
    "duration": 9,
    "start_time": "2022-11-04T19:00:35.331Z"
   },
   {
    "duration": 10,
    "start_time": "2022-11-04T19:00:35.341Z"
   },
   {
    "duration": 24,
    "start_time": "2022-11-04T19:00:35.354Z"
   },
   {
    "duration": 10,
    "start_time": "2022-11-04T19:00:35.379Z"
   },
   {
    "duration": 35,
    "start_time": "2022-11-04T19:00:35.391Z"
   },
   {
    "duration": 8,
    "start_time": "2022-11-04T19:00:35.428Z"
   },
   {
    "duration": 20,
    "start_time": "2022-11-04T19:00:35.438Z"
   },
   {
    "duration": 9,
    "start_time": "2022-11-04T19:00:35.459Z"
   },
   {
    "duration": 22,
    "start_time": "2022-11-04T19:00:35.470Z"
   },
   {
    "duration": 9,
    "start_time": "2022-11-04T19:00:35.493Z"
   },
   {
    "duration": 19,
    "start_time": "2022-11-04T19:00:35.503Z"
   },
   {
    "duration": 5,
    "start_time": "2022-11-04T19:00:35.524Z"
   },
   {
    "duration": 9,
    "start_time": "2022-11-04T19:00:35.530Z"
   },
   {
    "duration": 9,
    "start_time": "2022-11-04T19:00:35.541Z"
   },
   {
    "duration": 22,
    "start_time": "2022-11-04T19:00:35.551Z"
   },
   {
    "duration": 16,
    "start_time": "2022-11-04T19:00:35.575Z"
   },
   {
    "duration": 38,
    "start_time": "2022-11-04T19:00:35.593Z"
   },
   {
    "duration": 4,
    "start_time": "2022-11-04T19:00:35.632Z"
   },
   {
    "duration": 13,
    "start_time": "2022-11-04T19:00:35.638Z"
   },
   {
    "duration": 7,
    "start_time": "2022-11-04T19:00:35.653Z"
   },
   {
    "duration": 12,
    "start_time": "2022-11-04T19:00:35.663Z"
   },
   {
    "duration": 4,
    "start_time": "2022-11-04T19:00:35.676Z"
   },
   {
    "duration": 15,
    "start_time": "2022-11-04T19:00:35.681Z"
   },
   {
    "duration": 31,
    "start_time": "2022-11-04T19:00:35.698Z"
   },
   {
    "duration": 8,
    "start_time": "2022-11-04T19:00:35.730Z"
   },
   {
    "duration": 11,
    "start_time": "2022-11-04T19:00:35.739Z"
   },
   {
    "duration": 9,
    "start_time": "2022-11-04T19:00:35.752Z"
   },
   {
    "duration": 17,
    "start_time": "2022-11-04T19:00:35.762Z"
   },
   {
    "duration": 13,
    "start_time": "2022-11-04T19:00:35.780Z"
   },
   {
    "duration": 11,
    "start_time": "2022-11-04T19:00:35.795Z"
   },
   {
    "duration": 15,
    "start_time": "2022-11-04T19:00:35.807Z"
   },
   {
    "duration": 10,
    "start_time": "2022-11-04T19:00:35.823Z"
   },
   {
    "duration": 12,
    "start_time": "2022-11-04T19:00:35.835Z"
   },
   {
    "duration": 15,
    "start_time": "2022-11-04T19:00:35.849Z"
   },
   {
    "duration": 8,
    "start_time": "2022-11-04T19:00:35.865Z"
   },
   {
    "duration": 5,
    "start_time": "2022-11-04T19:00:35.875Z"
   },
   {
    "duration": 15,
    "start_time": "2022-11-04T19:00:35.881Z"
   },
   {
    "duration": 159,
    "start_time": "2022-11-04T19:00:35.898Z"
   },
   {
    "duration": 20,
    "start_time": "2022-11-04T19:00:36.061Z"
   },
   {
    "duration": 57,
    "start_time": "2022-11-04T19:00:36.083Z"
   },
   {
    "duration": 9,
    "start_time": "2022-11-04T19:00:36.143Z"
   },
   {
    "duration": 15,
    "start_time": "2022-11-04T19:00:36.153Z"
   },
   {
    "duration": 44,
    "start_time": "2022-11-04T19:00:36.169Z"
   },
   {
    "duration": 33,
    "start_time": "2022-11-04T19:00:36.221Z"
   },
   {
    "duration": 21,
    "start_time": "2022-11-04T19:00:36.255Z"
   },
   {
    "duration": 25,
    "start_time": "2022-11-04T19:00:36.278Z"
   },
   {
    "duration": 4,
    "start_time": "2022-11-04T19:00:36.305Z"
   },
   {
    "duration": 29,
    "start_time": "2022-11-04T19:00:36.310Z"
   },
   {
    "duration": 4,
    "start_time": "2022-11-04T19:00:36.340Z"
   },
   {
    "duration": 5,
    "start_time": "2022-11-04T19:00:36.346Z"
   },
   {
    "duration": 17,
    "start_time": "2022-11-04T19:00:36.352Z"
   },
   {
    "duration": 817,
    "start_time": "2022-11-04T19:00:36.370Z"
   },
   {
    "duration": 18,
    "start_time": "2022-11-04T19:00:37.188Z"
   },
   {
    "duration": 26,
    "start_time": "2022-11-04T19:00:37.208Z"
   },
   {
    "duration": 7,
    "start_time": "2022-11-04T19:00:37.235Z"
   },
   {
    "duration": 9,
    "start_time": "2022-11-04T19:00:37.243Z"
   },
   {
    "duration": 6,
    "start_time": "2022-11-04T19:00:37.254Z"
   },
   {
    "duration": 12,
    "start_time": "2022-11-04T19:00:37.262Z"
   },
   {
    "duration": 290,
    "start_time": "2022-11-04T19:00:37.275Z"
   },
   {
    "duration": 0,
    "start_time": "2022-11-04T19:00:37.567Z"
   },
   {
    "duration": 7,
    "start_time": "2022-11-04T19:01:08.417Z"
   },
   {
    "duration": 6,
    "start_time": "2022-11-04T19:01:15.669Z"
   },
   {
    "duration": 5,
    "start_time": "2022-11-04T19:01:49.832Z"
   },
   {
    "duration": 8,
    "start_time": "2022-11-04T19:02:06.915Z"
   },
   {
    "duration": 7,
    "start_time": "2022-11-04T19:02:07.241Z"
   },
   {
    "duration": 7,
    "start_time": "2022-11-04T19:02:08.451Z"
   },
   {
    "duration": 4,
    "start_time": "2022-11-04T19:02:31.447Z"
   },
   {
    "duration": 10,
    "start_time": "2022-11-04T19:02:31.453Z"
   },
   {
    "duration": 93,
    "start_time": "2022-11-04T19:02:31.464Z"
   },
   {
    "duration": 39,
    "start_time": "2022-11-04T19:02:31.559Z"
   },
   {
    "duration": 13,
    "start_time": "2022-11-04T19:02:31.599Z"
   },
   {
    "duration": 16,
    "start_time": "2022-11-04T19:02:31.613Z"
   },
   {
    "duration": 11,
    "start_time": "2022-11-04T19:02:31.630Z"
   },
   {
    "duration": 23,
    "start_time": "2022-11-04T19:02:31.642Z"
   },
   {
    "duration": 14,
    "start_time": "2022-11-04T19:02:31.666Z"
   },
   {
    "duration": 30,
    "start_time": "2022-11-04T19:02:31.682Z"
   },
   {
    "duration": 15,
    "start_time": "2022-11-04T19:02:31.714Z"
   },
   {
    "duration": 18,
    "start_time": "2022-11-04T19:02:31.730Z"
   },
   {
    "duration": 14,
    "start_time": "2022-11-04T19:02:31.750Z"
   },
   {
    "duration": 31,
    "start_time": "2022-11-04T19:02:31.766Z"
   },
   {
    "duration": 11,
    "start_time": "2022-11-04T19:02:31.799Z"
   },
   {
    "duration": 19,
    "start_time": "2022-11-04T19:02:31.811Z"
   },
   {
    "duration": 23,
    "start_time": "2022-11-04T19:02:31.832Z"
   },
   {
    "duration": 18,
    "start_time": "2022-11-04T19:02:31.857Z"
   },
   {
    "duration": 7,
    "start_time": "2022-11-04T19:02:31.877Z"
   },
   {
    "duration": 9,
    "start_time": "2022-11-04T19:02:31.885Z"
   },
   {
    "duration": 20,
    "start_time": "2022-11-04T19:02:31.896Z"
   },
   {
    "duration": 16,
    "start_time": "2022-11-04T19:02:31.918Z"
   },
   {
    "duration": 13,
    "start_time": "2022-11-04T19:02:31.936Z"
   },
   {
    "duration": 35,
    "start_time": "2022-11-04T19:02:31.951Z"
   },
   {
    "duration": 5,
    "start_time": "2022-11-04T19:02:31.988Z"
   },
   {
    "duration": 21,
    "start_time": "2022-11-04T19:02:31.995Z"
   },
   {
    "duration": 17,
    "start_time": "2022-11-04T19:02:32.017Z"
   },
   {
    "duration": 23,
    "start_time": "2022-11-04T19:02:32.037Z"
   },
   {
    "duration": 12,
    "start_time": "2022-11-04T19:02:32.061Z"
   },
   {
    "duration": 17,
    "start_time": "2022-11-04T19:02:32.074Z"
   },
   {
    "duration": 30,
    "start_time": "2022-11-04T19:02:32.093Z"
   },
   {
    "duration": 12,
    "start_time": "2022-11-04T19:02:32.125Z"
   },
   {
    "duration": 10,
    "start_time": "2022-11-04T19:02:32.138Z"
   },
   {
    "duration": 21,
    "start_time": "2022-11-04T19:02:32.149Z"
   },
   {
    "duration": 11,
    "start_time": "2022-11-04T19:02:32.171Z"
   },
   {
    "duration": 12,
    "start_time": "2022-11-04T19:02:32.184Z"
   },
   {
    "duration": 11,
    "start_time": "2022-11-04T19:02:32.197Z"
   },
   {
    "duration": 5,
    "start_time": "2022-11-04T19:02:32.209Z"
   },
   {
    "duration": 15,
    "start_time": "2022-11-04T19:02:32.222Z"
   },
   {
    "duration": 9,
    "start_time": "2022-11-04T19:02:32.239Z"
   },
   {
    "duration": 18,
    "start_time": "2022-11-04T19:02:32.249Z"
   },
   {
    "duration": 9,
    "start_time": "2022-11-04T19:02:32.269Z"
   },
   {
    "duration": 6,
    "start_time": "2022-11-04T19:02:32.280Z"
   },
   {
    "duration": 17,
    "start_time": "2022-11-04T19:02:32.287Z"
   },
   {
    "duration": 161,
    "start_time": "2022-11-04T19:02:32.306Z"
   },
   {
    "duration": 16,
    "start_time": "2022-11-04T19:02:32.469Z"
   },
   {
    "duration": 46,
    "start_time": "2022-11-04T19:02:32.487Z"
   },
   {
    "duration": 5,
    "start_time": "2022-11-04T19:02:32.534Z"
   },
   {
    "duration": 10,
    "start_time": "2022-11-04T19:02:32.540Z"
   },
   {
    "duration": 27,
    "start_time": "2022-11-04T19:02:32.551Z"
   },
   {
    "duration": 57,
    "start_time": "2022-11-04T19:02:32.580Z"
   },
   {
    "duration": 20,
    "start_time": "2022-11-04T19:02:32.639Z"
   },
   {
    "duration": 22,
    "start_time": "2022-11-04T19:02:32.660Z"
   },
   {
    "duration": 6,
    "start_time": "2022-11-04T19:02:32.684Z"
   },
   {
    "duration": 37,
    "start_time": "2022-11-04T19:02:32.692Z"
   },
   {
    "duration": 4,
    "start_time": "2022-11-04T19:02:32.731Z"
   },
   {
    "duration": 9,
    "start_time": "2022-11-04T19:02:32.736Z"
   },
   {
    "duration": 19,
    "start_time": "2022-11-04T19:02:32.747Z"
   },
   {
    "duration": 725,
    "start_time": "2022-11-04T19:02:32.768Z"
   },
   {
    "duration": 28,
    "start_time": "2022-11-04T19:02:33.495Z"
   },
   {
    "duration": 30,
    "start_time": "2022-11-04T19:02:33.524Z"
   },
   {
    "duration": 6,
    "start_time": "2022-11-04T19:02:33.556Z"
   },
   {
    "duration": 4,
    "start_time": "2022-11-04T19:02:33.564Z"
   },
   {
    "duration": 17,
    "start_time": "2022-11-04T19:02:33.569Z"
   },
   {
    "duration": 19,
    "start_time": "2022-11-04T19:02:33.588Z"
   },
   {
    "duration": 9,
    "start_time": "2022-11-04T19:02:33.608Z"
   },
   {
    "duration": 8,
    "start_time": "2022-11-04T19:02:33.618Z"
   },
   {
    "duration": 294,
    "start_time": "2022-11-04T19:02:33.628Z"
   },
   {
    "duration": 0,
    "start_time": "2022-11-04T19:02:33.924Z"
   },
   {
    "duration": 6,
    "start_time": "2022-11-04T19:03:34.609Z"
   },
   {
    "duration": 7,
    "start_time": "2022-11-04T19:03:48.582Z"
   },
   {
    "duration": 6,
    "start_time": "2022-11-04T19:04:58.843Z"
   },
   {
    "duration": 6,
    "start_time": "2022-11-04T19:05:15.315Z"
   },
   {
    "duration": 6,
    "start_time": "2022-11-04T19:05:36.881Z"
   },
   {
    "duration": 277,
    "start_time": "2022-11-04T19:07:27.256Z"
   },
   {
    "duration": 3,
    "start_time": "2022-11-04T19:07:53.714Z"
   },
   {
    "duration": 3,
    "start_time": "2022-11-04T19:07:56.088Z"
   },
   {
    "duration": 8,
    "start_time": "2022-11-04T19:07:56.468Z"
   },
   {
    "duration": 7,
    "start_time": "2022-11-04T19:07:56.798Z"
   },
   {
    "duration": 7,
    "start_time": "2022-11-04T19:07:57.577Z"
   },
   {
    "duration": 7,
    "start_time": "2022-11-04T19:07:58.201Z"
   },
   {
    "duration": 284,
    "start_time": "2022-11-04T19:07:58.968Z"
   },
   {
    "duration": 2,
    "start_time": "2022-11-04T19:09:36.646Z"
   },
   {
    "duration": 4,
    "start_time": "2022-11-04T19:09:41.549Z"
   },
   {
    "duration": 32,
    "start_time": "2022-11-04T19:09:51.256Z"
   },
   {
    "duration": 10,
    "start_time": "2022-11-04T19:10:07.717Z"
   },
   {
    "duration": 5,
    "start_time": "2022-11-04T19:10:18.628Z"
   },
   {
    "duration": 5,
    "start_time": "2022-11-04T19:10:35.970Z"
   },
   {
    "duration": 5,
    "start_time": "2022-11-04T19:11:02.607Z"
   },
   {
    "duration": 4,
    "start_time": "2022-11-04T19:11:08.312Z"
   },
   {
    "duration": 4,
    "start_time": "2022-11-04T19:11:13.637Z"
   },
   {
    "duration": 4,
    "start_time": "2022-11-04T19:11:18.061Z"
   },
   {
    "duration": 27,
    "start_time": "2022-11-04T19:14:57.958Z"
   },
   {
    "duration": 4,
    "start_time": "2022-11-04T19:15:11.026Z"
   },
   {
    "duration": 8,
    "start_time": "2022-11-04T19:15:11.033Z"
   },
   {
    "duration": 102,
    "start_time": "2022-11-04T19:15:11.042Z"
   },
   {
    "duration": 39,
    "start_time": "2022-11-04T19:15:11.146Z"
   },
   {
    "duration": 12,
    "start_time": "2022-11-04T19:15:11.187Z"
   },
   {
    "duration": 8,
    "start_time": "2022-11-04T19:15:11.200Z"
   },
   {
    "duration": 5,
    "start_time": "2022-11-04T19:15:11.209Z"
   },
   {
    "duration": 9,
    "start_time": "2022-11-04T19:15:11.215Z"
   },
   {
    "duration": 11,
    "start_time": "2022-11-04T19:15:11.225Z"
   },
   {
    "duration": 11,
    "start_time": "2022-11-04T19:15:11.238Z"
   },
   {
    "duration": 7,
    "start_time": "2022-11-04T19:15:11.251Z"
   },
   {
    "duration": 11,
    "start_time": "2022-11-04T19:15:11.259Z"
   },
   {
    "duration": 8,
    "start_time": "2022-11-04T19:15:11.271Z"
   },
   {
    "duration": 42,
    "start_time": "2022-11-04T19:15:11.281Z"
   },
   {
    "duration": 10,
    "start_time": "2022-11-04T19:15:11.324Z"
   },
   {
    "duration": 10,
    "start_time": "2022-11-04T19:15:11.335Z"
   },
   {
    "duration": 6,
    "start_time": "2022-11-04T19:15:11.346Z"
   },
   {
    "duration": 11,
    "start_time": "2022-11-04T19:15:11.353Z"
   },
   {
    "duration": 11,
    "start_time": "2022-11-04T19:15:11.366Z"
   },
   {
    "duration": 9,
    "start_time": "2022-11-04T19:15:11.378Z"
   },
   {
    "duration": 6,
    "start_time": "2022-11-04T19:15:11.389Z"
   },
   {
    "duration": 13,
    "start_time": "2022-11-04T19:15:11.397Z"
   },
   {
    "duration": 21,
    "start_time": "2022-11-04T19:15:11.411Z"
   },
   {
    "duration": 22,
    "start_time": "2022-11-04T19:15:11.433Z"
   },
   {
    "duration": 4,
    "start_time": "2022-11-04T19:15:11.457Z"
   },
   {
    "duration": 9,
    "start_time": "2022-11-04T19:15:11.462Z"
   },
   {
    "duration": 12,
    "start_time": "2022-11-04T19:15:11.472Z"
   },
   {
    "duration": 12,
    "start_time": "2022-11-04T19:15:11.485Z"
   },
   {
    "duration": 6,
    "start_time": "2022-11-04T19:15:11.499Z"
   },
   {
    "duration": 26,
    "start_time": "2022-11-04T19:15:11.507Z"
   },
   {
    "duration": 9,
    "start_time": "2022-11-04T19:15:11.535Z"
   },
   {
    "duration": 8,
    "start_time": "2022-11-04T19:15:11.545Z"
   },
   {
    "duration": 23,
    "start_time": "2022-11-04T19:15:11.555Z"
   },
   {
    "duration": 10,
    "start_time": "2022-11-04T19:15:11.580Z"
   },
   {
    "duration": 31,
    "start_time": "2022-11-04T19:15:11.592Z"
   },
   {
    "duration": 12,
    "start_time": "2022-11-04T19:15:11.624Z"
   },
   {
    "duration": 12,
    "start_time": "2022-11-04T19:15:11.638Z"
   },
   {
    "duration": 4,
    "start_time": "2022-11-04T19:15:11.651Z"
   },
   {
    "duration": 16,
    "start_time": "2022-11-04T19:15:11.658Z"
   },
   {
    "duration": 8,
    "start_time": "2022-11-04T19:15:11.676Z"
   },
   {
    "duration": 17,
    "start_time": "2022-11-04T19:15:11.688Z"
   },
   {
    "duration": 15,
    "start_time": "2022-11-04T19:15:11.707Z"
   },
   {
    "duration": 7,
    "start_time": "2022-11-04T19:15:11.724Z"
   },
   {
    "duration": 16,
    "start_time": "2022-11-04T19:15:11.732Z"
   },
   {
    "duration": 157,
    "start_time": "2022-11-04T19:15:11.749Z"
   },
   {
    "duration": 19,
    "start_time": "2022-11-04T19:15:11.908Z"
   },
   {
    "duration": 26,
    "start_time": "2022-11-04T19:15:11.929Z"
   },
   {
    "duration": 4,
    "start_time": "2022-11-04T19:15:11.956Z"
   },
   {
    "duration": 8,
    "start_time": "2022-11-04T19:15:11.962Z"
   },
   {
    "duration": 27,
    "start_time": "2022-11-04T19:15:11.971Z"
   },
   {
    "duration": 56,
    "start_time": "2022-11-04T19:15:11.999Z"
   },
   {
    "duration": 19,
    "start_time": "2022-11-04T19:15:12.056Z"
   },
   {
    "duration": 29,
    "start_time": "2022-11-04T19:15:12.077Z"
   },
   {
    "duration": 14,
    "start_time": "2022-11-04T19:15:12.107Z"
   },
   {
    "duration": 19,
    "start_time": "2022-11-04T19:15:12.123Z"
   },
   {
    "duration": 4,
    "start_time": "2022-11-04T19:15:12.143Z"
   },
   {
    "duration": 9,
    "start_time": "2022-11-04T19:15:12.148Z"
   },
   {
    "duration": 16,
    "start_time": "2022-11-04T19:15:12.158Z"
   },
   {
    "duration": 732,
    "start_time": "2022-11-04T19:15:12.176Z"
   },
   {
    "duration": 21,
    "start_time": "2022-11-04T19:15:12.909Z"
   },
   {
    "duration": 18,
    "start_time": "2022-11-04T19:15:12.931Z"
   },
   {
    "duration": 7,
    "start_time": "2022-11-04T19:15:12.951Z"
   },
   {
    "duration": 4,
    "start_time": "2022-11-04T19:15:12.959Z"
   },
   {
    "duration": 7,
    "start_time": "2022-11-04T19:15:12.964Z"
   },
   {
    "duration": 8,
    "start_time": "2022-11-04T19:15:12.972Z"
   },
   {
    "duration": 7,
    "start_time": "2022-11-04T19:15:12.982Z"
   },
   {
    "duration": 7,
    "start_time": "2022-11-04T19:15:12.990Z"
   },
   {
    "duration": 26,
    "start_time": "2022-11-04T19:15:12.998Z"
   },
   {
    "duration": 3,
    "start_time": "2022-11-04T19:15:13.026Z"
   },
   {
    "duration": 7,
    "start_time": "2022-11-04T19:15:13.031Z"
   },
   {
    "duration": 28,
    "start_time": "2022-11-04T19:15:13.039Z"
   },
   {
    "duration": 23,
    "start_time": "2022-11-04T19:15:33.602Z"
   },
   {
    "duration": 26,
    "start_time": "2022-11-04T19:16:03.558Z"
   },
   {
    "duration": 44,
    "start_time": "2022-11-04T19:34:00.208Z"
   },
   {
    "duration": 18,
    "start_time": "2022-11-04T19:34:35.351Z"
   },
   {
    "duration": 44,
    "start_time": "2022-11-04T19:34:42.481Z"
   },
   {
    "duration": 32,
    "start_time": "2022-11-04T19:34:59.965Z"
   },
   {
    "duration": 27,
    "start_time": "2022-11-04T19:35:24.531Z"
   },
   {
    "duration": 26,
    "start_time": "2022-11-04T19:35:42.146Z"
   },
   {
    "duration": 25,
    "start_time": "2022-11-04T19:36:07.584Z"
   },
   {
    "duration": 1417,
    "start_time": "2022-11-05T10:52:34.311Z"
   },
   {
    "duration": 3,
    "start_time": "2022-11-05T10:52:35.730Z"
   },
   {
    "duration": 249,
    "start_time": "2022-11-05T10:52:35.734Z"
   },
   {
    "duration": 76,
    "start_time": "2022-11-05T10:52:35.985Z"
   },
   {
    "duration": 15,
    "start_time": "2022-11-05T10:52:36.062Z"
   },
   {
    "duration": 12,
    "start_time": "2022-11-05T10:52:36.079Z"
   },
   {
    "duration": 10,
    "start_time": "2022-11-05T10:52:36.093Z"
   },
   {
    "duration": 11,
    "start_time": "2022-11-05T10:52:36.105Z"
   },
   {
    "duration": 31,
    "start_time": "2022-11-05T10:52:36.117Z"
   },
   {
    "duration": 29,
    "start_time": "2022-11-05T10:52:36.151Z"
   },
   {
    "duration": 33,
    "start_time": "2022-11-05T10:52:36.182Z"
   },
   {
    "duration": 18,
    "start_time": "2022-11-05T10:52:36.217Z"
   },
   {
    "duration": 18,
    "start_time": "2022-11-05T10:52:36.237Z"
   },
   {
    "duration": 39,
    "start_time": "2022-11-05T10:52:36.257Z"
   },
   {
    "duration": 14,
    "start_time": "2022-11-05T10:52:36.297Z"
   },
   {
    "duration": 34,
    "start_time": "2022-11-05T10:52:36.313Z"
   },
   {
    "duration": 25,
    "start_time": "2022-11-05T10:52:36.350Z"
   },
   {
    "duration": 43,
    "start_time": "2022-11-05T10:52:36.377Z"
   },
   {
    "duration": 25,
    "start_time": "2022-11-05T10:52:36.422Z"
   },
   {
    "duration": 24,
    "start_time": "2022-11-05T10:52:36.449Z"
   },
   {
    "duration": 19,
    "start_time": "2022-11-05T10:52:36.475Z"
   },
   {
    "duration": 37,
    "start_time": "2022-11-05T10:52:36.496Z"
   },
   {
    "duration": 19,
    "start_time": "2022-11-05T10:52:36.535Z"
   },
   {
    "duration": 40,
    "start_time": "2022-11-05T10:52:36.556Z"
   },
   {
    "duration": 4,
    "start_time": "2022-11-05T10:52:36.598Z"
   },
   {
    "duration": 23,
    "start_time": "2022-11-05T10:52:36.603Z"
   },
   {
    "duration": 21,
    "start_time": "2022-11-05T10:52:36.627Z"
   },
   {
    "duration": 22,
    "start_time": "2022-11-05T10:52:36.653Z"
   },
   {
    "duration": 32,
    "start_time": "2022-11-05T10:52:36.677Z"
   },
   {
    "duration": 32,
    "start_time": "2022-11-05T10:52:36.712Z"
   },
   {
    "duration": 13,
    "start_time": "2022-11-05T10:52:36.746Z"
   },
   {
    "duration": 9,
    "start_time": "2022-11-05T10:52:36.761Z"
   },
   {
    "duration": 35,
    "start_time": "2022-11-05T10:52:36.771Z"
   },
   {
    "duration": 23,
    "start_time": "2022-11-05T10:52:36.808Z"
   },
   {
    "duration": 21,
    "start_time": "2022-11-05T10:52:36.833Z"
   },
   {
    "duration": 28,
    "start_time": "2022-11-05T10:52:36.856Z"
   },
   {
    "duration": 20,
    "start_time": "2022-11-05T10:52:36.886Z"
   },
   {
    "duration": 18,
    "start_time": "2022-11-05T10:52:36.908Z"
   },
   {
    "duration": 19,
    "start_time": "2022-11-05T10:52:36.928Z"
   },
   {
    "duration": 23,
    "start_time": "2022-11-05T10:52:36.949Z"
   },
   {
    "duration": 21,
    "start_time": "2022-11-05T10:52:36.974Z"
   },
   {
    "duration": 12,
    "start_time": "2022-11-05T10:52:36.997Z"
   },
   {
    "duration": 7,
    "start_time": "2022-11-05T10:52:37.011Z"
   },
   {
    "duration": 31,
    "start_time": "2022-11-05T10:52:37.019Z"
   },
   {
    "duration": 176,
    "start_time": "2022-11-05T10:52:37.052Z"
   },
   {
    "duration": 15,
    "start_time": "2022-11-05T10:52:37.229Z"
   },
   {
    "duration": 39,
    "start_time": "2022-11-05T10:52:37.245Z"
   },
   {
    "duration": 6,
    "start_time": "2022-11-05T10:52:37.285Z"
   },
   {
    "duration": 21,
    "start_time": "2022-11-05T10:52:37.292Z"
   },
   {
    "duration": 53,
    "start_time": "2022-11-05T10:52:37.315Z"
   },
   {
    "duration": 41,
    "start_time": "2022-11-05T10:52:37.369Z"
   },
   {
    "duration": 26,
    "start_time": "2022-11-05T10:52:37.411Z"
   },
   {
    "duration": 23,
    "start_time": "2022-11-05T10:52:37.438Z"
   },
   {
    "duration": 51,
    "start_time": "2022-11-05T10:52:37.462Z"
   },
   {
    "duration": 21,
    "start_time": "2022-11-05T10:52:37.515Z"
   },
   {
    "duration": 26,
    "start_time": "2022-11-05T10:52:37.537Z"
   },
   {
    "duration": 17,
    "start_time": "2022-11-05T10:52:37.565Z"
   },
   {
    "duration": 22,
    "start_time": "2022-11-05T10:52:37.584Z"
   },
   {
    "duration": 19,
    "start_time": "2022-11-05T10:52:37.608Z"
   },
   {
    "duration": 797,
    "start_time": "2022-11-05T10:52:37.629Z"
   },
   {
    "duration": 20,
    "start_time": "2022-11-05T10:52:38.428Z"
   },
   {
    "duration": 23,
    "start_time": "2022-11-05T10:52:38.450Z"
   },
   {
    "duration": 9,
    "start_time": "2022-11-05T10:52:38.475Z"
   },
   {
    "duration": 3,
    "start_time": "2022-11-05T10:52:38.510Z"
   },
   {
    "duration": 30,
    "start_time": "2022-11-05T10:52:38.515Z"
   },
   {
    "duration": 16,
    "start_time": "2022-11-05T10:52:38.547Z"
   },
   {
    "duration": 16,
    "start_time": "2022-11-05T10:52:38.564Z"
   },
   {
    "duration": 14,
    "start_time": "2022-11-05T10:52:38.582Z"
   },
   {
    "duration": 29,
    "start_time": "2022-11-05T10:52:38.597Z"
   },
   {
    "duration": 23,
    "start_time": "2022-11-05T10:52:38.628Z"
   },
   {
    "duration": 14,
    "start_time": "2022-11-05T10:52:38.653Z"
   },
   {
    "duration": 37,
    "start_time": "2022-11-05T10:52:38.668Z"
   },
   {
    "duration": 100,
    "start_time": "2022-11-05T11:23:46.007Z"
   },
   {
    "duration": 14,
    "start_time": "2022-11-05T11:23:54.336Z"
   },
   {
    "duration": 3,
    "start_time": "2022-11-05T11:24:46.327Z"
   },
   {
    "duration": 297,
    "start_time": "2022-11-05T11:25:05.791Z"
   },
   {
    "duration": 4,
    "start_time": "2022-11-05T11:25:30.742Z"
   },
   {
    "duration": 9,
    "start_time": "2022-11-05T11:28:57.297Z"
   },
   {
    "duration": 9,
    "start_time": "2022-11-05T11:29:16.605Z"
   },
   {
    "duration": 8,
    "start_time": "2022-11-05T11:29:20.370Z"
   },
   {
    "duration": 48,
    "start_time": "2022-11-05T11:29:53.853Z"
   },
   {
    "duration": 313,
    "start_time": "2022-11-05T11:30:12.630Z"
   },
   {
    "duration": 177,
    "start_time": "2022-11-05T11:30:45.716Z"
   },
   {
    "duration": 9,
    "start_time": "2022-11-05T11:31:00.487Z"
   },
   {
    "duration": 4,
    "start_time": "2022-11-05T11:31:21.363Z"
   },
   {
    "duration": 293,
    "start_time": "2022-11-05T11:33:10.211Z"
   },
   {
    "duration": 189,
    "start_time": "2022-11-05T11:33:55.600Z"
   },
   {
    "duration": 192,
    "start_time": "2022-11-05T11:35:55.040Z"
   },
   {
    "duration": 4,
    "start_time": "2022-11-05T11:36:01.108Z"
   },
   {
    "duration": 40,
    "start_time": "2022-11-05T11:36:16.484Z"
   },
   {
    "duration": 5,
    "start_time": "2022-11-05T11:36:53.127Z"
   },
   {
    "duration": 6,
    "start_time": "2022-11-05T11:37:55.188Z"
   },
   {
    "duration": 5,
    "start_time": "2022-11-05T11:38:15.328Z"
   },
   {
    "duration": 6,
    "start_time": "2022-11-05T11:38:18.854Z"
   },
   {
    "duration": 198,
    "start_time": "2022-11-05T11:38:39.878Z"
   },
   {
    "duration": 6,
    "start_time": "2022-11-05T11:39:01.715Z"
   },
   {
    "duration": 7,
    "start_time": "2022-11-05T11:39:16.454Z"
   },
   {
    "duration": 7,
    "start_time": "2022-11-05T11:39:21.805Z"
   },
   {
    "duration": 6,
    "start_time": "2022-11-05T11:39:33.606Z"
   },
   {
    "duration": 7,
    "start_time": "2022-11-05T11:39:36.898Z"
   },
   {
    "duration": 5,
    "start_time": "2022-11-05T11:39:45.671Z"
   },
   {
    "duration": 5,
    "start_time": "2022-11-05T11:39:50.631Z"
   },
   {
    "duration": 5,
    "start_time": "2022-11-05T11:40:12.879Z"
   },
   {
    "duration": 6,
    "start_time": "2022-11-05T11:41:09.056Z"
   },
   {
    "duration": 3,
    "start_time": "2022-11-05T11:42:55.131Z"
   },
   {
    "duration": 3,
    "start_time": "2022-11-05T11:43:05.445Z"
   },
   {
    "duration": 2,
    "start_time": "2022-11-05T11:43:13.356Z"
   },
   {
    "duration": 9,
    "start_time": "2022-11-05T11:43:29.666Z"
   },
   {
    "duration": 191,
    "start_time": "2022-11-05T11:43:47.919Z"
   },
   {
    "duration": 3,
    "start_time": "2022-11-05T11:44:18.791Z"
   },
   {
    "duration": 9,
    "start_time": "2022-11-05T11:44:24.164Z"
   },
   {
    "duration": 3,
    "start_time": "2022-11-05T11:45:38.950Z"
   },
   {
    "duration": 8,
    "start_time": "2022-11-05T11:45:42.933Z"
   },
   {
    "duration": 2,
    "start_time": "2022-11-05T11:46:04.873Z"
   },
   {
    "duration": 8,
    "start_time": "2022-11-05T11:46:06.201Z"
   },
   {
    "duration": 6,
    "start_time": "2022-11-05T11:46:12.480Z"
   },
   {
    "duration": 3,
    "start_time": "2022-11-05T11:46:17.384Z"
   },
   {
    "duration": 7,
    "start_time": "2022-11-05T11:46:18.974Z"
   },
   {
    "duration": 8,
    "start_time": "2022-11-05T11:46:25.566Z"
   },
   {
    "duration": 13,
    "start_time": "2022-11-05T11:46:47.621Z"
   },
   {
    "duration": 3,
    "start_time": "2022-11-05T11:46:56.407Z"
   },
   {
    "duration": 4,
    "start_time": "2022-11-05T11:49:35.112Z"
   },
   {
    "duration": 4,
    "start_time": "2022-11-05T11:49:40.675Z"
   },
   {
    "duration": 16,
    "start_time": "2022-11-05T11:49:47.599Z"
   },
   {
    "duration": 3,
    "start_time": "2022-11-05T11:50:37.668Z"
   },
   {
    "duration": 45,
    "start_time": "2022-11-05T11:50:48.039Z"
   },
   {
    "duration": 5,
    "start_time": "2022-11-05T11:50:51.883Z"
   },
   {
    "duration": 4,
    "start_time": "2022-11-05T11:51:49.233Z"
   },
   {
    "duration": 5,
    "start_time": "2022-11-05T11:51:51.837Z"
   },
   {
    "duration": 1115,
    "start_time": "2022-11-05T11:53:45.970Z"
   },
   {
    "duration": 3,
    "start_time": "2022-11-05T11:53:47.088Z"
   },
   {
    "duration": 104,
    "start_time": "2022-11-05T11:53:47.093Z"
   },
   {
    "duration": 40,
    "start_time": "2022-11-05T11:53:47.199Z"
   },
   {
    "duration": 13,
    "start_time": "2022-11-05T11:53:47.241Z"
   },
   {
    "duration": 9,
    "start_time": "2022-11-05T11:53:47.256Z"
   },
   {
    "duration": 4,
    "start_time": "2022-11-05T11:53:47.266Z"
   },
   {
    "duration": 10,
    "start_time": "2022-11-05T11:53:47.271Z"
   },
   {
    "duration": 10,
    "start_time": "2022-11-05T11:53:47.282Z"
   },
   {
    "duration": 24,
    "start_time": "2022-11-05T11:53:47.296Z"
   },
   {
    "duration": 8,
    "start_time": "2022-11-05T11:53:47.322Z"
   },
   {
    "duration": 11,
    "start_time": "2022-11-05T11:53:47.331Z"
   },
   {
    "duration": 9,
    "start_time": "2022-11-05T11:53:47.343Z"
   },
   {
    "duration": 19,
    "start_time": "2022-11-05T11:53:47.354Z"
   },
   {
    "duration": 3,
    "start_time": "2022-11-05T11:53:47.408Z"
   },
   {
    "duration": 14,
    "start_time": "2022-11-05T11:53:47.413Z"
   },
   {
    "duration": 13,
    "start_time": "2022-11-05T11:53:47.429Z"
   },
   {
    "duration": 12,
    "start_time": "2022-11-05T11:53:47.443Z"
   },
   {
    "duration": 5,
    "start_time": "2022-11-05T11:53:47.457Z"
   },
   {
    "duration": 9,
    "start_time": "2022-11-05T11:53:47.463Z"
   },
   {
    "duration": 7,
    "start_time": "2022-11-05T11:53:47.474Z"
   },
   {
    "duration": 38,
    "start_time": "2022-11-05T11:53:47.483Z"
   },
   {
    "duration": 14,
    "start_time": "2022-11-05T11:53:47.523Z"
   },
   {
    "duration": 28,
    "start_time": "2022-11-05T11:53:47.538Z"
   },
   {
    "duration": 4,
    "start_time": "2022-11-05T11:53:47.568Z"
   },
   {
    "duration": 44,
    "start_time": "2022-11-05T11:53:47.573Z"
   },
   {
    "duration": 5,
    "start_time": "2022-11-05T11:53:47.619Z"
   },
   {
    "duration": 7,
    "start_time": "2022-11-05T11:53:47.628Z"
   },
   {
    "duration": 6,
    "start_time": "2022-11-05T11:53:47.636Z"
   },
   {
    "duration": 14,
    "start_time": "2022-11-05T11:53:47.643Z"
   },
   {
    "duration": 10,
    "start_time": "2022-11-05T11:53:47.658Z"
   },
   {
    "duration": 43,
    "start_time": "2022-11-05T11:53:47.670Z"
   },
   {
    "duration": 16,
    "start_time": "2022-11-05T11:53:47.714Z"
   },
   {
    "duration": 13,
    "start_time": "2022-11-05T11:53:47.732Z"
   },
   {
    "duration": 10,
    "start_time": "2022-11-05T11:53:47.746Z"
   },
   {
    "duration": 14,
    "start_time": "2022-11-05T11:53:47.758Z"
   },
   {
    "duration": 36,
    "start_time": "2022-11-05T11:53:47.773Z"
   },
   {
    "duration": 3,
    "start_time": "2022-11-05T11:53:47.810Z"
   },
   {
    "duration": 19,
    "start_time": "2022-11-05T11:53:47.814Z"
   },
   {
    "duration": 9,
    "start_time": "2022-11-05T11:53:47.834Z"
   },
   {
    "duration": 17,
    "start_time": "2022-11-05T11:53:47.844Z"
   },
   {
    "duration": 10,
    "start_time": "2022-11-05T11:53:47.862Z"
   },
   {
    "duration": 5,
    "start_time": "2022-11-05T11:53:47.873Z"
   },
   {
    "duration": 38,
    "start_time": "2022-11-05T11:53:47.880Z"
   },
   {
    "duration": 169,
    "start_time": "2022-11-05T11:53:47.919Z"
   },
   {
    "duration": 23,
    "start_time": "2022-11-05T11:53:48.089Z"
   },
   {
    "duration": 59,
    "start_time": "2022-11-05T11:53:48.114Z"
   },
   {
    "duration": 6,
    "start_time": "2022-11-05T11:53:48.174Z"
   },
   {
    "duration": 15,
    "start_time": "2022-11-05T11:53:48.181Z"
   },
   {
    "duration": 27,
    "start_time": "2022-11-05T11:53:48.197Z"
   },
   {
    "duration": 36,
    "start_time": "2022-11-05T11:53:48.226Z"
   },
   {
    "duration": 26,
    "start_time": "2022-11-05T11:53:48.264Z"
   },
   {
    "duration": 21,
    "start_time": "2022-11-05T11:53:48.309Z"
   },
   {
    "duration": 22,
    "start_time": "2022-11-05T11:53:48.331Z"
   },
   {
    "duration": 5,
    "start_time": "2022-11-05T11:53:48.355Z"
   },
   {
    "duration": 61,
    "start_time": "2022-11-05T11:53:48.362Z"
   },
   {
    "duration": 5,
    "start_time": "2022-11-05T11:53:48.425Z"
   },
   {
    "duration": 9,
    "start_time": "2022-11-05T11:53:48.432Z"
   },
   {
    "duration": 17,
    "start_time": "2022-11-05T11:53:48.442Z"
   },
   {
    "duration": 834,
    "start_time": "2022-11-05T11:53:48.460Z"
   },
   {
    "duration": 24,
    "start_time": "2022-11-05T11:53:49.295Z"
   },
   {
    "duration": 20,
    "start_time": "2022-11-05T11:53:49.320Z"
   },
   {
    "duration": 6,
    "start_time": "2022-11-05T11:53:49.342Z"
   },
   {
    "duration": 5,
    "start_time": "2022-11-05T11:53:49.349Z"
   },
   {
    "duration": 5,
    "start_time": "2022-11-05T11:53:49.356Z"
   },
   {
    "duration": 9,
    "start_time": "2022-11-05T11:53:49.362Z"
   },
   {
    "duration": 36,
    "start_time": "2022-11-05T11:53:49.373Z"
   },
   {
    "duration": 4,
    "start_time": "2022-11-05T11:53:49.410Z"
   },
   {
    "duration": 7,
    "start_time": "2022-11-05T11:53:49.415Z"
   },
   {
    "duration": 5,
    "start_time": "2022-11-05T11:53:49.423Z"
   },
   {
    "duration": 9,
    "start_time": "2022-11-05T11:53:49.429Z"
   },
   {
    "duration": 29,
    "start_time": "2022-11-05T11:53:49.439Z"
   },
   {
    "duration": 13,
    "start_time": "2022-11-05T15:13:31.949Z"
   },
   {
    "duration": 17,
    "start_time": "2022-11-05T15:14:12.137Z"
   },
   {
    "duration": 4,
    "start_time": "2022-11-05T15:15:33.692Z"
   },
   {
    "duration": 4,
    "start_time": "2022-11-05T15:15:45.420Z"
   },
   {
    "duration": 4,
    "start_time": "2022-11-05T15:15:55.391Z"
   },
   {
    "duration": 5,
    "start_time": "2022-11-05T15:30:24.663Z"
   },
   {
    "duration": 6,
    "start_time": "2022-11-05T15:30:45.247Z"
   },
   {
    "duration": 9,
    "start_time": "2022-11-05T15:33:20.026Z"
   },
   {
    "duration": 19,
    "start_time": "2022-11-05T15:33:23.361Z"
   },
   {
    "duration": 5,
    "start_time": "2022-11-05T15:33:33.232Z"
   },
   {
    "duration": 1143,
    "start_time": "2022-11-05T15:34:25.063Z"
   },
   {
    "duration": 3,
    "start_time": "2022-11-05T15:34:26.208Z"
   },
   {
    "duration": 120,
    "start_time": "2022-11-05T15:34:26.212Z"
   },
   {
    "duration": 43,
    "start_time": "2022-11-05T15:34:26.334Z"
   },
   {
    "duration": 14,
    "start_time": "2022-11-05T15:34:26.378Z"
   },
   {
    "duration": 24,
    "start_time": "2022-11-05T15:34:26.394Z"
   },
   {
    "duration": 35,
    "start_time": "2022-11-05T15:34:26.420Z"
   },
   {
    "duration": 51,
    "start_time": "2022-11-05T15:34:26.457Z"
   },
   {
    "duration": 54,
    "start_time": "2022-11-05T15:34:26.511Z"
   },
   {
    "duration": 19,
    "start_time": "2022-11-05T15:34:26.568Z"
   },
   {
    "duration": 40,
    "start_time": "2022-11-05T15:34:26.589Z"
   },
   {
    "duration": 34,
    "start_time": "2022-11-05T15:34:26.631Z"
   },
   {
    "duration": 54,
    "start_time": "2022-11-05T15:34:26.667Z"
   },
   {
    "duration": 50,
    "start_time": "2022-11-05T15:34:26.723Z"
   },
   {
    "duration": 22,
    "start_time": "2022-11-05T15:34:26.775Z"
   },
   {
    "duration": 48,
    "start_time": "2022-11-05T15:34:26.799Z"
   },
   {
    "duration": 41,
    "start_time": "2022-11-05T15:34:26.849Z"
   },
   {
    "duration": 37,
    "start_time": "2022-11-05T15:34:26.892Z"
   },
   {
    "duration": 30,
    "start_time": "2022-11-05T15:34:26.930Z"
   },
   {
    "duration": 27,
    "start_time": "2022-11-05T15:34:26.962Z"
   },
   {
    "duration": 42,
    "start_time": "2022-11-05T15:34:26.991Z"
   },
   {
    "duration": 37,
    "start_time": "2022-11-05T15:34:27.035Z"
   },
   {
    "duration": 35,
    "start_time": "2022-11-05T15:34:27.073Z"
   },
   {
    "duration": 47,
    "start_time": "2022-11-05T15:34:27.110Z"
   },
   {
    "duration": 8,
    "start_time": "2022-11-05T15:34:27.158Z"
   },
   {
    "duration": 26,
    "start_time": "2022-11-05T15:34:27.168Z"
   },
   {
    "duration": 40,
    "start_time": "2022-11-05T15:34:27.195Z"
   },
   {
    "duration": 10,
    "start_time": "2022-11-05T15:34:27.238Z"
   },
   {
    "duration": 5,
    "start_time": "2022-11-05T15:34:27.250Z"
   },
   {
    "duration": 14,
    "start_time": "2022-11-05T15:34:27.256Z"
   },
   {
    "duration": 15,
    "start_time": "2022-11-05T15:34:27.271Z"
   },
   {
    "duration": 22,
    "start_time": "2022-11-05T15:34:27.287Z"
   },
   {
    "duration": 8,
    "start_time": "2022-11-05T15:34:27.310Z"
   },
   {
    "duration": 9,
    "start_time": "2022-11-05T15:34:27.320Z"
   },
   {
    "duration": 12,
    "start_time": "2022-11-05T15:34:27.331Z"
   },
   {
    "duration": 19,
    "start_time": "2022-11-05T15:34:27.345Z"
   },
   {
    "duration": 42,
    "start_time": "2022-11-05T15:34:27.366Z"
   },
   {
    "duration": 4,
    "start_time": "2022-11-05T15:34:27.410Z"
   },
   {
    "duration": 18,
    "start_time": "2022-11-05T15:34:27.415Z"
   },
   {
    "duration": 20,
    "start_time": "2022-11-05T15:34:27.435Z"
   },
   {
    "duration": 26,
    "start_time": "2022-11-05T15:34:27.457Z"
   },
   {
    "duration": 16,
    "start_time": "2022-11-05T15:34:27.485Z"
   },
   {
    "duration": 15,
    "start_time": "2022-11-05T15:34:27.502Z"
   },
   {
    "duration": 29,
    "start_time": "2022-11-05T15:34:27.518Z"
   },
   {
    "duration": 163,
    "start_time": "2022-11-05T15:34:27.549Z"
   },
   {
    "duration": 27,
    "start_time": "2022-11-05T15:34:27.714Z"
   },
   {
    "duration": 67,
    "start_time": "2022-11-05T15:34:27.743Z"
   },
   {
    "duration": 6,
    "start_time": "2022-11-05T15:34:27.811Z"
   },
   {
    "duration": 9,
    "start_time": "2022-11-05T15:34:27.819Z"
   },
   {
    "duration": 29,
    "start_time": "2022-11-05T15:34:27.830Z"
   },
   {
    "duration": 72,
    "start_time": "2022-11-05T15:34:27.860Z"
   },
   {
    "duration": 25,
    "start_time": "2022-11-05T15:34:27.933Z"
   },
   {
    "duration": 20,
    "start_time": "2022-11-05T15:34:27.960Z"
   },
   {
    "duration": 42,
    "start_time": "2022-11-05T15:34:27.982Z"
   },
   {
    "duration": 5,
    "start_time": "2022-11-05T15:34:28.026Z"
   },
   {
    "duration": 22,
    "start_time": "2022-11-05T15:34:28.033Z"
   },
   {
    "duration": 3,
    "start_time": "2022-11-05T15:34:28.057Z"
   },
   {
    "duration": 6,
    "start_time": "2022-11-05T15:34:28.062Z"
   },
   {
    "duration": 51,
    "start_time": "2022-11-05T15:34:28.069Z"
   },
   {
    "duration": 743,
    "start_time": "2022-11-05T15:34:28.121Z"
   },
   {
    "duration": 20,
    "start_time": "2022-11-05T15:34:28.865Z"
   },
   {
    "duration": 35,
    "start_time": "2022-11-05T15:34:28.888Z"
   },
   {
    "duration": 7,
    "start_time": "2022-11-05T15:34:28.925Z"
   },
   {
    "duration": 5,
    "start_time": "2022-11-05T15:34:28.933Z"
   },
   {
    "duration": 5,
    "start_time": "2022-11-05T15:34:28.940Z"
   },
   {
    "duration": 8,
    "start_time": "2022-11-05T15:34:28.946Z"
   },
   {
    "duration": 7,
    "start_time": "2022-11-05T15:34:28.955Z"
   },
   {
    "duration": 7,
    "start_time": "2022-11-05T15:34:28.963Z"
   },
   {
    "duration": 39,
    "start_time": "2022-11-05T15:34:28.971Z"
   },
   {
    "duration": 8,
    "start_time": "2022-11-05T15:34:29.012Z"
   },
   {
    "duration": 8,
    "start_time": "2022-11-05T15:34:29.022Z"
   },
   {
    "duration": 26,
    "start_time": "2022-11-05T15:34:29.032Z"
   },
   {
    "duration": 15,
    "start_time": "2022-11-05T16:00:01.769Z"
   },
   {
    "duration": 6,
    "start_time": "2022-11-05T16:09:02.886Z"
   },
   {
    "duration": 3,
    "start_time": "2022-11-05T16:09:23.918Z"
   },
   {
    "duration": 6,
    "start_time": "2022-11-05T16:09:24.135Z"
   },
   {
    "duration": 4,
    "start_time": "2022-11-05T16:09:26.631Z"
   },
   {
    "duration": 6,
    "start_time": "2022-11-05T16:09:26.815Z"
   },
   {
    "duration": 9,
    "start_time": "2022-11-05T16:10:40.165Z"
   },
   {
    "duration": 9,
    "start_time": "2022-11-05T16:10:55.580Z"
   },
   {
    "duration": 5,
    "start_time": "2022-11-05T16:13:16.231Z"
   },
   {
    "duration": 6,
    "start_time": "2022-11-05T16:13:28.082Z"
   },
   {
    "duration": 5,
    "start_time": "2022-11-05T16:18:48.961Z"
   },
   {
    "duration": 7,
    "start_time": "2022-11-05T16:19:03.597Z"
   },
   {
    "duration": 5,
    "start_time": "2022-11-05T16:19:09.982Z"
   },
   {
    "duration": 7,
    "start_time": "2022-11-05T16:19:14.033Z"
   },
   {
    "duration": 10,
    "start_time": "2022-11-05T16:19:16.834Z"
   },
   {
    "duration": 5,
    "start_time": "2022-11-05T16:19:35.162Z"
   },
   {
    "duration": 10,
    "start_time": "2022-11-05T16:19:58.735Z"
   },
   {
    "duration": 6,
    "start_time": "2022-11-05T16:21:06.451Z"
   },
   {
    "duration": 6,
    "start_time": "2022-11-05T16:21:11.659Z"
   },
   {
    "duration": 28,
    "start_time": "2022-11-05T16:24:35.570Z"
   },
   {
    "duration": 7,
    "start_time": "2022-11-05T16:33:21.150Z"
   },
   {
    "duration": 5,
    "start_time": "2022-11-05T16:33:30.106Z"
   },
   {
    "duration": 6,
    "start_time": "2022-11-05T16:33:36.545Z"
   },
   {
    "duration": 306,
    "start_time": "2022-11-05T16:41:43.840Z"
   },
   {
    "duration": 3,
    "start_time": "2022-11-05T18:00:48.793Z"
   },
   {
    "duration": 25,
    "start_time": "2022-11-05T18:00:48.797Z"
   },
   {
    "duration": 110,
    "start_time": "2022-11-05T18:00:48.824Z"
   },
   {
    "duration": 41,
    "start_time": "2022-11-05T18:00:48.935Z"
   },
   {
    "duration": 15,
    "start_time": "2022-11-05T18:00:48.978Z"
   },
   {
    "duration": 12,
    "start_time": "2022-11-05T18:00:48.994Z"
   },
   {
    "duration": 21,
    "start_time": "2022-11-05T18:00:49.008Z"
   },
   {
    "duration": 11,
    "start_time": "2022-11-05T18:00:49.031Z"
   },
   {
    "duration": 11,
    "start_time": "2022-11-05T18:00:49.044Z"
   },
   {
    "duration": 13,
    "start_time": "2022-11-05T18:00:49.058Z"
   },
   {
    "duration": 9,
    "start_time": "2022-11-05T18:00:49.073Z"
   },
   {
    "duration": 36,
    "start_time": "2022-11-05T18:00:49.084Z"
   },
   {
    "duration": 16,
    "start_time": "2022-11-05T18:00:49.122Z"
   },
   {
    "duration": 19,
    "start_time": "2022-11-05T18:00:49.140Z"
   },
   {
    "duration": 5,
    "start_time": "2022-11-05T18:00:49.160Z"
   },
   {
    "duration": 12,
    "start_time": "2022-11-05T18:00:49.167Z"
   },
   {
    "duration": 4,
    "start_time": "2022-11-05T18:00:49.181Z"
   },
   {
    "duration": 37,
    "start_time": "2022-11-05T18:00:49.186Z"
   },
   {
    "duration": 9,
    "start_time": "2022-11-05T18:00:49.224Z"
   },
   {
    "duration": 16,
    "start_time": "2022-11-05T18:00:49.235Z"
   },
   {
    "duration": 9,
    "start_time": "2022-11-05T18:00:49.253Z"
   },
   {
    "duration": 15,
    "start_time": "2022-11-05T18:00:49.264Z"
   },
   {
    "duration": 13,
    "start_time": "2022-11-05T18:00:49.280Z"
   },
   {
    "duration": 40,
    "start_time": "2022-11-05T18:00:49.309Z"
   },
   {
    "duration": 4,
    "start_time": "2022-11-05T18:00:49.350Z"
   },
   {
    "duration": 10,
    "start_time": "2022-11-05T18:00:49.355Z"
   },
   {
    "duration": 9,
    "start_time": "2022-11-05T18:00:49.366Z"
   },
   {
    "duration": 8,
    "start_time": "2022-11-05T18:00:49.378Z"
   },
   {
    "duration": 34,
    "start_time": "2022-11-05T18:00:49.387Z"
   },
   {
    "duration": 14,
    "start_time": "2022-11-05T18:00:49.422Z"
   },
   {
    "duration": 9,
    "start_time": "2022-11-05T18:00:49.438Z"
   },
   {
    "duration": 9,
    "start_time": "2022-11-05T18:00:49.448Z"
   },
   {
    "duration": 8,
    "start_time": "2022-11-05T18:00:49.458Z"
   },
   {
    "duration": 43,
    "start_time": "2022-11-05T18:00:49.468Z"
   },
   {
    "duration": 14,
    "start_time": "2022-11-05T18:00:49.513Z"
   },
   {
    "duration": 21,
    "start_time": "2022-11-05T18:00:49.529Z"
   },
   {
    "duration": 5,
    "start_time": "2022-11-05T18:00:49.552Z"
   },
   {
    "duration": 10,
    "start_time": "2022-11-05T18:00:49.559Z"
   },
   {
    "duration": 6,
    "start_time": "2022-11-05T18:00:49.570Z"
   },
   {
    "duration": 38,
    "start_time": "2022-11-05T18:00:49.577Z"
   },
   {
    "duration": 6,
    "start_time": "2022-11-05T18:00:49.621Z"
   },
   {
    "duration": 26,
    "start_time": "2022-11-05T18:00:52.024Z"
   },
   {
    "duration": 825,
    "start_time": "2022-11-05T18:01:17.234Z"
   },
   {
    "duration": 28,
    "start_time": "2022-11-05T18:01:24.466Z"
   },
   {
    "duration": 1169,
    "start_time": "2022-11-05T19:14:12.564Z"
   },
   {
    "duration": 3,
    "start_time": "2022-11-05T19:14:13.735Z"
   },
   {
    "duration": 109,
    "start_time": "2022-11-05T19:14:13.740Z"
   },
   {
    "duration": 43,
    "start_time": "2022-11-05T19:14:13.851Z"
   },
   {
    "duration": 19,
    "start_time": "2022-11-05T19:14:13.896Z"
   },
   {
    "duration": 14,
    "start_time": "2022-11-05T19:14:13.917Z"
   },
   {
    "duration": 6,
    "start_time": "2022-11-05T19:14:13.933Z"
   },
   {
    "duration": 13,
    "start_time": "2022-11-05T19:14:13.941Z"
   },
   {
    "duration": 11,
    "start_time": "2022-11-05T19:14:13.956Z"
   },
   {
    "duration": 15,
    "start_time": "2022-11-05T19:14:13.971Z"
   },
   {
    "duration": 27,
    "start_time": "2022-11-05T19:14:13.987Z"
   },
   {
    "duration": 12,
    "start_time": "2022-11-05T19:14:14.016Z"
   },
   {
    "duration": 13,
    "start_time": "2022-11-05T19:14:14.030Z"
   },
   {
    "duration": 27,
    "start_time": "2022-11-05T19:14:14.045Z"
   },
   {
    "duration": 8,
    "start_time": "2022-11-05T19:14:14.073Z"
   },
   {
    "duration": 21,
    "start_time": "2022-11-05T19:14:14.110Z"
   },
   {
    "duration": 6,
    "start_time": "2022-11-05T19:14:14.133Z"
   },
   {
    "duration": 15,
    "start_time": "2022-11-05T19:14:14.141Z"
   },
   {
    "duration": 7,
    "start_time": "2022-11-05T19:14:14.157Z"
   },
   {
    "duration": 19,
    "start_time": "2022-11-05T19:14:14.166Z"
   },
   {
    "duration": 31,
    "start_time": "2022-11-05T19:14:14.197Z"
   },
   {
    "duration": 21,
    "start_time": "2022-11-05T19:14:14.230Z"
   },
   {
    "duration": 17,
    "start_time": "2022-11-05T19:14:14.253Z"
   },
   {
    "duration": 37,
    "start_time": "2022-11-05T19:14:14.272Z"
   },
   {
    "duration": 5,
    "start_time": "2022-11-05T19:14:14.310Z"
   },
   {
    "duration": 7,
    "start_time": "2022-11-05T19:14:14.316Z"
   },
   {
    "duration": 13,
    "start_time": "2022-11-05T19:14:14.324Z"
   },
   {
    "duration": 8,
    "start_time": "2022-11-05T19:14:14.341Z"
   },
   {
    "duration": 8,
    "start_time": "2022-11-05T19:14:14.350Z"
   },
   {
    "duration": 24,
    "start_time": "2022-11-05T19:14:14.359Z"
   },
   {
    "duration": 27,
    "start_time": "2022-11-05T19:14:14.385Z"
   },
   {
    "duration": 9,
    "start_time": "2022-11-05T19:14:14.414Z"
   },
   {
    "duration": 29,
    "start_time": "2022-11-05T19:14:14.424Z"
   },
   {
    "duration": 32,
    "start_time": "2022-11-05T19:14:14.454Z"
   },
   {
    "duration": 16,
    "start_time": "2022-11-05T19:14:14.488Z"
   },
   {
    "duration": 14,
    "start_time": "2022-11-05T19:14:14.506Z"
   },
   {
    "duration": 5,
    "start_time": "2022-11-05T19:14:14.522Z"
   },
   {
    "duration": 6,
    "start_time": "2022-11-05T19:14:14.528Z"
   },
   {
    "duration": 4,
    "start_time": "2022-11-05T19:14:14.535Z"
   },
   {
    "duration": 12,
    "start_time": "2022-11-05T19:14:14.541Z"
   },
   {
    "duration": 5,
    "start_time": "2022-11-05T19:14:14.554Z"
   },
   {
    "duration": 19,
    "start_time": "2022-11-05T19:14:14.561Z"
   },
   {
    "duration": 12,
    "start_time": "2022-11-05T19:14:14.609Z"
   },
   {
    "duration": 7,
    "start_time": "2022-11-05T19:14:14.623Z"
   },
   {
    "duration": 23,
    "start_time": "2022-11-05T19:14:14.632Z"
   },
   {
    "duration": 185,
    "start_time": "2022-11-05T19:14:14.657Z"
   },
   {
    "duration": 16,
    "start_time": "2022-11-05T19:14:14.844Z"
   },
   {
    "duration": 47,
    "start_time": "2022-11-05T19:14:14.862Z"
   },
   {
    "duration": 6,
    "start_time": "2022-11-05T19:14:14.910Z"
   },
   {
    "duration": 14,
    "start_time": "2022-11-05T19:14:14.918Z"
   },
   {
    "duration": 44,
    "start_time": "2022-11-05T19:14:14.933Z"
   },
   {
    "duration": 58,
    "start_time": "2022-11-05T19:14:14.979Z"
   },
   {
    "duration": 28,
    "start_time": "2022-11-05T19:14:15.039Z"
   },
   {
    "duration": 42,
    "start_time": "2022-11-05T19:14:15.068Z"
   },
   {
    "duration": 23,
    "start_time": "2022-11-05T19:14:15.112Z"
   },
   {
    "duration": 10,
    "start_time": "2022-11-05T19:14:15.136Z"
   },
   {
    "duration": 22,
    "start_time": "2022-11-05T19:14:15.148Z"
   },
   {
    "duration": 5,
    "start_time": "2022-11-05T19:14:15.172Z"
   },
   {
    "duration": 31,
    "start_time": "2022-11-05T19:14:15.179Z"
   },
   {
    "duration": 18,
    "start_time": "2022-11-05T19:14:15.211Z"
   },
   {
    "duration": 770,
    "start_time": "2022-11-05T19:14:15.231Z"
   },
   {
    "duration": 20,
    "start_time": "2022-11-05T19:14:16.003Z"
   },
   {
    "duration": 35,
    "start_time": "2022-11-05T19:14:16.025Z"
   },
   {
    "duration": 6,
    "start_time": "2022-11-05T19:14:16.062Z"
   },
   {
    "duration": 7,
    "start_time": "2022-11-05T19:14:16.070Z"
   },
   {
    "duration": 8,
    "start_time": "2022-11-05T19:14:16.078Z"
   },
   {
    "duration": 14,
    "start_time": "2022-11-05T19:14:16.088Z"
   },
   {
    "duration": 9,
    "start_time": "2022-11-05T19:14:16.103Z"
   },
   {
    "duration": 10,
    "start_time": "2022-11-05T19:14:16.113Z"
   },
   {
    "duration": 7,
    "start_time": "2022-11-05T19:14:16.124Z"
   },
   {
    "duration": 6,
    "start_time": "2022-11-05T19:14:16.133Z"
   },
   {
    "duration": 13,
    "start_time": "2022-11-05T19:14:16.140Z"
   },
   {
    "duration": 25,
    "start_time": "2022-11-05T19:14:16.154Z"
   },
   {
    "duration": 1542,
    "start_time": "2022-11-05T20:06:11.871Z"
   },
   {
    "duration": 44,
    "start_time": "2022-11-06T09:04:23.702Z"
   },
   {
    "duration": 1375,
    "start_time": "2022-11-06T09:04:35.654Z"
   },
   {
    "duration": 3,
    "start_time": "2022-11-06T09:04:37.031Z"
   },
   {
    "duration": 271,
    "start_time": "2022-11-06T09:04:37.035Z"
   },
   {
    "duration": 95,
    "start_time": "2022-11-06T09:04:37.308Z"
   },
   {
    "duration": 16,
    "start_time": "2022-11-06T09:04:37.405Z"
   },
   {
    "duration": 16,
    "start_time": "2022-11-06T09:04:37.423Z"
   },
   {
    "duration": 47,
    "start_time": "2022-11-06T09:04:37.441Z"
   },
   {
    "duration": 10,
    "start_time": "2022-11-06T09:04:37.490Z"
   },
   {
    "duration": 12,
    "start_time": "2022-11-06T09:04:37.501Z"
   },
   {
    "duration": 14,
    "start_time": "2022-11-06T09:04:37.516Z"
   },
   {
    "duration": 10,
    "start_time": "2022-11-06T09:04:37.532Z"
   },
   {
    "duration": 14,
    "start_time": "2022-11-06T09:04:37.544Z"
   },
   {
    "duration": 38,
    "start_time": "2022-11-06T09:04:37.560Z"
   },
   {
    "duration": 21,
    "start_time": "2022-11-06T09:04:37.600Z"
   },
   {
    "duration": 3,
    "start_time": "2022-11-06T09:04:37.624Z"
   },
   {
    "duration": 17,
    "start_time": "2022-11-06T09:04:37.630Z"
   },
   {
    "duration": 6,
    "start_time": "2022-11-06T09:04:37.649Z"
   },
   {
    "duration": 47,
    "start_time": "2022-11-06T09:04:37.657Z"
   },
   {
    "duration": 6,
    "start_time": "2022-11-06T09:04:37.706Z"
   },
   {
    "duration": 11,
    "start_time": "2022-11-06T09:04:37.714Z"
   },
   {
    "duration": 7,
    "start_time": "2022-11-06T09:04:37.727Z"
   },
   {
    "duration": 14,
    "start_time": "2022-11-06T09:04:37.736Z"
   },
   {
    "duration": 42,
    "start_time": "2022-11-06T09:04:37.751Z"
   },
   {
    "duration": 23,
    "start_time": "2022-11-06T09:04:37.795Z"
   },
   {
    "duration": 4,
    "start_time": "2022-11-06T09:04:37.820Z"
   },
   {
    "duration": 12,
    "start_time": "2022-11-06T09:04:37.826Z"
   },
   {
    "duration": 8,
    "start_time": "2022-11-06T09:04:37.840Z"
   },
   {
    "duration": 8,
    "start_time": "2022-11-06T09:04:37.852Z"
   },
   {
    "duration": 33,
    "start_time": "2022-11-06T09:04:37.861Z"
   },
   {
    "duration": 14,
    "start_time": "2022-11-06T09:04:37.896Z"
   },
   {
    "duration": 10,
    "start_time": "2022-11-06T09:04:37.911Z"
   },
   {
    "duration": 9,
    "start_time": "2022-11-06T09:04:37.922Z"
   },
   {
    "duration": 8,
    "start_time": "2022-11-06T09:04:37.933Z"
   },
   {
    "duration": 11,
    "start_time": "2022-11-06T09:04:37.943Z"
   },
   {
    "duration": 12,
    "start_time": "2022-11-06T09:04:37.990Z"
   },
   {
    "duration": 17,
    "start_time": "2022-11-06T09:04:38.003Z"
   },
   {
    "duration": 4,
    "start_time": "2022-11-06T09:04:38.022Z"
   },
   {
    "duration": 7,
    "start_time": "2022-11-06T09:04:38.028Z"
   },
   {
    "duration": 23,
    "start_time": "2022-11-06T09:04:38.036Z"
   },
   {
    "duration": 6,
    "start_time": "2022-11-06T09:04:38.061Z"
   },
   {
    "duration": 31,
    "start_time": "2022-11-06T09:04:38.069Z"
   },
   {
    "duration": 10,
    "start_time": "2022-11-06T09:04:38.102Z"
   },
   {
    "duration": 7,
    "start_time": "2022-11-06T09:04:38.113Z"
   },
   {
    "duration": 21,
    "start_time": "2022-11-06T09:04:38.121Z"
   },
   {
    "duration": 189,
    "start_time": "2022-11-06T09:04:38.144Z"
   },
   {
    "duration": 15,
    "start_time": "2022-11-06T09:04:38.335Z"
   },
   {
    "duration": 47,
    "start_time": "2022-11-06T09:04:38.352Z"
   },
   {
    "duration": 6,
    "start_time": "2022-11-06T09:04:38.400Z"
   },
   {
    "duration": 14,
    "start_time": "2022-11-06T09:04:38.407Z"
   },
   {
    "duration": 40,
    "start_time": "2022-11-06T09:04:38.423Z"
   },
   {
    "duration": 67,
    "start_time": "2022-11-06T09:04:38.466Z"
   },
   {
    "duration": 28,
    "start_time": "2022-11-06T09:04:38.535Z"
   },
   {
    "duration": 39,
    "start_time": "2022-11-06T09:04:38.565Z"
   },
   {
    "duration": 27,
    "start_time": "2022-11-06T09:04:38.606Z"
   },
   {
    "duration": 7,
    "start_time": "2022-11-06T09:04:38.635Z"
   },
   {
    "duration": 54,
    "start_time": "2022-11-06T09:04:38.643Z"
   },
   {
    "duration": 8,
    "start_time": "2022-11-06T09:04:38.699Z"
   },
   {
    "duration": 6,
    "start_time": "2022-11-06T09:04:38.708Z"
   },
   {
    "duration": 16,
    "start_time": "2022-11-06T09:04:38.716Z"
   },
   {
    "duration": 843,
    "start_time": "2022-11-06T09:04:38.734Z"
   },
   {
    "duration": 23,
    "start_time": "2022-11-06T09:04:39.579Z"
   },
   {
    "duration": 23,
    "start_time": "2022-11-06T09:04:39.604Z"
   },
   {
    "duration": 10,
    "start_time": "2022-11-06T09:04:39.629Z"
   },
   {
    "duration": 4,
    "start_time": "2022-11-06T09:04:39.641Z"
   },
   {
    "duration": 3,
    "start_time": "2022-11-06T09:04:39.648Z"
   },
   {
    "duration": 45,
    "start_time": "2022-11-06T09:04:39.652Z"
   },
   {
    "duration": 10,
    "start_time": "2022-11-06T09:04:39.699Z"
   },
   {
    "duration": 7,
    "start_time": "2022-11-06T09:04:39.711Z"
   },
   {
    "duration": 8,
    "start_time": "2022-11-06T09:04:39.719Z"
   },
   {
    "duration": 6,
    "start_time": "2022-11-06T09:04:39.728Z"
   },
   {
    "duration": 8,
    "start_time": "2022-11-06T09:04:39.735Z"
   },
   {
    "duration": 51,
    "start_time": "2022-11-06T09:04:39.745Z"
   },
   {
    "duration": 2,
    "start_time": "2022-11-06T09:08:05.375Z"
   },
   {
    "duration": 78,
    "start_time": "2022-11-06T09:10:27.744Z"
   },
   {
    "duration": 79,
    "start_time": "2022-11-06T09:10:40.815Z"
   },
   {
    "duration": 85,
    "start_time": "2022-11-06T09:10:55.349Z"
   },
   {
    "duration": 4,
    "start_time": "2022-11-06T09:11:15.139Z"
   },
   {
    "duration": 128,
    "start_time": "2022-11-06T09:12:20.841Z"
   },
   {
    "duration": 4,
    "start_time": "2022-11-06T09:12:55.699Z"
   },
   {
    "duration": 4,
    "start_time": "2022-11-06T09:13:01.160Z"
   },
   {
    "duration": 3,
    "start_time": "2022-11-06T09:13:12.264Z"
   },
   {
    "duration": 8,
    "start_time": "2022-11-06T09:13:12.269Z"
   },
   {
    "duration": 116,
    "start_time": "2022-11-06T09:13:12.279Z"
   },
   {
    "duration": 44,
    "start_time": "2022-11-06T09:13:12.397Z"
   },
   {
    "duration": 14,
    "start_time": "2022-11-06T09:13:12.443Z"
   },
   {
    "duration": 10,
    "start_time": "2022-11-06T09:13:12.459Z"
   },
   {
    "duration": 4,
    "start_time": "2022-11-06T09:13:12.470Z"
   },
   {
    "duration": 10,
    "start_time": "2022-11-06T09:13:12.475Z"
   },
   {
    "duration": 12,
    "start_time": "2022-11-06T09:13:12.486Z"
   },
   {
    "duration": 17,
    "start_time": "2022-11-06T09:13:12.501Z"
   },
   {
    "duration": 18,
    "start_time": "2022-11-06T09:13:12.520Z"
   },
   {
    "duration": 11,
    "start_time": "2022-11-06T09:13:12.539Z"
   },
   {
    "duration": 39,
    "start_time": "2022-11-06T09:13:12.552Z"
   },
   {
    "duration": 11,
    "start_time": "2022-11-06T09:13:12.594Z"
   },
   {
    "duration": 20,
    "start_time": "2022-11-06T09:13:12.607Z"
   },
   {
    "duration": 4,
    "start_time": "2022-11-06T09:13:12.628Z"
   },
   {
    "duration": 11,
    "start_time": "2022-11-06T09:13:12.633Z"
   },
   {
    "duration": 4,
    "start_time": "2022-11-06T09:13:12.646Z"
   },
   {
    "duration": 44,
    "start_time": "2022-11-06T09:13:12.652Z"
   },
   {
    "duration": 24,
    "start_time": "2022-11-06T09:13:12.698Z"
   },
   {
    "duration": 17,
    "start_time": "2022-11-06T09:13:12.724Z"
   },
   {
    "duration": 10,
    "start_time": "2022-11-06T09:13:12.742Z"
   },
   {
    "duration": 15,
    "start_time": "2022-11-06T09:13:12.754Z"
   },
   {
    "duration": 14,
    "start_time": "2022-11-06T09:13:12.770Z"
   },
   {
    "duration": 25,
    "start_time": "2022-11-06T09:13:12.786Z"
   },
   {
    "duration": 4,
    "start_time": "2022-11-06T09:13:12.813Z"
   },
   {
    "duration": 6,
    "start_time": "2022-11-06T09:13:12.818Z"
   },
   {
    "duration": 6,
    "start_time": "2022-11-06T09:13:12.828Z"
   },
   {
    "duration": 20,
    "start_time": "2022-11-06T09:13:12.836Z"
   },
   {
    "duration": 5,
    "start_time": "2022-11-06T09:13:12.858Z"
   },
   {
    "duration": 34,
    "start_time": "2022-11-06T09:13:12.864Z"
   },
   {
    "duration": 11,
    "start_time": "2022-11-06T09:13:12.900Z"
   },
   {
    "duration": 10,
    "start_time": "2022-11-06T09:13:12.913Z"
   },
   {
    "duration": 10,
    "start_time": "2022-11-06T09:13:12.924Z"
   },
   {
    "duration": 11,
    "start_time": "2022-11-06T09:13:12.935Z"
   },
   {
    "duration": 44,
    "start_time": "2022-11-06T09:13:12.948Z"
   },
   {
    "duration": 14,
    "start_time": "2022-11-06T09:13:12.993Z"
   },
   {
    "duration": 4,
    "start_time": "2022-11-06T09:13:13.009Z"
   },
   {
    "duration": 3,
    "start_time": "2022-11-06T09:13:13.015Z"
   },
   {
    "duration": 12,
    "start_time": "2022-11-06T09:13:13.019Z"
   },
   {
    "duration": 13,
    "start_time": "2022-11-06T09:13:13.033Z"
   },
   {
    "duration": 16,
    "start_time": "2022-11-06T09:13:13.048Z"
   },
   {
    "duration": 34,
    "start_time": "2022-11-06T09:13:13.065Z"
   },
   {
    "duration": 8,
    "start_time": "2022-11-06T09:13:13.101Z"
   },
   {
    "duration": 21,
    "start_time": "2022-11-06T09:13:13.111Z"
   },
   {
    "duration": 176,
    "start_time": "2022-11-06T09:13:13.134Z"
   },
   {
    "duration": 14,
    "start_time": "2022-11-06T09:13:13.312Z"
   },
   {
    "duration": 43,
    "start_time": "2022-11-06T09:13:13.327Z"
   },
   {
    "duration": 5,
    "start_time": "2022-11-06T09:13:13.372Z"
   },
   {
    "duration": 34,
    "start_time": "2022-11-06T09:13:13.378Z"
   },
   {
    "duration": 29,
    "start_time": "2022-11-06T09:13:13.414Z"
   },
   {
    "duration": 40,
    "start_time": "2022-11-06T09:13:13.444Z"
   },
   {
    "duration": 30,
    "start_time": "2022-11-06T09:13:13.486Z"
   },
   {
    "duration": 22,
    "start_time": "2022-11-06T09:13:13.518Z"
   },
   {
    "duration": 21,
    "start_time": "2022-11-06T09:13:13.542Z"
   },
   {
    "duration": 6,
    "start_time": "2022-11-06T09:13:13.591Z"
   },
   {
    "duration": 23,
    "start_time": "2022-11-06T09:13:13.598Z"
   },
   {
    "duration": 4,
    "start_time": "2022-11-06T09:13:13.623Z"
   },
   {
    "duration": 6,
    "start_time": "2022-11-06T09:13:13.628Z"
   },
   {
    "duration": 14,
    "start_time": "2022-11-06T09:13:13.636Z"
   },
   {
    "duration": 854,
    "start_time": "2022-11-06T09:13:13.652Z"
   },
   {
    "duration": 22,
    "start_time": "2022-11-06T09:13:14.508Z"
   },
   {
    "duration": 20,
    "start_time": "2022-11-06T09:13:14.531Z"
   },
   {
    "duration": 7,
    "start_time": "2022-11-06T09:13:14.553Z"
   },
   {
    "duration": 3,
    "start_time": "2022-11-06T09:13:14.590Z"
   },
   {
    "duration": 5,
    "start_time": "2022-11-06T09:13:14.595Z"
   },
   {
    "duration": 7,
    "start_time": "2022-11-06T09:13:14.601Z"
   },
   {
    "duration": 5,
    "start_time": "2022-11-06T09:13:14.609Z"
   },
   {
    "duration": 5,
    "start_time": "2022-11-06T09:13:14.616Z"
   },
   {
    "duration": 9,
    "start_time": "2022-11-06T09:13:14.623Z"
   },
   {
    "duration": 8,
    "start_time": "2022-11-06T09:13:14.634Z"
   },
   {
    "duration": 15,
    "start_time": "2022-11-06T09:13:14.644Z"
   },
   {
    "duration": 49,
    "start_time": "2022-11-06T09:13:14.661Z"
   },
   {
    "duration": 3,
    "start_time": "2022-11-06T09:17:49.347Z"
   },
   {
    "duration": 5,
    "start_time": "2022-11-06T09:17:50.054Z"
   },
   {
    "duration": 6,
    "start_time": "2022-11-06T09:47:25.176Z"
   },
   {
    "duration": 8,
    "start_time": "2022-11-06T09:47:25.722Z"
   },
   {
    "duration": 6,
    "start_time": "2022-11-06T09:47:27.445Z"
   },
   {
    "duration": 6,
    "start_time": "2022-11-06T09:52:21.022Z"
   },
   {
    "duration": 5,
    "start_time": "2022-11-06T09:52:45.339Z"
   },
   {
    "duration": 4,
    "start_time": "2022-11-06T09:53:02.167Z"
   },
   {
    "duration": 10,
    "start_time": "2022-11-06T09:53:02.172Z"
   },
   {
    "duration": 98,
    "start_time": "2022-11-06T09:53:02.184Z"
   },
   {
    "duration": 41,
    "start_time": "2022-11-06T09:53:02.291Z"
   },
   {
    "duration": 14,
    "start_time": "2022-11-06T09:53:02.333Z"
   },
   {
    "duration": 42,
    "start_time": "2022-11-06T09:53:02.348Z"
   },
   {
    "duration": 19,
    "start_time": "2022-11-06T09:53:02.392Z"
   },
   {
    "duration": 28,
    "start_time": "2022-11-06T09:53:02.413Z"
   },
   {
    "duration": 24,
    "start_time": "2022-11-06T09:53:02.443Z"
   },
   {
    "duration": 23,
    "start_time": "2022-11-06T09:53:02.469Z"
   },
   {
    "duration": 20,
    "start_time": "2022-11-06T09:53:02.493Z"
   },
   {
    "duration": 13,
    "start_time": "2022-11-06T09:53:02.514Z"
   },
   {
    "duration": 34,
    "start_time": "2022-11-06T09:53:02.529Z"
   },
   {
    "duration": 15,
    "start_time": "2022-11-06T09:53:02.565Z"
   },
   {
    "duration": 25,
    "start_time": "2022-11-06T09:53:02.582Z"
   },
   {
    "duration": 10,
    "start_time": "2022-11-06T09:53:02.609Z"
   },
   {
    "duration": 17,
    "start_time": "2022-11-06T09:53:02.621Z"
   },
   {
    "duration": 22,
    "start_time": "2022-11-06T09:53:02.640Z"
   },
   {
    "duration": 21,
    "start_time": "2022-11-06T09:53:02.663Z"
   },
   {
    "duration": 16,
    "start_time": "2022-11-06T09:53:02.685Z"
   },
   {
    "duration": 24,
    "start_time": "2022-11-06T09:53:02.702Z"
   },
   {
    "duration": 26,
    "start_time": "2022-11-06T09:53:02.728Z"
   },
   {
    "duration": 32,
    "start_time": "2022-11-06T09:53:02.756Z"
   },
   {
    "duration": 15,
    "start_time": "2022-11-06T09:53:02.793Z"
   },
   {
    "duration": 42,
    "start_time": "2022-11-06T09:53:02.810Z"
   },
   {
    "duration": 6,
    "start_time": "2022-11-06T09:53:02.854Z"
   },
   {
    "duration": 19,
    "start_time": "2022-11-06T09:53:02.862Z"
   },
   {
    "duration": 35,
    "start_time": "2022-11-06T09:53:02.882Z"
   },
   {
    "duration": 10,
    "start_time": "2022-11-06T09:53:02.919Z"
   },
   {
    "duration": 25,
    "start_time": "2022-11-06T09:53:02.931Z"
   },
   {
    "duration": 18,
    "start_time": "2022-11-06T09:53:02.959Z"
   },
   {
    "duration": 18,
    "start_time": "2022-11-06T09:53:02.979Z"
   },
   {
    "duration": 29,
    "start_time": "2022-11-06T09:53:02.998Z"
   },
   {
    "duration": 16,
    "start_time": "2022-11-06T09:53:03.029Z"
   },
   {
    "duration": 21,
    "start_time": "2022-11-06T09:53:03.047Z"
   },
   {
    "duration": 34,
    "start_time": "2022-11-06T09:53:03.070Z"
   },
   {
    "duration": 18,
    "start_time": "2022-11-06T09:53:03.105Z"
   },
   {
    "duration": 19,
    "start_time": "2022-11-06T09:53:03.125Z"
   },
   {
    "duration": 28,
    "start_time": "2022-11-06T09:53:03.146Z"
   },
   {
    "duration": 29,
    "start_time": "2022-11-06T09:53:03.176Z"
   },
   {
    "duration": 7,
    "start_time": "2022-11-06T09:53:03.207Z"
   },
   {
    "duration": 30,
    "start_time": "2022-11-06T09:53:03.216Z"
   },
   {
    "duration": 17,
    "start_time": "2022-11-06T09:53:03.248Z"
   },
   {
    "duration": 31,
    "start_time": "2022-11-06T09:53:03.267Z"
   },
   {
    "duration": 14,
    "start_time": "2022-11-06T09:53:03.300Z"
   },
   {
    "duration": 13,
    "start_time": "2022-11-06T09:53:03.316Z"
   },
   {
    "duration": 35,
    "start_time": "2022-11-06T09:53:03.330Z"
   },
   {
    "duration": 148,
    "start_time": "2022-11-06T09:53:03.367Z"
   },
   {
    "duration": 14,
    "start_time": "2022-11-06T09:53:03.516Z"
   },
   {
    "duration": 28,
    "start_time": "2022-11-06T09:53:03.532Z"
   },
   {
    "duration": 6,
    "start_time": "2022-11-06T09:53:03.562Z"
   },
   {
    "duration": 27,
    "start_time": "2022-11-06T09:53:03.569Z"
   },
   {
    "duration": 113,
    "start_time": "2022-11-06T09:53:03.598Z"
   },
   {
    "duration": 36,
    "start_time": "2022-11-06T09:53:03.713Z"
   },
   {
    "duration": 40,
    "start_time": "2022-11-06T09:53:03.751Z"
   },
   {
    "duration": 21,
    "start_time": "2022-11-06T09:53:03.793Z"
   },
   {
    "duration": 22,
    "start_time": "2022-11-06T09:53:03.816Z"
   },
   {
    "duration": 5,
    "start_time": "2022-11-06T09:53:03.840Z"
   },
   {
    "duration": 46,
    "start_time": "2022-11-06T09:53:03.846Z"
   },
   {
    "duration": 5,
    "start_time": "2022-11-06T09:53:03.893Z"
   },
   {
    "duration": 6,
    "start_time": "2022-11-06T09:53:03.899Z"
   },
   {
    "duration": 21,
    "start_time": "2022-11-06T09:53:03.907Z"
   },
   {
    "duration": 1090,
    "start_time": "2022-11-06T09:53:03.930Z"
   },
   {
    "duration": 72,
    "start_time": "2022-11-06T09:53:05.022Z"
   },
   {
    "duration": 21,
    "start_time": "2022-11-06T09:53:05.096Z"
   },
   {
    "duration": 6,
    "start_time": "2022-11-06T09:53:05.119Z"
   },
   {
    "duration": 3,
    "start_time": "2022-11-06T09:53:05.127Z"
   },
   {
    "duration": 61,
    "start_time": "2022-11-06T09:53:05.131Z"
   },
   {
    "duration": 6,
    "start_time": "2022-11-06T09:53:05.198Z"
   },
   {
    "duration": 6,
    "start_time": "2022-11-06T09:53:05.206Z"
   },
   {
    "duration": 9,
    "start_time": "2022-11-06T09:53:05.213Z"
   },
   {
    "duration": 7,
    "start_time": "2022-11-06T09:53:05.223Z"
   },
   {
    "duration": 5,
    "start_time": "2022-11-06T09:53:05.232Z"
   },
   {
    "duration": 58,
    "start_time": "2022-11-06T09:53:05.239Z"
   },
   {
    "duration": 26,
    "start_time": "2022-11-06T09:53:05.299Z"
   },
   {
    "duration": 89,
    "start_time": "2022-11-06T09:57:20.428Z"
   },
   {
    "duration": 13,
    "start_time": "2022-11-06T09:57:30.122Z"
   },
   {
    "duration": 5,
    "start_time": "2022-11-06T10:02:20.898Z"
   },
   {
    "duration": 15,
    "start_time": "2022-11-06T10:02:36.309Z"
   },
   {
    "duration": 25,
    "start_time": "2022-11-06T10:04:27.690Z"
   },
   {
    "duration": 26,
    "start_time": "2022-11-06T10:04:56.026Z"
   },
   {
    "duration": 13,
    "start_time": "2022-11-06T10:05:15.990Z"
   },
   {
    "duration": 27,
    "start_time": "2022-11-06T10:05:41.196Z"
   },
   {
    "duration": 5,
    "start_time": "2022-11-06T10:09:20.855Z"
   },
   {
    "duration": 49,
    "start_time": "2022-11-06T10:09:48.188Z"
   },
   {
    "duration": 11,
    "start_time": "2022-11-06T10:11:03.052Z"
   },
   {
    "duration": 60,
    "start_time": "2022-11-06T10:11:16.855Z"
   },
   {
    "duration": 44,
    "start_time": "2022-11-06T10:11:59.269Z"
   },
   {
    "duration": 8,
    "start_time": "2022-11-06T10:15:06.919Z"
   },
   {
    "duration": 34,
    "start_time": "2022-11-06T10:15:14.437Z"
   },
   {
    "duration": 29,
    "start_time": "2022-11-06T10:16:23.392Z"
   },
   {
    "duration": 60,
    "start_time": "2022-11-06T10:19:03.447Z"
   },
   {
    "duration": 28,
    "start_time": "2022-11-06T10:19:24.133Z"
   },
   {
    "duration": 10,
    "start_time": "2022-11-06T10:19:30.100Z"
   },
   {
    "duration": 5,
    "start_time": "2022-11-06T10:22:06.831Z"
   },
   {
    "duration": 39,
    "start_time": "2022-11-06T10:22:16.513Z"
   },
   {
    "duration": 5,
    "start_time": "2022-11-06T10:24:33.271Z"
   },
   {
    "duration": 4,
    "start_time": "2022-11-06T10:25:25.386Z"
   },
   {
    "duration": 5,
    "start_time": "2022-11-06T10:25:39.543Z"
   },
   {
    "duration": 9,
    "start_time": "2022-11-06T10:38:47.556Z"
   },
   {
    "duration": 9,
    "start_time": "2022-11-06T10:38:55.950Z"
   },
   {
    "duration": 13,
    "start_time": "2022-11-06T10:39:05.340Z"
   },
   {
    "duration": 3,
    "start_time": "2022-11-06T10:39:25.790Z"
   },
   {
    "duration": 5,
    "start_time": "2022-11-06T10:39:25.795Z"
   },
   {
    "duration": 116,
    "start_time": "2022-11-06T10:39:25.801Z"
   },
   {
    "duration": 41,
    "start_time": "2022-11-06T10:39:25.919Z"
   },
   {
    "duration": 16,
    "start_time": "2022-11-06T10:39:25.961Z"
   },
   {
    "duration": 18,
    "start_time": "2022-11-06T10:39:25.979Z"
   },
   {
    "duration": 4,
    "start_time": "2022-11-06T10:39:25.998Z"
   },
   {
    "duration": 6,
    "start_time": "2022-11-06T10:39:26.003Z"
   },
   {
    "duration": 8,
    "start_time": "2022-11-06T10:39:26.012Z"
   },
   {
    "duration": 14,
    "start_time": "2022-11-06T10:39:26.022Z"
   },
   {
    "duration": 55,
    "start_time": "2022-11-06T10:39:26.038Z"
   },
   {
    "duration": 9,
    "start_time": "2022-11-06T10:39:26.095Z"
   },
   {
    "duration": 13,
    "start_time": "2022-11-06T10:39:26.106Z"
   },
   {
    "duration": 10,
    "start_time": "2022-11-06T10:39:26.120Z"
   },
   {
    "duration": 20,
    "start_time": "2022-11-06T10:39:26.132Z"
   },
   {
    "duration": 3,
    "start_time": "2022-11-06T10:39:26.190Z"
   },
   {
    "duration": 11,
    "start_time": "2022-11-06T10:39:26.195Z"
   },
   {
    "duration": 5,
    "start_time": "2022-11-06T10:39:26.207Z"
   },
   {
    "duration": 11,
    "start_time": "2022-11-06T10:39:26.214Z"
   },
   {
    "duration": 6,
    "start_time": "2022-11-06T10:39:26.227Z"
   },
   {
    "duration": 7,
    "start_time": "2022-11-06T10:39:26.235Z"
   },
   {
    "duration": 7,
    "start_time": "2022-11-06T10:39:26.243Z"
   },
   {
    "duration": 52,
    "start_time": "2022-11-06T10:39:26.252Z"
   },
   {
    "duration": 15,
    "start_time": "2022-11-06T10:39:26.309Z"
   },
   {
    "duration": 24,
    "start_time": "2022-11-06T10:39:26.326Z"
   },
   {
    "duration": 5,
    "start_time": "2022-11-06T10:39:26.352Z"
   },
   {
    "duration": 5,
    "start_time": "2022-11-06T10:39:26.390Z"
   },
   {
    "duration": 15,
    "start_time": "2022-11-06T10:39:26.397Z"
   },
   {
    "duration": 30,
    "start_time": "2022-11-06T10:39:26.413Z"
   },
   {
    "duration": 6,
    "start_time": "2022-11-06T10:39:26.444Z"
   },
   {
    "duration": 41,
    "start_time": "2022-11-06T10:39:26.451Z"
   },
   {
    "duration": 11,
    "start_time": "2022-11-06T10:39:26.494Z"
   },
   {
    "duration": 14,
    "start_time": "2022-11-06T10:39:26.507Z"
   },
   {
    "duration": 7,
    "start_time": "2022-11-06T10:39:26.523Z"
   },
   {
    "duration": 6,
    "start_time": "2022-11-06T10:39:26.531Z"
   },
   {
    "duration": 8,
    "start_time": "2022-11-06T10:39:26.540Z"
   },
   {
    "duration": 9,
    "start_time": "2022-11-06T10:39:26.592Z"
   },
   {
    "duration": 13,
    "start_time": "2022-11-06T10:39:26.603Z"
   },
   {
    "duration": 18,
    "start_time": "2022-11-06T10:39:26.618Z"
   },
   {
    "duration": 11,
    "start_time": "2022-11-06T10:39:26.639Z"
   },
   {
    "duration": 48,
    "start_time": "2022-11-06T10:39:26.652Z"
   },
   {
    "duration": 14,
    "start_time": "2022-11-06T10:39:26.703Z"
   },
   {
    "duration": 17,
    "start_time": "2022-11-06T10:39:26.719Z"
   },
   {
    "duration": 15,
    "start_time": "2022-11-06T10:39:26.738Z"
   },
   {
    "duration": 48,
    "start_time": "2022-11-06T10:39:26.755Z"
   },
   {
    "duration": 6,
    "start_time": "2022-11-06T10:39:26.805Z"
   },
   {
    "duration": 5,
    "start_time": "2022-11-06T10:39:26.813Z"
   },
   {
    "duration": 20,
    "start_time": "2022-11-06T10:39:26.820Z"
   },
   {
    "duration": 7,
    "start_time": "2022-11-06T10:39:26.843Z"
   },
   {
    "duration": 56,
    "start_time": "2022-11-06T10:39:26.852Z"
   },
   {
    "duration": 11,
    "start_time": "2022-11-06T10:39:26.910Z"
   },
   {
    "duration": 9,
    "start_time": "2022-11-06T10:39:26.923Z"
   },
   {
    "duration": 22,
    "start_time": "2022-11-06T10:39:26.933Z"
   },
   {
    "duration": 179,
    "start_time": "2022-11-06T10:39:26.957Z"
   },
   {
    "duration": 16,
    "start_time": "2022-11-06T10:39:27.138Z"
   },
   {
    "duration": 44,
    "start_time": "2022-11-06T10:39:27.155Z"
   },
   {
    "duration": 6,
    "start_time": "2022-11-06T10:39:27.201Z"
   },
   {
    "duration": 11,
    "start_time": "2022-11-06T10:39:27.208Z"
   },
   {
    "duration": 37,
    "start_time": "2022-11-06T10:39:27.221Z"
   },
   {
    "duration": 55,
    "start_time": "2022-11-06T10:39:27.260Z"
   },
   {
    "duration": 26,
    "start_time": "2022-11-06T10:39:27.317Z"
   },
   {
    "duration": 38,
    "start_time": "2022-11-06T10:39:27.345Z"
   },
   {
    "duration": 27,
    "start_time": "2022-11-06T10:39:27.385Z"
   },
   {
    "duration": 12,
    "start_time": "2022-11-06T10:39:27.414Z"
   },
   {
    "duration": 50,
    "start_time": "2022-11-06T10:39:27.428Z"
   },
   {
    "duration": 8,
    "start_time": "2022-11-06T10:39:27.480Z"
   },
   {
    "duration": 31,
    "start_time": "2022-11-06T10:39:27.490Z"
   },
   {
    "duration": 22,
    "start_time": "2022-11-06T10:39:27.522Z"
   },
   {
    "duration": 785,
    "start_time": "2022-11-06T10:39:27.548Z"
   },
   {
    "duration": 19,
    "start_time": "2022-11-06T10:39:28.334Z"
   },
   {
    "duration": 25,
    "start_time": "2022-11-06T10:39:28.354Z"
   },
   {
    "duration": 7,
    "start_time": "2022-11-06T10:39:28.391Z"
   },
   {
    "duration": 7,
    "start_time": "2022-11-06T10:39:28.399Z"
   },
   {
    "duration": 4,
    "start_time": "2022-11-06T10:39:28.408Z"
   },
   {
    "duration": 8,
    "start_time": "2022-11-06T10:39:28.413Z"
   },
   {
    "duration": 6,
    "start_time": "2022-11-06T10:39:28.422Z"
   },
   {
    "duration": 7,
    "start_time": "2022-11-06T10:39:28.430Z"
   },
   {
    "duration": 8,
    "start_time": "2022-11-06T10:39:28.438Z"
   },
   {
    "duration": 8,
    "start_time": "2022-11-06T10:39:28.447Z"
   },
   {
    "duration": 7,
    "start_time": "2022-11-06T10:39:28.456Z"
   },
   {
    "duration": 29,
    "start_time": "2022-11-06T10:39:28.490Z"
   },
   {
    "duration": 9,
    "start_time": "2022-11-06T10:39:55.068Z"
   },
   {
    "duration": 14,
    "start_time": "2022-11-06T10:39:56.238Z"
   },
   {
    "duration": 12,
    "start_time": "2022-11-06T10:40:20.208Z"
   },
   {
    "duration": 9,
    "start_time": "2022-11-06T10:41:22.359Z"
   },
   {
    "duration": 15,
    "start_time": "2022-11-06T10:41:24.067Z"
   },
   {
    "duration": 1062,
    "start_time": "2022-11-06T10:43:27.536Z"
   },
   {
    "duration": 3,
    "start_time": "2022-11-06T10:43:28.600Z"
   },
   {
    "duration": 97,
    "start_time": "2022-11-06T10:43:28.606Z"
   },
   {
    "duration": 42,
    "start_time": "2022-11-06T10:43:28.706Z"
   },
   {
    "duration": 14,
    "start_time": "2022-11-06T10:43:28.750Z"
   },
   {
    "duration": 12,
    "start_time": "2022-11-06T10:43:28.766Z"
   },
   {
    "duration": 7,
    "start_time": "2022-11-06T10:43:28.779Z"
   },
   {
    "duration": 7,
    "start_time": "2022-11-06T10:43:28.787Z"
   },
   {
    "duration": 9,
    "start_time": "2022-11-06T10:43:28.796Z"
   },
   {
    "duration": 10,
    "start_time": "2022-11-06T10:43:28.807Z"
   },
   {
    "duration": 13,
    "start_time": "2022-11-06T10:43:28.819Z"
   },
   {
    "duration": 11,
    "start_time": "2022-11-06T10:43:28.834Z"
   },
   {
    "duration": 13,
    "start_time": "2022-11-06T10:43:28.848Z"
   },
   {
    "duration": 10,
    "start_time": "2022-11-06T10:43:28.891Z"
   },
   {
    "duration": 20,
    "start_time": "2022-11-06T10:43:28.903Z"
   },
   {
    "duration": 6,
    "start_time": "2022-11-06T10:43:28.924Z"
   },
   {
    "duration": 11,
    "start_time": "2022-11-06T10:43:28.932Z"
   },
   {
    "duration": 4,
    "start_time": "2022-11-06T10:43:28.945Z"
   },
   {
    "duration": 12,
    "start_time": "2022-11-06T10:43:28.950Z"
   },
   {
    "duration": 4,
    "start_time": "2022-11-06T10:43:28.990Z"
   },
   {
    "duration": 7,
    "start_time": "2022-11-06T10:43:28.996Z"
   },
   {
    "duration": 5,
    "start_time": "2022-11-06T10:43:29.005Z"
   },
   {
    "duration": 19,
    "start_time": "2022-11-06T10:43:29.012Z"
   },
   {
    "duration": 14,
    "start_time": "2022-11-06T10:43:29.032Z"
   },
   {
    "duration": 44,
    "start_time": "2022-11-06T10:43:29.048Z"
   },
   {
    "duration": 6,
    "start_time": "2022-11-06T10:43:29.093Z"
   },
   {
    "duration": 5,
    "start_time": "2022-11-06T10:43:29.100Z"
   },
   {
    "duration": 11,
    "start_time": "2022-11-06T10:43:29.107Z"
   },
   {
    "duration": 24,
    "start_time": "2022-11-06T10:43:29.119Z"
   },
   {
    "duration": 5,
    "start_time": "2022-11-06T10:43:29.145Z"
   },
   {
    "duration": 5,
    "start_time": "2022-11-06T10:43:29.151Z"
   },
   {
    "duration": 41,
    "start_time": "2022-11-06T10:43:29.157Z"
   },
   {
    "duration": 11,
    "start_time": "2022-11-06T10:43:29.200Z"
   },
   {
    "duration": 6,
    "start_time": "2022-11-06T10:43:29.213Z"
   },
   {
    "duration": 6,
    "start_time": "2022-11-06T10:43:29.221Z"
   },
   {
    "duration": 4,
    "start_time": "2022-11-06T10:43:29.228Z"
   },
   {
    "duration": 7,
    "start_time": "2022-11-06T10:43:29.233Z"
   },
   {
    "duration": 18,
    "start_time": "2022-11-06T10:43:29.242Z"
   },
   {
    "duration": 40,
    "start_time": "2022-11-06T10:43:29.262Z"
   },
   {
    "duration": 9,
    "start_time": "2022-11-06T10:43:29.307Z"
   },
   {
    "duration": 11,
    "start_time": "2022-11-06T10:43:29.318Z"
   },
   {
    "duration": 9,
    "start_time": "2022-11-06T10:43:29.331Z"
   },
   {
    "duration": 13,
    "start_time": "2022-11-06T10:43:29.342Z"
   },
   {
    "duration": 42,
    "start_time": "2022-11-06T10:43:29.356Z"
   },
   {
    "duration": 16,
    "start_time": "2022-11-06T10:43:29.399Z"
   },
   {
    "duration": 5,
    "start_time": "2022-11-06T10:43:29.417Z"
   },
   {
    "duration": 3,
    "start_time": "2022-11-06T10:43:29.424Z"
   },
   {
    "duration": 13,
    "start_time": "2022-11-06T10:43:29.428Z"
   },
   {
    "duration": 6,
    "start_time": "2022-11-06T10:43:29.442Z"
   },
   {
    "duration": 15,
    "start_time": "2022-11-06T10:43:29.449Z"
   },
   {
    "duration": 11,
    "start_time": "2022-11-06T10:43:29.492Z"
   },
   {
    "duration": 8,
    "start_time": "2022-11-06T10:43:29.504Z"
   },
   {
    "duration": 14,
    "start_time": "2022-11-06T10:43:29.514Z"
   },
   {
    "duration": 220,
    "start_time": "2022-11-06T10:43:29.530Z"
   },
   {
    "duration": 17,
    "start_time": "2022-11-06T10:43:29.752Z"
   },
   {
    "duration": 42,
    "start_time": "2022-11-06T10:43:29.771Z"
   },
   {
    "duration": 7,
    "start_time": "2022-11-06T10:43:29.814Z"
   },
   {
    "duration": 9,
    "start_time": "2022-11-06T10:43:29.823Z"
   },
   {
    "duration": 28,
    "start_time": "2022-11-06T10:43:29.833Z"
   },
   {
    "duration": 60,
    "start_time": "2022-11-06T10:43:29.862Z"
   },
   {
    "duration": 26,
    "start_time": "2022-11-06T10:43:29.924Z"
   },
   {
    "duration": 20,
    "start_time": "2022-11-06T10:43:29.951Z"
   },
   {
    "duration": 20,
    "start_time": "2022-11-06T10:43:29.991Z"
   },
   {
    "duration": 4,
    "start_time": "2022-11-06T10:43:30.013Z"
   },
   {
    "duration": 34,
    "start_time": "2022-11-06T10:43:30.019Z"
   },
   {
    "duration": 5,
    "start_time": "2022-11-06T10:43:30.054Z"
   },
   {
    "duration": 10,
    "start_time": "2022-11-06T10:43:30.060Z"
   },
   {
    "duration": 27,
    "start_time": "2022-11-06T10:43:30.072Z"
   },
   {
    "duration": 776,
    "start_time": "2022-11-06T10:43:30.100Z"
   },
   {
    "duration": 19,
    "start_time": "2022-11-06T10:43:30.878Z"
   },
   {
    "duration": 43,
    "start_time": "2022-11-06T10:43:30.899Z"
   },
   {
    "duration": 7,
    "start_time": "2022-11-06T10:43:30.944Z"
   },
   {
    "duration": 13,
    "start_time": "2022-11-06T10:43:30.952Z"
   },
   {
    "duration": 39,
    "start_time": "2022-11-06T10:43:30.967Z"
   },
   {
    "duration": 22,
    "start_time": "2022-11-06T10:43:31.008Z"
   },
   {
    "duration": 23,
    "start_time": "2022-11-06T10:43:31.031Z"
   },
   {
    "duration": 44,
    "start_time": "2022-11-06T10:43:31.056Z"
   },
   {
    "duration": 18,
    "start_time": "2022-11-06T10:43:31.102Z"
   },
   {
    "duration": 21,
    "start_time": "2022-11-06T10:43:31.122Z"
   },
   {
    "duration": 22,
    "start_time": "2022-11-06T10:43:31.144Z"
   },
   {
    "duration": 38,
    "start_time": "2022-11-06T10:43:31.167Z"
   },
   {
    "duration": 10,
    "start_time": "2022-11-06T10:44:02.994Z"
   },
   {
    "duration": 16,
    "start_time": "2022-11-06T10:44:03.554Z"
   },
   {
    "duration": 21,
    "start_time": "2022-11-06T10:56:14.450Z"
   },
   {
    "duration": 5,
    "start_time": "2022-11-06T10:58:04.355Z"
   },
   {
    "duration": 9,
    "start_time": "2022-11-06T10:58:07.967Z"
   },
   {
    "duration": 5,
    "start_time": "2022-11-06T10:58:12.107Z"
   },
   {
    "duration": 6,
    "start_time": "2022-11-06T10:59:45.625Z"
   },
   {
    "duration": 8,
    "start_time": "2022-11-06T10:59:46.676Z"
   },
   {
    "duration": 5,
    "start_time": "2022-11-06T10:59:53.472Z"
   },
   {
    "duration": 5,
    "start_time": "2022-11-06T10:59:53.875Z"
   },
   {
    "duration": 6,
    "start_time": "2022-11-06T10:59:54.240Z"
   },
   {
    "duration": 8,
    "start_time": "2022-11-06T10:59:54.675Z"
   },
   {
    "duration": 5,
    "start_time": "2022-11-06T10:59:55.158Z"
   },
   {
    "duration": 7,
    "start_time": "2022-11-06T10:59:55.635Z"
   },
   {
    "duration": 6,
    "start_time": "2022-11-06T10:59:56.659Z"
   },
   {
    "duration": 107,
    "start_time": "2022-11-06T11:00:40.674Z"
   },
   {
    "duration": 6,
    "start_time": "2022-11-06T11:00:45.066Z"
   },
   {
    "duration": 9,
    "start_time": "2022-11-06T11:04:35.641Z"
   },
   {
    "duration": 7,
    "start_time": "2022-11-06T11:04:52.676Z"
   },
   {
    "duration": 9,
    "start_time": "2022-11-06T11:05:13.423Z"
   },
   {
    "duration": 11,
    "start_time": "2022-11-06T11:05:35.290Z"
   },
   {
    "duration": 7,
    "start_time": "2022-11-06T11:06:21.180Z"
   },
   {
    "duration": 4,
    "start_time": "2022-11-06T11:06:28.148Z"
   },
   {
    "duration": 6,
    "start_time": "2022-11-06T11:06:28.804Z"
   },
   {
    "duration": 6,
    "start_time": "2022-11-06T11:06:29.163Z"
   },
   {
    "duration": 14,
    "start_time": "2022-11-06T11:08:26.033Z"
   },
   {
    "duration": 9,
    "start_time": "2022-11-06T11:08:27.205Z"
   },
   {
    "duration": 10,
    "start_time": "2022-11-06T11:08:27.962Z"
   },
   {
    "duration": 10,
    "start_time": "2022-11-06T11:08:36.468Z"
   },
   {
    "duration": 12,
    "start_time": "2022-11-06T11:08:37.049Z"
   },
   {
    "duration": 9,
    "start_time": "2022-11-06T11:11:07.284Z"
   },
   {
    "duration": 11,
    "start_time": "2022-11-06T11:14:50.745Z"
   },
   {
    "duration": 166,
    "start_time": "2022-11-06T11:15:05.548Z"
   },
   {
    "duration": 164,
    "start_time": "2022-11-06T11:17:35.223Z"
   },
   {
    "duration": 19,
    "start_time": "2022-11-06T11:18:53.158Z"
   },
   {
    "duration": 4,
    "start_time": "2022-11-06T11:31:17.261Z"
   },
   {
    "duration": 2,
    "start_time": "2022-11-06T11:31:22.477Z"
   },
   {
    "duration": 14,
    "start_time": "2022-11-06T11:31:23.171Z"
   },
   {
    "duration": 6,
    "start_time": "2022-11-06T11:31:27.394Z"
   },
   {
    "duration": 18,
    "start_time": "2022-11-06T11:31:41.898Z"
   },
   {
    "duration": 18,
    "start_time": "2022-11-06T11:32:38.148Z"
   },
   {
    "duration": 4,
    "start_time": "2022-11-06T11:32:49.690Z"
   },
   {
    "duration": 7,
    "start_time": "2022-11-06T11:32:49.696Z"
   },
   {
    "duration": 105,
    "start_time": "2022-11-06T11:32:49.705Z"
   },
   {
    "duration": 41,
    "start_time": "2022-11-06T11:32:49.812Z"
   },
   {
    "duration": 15,
    "start_time": "2022-11-06T11:32:49.855Z"
   },
   {
    "duration": 11,
    "start_time": "2022-11-06T11:32:49.872Z"
   },
   {
    "duration": 3,
    "start_time": "2022-11-06T11:32:49.891Z"
   },
   {
    "duration": 7,
    "start_time": "2022-11-06T11:32:49.895Z"
   },
   {
    "duration": 9,
    "start_time": "2022-11-06T11:32:49.904Z"
   },
   {
    "duration": 12,
    "start_time": "2022-11-06T11:32:49.914Z"
   },
   {
    "duration": 15,
    "start_time": "2022-11-06T11:32:49.928Z"
   },
   {
    "duration": 48,
    "start_time": "2022-11-06T11:32:49.944Z"
   },
   {
    "duration": 13,
    "start_time": "2022-11-06T11:32:49.994Z"
   },
   {
    "duration": 9,
    "start_time": "2022-11-06T11:32:50.009Z"
   },
   {
    "duration": 19,
    "start_time": "2022-11-06T11:32:50.020Z"
   },
   {
    "duration": 6,
    "start_time": "2022-11-06T11:32:50.040Z"
   },
   {
    "duration": 44,
    "start_time": "2022-11-06T11:32:50.047Z"
   },
   {
    "duration": 5,
    "start_time": "2022-11-06T11:32:50.093Z"
   },
   {
    "duration": 11,
    "start_time": "2022-11-06T11:32:50.099Z"
   },
   {
    "duration": 4,
    "start_time": "2022-11-06T11:32:50.112Z"
   },
   {
    "duration": 12,
    "start_time": "2022-11-06T11:32:50.117Z"
   },
   {
    "duration": 12,
    "start_time": "2022-11-06T11:32:50.131Z"
   },
   {
    "duration": 24,
    "start_time": "2022-11-06T11:32:50.144Z"
   },
   {
    "duration": 24,
    "start_time": "2022-11-06T11:32:50.194Z"
   },
   {
    "duration": 27,
    "start_time": "2022-11-06T11:32:50.220Z"
   },
   {
    "duration": 6,
    "start_time": "2022-11-06T11:32:50.249Z"
   },
   {
    "duration": 14,
    "start_time": "2022-11-06T11:32:50.257Z"
   },
   {
    "duration": 27,
    "start_time": "2022-11-06T11:32:50.272Z"
   },
   {
    "duration": 28,
    "start_time": "2022-11-06T11:32:50.301Z"
   },
   {
    "duration": 8,
    "start_time": "2022-11-06T11:32:50.332Z"
   },
   {
    "duration": 6,
    "start_time": "2022-11-06T11:32:50.342Z"
   },
   {
    "duration": 42,
    "start_time": "2022-11-06T11:32:50.349Z"
   },
   {
    "duration": 16,
    "start_time": "2022-11-06T11:32:50.393Z"
   },
   {
    "duration": 20,
    "start_time": "2022-11-06T11:32:50.411Z"
   },
   {
    "duration": 13,
    "start_time": "2022-11-06T11:32:50.432Z"
   },
   {
    "duration": 9,
    "start_time": "2022-11-06T11:32:50.447Z"
   },
   {
    "duration": 41,
    "start_time": "2022-11-06T11:32:50.458Z"
   },
   {
    "duration": 12,
    "start_time": "2022-11-06T11:32:50.501Z"
   },
   {
    "duration": 5,
    "start_time": "2022-11-06T11:32:50.515Z"
   },
   {
    "duration": 11,
    "start_time": "2022-11-06T11:32:50.522Z"
   },
   {
    "duration": 8,
    "start_time": "2022-11-06T11:32:50.535Z"
   },
   {
    "duration": 5,
    "start_time": "2022-11-06T11:32:50.544Z"
   },
   {
    "duration": 42,
    "start_time": "2022-11-06T11:32:50.550Z"
   },
   {
    "duration": 9,
    "start_time": "2022-11-06T11:32:50.594Z"
   },
   {
    "duration": 19,
    "start_time": "2022-11-06T11:32:50.605Z"
   },
   {
    "duration": 8,
    "start_time": "2022-11-06T11:32:50.626Z"
   },
   {
    "duration": 10,
    "start_time": "2022-11-06T11:32:50.636Z"
   },
   {
    "duration": 9,
    "start_time": "2022-11-06T11:32:50.648Z"
   },
   {
    "duration": 41,
    "start_time": "2022-11-06T11:32:50.658Z"
   },
   {
    "duration": 11,
    "start_time": "2022-11-06T11:32:50.701Z"
   },
   {
    "duration": 11,
    "start_time": "2022-11-06T11:32:50.714Z"
   },
   {
    "duration": 19,
    "start_time": "2022-11-06T11:32:50.726Z"
   },
   {
    "duration": 15,
    "start_time": "2022-11-06T11:32:50.747Z"
   },
   {
    "duration": 5,
    "start_time": "2022-11-06T11:32:50.791Z"
   },
   {
    "duration": 7,
    "start_time": "2022-11-06T11:32:50.798Z"
   },
   {
    "duration": 12,
    "start_time": "2022-11-06T11:32:50.806Z"
   },
   {
    "duration": 6,
    "start_time": "2022-11-06T11:32:50.820Z"
   },
   {
    "duration": 16,
    "start_time": "2022-11-06T11:32:50.828Z"
   },
   {
    "duration": 11,
    "start_time": "2022-11-06T11:32:50.846Z"
   },
   {
    "duration": 35,
    "start_time": "2022-11-06T11:32:50.859Z"
   },
   {
    "duration": 14,
    "start_time": "2022-11-06T11:32:50.896Z"
   },
   {
    "duration": 162,
    "start_time": "2022-11-06T11:32:50.911Z"
   },
   {
    "duration": 19,
    "start_time": "2022-11-06T11:32:51.075Z"
   },
   {
    "duration": 25,
    "start_time": "2022-11-06T11:32:51.096Z"
   },
   {
    "duration": 6,
    "start_time": "2022-11-06T11:32:51.123Z"
   },
   {
    "duration": 22,
    "start_time": "2022-11-06T11:32:51.131Z"
   },
   {
    "duration": 0,
    "start_time": "2022-11-06T11:32:51.156Z"
   },
   {
    "duration": 0,
    "start_time": "2022-11-06T11:32:51.157Z"
   },
   {
    "duration": 0,
    "start_time": "2022-11-06T11:32:51.192Z"
   },
   {
    "duration": 0,
    "start_time": "2022-11-06T11:32:51.193Z"
   },
   {
    "duration": 0,
    "start_time": "2022-11-06T11:32:51.195Z"
   },
   {
    "duration": 0,
    "start_time": "2022-11-06T11:32:51.196Z"
   },
   {
    "duration": 0,
    "start_time": "2022-11-06T11:32:51.197Z"
   },
   {
    "duration": 0,
    "start_time": "2022-11-06T11:32:51.199Z"
   },
   {
    "duration": 0,
    "start_time": "2022-11-06T11:32:51.200Z"
   },
   {
    "duration": 0,
    "start_time": "2022-11-06T11:32:51.201Z"
   },
   {
    "duration": 0,
    "start_time": "2022-11-06T11:32:51.202Z"
   },
   {
    "duration": 0,
    "start_time": "2022-11-06T11:32:51.203Z"
   },
   {
    "duration": 0,
    "start_time": "2022-11-06T11:32:51.204Z"
   },
   {
    "duration": 0,
    "start_time": "2022-11-06T11:32:51.205Z"
   },
   {
    "duration": 0,
    "start_time": "2022-11-06T11:32:51.206Z"
   },
   {
    "duration": 0,
    "start_time": "2022-11-06T11:32:51.207Z"
   },
   {
    "duration": 0,
    "start_time": "2022-11-06T11:32:51.208Z"
   },
   {
    "duration": 0,
    "start_time": "2022-11-06T11:32:51.209Z"
   },
   {
    "duration": 0,
    "start_time": "2022-11-06T11:32:51.211Z"
   },
   {
    "duration": 0,
    "start_time": "2022-11-06T11:32:51.212Z"
   },
   {
    "duration": 0,
    "start_time": "2022-11-06T11:32:51.213Z"
   },
   {
    "duration": 0,
    "start_time": "2022-11-06T11:32:51.214Z"
   },
   {
    "duration": 0,
    "start_time": "2022-11-06T11:32:51.215Z"
   },
   {
    "duration": 3,
    "start_time": "2022-11-06T11:35:24.846Z"
   },
   {
    "duration": 9,
    "start_time": "2022-11-06T11:35:27.546Z"
   },
   {
    "duration": 5,
    "start_time": "2022-11-06T11:35:31.141Z"
   },
   {
    "duration": 22,
    "start_time": "2022-11-06T11:35:31.876Z"
   },
   {
    "duration": 10,
    "start_time": "2022-11-06T12:27:17.308Z"
   },
   {
    "duration": 9,
    "start_time": "2022-11-06T12:27:59.034Z"
   },
   {
    "duration": 12,
    "start_time": "2022-11-06T12:28:40.363Z"
   },
   {
    "duration": 7,
    "start_time": "2022-11-06T12:28:54.851Z"
   },
   {
    "duration": 8,
    "start_time": "2022-11-06T12:28:59.028Z"
   },
   {
    "duration": 12,
    "start_time": "2022-11-06T12:30:34.554Z"
   },
   {
    "duration": 9,
    "start_time": "2022-11-06T12:30:35.683Z"
   },
   {
    "duration": 9,
    "start_time": "2022-11-06T12:30:36.029Z"
   },
   {
    "duration": 9,
    "start_time": "2022-11-06T12:30:36.517Z"
   },
   {
    "duration": 7,
    "start_time": "2022-11-06T12:30:36.989Z"
   },
   {
    "duration": 5,
    "start_time": "2022-11-06T12:48:07.116Z"
   },
   {
    "duration": 7,
    "start_time": "2022-11-06T12:48:07.908Z"
   },
   {
    "duration": 8,
    "start_time": "2022-11-06T12:48:26.610Z"
   },
   {
    "duration": 7,
    "start_time": "2022-11-06T12:48:31.414Z"
   },
   {
    "duration": 7,
    "start_time": "2022-11-06T12:51:22.554Z"
   },
   {
    "duration": 8,
    "start_time": "2022-11-06T12:51:23.497Z"
   },
   {
    "duration": 6,
    "start_time": "2022-11-06T12:51:35.145Z"
   },
   {
    "duration": 8,
    "start_time": "2022-11-06T12:51:36.135Z"
   },
   {
    "duration": 8,
    "start_time": "2022-11-06T12:51:43.160Z"
   },
   {
    "duration": 10,
    "start_time": "2022-11-06T12:51:43.231Z"
   },
   {
    "duration": 10,
    "start_time": "2022-11-06T12:51:43.552Z"
   },
   {
    "duration": 10,
    "start_time": "2022-11-06T12:51:43.782Z"
   },
   {
    "duration": 7,
    "start_time": "2022-11-06T12:51:44.025Z"
   },
   {
    "duration": 8,
    "start_time": "2022-11-06T12:51:44.416Z"
   },
   {
    "duration": 11,
    "start_time": "2022-11-06T12:53:53.505Z"
   },
   {
    "duration": 15,
    "start_time": "2022-11-06T12:54:05.255Z"
   },
   {
    "duration": 8,
    "start_time": "2022-11-06T12:54:35.915Z"
   },
   {
    "duration": 20,
    "start_time": "2022-11-06T12:54:36.373Z"
   },
   {
    "duration": 13,
    "start_time": "2022-11-06T12:54:41.736Z"
   },
   {
    "duration": 12,
    "start_time": "2022-11-06T12:54:42.215Z"
   },
   {
    "duration": 16,
    "start_time": "2022-11-06T12:54:42.429Z"
   },
   {
    "duration": 10,
    "start_time": "2022-11-06T12:54:42.657Z"
   },
   {
    "duration": 10,
    "start_time": "2022-11-06T12:54:42.905Z"
   },
   {
    "duration": 15,
    "start_time": "2022-11-06T12:54:43.162Z"
   },
   {
    "duration": 15,
    "start_time": "2022-11-06T12:55:29.458Z"
   },
   {
    "duration": 9,
    "start_time": "2022-11-06T12:56:02.572Z"
   },
   {
    "duration": 10,
    "start_time": "2022-11-06T12:56:41.924Z"
   },
   {
    "duration": 10,
    "start_time": "2022-11-06T12:56:42.247Z"
   },
   {
    "duration": 8,
    "start_time": "2022-11-06T12:57:07.037Z"
   },
   {
    "duration": 20,
    "start_time": "2022-11-06T12:57:48.750Z"
   },
   {
    "duration": 17,
    "start_time": "2022-11-06T13:01:37.144Z"
   },
   {
    "duration": 23,
    "start_time": "2022-11-06T13:01:47.463Z"
   },
   {
    "duration": 25,
    "start_time": "2022-11-06T13:02:25.091Z"
   },
   {
    "duration": 13,
    "start_time": "2022-11-06T13:09:54.243Z"
   },
   {
    "duration": 9,
    "start_time": "2022-11-06T13:22:10.187Z"
   },
   {
    "duration": 6,
    "start_time": "2022-11-06T13:22:28.258Z"
   },
   {
    "duration": 36,
    "start_time": "2022-11-06T13:23:03.613Z"
   },
   {
    "duration": 36,
    "start_time": "2022-11-06T13:27:07.578Z"
   },
   {
    "duration": 34,
    "start_time": "2022-11-06T13:27:15.491Z"
   },
   {
    "duration": 9,
    "start_time": "2022-11-06T13:28:32.104Z"
   },
   {
    "duration": 7,
    "start_time": "2022-11-06T13:30:17.521Z"
   },
   {
    "duration": 36,
    "start_time": "2022-11-06T13:36:07.546Z"
   },
   {
    "duration": 46,
    "start_time": "2022-11-06T13:36:58.607Z"
   },
   {
    "duration": 35,
    "start_time": "2022-11-06T13:38:55.878Z"
   },
   {
    "duration": 16,
    "start_time": "2022-11-06T13:42:47.395Z"
   },
   {
    "duration": 1113,
    "start_time": "2022-11-06T13:45:06.704Z"
   },
   {
    "duration": 1199,
    "start_time": "2022-11-06T13:46:04.814Z"
   },
   {
    "duration": 12,
    "start_time": "2022-11-06T13:46:25.822Z"
   },
   {
    "duration": 32,
    "start_time": "2022-11-06T13:47:08.717Z"
   },
   {
    "duration": 12,
    "start_time": "2022-11-06T13:47:09.540Z"
   },
   {
    "duration": 1102,
    "start_time": "2022-11-06T13:47:18.861Z"
   },
   {
    "duration": 35,
    "start_time": "2022-11-06T13:47:56.369Z"
   },
   {
    "duration": 12,
    "start_time": "2022-11-06T13:47:57.250Z"
   },
   {
    "duration": 3,
    "start_time": "2022-11-06T13:52:02.555Z"
   },
   {
    "duration": 6,
    "start_time": "2022-11-06T13:52:16.026Z"
   },
   {
    "duration": 10,
    "start_time": "2022-11-06T13:52:29.574Z"
   },
   {
    "duration": 9,
    "start_time": "2022-11-06T13:53:23.824Z"
   },
   {
    "duration": 5,
    "start_time": "2022-11-06T13:53:28.101Z"
   },
   {
    "duration": 11,
    "start_time": "2022-11-06T13:53:53.790Z"
   },
   {
    "duration": 3,
    "start_time": "2022-11-06T13:54:02.243Z"
   },
   {
    "duration": 9,
    "start_time": "2022-11-06T13:54:02.248Z"
   },
   {
    "duration": 124,
    "start_time": "2022-11-06T13:54:02.259Z"
   },
   {
    "duration": 45,
    "start_time": "2022-11-06T13:54:02.385Z"
   },
   {
    "duration": 15,
    "start_time": "2022-11-06T13:54:02.432Z"
   },
   {
    "duration": 10,
    "start_time": "2022-11-06T13:54:02.449Z"
   },
   {
    "duration": 8,
    "start_time": "2022-11-06T13:54:02.461Z"
   },
   {
    "duration": 8,
    "start_time": "2022-11-06T13:54:02.470Z"
   },
   {
    "duration": 8,
    "start_time": "2022-11-06T13:54:02.490Z"
   },
   {
    "duration": 13,
    "start_time": "2022-11-06T13:54:02.500Z"
   },
   {
    "duration": 13,
    "start_time": "2022-11-06T13:54:02.515Z"
   },
   {
    "duration": 13,
    "start_time": "2022-11-06T13:54:02.529Z"
   },
   {
    "duration": 14,
    "start_time": "2022-11-06T13:54:02.544Z"
   },
   {
    "duration": 34,
    "start_time": "2022-11-06T13:54:02.560Z"
   },
   {
    "duration": 20,
    "start_time": "2022-11-06T13:54:02.596Z"
   },
   {
    "duration": 5,
    "start_time": "2022-11-06T13:54:02.618Z"
   },
   {
    "duration": 14,
    "start_time": "2022-11-06T13:54:02.624Z"
   },
   {
    "duration": 5,
    "start_time": "2022-11-06T13:54:02.640Z"
   },
   {
    "duration": 14,
    "start_time": "2022-11-06T13:54:02.647Z"
   },
   {
    "duration": 30,
    "start_time": "2022-11-06T13:54:02.662Z"
   },
   {
    "duration": 9,
    "start_time": "2022-11-06T13:54:02.694Z"
   },
   {
    "duration": 10,
    "start_time": "2022-11-06T13:54:02.704Z"
   },
   {
    "duration": 18,
    "start_time": "2022-11-06T13:54:02.716Z"
   },
   {
    "duration": 14,
    "start_time": "2022-11-06T13:54:02.738Z"
   },
   {
    "duration": 39,
    "start_time": "2022-11-06T13:54:02.753Z"
   },
   {
    "duration": 5,
    "start_time": "2022-11-06T13:54:02.794Z"
   },
   {
    "duration": 6,
    "start_time": "2022-11-06T13:54:02.800Z"
   },
   {
    "duration": 10,
    "start_time": "2022-11-06T13:54:02.807Z"
   },
   {
    "duration": 26,
    "start_time": "2022-11-06T13:54:02.818Z"
   },
   {
    "duration": 6,
    "start_time": "2022-11-06T13:54:02.846Z"
   },
   {
    "duration": 8,
    "start_time": "2022-11-06T13:54:02.853Z"
   },
   {
    "duration": 36,
    "start_time": "2022-11-06T13:54:02.862Z"
   },
   {
    "duration": 14,
    "start_time": "2022-11-06T13:54:02.899Z"
   },
   {
    "duration": 13,
    "start_time": "2022-11-06T13:54:02.914Z"
   },
   {
    "duration": 11,
    "start_time": "2022-11-06T13:54:02.929Z"
   },
   {
    "duration": 6,
    "start_time": "2022-11-06T13:54:02.942Z"
   },
   {
    "duration": 11,
    "start_time": "2022-11-06T13:54:02.949Z"
   },
   {
    "duration": 38,
    "start_time": "2022-11-06T13:54:02.961Z"
   },
   {
    "duration": 6,
    "start_time": "2022-11-06T13:54:03.001Z"
   },
   {
    "duration": 7,
    "start_time": "2022-11-06T13:54:03.009Z"
   },
   {
    "duration": 7,
    "start_time": "2022-11-06T13:54:03.018Z"
   },
   {
    "duration": 5,
    "start_time": "2022-11-06T13:54:03.027Z"
   },
   {
    "duration": 7,
    "start_time": "2022-11-06T13:54:03.034Z"
   },
   {
    "duration": 9,
    "start_time": "2022-11-06T13:54:03.042Z"
   },
   {
    "duration": 13,
    "start_time": "2022-11-06T13:54:03.091Z"
   },
   {
    "duration": 7,
    "start_time": "2022-11-06T13:54:03.106Z"
   },
   {
    "duration": 10,
    "start_time": "2022-11-06T13:54:03.115Z"
   },
   {
    "duration": 8,
    "start_time": "2022-11-06T13:54:03.127Z"
   },
   {
    "duration": 23,
    "start_time": "2022-11-06T13:54:03.136Z"
   },
   {
    "duration": 32,
    "start_time": "2022-11-06T13:54:03.160Z"
   },
   {
    "duration": 13,
    "start_time": "2022-11-06T13:54:03.194Z"
   },
   {
    "duration": 20,
    "start_time": "2022-11-06T13:54:03.208Z"
   },
   {
    "duration": 15,
    "start_time": "2022-11-06T13:54:03.230Z"
   },
   {
    "duration": 5,
    "start_time": "2022-11-06T13:54:03.248Z"
   },
   {
    "duration": 36,
    "start_time": "2022-11-06T13:54:03.255Z"
   },
   {
    "duration": 12,
    "start_time": "2022-11-06T13:54:03.293Z"
   },
   {
    "duration": 7,
    "start_time": "2022-11-06T13:54:03.307Z"
   },
   {
    "duration": 17,
    "start_time": "2022-11-06T13:54:03.315Z"
   },
   {
    "duration": 12,
    "start_time": "2022-11-06T13:54:03.334Z"
   },
   {
    "duration": 8,
    "start_time": "2022-11-06T13:54:03.348Z"
   },
   {
    "duration": 114,
    "start_time": "2022-11-06T13:54:03.358Z"
   },
   {
    "duration": 17,
    "start_time": "2022-11-06T13:54:03.474Z"
   },
   {
    "duration": 9,
    "start_time": "2022-11-06T13:54:03.492Z"
   },
   {
    "duration": 15,
    "start_time": "2022-11-06T13:54:03.503Z"
   },
   {
    "duration": 27,
    "start_time": "2022-11-06T13:54:03.520Z"
   },
   {
    "duration": 147,
    "start_time": "2022-11-06T13:54:03.548Z"
   },
   {
    "duration": 27,
    "start_time": "2022-11-06T13:54:03.697Z"
   },
   {
    "duration": 7,
    "start_time": "2022-11-06T13:54:03.726Z"
   },
   {
    "duration": 5,
    "start_time": "2022-11-06T13:54:03.739Z"
   },
   {
    "duration": 12,
    "start_time": "2022-11-06T13:54:03.745Z"
   },
   {
    "duration": 56,
    "start_time": "2022-11-06T13:54:03.758Z"
   },
   {
    "duration": 26,
    "start_time": "2022-11-06T13:54:03.815Z"
   },
   {
    "duration": 5,
    "start_time": "2022-11-06T13:54:03.843Z"
   },
   {
    "duration": 17,
    "start_time": "2022-11-06T13:54:03.849Z"
   },
   {
    "duration": 1082,
    "start_time": "2022-11-06T13:54:03.867Z"
   },
   {
    "duration": 0,
    "start_time": "2022-11-06T13:54:04.951Z"
   },
   {
    "duration": 0,
    "start_time": "2022-11-06T13:54:04.952Z"
   },
   {
    "duration": 0,
    "start_time": "2022-11-06T13:54:04.953Z"
   },
   {
    "duration": 0,
    "start_time": "2022-11-06T13:54:04.954Z"
   },
   {
    "duration": 0,
    "start_time": "2022-11-06T13:54:04.956Z"
   },
   {
    "duration": 0,
    "start_time": "2022-11-06T13:54:04.957Z"
   },
   {
    "duration": 0,
    "start_time": "2022-11-06T13:54:04.958Z"
   },
   {
    "duration": 0,
    "start_time": "2022-11-06T13:54:04.959Z"
   },
   {
    "duration": 0,
    "start_time": "2022-11-06T13:54:04.960Z"
   },
   {
    "duration": 0,
    "start_time": "2022-11-06T13:54:04.961Z"
   },
   {
    "duration": 0,
    "start_time": "2022-11-06T13:54:04.962Z"
   },
   {
    "duration": 1,
    "start_time": "2022-11-06T13:54:04.963Z"
   },
   {
    "duration": 0,
    "start_time": "2022-11-06T13:54:04.964Z"
   },
   {
    "duration": 0,
    "start_time": "2022-11-06T13:54:04.965Z"
   },
   {
    "duration": 0,
    "start_time": "2022-11-06T13:54:04.966Z"
   },
   {
    "duration": 0,
    "start_time": "2022-11-06T13:54:04.968Z"
   },
   {
    "duration": 0,
    "start_time": "2022-11-06T13:54:04.969Z"
   },
   {
    "duration": 0,
    "start_time": "2022-11-06T13:54:04.970Z"
   },
   {
    "duration": 0,
    "start_time": "2022-11-06T13:54:04.971Z"
   },
   {
    "duration": 0,
    "start_time": "2022-11-06T13:54:04.972Z"
   },
   {
    "duration": 0,
    "start_time": "2022-11-06T13:54:04.973Z"
   },
   {
    "duration": 6,
    "start_time": "2022-11-06T13:54:56.370Z"
   },
   {
    "duration": 15,
    "start_time": "2022-11-06T13:57:18.816Z"
   },
   {
    "duration": 330,
    "start_time": "2022-11-06T13:59:00.306Z"
   },
   {
    "duration": 13,
    "start_time": "2022-11-06T13:59:34.861Z"
   },
   {
    "duration": 17,
    "start_time": "2022-11-06T14:00:00.066Z"
   },
   {
    "duration": 39,
    "start_time": "2022-11-06T14:00:58.894Z"
   },
   {
    "duration": 286,
    "start_time": "2022-11-06T14:01:18.291Z"
   },
   {
    "duration": 3,
    "start_time": "2022-11-06T14:01:27.950Z"
   },
   {
    "duration": 8,
    "start_time": "2022-11-06T14:01:27.955Z"
   },
   {
    "duration": 100,
    "start_time": "2022-11-06T14:01:27.964Z"
   },
   {
    "duration": 41,
    "start_time": "2022-11-06T14:01:28.066Z"
   },
   {
    "duration": 15,
    "start_time": "2022-11-06T14:01:28.108Z"
   },
   {
    "duration": 13,
    "start_time": "2022-11-06T14:01:28.124Z"
   },
   {
    "duration": 5,
    "start_time": "2022-11-06T14:01:28.138Z"
   },
   {
    "duration": 7,
    "start_time": "2022-11-06T14:01:28.144Z"
   },
   {
    "duration": 12,
    "start_time": "2022-11-06T14:01:28.153Z"
   },
   {
    "duration": 33,
    "start_time": "2022-11-06T14:01:28.166Z"
   },
   {
    "duration": 15,
    "start_time": "2022-11-06T14:01:28.200Z"
   },
   {
    "duration": 10,
    "start_time": "2022-11-06T14:01:28.216Z"
   },
   {
    "duration": 21,
    "start_time": "2022-11-06T14:01:28.228Z"
   },
   {
    "duration": 10,
    "start_time": "2022-11-06T14:01:28.250Z"
   },
   {
    "duration": 39,
    "start_time": "2022-11-06T14:01:28.262Z"
   },
   {
    "duration": 4,
    "start_time": "2022-11-06T14:01:28.303Z"
   },
   {
    "duration": 14,
    "start_time": "2022-11-06T14:01:28.309Z"
   },
   {
    "duration": 12,
    "start_time": "2022-11-06T14:01:28.324Z"
   },
   {
    "duration": 28,
    "start_time": "2022-11-06T14:01:28.337Z"
   },
   {
    "duration": 6,
    "start_time": "2022-11-06T14:01:28.366Z"
   },
   {
    "duration": 8,
    "start_time": "2022-11-06T14:01:28.373Z"
   },
   {
    "duration": 9,
    "start_time": "2022-11-06T14:01:28.382Z"
   },
   {
    "duration": 15,
    "start_time": "2022-11-06T14:01:28.393Z"
   },
   {
    "duration": 16,
    "start_time": "2022-11-06T14:01:28.411Z"
   },
   {
    "duration": 38,
    "start_time": "2022-11-06T14:01:28.429Z"
   },
   {
    "duration": 5,
    "start_time": "2022-11-06T14:01:28.491Z"
   },
   {
    "duration": 8,
    "start_time": "2022-11-06T14:01:28.498Z"
   },
   {
    "duration": 11,
    "start_time": "2022-11-06T14:01:28.508Z"
   },
   {
    "duration": 27,
    "start_time": "2022-11-06T14:01:28.521Z"
   },
   {
    "duration": 5,
    "start_time": "2022-11-06T14:01:28.549Z"
   },
   {
    "duration": 36,
    "start_time": "2022-11-06T14:01:28.555Z"
   },
   {
    "duration": 8,
    "start_time": "2022-11-06T14:01:28.592Z"
   },
   {
    "duration": 13,
    "start_time": "2022-11-06T14:01:28.602Z"
   },
   {
    "duration": 16,
    "start_time": "2022-11-06T14:01:28.616Z"
   },
   {
    "duration": 7,
    "start_time": "2022-11-06T14:01:28.634Z"
   },
   {
    "duration": 6,
    "start_time": "2022-11-06T14:01:28.643Z"
   },
   {
    "duration": 46,
    "start_time": "2022-11-06T14:01:28.651Z"
   },
   {
    "duration": 12,
    "start_time": "2022-11-06T14:01:28.699Z"
   },
   {
    "duration": 5,
    "start_time": "2022-11-06T14:01:28.712Z"
   },
   {
    "duration": 15,
    "start_time": "2022-11-06T14:01:28.718Z"
   },
   {
    "duration": 7,
    "start_time": "2022-11-06T14:01:28.735Z"
   },
   {
    "duration": 4,
    "start_time": "2022-11-06T14:01:28.744Z"
   },
   {
    "duration": 6,
    "start_time": "2022-11-06T14:01:28.749Z"
   },
   {
    "duration": 6,
    "start_time": "2022-11-06T14:01:28.790Z"
   },
   {
    "duration": 19,
    "start_time": "2022-11-06T14:01:28.798Z"
   },
   {
    "duration": 10,
    "start_time": "2022-11-06T14:01:28.818Z"
   },
   {
    "duration": 9,
    "start_time": "2022-11-06T14:01:28.829Z"
   },
   {
    "duration": 9,
    "start_time": "2022-11-06T14:01:28.840Z"
   },
   {
    "duration": 11,
    "start_time": "2022-11-06T14:01:28.850Z"
   },
   {
    "duration": 12,
    "start_time": "2022-11-06T14:01:28.890Z"
   },
   {
    "duration": 15,
    "start_time": "2022-11-06T14:01:28.903Z"
   },
   {
    "duration": 19,
    "start_time": "2022-11-06T14:01:28.919Z"
   },
   {
    "duration": 15,
    "start_time": "2022-11-06T14:01:28.940Z"
   },
   {
    "duration": 35,
    "start_time": "2022-11-06T14:01:28.957Z"
   },
   {
    "duration": 3,
    "start_time": "2022-11-06T14:01:28.994Z"
   },
   {
    "duration": 13,
    "start_time": "2022-11-06T14:01:28.999Z"
   },
   {
    "duration": 5,
    "start_time": "2022-11-06T14:01:29.013Z"
   },
   {
    "duration": 17,
    "start_time": "2022-11-06T14:01:29.019Z"
   },
   {
    "duration": 12,
    "start_time": "2022-11-06T14:01:29.037Z"
   },
   {
    "duration": 10,
    "start_time": "2022-11-06T14:01:29.050Z"
   },
   {
    "duration": 33,
    "start_time": "2022-11-06T14:01:29.061Z"
   },
   {
    "duration": 20,
    "start_time": "2022-11-06T14:01:29.096Z"
   },
   {
    "duration": 16,
    "start_time": "2022-11-06T14:01:29.118Z"
   },
   {
    "duration": 12,
    "start_time": "2022-11-06T14:01:29.135Z"
   },
   {
    "duration": 27,
    "start_time": "2022-11-06T14:01:29.149Z"
   },
   {
    "duration": 155,
    "start_time": "2022-11-06T14:01:29.177Z"
   },
   {
    "duration": 32,
    "start_time": "2022-11-06T14:01:29.334Z"
   },
   {
    "duration": 6,
    "start_time": "2022-11-06T14:01:29.368Z"
   },
   {
    "duration": 6,
    "start_time": "2022-11-06T14:01:29.396Z"
   },
   {
    "duration": 11,
    "start_time": "2022-11-06T14:01:29.404Z"
   },
   {
    "duration": 34,
    "start_time": "2022-11-06T14:01:29.416Z"
   },
   {
    "duration": 61,
    "start_time": "2022-11-06T14:01:29.452Z"
   },
   {
    "duration": 296,
    "start_time": "2022-11-06T14:01:29.516Z"
   },
   {
    "duration": 0,
    "start_time": "2022-11-06T14:01:29.814Z"
   },
   {
    "duration": 0,
    "start_time": "2022-11-06T14:01:29.816Z"
   },
   {
    "duration": 0,
    "start_time": "2022-11-06T14:01:29.818Z"
   },
   {
    "duration": 0,
    "start_time": "2022-11-06T14:01:29.819Z"
   },
   {
    "duration": 0,
    "start_time": "2022-11-06T14:01:29.820Z"
   },
   {
    "duration": 0,
    "start_time": "2022-11-06T14:01:29.821Z"
   },
   {
    "duration": 0,
    "start_time": "2022-11-06T14:01:29.822Z"
   },
   {
    "duration": 0,
    "start_time": "2022-11-06T14:01:29.824Z"
   },
   {
    "duration": 0,
    "start_time": "2022-11-06T14:01:29.825Z"
   },
   {
    "duration": 0,
    "start_time": "2022-11-06T14:01:29.826Z"
   },
   {
    "duration": 0,
    "start_time": "2022-11-06T14:01:29.828Z"
   },
   {
    "duration": 0,
    "start_time": "2022-11-06T14:01:29.829Z"
   },
   {
    "duration": 1,
    "start_time": "2022-11-06T14:01:29.830Z"
   },
   {
    "duration": 0,
    "start_time": "2022-11-06T14:01:29.832Z"
   },
   {
    "duration": 0,
    "start_time": "2022-11-06T14:01:29.833Z"
   },
   {
    "duration": 0,
    "start_time": "2022-11-06T14:01:29.834Z"
   },
   {
    "duration": 0,
    "start_time": "2022-11-06T14:01:29.836Z"
   },
   {
    "duration": 0,
    "start_time": "2022-11-06T14:01:29.837Z"
   },
   {
    "duration": 0,
    "start_time": "2022-11-06T14:01:29.838Z"
   },
   {
    "duration": 0,
    "start_time": "2022-11-06T14:01:29.840Z"
   },
   {
    "duration": 0,
    "start_time": "2022-11-06T14:01:29.841Z"
   },
   {
    "duration": 1345,
    "start_time": "2022-11-06T14:01:44.484Z"
   },
   {
    "duration": 5,
    "start_time": "2022-11-06T14:01:59.240Z"
   },
   {
    "duration": 393,
    "start_time": "2022-11-06T14:03:44.578Z"
   },
   {
    "duration": 664,
    "start_time": "2022-11-06T14:04:29.947Z"
   },
   {
    "duration": 690,
    "start_time": "2022-11-06T14:05:03.512Z"
   },
   {
    "duration": 37,
    "start_time": "2022-11-06T14:06:11.815Z"
   },
   {
    "duration": 30,
    "start_time": "2022-11-06T14:06:22.657Z"
   },
   {
    "duration": 45,
    "start_time": "2022-11-06T14:08:57.468Z"
   },
   {
    "duration": 52,
    "start_time": "2022-11-06T14:08:58.213Z"
   },
   {
    "duration": 50,
    "start_time": "2022-11-06T14:08:58.610Z"
   },
   {
    "duration": 34,
    "start_time": "2022-11-06T14:09:09.343Z"
   },
   {
    "duration": 36,
    "start_time": "2022-11-06T14:10:18.108Z"
   },
   {
    "duration": 36,
    "start_time": "2022-11-06T14:10:33.968Z"
   },
   {
    "duration": 43,
    "start_time": "2022-11-06T14:10:45.824Z"
   },
   {
    "duration": 34,
    "start_time": "2022-11-06T14:10:53.532Z"
   },
   {
    "duration": 44,
    "start_time": "2022-11-06T14:11:01.265Z"
   },
   {
    "duration": 166,
    "start_time": "2022-11-06T14:16:01.592Z"
   },
   {
    "duration": 308,
    "start_time": "2022-11-06T14:16:36.904Z"
   },
   {
    "duration": 344,
    "start_time": "2022-11-06T14:20:59.133Z"
   },
   {
    "duration": 26,
    "start_time": "2022-11-06T14:21:58.908Z"
   },
   {
    "duration": 74,
    "start_time": "2022-11-06T14:27:19.695Z"
   },
   {
    "duration": 71,
    "start_time": "2022-11-06T14:27:28.218Z"
   },
   {
    "duration": 143,
    "start_time": "2022-11-06T14:27:34.014Z"
   },
   {
    "duration": 40,
    "start_time": "2022-11-06T14:37:49.816Z"
   },
   {
    "duration": 32,
    "start_time": "2022-11-06T14:38:03.725Z"
   },
   {
    "duration": 33,
    "start_time": "2022-11-06T14:38:25.604Z"
   },
   {
    "duration": 44,
    "start_time": "2022-11-06T14:43:20.399Z"
   },
   {
    "duration": 42,
    "start_time": "2022-11-06T14:45:06.598Z"
   },
   {
    "duration": 38,
    "start_time": "2022-11-06T14:53:32.987Z"
   },
   {
    "duration": 22,
    "start_time": "2022-11-06T14:53:43.327Z"
   },
   {
    "duration": 5,
    "start_time": "2022-11-06T14:53:44.006Z"
   },
   {
    "duration": 34,
    "start_time": "2022-11-06T14:53:44.977Z"
   },
   {
    "duration": 5,
    "start_time": "2022-11-06T14:53:55.605Z"
   },
   {
    "duration": 4,
    "start_time": "2022-11-06T14:53:55.842Z"
   },
   {
    "duration": 14,
    "start_time": "2022-11-06T14:53:56.139Z"
   },
   {
    "duration": 837,
    "start_time": "2022-11-06T14:53:59.382Z"
   },
   {
    "duration": 19,
    "start_time": "2022-11-06T14:54:14.939Z"
   },
   {
    "duration": 20,
    "start_time": "2022-11-06T14:54:15.848Z"
   },
   {
    "duration": 6,
    "start_time": "2022-11-06T14:54:18.949Z"
   },
   {
    "duration": 3,
    "start_time": "2022-11-06T14:54:19.259Z"
   },
   {
    "duration": 3,
    "start_time": "2022-11-06T14:54:20.452Z"
   },
   {
    "duration": 7,
    "start_time": "2022-11-06T14:54:20.676Z"
   },
   {
    "duration": 7,
    "start_time": "2022-11-06T14:54:20.901Z"
   },
   {
    "duration": 5,
    "start_time": "2022-11-06T14:54:21.149Z"
   },
   {
    "duration": 5,
    "start_time": "2022-11-06T14:54:21.424Z"
   },
   {
    "duration": 4,
    "start_time": "2022-11-06T14:54:21.685Z"
   },
   {
    "duration": 6,
    "start_time": "2022-11-06T14:54:22.154Z"
   },
   {
    "duration": 31,
    "start_time": "2022-11-06T14:54:26.705Z"
   },
   {
    "duration": 1348,
    "start_time": "2022-11-06T14:54:45.603Z"
   },
   {
    "duration": 3,
    "start_time": "2022-11-06T14:54:46.953Z"
   },
   {
    "duration": 110,
    "start_time": "2022-11-06T14:54:46.958Z"
   },
   {
    "duration": 48,
    "start_time": "2022-11-06T14:54:47.070Z"
   },
   {
    "duration": 16,
    "start_time": "2022-11-06T14:54:47.120Z"
   },
   {
    "duration": 10,
    "start_time": "2022-11-06T14:54:47.138Z"
   },
   {
    "duration": 3,
    "start_time": "2022-11-06T14:54:47.150Z"
   },
   {
    "duration": 6,
    "start_time": "2022-11-06T14:54:47.155Z"
   },
   {
    "duration": 10,
    "start_time": "2022-11-06T14:54:47.162Z"
   },
   {
    "duration": 35,
    "start_time": "2022-11-06T14:54:47.173Z"
   },
   {
    "duration": 23,
    "start_time": "2022-11-06T14:54:47.209Z"
   },
   {
    "duration": 11,
    "start_time": "2022-11-06T14:54:47.234Z"
   },
   {
    "duration": 14,
    "start_time": "2022-11-06T14:54:47.247Z"
   },
   {
    "duration": 36,
    "start_time": "2022-11-06T14:54:47.264Z"
   },
   {
    "duration": 24,
    "start_time": "2022-11-06T14:54:47.302Z"
   },
   {
    "duration": 3,
    "start_time": "2022-11-06T14:54:47.327Z"
   },
   {
    "duration": 12,
    "start_time": "2022-11-06T14:54:47.332Z"
   },
   {
    "duration": 5,
    "start_time": "2022-11-06T14:54:47.346Z"
   },
   {
    "duration": 11,
    "start_time": "2022-11-06T14:54:47.352Z"
   },
   {
    "duration": 42,
    "start_time": "2022-11-06T14:54:47.364Z"
   },
   {
    "duration": 7,
    "start_time": "2022-11-06T14:54:47.409Z"
   },
   {
    "duration": 7,
    "start_time": "2022-11-06T14:54:47.417Z"
   },
   {
    "duration": 16,
    "start_time": "2022-11-06T14:54:47.426Z"
   },
   {
    "duration": 15,
    "start_time": "2022-11-06T14:54:47.444Z"
   },
   {
    "duration": 51,
    "start_time": "2022-11-06T14:54:47.461Z"
   },
   {
    "duration": 5,
    "start_time": "2022-11-06T14:54:47.514Z"
   },
   {
    "duration": 7,
    "start_time": "2022-11-06T14:54:47.521Z"
   },
   {
    "duration": 11,
    "start_time": "2022-11-06T14:54:47.530Z"
   },
   {
    "duration": 27,
    "start_time": "2022-11-06T14:54:47.543Z"
   },
   {
    "duration": 35,
    "start_time": "2022-11-06T14:54:47.572Z"
   },
   {
    "duration": 6,
    "start_time": "2022-11-06T14:54:47.610Z"
   },
   {
    "duration": 9,
    "start_time": "2022-11-06T14:54:47.617Z"
   },
   {
    "duration": 14,
    "start_time": "2022-11-06T14:54:47.627Z"
   },
   {
    "duration": 14,
    "start_time": "2022-11-06T14:54:47.642Z"
   },
   {
    "duration": 48,
    "start_time": "2022-11-06T14:54:47.658Z"
   },
   {
    "duration": 8,
    "start_time": "2022-11-06T14:54:47.708Z"
   },
   {
    "duration": 11,
    "start_time": "2022-11-06T14:54:47.717Z"
   },
   {
    "duration": 12,
    "start_time": "2022-11-06T14:54:47.730Z"
   },
   {
    "duration": 4,
    "start_time": "2022-11-06T14:54:47.743Z"
   },
   {
    "duration": 13,
    "start_time": "2022-11-06T14:54:47.749Z"
   },
   {
    "duration": 10,
    "start_time": "2022-11-06T14:54:47.803Z"
   },
   {
    "duration": 5,
    "start_time": "2022-11-06T14:54:47.815Z"
   },
   {
    "duration": 6,
    "start_time": "2022-11-06T14:54:47.822Z"
   },
   {
    "duration": 7,
    "start_time": "2022-11-06T14:54:47.830Z"
   },
   {
    "duration": 13,
    "start_time": "2022-11-06T14:54:47.838Z"
   },
   {
    "duration": 51,
    "start_time": "2022-11-06T14:54:47.853Z"
   },
   {
    "duration": 11,
    "start_time": "2022-11-06T14:54:47.906Z"
   },
   {
    "duration": 11,
    "start_time": "2022-11-06T14:54:47.918Z"
   },
   {
    "duration": 10,
    "start_time": "2022-11-06T14:54:47.931Z"
   },
   {
    "duration": 10,
    "start_time": "2022-11-06T14:54:47.943Z"
   },
   {
    "duration": 51,
    "start_time": "2022-11-06T14:54:47.955Z"
   },
   {
    "duration": 21,
    "start_time": "2022-11-06T14:54:48.008Z"
   },
   {
    "duration": 17,
    "start_time": "2022-11-06T14:54:48.030Z"
   },
   {
    "duration": 5,
    "start_time": "2022-11-06T14:54:48.049Z"
   },
   {
    "duration": 5,
    "start_time": "2022-11-06T14:54:48.056Z"
   },
   {
    "duration": 11,
    "start_time": "2022-11-06T14:54:48.063Z"
   },
   {
    "duration": 26,
    "start_time": "2022-11-06T14:54:48.077Z"
   },
   {
    "duration": 19,
    "start_time": "2022-11-06T14:54:48.104Z"
   },
   {
    "duration": 12,
    "start_time": "2022-11-06T14:54:48.125Z"
   },
   {
    "duration": 9,
    "start_time": "2022-11-06T14:54:48.139Z"
   },
   {
    "duration": 9,
    "start_time": "2022-11-06T14:54:48.149Z"
   },
   {
    "duration": 48,
    "start_time": "2022-11-06T14:54:48.160Z"
   },
   {
    "duration": 10,
    "start_time": "2022-11-06T14:54:48.210Z"
   },
   {
    "duration": 7,
    "start_time": "2022-11-06T14:54:48.222Z"
   },
   {
    "duration": 29,
    "start_time": "2022-11-06T14:54:48.231Z"
   },
   {
    "duration": 242,
    "start_time": "2022-11-06T14:54:48.262Z"
   },
   {
    "duration": 31,
    "start_time": "2022-11-06T14:54:48.506Z"
   },
   {
    "duration": 7,
    "start_time": "2022-11-06T14:54:48.539Z"
   },
   {
    "duration": 8,
    "start_time": "2022-11-06T14:54:48.548Z"
   },
   {
    "duration": 9,
    "start_time": "2022-11-06T14:54:48.558Z"
   },
   {
    "duration": 48,
    "start_time": "2022-11-06T14:54:48.570Z"
   },
   {
    "duration": 34,
    "start_time": "2022-11-06T14:54:48.620Z"
   },
   {
    "duration": 40,
    "start_time": "2022-11-06T14:54:48.656Z"
   },
   {
    "duration": 45,
    "start_time": "2022-11-06T14:54:48.697Z"
   },
   {
    "duration": 33,
    "start_time": "2022-11-06T14:54:48.744Z"
   },
   {
    "duration": 51,
    "start_time": "2022-11-06T14:54:48.779Z"
   },
   {
    "duration": 30,
    "start_time": "2022-11-06T14:54:48.832Z"
   },
   {
    "duration": 35,
    "start_time": "2022-11-06T14:54:48.864Z"
   },
   {
    "duration": 29,
    "start_time": "2022-11-06T14:54:48.900Z"
   },
   {
    "duration": 10,
    "start_time": "2022-11-06T14:54:48.931Z"
   },
   {
    "duration": 70,
    "start_time": "2022-11-06T14:54:48.943Z"
   },
   {
    "duration": 8,
    "start_time": "2022-11-06T14:54:49.015Z"
   },
   {
    "duration": 5,
    "start_time": "2022-11-06T14:54:49.025Z"
   },
   {
    "duration": 77,
    "start_time": "2022-11-06T14:54:49.032Z"
   },
   {
    "duration": 1209,
    "start_time": "2022-11-06T14:54:49.111Z"
   },
   {
    "duration": 21,
    "start_time": "2022-11-06T14:54:50.322Z"
   },
   {
    "duration": 22,
    "start_time": "2022-11-06T14:54:50.345Z"
   },
   {
    "duration": 7,
    "start_time": "2022-11-06T14:54:50.368Z"
   },
   {
    "duration": 6,
    "start_time": "2022-11-06T14:54:50.377Z"
   },
   {
    "duration": 10,
    "start_time": "2022-11-06T14:54:50.385Z"
   },
   {
    "duration": 16,
    "start_time": "2022-11-06T14:54:50.396Z"
   },
   {
    "duration": 6,
    "start_time": "2022-11-06T14:54:50.415Z"
   },
   {
    "duration": 5,
    "start_time": "2022-11-06T14:54:50.424Z"
   },
   {
    "duration": 10,
    "start_time": "2022-11-06T14:54:50.430Z"
   },
   {
    "duration": 8,
    "start_time": "2022-11-06T14:54:50.442Z"
   },
   {
    "duration": 17,
    "start_time": "2022-11-06T14:54:50.451Z"
   },
   {
    "duration": 51,
    "start_time": "2022-11-06T14:54:50.469Z"
   },
   {
    "duration": 1273,
    "start_time": "2022-11-06T19:29:56.118Z"
   },
   {
    "duration": 3,
    "start_time": "2022-11-06T19:29:57.393Z"
   },
   {
    "duration": 334,
    "start_time": "2022-11-06T19:29:57.397Z"
   },
   {
    "duration": 76,
    "start_time": "2022-11-06T19:29:57.733Z"
   },
   {
    "duration": 15,
    "start_time": "2022-11-06T19:29:57.811Z"
   },
   {
    "duration": 10,
    "start_time": "2022-11-06T19:29:57.827Z"
   },
   {
    "duration": 3,
    "start_time": "2022-11-06T19:29:57.839Z"
   },
   {
    "duration": 6,
    "start_time": "2022-11-06T19:29:57.843Z"
   },
   {
    "duration": 9,
    "start_time": "2022-11-06T19:29:57.850Z"
   },
   {
    "duration": 11,
    "start_time": "2022-11-06T19:29:57.862Z"
   },
   {
    "duration": 38,
    "start_time": "2022-11-06T19:29:57.874Z"
   },
   {
    "duration": 10,
    "start_time": "2022-11-06T19:29:57.914Z"
   },
   {
    "duration": 12,
    "start_time": "2022-11-06T19:29:57.925Z"
   },
   {
    "duration": 9,
    "start_time": "2022-11-06T19:29:57.938Z"
   },
   {
    "duration": 44,
    "start_time": "2022-11-06T19:29:57.948Z"
   },
   {
    "duration": 2,
    "start_time": "2022-11-06T19:29:57.994Z"
   },
   {
    "duration": 13,
    "start_time": "2022-11-06T19:29:57.997Z"
   },
   {
    "duration": 4,
    "start_time": "2022-11-06T19:29:58.011Z"
   },
   {
    "duration": 9,
    "start_time": "2022-11-06T19:29:58.017Z"
   },
   {
    "duration": 4,
    "start_time": "2022-11-06T19:29:58.028Z"
   },
   {
    "duration": 9,
    "start_time": "2022-11-06T19:29:58.033Z"
   },
   {
    "duration": 7,
    "start_time": "2022-11-06T19:29:58.043Z"
   },
   {
    "duration": 46,
    "start_time": "2022-11-06T19:29:58.051Z"
   },
   {
    "duration": 14,
    "start_time": "2022-11-06T19:29:58.099Z"
   },
   {
    "duration": 22,
    "start_time": "2022-11-06T19:29:58.115Z"
   },
   {
    "duration": 5,
    "start_time": "2022-11-06T19:29:58.139Z"
   },
   {
    "duration": 5,
    "start_time": "2022-11-06T19:29:58.145Z"
   },
   {
    "duration": 43,
    "start_time": "2022-11-06T19:29:58.154Z"
   },
   {
    "duration": 27,
    "start_time": "2022-11-06T19:29:58.198Z"
   },
   {
    "duration": 5,
    "start_time": "2022-11-06T19:29:58.226Z"
   },
   {
    "duration": 5,
    "start_time": "2022-11-06T19:29:58.232Z"
   },
   {
    "duration": 10,
    "start_time": "2022-11-06T19:29:58.238Z"
   },
   {
    "duration": 43,
    "start_time": "2022-11-06T19:29:58.249Z"
   },
   {
    "duration": 14,
    "start_time": "2022-11-06T19:29:58.293Z"
   },
   {
    "duration": 8,
    "start_time": "2022-11-06T19:29:58.308Z"
   },
   {
    "duration": 8,
    "start_time": "2022-11-06T19:29:58.318Z"
   },
   {
    "duration": 9,
    "start_time": "2022-11-06T19:29:58.327Z"
   },
   {
    "duration": 10,
    "start_time": "2022-11-06T19:29:58.337Z"
   },
   {
    "duration": 4,
    "start_time": "2022-11-06T19:29:58.348Z"
   },
   {
    "duration": 39,
    "start_time": "2022-11-06T19:29:58.354Z"
   },
   {
    "duration": 7,
    "start_time": "2022-11-06T19:29:58.394Z"
   },
   {
    "duration": 5,
    "start_time": "2022-11-06T19:29:58.403Z"
   },
   {
    "duration": 11,
    "start_time": "2022-11-06T19:29:58.410Z"
   },
   {
    "duration": 7,
    "start_time": "2022-11-06T19:29:58.423Z"
   },
   {
    "duration": 16,
    "start_time": "2022-11-06T19:29:58.432Z"
   },
   {
    "duration": 49,
    "start_time": "2022-11-06T19:29:58.450Z"
   },
   {
    "duration": 11,
    "start_time": "2022-11-06T19:29:58.501Z"
   },
   {
    "duration": 8,
    "start_time": "2022-11-06T19:29:58.514Z"
   },
   {
    "duration": 11,
    "start_time": "2022-11-06T19:29:58.524Z"
   },
   {
    "duration": 11,
    "start_time": "2022-11-06T19:29:58.536Z"
   },
   {
    "duration": 43,
    "start_time": "2022-11-06T19:29:58.549Z"
   },
   {
    "duration": 20,
    "start_time": "2022-11-06T19:29:58.593Z"
   },
   {
    "duration": 14,
    "start_time": "2022-11-06T19:29:58.615Z"
   },
   {
    "duration": 4,
    "start_time": "2022-11-06T19:29:58.631Z"
   },
   {
    "duration": 3,
    "start_time": "2022-11-06T19:29:58.637Z"
   },
   {
    "duration": 10,
    "start_time": "2022-11-06T19:29:58.641Z"
   },
   {
    "duration": 39,
    "start_time": "2022-11-06T19:29:58.653Z"
   },
   {
    "duration": 17,
    "start_time": "2022-11-06T19:29:58.694Z"
   },
   {
    "duration": 13,
    "start_time": "2022-11-06T19:29:58.712Z"
   },
   {
    "duration": 9,
    "start_time": "2022-11-06T19:29:58.727Z"
   },
   {
    "duration": 10,
    "start_time": "2022-11-06T19:29:58.738Z"
   },
   {
    "duration": 41,
    "start_time": "2022-11-06T19:29:58.750Z"
   },
   {
    "duration": 9,
    "start_time": "2022-11-06T19:29:58.793Z"
   },
   {
    "duration": 8,
    "start_time": "2022-11-06T19:29:58.803Z"
   },
   {
    "duration": 22,
    "start_time": "2022-11-06T19:29:58.813Z"
   },
   {
    "duration": 170,
    "start_time": "2022-11-06T19:29:58.836Z"
   },
   {
    "duration": 29,
    "start_time": "2022-11-06T19:29:59.007Z"
   },
   {
    "duration": 7,
    "start_time": "2022-11-06T19:29:59.037Z"
   },
   {
    "duration": 6,
    "start_time": "2022-11-06T19:29:59.045Z"
   },
   {
    "duration": 6,
    "start_time": "2022-11-06T19:29:59.052Z"
   },
   {
    "duration": 59,
    "start_time": "2022-11-06T19:29:59.060Z"
   },
   {
    "duration": 29,
    "start_time": "2022-11-06T19:29:59.121Z"
   },
   {
    "duration": 48,
    "start_time": "2022-11-06T19:29:59.152Z"
   },
   {
    "duration": 31,
    "start_time": "2022-11-06T19:29:59.202Z"
   },
   {
    "duration": 31,
    "start_time": "2022-11-06T19:29:59.235Z"
   },
   {
    "duration": 50,
    "start_time": "2022-11-06T19:29:59.268Z"
   },
   {
    "duration": 24,
    "start_time": "2022-11-06T19:29:59.319Z"
   },
   {
    "duration": 22,
    "start_time": "2022-11-06T19:29:59.344Z"
   },
   {
    "duration": 41,
    "start_time": "2022-11-06T19:29:59.367Z"
   },
   {
    "duration": 4,
    "start_time": "2022-11-06T19:29:59.410Z"
   },
   {
    "duration": 22,
    "start_time": "2022-11-06T19:29:59.415Z"
   },
   {
    "duration": 4,
    "start_time": "2022-11-06T19:29:59.441Z"
   },
   {
    "duration": 4,
    "start_time": "2022-11-06T19:29:59.447Z"
   },
   {
    "duration": 47,
    "start_time": "2022-11-06T19:29:59.452Z"
   },
   {
    "duration": 891,
    "start_time": "2022-11-06T19:29:59.501Z"
   },
   {
    "duration": 22,
    "start_time": "2022-11-06T19:30:00.394Z"
   },
   {
    "duration": 25,
    "start_time": "2022-11-06T19:30:00.417Z"
   },
   {
    "duration": 7,
    "start_time": "2022-11-06T19:30:00.443Z"
   },
   {
    "duration": 9,
    "start_time": "2022-11-06T19:30:00.452Z"
   },
   {
    "duration": 29,
    "start_time": "2022-11-06T19:30:00.463Z"
   },
   {
    "duration": 21,
    "start_time": "2022-11-06T19:30:00.494Z"
   },
   {
    "duration": 29,
    "start_time": "2022-11-06T19:30:00.516Z"
   },
   {
    "duration": 26,
    "start_time": "2022-11-06T19:30:00.546Z"
   },
   {
    "duration": 27,
    "start_time": "2022-11-06T19:30:00.574Z"
   },
   {
    "duration": 18,
    "start_time": "2022-11-06T19:30:00.603Z"
   },
   {
    "duration": 33,
    "start_time": "2022-11-06T19:30:00.623Z"
   },
   {
    "duration": 40,
    "start_time": "2022-11-06T19:30:00.658Z"
   },
   {
    "duration": 5,
    "start_time": "2022-11-06T19:30:15.539Z"
   },
   {
    "duration": 5,
    "start_time": "2022-11-06T19:30:27.332Z"
   },
   {
    "duration": 5,
    "start_time": "2022-11-06T19:30:41.115Z"
   },
   {
    "duration": 5,
    "start_time": "2022-11-06T19:31:02.340Z"
   },
   {
    "duration": 3,
    "start_time": "2022-11-06T19:31:53.743Z"
   },
   {
    "duration": 1252,
    "start_time": "2022-11-06T20:15:10.162Z"
   },
   {
    "duration": 2,
    "start_time": "2022-11-06T20:15:11.416Z"
   },
   {
    "duration": 172,
    "start_time": "2022-11-06T20:15:11.422Z"
   },
   {
    "duration": 97,
    "start_time": "2022-11-06T20:15:11.596Z"
   },
   {
    "duration": 16,
    "start_time": "2022-11-06T20:15:11.695Z"
   },
   {
    "duration": 9,
    "start_time": "2022-11-06T20:15:11.712Z"
   },
   {
    "duration": 4,
    "start_time": "2022-11-06T20:15:11.723Z"
   },
   {
    "duration": 6,
    "start_time": "2022-11-06T20:15:11.729Z"
   },
   {
    "duration": 14,
    "start_time": "2022-11-06T20:15:11.736Z"
   },
   {
    "duration": 10,
    "start_time": "2022-11-06T20:15:11.753Z"
   },
   {
    "duration": 14,
    "start_time": "2022-11-06T20:15:11.764Z"
   },
   {
    "duration": 8,
    "start_time": "2022-11-06T20:15:11.780Z"
   },
   {
    "duration": 38,
    "start_time": "2022-11-06T20:15:11.789Z"
   },
   {
    "duration": 9,
    "start_time": "2022-11-06T20:15:11.828Z"
   },
   {
    "duration": 26,
    "start_time": "2022-11-06T20:15:11.839Z"
   },
   {
    "duration": 6,
    "start_time": "2022-11-06T20:15:11.866Z"
   },
   {
    "duration": 11,
    "start_time": "2022-11-06T20:15:11.873Z"
   },
   {
    "duration": 4,
    "start_time": "2022-11-06T20:15:11.885Z"
   },
   {
    "duration": 15,
    "start_time": "2022-11-06T20:15:11.890Z"
   },
   {
    "duration": 4,
    "start_time": "2022-11-06T20:15:11.921Z"
   },
   {
    "duration": 9,
    "start_time": "2022-11-06T20:15:11.926Z"
   },
   {
    "duration": 10,
    "start_time": "2022-11-06T20:15:11.936Z"
   },
   {
    "duration": 14,
    "start_time": "2022-11-06T20:15:11.947Z"
   },
   {
    "duration": 12,
    "start_time": "2022-11-06T20:15:11.963Z"
   },
   {
    "duration": 26,
    "start_time": "2022-11-06T20:15:11.977Z"
   },
   {
    "duration": 5,
    "start_time": "2022-11-06T20:15:12.022Z"
   },
   {
    "duration": 6,
    "start_time": "2022-11-06T20:15:12.028Z"
   },
   {
    "duration": 8,
    "start_time": "2022-11-06T20:15:12.038Z"
   },
   {
    "duration": 25,
    "start_time": "2022-11-06T20:15:12.048Z"
   },
   {
    "duration": 8,
    "start_time": "2022-11-06T20:15:12.075Z"
   },
   {
    "duration": 5,
    "start_time": "2022-11-06T20:15:12.085Z"
   },
   {
    "duration": 35,
    "start_time": "2022-11-06T20:15:12.091Z"
   },
   {
    "duration": 13,
    "start_time": "2022-11-06T20:15:12.127Z"
   },
   {
    "duration": 12,
    "start_time": "2022-11-06T20:15:12.142Z"
   },
   {
    "duration": 10,
    "start_time": "2022-11-06T20:15:12.156Z"
   },
   {
    "duration": 9,
    "start_time": "2022-11-06T20:15:12.167Z"
   },
   {
    "duration": 12,
    "start_time": "2022-11-06T20:15:12.177Z"
   },
   {
    "duration": 37,
    "start_time": "2022-11-06T20:15:12.190Z"
   },
   {
    "duration": 7,
    "start_time": "2022-11-06T20:15:12.228Z"
   },
   {
    "duration": 8,
    "start_time": "2022-11-06T20:15:12.237Z"
   },
   {
    "duration": 8,
    "start_time": "2022-11-06T20:15:12.247Z"
   },
   {
    "duration": 4,
    "start_time": "2022-11-06T20:15:12.257Z"
   },
   {
    "duration": 8,
    "start_time": "2022-11-06T20:15:12.262Z"
   },
   {
    "duration": 7,
    "start_time": "2022-11-06T20:15:12.271Z"
   },
   {
    "duration": 49,
    "start_time": "2022-11-06T20:15:12.280Z"
   },
   {
    "duration": 9,
    "start_time": "2022-11-06T20:15:12.331Z"
   },
   {
    "duration": 9,
    "start_time": "2022-11-06T20:15:12.341Z"
   },
   {
    "duration": 8,
    "start_time": "2022-11-06T20:15:12.352Z"
   },
   {
    "duration": 10,
    "start_time": "2022-11-06T20:15:12.362Z"
   },
   {
    "duration": 10,
    "start_time": "2022-11-06T20:15:12.374Z"
   },
   {
    "duration": 44,
    "start_time": "2022-11-06T20:15:12.385Z"
   },
   {
    "duration": 17,
    "start_time": "2022-11-06T20:15:12.430Z"
   },
   {
    "duration": 12,
    "start_time": "2022-11-06T20:15:12.448Z"
   },
   {
    "duration": 6,
    "start_time": "2022-11-06T20:15:12.461Z"
   },
   {
    "duration": 4,
    "start_time": "2022-11-06T20:15:12.468Z"
   },
   {
    "duration": 14,
    "start_time": "2022-11-06T20:15:12.473Z"
   },
   {
    "duration": 5,
    "start_time": "2022-11-06T20:15:12.489Z"
   },
   {
    "duration": 38,
    "start_time": "2022-11-06T20:15:12.495Z"
   },
   {
    "duration": 11,
    "start_time": "2022-11-06T20:15:12.535Z"
   },
   {
    "duration": 9,
    "start_time": "2022-11-06T20:15:12.548Z"
   },
   {
    "duration": 9,
    "start_time": "2022-11-06T20:15:12.558Z"
   },
   {
    "duration": 10,
    "start_time": "2022-11-06T20:15:12.569Z"
   },
   {
    "duration": 42,
    "start_time": "2022-11-06T20:15:12.580Z"
   },
   {
    "duration": 8,
    "start_time": "2022-11-06T20:15:12.624Z"
   },
   {
    "duration": 25,
    "start_time": "2022-11-06T20:15:12.633Z"
   },
   {
    "duration": 154,
    "start_time": "2022-11-06T20:15:12.660Z"
   },
   {
    "duration": 27,
    "start_time": "2022-11-06T20:15:12.822Z"
   },
   {
    "duration": 7,
    "start_time": "2022-11-06T20:15:12.850Z"
   },
   {
    "duration": 6,
    "start_time": "2022-11-06T20:15:12.859Z"
   },
   {
    "duration": 8,
    "start_time": "2022-11-06T20:15:12.866Z"
   },
   {
    "duration": 58,
    "start_time": "2022-11-06T20:15:12.875Z"
   },
   {
    "duration": 30,
    "start_time": "2022-11-06T20:15:12.935Z"
   },
   {
    "duration": 29,
    "start_time": "2022-11-06T20:15:12.967Z"
   },
   {
    "duration": 51,
    "start_time": "2022-11-06T20:15:12.998Z"
   },
   {
    "duration": 27,
    "start_time": "2022-11-06T20:15:13.051Z"
   },
   {
    "duration": 51,
    "start_time": "2022-11-06T20:15:13.080Z"
   },
   {
    "duration": 23,
    "start_time": "2022-11-06T20:15:13.133Z"
   },
   {
    "duration": 19,
    "start_time": "2022-11-06T20:15:13.158Z"
   },
   {
    "duration": 21,
    "start_time": "2022-11-06T20:15:13.178Z"
   },
   {
    "duration": 5,
    "start_time": "2022-11-06T20:15:13.222Z"
   },
   {
    "duration": 22,
    "start_time": "2022-11-06T20:15:13.228Z"
   },
   {
    "duration": 3,
    "start_time": "2022-11-06T20:15:13.255Z"
   },
   {
    "duration": 6,
    "start_time": "2022-11-06T20:15:13.260Z"
   },
   {
    "duration": 13,
    "start_time": "2022-11-06T20:15:13.268Z"
   },
   {
    "duration": 907,
    "start_time": "2022-11-06T20:15:13.282Z"
   },
   {
    "duration": 18,
    "start_time": "2022-11-06T20:15:14.191Z"
   },
   {
    "duration": 23,
    "start_time": "2022-11-06T20:15:14.211Z"
   },
   {
    "duration": 11,
    "start_time": "2022-11-06T20:15:14.235Z"
   },
   {
    "duration": 4,
    "start_time": "2022-11-06T20:15:14.247Z"
   },
   {
    "duration": 4,
    "start_time": "2022-11-06T20:15:14.253Z"
   },
   {
    "duration": 7,
    "start_time": "2022-11-06T20:15:14.258Z"
   },
   {
    "duration": 5,
    "start_time": "2022-11-06T20:15:14.267Z"
   },
   {
    "duration": 6,
    "start_time": "2022-11-06T20:15:14.274Z"
   },
   {
    "duration": 8,
    "start_time": "2022-11-06T20:15:14.281Z"
   },
   {
    "duration": 6,
    "start_time": "2022-11-06T20:15:14.291Z"
   },
   {
    "duration": 27,
    "start_time": "2022-11-06T20:15:14.299Z"
   },
   {
    "duration": 26,
    "start_time": "2022-11-06T20:15:14.328Z"
   },
   {
    "duration": 3,
    "start_time": "2022-11-06T20:19:38.023Z"
   },
   {
    "duration": 11,
    "start_time": "2022-11-06T20:19:38.028Z"
   },
   {
    "duration": 104,
    "start_time": "2022-11-06T20:19:38.041Z"
   },
   {
    "duration": 44,
    "start_time": "2022-11-06T20:19:38.147Z"
   },
   {
    "duration": 15,
    "start_time": "2022-11-06T20:19:38.193Z"
   },
   {
    "duration": 16,
    "start_time": "2022-11-06T20:19:38.209Z"
   },
   {
    "duration": 4,
    "start_time": "2022-11-06T20:19:38.227Z"
   },
   {
    "duration": 12,
    "start_time": "2022-11-06T20:19:38.232Z"
   },
   {
    "duration": 15,
    "start_time": "2022-11-06T20:19:38.246Z"
   },
   {
    "duration": 11,
    "start_time": "2022-11-06T20:19:38.263Z"
   },
   {
    "duration": 16,
    "start_time": "2022-11-06T20:19:38.276Z"
   },
   {
    "duration": 29,
    "start_time": "2022-11-06T20:19:38.294Z"
   },
   {
    "duration": 14,
    "start_time": "2022-11-06T20:19:38.324Z"
   },
   {
    "duration": 20,
    "start_time": "2022-11-06T20:19:38.341Z"
   },
   {
    "duration": 16,
    "start_time": "2022-11-06T20:19:38.363Z"
   },
   {
    "duration": 3,
    "start_time": "2022-11-06T20:19:38.381Z"
   },
   {
    "duration": 9,
    "start_time": "2022-11-06T20:19:38.386Z"
   },
   {
    "duration": 7,
    "start_time": "2022-11-06T20:19:38.397Z"
   },
   {
    "duration": 24,
    "start_time": "2022-11-06T20:19:38.406Z"
   },
   {
    "duration": 5,
    "start_time": "2022-11-06T20:19:38.431Z"
   },
   {
    "duration": 7,
    "start_time": "2022-11-06T20:19:38.438Z"
   },
   {
    "duration": 6,
    "start_time": "2022-11-06T20:19:38.446Z"
   },
   {
    "duration": 15,
    "start_time": "2022-11-06T20:19:38.453Z"
   },
   {
    "duration": 12,
    "start_time": "2022-11-06T20:19:38.469Z"
   },
   {
    "duration": 43,
    "start_time": "2022-11-06T20:19:38.483Z"
   },
   {
    "duration": 4,
    "start_time": "2022-11-06T20:19:38.528Z"
   },
   {
    "duration": 7,
    "start_time": "2022-11-06T20:19:38.534Z"
   },
   {
    "duration": 10,
    "start_time": "2022-11-06T20:19:38.542Z"
   },
   {
    "duration": 24,
    "start_time": "2022-11-06T20:19:38.555Z"
   },
   {
    "duration": 4,
    "start_time": "2022-11-06T20:19:38.581Z"
   },
   {
    "duration": 5,
    "start_time": "2022-11-06T20:19:38.587Z"
   },
   {
    "duration": 30,
    "start_time": "2022-11-06T20:19:38.593Z"
   },
   {
    "duration": 19,
    "start_time": "2022-11-06T20:19:38.625Z"
   },
   {
    "duration": 14,
    "start_time": "2022-11-06T20:19:38.646Z"
   },
   {
    "duration": 20,
    "start_time": "2022-11-06T20:19:38.661Z"
   },
   {
    "duration": 16,
    "start_time": "2022-11-06T20:19:38.682Z"
   },
   {
    "duration": 8,
    "start_time": "2022-11-06T20:19:38.700Z"
   },
   {
    "duration": 13,
    "start_time": "2022-11-06T20:19:38.710Z"
   },
   {
    "duration": 4,
    "start_time": "2022-11-06T20:19:38.725Z"
   },
   {
    "duration": 9,
    "start_time": "2022-11-06T20:19:38.730Z"
   },
   {
    "duration": 7,
    "start_time": "2022-11-06T20:19:38.741Z"
   },
   {
    "duration": 4,
    "start_time": "2022-11-06T20:19:38.749Z"
   },
   {
    "duration": 7,
    "start_time": "2022-11-06T20:19:38.754Z"
   },
   {
    "duration": 6,
    "start_time": "2022-11-06T20:19:38.762Z"
   },
   {
    "duration": 14,
    "start_time": "2022-11-06T20:19:38.769Z"
   },
   {
    "duration": 43,
    "start_time": "2022-11-06T20:19:38.785Z"
   },
   {
    "duration": 8,
    "start_time": "2022-11-06T20:19:38.830Z"
   },
   {
    "duration": 10,
    "start_time": "2022-11-06T20:19:38.839Z"
   },
   {
    "duration": 12,
    "start_time": "2022-11-06T20:19:38.851Z"
   },
   {
    "duration": 13,
    "start_time": "2022-11-06T20:19:38.865Z"
   },
   {
    "duration": 16,
    "start_time": "2022-11-06T20:19:38.880Z"
   },
   {
    "duration": 20,
    "start_time": "2022-11-06T20:19:38.922Z"
   },
   {
    "duration": 17,
    "start_time": "2022-11-06T20:19:38.944Z"
   },
   {
    "duration": 10,
    "start_time": "2022-11-06T20:19:38.962Z"
   },
   {
    "duration": 8,
    "start_time": "2022-11-06T20:19:38.974Z"
   },
   {
    "duration": 15,
    "start_time": "2022-11-06T20:19:38.983Z"
   },
   {
    "duration": 28,
    "start_time": "2022-11-06T20:19:39.000Z"
   },
   {
    "duration": 26,
    "start_time": "2022-11-06T20:19:39.030Z"
   },
   {
    "duration": 25,
    "start_time": "2022-11-06T20:19:39.057Z"
   },
   {
    "duration": 12,
    "start_time": "2022-11-06T20:19:39.084Z"
   },
   {
    "duration": 10,
    "start_time": "2022-11-06T20:19:39.098Z"
   },
   {
    "duration": 18,
    "start_time": "2022-11-06T20:19:39.109Z"
   },
   {
    "duration": 12,
    "start_time": "2022-11-06T20:19:39.130Z"
   },
   {
    "duration": 16,
    "start_time": "2022-11-06T20:19:39.144Z"
   },
   {
    "duration": 35,
    "start_time": "2022-11-06T20:19:39.161Z"
   },
   {
    "duration": 138,
    "start_time": "2022-11-06T20:19:39.198Z"
   },
   {
    "duration": 28,
    "start_time": "2022-11-06T20:19:39.337Z"
   },
   {
    "duration": 6,
    "start_time": "2022-11-06T20:19:39.366Z"
   },
   {
    "duration": 5,
    "start_time": "2022-11-06T20:19:39.373Z"
   },
   {
    "duration": 9,
    "start_time": "2022-11-06T20:19:39.380Z"
   },
   {
    "duration": 55,
    "start_time": "2022-11-06T20:19:39.390Z"
   },
   {
    "duration": 28,
    "start_time": "2022-11-06T20:19:39.447Z"
   },
   {
    "duration": 46,
    "start_time": "2022-11-06T20:19:39.477Z"
   },
   {
    "duration": 28,
    "start_time": "2022-11-06T20:19:39.524Z"
   },
   {
    "duration": 31,
    "start_time": "2022-11-06T20:19:39.553Z"
   },
   {
    "duration": 47,
    "start_time": "2022-11-06T20:19:39.586Z"
   },
   {
    "duration": 25,
    "start_time": "2022-11-06T20:19:39.634Z"
   },
   {
    "duration": 19,
    "start_time": "2022-11-06T20:19:39.661Z"
   },
   {
    "duration": 42,
    "start_time": "2022-11-06T20:19:39.681Z"
   },
   {
    "duration": 5,
    "start_time": "2022-11-06T20:19:39.724Z"
   },
   {
    "duration": 20,
    "start_time": "2022-11-06T20:19:39.731Z"
   },
   {
    "duration": 5,
    "start_time": "2022-11-06T20:19:39.752Z"
   },
   {
    "duration": 4,
    "start_time": "2022-11-06T20:19:39.762Z"
   },
   {
    "duration": 14,
    "start_time": "2022-11-06T20:19:39.767Z"
   },
   {
    "duration": 884,
    "start_time": "2022-11-06T20:19:39.783Z"
   },
   {
    "duration": 20,
    "start_time": "2022-11-06T20:19:40.669Z"
   },
   {
    "duration": 34,
    "start_time": "2022-11-06T20:19:40.690Z"
   },
   {
    "duration": 11,
    "start_time": "2022-11-06T20:19:40.726Z"
   },
   {
    "duration": 5,
    "start_time": "2022-11-06T20:19:40.738Z"
   },
   {
    "duration": 6,
    "start_time": "2022-11-06T20:19:40.744Z"
   },
   {
    "duration": 9,
    "start_time": "2022-11-06T20:19:40.752Z"
   },
   {
    "duration": 7,
    "start_time": "2022-11-06T20:19:40.762Z"
   },
   {
    "duration": 7,
    "start_time": "2022-11-06T20:19:40.770Z"
   },
   {
    "duration": 7,
    "start_time": "2022-11-06T20:19:40.779Z"
   },
   {
    "duration": 6,
    "start_time": "2022-11-06T20:19:40.787Z"
   },
   {
    "duration": 10,
    "start_time": "2022-11-06T20:19:40.794Z"
   },
   {
    "duration": 100,
    "start_time": "2022-11-06T20:19:40.805Z"
   }
  ],
  "colab": {
   "name": "DA+. Сборный проект 1. Шаблон (1).ipynb",
   "provenance": []
  },
  "kernelspec": {
   "display_name": "Python 3 (ipykernel)",
   "language": "python",
   "name": "python3"
  },
  "language_info": {
   "codemirror_mode": {
    "name": "ipython",
    "version": 3
   },
   "file_extension": ".py",
   "mimetype": "text/x-python",
   "name": "python",
   "nbconvert_exporter": "python",
   "pygments_lexer": "ipython3",
   "version": "3.11.5"
  },
  "toc": {
   "base_numbering": 1,
   "nav_menu": {},
   "number_sections": true,
   "sideBar": true,
   "skip_h1_title": true,
   "title_cell": "Table of Contents",
   "title_sidebar": "Contents",
   "toc_cell": false,
   "toc_position": {
    "height": "calc(100% - 180px)",
    "left": "10px",
    "top": "150px",
    "width": "324.375px"
   },
   "toc_section_display": true,
   "toc_window_display": true
  }
 },
 "nbformat": 4,
 "nbformat_minor": 1
}
